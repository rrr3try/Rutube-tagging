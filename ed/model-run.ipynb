{
 "cells": [
  {
   "cell_type": "markdown",
   "id": "3e978593-6362-4169-b6a3-038c80dcfd95",
   "metadata": {},
   "source": [
    "## Импорты"
   ]
  },
  {
   "cell_type": "code",
   "execution_count": 1,
   "id": "c7bdd6d8-1316-4d74-abd9-207f918a73e5",
   "metadata": {},
   "outputs": [],
   "source": [
    "import numpy as np\n",
    "import pandas as pd\n",
    "import matplotlib.pyplot as plt\n",
    "import seaborn as sns\n",
    "\n",
    "import torch\n",
    "import torch.nn as nn\n",
    "import torchaudio\n",
    "\n",
    "import yt_dlp\n",
    "import subprocess\n",
    "\n",
    "import os\n",
    "import pickle\n",
    "import gc\n",
    "import json\n",
    "import locale\n",
    "import re\n",
    "import tqdm.notebook as tqdm\n",
    "from urllib.parse import urlparse\n",
    "import requests\n",
    "import math\n",
    "\n",
    "import av\n",
    "from huggingface_hub import hf_hub_download\n",
    "from typing import Callable\n",
    "\n",
    "from transformers import VivitImageProcessor, VivitModel\n",
    "from transformers import AutoImageProcessor, VideoMAEModel\n",
    "from transformers import TimesformerConfig, TimesformerModel\n",
    "from transformers import XCLIPProcessor, XCLIPModel\n",
    "from transformers import AutoModelForSpeechSeq2Seq, AutoProcessor\n",
    "from transformers import Wav2Vec2ForCTC, Wav2Vec2Processor\n",
    "from transformers import BitsAndBytesConfig, LlavaNextVideoForConditionalGeneration, LlavaNextVideoProcessor\n",
    "from transformers import AutoModelForSpeechSeq2Seq, AutoProcessor, pipeline\n",
    "\n",
    "import librosa\n",
    "from moviepy.editor import VideoFileClip\n",
    "import ast\n",
    "import openunmix\n",
    "\n",
    "from minio import Minio\n",
    "from minio.error import S3Error\n",
    "\n",
    "import hydra\n",
    "import soundfile as sf\n",
    "from omegaconf import OmegaConf\n",
    "\n",
    "import logging\n",
    "from typing import List\n",
    "\n",
    "import numpy as np\n",
    "from sklearn.cross_decomposition import PLSRegression\n",
    "from sklearn.preprocessing import StandardScaler, LabelBinarizer\n",
    "from sklearn.model_selection import train_test_split, StratifiedKFold, KFold\n",
    "from sklearn.metrics import accuracy_score, classification_report, confusion_matrix\n",
    "from sklearn.pipeline import make_pipeline\n",
    "from sklearn.neighbors import KNeighborsClassifier\n",
    "from metric_learn import NCA\n",
    "\n",
    "locale.getpreferredencoding = lambda: \"UTF-8\"\n",
    "\n",
    "logging.basicConfig(\n",
    "    filename='vivit_inference.log',\n",
    "    level=logging.INFO,\n",
    "    format='%(asctime)s - %(levelname)s - %(message)s'\n",
    ")"
   ]
  },
  {
   "cell_type": "markdown",
   "id": "a1c057b8-4ae5-4dcb-87b9-6395696b8f24",
   "metadata": {},
   "source": [
    "Константы"
   ]
  },
  {
   "cell_type": "code",
   "execution_count": 2,
   "id": "79f4074a-a223-4007-aafd-bd3e3ce2a4cb",
   "metadata": {},
   "outputs": [],
   "source": [
    "CATEGORIES_ENG = \"\"\"Auto-moto,\n",
    "Anime,\n",
    "Audiobooks,\n",
    "Business,\n",
    "Video games,\n",
    "Interview,\n",
    "Art,\n",
    "Movie,\n",
    "Beauty,\n",
    "Cooking,\n",
    "Life Hacks,\n",
    "Music,\n",
    "Cartoons,\n",
    "News,\n",
    "Training,\n",
    "Hunting and fishing,\n",
    "Politics,\n",
    "Psychology,\n",
    "Journeys,\n",
    "Serials,\n",
    "Sport,\n",
    "Humor,\n",
    "Lifestyle,\n",
    "Realty,\n",
    "Health,\n",
    "Nature,\n",
    "Design,\n",
    "Machinery and equipment,\n",
    "Business and entrepreneurship,\n",
    "Culture,\n",
    "Religion,\n",
    "Construction and renovation,\n",
    "Garden and vegetable garden,\n",
    "Food,\n",
    "Entertainment,\n",
    "Esotericism,\n",
    "The science,\n",
    "Audio,\n",
    "Technology and the Internet,\n",
    "TV shows,\n",
    "For children,\n",
    "Hobby,\n",
    "Various,\n",
    "Animals,\n",
    "News and media,\n",
    "Films,\n",
    "Bloggers,\n",
    "\"\"\"\n",
    "\n",
    "CATEGORIES_RUS = \"\"\"\n",
    "Авто-мото\n",
    "Аниме\n",
    "Аудиокниги\n",
    "Бизнес\n",
    "Видеоигры\n",
    "Интервью\n",
    "Искусство\n",
    "Кино\n",
    "Красота\n",
    "Кулинария\n",
    "Лайфхаки\n",
    "Музыка\n",
    "Мультфильмы\n",
    "Новости\n",
    "Обучение\n",
    "Охота_и_рыбалка\n",
    "Политика\n",
    "Психология\n",
    "Путешествия\n",
    "Сериалы\n",
    "Спорт\n",
    "Юмор\n",
    "Лайфстайл\n",
    "Недвижимость\n",
    "Здоровье\n",
    "Природа\n",
    "Дизайн\n",
    "Техника_и_оборудование\n",
    "Бизнес_и_предпринимательство\n",
    "Культура\n",
    "Религия\n",
    "Строительство_и_ремонт\n",
    "Сад_и_огород\n",
    "Еда\n",
    "Развлечения\n",
    "Эзотерика\n",
    "Наука\n",
    "Аудио\n",
    "Технологии_и_интернет\n",
    "Телепередачи\n",
    "Детям\n",
    "Хобби\n",
    "Разное\n",
    "Животные\n",
    "Новости_и_СМИ\n",
    "Фильмы\n",
    "Блогеры\n",
    "\"\"\"\n",
    "\n",
    "\n",
    "RUS_TEXT_PROMPT = [\n",
    "    f\"Видео принадлежит категории '{x}'\" for x in CATEGORIES_RUS.split() if x.strip() != ''\n",
    "]\n",
    "ENG_TEXT_PROMPT = [\n",
    "    f\"Video belongs to category '{x}'\" for x in CATEGORIES_ENG.split(',\\n') if x.strip() != ''\n",
    "]"
   ]
  },
  {
   "cell_type": "markdown",
   "id": "6323d233-6664-4d82-9e01-3656e9b596ad",
   "metadata": {},
   "source": [
    "## Вспомогательный код"
   ]
  },
  {
   "cell_type": "code",
   "execution_count": 3,
   "id": "ad269fc7-426e-40bc-830c-fbc65681c0e2",
   "metadata": {},
   "outputs": [],
   "source": [
    "client = Minio(\n",
    "    endpoint=\"storage.yandexcloud.net\",\n",
    "    access_key=\"YCAJESQqZUja9X-F1glArEPSY\",\n",
    "    secret_key=\"YCP6M_QUdKUF1XBlgz_hOWAlTkcMbnEUyLG5hsQv\",\n",
    ")\n",
    "\n",
    "BUCKET_NAME = \"rutube-tagging\"\n",
    "\n",
    "\n",
    "def list_files_in_bucket(bucket_name=BUCKET_NAME):\n",
    "    \"\"\"\n",
    "    List all files in the S3 bucket.\n",
    "    \"\"\"\n",
    "    try:\n",
    "        objects = client.list_objects(bucket_name)\n",
    "        for obj in objects:\n",
    "            print(obj.object_name)\n",
    "    except S3Error as e:\n",
    "        print(f\"Error listing objects in bucket: {e}\")\n",
    "\n",
    "\n",
    "def download_video_from_s3_url(url, output_directory='.'):\n",
    "    \"\"\"\n",
    "    Downloads a video from an S3-compatible URL using the MinIO client.\n",
    "    \n",
    "    :param url: The S3 URL of the video to download.\n",
    "    :param output_directory: The directory where the video will be saved.\n",
    "    \"\"\"\n",
    "    try:\n",
    "        # Parse the URL to extract bucket and object name\n",
    "        parsed_url = urlparse(url)\n",
    "        path_parts = parsed_url.path.lstrip('/').split('/', 1)\n",
    "        \n",
    "        if len(path_parts) != 2:\n",
    "            raise ValueError(\"URL does not contain both bucket and object name.\")\n",
    "        \n",
    "        bucket_name, object_name = path_parts\n",
    "        \n",
    "        # Ensure the output directory exists\n",
    "        os.makedirs(output_directory, exist_ok=True)\n",
    "        \n",
    "        # Define the local file path\n",
    "        filename = os.path.basename(object_name)\n",
    "        local_file_path = os.path.join(output_directory, filename)\n",
    "        \n",
    "        print(f\"Starting download of {url} using MinIO client...\")\n",
    "        \n",
    "        # Download the object\n",
    "        client.fget_object(\n",
    "            bucket_name, object_name, local_file_path\n",
    "        )\n",
    "        \n",
    "        print(f\"Download completed. Saved to {local_file_path}\")\n",
    "    \n",
    "    except S3Error as e:\n",
    "        print(f\"S3 error occurred: {e}\")\n",
    "    except Exception as e:\n",
    "        print(f\"An error occurred: {e}\")\n",
    "\n",
    "\n",
    "def download_video_from_url(url, output_directory='.'):\n",
    "    \"\"\"\n",
    "    Downloads a video from the given URL to the specified output directory.\n",
    "    \n",
    "    :param url: The URL of the video to download.\n",
    "    :param output_directory: The directory where the video will be saved.\n",
    "    \"\"\"\n",
    "    try:\n",
    "        # Ensure the output directory exists\n",
    "        os.makedirs(output_directory, exist_ok=True)\n",
    "        \n",
    "        # Extract the filename from the URL\n",
    "        filename = os.path.basename(url)\n",
    "        local_file_path = os.path.join(output_directory, filename)\n",
    "        \n",
    "        print(f\"Starting download of {url}...\")\n",
    "        \n",
    "        # Stream the download to handle large files\n",
    "        with requests.get(url, stream=True) as response:\n",
    "            response.raise_for_status()  # Check for HTTP errors\n",
    "            with open(local_file_path, 'wb') as f:\n",
    "                for chunk in tqdm.tqdm(response.iter_content(chunk_size=8192)):\n",
    "                    if chunk:  # Filter out keep-alive chunks\n",
    "                        f.write(chunk)\n",
    "        \n",
    "        print(f\"Download completed. Saved to {local_file_path}\")\n",
    "    \n",
    "    except requests.exceptions.HTTPError as http_err:\n",
    "        print(f\"HTTP error occurred while downloading {url}: {http_err}\")\n",
    "    except Exception as err:\n",
    "        print(f\"An error occurred while downloading {url}: {err}\")"
   ]
  },
  {
   "cell_type": "code",
   "execution_count": 4,
   "id": "d3621451-7d25-4808-b085-e54ac8e4fba9",
   "metadata": {},
   "outputs": [],
   "source": [
    "np.random.seed(0)\n",
    "torch.manual_seed(0)\n",
    "\n",
    "\n",
    "def get_model_params_count(model):\n",
    "    return sum(p.numel() for p in model.parameters() if p.requires_grad)\n",
    "\n",
    "\n",
    "def sample_frame_indices(desired_frames: int, frame_sample_rate: int, total_frames: int) -> np.ndarray:\n",
    "    indices = np.arange(0, frame_sample_rate*desired_frames, frame_sample_rate)\n",
    "    if indices[-1] >= total_frames:\n",
    "        indices = np.clip(indices, 0, total_frames-1)\n",
    "\n",
    "    return indices\n",
    "\n",
    "\n",
    "def read_video_pyav(container: av.container.input.InputContainer, indices: List[int]) -> np.ndarray:\n",
    "    from collections import Counter\n",
    "    \n",
    "    frames = []\n",
    "    container.seek(0)\n",
    "    indices_dct = Counter(indices)\n",
    "    \n",
    "    max_idx = indices[-1]\n",
    "    \n",
    "    for i, frame in enumerate(container.decode(video=0)):\n",
    "        if i > max_idx:\n",
    "            break\n",
    "        \n",
    "        if i in indices_dct:\n",
    "            while indices_dct[i] > 0:\n",
    "                frames.append(frame)\n",
    "                indices_dct[i] -= 1\n",
    "    \n",
    "    return np.stack([x.to_ndarray(format=\"rgb24\") for x in frames])\n",
    "\n",
    "\n",
    "def process_video(\n",
    "    video_path: str, \n",
    "    image_processor, \n",
    "    model,\n",
    "    device: str = 'cuda',\n",
    "    desired_frames: int = 96,\n",
    "    window_size: int = 32,\n",
    "    xclip_text_prompt: list = RUS_TEXT_PROMPT\n",
    ") -> torch.Tensor:\n",
    "    \"\"\"\n",
    "    Processes a Rutube video: extracts the first two minutes, samples 96 frames,\n",
    "    and returns the ViViT model's output.\n",
    "\n",
    "    :param video_path: Path to the video file.\n",
    "    :param window_size: Size of each window for ViViT.\n",
    "    :return: Model's output tensor.\n",
    "    \"\"\"\n",
    "    assert desired_frames % window_size == 0\n",
    "    \n",
    "    try:\n",
    "        # Open video with PyAV\n",
    "        container = av.open(video_path)\n",
    "        video_stream = container.streams.video[0]\n",
    "        \n",
    "        # Get total frames\n",
    "        total_frames = video_stream.frames\n",
    "        if total_frames == 0:\n",
    "            duration = float(video_stream.duration * video_stream.time_base)\n",
    "            fps = float(video_stream.average_rate)\n",
    "            total_frames = int(duration * fps)\n",
    "        else:\n",
    "            fps = float(video_stream.average_rate)\n",
    "            duration = float(video_stream.duration * video_stream.time_base)\n",
    "        \n",
    "        # Determine target duration (first minute or actual duration)\n",
    "        target_duration = min(60, duration)  # seconds\n",
    "        \n",
    "        # Calculate frame_sample_rate and frame indices, read sampled frames\n",
    "        frame_sample_rate = max(1, int(math.floor((fps * target_duration) / desired_frames)))\n",
    "        indices = sample_frame_indices(desired_frames, frame_sample_rate, total_frames)\n",
    "        video_frames = read_video_pyav(container, indices)\n",
    "        \n",
    "        if len(video_frames) == 0:\n",
    "            raise ValueError(\"No frames were extracted from the video.\")\n",
    "        \n",
    "        # Process inputs with image_processor\n",
    "        if isinstance(model, XCLIPModel):\n",
    "            inputs = image_processor(\n",
    "                text=xclip_text_prompt,\n",
    "                videos=list(video_frames),\n",
    "                return_tensors=\"pt\",\n",
    "                padding=True,\n",
    "                max_length=1024\n",
    "            )\n",
    "        else:\n",
    "            inputs = image_processor(\n",
    "                list(video_frames),\n",
    "                return_tensors=\"pt\",\n",
    "                padding=True\n",
    "            )\n",
    "        inputs['pixel_values'] = torch.concat(torch.split(inputs['pixel_values'], window_size, dim=1))\n",
    "        inputs = {k: v.to(device) for k, v in inputs.items()}\n",
    "\n",
    "        # Forward pass\n",
    "        with torch.no_grad():\n",
    "            outputs = model(**inputs)\n",
    "        \n",
    "        # Extract desired output\n",
    "        if hasattr(outputs, 'pooler_output'):\n",
    "            output = outputs.pooler_output.mean(dim=0).cpu()\n",
    "            return output\n",
    "        elif hasattr(outputs, 'last_hidden_state'):\n",
    "            output = outputs.last_hidden_state.mean(dim=[0, 1]).cpu()\n",
    "            return output\n",
    "        elif isinstance(model, XCLIPModel):\n",
    "            probs = outputs.logits_per_video.cpu().squeeze().softmax(dim=-1)\n",
    "            video_emb = outputs.video_embeds.cpu().squeeze()\n",
    "            return video_emb, probs\n",
    "        else:\n",
    "            raise AttributeError(\"Model output does not contain 'pooler_output' or 'last_hidden_state'.\")\n",
    "        \n",
    "        return output\n",
    "\n",
    "    except Exception as e:\n",
    "        logging.error(f\"Unexpected error: {e}\")\n",
    "        print(\"An unexpected error occurred:\")\n",
    "        print(e)\n",
    "\n",
    "\n",
    "def instantiate_model(model_name: str, device: str = 'cuda'):\n",
    "    if model_name == 'vivit':\n",
    "        model = VivitModel.from_pretrained(\"models/vivit_model\")\n",
    "        image_processor = VivitImageProcessor.from_pretrained(\"models/vivit_image_processor\")\n",
    "        window_size = 32\n",
    "    elif model_name == 'timesformer':\n",
    "        model = TimesformerModel.from_pretrained(\"models/timesformer_model\")\n",
    "        image_processor = AutoImageProcessor.from_pretrained(\"models/timesformer_image_processor\")\n",
    "        window_size = 8\n",
    "    elif model_name == 'videomae':\n",
    "        model = VideoMAEModel.from_pretrained(\"models/videomae_model\")\n",
    "        image_processor = AutoImageProcessor.from_pretrained(\"models/videomae_image_processor\")\n",
    "        window_size = 16\n",
    "    elif model_name == 'x-clip':\n",
    "        model = XCLIPModel.from_pretrained(\"models/xclip_model\")\n",
    "        image_processor = XCLIPProcessor.from_pretrained(\"models/xclip_image_processor\")\n",
    "        window_size = 32\n",
    "    else:\n",
    "        raise ValueError(f\"{model_name} is not supported, should be in ('vivit', 'timesformer', 'videomae', 'x-clip')\")\n",
    "\n",
    "    \n",
    "    model = model.to(device)\n",
    "    model.eval()\n",
    "\n",
    "    return model, image_processor, window_size"
   ]
  },
  {
   "cell_type": "markdown",
   "id": "2bda6f77-ac5b-4db2-b25c-3d83842f0858",
   "metadata": {},
   "source": [
    "## Calculate embeddings"
   ]
  },
  {
   "cell_type": "markdown",
   "id": "db5bb02d-963e-494b-968e-3ef4d0517d3f",
   "metadata": {},
   "source": [
    "### Save storage"
   ]
  },
  {
   "cell_type": "code",
   "execution_count": 5,
   "id": "48dff4c2-07d8-4692-adad-48625d224d9a",
   "metadata": {},
   "outputs": [],
   "source": [
    "class EmbeddingStorage:\n",
    "    def __init__(self, labels=None, filenames=None, embeddings=None):\n",
    "        \"\"\"\n",
    "        Initialize the EmbeddingStorage class.\n",
    "        \n",
    "        Args:\n",
    "            labels (list or np.ndarray): An array of labels for the embeddings.\n",
    "            filenames (list or np.ndarray): An array of filenames associated with the embeddings.\n",
    "            embeddings (np.ndarray): A NumPy array containing all embeddings.\n",
    "        \"\"\"\n",
    "        self.labels = np.array(labels) if labels is not None else np.array([])\n",
    "        self.filenames = np.array(filenames) if filenames is not None else np.array([])\n",
    "        self.embeddings = np.array(embeddings) if embeddings is not None else np.empty((0,))\n",
    "\n",
    "    def add_embedding(self, label, filename, embedding):\n",
    "        \"\"\"\n",
    "        Add a new embedding, along with its label and filename.\n",
    "        \n",
    "        Args:\n",
    "            label (int or str): The label of the embedding.\n",
    "            filename (str): The filename associated with the embedding.\n",
    "            embedding (np.ndarray or torch.Tensor): The embedding to add (can be a NumPy array or Tensor).\n",
    "        \"\"\"\n",
    "        if isinstance(embedding, np.ndarray):\n",
    "            emb_array = embedding\n",
    "        else:\n",
    "            # Convert torch.Tensor to NumPy\n",
    "            emb_array = embedding.cpu().numpy()\n",
    "        \n",
    "        # Append the new data\n",
    "        self.labels = np.append(self.labels, label)\n",
    "        self.filenames = np.append(self.filenames, filename)\n",
    "        \n",
    "        if self.embeddings.size == 0:\n",
    "            self.embeddings = emb_array.reshape(1, -1)\n",
    "        else:\n",
    "            self.embeddings = np.vstack([self.embeddings, emb_array])\n",
    "\n",
    "    def save_to_file(self, file_path):\n",
    "        \"\"\"\n",
    "        Save the embeddings, labels, and filenames to a file (as .npz).\n",
    "        \n",
    "        Args:\n",
    "            file_path (str): The path to save the .npz file.\n",
    "        \"\"\"\n",
    "        np.savez(file_path, labels=self.labels, filenames=self.filenames, embeddings=self.embeddings)\n",
    "\n",
    "    @classmethod\n",
    "    def load_from_file(cls, file_path):\n",
    "        \"\"\"\n",
    "        Load embeddings, labels, and filenames from a saved .npz file.\n",
    "        \n",
    "        Args:\n",
    "            file_path (str): The path to the .npz file to load.\n",
    "        \n",
    "        Returns:\n",
    "            EmbeddingStorage: An instance of EmbeddingStorage with loaded data.\n",
    "        \"\"\"\n",
    "        data = np.load(file_path)\n",
    "        return cls(labels=data['labels'], filenames=data['filenames'], embeddings=data['embeddings'])\n",
    "\n",
    "    def get_embedding_by_filename(self, filename):\n",
    "        \"\"\"\n",
    "        Retrieve an embedding by its associated filename.\n",
    "        \n",
    "        Args:\n",
    "            filename (str): The filename to search for.\n",
    "        \n",
    "        Returns:\n",
    "            np.ndarray: The corresponding embedding or None if not found.\n",
    "        \"\"\"\n",
    "        if filename in self.filenames:\n",
    "            idx = np.where(self.filenames == filename)[0][0]\n",
    "            return self.embeddings[idx]\n",
    "        else:\n",
    "            return None\n",
    "\n",
    "    def join_on_videoname(self, other_storage):\n",
    "        \"\"\"\n",
    "        Join two EmbeddingStorage objects on the 'videoname' (filename). The embeddings will be stored as tuples.\n",
    "        \n",
    "        Args:\n",
    "            other_storage (EmbeddingStorage): Another EmbeddingStorage object to join with.\n",
    "        \n",
    "        Returns:\n",
    "            EmbeddingStorage: A new EmbeddingStorage object with merged data (embedding tuples).\n",
    "        \"\"\"\n",
    "        # Find common filenames\n",
    "        common_filenames = np.intersect1d(self.filenames, other_storage.filenames)\n",
    "        \n",
    "        # Initialize lists to store merged data\n",
    "        merged_labels = []\n",
    "        merged_filenames = []\n",
    "        merged_embeddings = []\n",
    "        \n",
    "        for filename in common_filenames:\n",
    "            # Get embeddings for the common filename from both storages\n",
    "            idx_self = np.where(self.filenames == filename)[0][0]\n",
    "            idx_other = np.where(other_storage.filenames == filename)[0][0]\n",
    "            \n",
    "            emb_self = self.embeddings[idx_self]\n",
    "            emb_other = other_storage.embeddings[idx_other]\n",
    "            \n",
    "            # Store embeddings as a tuple\n",
    "            merged_embedding = (emb_self, emb_other)\n",
    "            \n",
    "            # Get the label from the first storage (could be changed based on use case)\n",
    "            merged_label = self.labels[idx_self]\n",
    "            \n",
    "            # Append to the merged data\n",
    "            merged_labels.append(merged_label)\n",
    "            merged_filenames.append(filename)\n",
    "            merged_embeddings.append(merged_embedding)\n",
    "        \n",
    "        # Convert lists to numpy arrays\n",
    "        merged_labels = np.array(merged_labels)\n",
    "        merged_filenames = np.array(merged_filenames)\n",
    "        merged_embeddings = np.array(merged_embeddings, dtype=object)\n",
    "        \n",
    "        # Return a new EmbeddingStorage instance with merged data\n",
    "        return EmbeddingStorage(labels=merged_labels, filenames=merged_filenames, embeddings=merged_embeddings)\n",
    "\n",
    "    def __len__(self):\n",
    "        \"\"\"\n",
    "        Return the number of embeddings stored.\n",
    "        \"\"\"\n",
    "        return len(self.labels)\n",
    "\n",
    "    def __getitem__(self, idx):\n",
    "        \"\"\"\n",
    "        Retrieve the label, filename, and embedding by index.\n",
    "        \n",
    "        Args:\n",
    "            idx (int): The index of the embedding to retrieve.\n",
    "        \n",
    "        Returns:\n",
    "            tuple: A tuple containing (label, filename, embedding).\n",
    "        \"\"\"\n",
    "        if idx >= len(self.labels):\n",
    "            raise IndexError(\"Index out of range\")\n",
    "        return self.labels[idx], self.filenames[idx], self.embeddings[idx]\n",
    "\n",
    "    def __repr__(self):\n",
    "        return f\"EmbeddingStorage(labels={len(self.labels)}, filenames={len(self.filenames)}, embeddings_shape={self.embeddings.shape})\""
   ]
  },
  {
   "cell_type": "markdown",
   "id": "7f3dd282-3ab2-4960-93d8-e97931679d1f",
   "metadata": {},
   "source": [
    "### Video"
   ]
  },
  {
   "cell_type": "code",
   "execution_count": 6,
   "id": "0854b556-7c6e-4efe-be40-28fb2ea7483d",
   "metadata": {},
   "outputs": [],
   "source": [
    "if 'mapping_df' in locals():\n",
    "    del mapping_df\n",
    "\n",
    "mapping_df = pd.read_csv('scraped_dataset.csv')"
   ]
  },
  {
   "cell_type": "markdown",
   "id": "8837ca96-65ef-42b4-85e8-033cc43949c4",
   "metadata": {
    "jp-MarkdownHeadingCollapsed": true
   },
   "source": [
    "#### Upload rest of the videos"
   ]
  },
  {
   "cell_type": "code",
   "execution_count": 156,
   "id": "1cdcad1e-3e24-4ff4-90b1-16fc2937daef",
   "metadata": {},
   "outputs": [
    {
     "name": "stdout",
     "output_type": "stream",
     "text": [
      "19.0_serials 6\n",
      "embeddings 1\n",
      "45.0_various 0\n",
      "42.0_tv shows 1\n"
     ]
    }
   ],
   "source": [
    "import os\n",
    "\n",
    "\n",
    "data_dir = './data/'\n",
    "directory = os.fsencode(data_dir)\n",
    "    \n",
    "for file in os.listdir(directory):\n",
    "    filename = os.fsdecode(file)\n",
    "    fullpath = os.path.join(data_dir, filename)\n",
    "\n",
    "    if os.path.isdir(fullpath):\n",
    "        if len(os.listdir(fullpath)) <= 6:\n",
    "            print(filename, len(os.listdir(fullpath)))"
   ]
  },
  {
   "cell_type": "code",
   "execution_count": 155,
   "id": "cdc1a26f-71c0-4823-9663-308e4a073f6c",
   "metadata": {},
   "outputs": [
    {
     "data": {
      "application/vnd.jupyter.widget-view+json": {
       "model_id": "68744c15450d49dfaf1acc6c47337b70",
       "version_major": 2,
       "version_minor": 0
      },
      "text/plain": [
       "  0%|          | 0/7 [00:00<?, ?it/s]"
      ]
     },
     "metadata": {},
     "output_type": "display_data"
    },
    {
     "name": "stdout",
     "output_type": "stream",
     "text": [
      "Starting download of https://storage.yandexcloud.net/rutube-tagging/706ad097359f7cc6d007701d551b7679.mp4...\n"
     ]
    },
    {
     "data": {
      "application/vnd.jupyter.widget-view+json": {
       "model_id": "762d18d6651c465fa6123ae8fe52516d",
       "version_major": 2,
       "version_minor": 0
      },
      "text/plain": [
       "0it [00:00, ?it/s]"
      ]
     },
     "metadata": {},
     "output_type": "display_data"
    },
    {
     "name": "stdout",
     "output_type": "stream",
     "text": [
      "Download completed. Saved to ./data/7.0_movie/706ad097359f7cc6d007701d551b7679.mp4\n",
      "Starting download of https://storage.yandexcloud.net/rutube-tagging/2e1ecf3e724fa17ab80c1bab94f4f7cf.mp4...\n"
     ]
    },
    {
     "data": {
      "application/vnd.jupyter.widget-view+json": {
       "model_id": "bad275178f3c432e932a1bd40ce09c04",
       "version_major": 2,
       "version_minor": 0
      },
      "text/plain": [
       "0it [00:00, ?it/s]"
      ]
     },
     "metadata": {},
     "output_type": "display_data"
    },
    {
     "name": "stdout",
     "output_type": "stream",
     "text": [
      "Download completed. Saved to ./data/7.0_movie/2e1ecf3e724fa17ab80c1bab94f4f7cf.mp4\n",
      "Starting download of https://storage.yandexcloud.net/rutube-tagging/b32a625ab469910d422d362112c0f659.mp4...\n"
     ]
    },
    {
     "data": {
      "application/vnd.jupyter.widget-view+json": {
       "model_id": "e20c6e075c704bffb846de1920274670",
       "version_major": 2,
       "version_minor": 0
      },
      "text/plain": [
       "0it [00:00, ?it/s]"
      ]
     },
     "metadata": {},
     "output_type": "display_data"
    },
    {
     "name": "stdout",
     "output_type": "stream",
     "text": [
      "Download completed. Saved to ./data/7.0_movie/b32a625ab469910d422d362112c0f659.mp4\n",
      "Starting download of https://storage.yandexcloud.net/rutube-tagging/37cf3b59bf1037d482dcd152725739a5.mp4...\n"
     ]
    },
    {
     "data": {
      "application/vnd.jupyter.widget-view+json": {
       "model_id": "4cf012db1890493d94586dc9ee27ed45",
       "version_major": 2,
       "version_minor": 0
      },
      "text/plain": [
       "0it [00:00, ?it/s]"
      ]
     },
     "metadata": {},
     "output_type": "display_data"
    },
    {
     "name": "stdout",
     "output_type": "stream",
     "text": [
      "Download completed. Saved to ./data/7.0_movie/37cf3b59bf1037d482dcd152725739a5.mp4\n",
      "Starting download of https://storage.yandexcloud.net/rutube-tagging/2a80727d7775e95da024c6649cf77ff4.mp4...\n"
     ]
    },
    {
     "data": {
      "application/vnd.jupyter.widget-view+json": {
       "model_id": "facc4ac77a554882b4cfd5a27fd50650",
       "version_major": 2,
       "version_minor": 0
      },
      "text/plain": [
       "0it [00:00, ?it/s]"
      ]
     },
     "metadata": {},
     "output_type": "display_data"
    },
    {
     "name": "stdout",
     "output_type": "stream",
     "text": [
      "Download completed. Saved to ./data/7.0_movie/2a80727d7775e95da024c6649cf77ff4.mp4\n",
      "Starting download of https://storage.yandexcloud.net/rutube-tagging/7e2fec947c047fbdd5ee34196dc26a83.mp4...\n"
     ]
    },
    {
     "data": {
      "application/vnd.jupyter.widget-view+json": {
       "model_id": "135e68a0674f4e50ae4e410d36e1dc15",
       "version_major": 2,
       "version_minor": 0
      },
      "text/plain": [
       "0it [00:00, ?it/s]"
      ]
     },
     "metadata": {},
     "output_type": "display_data"
    },
    {
     "name": "stdout",
     "output_type": "stream",
     "text": [
      "Download completed. Saved to ./data/29.0_design/7e2fec947c047fbdd5ee34196dc26a83.mp4\n",
      "Starting download of https://storage.yandexcloud.net/rutube-tagging/1c09f1decadc5696e91700730fb2f85d.mp4...\n"
     ]
    },
    {
     "data": {
      "application/vnd.jupyter.widget-view+json": {
       "model_id": "b266b38283ee4be2b8927fc1377bf42c",
       "version_major": 2,
       "version_minor": 0
      },
      "text/plain": [
       "0it [00:00, ?it/s]"
      ]
     },
     "metadata": {},
     "output_type": "display_data"
    },
    {
     "name": "stdout",
     "output_type": "stream",
     "text": [
      "Download completed. Saved to ./data/46.0_animals/1c09f1decadc5696e91700730fb2f85d.mp4\n",
      "Starting download of https://storage.yandexcloud.net/rutube-tagging/e7fb421c213fa05a74779d8b79a55070.mp4...\n"
     ]
    },
    {
     "data": {
      "application/vnd.jupyter.widget-view+json": {
       "model_id": "bb2d66ee2be14ba79d2ee725355bb8de",
       "version_major": 2,
       "version_minor": 0
      },
      "text/plain": [
       "0it [00:00, ?it/s]"
      ]
     },
     "metadata": {},
     "output_type": "display_data"
    },
    {
     "name": "stdout",
     "output_type": "stream",
     "text": [
      "Download completed. Saved to ./data/5.0_interview/e7fb421c213fa05a74779d8b79a55070.mp4\n",
      "Starting download of https://storage.yandexcloud.net/rutube-tagging/56fdf9fab27b203aff343e69451405a1.mp4...\n"
     ]
    },
    {
     "data": {
      "application/vnd.jupyter.widget-view+json": {
       "model_id": "295e9686d93049fbad68898981022ecc",
       "version_major": 2,
       "version_minor": 0
      },
      "text/plain": [
       "0it [00:00, ?it/s]"
      ]
     },
     "metadata": {},
     "output_type": "display_data"
    },
    {
     "name": "stdout",
     "output_type": "stream",
     "text": [
      "Download completed. Saved to ./data/5.0_interview/56fdf9fab27b203aff343e69451405a1.mp4\n",
      "Starting download of https://storage.yandexcloud.net/rutube-tagging/bf67ce3c647370f8d513ca28dfaecff8.mp4...\n"
     ]
    },
    {
     "data": {
      "application/vnd.jupyter.widget-view+json": {
       "model_id": "8825eb6bda1341f0bc0c3294d1e1d224",
       "version_major": 2,
       "version_minor": 0
      },
      "text/plain": [
       "0it [00:00, ?it/s]"
      ]
     },
     "metadata": {},
     "output_type": "display_data"
    },
    {
     "name": "stdout",
     "output_type": "stream",
     "text": [
      "Download completed. Saved to ./data/5.0_interview/bf67ce3c647370f8d513ca28dfaecff8.mp4\n",
      "Starting download of https://storage.yandexcloud.net/rutube-tagging/dbf3b7dba2d74659c299746899406cd0.mp4...\n"
     ]
    },
    {
     "data": {
      "application/vnd.jupyter.widget-view+json": {
       "model_id": "704cf22a9d9e4091b16bfe713a3a344d",
       "version_major": 2,
       "version_minor": 0
      },
      "text/plain": [
       "0it [00:00, ?it/s]"
      ]
     },
     "metadata": {},
     "output_type": "display_data"
    },
    {
     "name": "stdout",
     "output_type": "stream",
     "text": [
      "Download completed. Saved to ./data/5.0_interview/dbf3b7dba2d74659c299746899406cd0.mp4\n",
      "Starting download of https://storage.yandexcloud.net/rutube-tagging/cd29049f5b1c065d5f59e223462c83ba.mp4...\n"
     ]
    },
    {
     "data": {
      "application/vnd.jupyter.widget-view+json": {
       "model_id": "72dc261a12f04c178f1402b1759c26a4",
       "version_major": 2,
       "version_minor": 0
      },
      "text/plain": [
       "0it [00:00, ?it/s]"
      ]
     },
     "metadata": {},
     "output_type": "display_data"
    },
    {
     "name": "stdout",
     "output_type": "stream",
     "text": [
      "Download completed. Saved to ./data/5.0_interview/cd29049f5b1c065d5f59e223462c83ba.mp4\n",
      "Starting download of https://storage.yandexcloud.net/rutube-tagging/5a50148a275752f6dd325e22a2ce6de3.mp4...\n"
     ]
    },
    {
     "data": {
      "application/vnd.jupyter.widget-view+json": {
       "model_id": "89d805e8633e4313afd6e08141138a62",
       "version_major": 2,
       "version_minor": 0
      },
      "text/plain": [
       "0it [00:00, ?it/s]"
      ]
     },
     "metadata": {},
     "output_type": "display_data"
    },
    {
     "name": "stdout",
     "output_type": "stream",
     "text": [
      "Download completed. Saved to ./data/5.0_interview/5a50148a275752f6dd325e22a2ce6de3.mp4\n",
      "Starting download of https://storage.yandexcloud.net/rutube-tagging/b982617423683652656ccb0715157d8a.mp4...\n"
     ]
    },
    {
     "data": {
      "application/vnd.jupyter.widget-view+json": {
       "model_id": "bd4f3165747c4576a7fc3fe1e444ea81",
       "version_major": 2,
       "version_minor": 0
      },
      "text/plain": [
       "0it [00:00, ?it/s]"
      ]
     },
     "metadata": {},
     "output_type": "display_data"
    },
    {
     "name": "stdout",
     "output_type": "stream",
     "text": [
      "Download completed. Saved to ./data/5.0_interview/b982617423683652656ccb0715157d8a.mp4\n",
      "Starting download of https://storage.yandexcloud.net/rutube-tagging/8f43be0a7ec2fe5eb8c43981521b025d.mp4...\n"
     ]
    },
    {
     "data": {
      "application/vnd.jupyter.widget-view+json": {
       "model_id": "7271dbc4b90e4e7da5e4bcbe4d832a3a",
       "version_major": 2,
       "version_minor": 0
      },
      "text/plain": [
       "0it [00:00, ?it/s]"
      ]
     },
     "metadata": {},
     "output_type": "display_data"
    },
    {
     "name": "stdout",
     "output_type": "stream",
     "text": [
      "Download completed. Saved to ./data/35.0_garden and vegetable garden/8f43be0a7ec2fe5eb8c43981521b025d.mp4\n",
      "Starting download of https://storage.yandexcloud.net/rutube-tagging/74a8124af5c356afa01ac5311a2ebdca.mp4...\n"
     ]
    },
    {
     "data": {
      "application/vnd.jupyter.widget-view+json": {
       "model_id": "2bd3bfba3ad34e24920aca13030abb7d",
       "version_major": 2,
       "version_minor": 0
      },
      "text/plain": [
       "0it [00:00, ?it/s]"
      ]
     },
     "metadata": {},
     "output_type": "display_data"
    },
    {
     "name": "stdout",
     "output_type": "stream",
     "text": [
      "Download completed. Saved to ./data/35.0_garden and vegetable garden/74a8124af5c356afa01ac5311a2ebdca.mp4\n",
      "Starting download of https://storage.yandexcloud.net/rutube-tagging/1fe3c8798c93a1836580941cd386bebd.mp4...\n"
     ]
    },
    {
     "data": {
      "application/vnd.jupyter.widget-view+json": {
       "model_id": "32d203f1a7274078abb0eac0e06c7814",
       "version_major": 2,
       "version_minor": 0
      },
      "text/plain": [
       "0it [00:00, ?it/s]"
      ]
     },
     "metadata": {},
     "output_type": "display_data"
    },
    {
     "name": "stdout",
     "output_type": "stream",
     "text": [
      "Download completed. Saved to ./data/35.0_garden and vegetable garden/1fe3c8798c93a1836580941cd386bebd.mp4\n"
     ]
    }
   ],
   "source": [
    "def extract_s3_id(s3_url: str) -> str:\n",
    "    if s3_url is np.nan:\n",
    "        return ''\n",
    "    \n",
    "    last_backslash_idx = len(s3_url) - s3_url[::-1].find('/')\n",
    "    return s3_url[last_backslash_idx:]\n",
    "\n",
    "\n",
    "def remove_slashes(s: str) -> str:\n",
    "    if not isinstance(s, str):\n",
    "        return ''\n",
    "\n",
    "    chars_to_remove = [\n",
    "        '/', '\\\\',            # Standard slashes\n",
    "        \"'\", '\"',             # Standard quotes\n",
    "        '«', '»',             # Guillemets\n",
    "        '“', '”',             # Curly double quotes\n",
    "        '‘', '’',             # Curly single quotes\n",
    "        '＂',                 # Fullwidth double quote\n",
    "        '⧸',                   # Slash-like character\n",
    "        '｜', '│',            # Vertical bar-like characters\n",
    "        # Add any other auxiliary characters as needed\n",
    "    ]\n",
    "\n",
    "    translation_table = str.maketrans('', '', ''.join(chars_to_remove))\n",
    "    cleaned_string = s.translate(translation_table)\n",
    "    cleaned_string = re.sub(r'\\s+', ' ', cleaned_string).strip()\n",
    "    \n",
    "    return cleaned_string\n",
    "\n",
    "\n",
    "CATEGORIES_TO_UPLOAD = [\n",
    "    \"48.0_films\",\n",
    "    \"19.0_serials\",\n",
    "    \"7.0_movie\",\n",
    "    \"29.0_design\",\n",
    "    \"46.0_animals\",\n",
    "    \"45.0_various\",\n",
    "    \"5.0_interview\",\n",
    "    \"42.0_tv shows\",\n",
    "    \"35.0_garden and vegetable garden\",\n",
    "]\n",
    "\n",
    "mapping_df = pd.read_csv('scraped_dataset.csv')\n",
    "mapping_df['s3_name'] = mapping_df['s3_url'].apply(extract_s3_id)\n",
    "mapping_df['video_name'] = mapping_df['parsed_category'].apply(lambda tuple_str: ast.literal_eval(tuple_str)[0])\n",
    "mapping_df.dropna(subset=['video_name'], inplace=True)\n",
    "\n",
    "data_dir = './data/'\n",
    "\n",
    "for cat in tqdm.tqdm(CATEGORIES_TO_UPLOAD):\n",
    "    ctg_id = extract_category_id(cat)\n",
    "    df_slice = mapping_df.query(f\"manual_category_id == {ctg_id}\")\n",
    "\n",
    "    subdir_name = os.path.join(data_dir, cat)\n",
    "    downloaded_videos = list(map(remove_slashes, os.listdir(subdir_name)))\n",
    "\n",
    "    for id, row in df_slice.iterrows():\n",
    "        video_name = remove_slashes(row['video_name'])\n",
    "\n",
    "        if video_name + '.mp4' not in downloaded_videos:\n",
    "            download_video_from_url(row['s3_url'], subdir_name)\n",
    "            # print(row['url'], subdir_name)\n",
    "            # download_rutube_video_first_two_minutes(row['url'], subdir_name)\n"
   ]
  },
  {
   "cell_type": "markdown",
   "id": "7ff0cf0e-9e2d-4fad-92f2-f65a024f41b8",
   "metadata": {
    "jp-MarkdownHeadingCollapsed": true
   },
   "source": [
    "#### Inference ViViT"
   ]
  },
  {
   "cell_type": "code",
   "execution_count": 8,
   "id": "49a4505f-dba1-430b-bdc3-2c760fbe8806",
   "metadata": {},
   "outputs": [
    {
     "data": {
      "application/vnd.jupyter.widget-view+json": {
       "model_id": "958bec20afaf4cf3982fbc9fb52e3632",
       "version_major": 2,
       "version_minor": 0
      },
      "text/plain": [
       "  0%|          | 0/1049 [00:00<?, ?it/s]"
      ]
     },
     "metadata": {},
     "output_type": "display_data"
    }
   ],
   "source": [
    "def extract_category_id(ctgry: str) -> int:\n",
    "    return int(float(ctgry[:3]))\n",
    "\n",
    "\n",
    "DATA_DIR = './data/tag_video/videos'\n",
    "model_name = 'vivit'\n",
    "device = 'cuda' if torch.cuda.is_available() else 'cpu'\n",
    "model, processor, window_size = instantiate_model(model_name, device)\n",
    "embeddings_vivit = []\n",
    "\n",
    "for video_file in tqdm.tqdm(os.listdir(DATA_DIR)):\n",
    "    file_path = os.path.join(DATA_DIR, video_file)\n",
    "\n",
    "    if not file_path.lower().endswith('.mp4'):\n",
    "        continue\n",
    "    \n",
    "    output = process_video(file_path, processor, model, device, desired_frames=96, window_size=window_size)\n",
    "    \n",
    "    if output is not None:\n",
    "        logging.info(f\"Successfully processed video: {video_file}\")\n",
    "        embeddings_vivit.append((video_file, 0, output.numpy()))\n",
    "    else:\n",
    "        logging.warning(f\"Failed to process video: {video_file}\")\n",
    "\n",
    "vivit_df = EmbeddingStorage(\n",
    "    filenames=list(map(lambda x: x[0], embeddings_vivit)),\n",
    "    labels=list(map(lambda x: x[1], embeddings_vivit)),\n",
    "    embeddings=list(map(lambda x: x[2], embeddings_vivit)),\n",
    ")\n",
    "vivit_df.save_to_file('data/new_embeddings/vivit.npz')\n",
    "\n",
    "# vivit_df = pd.DataFrame(data=embeddings_vivit, columns=['videoname', 'label', 'emb'])\n",
    "# vivit_df.to_csv('data/embeddings/vivit.csv', index=False)"
   ]
  },
  {
   "cell_type": "markdown",
   "id": "44c8fe54-71dd-4e50-aca5-d783719cfd11",
   "metadata": {
    "jp-MarkdownHeadingCollapsed": true
   },
   "source": [
    "#### Inference X-CLIP"
   ]
  },
  {
   "cell_type": "code",
   "execution_count": 9,
   "id": "9b494556-da83-41a3-939d-dfdbff43f0b3",
   "metadata": {},
   "outputs": [],
   "source": [
    "del model, processor\n",
    "torch.cuda.empty_cache()"
   ]
  },
  {
   "cell_type": "code",
   "execution_count": 11,
   "id": "52801d56-b70c-4da5-a44b-f2a7e9e2100c",
   "metadata": {},
   "outputs": [
    {
     "data": {
      "application/vnd.jupyter.widget-view+json": {
       "model_id": "4616971a0c8f480184d71ad399ee193f",
       "version_major": 2,
       "version_minor": 0
      },
      "text/plain": [
       "  0%|          | 0/1049 [00:00<?, ?it/s]"
      ]
     },
     "metadata": {},
     "output_type": "display_data"
    }
   ],
   "source": [
    "DATA_DIR = './data/tag_video/videos'\n",
    "model_name = 'x-clip'\n",
    "device = 'cuda' if torch.cuda.is_available() else 'cpu'\n",
    "model, processor, window_size = instantiate_model(model_name, device)\n",
    "embeddings_xclip = []\n",
    "\n",
    "for video_file in tqdm.tqdm(os.listdir(DATA_DIR)):\n",
    "    file_path = os.path.join(DATA_DIR, video_file)\n",
    "\n",
    "    if not file_path.lower().endswith('.mp4'):\n",
    "        continue\n",
    "\n",
    "    output = process_video(file_path, processor, model, device, desired_frames=96, window_size=window_size)\n",
    "    \n",
    "    if output is not None:\n",
    "        logging.info(f\"Successfully processed video: {video_file}\")\n",
    "        embeddings_xclip.append((video_file, 0, output[0].numpy(), output[1].numpy()))\n",
    "    else:\n",
    "        logging.warning(f\"Failed to process video: {video_file}\")\n",
    "\n",
    "xclip_emb_df = EmbeddingStorage(\n",
    "    filenames=list(map(lambda x: x[0], embeddings_xclip)),\n",
    "    labels=list(map(lambda x: x[1], embeddings_xclip)),\n",
    "    embeddings=list(map(lambda x: x[2], embeddings_xclip)),\n",
    ")\n",
    "xclip_emb_df.save_to_file('data/new_embeddings/xclip_emb.npz')\n",
    "\n",
    "xclip_prob_df = EmbeddingStorage(\n",
    "    filenames=list(map(lambda x: x[0], embeddings_xclip)),\n",
    "    labels=list(map(lambda x: x[1], embeddings_xclip)),\n",
    "    embeddings=list(map(lambda x: x[3], embeddings_xclip)),\n",
    ")\n",
    "xclip_prob_df.save_to_file('data/new_embeddings/xclip_prob.npz')\n",
    "\n",
    "# xclip_df = pd.DataFrame(data=embeddings_xclip, columns=['videoname', 'label', 'emb', 'prob'])\n",
    "# xclip_df.to_csv('data/embeddings/xclip.csv', index=False)"
   ]
  },
  {
   "cell_type": "markdown",
   "id": "fdd11d65-56d8-4030-8cf5-1b421fc45769",
   "metadata": {},
   "source": [
    "#### Inference Video-MAE"
   ]
  },
  {
   "cell_type": "code",
   "execution_count": 12,
   "id": "620e0ba8-7569-4662-a8a6-bc573a4fe916",
   "metadata": {},
   "outputs": [],
   "source": [
    "del model, processor\n",
    "torch.cuda.empty_cache()"
   ]
  },
  {
   "cell_type": "code",
   "execution_count": 6,
   "id": "f8a2a0de-e377-49cd-a1d9-4fdc8e3fe57c",
   "metadata": {},
   "outputs": [
    {
     "data": {
      "text/plain": [
       "'cpu'"
      ]
     },
     "execution_count": 6,
     "metadata": {},
     "output_type": "execute_result"
    }
   ],
   "source": [
    "device = 'cuda' if torch.cuda.is_available() else 'cpu'\n",
    "device"
   ]
  },
  {
   "cell_type": "code",
   "execution_count": 6,
   "id": "bb8d9fda-6457-4e11-b1ab-858e796780d7",
   "metadata": {},
   "outputs": [
    {
     "data": {
      "application/vnd.jupyter.widget-view+json": {
       "model_id": "e2d3537f90c94da5af26237443160f7f",
       "version_major": 2,
       "version_minor": 0
      },
      "text/plain": [
       "  0%|          | 0/1049 [00:00<?, ?it/s]"
      ]
     },
     "metadata": {},
     "output_type": "display_data"
    },
    {
     "ename": "KeyboardInterrupt",
     "evalue": "",
     "output_type": "error",
     "traceback": [
      "\u001b[0;31m---------------------------------------------------------------------------\u001b[0m",
      "\u001b[0;31mKeyboardInterrupt\u001b[0m                         Traceback (most recent call last)",
      "Cell \u001b[0;32mIn[6], line 17\u001b[0m\n\u001b[1;32m     14\u001b[0m \u001b[38;5;28;01mif\u001b[39;00m \u001b[38;5;129;01mnot\u001b[39;00m file_path\u001b[38;5;241m.\u001b[39mlower()\u001b[38;5;241m.\u001b[39mendswith(\u001b[38;5;124m'\u001b[39m\u001b[38;5;124m.mp4\u001b[39m\u001b[38;5;124m'\u001b[39m):\n\u001b[1;32m     15\u001b[0m     \u001b[38;5;28;01mcontinue\u001b[39;00m\n\u001b[0;32m---> 17\u001b[0m output \u001b[38;5;241m=\u001b[39m \u001b[43mprocess_video\u001b[49m\u001b[43m(\u001b[49m\u001b[43mfile_path\u001b[49m\u001b[43m,\u001b[49m\u001b[43m \u001b[49m\u001b[43mprocessor\u001b[49m\u001b[43m,\u001b[49m\u001b[43m \u001b[49m\u001b[43mmodel\u001b[49m\u001b[43m,\u001b[49m\u001b[43m \u001b[49m\u001b[43mdevice\u001b[49m\u001b[43m,\u001b[49m\u001b[43m \u001b[49m\u001b[43mdesired_frames\u001b[49m\u001b[38;5;241;43m=\u001b[39;49m\u001b[38;5;241;43m96\u001b[39;49m\u001b[43m,\u001b[49m\u001b[43m \u001b[49m\u001b[43mwindow_size\u001b[49m\u001b[38;5;241;43m=\u001b[39;49m\u001b[43mwindow_size\u001b[49m\u001b[43m)\u001b[49m\n\u001b[1;32m     19\u001b[0m \u001b[38;5;28;01mif\u001b[39;00m output \u001b[38;5;129;01mis\u001b[39;00m \u001b[38;5;129;01mnot\u001b[39;00m \u001b[38;5;28;01mNone\u001b[39;00m:\n\u001b[1;32m     20\u001b[0m     logging\u001b[38;5;241m.\u001b[39minfo(\u001b[38;5;124mf\u001b[39m\u001b[38;5;124m\"\u001b[39m\u001b[38;5;124mSuccessfully processed video: \u001b[39m\u001b[38;5;132;01m{\u001b[39;00mvideo_file\u001b[38;5;132;01m}\u001b[39;00m\u001b[38;5;124m\"\u001b[39m)\n",
      "Cell \u001b[0;32mIn[4], line 78\u001b[0m, in \u001b[0;36mprocess_video\u001b[0;34m(video_path, image_processor, model, device, desired_frames, window_size, xclip_text_prompt)\u001b[0m\n\u001b[1;32m     76\u001b[0m frame_sample_rate \u001b[38;5;241m=\u001b[39m \u001b[38;5;28mmax\u001b[39m(\u001b[38;5;241m1\u001b[39m, \u001b[38;5;28mint\u001b[39m(math\u001b[38;5;241m.\u001b[39mfloor((fps \u001b[38;5;241m*\u001b[39m target_duration) \u001b[38;5;241m/\u001b[39m desired_frames)))\n\u001b[1;32m     77\u001b[0m indices \u001b[38;5;241m=\u001b[39m sample_frame_indices(desired_frames, frame_sample_rate, total_frames)\n\u001b[0;32m---> 78\u001b[0m video_frames \u001b[38;5;241m=\u001b[39m \u001b[43mread_video_pyav\u001b[49m\u001b[43m(\u001b[49m\u001b[43mcontainer\u001b[49m\u001b[43m,\u001b[49m\u001b[43m \u001b[49m\u001b[43mindices\u001b[49m\u001b[43m)\u001b[49m\n\u001b[1;32m     80\u001b[0m \u001b[38;5;28;01mif\u001b[39;00m \u001b[38;5;28mlen\u001b[39m(video_frames) \u001b[38;5;241m==\u001b[39m \u001b[38;5;241m0\u001b[39m:\n\u001b[1;32m     81\u001b[0m     \u001b[38;5;28;01mraise\u001b[39;00m \u001b[38;5;167;01mValueError\u001b[39;00m(\u001b[38;5;124m\"\u001b[39m\u001b[38;5;124mNo frames were extracted from the video.\u001b[39m\u001b[38;5;124m\"\u001b[39m)\n",
      "Cell \u001b[0;32mIn[4], line 27\u001b[0m, in \u001b[0;36mread_video_pyav\u001b[0;34m(container, indices)\u001b[0m\n\u001b[1;32m     24\u001b[0m max_idx \u001b[38;5;241m=\u001b[39m indices[\u001b[38;5;241m-\u001b[39m\u001b[38;5;241m1\u001b[39m]\n\u001b[1;32m     26\u001b[0m \u001b[38;5;28;01mfor\u001b[39;00m i, frame \u001b[38;5;129;01min\u001b[39;00m \u001b[38;5;28menumerate\u001b[39m(container\u001b[38;5;241m.\u001b[39mdecode(video\u001b[38;5;241m=\u001b[39m\u001b[38;5;241m0\u001b[39m)):\n\u001b[0;32m---> 27\u001b[0m     \u001b[38;5;28;01mif\u001b[39;00m i \u001b[38;5;241m>\u001b[39m max_idx:\n\u001b[1;32m     28\u001b[0m         \u001b[38;5;28;01mbreak\u001b[39;00m\n\u001b[1;32m     30\u001b[0m     \u001b[38;5;28;01mif\u001b[39;00m i \u001b[38;5;129;01min\u001b[39;00m indices_dct:\n",
      "\u001b[0;31mKeyboardInterrupt\u001b[0m: "
     ]
    }
   ],
   "source": [
    "def extract_category_id(ctgry: str) -> int:\n",
    "    return int(float(ctgry[:3]))\n",
    "\n",
    "\n",
    "DATA_DIR = './data/tag_video/videos'\n",
    "model_name = 'videomae'\n",
    "device = 'cuda' if torch.cuda.is_available() else 'cpu'\n",
    "model, processor, window_size = instantiate_model(model_name, device)\n",
    "embeddings_videomae = []\n",
    "\n",
    "for video_file in tqdm.tqdm(os.listdir(DATA_DIR)):\n",
    "    file_path = os.path.join(DATA_DIR, video_file)\n",
    "\n",
    "    if not file_path.lower().endswith('.mp4'):\n",
    "        continue\n",
    "    \n",
    "    output = process_video(file_path, processor, model, device, desired_frames=96, window_size=window_size)\n",
    "    \n",
    "    if output is not None:\n",
    "        logging.info(f\"Successfully processed video: {video_file}\")\n",
    "        embeddings_videomae.append((video_file, 0, output.numpy()))\n",
    "    else:\n",
    "        logging.warning(f\"Failed to process video: {video_file}\")\n",
    "\n",
    "videomae_df = EmbeddingStorage(\n",
    "    filenames=list(map(lambda x: x[0], embeddings_videomae)),\n",
    "    labels=list(map(lambda x: x[1], embeddings_videomae)),\n",
    "    embeddings=list(map(lambda x: x[2], embeddings_videomae)),\n",
    ")\n",
    "videomae_df.save_to_file('data/new_embeddings/videomae.npz')\n",
    "\n",
    "# videomae_df = pd.DataFrame(data=embeddings_videomae, columns=['videoname', 'label', 'emb'])\n",
    "# videomae_df.to_csv('data/embeddings/videonae.csv', index=False)"
   ]
  },
  {
   "cell_type": "markdown",
   "id": "6444e86a-0cd7-4441-86f0-c7267e9d513d",
   "metadata": {},
   "source": [
    "### Audio"
   ]
  },
  {
   "cell_type": "markdown",
   "id": "d8152ed9-49ea-48ce-a001-e9bde544387a",
   "metadata": {
    "jp-MarkdownHeadingCollapsed": true
   },
   "source": [
    "#### Auxiliary functions"
   ]
  },
  {
   "cell_type": "code",
   "execution_count": null,
   "id": "de034162-6fc1-46f8-afbf-83fad6312bc0",
   "metadata": {},
   "outputs": [],
   "source": [
    "def extract_audio_from_video(video_path, output_audio_path=\"temp_audio.wav\", duration=60):\n",
    "    video_clip = VideoFileClip(video_path)\n",
    "\n",
    "    if video_clip is None:\n",
    "        return None\n",
    "    elif video_clip.audio is None:\n",
    "        video_clip.close()\n",
    "        return None\n",
    "    \n",
    "    audio_clip = video_clip.audio.subclip(0, min(duration, video_clip.duration))\n",
    "    audio_clip.write_audiofile(output_audio_path, codec='pcm_s16le', ffmpeg_params=['-ac', '1'])\n",
    "    \n",
    "    # Close the clip to release resources\n",
    "    video_clip.close()\n",
    "    audio_clip.close()\n",
    "    \n",
    "    return output_audio_path\n",
    "\n",
    "\n",
    "def speech_file_to_array_fn(batch, duration: int, sampling_rate: int):\n",
    "    # Extract the audio from the mp4 file\n",
    "    audio_path = extract_audio_from_video(batch[\"path\"], duration=duration)\n",
    "\n",
    "    if audio_path is None:\n",
    "        return None\n",
    "\n",
    "    # Load the extracted audio using librosa\n",
    "    speech_array, sampling_rate = librosa.load(audio_path, sr=sampling_rate)\n",
    "\n",
    "    # Prepare for Wav2Vec2 inference\n",
    "    batch[\"speech\"] = speech_array\n",
    "    return batch\n",
    "\n",
    "\n",
    "def extract_category_id(ctgry: str) -> int:\n",
    "    return int(float(ctgry[:3]))\n",
    "\n",
    "\n",
    "class SpecScaler(torch.nn.Module):\n",
    "    def forward(self, x: torch.Tensor) -> torch.Tensor:\n",
    "        return torch.log(x.clamp_(1e-9, 1e9))\n",
    "\n",
    "\n",
    "def instantiate_giga_am(dirname: str, device: str):\n",
    "    encoder_config = dirname+\"encoder_config.yaml\"\n",
    "    model_weights = dirname+\"ssl_model_weights.ckpt\"\n",
    "    conf = OmegaConf.load(encoder_config)\n",
    "    \n",
    "    encoder = hydra.utils.instantiate(conf.encoder)\n",
    "    ckpt = torch.load(model_weights, map_location=\"cpu\")\n",
    "    encoder.load_state_dict(ckpt, strict=True)\n",
    "    encoder.to(device)\n",
    "    encoder.eval()\n",
    "    \n",
    "    feature_extractor = hydra.utils.instantiate(conf.feature_extractor)\n",
    "\n",
    "    return encoder, feature_extractor\n",
    "\n",
    "\n",
    "def process_gigaam(\n",
    "    video_path: str,\n",
    "    encoder,\n",
    "    feature_extractor,\n",
    "    device,\n",
    "    audio_duration: int = 60,\n",
    "    audio_sampling_rate: int = 16000\n",
    ") -> torch.Tensor:    \n",
    "    try:\n",
    "        test_sample = {\"path\": video_path}\n",
    "        test_sample = speech_file_to_array_fn(test_sample, audio_duration, audio_sampling_rate)\n",
    "        features = feature_extractor(torch.tensor(test_sample['speech']).float()).to(device)\n",
    "\n",
    "        with torch.no_grad():\n",
    "            encoded, _ = encoder.forward(\n",
    "                audio_signal=features.unsqueeze(0),\n",
    "                length=torch.tensor([features.shape[-1]]).to(device),\n",
    "            )\n",
    "        \n",
    "        output = encoded.mean(dim=2).squeeze().cpu()\n",
    "        return output\n",
    "\n",
    "    except Exception as e:\n",
    "        logging.error(f\"Unexpected error: {e}\")\n",
    "        print(\"An unexpected error occurred:\")\n",
    "        print(e)"
   ]
  },
  {
   "cell_type": "markdown",
   "id": "51f264d7-7b1e-4cd2-83e3-b6f85ffc34ee",
   "metadata": {
    "jp-MarkdownHeadingCollapsed": true
   },
   "source": [
    "#### Inference Giga-AM"
   ]
  },
  {
   "cell_type": "code",
   "execution_count": null,
   "id": "b5d330bc-0640-4785-86b8-80bb7ca78731",
   "metadata": {},
   "outputs": [],
   "source": [
    "device = 'cuda' if torch.cuda.is_available() else 'cpu'\n",
    "encoder, feature_extractor = instantiate_giga_am('models/giga_am/', device)\n",
    "embeddings_gigaam = []\n",
    "\n",
    "for video_file in tqdm.tqdm(os.listdir(DATA_DIR)):\n",
    "    file_path = os.path.join(DATA_DIR, video_file)\n",
    "\n",
    "    if not file_path.lower().endswith('.mp4'):\n",
    "        continue\n",
    "    \n",
    "    output = process_gigaam(file_path, encoder, feature_extractor, device)\n",
    "    \n",
    "    if output is not None:\n",
    "        logging.info(f\"Successfully processed video: {video_file}\")\n",
    "        embeddings_gigaam.append((video_file, 0, output.numpy()))\n",
    "    else:\n",
    "        logging.warning(f\"Failed to process video: {video_file}\")\n",
    "\n",
    "gigaam_df = EmbeddingStorage(\n",
    "    filenames=list(map(lambda x: x[0], embeddings_gigaam)),\n",
    "    labels=list(map(lambda x: x[1], embeddings_gigaam)),\n",
    "    embeddings=list(map(lambda x: x[2], embeddings_gigaam)),\n",
    ")\n",
    "gigaam_df.save_to_file('data/new_embeddings/gigaam.npz')\n",
    "\n",
    "# gigaam_df = pd.DataFrame(data=embeddings_gigaam, columns=['videoname', 'label', 'emb'])\n",
    "# gigaam_df.to_csv('data/embeddings/gigaam.csv', index=False)"
   ]
  },
  {
   "cell_type": "markdown",
   "id": "02bb0ec3-c303-470b-b04c-7c9ab1be96b8",
   "metadata": {
    "jp-MarkdownHeadingCollapsed": true
   },
   "source": [
    "#### Raw notes on GigaAM-RNNT"
   ]
  },
  {
   "cell_type": "code",
   "execution_count": 10,
   "id": "4c172372-3850-4d42-9847-242436e9d962",
   "metadata": {},
   "outputs": [
    {
     "name": "stderr",
     "output_type": "stream",
     "text": [
      "[NeMo W 2024-09-26 14:23:18 nemo_logging:349] /home/eduard/Рабочий стол/video-tagging/video-tag/lib/python3.10/site-packages/megatron/core/tensor_parallel/layers.py:254: FutureWarning: `torch.cuda.amp.custom_fwd(args...)` is deprecated. Please use `torch.amp.custom_fwd(args..., device_type='cuda')` instead.\n",
      "      def forward(\n",
      "    \n",
      "[NeMo W 2024-09-26 14:23:18 nemo_logging:349] /home/eduard/Рабочий стол/video-tagging/video-tag/lib/python3.10/site-packages/megatron/core/tensor_parallel/layers.py:265: FutureWarning: `torch.cuda.amp.custom_bwd(args...)` is deprecated. Please use `torch.amp.custom_bwd(args..., device_type='cuda')` instead.\n",
      "      def backward(ctx, grad_output):\n",
      "    \n",
      "[NeMo W 2024-09-26 14:23:18 nemo_logging:349] /home/eduard/Рабочий стол/video-tagging/video-tag/lib/python3.10/site-packages/megatron/core/tensor_parallel/layers.py:325: FutureWarning: `torch.cuda.amp.custom_fwd(args...)` is deprecated. Please use `torch.amp.custom_fwd(args..., device_type='cuda')` instead.\n",
      "      def forward(\n",
      "    \n",
      "[NeMo W 2024-09-26 14:23:18 nemo_logging:349] /home/eduard/Рабочий стол/video-tagging/video-tag/lib/python3.10/site-packages/megatron/core/tensor_parallel/layers.py:360: FutureWarning: `torch.cuda.amp.custom_bwd(args...)` is deprecated. Please use `torch.amp.custom_bwd(args..., device_type='cuda')` instead.\n",
      "      def backward(ctx, grad_output):\n",
      "    \n"
     ]
    }
   ],
   "source": [
    "from nemo.collections.asr.models import EncDecRNNTBPEModel\n",
    "from nemo.collections.asr.modules.audio_preprocessing import (\n",
    "    AudioToMelSpectrogramPreprocessor as NeMoAudioToMelSpectrogramPreprocessor,\n",
    ")\n",
    "from nemo.collections.asr.parts.preprocessing.features import (\n",
    "    FilterbankFeaturesTA as NeMoFilterbankFeaturesTA,\n",
    ")"
   ]
  },
  {
   "cell_type": "markdown",
   "id": "95f29bba-ce04-4648-9b94-8ee18ab02761",
   "metadata": {},
   "source": [
    "Download config, weights, tokenizer"
   ]
  },
  {
   "cell_type": "code",
   "execution_count": 6,
   "id": "e4ba5ac2-c036-4440-acfe-117e1505fd49",
   "metadata": {},
   "outputs": [],
   "source": [
    "# !wget https://n-ws-q0bez.s3pd12.sbercloud.ru/b-ws-q0bez-jpv/GigaAM/rnnt_model_weights.ckpt\n",
    "# !wget https://n-ws-q0bez.s3pd12.sbercloud.ru/b-ws-q0bez-jpv/GigaAM/rnnt_model_config.yaml\n",
    "# !wget https://n-ws-q0bez.s3pd12.sbercloud.ru/b-ws-q0bez-jpv/GigaAM/example.wav\n",
    "# !wget https://n-ws-q0bez.s3pd12.sbercloud.ru/b-ws-q0bez-jpv/GigaAM/long_example.wav\n",
    "# !wget https://n-ws-q0bez.s3pd12.sbercloud.ru/b-ws-q0bez-jpv/GigaAM/tokenizer_all_sets.tar\n",
    "# !tar -xf tokenizer_all_sets.tar && rm tokenizer_all_sets.tar"
   ]
  },
  {
   "cell_type": "markdown",
   "id": "d0ca9afa-3cb6-4a7d-81dc-0b5ca7a25883",
   "metadata": {},
   "source": [
    "Modules for feature Extraction"
   ]
  },
  {
   "cell_type": "code",
   "execution_count": null,
   "id": "429d0897-4317-4089-be02-26494c11e59a",
   "metadata": {},
   "outputs": [],
   "source": [
    "class FilterbankFeaturesTA(NeMoFilterbankFeaturesTA):\n",
    "    def __init__(self, mel_scale: str = \"htk\", wkwargs=None, **kwargs):\n",
    "        if \"window_size\" in kwargs:\n",
    "            del kwargs[\"window_size\"]\n",
    "        if \"window_stride\" in kwargs:\n",
    "            del kwargs[\"window_stride\"]\n",
    "\n",
    "        super().__init__(**kwargs)\n",
    "\n",
    "        self._mel_spec_extractor: torchaudio.transforms.MelSpectrogram = (\n",
    "            torchaudio.transforms.MelSpectrogram(\n",
    "                sample_rate=self._sample_rate,\n",
    "                win_length=self.win_length,\n",
    "                hop_length=self.hop_length,\n",
    "                n_mels=kwargs[\"nfilt\"],\n",
    "                window_fn=self.torch_windows[kwargs[\"window\"]],\n",
    "                mel_scale=mel_scale,\n",
    "                norm=kwargs[\"mel_norm\"],\n",
    "                n_fft=kwargs[\"n_fft\"],\n",
    "                f_max=kwargs.get(\"highfreq\", None),\n",
    "                f_min=kwargs.get(\"lowfreq\", 0),\n",
    "                wkwargs=wkwargs,\n",
    "            )\n",
    "        )\n",
    "\n",
    "\n",
    "class AudioToMelSpectrogramPreprocessor(NeMoAudioToMelSpectrogramPreprocessor):\n",
    "    def __init__(self, mel_scale: str = \"htk\", **kwargs):\n",
    "        super().__init__(**kwargs)\n",
    "        kwargs[\"nfilt\"] = kwargs[\"features\"]\n",
    "        del kwargs[\"features\"]\n",
    "        self.featurizer = (\n",
    "            FilterbankFeaturesTA(  # Deprecated arguments; kept for config compatibility\n",
    "                mel_scale=mel_scale,\n",
    "                **kwargs,\n",
    "            )\n",
    "        )"
   ]
  },
  {
   "cell_type": "markdown",
   "id": "9366a83e-0e88-446b-bcf2-a872f941298d",
   "metadata": {},
   "source": [
    "Inference example"
   ]
  },
  {
   "cell_type": "code",
   "execution_count": 30,
   "id": "b361e9e5-0600-4364-8bd2-8ddf68ed14ba",
   "metadata": {},
   "outputs": [
    {
     "name": "stdout",
     "output_type": "stream",
     "text": [
      "[NeMo I 2024-09-26 14:40:59 mixins:172] Tokenizer SentencePieceTokenizer initialized with 512 tokens\n"
     ]
    },
    {
     "name": "stderr",
     "output_type": "stream",
     "text": [
      "[NeMo W 2024-09-26 14:40:59 audio_to_text_dataset:830] Could not load dataset as `manifest_filepath` was None. Provided config : {'shuffle': False, 'manifest_filepath': None}\n"
     ]
    },
    {
     "name": "stdout",
     "output_type": "stream",
     "text": [
      "[NeMo I 2024-09-26 14:40:59 features:289] PADDING: 0\n",
      "[NeMo I 2024-09-26 14:41:00 rnnt_models:217] Using RNNT Loss : warprnnt_numba\n",
      "    Loss warprnnt_numba_kwargs: {'fastemit_lambda': 0.0, 'clamp': -1.0}\n"
     ]
    },
    {
     "name": "stderr",
     "output_type": "stream",
     "text": [
      "[NeMo W 2024-09-26 14:41:00 nemo_logging:349] /tmp/ipykernel_206253/913905516.py:4: FutureWarning: You are using `torch.load` with `weights_only=False` (the current default value), which uses the default pickle module implicitly. It is possible to construct malicious pickle data which will execute arbitrary code during unpickling (See https://github.com/pytorch/pytorch/blob/main/SECURITY.md#untrusted-models for more details). In a future release, the default value for `weights_only` will be flipped to `True`. This limits the functions that could be executed during unpickling. Arbitrary objects will no longer be allowed to be loaded via this mode unless they are explicitly allowlisted by the user via `torch.serialization.add_safe_globals`. We recommend you start setting `weights_only=True` for any use case where you don't have full control of the loaded file. Please open an issue on GitHub for any issues related to this experimental feature.\n",
      "      ckpt = torch.load(\"./models/giga_am/rnnt_model_weights.ckpt\", map_location=\"cpu\")\n",
      "    \n"
     ]
    }
   ],
   "source": [
    "device = \"cuda\" if torch.cuda.is_available() else \"cpu\"\n",
    "\n",
    "model = EncDecRNNTBPEModel.from_config_file(\"./models/giga_am/rnnt_model_config.yaml\")\n",
    "ckpt = torch.load(\"./models/giga_am/rnnt_model_weights.ckpt\", map_location=\"cpu\")\n",
    "model.load_state_dict(ckpt, strict=False)\n",
    "model.eval()\n",
    "model = model.to(device)"
   ]
  },
  {
   "cell_type": "code",
   "execution_count": 39,
   "id": "1e9af033-0291-4487-918b-5f6f5a92d6aa",
   "metadata": {},
   "outputs": [],
   "source": [
    "with torch.no_grad():\n",
    "    outp = model.transcribe([\"./example.wav\"])[0]\n",
    "    print(outp)\n",
    "\n",
    "with torch.no_grad():\n",
    "    outp = model.transcribe([\"./long_example.wav\"])[0]\n",
    "    print(outp)\n",
    "\n",
    "with torch.no_grad():\n",
    "    outp = model.transcribe([\"./temp_audio.wav\"])[0]\n",
    "    print(outp)\n",
    "\n",
    "file_path_1 = 'example.wav'\n",
    "audio, sr = librosa.load(file_path_1, sr=None, mono=False)\n",
    "print(audio.shape)\n",
    "\n",
    "file_path_2 = 'long_example.wav'\n",
    "audio, sr = librosa.load(file_path_2, sr=None, mono=False)\n",
    "print(audio.shape)\n",
    "\n",
    "file_path_3 = 'temp_audio.wav'\n",
    "audio, sr = librosa.load(file_path_3, sr=None, mono=False)\n",
    "print(audio.shape)"
   ]
  },
  {
   "cell_type": "markdown",
   "id": "9e1da606-4e0a-410e-9db7-07c23cd13f61",
   "metadata": {
    "jp-MarkdownHeadingCollapsed": true
   },
   "source": [
    "#### Inference Whisper-V3"
   ]
  },
  {
   "cell_type": "code",
   "execution_count": null,
   "id": "48e3298d-939b-4e57-af34-32789ef80c59",
   "metadata": {},
   "outputs": [],
   "source": [
    "del encoder, feature_extractor\n",
    "torch.cuda.empty_cache()"
   ]
  },
  {
   "cell_type": "code",
   "execution_count": null,
   "id": "4943f722-da0f-4e19-b8db-27a09b1f3065",
   "metadata": {},
   "outputs": [],
   "source": [
    "def instantiate_whisper(device: str = 'cuda', torch_dtype = torch.float16):\n",
    "    model = AutoModelForSpeechSeq2Seq.from_pretrained(\n",
    "        \"models/whisper_model\", torch_dtype=torch_dtype, low_cpu_mem_usage=True, use_safetensors=True\n",
    "    ).to(device)\n",
    "    processor = AutoProcessor.from_pretrained(\"models/whisper_processor\")\n",
    "    \n",
    "    model.eval()\n",
    "\n",
    "    pipe = pipeline(\n",
    "        \"automatic-speech-recognition\",\n",
    "        model=model,\n",
    "        tokenizer=processor.tokenizer,\n",
    "        feature_extractor=processor.feature_extractor,\n",
    "        torch_dtype=torch_dtype,\n",
    "        device=device,\n",
    "        chunk_length_s=30,\n",
    "        stride_length_s=5\n",
    "    )\n",
    "\n",
    "    return model, processor, pipe\n",
    "\n",
    "\n",
    "def process_whisper(\n",
    "    video_path: str,\n",
    "    model,\n",
    "    processor,\n",
    "    asr_pipe,\n",
    "    device = 'cuda',\n",
    "    torch_dtype = torch.float16,\n",
    "    audio_duration: int = 60,\n",
    "    audio_sampling_rate: int = 16000\n",
    ") -> torch.Tensor:    \n",
    "    try:\n",
    "        inp_sample = {\"path\": video_path}\n",
    "        test_sample = speech_file_to_array_fn(inp_sample, audio_duration, audio_sampling_rate)\n",
    "\n",
    "        if test_sample is None:\n",
    "            return None, None\n",
    "        \n",
    "        inputs = processor(test_sample['speech'], sampling_rate=audio_sampling_rate, return_tensors=\"pt\")\n",
    "        input_features = inputs.input_features.type(torch_dtype).to(device)\n",
    "\n",
    "        with torch.no_grad():\n",
    "            encoder_outputs = model.model.encoder(input_features)\n",
    "        \n",
    "        output = encoder_outputs.last_hidden_state.mean(dim=1).squeeze().cpu()\n",
    "        \n",
    "        sample = {'raw': test_sample['speech'], 'sampling_rate': audio_sampling_rate}\n",
    "        decoded_speech = asr_pipe(sample)\n",
    "        \n",
    "        return output, decoded_speech['text']\n",
    "\n",
    "    except Exception as e:\n",
    "        logging.error(f\"Unexpected error: {e}\")\n",
    "        print(\"An unexpected error occurred:\")\n",
    "        print(e)"
   ]
  },
  {
   "cell_type": "code",
   "execution_count": null,
   "id": "8f19f636-130a-43bf-9864-86387603c696",
   "metadata": {},
   "outputs": [],
   "source": [
    "device = 'cuda' if torch.cuda.is_available() else 'cpu'\n",
    "torch_dtype = torch.float16 if torch.cuda.is_available() else torch.float32\n",
    "\n",
    "model, processor, asr_pipe = instantiate_whisper(device, torch_dtype)\n",
    "embeddings_whisper = []\n",
    "\n",
    "for video_file in tqdm.tqdm(os.listdir(DATA_DIR)):\n",
    "    file_path = os.path.join(DATA_DIR, video_file)\n",
    "\n",
    "    if not file_path.lower().endswith('.mp4'):\n",
    "        continue\n",
    "    \n",
    "    output, recov_text = process_whisper(file_path, model, processor, asr_pipe, device, torch_dtype)\n",
    "    \n",
    "    if output is not None:\n",
    "        logging.info(f\"Successfully processed video: {video_file}\")\n",
    "        embeddings_whisper.append((video_file, 0, output.numpy(), recov_text))\n",
    "    else:\n",
    "        logging.warning(f\"Failed to process video: {video_file}\")\n",
    "\n",
    "whisper_df = EmbeddingStorage(\n",
    "    filenames=list(map(lambda x: x[0], embeddings_whisper)),\n",
    "    labels=list(map(lambda x: x[1], embeddings_whisper)),\n",
    "    embeddings=list(map(lambda x: x[2], embeddings_whisper)),\n",
    ")\n",
    "whisper_df.save_to_file('data/new_embeddings/whisper.npz')\n",
    "\n",
    "whisper_text_df = EmbeddingStorage(\n",
    "    filenames=list(map(lambda x: x[0], embeddings_whisper)),\n",
    "    labels=list(map(lambda x: x[1], embeddings_whisper)),\n",
    "    embeddings=list(map(lambda x: x[3], embeddings_whisper)),\n",
    ")\n",
    "whisper_text_df.save_to_file('data/new_embeddings/whisper_text.npz')\n",
    "\n",
    "# whisper_df = pd.DataFrame(data=embeddings_whisper, columns=['videoname', 'label', 'emb', 'text'])\n",
    "# whisper_df.to_csv('data/embeddings/whisper.csv', index=False)"
   ]
  },
  {
   "cell_type": "markdown",
   "id": "3114300c-3443-4f06-9022-40cdcdb1b377",
   "metadata": {
    "jp-MarkdownHeadingCollapsed": true
   },
   "source": [
    "## Quality metrics"
   ]
  },
  {
   "cell_type": "code",
   "execution_count": 17,
   "id": "2eb38a84-07cb-45d8-b473-cfed7118b61e",
   "metadata": {},
   "outputs": [],
   "source": [
    "def top_k_accuracy(target: np.ndarray, preds: np.ndarray, k: int = 10) -> float:\n",
    "    numer = 0\n",
    "    denom = target.size\n",
    "    \n",
    "    for label, labels_set in zip(target, preds):\n",
    "        if label in labels_set[:k]:\n",
    "            numer += 1\n",
    "\n",
    "    return numer * 1.0 / denom\n",
    "\n",
    "def string_to_numpy(tensor_string):\n",
    "    tensor_string = tensor_string.replace('tensor(', '').rstrip(')')\n",
    "    tensor_data = ast.literal_eval(tensor_string)\n",
    "    tensor = torch.tensor(tensor_data)\n",
    "    \n",
    "    return tensor\n",
    "\n",
    "def string_to_numpy(tensor_string):\n",
    "    tensor_string = tensor_string.replace('tensor(', '').rstrip(')')\n",
    "    tensor_data = ast.literal_eval(tensor_string)\n",
    "    tensor_numpied = torch.tensor(tensor_data).numpy()\n",
    "    \n",
    "    return tensor_numpied\n",
    "\n",
    "\n",
    "label_data = [\n",
    "    (0, 'Авто-мото'),\n",
    "    (1, 'Аниме'),\n",
    "    (2, 'Аудиокниги'),\n",
    "    (3, 'Бизнес'),\n",
    "    (4, 'Видеоигры'),\n",
    "    (5, 'Интервью'),\n",
    "    (6, 'Искусство'),\n",
    "    (7, 'Кино'),\n",
    "    (8, 'Красота'),\n",
    "    (9, 'Кулинария'),\n",
    "    (10, 'Лайфхаки'),\n",
    "    (11, 'Музыка'),\n",
    "    (12, 'Мультфильмы'),\n",
    "    (13, 'Новости'),\n",
    "    (14, 'Обучение'),\n",
    "    (15, 'Охота и рыбалка'),\n",
    "    (16, 'Политика'),\n",
    "    (17, 'Психология'),\n",
    "    (18, 'Путешествия'),\n",
    "    (19, 'Сериалы'),\n",
    "    (20, 'Спорт'),\n",
    "    (22, 'Юмор'),\n",
    "    (25, 'Лайфстайл'),\n",
    "    (26, 'Недвижимость'),\n",
    "    (27, 'Здоровье'),\n",
    "    (28, 'Природа'),\n",
    "    (29, 'Дизайн'),\n",
    "    (30, 'Техника и оборудование'),\n",
    "    (31, 'Бизнес и предпринимательство'),\n",
    "    (32, 'Культура'),\n",
    "    (33, 'Религия'),\n",
    "    (34, 'Строительство и ремонт'),\n",
    "    (35, 'Сад и огород'),\n",
    "    (36, 'Еда'),\n",
    "    (37, 'Развлечения'),\n",
    "    (38, 'Эзотерика'),\n",
    "    (39, 'Наука'),\n",
    "    (40, 'Аудио'),\n",
    "    (41, 'Технологии и интернет'),\n",
    "    (42, 'Телепередачи'),\n",
    "    (43, 'Детям'),\n",
    "    (44, 'Хобби'),\n",
    "    (45, 'Разное'),\n",
    "    (46, 'Животные'),\n",
    "    (47, 'Новости и СМИ'),\n",
    "    (48, 'Фильмы'),\n",
    "    (49, 'Блогеры')\n",
    "]\n",
    "label_df = pd.DataFrame(label_data, columns=['tag_id', 'tag'])"
   ]
  },
  {
   "cell_type": "markdown",
   "id": "78c46905-c5e7-4816-bbed-7b058044ea42",
   "metadata": {},
   "source": [
    "## X-CLIP"
   ]
  },
  {
   "cell_type": "markdown",
   "id": "b4fccd24-5243-48a0-923f-bd863a40cfe7",
   "metadata": {
    "jp-MarkdownHeadingCollapsed": true
   },
   "source": [
    "### No context"
   ]
  },
  {
   "cell_type": "code",
   "execution_count": null,
   "id": "ea9bcb58-799a-401a-94c7-27765a51dcbb",
   "metadata": {},
   "outputs": [],
   "source": [
    "tag_id_to_index"
   ]
  },
  {
   "cell_type": "code",
   "execution_count": 18,
   "id": "ca394c4b-de27-4b9b-8d08-232c3c970c49",
   "metadata": {},
   "outputs": [],
   "source": [
    "clip_df = pd.read_csv('data/embeddings/x-clip-v2.csv')\n",
    "tag_id_to_index = dict(zip(label_df.tag_id, label_df.index))"
   ]
  },
  {
   "cell_type": "markdown",
   "id": "2a82fc2b-1cbc-49d5-a65c-2ec9fea79aa3",
   "metadata": {},
   "source": [
    "Accuracy of first window"
   ]
  },
  {
   "cell_type": "code",
   "execution_count": 19,
   "id": "923c4954-968f-4c61-bd95-fdbe0840c206",
   "metadata": {},
   "outputs": [
    {
     "name": "stdout",
     "output_type": "stream",
     "text": [
      "Top 1 accuracy: 8.16831683168317\n",
      "Top 5 accuracy: 19.554455445544555\n",
      "Top 10 accuracy: 32.17821782178218\n"
     ]
    }
   ],
   "source": [
    "clip_id_label = clip_df.label.apply(lambda x: tag_id_to_index[x]).values\n",
    "top_n_predictions = np.vstack(clip_df.probs.apply(lambda x: np.argsort(string_to_numpy(x))[0, :][::-1]))\n",
    "\n",
    "print('Top 1 accuracy:', top_k_accuracy(clip_id_label, top_n_predictions, 1) * 100)\n",
    "print('Top 5 accuracy:', top_k_accuracy(clip_id_label, top_n_predictions, 5) * 100)\n",
    "print('Top 10 accuracy:', top_k_accuracy(clip_id_label, top_n_predictions, 10) * 100)"
   ]
  },
  {
   "cell_type": "markdown",
   "id": "85028f12-1bd4-4f88-9255-025f3390ccf6",
   "metadata": {},
   "source": [
    "Accuracy of second window"
   ]
  },
  {
   "cell_type": "code",
   "execution_count": 21,
   "id": "ce3c969f-7afa-4068-aefd-d63e29631d49",
   "metadata": {},
   "outputs": [
    {
     "name": "stdout",
     "output_type": "stream",
     "text": [
      "Top 1 accuracy: 9.158415841584159\n",
      "Top 5 accuracy: 20.049504950495052\n",
      "Top 10 accuracy: 31.18811881188119\n"
     ]
    }
   ],
   "source": [
    "clip_id_label = clip_df.label.apply(lambda x: tag_id_to_index[x]).values\n",
    "top_n_predictions = np.vstack(clip_df.probs.apply(lambda x: np.argsort(string_to_numpy(x))[1, :][::-1]))\n",
    "\n",
    "print('Top 1 accuracy:', top_k_accuracy(clip_id_label, top_n_predictions, 1) * 100)\n",
    "print('Top 5 accuracy:', top_k_accuracy(clip_id_label, top_n_predictions, 5) * 100)\n",
    "print('Top 10 accuracy:', top_k_accuracy(clip_id_label, top_n_predictions, 10) * 100)"
   ]
  },
  {
   "cell_type": "markdown",
   "id": "749a5bf8-8a11-4f28-906a-e9fad0c71e58",
   "metadata": {},
   "source": [
    "Accuracy of third window"
   ]
  },
  {
   "cell_type": "code",
   "execution_count": 22,
   "id": "9d0a0079-0ee2-4b66-92fe-89ef9261a50d",
   "metadata": {},
   "outputs": [
    {
     "name": "stdout",
     "output_type": "stream",
     "text": [
      "Top 1 accuracy: 5.445544554455446\n",
      "Top 5 accuracy: 20.049504950495052\n",
      "Top 10 accuracy: 30.198019801980198\n"
     ]
    }
   ],
   "source": [
    "clip_id_label = clip_df.label.apply(lambda x: tag_id_to_index[x]).values\n",
    "top_n_predictions = np.vstack(clip_df.probs.apply(lambda x: np.argsort(string_to_numpy(x))[2, :][::-1]))\n",
    "\n",
    "print('Top 1 accuracy:', top_k_accuracy(clip_id_label, top_n_predictions, 1) * 100)\n",
    "print('Top 5 accuracy:', top_k_accuracy(clip_id_label, top_n_predictions, 5) * 100)\n",
    "print('Top 10 accuracy:', top_k_accuracy(clip_id_label, top_n_predictions, 10) * 100)"
   ]
  },
  {
   "cell_type": "markdown",
   "id": "5de9b781-207b-48c6-9fac-af44bd49005e",
   "metadata": {},
   "source": [
    "Accuracy of average window"
   ]
  },
  {
   "cell_type": "code",
   "execution_count": 24,
   "id": "e3dd260e-732c-4b61-87b4-dfc53e977140",
   "metadata": {},
   "outputs": [
    {
     "name": "stdout",
     "output_type": "stream",
     "text": [
      "Top 1 accuracy: 3.9603960396039604\n",
      "Top 5 accuracy: 6.9306930693069315\n",
      "Top 10 accuracy: 10.891089108910892\n"
     ]
    }
   ],
   "source": [
    "clip_id_label = clip_df.label.apply(lambda x: tag_id_to_index[x]).values\n",
    "top_n_predictions = np.vstack(clip_df.probs.apply(lambda x: np.argsort(string_to_numpy(x)).mean(axis=0)[::-1]))\n",
    "\n",
    "print('Top 1 accuracy:', top_k_accuracy(clip_id_label, top_n_predictions, 1) * 100)\n",
    "print('Top 5 accuracy:', top_k_accuracy(clip_id_label, top_n_predictions, 5) * 100)\n",
    "print('Top 10 accuracy:', top_k_accuracy(clip_id_label, top_n_predictions, 10) * 100)"
   ]
  },
  {
   "cell_type": "markdown",
   "id": "0005ad0b-cacc-429e-9a84-cf4f043ede33",
   "metadata": {
    "jp-MarkdownHeadingCollapsed": true
   },
   "source": [
    "### ~~Whisper huggingface context~~"
   ]
  },
  {
   "cell_type": "markdown",
   "id": "ef05617f-9cc4-4707-ab26-13f9c476a82e",
   "metadata": {},
   "source": [
    "We need to increase the maximum text size from 77 to 1024\n",
    "\n",
    "So, we have to make some tricks"
   ]
  },
  {
   "cell_type": "code",
   "execution_count": 75,
   "id": "0dc61d32-a65b-41e7-81ae-6bcea8d57b6b",
   "metadata": {},
   "outputs": [],
   "source": [
    "POSITION_EMB_SIZE = 1024\n",
    "\n",
    "\n",
    "model, processor, window_size = instantiate_model(model_name, device)\n",
    "model.text_model.config.max_position_embeddings = POSITION_EMB_SIZE\n",
    "\n",
    "old_embedding = model.text_model.embeddings.position_embedding\n",
    "embedding_dim = old_embedding.weight.shape[1]\n",
    "new_embedding = nn.Embedding(POSITION_EMB_SIZE, embedding_dim).to(device)\n",
    "\n",
    "# Initialize the new embeddings with the old embeddings\n",
    "num_tokens_to_copy = min(old_embedding.weight.shape[0], POSITION_EMB_SIZE)\n",
    "new_embedding.weight.data[:num_tokens_to_copy, :] = old_embedding.weight.data[:num_tokens_to_copy, :]\n",
    "\n",
    "# Replace the model's position embeddings with the new embeddings\n",
    "model.text_model.embeddings.position_embedding = new_embedding\n",
    "\n",
    "processor.tokenizer.model_max_length = POSITION_EMB_SIZE"
   ]
  },
  {
   "cell_type": "code",
   "execution_count": 80,
   "id": "05c7f4f6-f4e6-49fa-babf-b6b2fd98e5a2",
   "metadata": {},
   "outputs": [
    {
     "data": {
      "application/vnd.jupyter.widget-view+json": {
       "model_id": "e3720e559178493b8fdb9f3ad6394719",
       "version_major": 2,
       "version_minor": 0
      },
      "text/plain": [
       "  0%|          | 0/48 [00:00<?, ?it/s]"
      ]
     },
     "metadata": {},
     "output_type": "display_data"
    },
    {
     "name": "stdout",
     "output_type": "stream",
     "text": [
      "True torch.Size([47, 398]) torch.Size([3, 32, 3, 224, 224])\n",
      "An unexpected error occurred:\n",
      "The size of tensor a (398) must match the size of tensor b (77) at non-singleton dimension 1\n"
     ]
    },
    {
     "ename": "RuntimeError",
     "evalue": "The size of tensor a (398) must match the size of tensor b (77) at non-singleton dimension 1",
     "output_type": "error",
     "traceback": [
      "\u001b[0;31m---------------------------------------------------------------------------\u001b[0m",
      "\u001b[0;31mRuntimeError\u001b[0m                              Traceback (most recent call last)",
      "Cell \u001b[0;32mIn[80], line 68\u001b[0m\n\u001b[1;32m     66\u001b[0m \u001b[38;5;28;01mfor\u001b[39;00m video_file \u001b[38;5;129;01min\u001b[39;00m video_files:\n\u001b[1;32m     67\u001b[0m     file_path \u001b[38;5;241m=\u001b[39m os\u001b[38;5;241m.\u001b[39mpath\u001b[38;5;241m.\u001b[39mjoin(fullpath, video_file)\n\u001b[0;32m---> 68\u001b[0m     output \u001b[38;5;241m=\u001b[39m \u001b[43mprocess_video\u001b[49m\u001b[43m(\u001b[49m\n\u001b[1;32m     69\u001b[0m \u001b[43m        \u001b[49m\u001b[43mfile_path\u001b[49m\u001b[43m,\u001b[49m\n\u001b[1;32m     70\u001b[0m \u001b[43m        \u001b[49m\u001b[43mprocessor\u001b[49m\u001b[43m,\u001b[49m\n\u001b[1;32m     71\u001b[0m \u001b[43m        \u001b[49m\u001b[43mmodel\u001b[49m\u001b[43m,\u001b[49m\n\u001b[1;32m     72\u001b[0m \u001b[43m        \u001b[49m\u001b[43mdevice\u001b[49m\u001b[43m,\u001b[49m\n\u001b[1;32m     73\u001b[0m \u001b[43m        \u001b[49m\u001b[43mdesired_frames\u001b[49m\u001b[38;5;241;43m=\u001b[39;49m\u001b[38;5;241;43m96\u001b[39;49m\u001b[43m,\u001b[49m\n\u001b[1;32m     74\u001b[0m \u001b[43m        \u001b[49m\u001b[43mwindow_size\u001b[49m\u001b[38;5;241;43m=\u001b[39;49m\u001b[43mwindow_size\u001b[49m\u001b[43m,\u001b[49m\n\u001b[1;32m     75\u001b[0m \u001b[43m        \u001b[49m\u001b[43mxclip_text_prompt\u001b[49m\u001b[38;5;241;43m=\u001b[39;49m\u001b[43mget_xclip_prompt_with_audio_context\u001b[49m\u001b[43m(\u001b[49m\u001b[43mwhisper_df\u001b[49m\u001b[43m,\u001b[49m\u001b[43m \u001b[49m\u001b[43mvideo_file\u001b[49m\u001b[43m)\u001b[49m\n\u001b[1;32m     76\u001b[0m \u001b[43m    \u001b[49m\u001b[43m)\u001b[49m\n\u001b[1;32m     78\u001b[0m     \u001b[38;5;28;01mif\u001b[39;00m output \u001b[38;5;129;01mis\u001b[39;00m \u001b[38;5;129;01mnot\u001b[39;00m \u001b[38;5;28;01mNone\u001b[39;00m:\n\u001b[1;32m     79\u001b[0m         logging\u001b[38;5;241m.\u001b[39minfo(\u001b[38;5;124mf\u001b[39m\u001b[38;5;124m\"\u001b[39m\u001b[38;5;124mSuccessfully processed video: \u001b[39m\u001b[38;5;132;01m{\u001b[39;00mvideo_file\u001b[38;5;132;01m}\u001b[39;00m\u001b[38;5;124m\"\u001b[39m)\n",
      "Cell \u001b[0;32mIn[79], line 127\u001b[0m, in \u001b[0;36mprocess_video\u001b[0;34m(video_path, image_processor, model, device, desired_frames, window_size, xclip_text_prompt)\u001b[0m\n\u001b[1;32m    125\u001b[0m \u001b[38;5;28mprint\u001b[39m(\u001b[38;5;124m\"\u001b[39m\u001b[38;5;124mAn unexpected error occurred:\u001b[39m\u001b[38;5;124m\"\u001b[39m)\n\u001b[1;32m    126\u001b[0m \u001b[38;5;28mprint\u001b[39m(e)\n\u001b[0;32m--> 127\u001b[0m \u001b[38;5;28;01mraise\u001b[39;00m e\n",
      "Cell \u001b[0;32mIn[79], line 105\u001b[0m, in \u001b[0;36mprocess_video\u001b[0;34m(video_path, image_processor, model, device, desired_frames, window_size, xclip_text_prompt)\u001b[0m\n\u001b[1;32m    103\u001b[0m \u001b[38;5;66;03m# Forward pass\u001b[39;00m\n\u001b[1;32m    104\u001b[0m \u001b[38;5;28;01mwith\u001b[39;00m torch\u001b[38;5;241m.\u001b[39mno_grad():\n\u001b[0;32m--> 105\u001b[0m     outputs \u001b[38;5;241m=\u001b[39m \u001b[43mmodel\u001b[49m\u001b[43m(\u001b[49m\u001b[38;5;241;43m*\u001b[39;49m\u001b[38;5;241;43m*\u001b[39;49m\u001b[43minputs\u001b[49m\u001b[43m)\u001b[49m\n\u001b[1;32m    107\u001b[0m \u001b[38;5;66;03m# Extract desired output\u001b[39;00m\n\u001b[1;32m    108\u001b[0m \u001b[38;5;28;01mif\u001b[39;00m \u001b[38;5;28mhasattr\u001b[39m(outputs, \u001b[38;5;124m'\u001b[39m\u001b[38;5;124mpooler_output\u001b[39m\u001b[38;5;124m'\u001b[39m):\n",
      "File \u001b[0;32m~/Рабочий стол/video-tagging/video-tag/lib/python3.10/site-packages/torch/nn/modules/module.py:1553\u001b[0m, in \u001b[0;36mModule._wrapped_call_impl\u001b[0;34m(self, *args, **kwargs)\u001b[0m\n\u001b[1;32m   1551\u001b[0m     \u001b[38;5;28;01mreturn\u001b[39;00m \u001b[38;5;28mself\u001b[39m\u001b[38;5;241m.\u001b[39m_compiled_call_impl(\u001b[38;5;241m*\u001b[39margs, \u001b[38;5;241m*\u001b[39m\u001b[38;5;241m*\u001b[39mkwargs)  \u001b[38;5;66;03m# type: ignore[misc]\u001b[39;00m\n\u001b[1;32m   1552\u001b[0m \u001b[38;5;28;01melse\u001b[39;00m:\n\u001b[0;32m-> 1553\u001b[0m     \u001b[38;5;28;01mreturn\u001b[39;00m \u001b[38;5;28;43mself\u001b[39;49m\u001b[38;5;241;43m.\u001b[39;49m\u001b[43m_call_impl\u001b[49m\u001b[43m(\u001b[49m\u001b[38;5;241;43m*\u001b[39;49m\u001b[43margs\u001b[49m\u001b[43m,\u001b[49m\u001b[43m \u001b[49m\u001b[38;5;241;43m*\u001b[39;49m\u001b[38;5;241;43m*\u001b[39;49m\u001b[43mkwargs\u001b[49m\u001b[43m)\u001b[49m\n",
      "File \u001b[0;32m~/Рабочий стол/video-tagging/video-tag/lib/python3.10/site-packages/torch/nn/modules/module.py:1562\u001b[0m, in \u001b[0;36mModule._call_impl\u001b[0;34m(self, *args, **kwargs)\u001b[0m\n\u001b[1;32m   1557\u001b[0m \u001b[38;5;66;03m# If we don't have any hooks, we want to skip the rest of the logic in\u001b[39;00m\n\u001b[1;32m   1558\u001b[0m \u001b[38;5;66;03m# this function, and just call forward.\u001b[39;00m\n\u001b[1;32m   1559\u001b[0m \u001b[38;5;28;01mif\u001b[39;00m \u001b[38;5;129;01mnot\u001b[39;00m (\u001b[38;5;28mself\u001b[39m\u001b[38;5;241m.\u001b[39m_backward_hooks \u001b[38;5;129;01mor\u001b[39;00m \u001b[38;5;28mself\u001b[39m\u001b[38;5;241m.\u001b[39m_backward_pre_hooks \u001b[38;5;129;01mor\u001b[39;00m \u001b[38;5;28mself\u001b[39m\u001b[38;5;241m.\u001b[39m_forward_hooks \u001b[38;5;129;01mor\u001b[39;00m \u001b[38;5;28mself\u001b[39m\u001b[38;5;241m.\u001b[39m_forward_pre_hooks\n\u001b[1;32m   1560\u001b[0m         \u001b[38;5;129;01mor\u001b[39;00m _global_backward_pre_hooks \u001b[38;5;129;01mor\u001b[39;00m _global_backward_hooks\n\u001b[1;32m   1561\u001b[0m         \u001b[38;5;129;01mor\u001b[39;00m _global_forward_hooks \u001b[38;5;129;01mor\u001b[39;00m _global_forward_pre_hooks):\n\u001b[0;32m-> 1562\u001b[0m     \u001b[38;5;28;01mreturn\u001b[39;00m \u001b[43mforward_call\u001b[49m\u001b[43m(\u001b[49m\u001b[38;5;241;43m*\u001b[39;49m\u001b[43margs\u001b[49m\u001b[43m,\u001b[49m\u001b[43m \u001b[49m\u001b[38;5;241;43m*\u001b[39;49m\u001b[38;5;241;43m*\u001b[39;49m\u001b[43mkwargs\u001b[49m\u001b[43m)\u001b[49m\n\u001b[1;32m   1564\u001b[0m \u001b[38;5;28;01mtry\u001b[39;00m:\n\u001b[1;32m   1565\u001b[0m     result \u001b[38;5;241m=\u001b[39m \u001b[38;5;28;01mNone\u001b[39;00m\n",
      "File \u001b[0;32m~/Рабочий стол/video-tagging/video-tag/lib/python3.10/site-packages/transformers/models/x_clip/modeling_x_clip.py:1580\u001b[0m, in \u001b[0;36mXCLIPModel.forward\u001b[0;34m(self, input_ids, pixel_values, attention_mask, position_ids, return_loss, output_attentions, output_hidden_states, return_dict)\u001b[0m\n\u001b[1;32m   1577\u001b[0m img_features \u001b[38;5;241m=\u001b[39m img_features\u001b[38;5;241m.\u001b[39mview(batch_size, num_frames, \u001b[38;5;241m-\u001b[39m\u001b[38;5;241m1\u001b[39m, video_embeds\u001b[38;5;241m.\u001b[39mshape[\u001b[38;5;241m-\u001b[39m\u001b[38;5;241m1\u001b[39m])\n\u001b[1;32m   1578\u001b[0m img_features \u001b[38;5;241m=\u001b[39m img_features\u001b[38;5;241m.\u001b[39mmean(dim\u001b[38;5;241m=\u001b[39m\u001b[38;5;241m1\u001b[39m, keepdim\u001b[38;5;241m=\u001b[39m\u001b[38;5;28;01mFalse\u001b[39;00m)\n\u001b[0;32m-> 1580\u001b[0m text_outputs \u001b[38;5;241m=\u001b[39m \u001b[38;5;28;43mself\u001b[39;49m\u001b[38;5;241;43m.\u001b[39;49m\u001b[43mtext_model\u001b[49m\u001b[43m(\u001b[49m\n\u001b[1;32m   1581\u001b[0m \u001b[43m    \u001b[49m\u001b[43minput_ids\u001b[49m\u001b[38;5;241;43m=\u001b[39;49m\u001b[43minput_ids\u001b[49m\u001b[43m,\u001b[49m\n\u001b[1;32m   1582\u001b[0m \u001b[43m    \u001b[49m\u001b[43mattention_mask\u001b[49m\u001b[38;5;241;43m=\u001b[39;49m\u001b[43mattention_mask\u001b[49m\u001b[43m,\u001b[49m\n\u001b[1;32m   1583\u001b[0m \u001b[43m    \u001b[49m\u001b[43mposition_ids\u001b[49m\u001b[38;5;241;43m=\u001b[39;49m\u001b[43mposition_ids\u001b[49m\u001b[43m,\u001b[49m\n\u001b[1;32m   1584\u001b[0m \u001b[43m    \u001b[49m\u001b[43moutput_attentions\u001b[49m\u001b[38;5;241;43m=\u001b[39;49m\u001b[43moutput_attentions\u001b[49m\u001b[43m,\u001b[49m\n\u001b[1;32m   1585\u001b[0m \u001b[43m    \u001b[49m\u001b[43moutput_hidden_states\u001b[49m\u001b[38;5;241;43m=\u001b[39;49m\u001b[43moutput_hidden_states\u001b[49m\u001b[43m,\u001b[49m\n\u001b[1;32m   1586\u001b[0m \u001b[43m    \u001b[49m\u001b[43mreturn_dict\u001b[49m\u001b[38;5;241;43m=\u001b[39;49m\u001b[43mreturn_dict\u001b[49m\u001b[43m,\u001b[49m\n\u001b[1;32m   1587\u001b[0m \u001b[43m\u001b[49m\u001b[43m)\u001b[49m\n\u001b[1;32m   1589\u001b[0m text_embeds \u001b[38;5;241m=\u001b[39m text_outputs[\u001b[38;5;241m1\u001b[39m]\n\u001b[1;32m   1590\u001b[0m text_embeds \u001b[38;5;241m=\u001b[39m \u001b[38;5;28mself\u001b[39m\u001b[38;5;241m.\u001b[39mtext_projection(text_embeds)\n",
      "File \u001b[0;32m~/Рабочий стол/video-tagging/video-tag/lib/python3.10/site-packages/torch/nn/modules/module.py:1553\u001b[0m, in \u001b[0;36mModule._wrapped_call_impl\u001b[0;34m(self, *args, **kwargs)\u001b[0m\n\u001b[1;32m   1551\u001b[0m     \u001b[38;5;28;01mreturn\u001b[39;00m \u001b[38;5;28mself\u001b[39m\u001b[38;5;241m.\u001b[39m_compiled_call_impl(\u001b[38;5;241m*\u001b[39margs, \u001b[38;5;241m*\u001b[39m\u001b[38;5;241m*\u001b[39mkwargs)  \u001b[38;5;66;03m# type: ignore[misc]\u001b[39;00m\n\u001b[1;32m   1552\u001b[0m \u001b[38;5;28;01melse\u001b[39;00m:\n\u001b[0;32m-> 1553\u001b[0m     \u001b[38;5;28;01mreturn\u001b[39;00m \u001b[38;5;28;43mself\u001b[39;49m\u001b[38;5;241;43m.\u001b[39;49m\u001b[43m_call_impl\u001b[49m\u001b[43m(\u001b[49m\u001b[38;5;241;43m*\u001b[39;49m\u001b[43margs\u001b[49m\u001b[43m,\u001b[49m\u001b[43m \u001b[49m\u001b[38;5;241;43m*\u001b[39;49m\u001b[38;5;241;43m*\u001b[39;49m\u001b[43mkwargs\u001b[49m\u001b[43m)\u001b[49m\n",
      "File \u001b[0;32m~/Рабочий стол/video-tagging/video-tag/lib/python3.10/site-packages/torch/nn/modules/module.py:1562\u001b[0m, in \u001b[0;36mModule._call_impl\u001b[0;34m(self, *args, **kwargs)\u001b[0m\n\u001b[1;32m   1557\u001b[0m \u001b[38;5;66;03m# If we don't have any hooks, we want to skip the rest of the logic in\u001b[39;00m\n\u001b[1;32m   1558\u001b[0m \u001b[38;5;66;03m# this function, and just call forward.\u001b[39;00m\n\u001b[1;32m   1559\u001b[0m \u001b[38;5;28;01mif\u001b[39;00m \u001b[38;5;129;01mnot\u001b[39;00m (\u001b[38;5;28mself\u001b[39m\u001b[38;5;241m.\u001b[39m_backward_hooks \u001b[38;5;129;01mor\u001b[39;00m \u001b[38;5;28mself\u001b[39m\u001b[38;5;241m.\u001b[39m_backward_pre_hooks \u001b[38;5;129;01mor\u001b[39;00m \u001b[38;5;28mself\u001b[39m\u001b[38;5;241m.\u001b[39m_forward_hooks \u001b[38;5;129;01mor\u001b[39;00m \u001b[38;5;28mself\u001b[39m\u001b[38;5;241m.\u001b[39m_forward_pre_hooks\n\u001b[1;32m   1560\u001b[0m         \u001b[38;5;129;01mor\u001b[39;00m _global_backward_pre_hooks \u001b[38;5;129;01mor\u001b[39;00m _global_backward_hooks\n\u001b[1;32m   1561\u001b[0m         \u001b[38;5;129;01mor\u001b[39;00m _global_forward_hooks \u001b[38;5;129;01mor\u001b[39;00m _global_forward_pre_hooks):\n\u001b[0;32m-> 1562\u001b[0m     \u001b[38;5;28;01mreturn\u001b[39;00m \u001b[43mforward_call\u001b[49m\u001b[43m(\u001b[49m\u001b[38;5;241;43m*\u001b[39;49m\u001b[43margs\u001b[49m\u001b[43m,\u001b[49m\u001b[43m \u001b[49m\u001b[38;5;241;43m*\u001b[39;49m\u001b[38;5;241;43m*\u001b[39;49m\u001b[43mkwargs\u001b[49m\u001b[43m)\u001b[49m\n\u001b[1;32m   1564\u001b[0m \u001b[38;5;28;01mtry\u001b[39;00m:\n\u001b[1;32m   1565\u001b[0m     result \u001b[38;5;241m=\u001b[39m \u001b[38;5;28;01mNone\u001b[39;00m\n",
      "File \u001b[0;32m~/Рабочий стол/video-tagging/video-tag/lib/python3.10/site-packages/transformers/models/x_clip/modeling_x_clip.py:746\u001b[0m, in \u001b[0;36mXCLIPTextTransformer.forward\u001b[0;34m(self, input_ids, attention_mask, position_ids, output_attentions, output_hidden_states, return_dict)\u001b[0m\n\u001b[1;32m    743\u001b[0m input_shape \u001b[38;5;241m=\u001b[39m input_ids\u001b[38;5;241m.\u001b[39msize()\n\u001b[1;32m    744\u001b[0m input_ids \u001b[38;5;241m=\u001b[39m input_ids\u001b[38;5;241m.\u001b[39mview(\u001b[38;5;241m-\u001b[39m\u001b[38;5;241m1\u001b[39m, input_shape[\u001b[38;5;241m-\u001b[39m\u001b[38;5;241m1\u001b[39m])\n\u001b[0;32m--> 746\u001b[0m hidden_states \u001b[38;5;241m=\u001b[39m \u001b[38;5;28;43mself\u001b[39;49m\u001b[38;5;241;43m.\u001b[39;49m\u001b[43membeddings\u001b[49m\u001b[43m(\u001b[49m\u001b[43minput_ids\u001b[49m\u001b[38;5;241;43m=\u001b[39;49m\u001b[43minput_ids\u001b[49m\u001b[43m,\u001b[49m\u001b[43m \u001b[49m\u001b[43mposition_ids\u001b[49m\u001b[38;5;241;43m=\u001b[39;49m\u001b[43mposition_ids\u001b[49m\u001b[43m)\u001b[49m\n\u001b[1;32m    748\u001b[0m \u001b[38;5;66;03m# X_CLIP's text model uses causal mask, prepare it here.\u001b[39;00m\n\u001b[1;32m    749\u001b[0m \u001b[38;5;66;03m# https://github.com/openai/CLIP/blob/cfcffb90e69f37bf2ff1e988237a0fbe41f33c04/clip/model.py#L324\u001b[39;00m\n\u001b[1;32m    750\u001b[0m causal_attention_mask \u001b[38;5;241m=\u001b[39m _create_4d_causal_attention_mask(\n\u001b[1;32m    751\u001b[0m     input_shape, hidden_states\u001b[38;5;241m.\u001b[39mdtype, device\u001b[38;5;241m=\u001b[39mhidden_states\u001b[38;5;241m.\u001b[39mdevice\n\u001b[1;32m    752\u001b[0m )\n",
      "File \u001b[0;32m~/Рабочий стол/video-tagging/video-tag/lib/python3.10/site-packages/torch/nn/modules/module.py:1553\u001b[0m, in \u001b[0;36mModule._wrapped_call_impl\u001b[0;34m(self, *args, **kwargs)\u001b[0m\n\u001b[1;32m   1551\u001b[0m     \u001b[38;5;28;01mreturn\u001b[39;00m \u001b[38;5;28mself\u001b[39m\u001b[38;5;241m.\u001b[39m_compiled_call_impl(\u001b[38;5;241m*\u001b[39margs, \u001b[38;5;241m*\u001b[39m\u001b[38;5;241m*\u001b[39mkwargs)  \u001b[38;5;66;03m# type: ignore[misc]\u001b[39;00m\n\u001b[1;32m   1552\u001b[0m \u001b[38;5;28;01melse\u001b[39;00m:\n\u001b[0;32m-> 1553\u001b[0m     \u001b[38;5;28;01mreturn\u001b[39;00m \u001b[38;5;28;43mself\u001b[39;49m\u001b[38;5;241;43m.\u001b[39;49m\u001b[43m_call_impl\u001b[49m\u001b[43m(\u001b[49m\u001b[38;5;241;43m*\u001b[39;49m\u001b[43margs\u001b[49m\u001b[43m,\u001b[49m\u001b[43m \u001b[49m\u001b[38;5;241;43m*\u001b[39;49m\u001b[38;5;241;43m*\u001b[39;49m\u001b[43mkwargs\u001b[49m\u001b[43m)\u001b[49m\n",
      "File \u001b[0;32m~/Рабочий стол/video-tagging/video-tag/lib/python3.10/site-packages/torch/nn/modules/module.py:1562\u001b[0m, in \u001b[0;36mModule._call_impl\u001b[0;34m(self, *args, **kwargs)\u001b[0m\n\u001b[1;32m   1557\u001b[0m \u001b[38;5;66;03m# If we don't have any hooks, we want to skip the rest of the logic in\u001b[39;00m\n\u001b[1;32m   1558\u001b[0m \u001b[38;5;66;03m# this function, and just call forward.\u001b[39;00m\n\u001b[1;32m   1559\u001b[0m \u001b[38;5;28;01mif\u001b[39;00m \u001b[38;5;129;01mnot\u001b[39;00m (\u001b[38;5;28mself\u001b[39m\u001b[38;5;241m.\u001b[39m_backward_hooks \u001b[38;5;129;01mor\u001b[39;00m \u001b[38;5;28mself\u001b[39m\u001b[38;5;241m.\u001b[39m_backward_pre_hooks \u001b[38;5;129;01mor\u001b[39;00m \u001b[38;5;28mself\u001b[39m\u001b[38;5;241m.\u001b[39m_forward_hooks \u001b[38;5;129;01mor\u001b[39;00m \u001b[38;5;28mself\u001b[39m\u001b[38;5;241m.\u001b[39m_forward_pre_hooks\n\u001b[1;32m   1560\u001b[0m         \u001b[38;5;129;01mor\u001b[39;00m _global_backward_pre_hooks \u001b[38;5;129;01mor\u001b[39;00m _global_backward_hooks\n\u001b[1;32m   1561\u001b[0m         \u001b[38;5;129;01mor\u001b[39;00m _global_forward_hooks \u001b[38;5;129;01mor\u001b[39;00m _global_forward_pre_hooks):\n\u001b[0;32m-> 1562\u001b[0m     \u001b[38;5;28;01mreturn\u001b[39;00m \u001b[43mforward_call\u001b[49m\u001b[43m(\u001b[49m\u001b[38;5;241;43m*\u001b[39;49m\u001b[43margs\u001b[49m\u001b[43m,\u001b[49m\u001b[43m \u001b[49m\u001b[38;5;241;43m*\u001b[39;49m\u001b[38;5;241;43m*\u001b[39;49m\u001b[43mkwargs\u001b[49m\u001b[43m)\u001b[49m\n\u001b[1;32m   1564\u001b[0m \u001b[38;5;28;01mtry\u001b[39;00m:\n\u001b[1;32m   1565\u001b[0m     result \u001b[38;5;241m=\u001b[39m \u001b[38;5;28;01mNone\u001b[39;00m\n",
      "File \u001b[0;32m~/Рабочий стол/video-tagging/video-tag/lib/python3.10/site-packages/transformers/models/x_clip/modeling_x_clip.py:165\u001b[0m, in \u001b[0;36mXCLIPTextEmbeddings.forward\u001b[0;34m(self, input_ids, position_ids, inputs_embeds)\u001b[0m\n\u001b[1;32m    162\u001b[0m     inputs_embeds \u001b[38;5;241m=\u001b[39m \u001b[38;5;28mself\u001b[39m\u001b[38;5;241m.\u001b[39mtoken_embedding(input_ids)\n\u001b[1;32m    164\u001b[0m position_embeddings \u001b[38;5;241m=\u001b[39m \u001b[38;5;28mself\u001b[39m\u001b[38;5;241m.\u001b[39mposition_embedding(position_ids)\n\u001b[0;32m--> 165\u001b[0m embeddings \u001b[38;5;241m=\u001b[39m \u001b[43minputs_embeds\u001b[49m\u001b[43m \u001b[49m\u001b[38;5;241;43m+\u001b[39;49m\u001b[43m \u001b[49m\u001b[43mposition_embeddings\u001b[49m\n\u001b[1;32m    167\u001b[0m \u001b[38;5;28;01mreturn\u001b[39;00m embeddings\n",
      "\u001b[0;31mRuntimeError\u001b[0m: The size of tensor a (398) must match the size of tensor b (77) at non-singleton dimension 1"
     ]
    }
   ],
   "source": [
    "def extract_category_id(ctgry: str) -> int:\n",
    "    return int(float(ctgry[:3]))\n",
    "\n",
    "\n",
    "def extract_text_by_video_name(whisper_df: pd.DataFrame, videoname: str):\n",
    "    if videoname not in whisper_df.videoname.values:\n",
    "        print(f\"Такого видео не существует: {videoname}\")\n",
    "        return None\n",
    "    \n",
    "    text = whisper_df[whisper_df.videoname == videoname]['text']\n",
    "\n",
    "    if text is None or text is np.nan or text is pd.NA:\n",
    "        return None\n",
    "    else:\n",
    "        return text.values[0]\n",
    "\n",
    "\n",
    "def get_xclip_prompt_with_audio_context(whisper_df: pd.DataFrame, videoname: str):\n",
    "    text = extract_text_by_video_name(whisper_df, videoname)\n",
    "\n",
    "    if text is None:\n",
    "        return RUS_TEXT_PROMPT\n",
    "    else:\n",
    "        return [f\"Видео субтитры: '{text}'. \" + x for x in RUS_TEXT_PROMPT]\n",
    "\n",
    "\n",
    "def postprocess_model_and_processor(model, processor, device):\n",
    "    POSITION_EMB_SIZE = 1024\n",
    "\n",
    "    model, processor, window_size = instantiate_model(model_name, device)\n",
    "    model.text_model.config.max_position_embeddings = POSITION_EMB_SIZE\n",
    "    \n",
    "    old_embedding = model.text_model.embeddings.position_embedding\n",
    "    embedding_dim = old_embedding.weight.shape[1]\n",
    "    new_embedding = nn.Embedding(POSITION_EMB_SIZE, embedding_dim).to(device)\n",
    "    \n",
    "    # Initialize the new embeddings with the old embeddings\n",
    "    num_tokens_to_copy = min(old_embedding.weight.shape[0], POSITION_EMB_SIZE)\n",
    "    new_embedding.weight.data[:num_tokens_to_copy, :] = old_embedding.weight.data[:num_tokens_to_copy, :]\n",
    "    \n",
    "    # Replace the model's position embeddings with the new embeddings\n",
    "    model.text_model.embeddings.position_embedding = new_embedding\n",
    "    processor.tokenizer.model_max_length = POSITION_EMB_SIZE\n",
    "\n",
    "    return model, processor\n",
    "\n",
    "\n",
    "DATA_DIR = './data'\n",
    "model_name = 'x-clip'\n",
    "device = 'cuda' if torch.cuda.is_available() else 'cpu'\n",
    "model, processor, window_size = instantiate_model(model_name, device)\n",
    "model, processor = postprocess_model_and_processor(model, processor, device)\n",
    "embeddings_xclip = []\n",
    "\n",
    "whisper_df = pd.read_csv('data/embeddings/whisper.csv')\n",
    "\n",
    "for data_subdir in tqdm.tqdm(os.listdir(DATA_DIR)):\n",
    "    fullpath = os.path.join(DATA_DIR, data_subdir)\n",
    "\n",
    "    if not os.path.isdir(fullpath):\n",
    "        continue\n",
    "    \n",
    "    video_files = [f for f in os.listdir(fullpath) if f.lower().endswith('.mp4')]\n",
    "    logging.info(f\"Found {len(video_files)} video(s) in directory '{data_subdir}'.\")\n",
    "    \n",
    "    for video_file in video_files:\n",
    "        file_path = os.path.join(fullpath, video_file)\n",
    "        output = process_video(\n",
    "            file_path,\n",
    "            processor,\n",
    "            model,\n",
    "            device,\n",
    "            desired_frames=96,\n",
    "            window_size=window_size,\n",
    "            xclip_text_prompt=get_xclip_prompt_with_audio_context(whisper_df, video_file)\n",
    "        )\n",
    "        \n",
    "        if output is not None:\n",
    "            logging.info(f\"Successfully processed video: {video_file}\")\n",
    "            embeddings_xclip.append((video_file, extract_category_id(data_subdir), output[0], output[1]))\n",
    "        else:\n",
    "            logging.warning(f\"Failed to process video: {video_file}\")\n",
    "\n",
    "xclip_df = pd.DataFrame(data=embeddings_xclip, columns=['videoname', 'label', 'emb', 'probs'])\n",
    "xclip_df.to_csv('data/embeddings/x-clip-whisper.csv', index=False)"
   ]
  },
  {
   "cell_type": "code",
   "execution_count": 74,
   "id": "5ef5bb0e-d91c-4bef-b127-67429831f2a6",
   "metadata": {},
   "outputs": [
    {
     "name": "stdout",
     "output_type": "stream",
     "text": [
      "True torch.Size([47, 398]) torch.Size([3, 32, 3, 224, 224])\n",
      "An unexpected error occurred:\n",
      "The size of tensor a (398) must match the size of tensor b (77) at non-singleton dimension 1\n"
     ]
    },
    {
     "ename": "RuntimeError",
     "evalue": "The size of tensor a (398) must match the size of tensor b (77) at non-singleton dimension 1",
     "output_type": "error",
     "traceback": [
      "\u001b[0;31m---------------------------------------------------------------------------\u001b[0m",
      "\u001b[0;31mRuntimeError\u001b[0m                              Traceback (most recent call last)",
      "Cell \u001b[0;32mIn[74], line 4\u001b[0m\n\u001b[1;32m      1\u001b[0m new_text_prompt \u001b[38;5;241m=\u001b[39m get_xclip_prompt_with_audio_context(whisper_df, \u001b[38;5;124m\"\u001b[39m\u001b[38;5;124m2d102489e381cb2dc28395d3a76771b1.mp4\u001b[39m\u001b[38;5;124m\"\u001b[39m)\n\u001b[1;32m      2\u001b[0m video_path \u001b[38;5;241m=\u001b[39m \u001b[38;5;124m\"\u001b[39m\u001b[38;5;124m./data/48.0_films/2d102489e381cb2dc28395d3a76771b1.mp4\u001b[39m\u001b[38;5;124m\"\u001b[39m\n\u001b[0;32m----> 4\u001b[0m \u001b[43mprocess_video\u001b[49m\u001b[43m(\u001b[49m\n\u001b[1;32m      5\u001b[0m \u001b[43m    \u001b[49m\u001b[43mvideo_path\u001b[49m\u001b[43m,\u001b[49m\n\u001b[1;32m      6\u001b[0m \u001b[43m    \u001b[49m\u001b[43mprocessor\u001b[49m\u001b[43m,\u001b[49m\n\u001b[1;32m      7\u001b[0m \u001b[43m    \u001b[49m\u001b[43mmodel\u001b[49m\u001b[43m,\u001b[49m\n\u001b[1;32m      8\u001b[0m \u001b[43m    \u001b[49m\u001b[43mdevice\u001b[49m\u001b[43m,\u001b[49m\n\u001b[1;32m      9\u001b[0m \u001b[43m    \u001b[49m\u001b[43mxclip_text_prompt\u001b[49m\u001b[38;5;241;43m=\u001b[39;49m\u001b[43mnew_text_prompt\u001b[49m\n\u001b[1;32m     10\u001b[0m \u001b[43m)\u001b[49m\n",
      "Cell \u001b[0;32mIn[73], line 126\u001b[0m, in \u001b[0;36mprocess_video\u001b[0;34m(video_path, image_processor, model, device, desired_frames, window_size, xclip_text_prompt)\u001b[0m\n\u001b[1;32m    124\u001b[0m \u001b[38;5;28mprint\u001b[39m(\u001b[38;5;124m\"\u001b[39m\u001b[38;5;124mAn unexpected error occurred:\u001b[39m\u001b[38;5;124m\"\u001b[39m)\n\u001b[1;32m    125\u001b[0m \u001b[38;5;28mprint\u001b[39m(e)\n\u001b[0;32m--> 126\u001b[0m \u001b[38;5;28;01mraise\u001b[39;00m e\n",
      "Cell \u001b[0;32mIn[73], line 104\u001b[0m, in \u001b[0;36mprocess_video\u001b[0;34m(video_path, image_processor, model, device, desired_frames, window_size, xclip_text_prompt)\u001b[0m\n\u001b[1;32m    102\u001b[0m \u001b[38;5;66;03m# Forward pass\u001b[39;00m\n\u001b[1;32m    103\u001b[0m \u001b[38;5;28;01mwith\u001b[39;00m torch\u001b[38;5;241m.\u001b[39mno_grad():\n\u001b[0;32m--> 104\u001b[0m     outputs \u001b[38;5;241m=\u001b[39m \u001b[43mmodel\u001b[49m\u001b[43m(\u001b[49m\u001b[38;5;241;43m*\u001b[39;49m\u001b[38;5;241;43m*\u001b[39;49m\u001b[43minputs\u001b[49m\u001b[43m)\u001b[49m\n\u001b[1;32m    106\u001b[0m \u001b[38;5;66;03m# Extract desired output\u001b[39;00m\n\u001b[1;32m    107\u001b[0m \u001b[38;5;28;01mif\u001b[39;00m \u001b[38;5;28mhasattr\u001b[39m(outputs, \u001b[38;5;124m'\u001b[39m\u001b[38;5;124mpooler_output\u001b[39m\u001b[38;5;124m'\u001b[39m):\n",
      "File \u001b[0;32m~/Рабочий стол/video-tagging/video-tag/lib/python3.10/site-packages/torch/nn/modules/module.py:1553\u001b[0m, in \u001b[0;36mModule._wrapped_call_impl\u001b[0;34m(self, *args, **kwargs)\u001b[0m\n\u001b[1;32m   1551\u001b[0m     \u001b[38;5;28;01mreturn\u001b[39;00m \u001b[38;5;28mself\u001b[39m\u001b[38;5;241m.\u001b[39m_compiled_call_impl(\u001b[38;5;241m*\u001b[39margs, \u001b[38;5;241m*\u001b[39m\u001b[38;5;241m*\u001b[39mkwargs)  \u001b[38;5;66;03m# type: ignore[misc]\u001b[39;00m\n\u001b[1;32m   1552\u001b[0m \u001b[38;5;28;01melse\u001b[39;00m:\n\u001b[0;32m-> 1553\u001b[0m     \u001b[38;5;28;01mreturn\u001b[39;00m \u001b[38;5;28;43mself\u001b[39;49m\u001b[38;5;241;43m.\u001b[39;49m\u001b[43m_call_impl\u001b[49m\u001b[43m(\u001b[49m\u001b[38;5;241;43m*\u001b[39;49m\u001b[43margs\u001b[49m\u001b[43m,\u001b[49m\u001b[43m \u001b[49m\u001b[38;5;241;43m*\u001b[39;49m\u001b[38;5;241;43m*\u001b[39;49m\u001b[43mkwargs\u001b[49m\u001b[43m)\u001b[49m\n",
      "File \u001b[0;32m~/Рабочий стол/video-tagging/video-tag/lib/python3.10/site-packages/torch/nn/modules/module.py:1562\u001b[0m, in \u001b[0;36mModule._call_impl\u001b[0;34m(self, *args, **kwargs)\u001b[0m\n\u001b[1;32m   1557\u001b[0m \u001b[38;5;66;03m# If we don't have any hooks, we want to skip the rest of the logic in\u001b[39;00m\n\u001b[1;32m   1558\u001b[0m \u001b[38;5;66;03m# this function, and just call forward.\u001b[39;00m\n\u001b[1;32m   1559\u001b[0m \u001b[38;5;28;01mif\u001b[39;00m \u001b[38;5;129;01mnot\u001b[39;00m (\u001b[38;5;28mself\u001b[39m\u001b[38;5;241m.\u001b[39m_backward_hooks \u001b[38;5;129;01mor\u001b[39;00m \u001b[38;5;28mself\u001b[39m\u001b[38;5;241m.\u001b[39m_backward_pre_hooks \u001b[38;5;129;01mor\u001b[39;00m \u001b[38;5;28mself\u001b[39m\u001b[38;5;241m.\u001b[39m_forward_hooks \u001b[38;5;129;01mor\u001b[39;00m \u001b[38;5;28mself\u001b[39m\u001b[38;5;241m.\u001b[39m_forward_pre_hooks\n\u001b[1;32m   1560\u001b[0m         \u001b[38;5;129;01mor\u001b[39;00m _global_backward_pre_hooks \u001b[38;5;129;01mor\u001b[39;00m _global_backward_hooks\n\u001b[1;32m   1561\u001b[0m         \u001b[38;5;129;01mor\u001b[39;00m _global_forward_hooks \u001b[38;5;129;01mor\u001b[39;00m _global_forward_pre_hooks):\n\u001b[0;32m-> 1562\u001b[0m     \u001b[38;5;28;01mreturn\u001b[39;00m \u001b[43mforward_call\u001b[49m\u001b[43m(\u001b[49m\u001b[38;5;241;43m*\u001b[39;49m\u001b[43margs\u001b[49m\u001b[43m,\u001b[49m\u001b[43m \u001b[49m\u001b[38;5;241;43m*\u001b[39;49m\u001b[38;5;241;43m*\u001b[39;49m\u001b[43mkwargs\u001b[49m\u001b[43m)\u001b[49m\n\u001b[1;32m   1564\u001b[0m \u001b[38;5;28;01mtry\u001b[39;00m:\n\u001b[1;32m   1565\u001b[0m     result \u001b[38;5;241m=\u001b[39m \u001b[38;5;28;01mNone\u001b[39;00m\n",
      "File \u001b[0;32m~/Рабочий стол/video-tagging/video-tag/lib/python3.10/site-packages/transformers/models/x_clip/modeling_x_clip.py:1580\u001b[0m, in \u001b[0;36mXCLIPModel.forward\u001b[0;34m(self, input_ids, pixel_values, attention_mask, position_ids, return_loss, output_attentions, output_hidden_states, return_dict)\u001b[0m\n\u001b[1;32m   1577\u001b[0m img_features \u001b[38;5;241m=\u001b[39m img_features\u001b[38;5;241m.\u001b[39mview(batch_size, num_frames, \u001b[38;5;241m-\u001b[39m\u001b[38;5;241m1\u001b[39m, video_embeds\u001b[38;5;241m.\u001b[39mshape[\u001b[38;5;241m-\u001b[39m\u001b[38;5;241m1\u001b[39m])\n\u001b[1;32m   1578\u001b[0m img_features \u001b[38;5;241m=\u001b[39m img_features\u001b[38;5;241m.\u001b[39mmean(dim\u001b[38;5;241m=\u001b[39m\u001b[38;5;241m1\u001b[39m, keepdim\u001b[38;5;241m=\u001b[39m\u001b[38;5;28;01mFalse\u001b[39;00m)\n\u001b[0;32m-> 1580\u001b[0m text_outputs \u001b[38;5;241m=\u001b[39m \u001b[38;5;28;43mself\u001b[39;49m\u001b[38;5;241;43m.\u001b[39;49m\u001b[43mtext_model\u001b[49m\u001b[43m(\u001b[49m\n\u001b[1;32m   1581\u001b[0m \u001b[43m    \u001b[49m\u001b[43minput_ids\u001b[49m\u001b[38;5;241;43m=\u001b[39;49m\u001b[43minput_ids\u001b[49m\u001b[43m,\u001b[49m\n\u001b[1;32m   1582\u001b[0m \u001b[43m    \u001b[49m\u001b[43mattention_mask\u001b[49m\u001b[38;5;241;43m=\u001b[39;49m\u001b[43mattention_mask\u001b[49m\u001b[43m,\u001b[49m\n\u001b[1;32m   1583\u001b[0m \u001b[43m    \u001b[49m\u001b[43mposition_ids\u001b[49m\u001b[38;5;241;43m=\u001b[39;49m\u001b[43mposition_ids\u001b[49m\u001b[43m,\u001b[49m\n\u001b[1;32m   1584\u001b[0m \u001b[43m    \u001b[49m\u001b[43moutput_attentions\u001b[49m\u001b[38;5;241;43m=\u001b[39;49m\u001b[43moutput_attentions\u001b[49m\u001b[43m,\u001b[49m\n\u001b[1;32m   1585\u001b[0m \u001b[43m    \u001b[49m\u001b[43moutput_hidden_states\u001b[49m\u001b[38;5;241;43m=\u001b[39;49m\u001b[43moutput_hidden_states\u001b[49m\u001b[43m,\u001b[49m\n\u001b[1;32m   1586\u001b[0m \u001b[43m    \u001b[49m\u001b[43mreturn_dict\u001b[49m\u001b[38;5;241;43m=\u001b[39;49m\u001b[43mreturn_dict\u001b[49m\u001b[43m,\u001b[49m\n\u001b[1;32m   1587\u001b[0m \u001b[43m\u001b[49m\u001b[43m)\u001b[49m\n\u001b[1;32m   1589\u001b[0m text_embeds \u001b[38;5;241m=\u001b[39m text_outputs[\u001b[38;5;241m1\u001b[39m]\n\u001b[1;32m   1590\u001b[0m text_embeds \u001b[38;5;241m=\u001b[39m \u001b[38;5;28mself\u001b[39m\u001b[38;5;241m.\u001b[39mtext_projection(text_embeds)\n",
      "File \u001b[0;32m~/Рабочий стол/video-tagging/video-tag/lib/python3.10/site-packages/torch/nn/modules/module.py:1553\u001b[0m, in \u001b[0;36mModule._wrapped_call_impl\u001b[0;34m(self, *args, **kwargs)\u001b[0m\n\u001b[1;32m   1551\u001b[0m     \u001b[38;5;28;01mreturn\u001b[39;00m \u001b[38;5;28mself\u001b[39m\u001b[38;5;241m.\u001b[39m_compiled_call_impl(\u001b[38;5;241m*\u001b[39margs, \u001b[38;5;241m*\u001b[39m\u001b[38;5;241m*\u001b[39mkwargs)  \u001b[38;5;66;03m# type: ignore[misc]\u001b[39;00m\n\u001b[1;32m   1552\u001b[0m \u001b[38;5;28;01melse\u001b[39;00m:\n\u001b[0;32m-> 1553\u001b[0m     \u001b[38;5;28;01mreturn\u001b[39;00m \u001b[38;5;28;43mself\u001b[39;49m\u001b[38;5;241;43m.\u001b[39;49m\u001b[43m_call_impl\u001b[49m\u001b[43m(\u001b[49m\u001b[38;5;241;43m*\u001b[39;49m\u001b[43margs\u001b[49m\u001b[43m,\u001b[49m\u001b[43m \u001b[49m\u001b[38;5;241;43m*\u001b[39;49m\u001b[38;5;241;43m*\u001b[39;49m\u001b[43mkwargs\u001b[49m\u001b[43m)\u001b[49m\n",
      "File \u001b[0;32m~/Рабочий стол/video-tagging/video-tag/lib/python3.10/site-packages/torch/nn/modules/module.py:1562\u001b[0m, in \u001b[0;36mModule._call_impl\u001b[0;34m(self, *args, **kwargs)\u001b[0m\n\u001b[1;32m   1557\u001b[0m \u001b[38;5;66;03m# If we don't have any hooks, we want to skip the rest of the logic in\u001b[39;00m\n\u001b[1;32m   1558\u001b[0m \u001b[38;5;66;03m# this function, and just call forward.\u001b[39;00m\n\u001b[1;32m   1559\u001b[0m \u001b[38;5;28;01mif\u001b[39;00m \u001b[38;5;129;01mnot\u001b[39;00m (\u001b[38;5;28mself\u001b[39m\u001b[38;5;241m.\u001b[39m_backward_hooks \u001b[38;5;129;01mor\u001b[39;00m \u001b[38;5;28mself\u001b[39m\u001b[38;5;241m.\u001b[39m_backward_pre_hooks \u001b[38;5;129;01mor\u001b[39;00m \u001b[38;5;28mself\u001b[39m\u001b[38;5;241m.\u001b[39m_forward_hooks \u001b[38;5;129;01mor\u001b[39;00m \u001b[38;5;28mself\u001b[39m\u001b[38;5;241m.\u001b[39m_forward_pre_hooks\n\u001b[1;32m   1560\u001b[0m         \u001b[38;5;129;01mor\u001b[39;00m _global_backward_pre_hooks \u001b[38;5;129;01mor\u001b[39;00m _global_backward_hooks\n\u001b[1;32m   1561\u001b[0m         \u001b[38;5;129;01mor\u001b[39;00m _global_forward_hooks \u001b[38;5;129;01mor\u001b[39;00m _global_forward_pre_hooks):\n\u001b[0;32m-> 1562\u001b[0m     \u001b[38;5;28;01mreturn\u001b[39;00m \u001b[43mforward_call\u001b[49m\u001b[43m(\u001b[49m\u001b[38;5;241;43m*\u001b[39;49m\u001b[43margs\u001b[49m\u001b[43m,\u001b[49m\u001b[43m \u001b[49m\u001b[38;5;241;43m*\u001b[39;49m\u001b[38;5;241;43m*\u001b[39;49m\u001b[43mkwargs\u001b[49m\u001b[43m)\u001b[49m\n\u001b[1;32m   1564\u001b[0m \u001b[38;5;28;01mtry\u001b[39;00m:\n\u001b[1;32m   1565\u001b[0m     result \u001b[38;5;241m=\u001b[39m \u001b[38;5;28;01mNone\u001b[39;00m\n",
      "File \u001b[0;32m~/Рабочий стол/video-tagging/video-tag/lib/python3.10/site-packages/transformers/models/x_clip/modeling_x_clip.py:746\u001b[0m, in \u001b[0;36mXCLIPTextTransformer.forward\u001b[0;34m(self, input_ids, attention_mask, position_ids, output_attentions, output_hidden_states, return_dict)\u001b[0m\n\u001b[1;32m    743\u001b[0m input_shape \u001b[38;5;241m=\u001b[39m input_ids\u001b[38;5;241m.\u001b[39msize()\n\u001b[1;32m    744\u001b[0m input_ids \u001b[38;5;241m=\u001b[39m input_ids\u001b[38;5;241m.\u001b[39mview(\u001b[38;5;241m-\u001b[39m\u001b[38;5;241m1\u001b[39m, input_shape[\u001b[38;5;241m-\u001b[39m\u001b[38;5;241m1\u001b[39m])\n\u001b[0;32m--> 746\u001b[0m hidden_states \u001b[38;5;241m=\u001b[39m \u001b[38;5;28;43mself\u001b[39;49m\u001b[38;5;241;43m.\u001b[39;49m\u001b[43membeddings\u001b[49m\u001b[43m(\u001b[49m\u001b[43minput_ids\u001b[49m\u001b[38;5;241;43m=\u001b[39;49m\u001b[43minput_ids\u001b[49m\u001b[43m,\u001b[49m\u001b[43m \u001b[49m\u001b[43mposition_ids\u001b[49m\u001b[38;5;241;43m=\u001b[39;49m\u001b[43mposition_ids\u001b[49m\u001b[43m)\u001b[49m\n\u001b[1;32m    748\u001b[0m \u001b[38;5;66;03m# X_CLIP's text model uses causal mask, prepare it here.\u001b[39;00m\n\u001b[1;32m    749\u001b[0m \u001b[38;5;66;03m# https://github.com/openai/CLIP/blob/cfcffb90e69f37bf2ff1e988237a0fbe41f33c04/clip/model.py#L324\u001b[39;00m\n\u001b[1;32m    750\u001b[0m causal_attention_mask \u001b[38;5;241m=\u001b[39m _create_4d_causal_attention_mask(\n\u001b[1;32m    751\u001b[0m     input_shape, hidden_states\u001b[38;5;241m.\u001b[39mdtype, device\u001b[38;5;241m=\u001b[39mhidden_states\u001b[38;5;241m.\u001b[39mdevice\n\u001b[1;32m    752\u001b[0m )\n",
      "File \u001b[0;32m~/Рабочий стол/video-tagging/video-tag/lib/python3.10/site-packages/torch/nn/modules/module.py:1553\u001b[0m, in \u001b[0;36mModule._wrapped_call_impl\u001b[0;34m(self, *args, **kwargs)\u001b[0m\n\u001b[1;32m   1551\u001b[0m     \u001b[38;5;28;01mreturn\u001b[39;00m \u001b[38;5;28mself\u001b[39m\u001b[38;5;241m.\u001b[39m_compiled_call_impl(\u001b[38;5;241m*\u001b[39margs, \u001b[38;5;241m*\u001b[39m\u001b[38;5;241m*\u001b[39mkwargs)  \u001b[38;5;66;03m# type: ignore[misc]\u001b[39;00m\n\u001b[1;32m   1552\u001b[0m \u001b[38;5;28;01melse\u001b[39;00m:\n\u001b[0;32m-> 1553\u001b[0m     \u001b[38;5;28;01mreturn\u001b[39;00m \u001b[38;5;28;43mself\u001b[39;49m\u001b[38;5;241;43m.\u001b[39;49m\u001b[43m_call_impl\u001b[49m\u001b[43m(\u001b[49m\u001b[38;5;241;43m*\u001b[39;49m\u001b[43margs\u001b[49m\u001b[43m,\u001b[49m\u001b[43m \u001b[49m\u001b[38;5;241;43m*\u001b[39;49m\u001b[38;5;241;43m*\u001b[39;49m\u001b[43mkwargs\u001b[49m\u001b[43m)\u001b[49m\n",
      "File \u001b[0;32m~/Рабочий стол/video-tagging/video-tag/lib/python3.10/site-packages/torch/nn/modules/module.py:1562\u001b[0m, in \u001b[0;36mModule._call_impl\u001b[0;34m(self, *args, **kwargs)\u001b[0m\n\u001b[1;32m   1557\u001b[0m \u001b[38;5;66;03m# If we don't have any hooks, we want to skip the rest of the logic in\u001b[39;00m\n\u001b[1;32m   1558\u001b[0m \u001b[38;5;66;03m# this function, and just call forward.\u001b[39;00m\n\u001b[1;32m   1559\u001b[0m \u001b[38;5;28;01mif\u001b[39;00m \u001b[38;5;129;01mnot\u001b[39;00m (\u001b[38;5;28mself\u001b[39m\u001b[38;5;241m.\u001b[39m_backward_hooks \u001b[38;5;129;01mor\u001b[39;00m \u001b[38;5;28mself\u001b[39m\u001b[38;5;241m.\u001b[39m_backward_pre_hooks \u001b[38;5;129;01mor\u001b[39;00m \u001b[38;5;28mself\u001b[39m\u001b[38;5;241m.\u001b[39m_forward_hooks \u001b[38;5;129;01mor\u001b[39;00m \u001b[38;5;28mself\u001b[39m\u001b[38;5;241m.\u001b[39m_forward_pre_hooks\n\u001b[1;32m   1560\u001b[0m         \u001b[38;5;129;01mor\u001b[39;00m _global_backward_pre_hooks \u001b[38;5;129;01mor\u001b[39;00m _global_backward_hooks\n\u001b[1;32m   1561\u001b[0m         \u001b[38;5;129;01mor\u001b[39;00m _global_forward_hooks \u001b[38;5;129;01mor\u001b[39;00m _global_forward_pre_hooks):\n\u001b[0;32m-> 1562\u001b[0m     \u001b[38;5;28;01mreturn\u001b[39;00m \u001b[43mforward_call\u001b[49m\u001b[43m(\u001b[49m\u001b[38;5;241;43m*\u001b[39;49m\u001b[43margs\u001b[49m\u001b[43m,\u001b[49m\u001b[43m \u001b[49m\u001b[38;5;241;43m*\u001b[39;49m\u001b[38;5;241;43m*\u001b[39;49m\u001b[43mkwargs\u001b[49m\u001b[43m)\u001b[49m\n\u001b[1;32m   1564\u001b[0m \u001b[38;5;28;01mtry\u001b[39;00m:\n\u001b[1;32m   1565\u001b[0m     result \u001b[38;5;241m=\u001b[39m \u001b[38;5;28;01mNone\u001b[39;00m\n",
      "File \u001b[0;32m~/Рабочий стол/video-tagging/video-tag/lib/python3.10/site-packages/transformers/models/x_clip/modeling_x_clip.py:165\u001b[0m, in \u001b[0;36mXCLIPTextEmbeddings.forward\u001b[0;34m(self, input_ids, position_ids, inputs_embeds)\u001b[0m\n\u001b[1;32m    162\u001b[0m     inputs_embeds \u001b[38;5;241m=\u001b[39m \u001b[38;5;28mself\u001b[39m\u001b[38;5;241m.\u001b[39mtoken_embedding(input_ids)\n\u001b[1;32m    164\u001b[0m position_embeddings \u001b[38;5;241m=\u001b[39m \u001b[38;5;28mself\u001b[39m\u001b[38;5;241m.\u001b[39mposition_embedding(position_ids)\n\u001b[0;32m--> 165\u001b[0m embeddings \u001b[38;5;241m=\u001b[39m \u001b[43minputs_embeds\u001b[49m\u001b[43m \u001b[49m\u001b[38;5;241;43m+\u001b[39;49m\u001b[43m \u001b[49m\u001b[43mposition_embeddings\u001b[49m\n\u001b[1;32m    167\u001b[0m \u001b[38;5;28;01mreturn\u001b[39;00m embeddings\n",
      "\u001b[0;31mRuntimeError\u001b[0m: The size of tensor a (398) must match the size of tensor b (77) at non-singleton dimension 1"
     ]
    }
   ],
   "source": [
    "new_text_prompt = get_xclip_prompt_with_audio_context(whisper_df, \"2d102489e381cb2dc28395d3a76771b1.mp4\")\n",
    "video_path = \"./data/48.0_films/2d102489e381cb2dc28395d3a76771b1.mp4\"\n",
    "\n",
    "process_video(\n",
    "    video_path,\n",
    "    processor,\n",
    "    model,\n",
    "    device,\n",
    "    xclip_text_prompt=new_text_prompt\n",
    ")"
   ]
  },
  {
   "cell_type": "markdown",
   "id": "7889bd9c-2c15-4d65-814c-311d6cc59037",
   "metadata": {},
   "source": [
    "### ~~Whisper API context~~"
   ]
  },
  {
   "cell_type": "code",
   "execution_count": null,
   "id": "ba61846c-a6a7-43df-b5f5-be02978386ec",
   "metadata": {},
   "outputs": [],
   "source": []
  },
  {
   "cell_type": "markdown",
   "id": "dbf099bf-71e6-4e54-a9d6-4bcaa5b158f4",
   "metadata": {},
   "source": [
    "## PLS-DA"
   ]
  },
  {
   "cell_type": "code",
   "execution_count": 71,
   "id": "72d5f28c-38e7-43db-a5c3-05fce066bd5c",
   "metadata": {},
   "outputs": [],
   "source": [
    "whisper_df = EmbeddingStorage.load_from_file('data/embeddings/whisper.npz')\n",
    "xclip_df = EmbeddingStorage.load_from_file('data/embeddings/xclip_emb.npz')\n",
    "xclip_df.embeddings = xclip_df.embeddings.mean(axis=1)\n",
    "\n",
    "whisper_and_xclip_df = whisper_df.join_on_videoname(xclip_df)\n",
    "whisper_values = np.vstack([elem[0] for elem in whisper_and_xclip_df.embeddings])\n",
    "xclip_values = np.vstack([elem[1] for elem in whisper_and_xclip_df.embeddings])\n",
    "labels = whisper_and_xclip_df.labels"
   ]
  },
  {
   "cell_type": "code",
   "execution_count": null,
   "id": "d7fd8607-f07e-4d44-aa13-9815ac04b170",
   "metadata": {},
   "outputs": [],
   "source": [
    "def run_pls(\n",
    "        X1: np.ndarray,\n",
    "        X2: np.ndarray,\n",
    "        Y: np.ndarray,\n",
    "        prediction_pipe: Callable,\n",
    "        n_splits: int = 5,\n",
    "        n_components_list: int = [4],\n",
    "        seed: int = 42,\n",
    "        normalize: bool = False\n",
    "    ) -> dict:\n",
    "    # Scale the embeddings before applying PLS\n",
    "    kf = StratifiedKFold(n_splits=n_splits, shuffle=True, random_state=seed)\n",
    "    test_acc_1_ttl, test_acc_5_ttl = 0, 0\n",
    "\n",
    "    for n_comp in tqdm(n_components_list): \n",
    "        for train_indices, test_indices in kf.split(np.arange(X1.shape[0]), Y):\n",
    "            Y_train, Y_test = Y[train_indices], Y[test_indices]\n",
    "            \n",
    "            if normalize:\n",
    "                scaler_X1 = StandardScaler()\n",
    "                scaler_X2 = StandardScaler()\n",
    "            \n",
    "                X1_train_scaled = scaler_X1.fit_transform(X1[train_indices])\n",
    "                X2_train_scaled = scaler_X2.fit_transform(X2[train_indices])\n",
    "        \n",
    "                X1_test_scaled = scaler.transform(X1[test_indices])\n",
    "                X2_test_scaled = scaler.transform(X2[test_indices])\n",
    "            else:\n",
    "                X1_train_scaled = X1[train_indices]\n",
    "                X2_train_scaled = X1[train_indices]\n",
    "                \n",
    "                X1_test_scaled = X1[test_indices]\n",
    "                X2_test_scaled = X1[test_indices]\n",
    "            \n",
    "            pls = PLSRegression(n_components=n_components, normalize=False)\n",
    "            pls.fit(X1_train_scaled, X2_train_scaled)\n",
    "            \n",
    "            X1_latent_train, X2_latent_train = pls.transform(X1_train_scaled, X2_train_scaled)\n",
    "            X1_latent_test, X2_latent_test = pls.transform(X1_test_scaled, X2_test_scaled)\n",
    "            \n",
    "            latent_train = 0.5 * X1_latent_train + 0.5 * X2_latent_train\n",
    "            latent_test = 0.5 * X1_latent_test + 0.5 * X2_latent_test\n",
    "            \n",
    "            clf_1 = make_pipeline(NCA(), KNeighborsClassifier())\n",
    "            clf_2 = KNeighborsClassifier()\n",
    "            clf_1.fit(latent_train, Y_train)\n",
    "            clf_2.fit(latent_train, Y_train)\n",
    "            \n",
    "            clf_1_pred = np.argsort(-clf_1.predict_proba(latent_test), axis=1)[:, :5]\n",
    "            clf_2_pred = np.argsort(-clf_2.predict_proba(latent_test), axis=1)[:, :5]\n",
    "            \n",
    "            test_acc_1, test_acc_5 = whisper_and_xclip_df\n",
    "        \n",
    "        print(f'CLF 1: Components: {n_comp}, ACC@1: {acc_1}, ACC@5: {acc_5}')\n",
    "        print(f'CLF 2: Components: {n_comp}, ACC@1: {acc_1}, ACC@5: {acc_5}')\n",
    "            \n",
    "        return pls, mse, X1_latent, X2_latent"
   ]
  },
  {
   "cell_type": "code",
   "execution_count": null,
   "id": "b1bc5af3-1f63-4d1f-a0d4-df8563d26513",
   "metadata": {},
   "outputs": [],
   "source": []
  },
  {
   "cell_type": "code",
   "execution_count": 127,
   "id": "ef9950e4-fbf2-47d7-8469-0349f3ca1d4d",
   "metadata": {},
   "outputs": [],
   "source": [
    "from metric_learn import NCA\n",
    "from sklearn.datasets import load_iris\n",
    "from sklearn.model_selection import cross_val_score\n",
    "from sklearn.pipeline import make_pipeline\n",
    "from sklearn.neighbors import KNeighborsClassifier\n",
    "\n",
    "X, y = load_iris(return_X_y=True)\n",
    "clf = make_pipeline(NCA(), KNeighborsClassifier())\n",
    "\n",
    "clf.fit(X, y)\n",
    "# clf.predict(X).reshape(-1, 1)\n",
    "top_n_classes = np.argsort(-clf.predict_proba(X), axis=1)[:, :2]"
   ]
  },
  {
   "cell_type": "code",
   "execution_count": 129,
   "id": "000fe3bd-0564-43b7-aeaa-ea91e9fa594f",
   "metadata": {},
   "outputs": [
    {
     "data": {
      "text/plain": [
       "(150, 2)"
      ]
     },
     "execution_count": 129,
     "metadata": {},
     "output_type": "execute_result"
    }
   ],
   "source": [
    "top_n_classes.shape"
   ]
  },
  {
   "cell_type": "code",
   "execution_count": 102,
   "id": "a8c5877b-880e-4ecc-a72c-2aeb19f7dbac",
   "metadata": {},
   "outputs": [],
   "source": [
    "X1 = whisper_values\n",
    "X2 = xclip_values\n",
    "Y = labels\n",
    "\n",
    "# Train PLS model\n",
    "pls = PLSRegression(n_components=2, scale=False)\n",
    "pls.fit(X1, X2)\n",
    "\n",
    "X1_latent, X2_latent = pls.transform(X1, X2)"
   ]
  },
  {
   "cell_type": "code",
   "execution_count": 105,
   "id": "1bd77ca0-5b81-4d19-a29d-c9230ca77145",
   "metadata": {},
   "outputs": [
    {
     "data": {
      "text/plain": [
       "array([[1.        , 0.41061584],\n",
       "       [0.41061584, 1.        ]])"
      ]
     },
     "execution_count": 105,
     "metadata": {},
     "output_type": "execute_result"
    }
   ],
   "source": [
    "np.corrcoef(X1_latent[:, 1], X2_latent[:, 1])"
   ]
  },
  {
   "cell_type": "code",
   "execution_count": 85,
   "id": "10dd1e90-8ff1-4851-a3d5-cdc469949bc8",
   "metadata": {},
   "outputs": [
    {
     "data": {
      "text/plain": [
       "<Axes: >"
      ]
     },
     "execution_count": 85,
     "metadata": {},
     "output_type": "execute_result"
    },
    {
     "data": {
      "image/png": "[encoded data removed]",
      "text/plain": [
       "<Figure size 640x480 with 1 Axes>"
      ]
     },
     "metadata": {},
     "output_type": "display_data"
    }
   ],
   "source": [
    "sns.scatterplot(x=X2_latent[:, 0], y=X2_latent[:, 1], hue=Y)"
   ]
  },
  {
   "cell_type": "code",
   "execution_count": 11,
   "id": "5e6917cc-7db8-406c-884f-ef4621845a02",
   "metadata": {},
   "outputs": [
    {
     "data": {
      "text/plain": [
       "(3, 512)"
      ]
     },
     "execution_count": 11,
     "metadata": {},
     "output_type": "execute_result"
    }
   ],
   "source": [
    "np.random.seed(42)\n",
    "X = np.random.rand(n_samples, n_features)\n",
    "y = np.random.randint(0, n_classes, n_samples)\n",
    "\n",
    "# Binarize the labels (One-hot encoding)\n",
    "label_binarizer = LabelaBinarizer()\n",
    "Y_binarized = label_binarizer.fit_transform(y)\n",
    "\n",
    "# If Y_binarized has only one column (binary classification), adjust shape\n",
    "if Y_binarized.shape[1] == 1:\n",
    "    Y_binarized = np.hstack((Y_binarized, 1 - Y_binarized))\n",
    "\n",
    "# Split the data into training and testing sets\n",
    "X_train, X_test, Y_train_binarized, Y_test_binarized, y_train, y_test = train_test_split(\n",
    "    X, Y_binarized, y, test_size=0.2, random_state=42, stratify=y\n",
    ")\n",
    "\n",
    "scaler = StandardScaler()\n",
    "X_train_scaled = scaler.fit_transform(X_train)\n",
    "X_test_scaled = scaler.transform(X_test)\n",
    "\n",
    "# Function to perform cross-validation and find optimal number of components\n",
    "def pls_da_cross_val(X, Y, y_labels, n_components_list):\n",
    "    cv_scores = []\n",
    "    for n_comp in n_components_list:\n",
    "        pls = PLSRegression(n_components=n_comp)\n",
    "        accuracies = []\n",
    "        skf = StratifiedKFold(n_splits=5, shuffle=True, random_state=42)\n",
    "        for train_index, val_index in skf.split(X, y_labels):\n",
    "            X_train_cv, X_val_cv = X[train_index], X[val_index]\n",
    "            Y_train_cv, Y_val_cv = Y[train_index], Y[val_index]\n",
    "            y_val_cv = y_labels[val_index]\n",
    "\n",
    "            pls.fit(X_train_cv, Y_train_cv)\n",
    "            Y_pred_cv = pls.predict(X_val_cv)\n",
    "            y_pred_cv = np.argmax(Y_pred_cv, axis=1)\n",
    "            accuracy = accuracy_score(y_val_cv, y_pred_cv)\n",
    "            accuracies.append(accuracy)\n",
    "        mean_accuracy = np.mean(accuracies)\n",
    "        cv_scores.append(mean_accuracy)\n",
    "        print(f\"Components: {n_comp}, CV Accuracy: {mean_accuracy:.4f}\")\n",
    "    return cv_scores\n",
    "\n",
    "# Define range of components to test\n",
    "n_components_list = [2, 4, 8, 16, 32, 64, 128, 256, 512]  # You can adjust the range as needed\n",
    "\n",
    "# Perform cross-validation\n",
    "cv_scores = pls_da_cross_val(X_train, Y_train_binarized, y_train, n_components_list)\n",
    "\n",
    "# Select the number of components with the highest cross-validation score\n",
    "optimal_n_components = n_components_list[np.argmax(cv_scores)]\n",
    "print(f\"\\nOptimal number of components: {optimal_n_components}\")\n",
    "\n",
    "# Train the final model with the optimal number of components\n",
    "pls_da = PLSRegression(n_components=optimal_n_components)\n",
    "pls_da.fit(X_train, Y_train_binarized)\n",
    "\n",
    "# Predict on the test set\n",
    "Y_pred = pls_da.predict(X_test)\n",
    "y_pred = np.argmax(Y_pred, axis=1)\n",
    "\n",
    "# Evaluate the model\n",
    "test_accuracy = accuracy_score(y_test, y_pred)\n",
    "print(f\"\\nTest Accuracy: {test_accuracy:.4f}\")\n",
    "\n",
    "print(\"\\nClassification Report:\")\n",
    "print(classification_report(y_test, y_pred))\n",
    "\n",
    "print(\"Confusion Matrix:\")\n",
    "print(confusion_matrix(y_test, y_pred))\n"
   ]
  },
  {
   "cell_type": "code",
   "execution_count": null,
   "id": "f03e2b28-e385-40d2-bec2-56ca1828c0d7",
   "metadata": {},
   "outputs": [],
   "source": []
  },
  {
   "cell_type": "markdown",
   "id": "fabb515d-2784-43a5-8094-5ff450c43df0",
   "metadata": {
    "jp-MarkdownHeadingCollapsed": true
   },
   "source": [
    "## 1-NN (with metric learning?)"
   ]
  },
  {
   "cell_type": "code",
   "execution_count": null,
   "id": "b85ebfa0-301d-49e7-bf87-03dd3b9d72a9",
   "metadata": {},
   "outputs": [],
   "source": []
  },
  {
   "cell_type": "markdown",
   "id": "6e17bfb7-2ddf-4a4d-aafb-85862cd01054",
   "metadata": {
    "jp-MarkdownHeadingCollapsed": true
   },
   "source": [
    "## MLP"
   ]
  },
  {
   "cell_type": "code",
   "execution_count": null,
   "id": "7ab6af74-4e2d-49ae-977b-aa6d52bd7a2d",
   "metadata": {},
   "outputs": [],
   "source": []
  },
  {
   "cell_type": "markdown",
   "id": "f68223dc-bf46-4471-9f4c-892d626ca75a",
   "metadata": {
    "jp-MarkdownHeadingCollapsed": true
   },
   "source": [
    "## Gradient boosting"
   ]
  },
  {
   "cell_type": "code",
   "execution_count": null,
   "id": "93370802-060b-483b-98a9-01e9e4b09792",
   "metadata": {},
   "outputs": [],
   "source": []
  }
 ],
 "metadata": {
  "kernelspec": {
   "display_name": "Python (video-tag)",
   "language": "python",
   "name": "video-tag"
  },
  "language_info": {
   "codemirror_mode": {
    "name": "ipython",
    "version": 3
   },
   "file_extension": ".py",
   "mimetype": "text/x-python",
   "name": "python",
   "nbconvert_exporter": "python",
   "pygments_lexer": "ipython3",
   "version": "3.10.12"
  }
 },
 "nbformat": 4,
 "nbformat_minor": 5
}
