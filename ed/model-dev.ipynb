{
 "cells": [
  {
   "cell_type": "markdown",
   "id": "3e978593-6362-4169-b6a3-038c80dcfd95",
   "metadata": {},
   "source": [
    "## Импорты"
   ]
  },
  {
   "cell_type": "code",
   "execution_count": 159,
   "id": "c7bdd6d8-1316-4d74-abd9-207f918a73e5",
   "metadata": {},
   "outputs": [],
   "source": [
    "import numpy as np\n",
    "import pandas as pd\n",
    "import matplotlib.pyplot as plt\n",
    "import seaborn as sns\n",
    "\n",
    "import torch\n",
    "import torch.nn as nn\n",
    "import torchaudio\n",
    "\n",
    "import yt_dlp\n",
    "import subprocess\n",
    "\n",
    "import os\n",
    "import pickle\n",
    "import gc\n",
    "import json\n",
    "import locale\n",
    "import re\n",
    "import tqdm.notebook as tqdm\n",
    "from urllib.parse import urlparse\n",
    "import requests\n",
    "import math\n",
    "\n",
    "import av\n",
    "from huggingface_hub import hf_hub_download\n",
    "from typing import Callable\n",
    "\n",
    "from transformers import VivitImageProcessor, VivitModel\n",
    "from transformers import AutoImageProcessor, VideoMAEModel\n",
    "from transformers import TimesformerConfig, TimesformerModel\n",
    "from transformers import XCLIPProcessor, XCLIPModel\n",
    "from transformers import AutoModelForSpeechSeq2Seq, AutoProcessor\n",
    "from transformers import Wav2Vec2ForCTC, Wav2Vec2Processor\n",
    "from transformers import BitsAndBytesConfig, LlavaNextVideoForConditionalGeneration, LlavaNextVideoProcessor\n",
    "from transformers import AutoModelForSpeechSeq2Seq, AutoProcessor, pipeline\n",
    "\n",
    "import librosa\n",
    "from moviepy.editor import VideoFileClip\n",
    "import ast\n",
    "import openunmix\n",
    "\n",
    "from minio import Minio\n",
    "from minio.error import S3Error\n",
    "\n",
    "import hydra\n",
    "import soundfile as sf\n",
    "from omegaconf import OmegaConf\n",
    "\n",
    "import logging\n",
    "from typing import List\n",
    "\n",
    "import numpy as np\n",
    "from sklearn.cross_decomposition import PLSRegression, CCA\n",
    "from sklearn.preprocessing import StandardScaler, LabelBinarizer\n",
    "from sklearn.model_selection import train_test_split, StratifiedKFold, KFold\n",
    "from sklearn.metrics import accuracy_score, classification_report, confusion_matrix\n",
    "from sklearn.pipeline import make_pipeline\n",
    "from sklearn.neighbors import KNeighborsClassifier\n",
    "from metric_learn import NCA\n",
    "\n",
    "locale.getpreferredencoding = lambda: \"UTF-8\"\n",
    "\n",
    "logging.basicConfig(\n",
    "    filename='vivit_inference.log',\n",
    "    level=logging.INFO,\n",
    "    format='%(asctime)s - %(levelname)s - %(message)s'\n",
    ")"
   ]
  },
  {
   "cell_type": "markdown",
   "id": "a1c057b8-4ae5-4dcb-87b9-6395696b8f24",
   "metadata": {},
   "source": [
    "Константы"
   ]
  },
  {
   "cell_type": "code",
   "execution_count": 2,
   "id": "79f4074a-a223-4007-aafd-bd3e3ce2a4cb",
   "metadata": {},
   "outputs": [],
   "source": [
    "CATEGORIES_ENG = \"\"\"Auto-moto,\n",
    "Anime,\n",
    "Audiobooks,\n",
    "Business,\n",
    "Video games,\n",
    "Interview,\n",
    "Art,\n",
    "Movie,\n",
    "Beauty,\n",
    "Cooking,\n",
    "Life Hacks,\n",
    "Music,\n",
    "Cartoons,\n",
    "News,\n",
    "Training,\n",
    "Hunting and fishing,\n",
    "Politics,\n",
    "Psychology,\n",
    "Journeys,\n",
    "Serials,\n",
    "Sport,\n",
    "Humor,\n",
    "Lifestyle,\n",
    "Realty,\n",
    "Health,\n",
    "Nature,\n",
    "Design,\n",
    "Machinery and equipment,\n",
    "Business and entrepreneurship,\n",
    "Culture,\n",
    "Religion,\n",
    "Construction and renovation,\n",
    "Garden and vegetable garden,\n",
    "Food,\n",
    "Entertainment,\n",
    "Esotericism,\n",
    "The science,\n",
    "Audio,\n",
    "Technology and the Internet,\n",
    "TV shows,\n",
    "For children,\n",
    "Hobby,\n",
    "Various,\n",
    "Animals,\n",
    "News and media,\n",
    "Films,\n",
    "Bloggers,\n",
    "\"\"\"\n",
    "\n",
    "CATEGORIES_RUS = \"\"\"\n",
    "Авто-мото\n",
    "Аниме\n",
    "Аудиокниги\n",
    "Бизнес\n",
    "Видеоигры\n",
    "Интервью\n",
    "Искусство\n",
    "Кино\n",
    "Красота\n",
    "Кулинария\n",
    "Лайфхаки\n",
    "Музыка\n",
    "Мультфильмы\n",
    "Новости\n",
    "Обучение\n",
    "Охота_и_рыбалка\n",
    "Политика\n",
    "Психология\n",
    "Путешествия\n",
    "Сериалы\n",
    "Спорт\n",
    "Юмор\n",
    "Лайфстайл\n",
    "Недвижимость\n",
    "Здоровье\n",
    "Природа\n",
    "Дизайн\n",
    "Техника_и_оборудование\n",
    "Бизнес_и_предпринимательство\n",
    "Культура\n",
    "Религия\n",
    "Строительство_и_ремонт\n",
    "Сад_и_огород\n",
    "Еда\n",
    "Развлечения\n",
    "Эзотерика\n",
    "Наука\n",
    "Аудио\n",
    "Технологии_и_интернет\n",
    "Телепередачи\n",
    "Детям\n",
    "Хобби\n",
    "Разное\n",
    "Животные\n",
    "Новости_и_СМИ\n",
    "Фильмы\n",
    "Блогеры\n",
    "\"\"\"\n",
    "\n",
    "\n",
    "RUS_TEXT_PROMPT = [\n",
    "    f\"Видео принадлежит категории '{x}'\" for x in CATEGORIES_RUS.split() if x.strip() != ''\n",
    "]\n",
    "ENG_TEXT_PROMPT = [\n",
    "    f\"Video belongs to category '{x}'\" for x in CATEGORIES_ENG.split(',\\n') if x.strip() != ''\n",
    "]"
   ]
  },
  {
   "cell_type": "markdown",
   "id": "6323d233-6664-4d82-9e01-3656e9b596ad",
   "metadata": {
    "jp-MarkdownHeadingCollapsed": true
   },
   "source": [
    "## Вспомогательный код"
   ]
  },
  {
   "cell_type": "code",
   "execution_count": 3,
   "id": "ad269fc7-426e-40bc-830c-fbc65681c0e2",
   "metadata": {},
   "outputs": [],
   "source": [
    "client = Minio(\n",
    "    endpoint=\"storage.yandexcloud.net\",\n",
    "    access_key=\"YCAJESQqZUja9X-F1glArEPSY\",\n",
    "    secret_key=\"YCP6M_QUdKUF1XBlgz_hOWAlTkcMbnEUyLG5hsQv\",\n",
    ")\n",
    "\n",
    "BUCKET_NAME = \"rutube-tagging\"\n",
    "\n",
    "\n",
    "def list_files_in_bucket(bucket_name=BUCKET_NAME):\n",
    "    \"\"\"\n",
    "    List all files in the S3 bucket.\n",
    "    \"\"\"\n",
    "    try:\n",
    "        objects = client.list_objects(bucket_name)\n",
    "        for obj in objects:\n",
    "            print(obj.object_name)\n",
    "    except S3Error as e:\n",
    "        print(f\"Error listing objects in bucket: {e}\")\n",
    "\n",
    "\n",
    "def download_video_from_s3_url(url, output_directory='.'):\n",
    "    \"\"\"\n",
    "    Downloads a video from an S3-compatible URL using the MinIO client.\n",
    "    \n",
    "    :param url: The S3 URL of the video to download.\n",
    "    :param output_directory: The directory where the video will be saved.\n",
    "    \"\"\"\n",
    "    try:\n",
    "        # Parse the URL to extract bucket and object name\n",
    "        parsed_url = urlparse(url)\n",
    "        path_parts = parsed_url.path.lstrip('/').split('/', 1)\n",
    "        \n",
    "        if len(path_parts) != 2:\n",
    "            raise ValueError(\"URL does not contain both bucket and object name.\")\n",
    "        \n",
    "        bucket_name, object_name = path_parts\n",
    "        \n",
    "        # Ensure the output directory exists\n",
    "        os.makedirs(output_directory, exist_ok=True)\n",
    "        \n",
    "        # Define the local file path\n",
    "        filename = os.path.basename(object_name)\n",
    "        local_file_path = os.path.join(output_directory, filename)\n",
    "        \n",
    "        print(f\"Starting download of {url} using MinIO client...\")\n",
    "        \n",
    "        # Download the object\n",
    "        client.fget_object(\n",
    "            bucket_name, object_name, local_file_path\n",
    "        )\n",
    "        \n",
    "        print(f\"Download completed. Saved to {local_file_path}\")\n",
    "    \n",
    "    except S3Error as e:\n",
    "        print(f\"S3 error occurred: {e}\")\n",
    "    except Exception as e:\n",
    "        print(f\"An error occurred: {e}\")\n",
    "\n",
    "\n",
    "def download_video_from_url(url, output_directory='.'):\n",
    "    \"\"\"\n",
    "    Downloads a video from the given URL to the specified output directory.\n",
    "    \n",
    "    :param url: The URL of the video to download.\n",
    "    :param output_directory: The directory where the video will be saved.\n",
    "    \"\"\"\n",
    "    try:\n",
    "        # Ensure the output directory exists\n",
    "        os.makedirs(output_directory, exist_ok=True)\n",
    "        \n",
    "        # Extract the filename from the URL\n",
    "        filename = os.path.basename(url)\n",
    "        local_file_path = os.path.join(output_directory, filename)\n",
    "        \n",
    "        print(f\"Starting download of {url}...\")\n",
    "        \n",
    "        # Stream the download to handle large files\n",
    "        with requests.get(url, stream=True) as response:\n",
    "            response.raise_for_status()  # Check for HTTP errors\n",
    "            with open(local_file_path, 'wb') as f:\n",
    "                for chunk in tqdm.tqdm(response.iter_content(chunk_size=8192)):\n",
    "                    if chunk:  # Filter out keep-alive chunks\n",
    "                        f.write(chunk)\n",
    "        \n",
    "        print(f\"Download completed. Saved to {local_file_path}\")\n",
    "    \n",
    "    except requests.exceptions.HTTPError as http_err:\n",
    "        print(f\"HTTP error occurred while downloading {url}: {http_err}\")\n",
    "    except Exception as err:\n",
    "        print(f\"An error occurred while downloading {url}: {err}\")"
   ]
  },
  {
   "cell_type": "code",
   "execution_count": 4,
   "id": "d3621451-7d25-4808-b085-e54ac8e4fba9",
   "metadata": {},
   "outputs": [],
   "source": [
    "np.random.seed(0)\n",
    "torch.manual_seed(0)\n",
    "\n",
    "\n",
    "def get_model_params_count(model):\n",
    "    return sum(p.numel() for p in model.parameters() if p.requires_grad)\n",
    "\n",
    "\n",
    "def sample_frame_indices(desired_frames: int, frame_sample_rate: int, total_frames: int) -> np.ndarray:\n",
    "    indices = np.arange(0, frame_sample_rate*desired_frames, frame_sample_rate)\n",
    "    if indices[-1] >= total_frames:\n",
    "        indices = np.clip(indices, 0, total_frames-1)\n",
    "\n",
    "    return indices\n",
    "\n",
    "\n",
    "def read_video_pyav(container: av.container.input.InputContainer, indices: List[int]) -> np.ndarray:\n",
    "    from collections import Counter\n",
    "    \n",
    "    frames = []\n",
    "    container.seek(0)\n",
    "    indices_dct = Counter(indices)\n",
    "    \n",
    "    max_idx = indices[-1]\n",
    "    \n",
    "    for i, frame in enumerate(container.decode(video=0)):\n",
    "        if i > max_idx:\n",
    "            break\n",
    "        \n",
    "        if i in indices_dct:\n",
    "            while indices_dct[i] > 0:\n",
    "                frames.append(frame)\n",
    "                indices_dct[i] -= 1\n",
    "    \n",
    "    return np.stack([x.to_ndarray(format=\"rgb24\") for x in frames])\n",
    "\n",
    "\n",
    "def process_video(\n",
    "    video_path: str, \n",
    "    image_processor, \n",
    "    model,\n",
    "    device: str = 'cuda',\n",
    "    desired_frames: int = 96,\n",
    "    window_size: int = 32,\n",
    "    xclip_text_prompt: list = RUS_TEXT_PROMPT\n",
    ") -> torch.Tensor:\n",
    "    \"\"\"\n",
    "    Processes a Rutube video: extracts the first two minutes, samples 96 frames,\n",
    "    and returns the ViViT model's output.\n",
    "\n",
    "    :param video_path: Path to the video file.\n",
    "    :param window_size: Size of each window for ViViT.\n",
    "    :return: Model's output tensor.\n",
    "    \"\"\"\n",
    "    assert desired_frames % window_size == 0\n",
    "    \n",
    "    try:\n",
    "        # Open video with PyAV\n",
    "        container = av.open(video_path)\n",
    "        video_stream = container.streams.video[0]\n",
    "        \n",
    "        # Get total frames\n",
    "        total_frames = video_stream.frames\n",
    "        if total_frames == 0:\n",
    "            duration = float(video_stream.duration * video_stream.time_base)\n",
    "            fps = float(video_stream.average_rate)\n",
    "            total_frames = int(duration * fps)\n",
    "        else:\n",
    "            fps = float(video_stream.average_rate)\n",
    "            duration = float(video_stream.duration * video_stream.time_base)\n",
    "        \n",
    "        # Determine target duration (first minute or actual duration)\n",
    "        target_duration = min(60, duration)  # seconds\n",
    "        \n",
    "        # Calculate frame_sample_rate and frame indices, read sampled frames\n",
    "        frame_sample_rate = max(1, int(math.floor((fps * target_duration) / desired_frames)))\n",
    "        indices = sample_frame_indices(desired_frames, frame_sample_rate, total_frames)\n",
    "        video_frames = read_video_pyav(container, indices)\n",
    "        \n",
    "        if len(video_frames) == 0:\n",
    "            raise ValueError(\"No frames were extracted from the video.\")\n",
    "        \n",
    "        # Process inputs with image_processor\n",
    "        if isinstance(model, XCLIPModel):\n",
    "            inputs = image_processor(\n",
    "                text=xclip_text_prompt,\n",
    "                videos=list(video_frames),\n",
    "                return_tensors=\"pt\",\n",
    "                padding=True,\n",
    "                max_length=1024\n",
    "            )\n",
    "        else:\n",
    "            inputs = image_processor(\n",
    "                list(video_frames),\n",
    "                return_tensors=\"pt\",\n",
    "                padding=True\n",
    "            )\n",
    "        inputs['pixel_values'] = torch.concat(torch.split(inputs['pixel_values'], window_size, dim=1))\n",
    "        inputs = {k: v.to(device) for k, v in inputs.items()}\n",
    "\n",
    "        # Forward pass\n",
    "        with torch.no_grad():\n",
    "            outputs = model(**inputs)\n",
    "        \n",
    "        # Extract desired output\n",
    "        if hasattr(outputs, 'pooler_output'):\n",
    "            output = outputs.pooler_output.mean(dim=0).cpu()\n",
    "            return output\n",
    "        elif hasattr(outputs, 'last_hidden_state'):\n",
    "            output = outputs.last_hidden_state.mean(dim=[0, 1]).cpu()\n",
    "            return output\n",
    "        elif isinstance(model, XCLIPModel):\n",
    "            probs = outputs.logits_per_video.cpu().squeeze().softmax(dim=-1)\n",
    "            video_emb = outputs.video_embeds.cpu().squeeze()\n",
    "            return video_emb, probs\n",
    "        else:\n",
    "            raise AttributeError(\"Model output does not contain 'pooler_output' or 'last_hidden_state'.\")\n",
    "        \n",
    "        return output\n",
    "\n",
    "    except Exception as e:\n",
    "        logging.error(f\"Unexpected error: {e}\")\n",
    "        print(\"An unexpected error occurred:\")\n",
    "        print(e)\n",
    "\n",
    "\n",
    "def instantiate_model(model_name: str, device: str = 'cuda'):\n",
    "    if model_name == 'vivit':\n",
    "        model = VivitModel.from_pretrained(\"models/vivit_model\")\n",
    "        image_processor = VivitImageProcessor.from_pretrained(\"models/vivit_image_processor\")\n",
    "        window_size = 32\n",
    "    elif model_name == 'timesformer':\n",
    "        model = TimesformerModel.from_pretrained(\"models/timesformer_model\")\n",
    "        image_processor = AutoImageProcessor.from_pretrained(\"models/timesformer_image_processor\")\n",
    "        window_size = 8\n",
    "    elif model_name == 'videomae':\n",
    "        model = VideoMAEModel.from_pretrained(\"models/videomae_model\")\n",
    "        image_processor = AutoImageProcessor.from_pretrained(\"models/videomae_image_processor\")\n",
    "        window_size = 16\n",
    "    elif model_name == 'x-clip':\n",
    "        model = XCLIPModel.from_pretrained(\"models/xclip_model\")\n",
    "        image_processor = XCLIPProcessor.from_pretrained(\"models/xclip_image_processor\")\n",
    "        window_size = 32\n",
    "    else:\n",
    "        raise ValueError(f\"{model_name} is not supported, should be in ('vivit', 'timesformer', 'videomae', 'x-clip')\")\n",
    "\n",
    "    \n",
    "    model = model.to(device)\n",
    "    model.eval()\n",
    "\n",
    "    return model, image_processor, window_size"
   ]
  },
  {
   "cell_type": "markdown",
   "id": "2bda6f77-ac5b-4db2-b25c-3d83842f0858",
   "metadata": {},
   "source": [
    "## Calculate embeddings"
   ]
  },
  {
   "cell_type": "markdown",
   "id": "db5bb02d-963e-494b-968e-3ef4d0517d3f",
   "metadata": {
    "jp-MarkdownHeadingCollapsed": true
   },
   "source": [
    "### Save storage"
   ]
  },
  {
   "cell_type": "code",
   "execution_count": 21,
   "id": "48dff4c2-07d8-4692-adad-48625d224d9a",
   "metadata": {},
   "outputs": [],
   "source": [
    "class EmbeddingStorage:\n",
    "    def __init__(self, labels=None, filenames=None, embeddings=None):\n",
    "        \"\"\"\n",
    "        Initialize the EmbeddingStorage class.\n",
    "        \n",
    "        Args:\n",
    "            labels (list or np.ndarray): An array of labels for the embeddings.\n",
    "            filenames (list or np.ndarray): An array of filenames associated with the embeddings.\n",
    "            embeddings (np.ndarray): A NumPy array containing all embeddings.\n",
    "        \"\"\"\n",
    "        self.labels = np.array(labels) if labels is not None else np.array([])\n",
    "        self.filenames = np.array(filenames) if filenames is not None else np.array([])\n",
    "        self.embeddings = np.array(embeddings) if embeddings is not None else np.empty((0,))\n",
    "\n",
    "    def add_embedding(self, label, filename, embedding):\n",
    "        \"\"\"\n",
    "        Add a new embedding, along with its label and filename.\n",
    "        \n",
    "        Args:\n",
    "            label (int or str): The label of the embedding.\n",
    "            filename (str): The filename associated with the embedding.\n",
    "            embedding (np.ndarray or torch.Tensor): The embedding to add (can be a NumPy array or Tensor).\n",
    "        \"\"\"\n",
    "        if isinstance(embedding, np.ndarray):\n",
    "            emb_array = embedding\n",
    "        else:\n",
    "            # Convert torch.Tensor to NumPy\n",
    "            emb_array = embedding.cpu().numpy()\n",
    "        \n",
    "        # Append the new data\n",
    "        self.labels = np.append(self.labels, label)\n",
    "        self.filenames = np.append(self.filenames, filename)\n",
    "        \n",
    "        if self.embeddings.size == 0:\n",
    "            self.embeddings = emb_array.reshape(1, -1)\n",
    "        else:\n",
    "            self.embeddings = np.vstack([self.embeddings, emb_array])\n",
    "\n",
    "    def save_to_file(self, file_path):\n",
    "        \"\"\"\n",
    "        Save the embeddings, labels, and filenames to a file (as .npz).\n",
    "        \n",
    "        Args:\n",
    "            file_path (str): The path to save the .npz file.\n",
    "        \"\"\"\n",
    "        np.savez(file_path, labels=self.labels, filenames=self.filenames, embeddings=self.embeddings)\n",
    "\n",
    "    @classmethod\n",
    "    def load_from_file(cls, file_path):\n",
    "        \"\"\"\n",
    "        Load embeddings, labels, and filenames from a saved .npz file.\n",
    "        \n",
    "        Args:\n",
    "            file_path (str): The path to the .npz file to load.\n",
    "        \n",
    "        Returns:\n",
    "            EmbeddingStorage: An instance of EmbeddingStorage with loaded data.\n",
    "        \"\"\"\n",
    "        data = np.load(file_path)\n",
    "        return cls(labels=data['labels'], filenames=data['filenames'], embeddings=data['embeddings'])\n",
    "\n",
    "    def get_embedding_by_filename(self, filename):\n",
    "        \"\"\"\n",
    "        Retrieve an embedding by its associated filename.\n",
    "        \n",
    "        Args:\n",
    "            filename (str): The filename to search for.\n",
    "        \n",
    "        Returns:\n",
    "            np.ndarray: The corresponding embedding or None if not found.\n",
    "        \"\"\"\n",
    "        if filename in self.filenames:\n",
    "            idx = np.where(self.filenames == filename)[0][0]\n",
    "            return self.embeddings[idx]\n",
    "        else:\n",
    "            return None\n",
    "\n",
    "    def join_on_videoname(self, other_storage):\n",
    "        \"\"\"\n",
    "        Join two EmbeddingStorage objects on the 'videoname' (filename). The embeddings will be stored as tuples.\n",
    "        \n",
    "        Args:\n",
    "            other_storage (EmbeddingStorage): Another EmbeddingStorage object to join with.\n",
    "        \n",
    "        Returns:\n",
    "            EmbeddingStorage: A new EmbeddingStorage object with merged data (embedding tuples).\n",
    "        \"\"\"\n",
    "        # Find common filenames\n",
    "        common_filenames = np.intersect1d(self.filenames, other_storage.filenames)\n",
    "        \n",
    "        # Initialize lists to store merged data\n",
    "        merged_labels = []\n",
    "        merged_filenames = []\n",
    "        merged_embeddings = []\n",
    "        \n",
    "        for filename in common_filenames:\n",
    "            # Get embeddings for the common filename from both storages\n",
    "            idx_self = np.where(self.filenames == filename)[0][0]\n",
    "            idx_other = np.where(other_storage.filenames == filename)[0][0]\n",
    "            \n",
    "            emb_self = self.embeddings[idx_self]\n",
    "            emb_other = other_storage.embeddings[idx_other]\n",
    "            \n",
    "            # Store embeddings as a tuple\n",
    "            merged_embedding = (emb_self, emb_other)\n",
    "            \n",
    "            # Get the label from the first storage (could be changed based on use case)\n",
    "            merged_label = self.labels[idx_self]\n",
    "            \n",
    "            # Append to the merged data\n",
    "            merged_labels.append(merged_label)\n",
    "            merged_filenames.append(filename)\n",
    "            merged_embeddings.append(merged_embedding)\n",
    "        \n",
    "        # Convert lists to numpy arrays\n",
    "        merged_labels = np.array(merged_labels)\n",
    "        merged_filenames = np.array(merged_filenames)\n",
    "        merged_embeddings = np.array(merged_embeddings, dtype=object)\n",
    "        \n",
    "        # Return a new EmbeddingStorage instance with merged data\n",
    "        return EmbeddingStorage(labels=merged_labels, filenames=merged_filenames, embeddings=merged_embeddings)\n",
    "\n",
    "    def __len__(self):\n",
    "        \"\"\"\n",
    "        Return the number of embeddings stored.\n",
    "        \"\"\"\n",
    "        return len(self.labels)\n",
    "\n",
    "    def __getitem__(self, idx):\n",
    "        \"\"\"\n",
    "        Retrieve the label, filename, and embedding by index.\n",
    "        \n",
    "        Args:\n",
    "            idx (int): The index of the embedding to retrieve.\n",
    "        \n",
    "        Returns:\n",
    "            tuple: A tuple containing (label, filename, embedding).\n",
    "        \"\"\"\n",
    "        if idx >= len(self.labels):\n",
    "            raise IndexError(\"Index out of range\")\n",
    "        return self.labels[idx], self.filenames[idx], self.embeddings[idx]\n",
    "\n",
    "    def __repr__(self):\n",
    "        return f\"EmbeddingStorage(labels={len(self.labels)}, filenames={len(self.filenames)}, embeddings_shape={self.embeddings.shape})\""
   ]
  },
  {
   "cell_type": "markdown",
   "id": "7f3dd282-3ab2-4960-93d8-e97931679d1f",
   "metadata": {},
   "source": [
    "### Video"
   ]
  },
  {
   "cell_type": "code",
   "execution_count": 107,
   "id": "0854b556-7c6e-4efe-be40-28fb2ea7483d",
   "metadata": {},
   "outputs": [],
   "source": [
    "if 'mapping_df' in locals():\n",
    "    del mapping_df\n",
    "\n",
    "mapping_df = pd.read_csv('scraped_dataset.csv')"
   ]
  },
  {
   "cell_type": "markdown",
   "id": "8837ca96-65ef-42b4-85e8-033cc43949c4",
   "metadata": {
    "jp-MarkdownHeadingCollapsed": true
   },
   "source": [
    "#### Upload rest of the videos"
   ]
  },
  {
   "cell_type": "code",
   "execution_count": 156,
   "id": "1cdcad1e-3e24-4ff4-90b1-16fc2937daef",
   "metadata": {},
   "outputs": [
    {
     "name": "stdout",
     "output_type": "stream",
     "text": [
      "19.0_serials 6\n",
      "embeddings 1\n",
      "45.0_various 0\n",
      "42.0_tv shows 1\n"
     ]
    }
   ],
   "source": [
    "import os\n",
    "\n",
    "\n",
    "data_dir = './data/'\n",
    "directory = os.fsencode(data_dir)\n",
    "    \n",
    "for file in os.listdir(directory):\n",
    "    filename = os.fsdecode(file)\n",
    "    fullpath = os.path.join(data_dir, filename)\n",
    "\n",
    "    if os.path.isdir(fullpath):\n",
    "        if len(os.listdir(fullpath)) <= 6:\n",
    "            print(filename, len(os.listdir(fullpath)))"
   ]
  },
  {
   "cell_type": "code",
   "execution_count": 155,
   "id": "cdc1a26f-71c0-4823-9663-308e4a073f6c",
   "metadata": {},
   "outputs": [
    {
     "data": {
      "application/vnd.jupyter.widget-view+json": {
       "model_id": "68744c15450d49dfaf1acc6c47337b70",
       "version_major": 2,
       "version_minor": 0
      },
      "text/plain": [
       "  0%|          | 0/7 [00:00<?, ?it/s]"
      ]
     },
     "metadata": {},
     "output_type": "display_data"
    },
    {
     "name": "stdout",
     "output_type": "stream",
     "text": [
      "Starting download of https://storage.yandexcloud.net/rutube-tagging/706ad097359f7cc6d007701d551b7679.mp4...\n"
     ]
    },
    {
     "data": {
      "application/vnd.jupyter.widget-view+json": {
       "model_id": "762d18d6651c465fa6123ae8fe52516d",
       "version_major": 2,
       "version_minor": 0
      },
      "text/plain": [
       "0it [00:00, ?it/s]"
      ]
     },
     "metadata": {},
     "output_type": "display_data"
    },
    {
     "name": "stdout",
     "output_type": "stream",
     "text": [
      "Download completed. Saved to ./data/7.0_movie/706ad097359f7cc6d007701d551b7679.mp4\n",
      "Starting download of https://storage.yandexcloud.net/rutube-tagging/2e1ecf3e724fa17ab80c1bab94f4f7cf.mp4...\n"
     ]
    },
    {
     "data": {
      "application/vnd.jupyter.widget-view+json": {
       "model_id": "bad275178f3c432e932a1bd40ce09c04",
       "version_major": 2,
       "version_minor": 0
      },
      "text/plain": [
       "0it [00:00, ?it/s]"
      ]
     },
     "metadata": {},
     "output_type": "display_data"
    },
    {
     "name": "stdout",
     "output_type": "stream",
     "text": [
      "Download completed. Saved to ./data/7.0_movie/2e1ecf3e724fa17ab80c1bab94f4f7cf.mp4\n",
      "Starting download of https://storage.yandexcloud.net/rutube-tagging/b32a625ab469910d422d362112c0f659.mp4...\n"
     ]
    },
    {
     "data": {
      "application/vnd.jupyter.widget-view+json": {
       "model_id": "e20c6e075c704bffb846de1920274670",
       "version_major": 2,
       "version_minor": 0
      },
      "text/plain": [
       "0it [00:00, ?it/s]"
      ]
     },
     "metadata": {},
     "output_type": "display_data"
    },
    {
     "name": "stdout",
     "output_type": "stream",
     "text": [
      "Download completed. Saved to ./data/7.0_movie/b32a625ab469910d422d362112c0f659.mp4\n",
      "Starting download of https://storage.yandexcloud.net/rutube-tagging/37cf3b59bf1037d482dcd152725739a5.mp4...\n"
     ]
    },
    {
     "data": {
      "application/vnd.jupyter.widget-view+json": {
       "model_id": "4cf012db1890493d94586dc9ee27ed45",
       "version_major": 2,
       "version_minor": 0
      },
      "text/plain": [
       "0it [00:00, ?it/s]"
      ]
     },
     "metadata": {},
     "output_type": "display_data"
    },
    {
     "name": "stdout",
     "output_type": "stream",
     "text": [
      "Download completed. Saved to ./data/7.0_movie/37cf3b59bf1037d482dcd152725739a5.mp4\n",
      "Starting download of https://storage.yandexcloud.net/rutube-tagging/2a80727d7775e95da024c6649cf77ff4.mp4...\n"
     ]
    },
    {
     "data": {
      "application/vnd.jupyter.widget-view+json": {
       "model_id": "facc4ac77a554882b4cfd5a27fd50650",
       "version_major": 2,
       "version_minor": 0
      },
      "text/plain": [
       "0it [00:00, ?it/s]"
      ]
     },
     "metadata": {},
     "output_type": "display_data"
    },
    {
     "name": "stdout",
     "output_type": "stream",
     "text": [
      "Download completed. Saved to ./data/7.0_movie/2a80727d7775e95da024c6649cf77ff4.mp4\n",
      "Starting download of https://storage.yandexcloud.net/rutube-tagging/7e2fec947c047fbdd5ee34196dc26a83.mp4...\n"
     ]
    },
    {
     "data": {
      "application/vnd.jupyter.widget-view+json": {
       "model_id": "135e68a0674f4e50ae4e410d36e1dc15",
       "version_major": 2,
       "version_minor": 0
      },
      "text/plain": [
       "0it [00:00, ?it/s]"
      ]
     },
     "metadata": {},
     "output_type": "display_data"
    },
    {
     "name": "stdout",
     "output_type": "stream",
     "text": [
      "Download completed. Saved to ./data/29.0_design/7e2fec947c047fbdd5ee34196dc26a83.mp4\n",
      "Starting download of https://storage.yandexcloud.net/rutube-tagging/1c09f1decadc5696e91700730fb2f85d.mp4...\n"
     ]
    },
    {
     "data": {
      "application/vnd.jupyter.widget-view+json": {
       "model_id": "b266b38283ee4be2b8927fc1377bf42c",
       "version_major": 2,
       "version_minor": 0
      },
      "text/plain": [
       "0it [00:00, ?it/s]"
      ]
     },
     "metadata": {},
     "output_type": "display_data"
    },
    {
     "name": "stdout",
     "output_type": "stream",
     "text": [
      "Download completed. Saved to ./data/46.0_animals/1c09f1decadc5696e91700730fb2f85d.mp4\n",
      "Starting download of https://storage.yandexcloud.net/rutube-tagging/e7fb421c213fa05a74779d8b79a55070.mp4...\n"
     ]
    },
    {
     "data": {
      "application/vnd.jupyter.widget-view+json": {
       "model_id": "bb2d66ee2be14ba79d2ee725355bb8de",
       "version_major": 2,
       "version_minor": 0
      },
      "text/plain": [
       "0it [00:00, ?it/s]"
      ]
     },
     "metadata": {},
     "output_type": "display_data"
    },
    {
     "name": "stdout",
     "output_type": "stream",
     "text": [
      "Download completed. Saved to ./data/5.0_interview/e7fb421c213fa05a74779d8b79a55070.mp4\n",
      "Starting download of https://storage.yandexcloud.net/rutube-tagging/56fdf9fab27b203aff343e69451405a1.mp4...\n"
     ]
    },
    {
     "data": {
      "application/vnd.jupyter.widget-view+json": {
       "model_id": "295e9686d93049fbad68898981022ecc",
       "version_major": 2,
       "version_minor": 0
      },
      "text/plain": [
       "0it [00:00, ?it/s]"
      ]
     },
     "metadata": {},
     "output_type": "display_data"
    },
    {
     "name": "stdout",
     "output_type": "stream",
     "text": [
      "Download completed. Saved to ./data/5.0_interview/56fdf9fab27b203aff343e69451405a1.mp4\n",
      "Starting download of https://storage.yandexcloud.net/rutube-tagging/bf67ce3c647370f8d513ca28dfaecff8.mp4...\n"
     ]
    },
    {
     "data": {
      "application/vnd.jupyter.widget-view+json": {
       "model_id": "8825eb6bda1341f0bc0c3294d1e1d224",
       "version_major": 2,
       "version_minor": 0
      },
      "text/plain": [
       "0it [00:00, ?it/s]"
      ]
     },
     "metadata": {},
     "output_type": "display_data"
    },
    {
     "name": "stdout",
     "output_type": "stream",
     "text": [
      "Download completed. Saved to ./data/5.0_interview/bf67ce3c647370f8d513ca28dfaecff8.mp4\n",
      "Starting download of https://storage.yandexcloud.net/rutube-tagging/dbf3b7dba2d74659c299746899406cd0.mp4...\n"
     ]
    },
    {
     "data": {
      "application/vnd.jupyter.widget-view+json": {
       "model_id": "704cf22a9d9e4091b16bfe713a3a344d",
       "version_major": 2,
       "version_minor": 0
      },
      "text/plain": [
       "0it [00:00, ?it/s]"
      ]
     },
     "metadata": {},
     "output_type": "display_data"
    },
    {
     "name": "stdout",
     "output_type": "stream",
     "text": [
      "Download completed. Saved to ./data/5.0_interview/dbf3b7dba2d74659c299746899406cd0.mp4\n",
      "Starting download of https://storage.yandexcloud.net/rutube-tagging/cd29049f5b1c065d5f59e223462c83ba.mp4...\n"
     ]
    },
    {
     "data": {
      "application/vnd.jupyter.widget-view+json": {
       "model_id": "72dc261a12f04c178f1402b1759c26a4",
       "version_major": 2,
       "version_minor": 0
      },
      "text/plain": [
       "0it [00:00, ?it/s]"
      ]
     },
     "metadata": {},
     "output_type": "display_data"
    },
    {
     "name": "stdout",
     "output_type": "stream",
     "text": [
      "Download completed. Saved to ./data/5.0_interview/cd29049f5b1c065d5f59e223462c83ba.mp4\n",
      "Starting download of https://storage.yandexcloud.net/rutube-tagging/5a50148a275752f6dd325e22a2ce6de3.mp4...\n"
     ]
    },
    {
     "data": {
      "application/vnd.jupyter.widget-view+json": {
       "model_id": "89d805e8633e4313afd6e08141138a62",
       "version_major": 2,
       "version_minor": 0
      },
      "text/plain": [
       "0it [00:00, ?it/s]"
      ]
     },
     "metadata": {},
     "output_type": "display_data"
    },
    {
     "name": "stdout",
     "output_type": "stream",
     "text": [
      "Download completed. Saved to ./data/5.0_interview/5a50148a275752f6dd325e22a2ce6de3.mp4\n",
      "Starting download of https://storage.yandexcloud.net/rutube-tagging/b982617423683652656ccb0715157d8a.mp4...\n"
     ]
    },
    {
     "data": {
      "application/vnd.jupyter.widget-view+json": {
       "model_id": "bd4f3165747c4576a7fc3fe1e444ea81",
       "version_major": 2,
       "version_minor": 0
      },
      "text/plain": [
       "0it [00:00, ?it/s]"
      ]
     },
     "metadata": {},
     "output_type": "display_data"
    },
    {
     "name": "stdout",
     "output_type": "stream",
     "text": [
      "Download completed. Saved to ./data/5.0_interview/b982617423683652656ccb0715157d8a.mp4\n",
      "Starting download of https://storage.yandexcloud.net/rutube-tagging/8f43be0a7ec2fe5eb8c43981521b025d.mp4...\n"
     ]
    },
    {
     "data": {
      "application/vnd.jupyter.widget-view+json": {
       "model_id": "7271dbc4b90e4e7da5e4bcbe4d832a3a",
       "version_major": 2,
       "version_minor": 0
      },
      "text/plain": [
       "0it [00:00, ?it/s]"
      ]
     },
     "metadata": {},
     "output_type": "display_data"
    },
    {
     "name": "stdout",
     "output_type": "stream",
     "text": [
      "Download completed. Saved to ./data/35.0_garden and vegetable garden/8f43be0a7ec2fe5eb8c43981521b025d.mp4\n",
      "Starting download of https://storage.yandexcloud.net/rutube-tagging/74a8124af5c356afa01ac5311a2ebdca.mp4...\n"
     ]
    },
    {
     "data": {
      "application/vnd.jupyter.widget-view+json": {
       "model_id": "2bd3bfba3ad34e24920aca13030abb7d",
       "version_major": 2,
       "version_minor": 0
      },
      "text/plain": [
       "0it [00:00, ?it/s]"
      ]
     },
     "metadata": {},
     "output_type": "display_data"
    },
    {
     "name": "stdout",
     "output_type": "stream",
     "text": [
      "Download completed. Saved to ./data/35.0_garden and vegetable garden/74a8124af5c356afa01ac5311a2ebdca.mp4\n",
      "Starting download of https://storage.yandexcloud.net/rutube-tagging/1fe3c8798c93a1836580941cd386bebd.mp4...\n"
     ]
    },
    {
     "data": {
      "application/vnd.jupyter.widget-view+json": {
       "model_id": "32d203f1a7274078abb0eac0e06c7814",
       "version_major": 2,
       "version_minor": 0
      },
      "text/plain": [
       "0it [00:00, ?it/s]"
      ]
     },
     "metadata": {},
     "output_type": "display_data"
    },
    {
     "name": "stdout",
     "output_type": "stream",
     "text": [
      "Download completed. Saved to ./data/35.0_garden and vegetable garden/1fe3c8798c93a1836580941cd386bebd.mp4\n"
     ]
    }
   ],
   "source": [
    "def extract_s3_id(s3_url: str) -> str:\n",
    "    if s3_url is np.nan:\n",
    "        return ''\n",
    "    \n",
    "    last_backslash_idx = len(s3_url) - s3_url[::-1].find('/')\n",
    "    return s3_url[last_backslash_idx:]\n",
    "\n",
    "\n",
    "def remove_slashes(s: str) -> str:\n",
    "    if not isinstance(s, str):\n",
    "        return ''\n",
    "\n",
    "    chars_to_remove = [\n",
    "        '/', '\\\\',            # Standard slashes\n",
    "        \"'\", '\"',             # Standard quotes\n",
    "        '«', '»',             # Guillemets\n",
    "        '“', '”',             # Curly double quotes\n",
    "        '‘', '’',             # Curly single quotes\n",
    "        '＂',                 # Fullwidth double quote\n",
    "        '⧸',                   # Slash-like character\n",
    "        '｜', '│',            # Vertical bar-like characters\n",
    "        # Add any other auxiliary characters as needed\n",
    "    ]\n",
    "\n",
    "    translation_table = str.maketrans('', '', ''.join(chars_to_remove))\n",
    "    cleaned_string = s.translate(translation_table)\n",
    "    cleaned_string = re.sub(r'\\s+', ' ', cleaned_string).strip()\n",
    "    \n",
    "    return cleaned_string\n",
    "\n",
    "\n",
    "CATEGORIES_TO_UPLOAD = [\n",
    "    \"48.0_films\",\n",
    "    \"19.0_serials\",\n",
    "    \"7.0_movie\",\n",
    "    \"29.0_design\",\n",
    "    \"46.0_animals\",\n",
    "    \"45.0_various\",\n",
    "    \"5.0_interview\",\n",
    "    \"42.0_tv shows\",\n",
    "    \"35.0_garden and vegetable garden\",\n",
    "]\n",
    "\n",
    "mapping_df = pd.read_csv('scraped_dataset.csv')\n",
    "mapping_df['s3_name'] = mapping_df['s3_url'].apply(extract_s3_id)\n",
    "mapping_df['video_name'] = mapping_df['parsed_category'].apply(lambda tuple_str: ast.literal_eval(tuple_str)[0])\n",
    "mapping_df.dropna(subset=['video_name'], inplace=True)\n",
    "\n",
    "data_dir = './data/'\n",
    "\n",
    "for cat in tqdm.tqdm(CATEGORIES_TO_UPLOAD):\n",
    "    ctg_id = extract_category_id(cat)\n",
    "    df_slice = mapping_df.query(f\"manual_category_id == {ctg_id}\")\n",
    "\n",
    "    subdir_name = os.path.join(data_dir, cat)\n",
    "    downloaded_videos = list(map(remove_slashes, os.listdir(subdir_name)))\n",
    "\n",
    "    for id, row in df_slice.iterrows():\n",
    "        video_name = remove_slashes(row['video_name'])\n",
    "\n",
    "        if video_name + '.mp4' not in downloaded_videos:\n",
    "            download_video_from_url(row['s3_url'], subdir_name)\n",
    "            # print(row['url'], subdir_name)\n",
    "            # download_rutube_video_first_two_minutes(row['url'], subdir_name)\n"
   ]
  },
  {
   "cell_type": "markdown",
   "id": "7ff0cf0e-9e2d-4fad-92f2-f65a024f41b8",
   "metadata": {
    "jp-MarkdownHeadingCollapsed": true
   },
   "source": [
    "#### Inference ViViT"
   ]
  },
  {
   "cell_type": "code",
   "execution_count": 116,
   "id": "49a4505f-dba1-430b-bdc3-2c760fbe8806",
   "metadata": {},
   "outputs": [
    {
     "data": {
      "application/vnd.jupyter.widget-view+json": {
       "model_id": "dc96b4f6c2724834a026c7337119678d",
       "version_major": 2,
       "version_minor": 0
      },
      "text/plain": [
       "  0%|          | 0/48 [00:00<?, ?it/s]"
      ]
     },
     "metadata": {},
     "output_type": "display_data"
    }
   ],
   "source": [
    "def extract_category_id(ctgry: str) -> int:\n",
    "    return int(float(ctgry[:3]))\n",
    "\n",
    "\n",
    "DATA_DIR = './data'\n",
    "model_name = 'vivit'\n",
    "device = 'cuda' if torch.cuda.is_available() else 'cpu'\n",
    "model, processor, window_size = instantiate_model(model_name, device)\n",
    "embeddings_vivit = []\n",
    "\n",
    "for data_subdir in tqdm.tqdm(os.listdir(DATA_DIR)):\n",
    "    fullpath = os.path.join(DATA_DIR, data_subdir)\n",
    "\n",
    "    if not os.path.isdir(fullpath):\n",
    "        continue\n",
    "    \n",
    "    video_files = [f for f in os.listdir(fullpath) if f.lower().endswith('.mp4')]\n",
    "    logging.info(f\"Found {len(video_files)} video(s) in directory '{data_subdir}'.\")\n",
    "    \n",
    "    for video_file in video_files:\n",
    "        file_path = os.path.join(fullpath, video_file)\n",
    "        output = process_video(file_path, processor, model, device, desired_frames=96, window_size=window_size)\n",
    "        \n",
    "        if output is not None:\n",
    "            logging.info(f\"Successfully processed video: {video_file}\")\n",
    "            embeddings_vivit.append((video_file, extract_category_id(data_subdir), output.numpy()))\n",
    "        else:\n",
    "            logging.warning(f\"Failed to process video: {video_file}\")\n",
    "\n",
    "vivit_df = EmbeddingStorage(\n",
    "    filenames=list(map(lambda x: x[0], embeddings_vivit)),\n",
    "    labels=list(map(lambda x: x[1], embeddings_vivit)),\n",
    "    embeddings=list(map(lambda x: x[2], embeddings_vivit)),\n",
    ")\n",
    "vivit_df.save_to_file('data/embeddings/vivit.npz')\n",
    "\n",
    "# vivit_df = pd.DataFrame(data=embeddings_vivit, columns=['videoname', 'label', 'emb'])\n",
    "# vivit_df.to_csv('data/embeddings/vivit.csv', index=False)"
   ]
  },
  {
   "cell_type": "markdown",
   "id": "44c8fe54-71dd-4e50-aca5-d783719cfd11",
   "metadata": {
    "jp-MarkdownHeadingCollapsed": true
   },
   "source": [
    "#### Inference X-CLIP"
   ]
  },
  {
   "cell_type": "code",
   "execution_count": 117,
   "id": "9b494556-da83-41a3-939d-dfdbff43f0b3",
   "metadata": {},
   "outputs": [],
   "source": [
    "del model, processor\n",
    "torch.cuda.empty_cache()"
   ]
  },
  {
   "cell_type": "code",
   "execution_count": 120,
   "id": "52801d56-b70c-4da5-a44b-f2a7e9e2100c",
   "metadata": {},
   "outputs": [
    {
     "data": {
      "application/vnd.jupyter.widget-view+json": {
       "model_id": "b845665b679343ddaa65d0a26b89b4d8",
       "version_major": 2,
       "version_minor": 0
      },
      "text/plain": [
       "  0%|          | 0/48 [00:00<?, ?it/s]"
      ]
     },
     "metadata": {},
     "output_type": "display_data"
    }
   ],
   "source": [
    "def extract_category_id(ctgry: str) -> int:\n",
    "    return int(float(ctgry[:3]))\n",
    "\n",
    "\n",
    "DATA_DIR = './data'\n",
    "model_name = 'x-clip'\n",
    "device = 'cuda' if torch.cuda.is_available() else 'cpu'\n",
    "model, processor, window_size = instantiate_model(model_name, device)\n",
    "embeddings_xclip = []\n",
    "\n",
    "for data_subdir in tqdm.tqdm(os.listdir(DATA_DIR)):\n",
    "    fullpath = os.path.join(DATA_DIR, data_subdir)\n",
    "\n",
    "    if not os.path.isdir(fullpath):\n",
    "        continue\n",
    "    \n",
    "    video_files = [f for f in os.listdir(fullpath) if f.lower().endswith('.mp4')]\n",
    "    logging.info(f\"Found {len(video_files)} video(s) in directory '{data_subdir}'.\")\n",
    "    \n",
    "    for video_file in video_files:\n",
    "        file_path = os.path.join(fullpath, video_file)\n",
    "        output = process_video(file_path, processor, model, device, desired_frames=96, window_size=window_size)\n",
    "        \n",
    "        if output is not None:\n",
    "            logging.info(f\"Successfully processed video: {video_file}\")\n",
    "            embeddings_xclip.append((video_file, extract_category_id(data_subdir), output[0].numpy(), output[1].numpy()))\n",
    "        else:\n",
    "            logging.warning(f\"Failed to process video: {video_file}\")\n",
    "\n",
    "xclip_emb_df = EmbeddingStorage(\n",
    "    filenames=list(map(lambda x: x[0], embeddings_xclip)),\n",
    "    labels=list(map(lambda x: x[1], embeddings_xclip)),\n",
    "    embeddings=list(map(lambda x: x[2], embeddings_xclip)),\n",
    ")\n",
    "xclip_emb_df.save_to_file('data/embeddings/xclip_emb.npz')\n",
    "\n",
    "xclip_prob_df = EmbeddingStorage(\n",
    "    filenames=list(map(lambda x: x[0], embeddings_xclip)),\n",
    "    labels=list(map(lambda x: x[1], embeddings_xclip)),\n",
    "    embeddings=list(map(lambda x: x[3], embeddings_xclip)),\n",
    ")\n",
    "xclip_prob_df.save_to_file('data/embeddings/xclip_prob.npz')\n",
    "\n",
    "# xclip_df = pd.DataFrame(data=embeddings_xclip, columns=['videoname', 'label', 'emb', 'prob'])\n",
    "# xclip_df.to_csv('data/embeddings/xclip.csv', index=False)"
   ]
  },
  {
   "cell_type": "markdown",
   "id": "fdd11d65-56d8-4030-8cf5-1b421fc45769",
   "metadata": {
    "jp-MarkdownHeadingCollapsed": true
   },
   "source": [
    "#### Inference Video-MAE"
   ]
  },
  {
   "cell_type": "code",
   "execution_count": 123,
   "id": "620e0ba8-7569-4662-a8a6-bc573a4fe916",
   "metadata": {},
   "outputs": [],
   "source": [
    "del model, processor\n",
    "torch.cuda.empty_cache()"
   ]
  },
  {
   "cell_type": "code",
   "execution_count": 122,
   "id": "bb8d9fda-6457-4e11-b1ab-858e796780d7",
   "metadata": {},
   "outputs": [
    {
     "data": {
      "application/vnd.jupyter.widget-view+json": {
       "model_id": "77cb304386ae44a9a0242da1871e5d67",
       "version_major": 2,
       "version_minor": 0
      },
      "text/plain": [
       "  0%|          | 0/48 [00:00<?, ?it/s]"
      ]
     },
     "metadata": {},
     "output_type": "display_data"
    }
   ],
   "source": [
    "def extract_category_id(ctgry: str) -> int:\n",
    "    return int(float(ctgry[:3]))\n",
    "\n",
    "\n",
    "DATA_DIR = './data'\n",
    "model_name = 'videomae'\n",
    "device = 'cuda' if torch.cuda.is_available() else 'cpu'\n",
    "model, processor, window_size = instantiate_model(model_name, device)\n",
    "embeddings_videomae = []\n",
    "\n",
    "for data_subdir in tqdm.tqdm(os.listdir(DATA_DIR)):\n",
    "    fullpath = os.path.join(DATA_DIR, data_subdir)\n",
    "\n",
    "    if not os.path.isdir(fullpath):\n",
    "        continue\n",
    "    \n",
    "    video_files = [f for f in os.listdir(fullpath) if f.lower().endswith('.mp4')]\n",
    "    logging.info(f\"Found {len(video_files)} video(s) in directory '{data_subdir}'.\")\n",
    "    \n",
    "    for video_file in video_files:\n",
    "        file_path = os.path.join(fullpath, video_file)\n",
    "        output = process_video(file_path, processor, model, device, desired_frames=96, window_size=window_size)\n",
    "        \n",
    "        if output is not None:\n",
    "            logging.info(f\"Successfully processed video: {video_file}\")\n",
    "            embeddings_videomae.append((video_file, extract_category_id(data_subdir), output.numpy()))\n",
    "        else:\n",
    "            logging.warning(f\"Failed to process video: {video_file}\")\n",
    "\n",
    "videomae_df = EmbeddingStorage(\n",
    "    filenames=list(map(lambda x: x[0], embeddings_videomae)),\n",
    "    labels=list(map(lambda x: x[1], embeddings_videomae)),\n",
    "    embeddings=list(map(lambda x: x[2], embeddings_videomae)),\n",
    ")\n",
    "videomae_df.save_to_file('data/embeddings/videomae.npz')\n",
    "\n",
    "# videomae_df = pd.DataFrame(data=embeddings_videomae, columns=['videoname', 'label', 'emb'])\n",
    "# videomae_df.to_csv('data/embeddings/videonae.csv', index=False)"
   ]
  },
  {
   "cell_type": "markdown",
   "id": "6444e86a-0cd7-4441-86f0-c7267e9d513d",
   "metadata": {},
   "source": [
    "### Audio"
   ]
  },
  {
   "cell_type": "markdown",
   "id": "d8152ed9-49ea-48ce-a001-e9bde544387a",
   "metadata": {
    "jp-MarkdownHeadingCollapsed": true
   },
   "source": [
    "#### Auxiliary functions"
   ]
  },
  {
   "cell_type": "code",
   "execution_count": 124,
   "id": "de034162-6fc1-46f8-afbf-83fad6312bc0",
   "metadata": {},
   "outputs": [],
   "source": [
    "def extract_audio_from_video(video_path, output_audio_path=\"temp_audio.wav\", duration=60):\n",
    "    video_clip = VideoFileClip(video_path)\n",
    "\n",
    "    if video_clip is None:\n",
    "        return None\n",
    "    elif video_clip.audio is None:\n",
    "        video_clip.close()\n",
    "        return None\n",
    "    \n",
    "    audio_clip = video_clip.audio.subclip(0, min(duration, video_clip.duration))\n",
    "    audio_clip.write_audiofile(output_audio_path, codec='pcm_s16le', ffmpeg_params=['-ac', '1'])\n",
    "    \n",
    "    # Close the clip to release resources\n",
    "    video_clip.close()\n",
    "    audio_clip.close()\n",
    "    \n",
    "    return output_audio_path\n",
    "\n",
    "\n",
    "def speech_file_to_array_fn(batch, duration: int, sampling_rate: int):\n",
    "    # Extract the audio from the mp4 file\n",
    "    audio_path = extract_audio_from_video(batch[\"path\"], duration=duration)\n",
    "\n",
    "    if audio_path is None:\n",
    "        return None\n",
    "\n",
    "    # Load the extracted audio using librosa\n",
    "    speech_array, sampling_rate = librosa.load(audio_path, sr=sampling_rate)\n",
    "\n",
    "    # Prepare for Wav2Vec2 inference\n",
    "    batch[\"speech\"] = speech_array\n",
    "    return batch\n",
    "\n",
    "\n",
    "def extract_category_id(ctgry: str) -> int:\n",
    "    return int(float(ctgry[:3]))\n",
    "\n",
    "\n",
    "class SpecScaler(torch.nn.Module):\n",
    "    def forward(self, x: torch.Tensor) -> torch.Tensor:\n",
    "        return torch.log(x.clamp_(1e-9, 1e9))\n",
    "\n",
    "\n",
    "def instantiate_giga_am(dirname: str, device: str):\n",
    "    encoder_config = dirname+\"encoder_config.yaml\"\n",
    "    model_weights = dirname+\"ssl_model_weights.ckpt\"\n",
    "    conf = OmegaConf.load(encoder_config)\n",
    "    \n",
    "    encoder = hydra.utils.instantiate(conf.encoder)\n",
    "    ckpt = torch.load(model_weights, map_location=\"cpu\")\n",
    "    encoder.load_state_dict(ckpt, strict=True)\n",
    "    encoder.to(device)\n",
    "    encoder.eval()\n",
    "    \n",
    "    feature_extractor = hydra.utils.instantiate(conf.feature_extractor)\n",
    "\n",
    "    return encoder, feature_extractor\n",
    "\n",
    "\n",
    "def process_gigaam(\n",
    "    video_path: str,\n",
    "    encoder,\n",
    "    feature_extractor,\n",
    "    device,\n",
    "    audio_duration: int = 60,\n",
    "    audio_sampling_rate: int = 16000\n",
    ") -> torch.Tensor:    \n",
    "    try:\n",
    "        test_sample = {\"path\": video_path}\n",
    "        test_sample = speech_file_to_array_fn(test_sample, audio_duration, audio_sampling_rate)\n",
    "        features = feature_extractor(torch.tensor(test_sample['speech']).float()).to(device)\n",
    "\n",
    "        with torch.no_grad():\n",
    "            encoded, _ = encoder.forward(\n",
    "                audio_signal=features.unsqueeze(0),\n",
    "                length=torch.tensor([features.shape[-1]]).to(device),\n",
    "            )\n",
    "        \n",
    "        output = encoded.mean(dim=2).squeeze().cpu()\n",
    "        return output\n",
    "\n",
    "    except Exception as e:\n",
    "        logging.error(f\"Unexpected error: {e}\")\n",
    "        print(\"An unexpected error occurred:\")\n",
    "        print(e)"
   ]
  },
  {
   "cell_type": "markdown",
   "id": "51f264d7-7b1e-4cd2-83e3-b6f85ffc34ee",
   "metadata": {
    "jp-MarkdownHeadingCollapsed": true
   },
   "source": [
    "#### Inference Giga-AM"
   ]
  },
  {
   "cell_type": "code",
   "execution_count": 125,
   "id": "b5d330bc-0640-4785-86b8-80bb7ca78731",
   "metadata": {},
   "outputs": [
    {
     "name": "stderr",
     "output_type": "stream",
     "text": [
      "[NeMo W 2024-09-26 22:11:34 nemo_logging:349] /home/eduard/Рабочий стол/video-tagging/video-tag/lib/python3.10/site-packages/megatron/core/tensor_parallel/layers.py:254: FutureWarning: `torch.cuda.amp.custom_fwd(args...)` is deprecated. Please use `torch.amp.custom_fwd(args..., device_type='cuda')` instead.\n",
      "      def forward(\n",
      "    \n",
      "[NeMo W 2024-09-26 22:11:34 nemo_logging:349] /home/eduard/Рабочий стол/video-tagging/video-tag/lib/python3.10/site-packages/megatron/core/tensor_parallel/layers.py:265: FutureWarning: `torch.cuda.amp.custom_bwd(args...)` is deprecated. Please use `torch.amp.custom_bwd(args..., device_type='cuda')` instead.\n",
      "      def backward(ctx, grad_output):\n",
      "    \n",
      "[NeMo W 2024-09-26 22:11:34 nemo_logging:349] /home/eduard/Рабочий стол/video-tagging/video-tag/lib/python3.10/site-packages/megatron/core/tensor_parallel/layers.py:325: FutureWarning: `torch.cuda.amp.custom_fwd(args...)` is deprecated. Please use `torch.amp.custom_fwd(args..., device_type='cuda')` instead.\n",
      "      def forward(\n",
      "    \n",
      "[NeMo W 2024-09-26 22:11:34 nemo_logging:349] /home/eduard/Рабочий стол/video-tagging/video-tag/lib/python3.10/site-packages/megatron/core/tensor_parallel/layers.py:360: FutureWarning: `torch.cuda.amp.custom_bwd(args...)` is deprecated. Please use `torch.amp.custom_bwd(args..., device_type='cuda')` instead.\n",
      "      def backward(ctx, grad_output):\n",
      "    \n",
      "[NeMo W 2024-09-26 22:11:48 nemo_logging:349] /tmp/ipykernel_259372/169194840.py:50: FutureWarning: You are using `torch.load` with `weights_only=False` (the current default value), which uses the default pickle module implicitly. It is possible to construct malicious pickle data which will execute arbitrary code during unpickling (See https://github.com/pytorch/pytorch/blob/main/SECURITY.md#untrusted-models for more details). In a future release, the default value for `weights_only` will be flipped to `True`. This limits the functions that could be executed during unpickling. Arbitrary objects will no longer be allowed to be loaded via this mode unless they are explicitly allowlisted by the user via `torch.serialization.add_safe_globals`. We recommend you start setting `weights_only=True` for any use case where you don't have full control of the loaded file. Please open an issue on GitHub for any issues related to this experimental feature.\n",
      "      ckpt = torch.load(model_weights, map_location=\"cpu\")\n",
      "    \n"
     ]
    },
    {
     "data": {
      "application/vnd.jupyter.widget-view+json": {
       "model_id": "b2ae20b97d5e43bb94c8a5706b1c3e77",
       "version_major": 2,
       "version_minor": 0
      },
      "text/plain": [
       "  0%|          | 0/48 [00:00<?, ?it/s]"
      ]
     },
     "metadata": {},
     "output_type": "display_data"
    },
    {
     "name": "stdout",
     "output_type": "stream",
     "text": [
      "MoviePy - Writing audio in temp_audio.wav\n"
     ]
    },
    {
     "name": "stderr",
     "output_type": "stream",
     "text": [
      "\n",
      "chunk:   0%|                                                                                                         | 0/1324 [00:00<?, ?it/s, now=None]\u001b[A\n",
      "chunk:  58%|██████████████████████████████████████████████████████▎                                      | 773/1324 [00:00<00:00, 7726.30it/s, now=None]\u001b[A\n",
      "                                                                                                                                                        \u001b[A"
     ]
    },
    {
     "name": "stdout",
     "output_type": "stream",
     "text": [
      "MoviePy - Done.\n",
      "MoviePy - Writing audio in temp_audio.wav\n"
     ]
    },
    {
     "name": "stderr",
     "output_type": "stream",
     "text": [
      "\n",
      "chunk:   0%|                                                                                                         | 0/1324 [00:00<?, ?it/s, now=None]\u001b[A\n",
      "chunk:   2%|█▉                                                                                             | 27/1324 [00:00<00:05, 246.79it/s, now=None]\u001b[A\n",
      "chunk:   4%|███▋                                                                                           | 52/1324 [00:00<00:05, 222.11it/s, now=None]\u001b[A\n",
      "chunk:  47%|███████████████████████████████████████████▉                                                 | 625/1324 [00:00<00:00, 2532.42it/s, now=None]\u001b[A\n",
      "chunk:  89%|█████████████████████████████████████████████████████████████████████████████████▌          | 1173/1324 [00:00<00:00, 3620.22it/s, now=None]\u001b[A\n",
      "                                                                                                                                                        \u001b[A"
     ]
    },
    {
     "name": "stdout",
     "output_type": "stream",
     "text": [
      "MoviePy - Done.\n",
      "MoviePy - Writing audio in temp_audio.wav\n"
     ]
    },
    {
     "name": "stderr",
     "output_type": "stream",
     "text": [
      "\n",
      "chunk:   0%|                                                                                                         | 0/1324 [00:00<?, ?it/s, now=None]\u001b[A\n",
      "chunk:  15%|██████████████▎                                                                              | 204/1324 [00:00<00:00, 1642.01it/s, now=None]\u001b[A\n",
      "chunk:  42%|███████████████████████████████████████▍                                                     | 561/1324 [00:00<00:00, 2657.65it/s, now=None]\u001b[A\n",
      "chunk:  92%|█████████████████████████████████████████████████████████████████████████████████████       | 1224/1324 [00:00<00:00, 4342.57it/s, now=None]\u001b[A\n",
      "                                                                                                                                                        \u001b[A"
     ]
    },
    {
     "name": "stdout",
     "output_type": "stream",
     "text": [
      "MoviePy - Done.\n",
      "MoviePy - Writing audio in temp_audio.wav\n"
     ]
    },
    {
     "name": "stderr",
     "output_type": "stream",
     "text": [
      "\n",
      "chunk:   0%|                                                                                                         | 0/1324 [00:00<?, ?it/s, now=None]\u001b[A\n",
      "chunk:  42%|███████████████████████████████████████                                                      | 557/1324 [00:00<00:00, 5569.79it/s, now=None]\u001b[A\n",
      "chunk:  85%|█████████████████████████████████████████████████████████████████████████████▉              | 1122/1324 [00:00<00:00, 5554.49it/s, now=None]\u001b[A\n",
      "                                                                                                                                                        \u001b[A"
     ]
    },
    {
     "name": "stdout",
     "output_type": "stream",
     "text": [
      "MoviePy - Done.\n",
      "MoviePy - Writing audio in temp_audio.wav\n"
     ]
    },
    {
     "name": "stderr",
     "output_type": "stream",
     "text": [
      "\n",
      "chunk:   0%|                                                                                                         | 0/1324 [00:00<?, ?it/s, now=None]\u001b[A\n",
      "chunk:  43%|███████████████████████████████████████▊                                                     | 567/1324 [00:00<00:00, 5665.05it/s, now=None]\u001b[A\n",
      "chunk:  86%|██████████████████████████████████████████████████████████████████████████████▊             | 1134/1324 [00:00<00:00, 5649.86it/s, now=None]\u001b[A\n",
      "                                                                                                                                                        \u001b[A"
     ]
    },
    {
     "name": "stdout",
     "output_type": "stream",
     "text": [
      "MoviePy - Done.\n",
      "MoviePy - Writing audio in temp_audio.wav\n"
     ]
    },
    {
     "name": "stderr",
     "output_type": "stream",
     "text": [
      "\n",
      "chunk:   0%|                                                                                                         | 0/1324 [00:00<?, ?it/s, now=None]\u001b[A\n",
      "chunk:  42%|██████████████████████████████████████▋                                                      | 550/1324 [00:00<00:00, 5499.27it/s, now=None]\u001b[A\n",
      "chunk:  83%|████████████████████████████████████████████████████████████████████████████▍               | 1100/1324 [00:00<00:00, 5378.56it/s, now=None]\u001b[A\n",
      "                                                                                                                                                        \u001b[A"
     ]
    },
    {
     "name": "stdout",
     "output_type": "stream",
     "text": [
      "MoviePy - Done.\n",
      "MoviePy - Writing audio in temp_audio.wav\n"
     ]
    },
    {
     "name": "stderr",
     "output_type": "stream",
     "text": [
      "\n",
      "chunk:   0%|                                                                                                         | 0/1324 [00:00<?, ?it/s, now=None]\u001b[A\n",
      "chunk:  42%|███████████████████████████████████████▍                                                     | 561/1324 [00:00<00:00, 5496.75it/s, now=None]\u001b[A\n",
      "chunk:  88%|████████████████████████████████████████████████████████████████████████████████▌           | 1160/1324 [00:00<00:00, 5784.30it/s, now=None]\u001b[A\n",
      "                                                                                                                                                        \u001b[A"
     ]
    },
    {
     "name": "stdout",
     "output_type": "stream",
     "text": [
      "MoviePy - Done.\n",
      "MoviePy - Writing audio in temp_audio.wav\n"
     ]
    },
    {
     "name": "stderr",
     "output_type": "stream",
     "text": [
      "\n",
      "chunk:   0%|                                                                                                         | 0/1324 [00:00<?, ?it/s, now=None]\u001b[A\n",
      "chunk:  54%|██████████████████████████████████████████████████▏                                          | 714/1324 [00:00<00:00, 7051.72it/s, now=None]\u001b[A\n",
      "                                                                                                                                                        \u001b[A"
     ]
    },
    {
     "name": "stdout",
     "output_type": "stream",
     "text": [
      "MoviePy - Done.\n",
      "MoviePy - Writing audio in temp_audio.wav\n"
     ]
    },
    {
     "name": "stderr",
     "output_type": "stream",
     "text": [
      "\n",
      "chunk:   0%|                                                                                                         | 0/1324 [00:00<?, ?it/s, now=None]\u001b[A\n",
      "chunk:  57%|████████████████████████████████████████████████████▌                                        | 749/1324 [00:00<00:00, 7484.55it/s, now=None]\u001b[A\n",
      "                                                                                                                                                        \u001b[A"
     ]
    },
    {
     "name": "stdout",
     "output_type": "stream",
     "text": [
      "MoviePy - Done.\n",
      "MoviePy - Writing audio in temp_audio.wav\n"
     ]
    },
    {
     "name": "stderr",
     "output_type": "stream",
     "text": [
      "\n",
      "chunk:   0%|                                                                                                         | 0/1324 [00:00<?, ?it/s, now=None]\u001b[A\n",
      "chunk:  54%|██████████████████████████████████████████████████▏                                          | 714/1324 [00:00<00:00, 7082.23it/s, now=None]\u001b[A\n",
      "                                                                                                                                                        \u001b[A"
     ]
    },
    {
     "name": "stdout",
     "output_type": "stream",
     "text": [
      "MoviePy - Done.\n",
      "MoviePy - Writing audio in temp_audio.wav\n"
     ]
    },
    {
     "name": "stderr",
     "output_type": "stream",
     "text": [
      "\n",
      "chunk:   0%|                                                                                                         | 0/1324 [00:00<?, ?it/s, now=None]\u001b[A\n",
      "chunk:  58%|█████████████████████████████████████████████████████▋                                       | 765/1324 [00:00<00:00, 7518.35it/s, now=None]\u001b[A\n",
      "                                                                                                                                                        \u001b[A"
     ]
    },
    {
     "name": "stdout",
     "output_type": "stream",
     "text": [
      "MoviePy - Done.\n",
      "MoviePy - Writing audio in temp_audio.wav\n"
     ]
    },
    {
     "name": "stderr",
     "output_type": "stream",
     "text": [
      "\n",
      "chunk:   0%|                                                                                                         | 0/1324 [00:00<?, ?it/s, now=None]\u001b[A\n",
      "chunk:  58%|█████████████████████████████████████████████████████▋                                       | 765/1324 [00:00<00:00, 7589.44it/s, now=None]\u001b[A\n",
      "                                                                                                                                                        \u001b[A"
     ]
    },
    {
     "name": "stdout",
     "output_type": "stream",
     "text": [
      "MoviePy - Done.\n",
      "MoviePy - Writing audio in temp_audio.wav\n"
     ]
    },
    {
     "name": "stderr",
     "output_type": "stream",
     "text": [
      "\n",
      "chunk:   0%|                                                                                                         | 0/1324 [00:00<?, ?it/s, now=None]\u001b[A\n",
      "chunk:  48%|████████████████████████████████████████████▍                                                | 632/1324 [00:00<00:00, 6315.59it/s, now=None]\u001b[A\n",
      "chunk:  95%|███████████████████████████████████████████████████████████████████████████████████████▊    | 1264/1324 [00:00<00:00, 6269.15it/s, now=None]\u001b[A\n",
      "                                                                                                                                                        \u001b[A"
     ]
    },
    {
     "name": "stdout",
     "output_type": "stream",
     "text": [
      "MoviePy - Done.\n",
      "MoviePy - Writing audio in temp_audio.wav\n"
     ]
    },
    {
     "name": "stderr",
     "output_type": "stream",
     "text": [
      "\n",
      "chunk:   0%|                                                                                                         | 0/1324 [00:00<?, ?it/s, now=None]\u001b[A\n",
      "chunk:  51%|███████████████████████████████████████████████                                              | 670/1324 [00:00<00:00, 6695.90it/s, now=None]\u001b[A\n",
      "                                                                                                                                                        \u001b[A"
     ]
    },
    {
     "name": "stdout",
     "output_type": "stream",
     "text": [
      "MoviePy - Done.\n",
      "MoviePy - Writing audio in temp_audio.wav\n"
     ]
    },
    {
     "name": "stderr",
     "output_type": "stream",
     "text": [
      "\n",
      "chunk:   0%|                                                                                                         | 0/1324 [00:00<?, ?it/s, now=None]\u001b[A\n",
      "chunk:  40%|█████████████████████████████████████▏                                                       | 530/1324 [00:00<00:00, 5294.44it/s, now=None]\u001b[A\n",
      "chunk:  80%|█████████████████████████████████████████████████████████████████████████▋                  | 1060/1324 [00:00<00:00, 5205.95it/s, now=None]\u001b[A\n",
      "                                                                                                                                                        \u001b[A"
     ]
    },
    {
     "name": "stdout",
     "output_type": "stream",
     "text": [
      "MoviePy - Done.\n",
      "MoviePy - Writing audio in temp_audio.wav\n"
     ]
    },
    {
     "name": "stderr",
     "output_type": "stream",
     "text": [
      "\n",
      "chunk:   0%|                                                                                                         | 0/1324 [00:00<?, ?it/s, now=None]\u001b[A\n",
      "chunk:  50%|██████████████████████████████████████████████▌                                              | 663/1324 [00:00<00:00, 6472.72it/s, now=None]\u001b[A\n",
      "chunk:  99%|███████████████████████████████████████████████████████████████████████████████████████████ | 1311/1324 [00:00<00:00, 6169.89it/s, now=None]\u001b[A\n",
      "                                                                                                                                                        \u001b[A"
     ]
    },
    {
     "name": "stdout",
     "output_type": "stream",
     "text": [
      "MoviePy - Done.\n",
      "MoviePy - Writing audio in temp_audio.wav\n"
     ]
    },
    {
     "name": "stderr",
     "output_type": "stream",
     "text": [
      "\n",
      "chunk:   0%|                                                                                                         | 0/1324 [00:00<?, ?it/s, now=None]\u001b[A\n",
      "chunk:  42%|███████████████████████████████████████▍                                                     | 561/1324 [00:00<00:00, 5469.79it/s, now=None]\u001b[A\n",
      "chunk:  84%|████████████████████████████████████████████████████████████████████████████▉               | 1108/1324 [00:00<00:00, 5161.46it/s, now=None]\u001b[A\n",
      "                                                                                                                                                        \u001b[A"
     ]
    },
    {
     "name": "stdout",
     "output_type": "stream",
     "text": [
      "MoviePy - Done.\n",
      "MoviePy - Writing audio in temp_audio.wav\n"
     ]
    },
    {
     "name": "stderr",
     "output_type": "stream",
     "text": [
      "\n",
      "chunk:   0%|                                                                                                         | 0/1324 [00:00<?, ?it/s, now=None]\u001b[A\n",
      "chunk:  40%|████████████████████████████████████▋                                                        | 523/1324 [00:00<00:00, 5229.57it/s, now=None]\u001b[A\n",
      "chunk:  79%|████████████████████████████████████████████████████████████████████████▋                   | 1046/1324 [00:00<00:00, 5127.03it/s, now=None]\u001b[A\n",
      "                                                                                                                                                        \u001b[A"
     ]
    },
    {
     "name": "stdout",
     "output_type": "stream",
     "text": [
      "MoviePy - Done.\n",
      "MoviePy - Writing audio in temp_audio.wav\n"
     ]
    },
    {
     "name": "stderr",
     "output_type": "stream",
     "text": [
      "\n",
      "chunk:   0%|                                                                                                         | 0/1324 [00:00<?, ?it/s, now=None]\u001b[A\n",
      "chunk:  41%|██████████████████████████████████████▍                                                      | 547/1324 [00:00<00:00, 5466.67it/s, now=None]\u001b[A\n",
      "chunk:  83%|████████████████████████████████████████████████████████████████████████████                | 1094/1324 [00:00<00:00, 5138.98it/s, now=None]\u001b[A\n",
      "                                                                                                                                                        \u001b[A"
     ]
    },
    {
     "name": "stdout",
     "output_type": "stream",
     "text": [
      "MoviePy - Done.\n",
      "MoviePy - Writing audio in temp_audio.wav\n"
     ]
    },
    {
     "name": "stderr",
     "output_type": "stream",
     "text": [
      "\n",
      "chunk:   0%|                                                                                                         | 0/1324 [00:00<?, ?it/s, now=None]\u001b[A\n",
      "chunk:  41%|██████████████████████████████████████▏                                                      | 544/1324 [00:00<00:00, 5431.15it/s, now=None]\u001b[A\n",
      "chunk:  84%|█████████████████████████████████████████████████████████████████████████████▍              | 1115/1324 [00:00<00:00, 5593.99it/s, now=None]\u001b[A\n",
      "                                                                                                                                                        \u001b[A"
     ]
    },
    {
     "name": "stdout",
     "output_type": "stream",
     "text": [
      "MoviePy - Done.\n",
      "MoviePy - Writing audio in temp_audio.wav\n"
     ]
    },
    {
     "name": "stderr",
     "output_type": "stream",
     "text": [
      "\n",
      "chunk:   0%|                                                                                                         | 0/1324 [00:00<?, ?it/s, now=None]\u001b[A\n",
      "chunk:  39%|███████████████████████████████████▊                                                         | 510/1324 [00:00<00:00, 5000.50it/s, now=None]\u001b[A\n",
      "chunk:  81%|██████████████████████████████████████████████████████████████████████████▏                 | 1067/1324 [00:00<00:00, 5332.07it/s, now=None]\u001b[A\n",
      "                                                                                                                                                        \u001b[A"
     ]
    },
    {
     "name": "stdout",
     "output_type": "stream",
     "text": [
      "MoviePy - Done.\n",
      "MoviePy - Writing audio in temp_audio.wav\n"
     ]
    },
    {
     "name": "stderr",
     "output_type": "stream",
     "text": [
      "\n",
      "chunk:   0%|                                                                                                         | 0/1324 [00:00<?, ?it/s, now=None]\u001b[A\n",
      "chunk:  12%|██████████▊                                                                                   | 153/1324 [00:00<00:01, 701.25it/s, now=None]\u001b[A\n",
      "chunk:  53%|█████████████████████████████████████████████████▏                                           | 701/1324 [00:00<00:00, 2591.54it/s, now=None]\u001b[A\n",
      "                                                                                                                                                        \u001b[A"
     ]
    },
    {
     "name": "stdout",
     "output_type": "stream",
     "text": [
      "MoviePy - Done.\n",
      "MoviePy - Writing audio in temp_audio.wav\n"
     ]
    },
    {
     "name": "stderr",
     "output_type": "stream",
     "text": [
      "\n",
      "chunk:   0%|                                                                                                         | 0/1324 [00:00<?, ?it/s, now=None]\u001b[A\n",
      "chunk:  50%|██████████████████████████████████████████████▎                                              | 659/1324 [00:00<00:00, 6588.99it/s, now=None]\u001b[A\n",
      "chunk: 100%|███████████████████████████████████████████████████████████████████████████████████████████▌| 1318/1324 [00:00<00:00, 6357.47it/s, now=None]\u001b[A\n",
      "                                                                                                                                                        \u001b[A"
     ]
    },
    {
     "name": "stdout",
     "output_type": "stream",
     "text": [
      "MoviePy - Done.\n",
      "MoviePy - Writing audio in temp_audio.wav\n"
     ]
    },
    {
     "name": "stderr",
     "output_type": "stream",
     "text": [
      "\n",
      "chunk:   0%|                                                                                                         | 0/1324 [00:00<?, ?it/s, now=None]\u001b[A\n",
      "chunk:  50%|██████████████████████████████████████████████▌                                              | 663/1324 [00:00<00:00, 6573.49it/s, now=None]\u001b[A\n",
      "chunk: 100%|███████████████████████████████████████████████████████████████████████████████████████████▊| 1321/1324 [00:00<00:00, 6069.47it/s, now=None]\u001b[A\n",
      "                                                                                                                                                        \u001b[A"
     ]
    },
    {
     "name": "stdout",
     "output_type": "stream",
     "text": [
      "MoviePy - Done.\n",
      "MoviePy - Writing audio in temp_audio.wav\n"
     ]
    },
    {
     "name": "stderr",
     "output_type": "stream",
     "text": [
      "\n",
      "chunk:   0%|                                                                                                         | 0/1324 [00:00<?, ?it/s, now=None]\u001b[A\n",
      "chunk:  52%|████████████████████████████████████████████████                                             | 684/1324 [00:00<00:00, 6835.07it/s, now=None]\u001b[A\n",
      "                                                                                                                                                        \u001b[A"
     ]
    },
    {
     "name": "stdout",
     "output_type": "stream",
     "text": [
      "MoviePy - Done.\n",
      "MoviePy - Writing audio in temp_audio.wav\n"
     ]
    },
    {
     "name": "stderr",
     "output_type": "stream",
     "text": [
      "\n",
      "chunk:   0%|                                                                                                         | 0/1324 [00:00<?, ?it/s, now=None]\u001b[A\n",
      "chunk:  54%|██████████████████████████████████████████████████▏                                          | 714/1324 [00:00<00:00, 7028.29it/s, now=None]\u001b[A\n",
      "                                                                                                                                                        \u001b[A"
     ]
    },
    {
     "name": "stdout",
     "output_type": "stream",
     "text": [
      "MoviePy - Done.\n",
      "MoviePy - Writing audio in temp_audio.wav\n"
     ]
    },
    {
     "name": "stderr",
     "output_type": "stream",
     "text": [
      "\n",
      "chunk:   0%|                                                                                                         | 0/1324 [00:00<?, ?it/s, now=None]\u001b[A\n",
      "chunk:  47%|███████████████████████████████████████████▊                                                 | 623/1324 [00:00<00:00, 6225.60it/s, now=None]\u001b[A\n",
      "chunk:  96%|███████████████████████████████████████████████████████████████████████████████████████▉    | 1265/1324 [00:00<00:00, 6339.34it/s, now=None]\u001b[A\n",
      "                                                                                                                                                        \u001b[A"
     ]
    },
    {
     "name": "stdout",
     "output_type": "stream",
     "text": [
      "MoviePy - Done.\n",
      "MoviePy - Writing audio in temp_audio.wav\n"
     ]
    },
    {
     "name": "stderr",
     "output_type": "stream",
     "text": [
      "\n",
      "chunk:   0%|                                                                                                         | 0/1324 [00:00<?, ?it/s, now=None]\u001b[A\n",
      "chunk:  51%|███████████████████████████████████████████████▎                                             | 674/1324 [00:00<00:00, 6737.31it/s, now=None]\u001b[A\n",
      "                                                                                                                                                        \u001b[A"
     ]
    },
    {
     "name": "stdout",
     "output_type": "stream",
     "text": [
      "MoviePy - Done.\n",
      "MoviePy - Writing audio in temp_audio.wav\n"
     ]
    },
    {
     "name": "stderr",
     "output_type": "stream",
     "text": [
      "\n",
      "chunk:   0%|                                                                                                         | 0/1324 [00:00<?, ?it/s, now=None]\u001b[A\n",
      "chunk:  54%|█████████████████████████████████████████████████▉                                           | 711/1324 [00:00<00:00, 7105.13it/s, now=None]\u001b[A\n",
      "                                                                                                                                                        \u001b[A"
     ]
    },
    {
     "name": "stdout",
     "output_type": "stream",
     "text": [
      "MoviePy - Done.\n",
      "MoviePy - Writing audio in temp_audio.wav\n"
     ]
    },
    {
     "name": "stderr",
     "output_type": "stream",
     "text": [
      "\n",
      "chunk:   0%|                                                                                                         | 0/1324 [00:00<?, ?it/s, now=None]\u001b[A\n",
      "chunk:  50%|██████████████████████████████████████████████▌                                              | 663/1324 [00:00<00:00, 6551.05it/s, now=None]\u001b[A\n",
      "chunk: 100%|███████████████████████████████████████████████████████████████████████████████████████████▋| 1319/1324 [00:00<00:00, 6517.76it/s, now=None]\u001b[A\n",
      "                                                                                                                                                        \u001b[A"
     ]
    },
    {
     "name": "stdout",
     "output_type": "stream",
     "text": [
      "MoviePy - Done.\n",
      "MoviePy - Writing audio in temp_audio.wav\n"
     ]
    },
    {
     "name": "stderr",
     "output_type": "stream",
     "text": [
      "\n",
      "chunk:   0%|                                                                                                         | 0/1324 [00:00<?, ?it/s, now=None]\u001b[A\n",
      "chunk:  46%|██████████████████████████████████████████▉                                                  | 612/1324 [00:00<00:00, 5988.51it/s, now=None]\u001b[A\n",
      "chunk:  91%|████████████████████████████████████████████████████████████████████████████████████▏       | 1211/1324 [00:00<00:00, 5867.40it/s, now=None]\u001b[A\n",
      "                                                                                                                                                        \u001b[A"
     ]
    },
    {
     "name": "stdout",
     "output_type": "stream",
     "text": [
      "MoviePy - Done.\n",
      "MoviePy - Writing audio in temp_audio.wav\n"
     ]
    },
    {
     "name": "stderr",
     "output_type": "stream",
     "text": [
      "\n",
      "chunk:   0%|                                                                                                         | 0/1324 [00:00<?, ?it/s, now=None]\u001b[A\n",
      "chunk:  47%|████████████████████████████████████████████                                                 | 628/1324 [00:00<00:00, 6278.81it/s, now=None]\u001b[A\n",
      "                                                                                                                                                        \u001b[A"
     ]
    },
    {
     "name": "stdout",
     "output_type": "stream",
     "text": [
      "MoviePy - Done.\n",
      "MoviePy - Writing audio in temp_audio.wav\n"
     ]
    },
    {
     "name": "stderr",
     "output_type": "stream",
     "text": [
      "\n",
      "chunk:   0%|                                                                                                         | 0/1324 [00:00<?, ?it/s, now=None]\u001b[A\n",
      "chunk:  42%|███████████████████████████████████████▍                                                     | 561/1324 [00:00<00:00, 5508.29it/s, now=None]\u001b[A\n",
      "chunk:  90%|██████████████████████████████████████████████████████████████████████████████████▎         | 1185/1324 [00:00<00:00, 5932.94it/s, now=None]\u001b[A\n",
      "                                                                                                                                                        \u001b[A"
     ]
    },
    {
     "name": "stdout",
     "output_type": "stream",
     "text": [
      "MoviePy - Done.\n",
      "MoviePy - Writing audio in temp_audio.wav\n"
     ]
    },
    {
     "name": "stderr",
     "output_type": "stream",
     "text": [
      "\n",
      "chunk:   0%|                                                                                                         | 0/1324 [00:00<?, ?it/s, now=None]\u001b[A\n",
      "chunk:  58%|█████████████████████████████████████████████████████▋                                       | 764/1324 [00:00<00:00, 7639.33it/s, now=None]\u001b[A\n",
      "                                                                                                                                                        \u001b[A"
     ]
    },
    {
     "name": "stdout",
     "output_type": "stream",
     "text": [
      "MoviePy - Done.\n",
      "MoviePy - Writing audio in temp_audio.wav\n"
     ]
    },
    {
     "name": "stderr",
     "output_type": "stream",
     "text": [
      "\n",
      "chunk:   0%|                                                                                                         | 0/1324 [00:00<?, ?it/s, now=None]\u001b[A\n",
      "chunk:  50%|██████████████████████████████████████████████▌                                              | 663/1324 [00:00<00:00, 6482.06it/s, now=None]\u001b[A\n",
      "                                                                                                                                                        \u001b[A"
     ]
    },
    {
     "name": "stdout",
     "output_type": "stream",
     "text": [
      "MoviePy - Done.\n",
      "MoviePy - Writing audio in temp_audio.wav\n"
     ]
    },
    {
     "name": "stderr",
     "output_type": "stream",
     "text": [
      "\n",
      "chunk:   0%|                                                                                                         | 0/1324 [00:00<?, ?it/s, now=None]\u001b[A\n",
      "chunk:  56%|████████████████████████████████████████████████████▏                                        | 743/1324 [00:00<00:00, 7429.69it/s, now=None]\u001b[A\n",
      "                                                                                                                                                        \u001b[A"
     ]
    },
    {
     "name": "stdout",
     "output_type": "stream",
     "text": [
      "MoviePy - Done.\n",
      "MoviePy - Writing audio in temp_audio.wav\n"
     ]
    },
    {
     "name": "stderr",
     "output_type": "stream",
     "text": [
      "\n",
      "chunk:   0%|                                                                                                         | 0/1324 [00:00<?, ?it/s, now=None]\u001b[A\n",
      "chunk:  57%|█████████████████████████████████████████████████████▍                                       | 760/1324 [00:00<00:00, 7595.84it/s, now=None]\u001b[A\n",
      "                                                                                                                                                        \u001b[A"
     ]
    },
    {
     "name": "stdout",
     "output_type": "stream",
     "text": [
      "MoviePy - Done.\n",
      "MoviePy - Writing audio in temp_audio.wav\n"
     ]
    },
    {
     "name": "stderr",
     "output_type": "stream",
     "text": [
      "\n",
      "chunk:   0%|                                                                                                         | 0/1324 [00:00<?, ?it/s, now=None]\u001b[A\n",
      "chunk:  49%|█████████████████████████████████████████████▊                                               | 653/1324 [00:00<00:00, 6528.75it/s, now=None]\u001b[A\n",
      "chunk:  99%|██████████████████████████████████████████████████████████████████████████████████████████▋ | 1306/1324 [00:00<00:00, 6344.38it/s, now=None]\u001b[A\n",
      "                                                                                                                                                        \u001b[A"
     ]
    },
    {
     "name": "stdout",
     "output_type": "stream",
     "text": [
      "MoviePy - Done.\n",
      "MoviePy - Writing audio in temp_audio.wav\n"
     ]
    },
    {
     "name": "stderr",
     "output_type": "stream",
     "text": [
      "\n",
      "chunk:   0%|                                                                                                         | 0/1324 [00:00<?, ?it/s, now=None]\u001b[A\n",
      "chunk:  54%|██████████████████████████████████████████████████▏                                          | 714/1324 [00:00<00:00, 6971.32it/s, now=None]\u001b[A\n",
      "                                                                                                                                                        \u001b[A"
     ]
    },
    {
     "name": "stdout",
     "output_type": "stream",
     "text": [
      "MoviePy - Done.\n",
      "MoviePy - Writing audio in temp_audio.wav\n"
     ]
    },
    {
     "name": "stderr",
     "output_type": "stream",
     "text": [
      "\n",
      "chunk:   0%|                                                                                                         | 0/1324 [00:00<?, ?it/s, now=None]\u001b[A\n",
      "chunk:  53%|█████████████████████████████████████████████████▌                                           | 705/1324 [00:00<00:00, 7049.37it/s, now=None]\u001b[A\n",
      "                                                                                                                                                        \u001b[A"
     ]
    },
    {
     "name": "stdout",
     "output_type": "stream",
     "text": [
      "MoviePy - Done.\n",
      "MoviePy - Writing audio in temp_audio.wav\n"
     ]
    },
    {
     "name": "stderr",
     "output_type": "stream",
     "text": [
      "\n",
      "chunk:   0%|                                                                                                         | 0/1324 [00:00<?, ?it/s, now=None]\u001b[A\n",
      "chunk:  54%|██████████████████████████████████████████████████▏                                          | 714/1324 [00:00<00:00, 7136.42it/s, now=None]\u001b[A\n",
      "                                                                                                                                                        \u001b[A"
     ]
    },
    {
     "name": "stdout",
     "output_type": "stream",
     "text": [
      "MoviePy - Done.\n",
      "MoviePy - Writing audio in temp_audio.wav\n"
     ]
    },
    {
     "name": "stderr",
     "output_type": "stream",
     "text": [
      "\n",
      "chunk:   0%|                                                                                                         | 0/1324 [00:00<?, ?it/s, now=None]\u001b[A\n",
      "chunk:  47%|████████████████████████████████████████████                                                 | 627/1324 [00:00<00:00, 6266.87it/s, now=None]\u001b[A\n",
      "                                                                                                                                                        \u001b[A"
     ]
    },
    {
     "name": "stdout",
     "output_type": "stream",
     "text": [
      "MoviePy - Done.\n",
      "MoviePy - Writing audio in temp_audio.wav\n"
     ]
    },
    {
     "name": "stderr",
     "output_type": "stream",
     "text": [
      "\n",
      "chunk:   0%|                                                                                                         | 0/1324 [00:00<?, ?it/s, now=None]\u001b[A\n",
      "chunk:  60%|███████████████████████████████████████████████████████▉                                     | 796/1324 [00:00<00:00, 7955.34it/s, now=None]\u001b[A\n",
      "                                                                                                                                                        \u001b[A"
     ]
    },
    {
     "name": "stdout",
     "output_type": "stream",
     "text": [
      "MoviePy - Done.\n",
      "MoviePy - Writing audio in temp_audio.wav\n"
     ]
    },
    {
     "name": "stderr",
     "output_type": "stream",
     "text": [
      "\n",
      "chunk:   0%|                                                                                                         | 0/1324 [00:00<?, ?it/s, now=None]\u001b[A\n",
      "chunk:  50%|██████████████████████████████████████████████▊                                              | 666/1324 [00:00<00:00, 6659.07it/s, now=None]\u001b[A\n",
      "                                                                                                                                                        \u001b[A"
     ]
    },
    {
     "name": "stdout",
     "output_type": "stream",
     "text": [
      "MoviePy - Done.\n",
      "MoviePy - Writing audio in temp_audio.wav\n"
     ]
    },
    {
     "name": "stderr",
     "output_type": "stream",
     "text": [
      "\n",
      "chunk:   0%|                                                                                                         | 0/1324 [00:00<?, ?it/s, now=None]\u001b[A\n",
      "chunk:  44%|████████████████████████████████████████▋                                                    | 579/1324 [00:00<00:00, 5787.95it/s, now=None]\u001b[A\n",
      "chunk:  87%|████████████████████████████████████████████████████████████████████████████████▍           | 1158/1324 [00:00<00:00, 5506.31it/s, now=None]\u001b[A\n",
      "                                                                                                                                                        \u001b[A"
     ]
    },
    {
     "name": "stdout",
     "output_type": "stream",
     "text": [
      "MoviePy - Done.\n",
      "MoviePy - Writing audio in temp_audio.wav\n"
     ]
    },
    {
     "name": "stderr",
     "output_type": "stream",
     "text": [
      "\n",
      "chunk:   0%|                                                                                                         | 0/1324 [00:00<?, ?it/s, now=None]\u001b[A\n",
      "chunk:  51%|███████████████████████████████████████████████▋                                             | 679/1324 [00:00<00:00, 6784.94it/s, now=None]\u001b[A\n",
      "                                                                                                                                                        \u001b[A"
     ]
    },
    {
     "name": "stdout",
     "output_type": "stream",
     "text": [
      "MoviePy - Done.\n",
      "MoviePy - Writing audio in temp_audio.wav\n"
     ]
    },
    {
     "name": "stderr",
     "output_type": "stream",
     "text": [
      "\n",
      "chunk:   0%|                                                                                                         | 0/1324 [00:00<?, ?it/s, now=None]\u001b[A\n",
      "chunk:  46%|██████████████████████████████████████████▉                                                  | 612/1324 [00:00<00:00, 6049.18it/s, now=None]\u001b[A\n",
      "chunk:  92%|████████████████████████████████████████████████████████████████████████████████████▌       | 1217/1324 [00:00<00:00, 4833.36it/s, now=None]\u001b[A\n",
      "                                                                                                                                                        \u001b[A"
     ]
    },
    {
     "name": "stdout",
     "output_type": "stream",
     "text": [
      "MoviePy - Done.\n",
      "MoviePy - Writing audio in temp_audio.wav\n"
     ]
    },
    {
     "name": "stderr",
     "output_type": "stream",
     "text": [
      "\n",
      "chunk:   0%|                                                                                                         | 0/1324 [00:00<?, ?it/s, now=None]\u001b[A\n",
      "chunk:  46%|██████████████████████████████████████████▉                                                  | 612/1324 [00:00<00:00, 6057.49it/s, now=None]\u001b[A\n",
      "                                                                                                                                                        \u001b[A"
     ]
    },
    {
     "name": "stdout",
     "output_type": "stream",
     "text": [
      "MoviePy - Done.\n",
      "MoviePy - Writing audio in temp_audio.wav\n"
     ]
    },
    {
     "name": "stderr",
     "output_type": "stream",
     "text": [
      "\n",
      "chunk:   0%|                                                                                                         | 0/1324 [00:00<?, ?it/s, now=None]\u001b[A\n",
      "chunk:  46%|██████████████████████████████████████████▉                                                  | 612/1324 [00:00<00:00, 5913.12it/s, now=None]\u001b[A\n",
      "chunk:  96%|████████████████████████████████████████████████████████████████████████████████████████▌   | 1275/1324 [00:00<00:00, 6305.43it/s, now=None]\u001b[A\n",
      "                                                                                                                                                        \u001b[A"
     ]
    },
    {
     "name": "stdout",
     "output_type": "stream",
     "text": [
      "MoviePy - Done.\n",
      "MoviePy - Writing audio in temp_audio.wav\n"
     ]
    },
    {
     "name": "stderr",
     "output_type": "stream",
     "text": [
      "\n",
      "chunk:   0%|                                                                                                         | 0/1324 [00:00<?, ?it/s, now=None]\u001b[A\n",
      "chunk:  58%|██████████████████████████████████████████████████████▏                                      | 771/1324 [00:00<00:00, 7703.41it/s, now=None]\u001b[A\n",
      "                                                                                                                                                        \u001b[A"
     ]
    },
    {
     "name": "stdout",
     "output_type": "stream",
     "text": [
      "MoviePy - Done.\n",
      "MoviePy - Writing audio in temp_audio.wav\n"
     ]
    },
    {
     "name": "stderr",
     "output_type": "stream",
     "text": [
      "\n",
      "chunk:   0%|                                                                                                         | 0/1324 [00:00<?, ?it/s, now=None]\u001b[A\n",
      "chunk:  59%|██████████████████████████████████████████████████████▋                                      | 778/1324 [00:00<00:00, 7774.39it/s, now=None]\u001b[A\n",
      "                                                                                                                                                        \u001b[A"
     ]
    },
    {
     "name": "stdout",
     "output_type": "stream",
     "text": [
      "MoviePy - Done.\n",
      "MoviePy - Writing audio in temp_audio.wav\n"
     ]
    },
    {
     "name": "stderr",
     "output_type": "stream",
     "text": [
      "\n",
      "chunk:   0%|                                                                                                         | 0/1324 [00:00<?, ?it/s, now=None]\u001b[A\n",
      "chunk:  54%|██████████████████████████████████████████████████                                           | 713/1324 [00:00<00:00, 7128.66it/s, now=None]\u001b[A\n",
      "                                                                                                                                                        \u001b[A"
     ]
    },
    {
     "name": "stdout",
     "output_type": "stream",
     "text": [
      "MoviePy - Done.\n",
      "MoviePy - Writing audio in temp_audio.wav\n"
     ]
    },
    {
     "name": "stderr",
     "output_type": "stream",
     "text": [
      "\n",
      "chunk:   0%|                                                                                                         | 0/1324 [00:00<?, ?it/s, now=None]\u001b[A\n",
      "chunk:  46%|██████████████████████████████████████████▉                                                  | 612/1324 [00:00<00:00, 5986.59it/s, now=None]\u001b[A\n",
      "chunk:  91%|████████████████████████████████████████████████████████████████████████████████████▏       | 1211/1324 [00:00<00:00, 5711.72it/s, now=None]\u001b[A\n",
      "                                                                                                                                                        \u001b[A"
     ]
    },
    {
     "name": "stdout",
     "output_type": "stream",
     "text": [
      "MoviePy - Done.\n",
      "MoviePy - Writing audio in temp_audio.wav\n"
     ]
    },
    {
     "name": "stderr",
     "output_type": "stream",
     "text": [
      "\n",
      "chunk:   0%|                                                                                                          | 0/913 [00:00<?, ?it/s, now=None]\u001b[A\n",
      "chunk:  78%|█████████████████████████████████████████████████████████████████████████▌                    | 714/913 [00:00<00:00, 7095.26it/s, now=None]\u001b[A\n",
      "                                                                                                                                                        \u001b[A"
     ]
    },
    {
     "name": "stdout",
     "output_type": "stream",
     "text": [
      "MoviePy - Done.\n",
      "MoviePy - Writing audio in temp_audio.wav\n"
     ]
    },
    {
     "name": "stderr",
     "output_type": "stream",
     "text": [
      "\n",
      "chunk:   0%|                                                                                                         | 0/1324 [00:00<?, ?it/s, now=None]\u001b[A\n",
      "chunk:  56%|████████████████████████████████████████████████████                                         | 742/1324 [00:00<00:00, 7415.50it/s, now=None]\u001b[A\n",
      "                                                                                                                                                        \u001b[A"
     ]
    },
    {
     "name": "stdout",
     "output_type": "stream",
     "text": [
      "MoviePy - Done.\n",
      "MoviePy - Writing audio in temp_audio.wav\n"
     ]
    },
    {
     "name": "stderr",
     "output_type": "stream",
     "text": [
      "\n",
      "chunk:   0%|                                                                                                         | 0/1324 [00:00<?, ?it/s, now=None]\u001b[A\n",
      "chunk:  50%|██████████████████████████████████████████████▌                                              | 662/1324 [00:00<00:00, 6617.64it/s, now=None]\u001b[A\n",
      "                                                                                                                                                        \u001b[A"
     ]
    },
    {
     "name": "stdout",
     "output_type": "stream",
     "text": [
      "MoviePy - Done.\n",
      "MoviePy - Writing audio in temp_audio.wav\n"
     ]
    },
    {
     "name": "stderr",
     "output_type": "stream",
     "text": [
      "\n",
      "chunk:   0%|                                                                                                         | 0/1324 [00:00<?, ?it/s, now=None]\u001b[A\n",
      "chunk:  51%|███████████████████████████████████████████████▊                                             | 681/1324 [00:00<00:00, 6804.25it/s, now=None]\u001b[A\n",
      "                                                                                                                                                        \u001b[A"
     ]
    },
    {
     "name": "stdout",
     "output_type": "stream",
     "text": [
      "MoviePy - Done.\n",
      "MoviePy - Writing audio in temp_audio.wav\n"
     ]
    },
    {
     "name": "stderr",
     "output_type": "stream",
     "text": [
      "\n",
      "chunk:   0%|                                                                                                         | 0/1324 [00:00<?, ?it/s, now=None]\u001b[A\n",
      "chunk:  49%|█████████████████████████████████████████████▋                                               | 650/1324 [00:00<00:00, 6496.54it/s, now=None]\u001b[A\n",
      "chunk:  98%|██████████████████████████████████████████████████████████████████████████████████████████▎ | 1300/1324 [00:00<00:00, 6449.69it/s, now=None]\u001b[A\n",
      "                                                                                                                                                        \u001b[A"
     ]
    },
    {
     "name": "stdout",
     "output_type": "stream",
     "text": [
      "MoviePy - Done.\n",
      "MoviePy - Writing audio in temp_audio.wav\n"
     ]
    },
    {
     "name": "stderr",
     "output_type": "stream",
     "text": [
      "\n",
      "chunk:   0%|                                                                                                         | 0/1324 [00:00<?, ?it/s, now=None]\u001b[A\n",
      "chunk:  50%|██████████████████████████████████████████████▌                                              | 663/1324 [00:00<00:00, 6512.64it/s, now=None]\u001b[A\n",
      "chunk:  99%|███████████████████████████████████████████████████████████████████████████████████████████▎| 1315/1324 [00:00<00:00, 4331.41it/s, now=None]\u001b[A\n",
      "                                                                                                                                                        \u001b[A"
     ]
    },
    {
     "name": "stdout",
     "output_type": "stream",
     "text": [
      "MoviePy - Done.\n",
      "MoviePy - Writing audio in temp_audio.wav\n"
     ]
    },
    {
     "name": "stderr",
     "output_type": "stream",
     "text": [
      "\n",
      "chunk:   0%|                                                                                                         | 0/1324 [00:00<?, ?it/s, now=None]\u001b[A\n",
      "chunk:  52%|████████████████████████████████████████████████▍                                            | 689/1324 [00:00<00:00, 6889.33it/s, now=None]\u001b[A\n",
      "                                                                                                                                                        \u001b[A"
     ]
    },
    {
     "name": "stdout",
     "output_type": "stream",
     "text": [
      "MoviePy - Done.\n",
      "MoviePy - Writing audio in temp_audio.wav\n"
     ]
    },
    {
     "name": "stderr",
     "output_type": "stream",
     "text": [
      "\n",
      "chunk:   0%|                                                                                                         | 0/1324 [00:00<?, ?it/s, now=None]\u001b[A\n",
      "chunk:  58%|█████████████████████████████████████████████████████▋                                       | 765/1324 [00:00<00:00, 7489.48it/s, now=None]\u001b[A\n",
      "                                                                                                                                                        \u001b[A"
     ]
    },
    {
     "name": "stdout",
     "output_type": "stream",
     "text": [
      "MoviePy - Done.\n",
      "MoviePy - Writing audio in temp_audio.wav\n"
     ]
    },
    {
     "name": "stderr",
     "output_type": "stream",
     "text": [
      "\n",
      "chunk:   0%|                                                                                                         | 0/1324 [00:00<?, ?it/s, now=None]\u001b[A\n",
      "chunk:  46%|██████████████████████████████████████████▉                                                  | 612/1324 [00:00<00:00, 6012.89it/s, now=None]\u001b[A\n",
      "chunk:  97%|█████████████████████████████████████████████████████████████████████████████████████████▍  | 1288/1324 [00:00<00:00, 6446.54it/s, now=None]\u001b[A\n",
      "                                                                                                                                                        \u001b[A"
     ]
    },
    {
     "name": "stdout",
     "output_type": "stream",
     "text": [
      "MoviePy - Done.\n",
      "MoviePy - Writing audio in temp_audio.wav\n"
     ]
    },
    {
     "name": "stderr",
     "output_type": "stream",
     "text": [
      "\n",
      "chunk:   0%|                                                                                                         | 0/1324 [00:00<?, ?it/s, now=None]\u001b[A\n",
      "chunk:  41%|██████████████████████████████████████▏                                                      | 544/1324 [00:00<00:00, 5437.23it/s, now=None]\u001b[A\n",
      "                                                                                                                                                        \u001b[A"
     ]
    },
    {
     "name": "stdout",
     "output_type": "stream",
     "text": [
      "MoviePy - Done.\n",
      "MoviePy - Writing audio in temp_audio.wav\n"
     ]
    },
    {
     "name": "stderr",
     "output_type": "stream",
     "text": [
      "\n",
      "chunk:   0%|                                                                                                         | 0/1324 [00:00<?, ?it/s, now=None]\u001b[A\n",
      "chunk:  54%|██████████████████████████████████████████████████▏                                          | 714/1324 [00:00<00:00, 7121.77it/s, now=None]\u001b[A\n",
      "                                                                                                                                                        \u001b[A"
     ]
    },
    {
     "name": "stdout",
     "output_type": "stream",
     "text": [
      "MoviePy - Done.\n",
      "MoviePy - Writing audio in temp_audio.wav\n"
     ]
    },
    {
     "name": "stderr",
     "output_type": "stream",
     "text": [
      "\n",
      "chunk:   0%|                                                                                                          | 0/221 [00:00<?, ?it/s, now=None]\u001b[A\n",
      "                                                                                                                                                        \u001b[A"
     ]
    },
    {
     "name": "stdout",
     "output_type": "stream",
     "text": [
      "MoviePy - Done.\n",
      "MoviePy - Writing audio in temp_audio.wav\n"
     ]
    },
    {
     "name": "stderr",
     "output_type": "stream",
     "text": [
      "\n",
      "chunk:   0%|                                                                                                         | 0/1324 [00:00<?, ?it/s, now=None]\u001b[A\n",
      "chunk:  46%|██████████████████████████████████████████▊                                                  | 610/1324 [00:00<00:00, 6099.41it/s, now=None]\u001b[A\n",
      "chunk:  92%|████████████████████████████████████████████████████████████████████████████████████▊       | 1220/1324 [00:00<00:00, 5852.23it/s, now=None]\u001b[A\n",
      "                                                                                                                                                        \u001b[A"
     ]
    },
    {
     "name": "stdout",
     "output_type": "stream",
     "text": [
      "MoviePy - Done.\n",
      "MoviePy - Writing audio in temp_audio.wav\n"
     ]
    },
    {
     "name": "stderr",
     "output_type": "stream",
     "text": [
      "\n",
      "chunk:   0%|                                                                                                         | 0/1324 [00:00<?, ?it/s, now=None]\u001b[A\n",
      "chunk:  42%|███████████████████████████████████████▍                                                     | 561/1324 [00:00<00:00, 5559.65it/s, now=None]\u001b[A\n",
      "chunk:  84%|█████████████████████████████████████████████████████████████████████████████▌              | 1117/1324 [00:00<00:00, 5333.03it/s, now=None]\u001b[A\n",
      "                                                                                                                                                        \u001b[A"
     ]
    },
    {
     "name": "stdout",
     "output_type": "stream",
     "text": [
      "MoviePy - Done.\n",
      "MoviePy - Writing audio in temp_audio.wav\n"
     ]
    },
    {
     "name": "stderr",
     "output_type": "stream",
     "text": [
      "\n",
      "chunk:   0%|                                                                                                         | 0/1324 [00:00<?, ?it/s, now=None]\u001b[A\n",
      "chunk:  35%|████████████████████████████████▏                                                            | 459/1324 [00:00<00:00, 4564.10it/s, now=None]\u001b[A\n",
      "chunk:  73%|████████████████████████████████████████████████████████████████████                         | 969/1324 [00:00<00:00, 4796.94it/s, now=None]\u001b[A\n",
      "                                                                                                                                                        \u001b[A"
     ]
    },
    {
     "name": "stdout",
     "output_type": "stream",
     "text": [
      "MoviePy - Done.\n",
      "MoviePy - Writing audio in temp_audio.wav\n"
     ]
    },
    {
     "name": "stderr",
     "output_type": "stream",
     "text": [
      "\n",
      "chunk:   0%|                                                                                                         | 0/1324 [00:00<?, ?it/s, now=None]\u001b[A\n",
      "chunk:  40%|████████████████████████████████████▊                                                        | 524/1324 [00:00<00:00, 5236.83it/s, now=None]\u001b[A\n",
      "chunk:  79%|█████████████████████████████████████████████████████████████████████████                   | 1052/1324 [00:00<00:00, 5261.71it/s, now=None]\u001b[A\n",
      "                                                                                                                                                        \u001b[A"
     ]
    },
    {
     "name": "stdout",
     "output_type": "stream",
     "text": [
      "MoviePy - Done.\n",
      "MoviePy - Writing audio in temp_audio.wav\n"
     ]
    },
    {
     "name": "stderr",
     "output_type": "stream",
     "text": [
      "\n",
      "chunk:   0%|                                                                                                         | 0/1324 [00:00<?, ?it/s, now=None]\u001b[A\n",
      "chunk:  44%|█████████████████████████████████████████▎                                                   | 588/1324 [00:00<00:00, 5875.35it/s, now=None]\u001b[A\n",
      "chunk:  89%|█████████████████████████████████████████████████████████████████████████████████▋          | 1176/1324 [00:00<00:00, 5589.07it/s, now=None]\u001b[A\n",
      "                                                                                                                                                        \u001b[A"
     ]
    },
    {
     "name": "stdout",
     "output_type": "stream",
     "text": [
      "MoviePy - Done.\n",
      "MoviePy - Writing audio in temp_audio.wav\n"
     ]
    },
    {
     "name": "stderr",
     "output_type": "stream",
     "text": [
      "\n",
      "chunk:   0%|                                                                                                         | 0/1324 [00:00<?, ?it/s, now=None]\u001b[A\n",
      "chunk:  41%|██████████████████████████████████████                                                       | 541/1324 [00:00<00:00, 5404.36it/s, now=None]\u001b[A\n",
      "chunk:  83%|████████████████████████████████████████████████████████████████████████████▋               | 1104/1324 [00:00<00:00, 5536.78it/s, now=None]\u001b[A\n",
      "                                                                                                                                                        \u001b[A"
     ]
    },
    {
     "name": "stdout",
     "output_type": "stream",
     "text": [
      "MoviePy - Done.\n",
      "MoviePy - Writing audio in temp_audio.wav\n"
     ]
    },
    {
     "name": "stderr",
     "output_type": "stream",
     "text": [
      "\n",
      "chunk:   0%|                                                                                                         | 0/1132 [00:00<?, ?it/s, now=None]\u001b[A\n",
      "chunk:  54%|██████████████████████████████████████████████████                                           | 610/1132 [00:00<00:00, 6094.83it/s, now=None]\u001b[A\n",
      "                                                                                                                                                        \u001b[A"
     ]
    },
    {
     "name": "stdout",
     "output_type": "stream",
     "text": [
      "MoviePy - Done.\n",
      "MoviePy - Writing audio in temp_audio.wav\n"
     ]
    },
    {
     "name": "stderr",
     "output_type": "stream",
     "text": [
      "\n",
      "chunk:   0%|                                                                                                         | 0/1324 [00:00<?, ?it/s, now=None]\u001b[A\n",
      "chunk:  39%|███████████████████████████████████▊                                                         | 510/1324 [00:00<00:00, 5048.67it/s, now=None]\u001b[A\n",
      "chunk:  77%|██████████████████████████████████████████████████████████████████████▉                     | 1020/1324 [00:00<00:00, 4973.47it/s, now=None]\u001b[A\n",
      "                                                                                                                                                        \u001b[A"
     ]
    },
    {
     "name": "stdout",
     "output_type": "stream",
     "text": [
      "MoviePy - Done.\n",
      "MoviePy - Writing audio in temp_audio.wav\n"
     ]
    },
    {
     "name": "stderr",
     "output_type": "stream",
     "text": [
      "\n",
      "chunk:   0%|                                                                                                         | 0/1324 [00:00<?, ?it/s, now=None]\u001b[A\n",
      "chunk:  35%|████████████████████████████████▏                                                            | 459/1324 [00:00<00:00, 4588.67it/s, now=None]\u001b[A\n",
      "chunk:  69%|████████████████████████████████████████████████████████████████▍                            | 918/1324 [00:00<00:00, 4546.45it/s, now=None]\u001b[A\n",
      "                                                                                                                                                        \u001b[A"
     ]
    },
    {
     "name": "stdout",
     "output_type": "stream",
     "text": [
      "MoviePy - Done.\n",
      "MoviePy - Writing audio in temp_audio.wav\n"
     ]
    },
    {
     "name": "stderr",
     "output_type": "stream",
     "text": [
      "\n",
      "chunk:   0%|                                                                                                          | 0/610 [00:00<?, ?it/s, now=None]\u001b[A\n",
      "chunk:  75%|██████████████████████████████████████████████████████████████████████▋                       | 459/610 [00:00<00:00, 4383.11it/s, now=None]\u001b[A\n",
      "                                                                                                                                                        \u001b[A"
     ]
    },
    {
     "name": "stdout",
     "output_type": "stream",
     "text": [
      "MoviePy - Done.\n",
      "MoviePy - Writing audio in temp_audio.wav\n"
     ]
    },
    {
     "name": "stderr",
     "output_type": "stream",
     "text": [
      "\n",
      "chunk:   0%|                                                                                                         | 0/1324 [00:00<?, ?it/s, now=None]\u001b[A\n",
      "chunk:  39%|███████████████████████████████████▊                                                         | 510/1324 [00:00<00:00, 4992.32it/s, now=None]\u001b[A\n",
      "chunk:  76%|██████████████████████████████████████████████████████████████████████▏                     | 1010/1324 [00:00<00:00, 4811.37it/s, now=None]\u001b[A\n",
      "                                                                                                                                                        \u001b[A"
     ]
    },
    {
     "name": "stdout",
     "output_type": "stream",
     "text": [
      "MoviePy - Done.\n",
      "MoviePy - Writing audio in temp_audio.wav\n"
     ]
    },
    {
     "name": "stderr",
     "output_type": "stream",
     "text": [
      "\n",
      "chunk:   0%|                                                                                                         | 0/1324 [00:00<?, ?it/s, now=None]\u001b[A\n",
      "chunk:  43%|███████████████████████████████████████▊                                                     | 566/1324 [00:00<00:00, 5649.92it/s, now=None]\u001b[A\n",
      "chunk:  85%|██████████████████████████████████████████████████████████████████████████████▌             | 1131/1324 [00:00<00:00, 5094.34it/s, now=None]\u001b[A\n",
      "                                                                                                                                                        \u001b[A"
     ]
    },
    {
     "name": "stdout",
     "output_type": "stream",
     "text": [
      "MoviePy - Done.\n",
      "MoviePy - Writing audio in temp_audio.wav\n"
     ]
    },
    {
     "name": "stderr",
     "output_type": "stream",
     "text": [
      "\n",
      "chunk:   0%|                                                                                                          | 0/763 [00:00<?, ?it/s, now=None]\u001b[A\n",
      "chunk:  67%|██████████████████████████████████████████████████████████████▊                               | 510/763 [00:00<00:00, 4954.13it/s, now=None]\u001b[A\n",
      "                                                                                                                                                        \u001b[A"
     ]
    },
    {
     "name": "stdout",
     "output_type": "stream",
     "text": [
      "MoviePy - Done.\n",
      "MoviePy - Writing audio in temp_audio.wav\n"
     ]
    },
    {
     "name": "stderr",
     "output_type": "stream",
     "text": [
      "\n",
      "chunk:   0%|                                                                                                         | 0/1324 [00:00<?, ?it/s, now=None]\u001b[A\n",
      "chunk:  39%|███████████████████████████████████▊                                                         | 510/1324 [00:00<00:00, 5095.09it/s, now=None]\u001b[A\n",
      "chunk:  77%|██████████████████████████████████████████████████████████████████████▉                     | 1020/1324 [00:00<00:00, 4606.78it/s, now=None]\u001b[A\n",
      "                                                                                                                                                        \u001b[A"
     ]
    },
    {
     "name": "stdout",
     "output_type": "stream",
     "text": [
      "MoviePy - Done.\n",
      "MoviePy - Writing audio in temp_audio.wav\n"
     ]
    },
    {
     "name": "stderr",
     "output_type": "stream",
     "text": [
      "\n",
      "chunk:   0%|                                                                                                         | 0/1324 [00:00<?, ?it/s, now=None]\u001b[A\n",
      "chunk:  51%|███████████████████████████████████████████████▌                                             | 678/1324 [00:00<00:00, 6773.76it/s, now=None]\u001b[A\n",
      "                                                                                                                                                        \u001b[A"
     ]
    },
    {
     "name": "stdout",
     "output_type": "stream",
     "text": [
      "MoviePy - Done.\n",
      "MoviePy - Writing audio in temp_audio.wav\n"
     ]
    },
    {
     "name": "stderr",
     "output_type": "stream",
     "text": [
      "\n",
      "chunk:   0%|                                                                                                         | 0/1324 [00:00<?, ?it/s, now=None]\u001b[A\n",
      "chunk:  61%|████████████████████████████████████████████████████████▍                                    | 803/1324 [00:00<00:00, 8029.34it/s, now=None]\u001b[A\n",
      "                                                                                                                                                        \u001b[A"
     ]
    },
    {
     "name": "stdout",
     "output_type": "stream",
     "text": [
      "MoviePy - Done.\n",
      "MoviePy - Writing audio in temp_audio.wav\n"
     ]
    },
    {
     "name": "stderr",
     "output_type": "stream",
     "text": [
      "\n",
      "chunk:   0%|                                                                                                         | 0/1324 [00:00<?, ?it/s, now=None]\u001b[A\n",
      "chunk:  61%|████████████████████████████████████████████████████████▍                                    | 804/1324 [00:00<00:00, 8039.74it/s, now=None]\u001b[A\n",
      "                                                                                                                                                        \u001b[A"
     ]
    },
    {
     "name": "stdout",
     "output_type": "stream",
     "text": [
      "MoviePy - Done.\n",
      "MoviePy - Writing audio in temp_audio.wav\n"
     ]
    },
    {
     "name": "stderr",
     "output_type": "stream",
     "text": [
      "\n",
      "chunk:   0%|                                                                                                         | 0/1324 [00:00<?, ?it/s, now=None]\u001b[A\n",
      "chunk:  61%|█████████████████████████████████████████████████████████                                    | 813/1324 [00:00<00:00, 8126.00it/s, now=None]\u001b[A\n",
      "                                                                                                                                                        \u001b[A"
     ]
    },
    {
     "name": "stdout",
     "output_type": "stream",
     "text": [
      "MoviePy - Done.\n",
      "MoviePy - Writing audio in temp_audio.wav\n"
     ]
    },
    {
     "name": "stderr",
     "output_type": "stream",
     "text": [
      "\n",
      "chunk:   0%|                                                                                                         | 0/1324 [00:00<?, ?it/s, now=None]\u001b[A\n",
      "chunk:  54%|██████████████████████████████████████████████████▏                                          | 714/1324 [00:00<00:00, 7125.53it/s, now=None]\u001b[A\n",
      "                                                                                                                                                        \u001b[A"
     ]
    },
    {
     "name": "stdout",
     "output_type": "stream",
     "text": [
      "MoviePy - Done.\n",
      "MoviePy - Writing audio in temp_audio.wav\n"
     ]
    },
    {
     "name": "stderr",
     "output_type": "stream",
     "text": [
      "\n",
      "chunk:   0%|                                                                                                         | 0/1324 [00:00<?, ?it/s, now=None]\u001b[A\n",
      "chunk:  56%|████████████████████████████████████████████████████                                         | 741/1324 [00:00<00:00, 7407.15it/s, now=None]\u001b[A\n",
      "                                                                                                                                                        \u001b[A"
     ]
    },
    {
     "name": "stdout",
     "output_type": "stream",
     "text": [
      "MoviePy - Done.\n",
      "MoviePy - Writing audio in temp_audio.wav\n"
     ]
    },
    {
     "name": "stderr",
     "output_type": "stream",
     "text": [
      "\n",
      "chunk:   0%|                                                                                                         | 0/1324 [00:00<?, ?it/s, now=None]\u001b[A\n",
      "chunk:  48%|█████████████████████████████████████████████                                                | 642/1324 [00:00<00:00, 6418.97it/s, now=None]\u001b[A\n",
      "                                                                                                                                                        \u001b[A"
     ]
    },
    {
     "name": "stdout",
     "output_type": "stream",
     "text": [
      "MoviePy - Done.\n",
      "MoviePy - Writing audio in temp_audio.wav\n"
     ]
    },
    {
     "name": "stderr",
     "output_type": "stream",
     "text": [
      "\n",
      "chunk:   0%|                                                                                                         | 0/1324 [00:00<?, ?it/s, now=None]\u001b[A\n",
      "chunk:  49%|█████████████████████████████████████████████▋                                               | 650/1324 [00:00<00:00, 6498.10it/s, now=None]\u001b[A\n",
      "chunk:  98%|██████████████████████████████████████████████████████████████████████████████████████████▎ | 1300/1324 [00:00<00:00, 6238.83it/s, now=None]\u001b[A\n",
      "                                                                                                                                                        \u001b[A"
     ]
    },
    {
     "name": "stdout",
     "output_type": "stream",
     "text": [
      "MoviePy - Done.\n",
      "MoviePy - Writing audio in temp_audio.wav\n"
     ]
    },
    {
     "name": "stderr",
     "output_type": "stream",
     "text": [
      "\n",
      "chunk:   0%|                                                                                                          | 0/380 [00:00<?, ?it/s, now=None]\u001b[A\n",
      "                                                                                                                                                        \u001b[A"
     ]
    },
    {
     "name": "stdout",
     "output_type": "stream",
     "text": [
      "MoviePy - Done.\n",
      "MoviePy - Writing audio in temp_audio.wav\n"
     ]
    },
    {
     "name": "stderr",
     "output_type": "stream",
     "text": [
      "\n",
      "chunk:   0%|                                                                                                         | 0/1324 [00:00<?, ?it/s, now=None]\u001b[A\n",
      "chunk:  31%|████████████████████████████▋                                                                | 408/1324 [00:00<00:00, 3956.73it/s, now=None]\u001b[A\n",
      "chunk:  61%|████████████████████████████████████████████████████████▍                                    | 804/1324 [00:00<00:00, 3704.08it/s, now=None]\u001b[A\n",
      "chunk:  92%|█████████████████████████████████████████████████████████████████████████████████████       | 1224/1324 [00:00<00:00, 3900.73it/s, now=None]\u001b[A\n",
      "                                                                                                                                                        \u001b[A"
     ]
    },
    {
     "name": "stdout",
     "output_type": "stream",
     "text": [
      "MoviePy - Done.\n",
      "MoviePy - Writing audio in temp_audio.wav\n"
     ]
    },
    {
     "name": "stderr",
     "output_type": "stream",
     "text": [
      "\n",
      "chunk:   0%|                                                                                                         | 0/1324 [00:00<?, ?it/s, now=None]\u001b[A\n",
      "chunk:  50%|██████████████████████████████████████████████▌                                              | 663/1324 [00:00<00:00, 6584.36it/s, now=None]\u001b[A\n",
      "                                                                                                                                                        \u001b[A"
     ]
    },
    {
     "name": "stdout",
     "output_type": "stream",
     "text": [
      "MoviePy - Done.\n",
      "MoviePy - Writing audio in temp_audio.wav\n"
     ]
    },
    {
     "name": "stderr",
     "output_type": "stream",
     "text": [
      "\n",
      "chunk:   0%|                                                                                                         | 0/1324 [00:00<?, ?it/s, now=None]\u001b[A\n",
      "chunk:  53%|█████████████████████████████████████████████████▏                                           | 701/1324 [00:00<00:00, 7005.78it/s, now=None]\u001b[A\n",
      "                                                                                                                                                        \u001b[A"
     ]
    },
    {
     "name": "stdout",
     "output_type": "stream",
     "text": [
      "MoviePy - Done.\n",
      "MoviePy - Writing audio in temp_audio.wav\n"
     ]
    },
    {
     "name": "stderr",
     "output_type": "stream",
     "text": [
      "\n",
      "chunk:   0%|                                                                                                         | 0/1324 [00:00<?, ?it/s, now=None]\u001b[A\n",
      "chunk:  52%|████████████████████████████████████████████████▎                                            | 687/1324 [00:00<00:00, 6869.63it/s, now=None]\u001b[A\n",
      "                                                                                                                                                        \u001b[A"
     ]
    },
    {
     "name": "stdout",
     "output_type": "stream",
     "text": [
      "MoviePy - Done.\n",
      "MoviePy - Writing audio in temp_audio.wav\n"
     ]
    },
    {
     "name": "stderr",
     "output_type": "stream",
     "text": [
      "\n",
      "chunk:   0%|                                                                                                         | 0/1324 [00:00<?, ?it/s, now=None]\u001b[A\n",
      "chunk:  49%|█████████████████████████████████████████████▎                                               | 645/1324 [00:00<00:00, 6449.07it/s, now=None]\u001b[A\n",
      "chunk:  97%|█████████████████████████████████████████████████████████████████████████████████████████▋  | 1290/1324 [00:00<00:00, 6138.03it/s, now=None]\u001b[A\n",
      "                                                                                                                                                        \u001b[A"
     ]
    },
    {
     "name": "stdout",
     "output_type": "stream",
     "text": [
      "MoviePy - Done.\n",
      "MoviePy - Writing audio in temp_audio.wav\n"
     ]
    },
    {
     "name": "stderr",
     "output_type": "stream",
     "text": [
      "\n",
      "chunk:   0%|                                                                                                         | 0/1324 [00:00<?, ?it/s, now=None]\u001b[A\n",
      "chunk:  55%|███████████████████████████████████████████████████▎                                         | 731/1324 [00:00<00:00, 7307.71it/s, now=None]\u001b[A\n",
      "                                                                                                                                                        \u001b[A"
     ]
    },
    {
     "name": "stdout",
     "output_type": "stream",
     "text": [
      "MoviePy - Done.\n",
      "MoviePy - Writing audio in temp_audio.wav\n"
     ]
    },
    {
     "name": "stderr",
     "output_type": "stream",
     "text": [
      "\n",
      "chunk:   0%|                                                                                                         | 0/1324 [00:00<?, ?it/s, now=None]\u001b[A\n",
      "chunk:  52%|████████████████████████████████████████████████▎                                            | 688/1324 [00:00<00:00, 6878.20it/s, now=None]\u001b[A\n",
      "                                                                                                                                                        \u001b[A"
     ]
    },
    {
     "name": "stdout",
     "output_type": "stream",
     "text": [
      "MoviePy - Done.\n",
      "MoviePy - Writing audio in temp_audio.wav\n"
     ]
    },
    {
     "name": "stderr",
     "output_type": "stream",
     "text": [
      "\n",
      "chunk:   0%|                                                                                                         | 0/1324 [00:00<?, ?it/s, now=None]\u001b[A\n",
      "chunk:  55%|██████████████████████████████████████████████████▊                                          | 724/1324 [00:00<00:00, 7237.06it/s, now=None]\u001b[A\n",
      "                                                                                                                                                        \u001b[A"
     ]
    },
    {
     "name": "stdout",
     "output_type": "stream",
     "text": [
      "MoviePy - Done.\n",
      "MoviePy - Writing audio in temp_audio.wav\n"
     ]
    },
    {
     "name": "stderr",
     "output_type": "stream",
     "text": [
      "\n",
      "chunk:   0%|                                                                                                         | 0/1324 [00:00<?, ?it/s, now=None]\u001b[A\n",
      "chunk:  57%|█████████████████████████████████████████████████████▏                                       | 757/1324 [00:00<00:00, 7566.02it/s, now=None]\u001b[A\n",
      "                                                                                                                                                        \u001b[A"
     ]
    },
    {
     "name": "stdout",
     "output_type": "stream",
     "text": [
      "MoviePy - Done.\n",
      "MoviePy - Writing audio in temp_audio.wav\n"
     ]
    },
    {
     "name": "stderr",
     "output_type": "stream",
     "text": [
      "\n",
      "chunk:   0%|                                                                                                         | 0/1324 [00:00<?, ?it/s, now=None]\u001b[A\n",
      "chunk:  53%|█████████████████████████████████████████████████▌                                           | 705/1324 [00:00<00:00, 7045.62it/s, now=None]\u001b[A\n",
      "                                                                                                                                                        \u001b[A"
     ]
    },
    {
     "name": "stdout",
     "output_type": "stream",
     "text": [
      "MoviePy - Done.\n",
      "MoviePy - Writing audio in temp_audio.wav\n"
     ]
    },
    {
     "name": "stderr",
     "output_type": "stream",
     "text": [
      "\n",
      "chunk:   0%|                                                                                                         | 0/1324 [00:00<?, ?it/s, now=None]\u001b[A\n",
      "chunk:  58%|█████████████████████████████████████████████████████▋                                       | 765/1324 [00:00<00:00, 7586.97it/s, now=None]\u001b[A\n",
      "                                                                                                                                                        \u001b[A"
     ]
    },
    {
     "name": "stdout",
     "output_type": "stream",
     "text": [
      "MoviePy - Done.\n",
      "MoviePy - Writing audio in temp_audio.wav\n"
     ]
    },
    {
     "name": "stderr",
     "output_type": "stream",
     "text": [
      "\n",
      "chunk:   0%|                                                                                                         | 0/1324 [00:00<?, ?it/s, now=None]\u001b[A\n",
      "chunk:  54%|██████████████████████████████████████████████████▏                                          | 714/1324 [00:00<00:00, 7100.29it/s, now=None]\u001b[A\n",
      "                                                                                                                                                        \u001b[A"
     ]
    },
    {
     "name": "stdout",
     "output_type": "stream",
     "text": [
      "MoviePy - Done.\n",
      "MoviePy - Writing audio in temp_audio.wav\n"
     ]
    },
    {
     "name": "stderr",
     "output_type": "stream",
     "text": [
      "\n",
      "chunk:   0%|                                                                                                         | 0/1324 [00:00<?, ?it/s, now=None]\u001b[A\n",
      "chunk:  54%|██████████████████████████████████████████████████▏                                          | 714/1324 [00:00<00:00, 7012.11it/s, now=None]\u001b[A\n",
      "                                                                                                                                                        \u001b[A"
     ]
    },
    {
     "name": "stdout",
     "output_type": "stream",
     "text": [
      "MoviePy - Done.\n",
      "MoviePy - Writing audio in temp_audio.wav\n"
     ]
    },
    {
     "name": "stderr",
     "output_type": "stream",
     "text": [
      "\n",
      "chunk:   0%|                                                                                                         | 0/1324 [00:00<?, ?it/s, now=None]\u001b[A\n",
      "chunk:  52%|████████████████████████████████████████████████▋                                            | 694/1324 [00:00<00:00, 6936.34it/s, now=None]\u001b[A\n",
      "                                                                                                                                                        \u001b[A"
     ]
    },
    {
     "name": "stdout",
     "output_type": "stream",
     "text": [
      "MoviePy - Done.\n",
      "MoviePy - Writing audio in temp_audio.wav\n"
     ]
    },
    {
     "name": "stderr",
     "output_type": "stream",
     "text": [
      "\n",
      "chunk:   0%|                                                                                                         | 0/1324 [00:00<?, ?it/s, now=None]\u001b[A\n",
      "chunk:  52%|███████████████████████████████████████████████▉                                             | 682/1324 [00:00<00:00, 6815.65it/s, now=None]\u001b[A\n",
      "                                                                                                                                                        \u001b[A"
     ]
    },
    {
     "name": "stdout",
     "output_type": "stream",
     "text": [
      "MoviePy - Done.\n",
      "MoviePy - Writing audio in temp_audio.wav\n"
     ]
    },
    {
     "name": "stderr",
     "output_type": "stream",
     "text": [
      "\n",
      "chunk:   0%|                                                                                                         | 0/1324 [00:00<?, ?it/s, now=None]\u001b[A\n",
      "chunk:  55%|██████████████████████████████████████████████████▉                                          | 725/1324 [00:00<00:00, 7244.62it/s, now=None]\u001b[A\n",
      "                                                                                                                                                        \u001b[A"
     ]
    },
    {
     "name": "stdout",
     "output_type": "stream",
     "text": [
      "MoviePy - Done.\n",
      "MoviePy - Writing audio in temp_audio.wav\n"
     ]
    },
    {
     "name": "stderr",
     "output_type": "stream",
     "text": [
      "\n",
      "chunk:   0%|                                                                                                         | 0/1324 [00:00<?, ?it/s, now=None]\u001b[A\n",
      "chunk:  54%|██████████████████████████████████████████████████▏                                          | 714/1324 [00:00<00:00, 7034.55it/s, now=None]\u001b[A\n",
      "                                                                                                                                                        \u001b[A"
     ]
    },
    {
     "name": "stdout",
     "output_type": "stream",
     "text": [
      "MoviePy - Done.\n",
      "MoviePy - Writing audio in temp_audio.wav\n"
     ]
    },
    {
     "name": "stderr",
     "output_type": "stream",
     "text": [
      "\n",
      "chunk:   0%|                                                                                                         | 0/1324 [00:00<?, ?it/s, now=None]\u001b[A\n",
      "chunk:  51%|███████████████████████████████████████████████▌                                             | 678/1324 [00:00<00:00, 6779.93it/s, now=None]\u001b[A\n",
      "                                                                                                                                                        \u001b[A"
     ]
    },
    {
     "name": "stdout",
     "output_type": "stream",
     "text": [
      "MoviePy - Done.\n",
      "MoviePy - Writing audio in temp_audio.wav\n"
     ]
    },
    {
     "name": "stderr",
     "output_type": "stream",
     "text": [
      "\n",
      "chunk:   0%|                                                                                                         | 0/1324 [00:00<?, ?it/s, now=None]\u001b[A\n",
      "chunk:  47%|███████████████████████████████████████████▎                                                 | 616/1324 [00:00<00:00, 6157.38it/s, now=None]\u001b[A\n",
      "chunk:  98%|██████████████████████████████████████████████████████████████████████████████████████████▏ | 1298/1324 [00:00<00:00, 6544.37it/s, now=None]\u001b[A\n",
      "                                                                                                                                                        \u001b[A"
     ]
    },
    {
     "name": "stdout",
     "output_type": "stream",
     "text": [
      "MoviePy - Done.\n",
      "MoviePy - Writing audio in temp_audio.wav\n"
     ]
    },
    {
     "name": "stderr",
     "output_type": "stream",
     "text": [
      "\n",
      "chunk:   0%|                                                                                                         | 0/1324 [00:00<?, ?it/s, now=None]\u001b[A\n",
      "chunk:  43%|████████████████████████████████████████                                                     | 570/1324 [00:00<00:00, 5697.67it/s, now=None]\u001b[A\n",
      "chunk:  93%|█████████████████████████████████████████████████████████████████████████████████████▊      | 1235/1324 [00:00<00:00, 6256.06it/s, now=None]\u001b[A\n",
      "                                                                                                                                                        \u001b[A"
     ]
    },
    {
     "name": "stdout",
     "output_type": "stream",
     "text": [
      "MoviePy - Done.\n",
      "MoviePy - Writing audio in temp_audio.wav\n"
     ]
    },
    {
     "name": "stderr",
     "output_type": "stream",
     "text": [
      "\n",
      "chunk:   0%|                                                                                                         | 0/1324 [00:00<?, ?it/s, now=None]\u001b[A\n",
      "chunk:  50%|██████████████████████████████████████████████▎                                              | 659/1324 [00:00<00:00, 6588.56it/s, now=None]\u001b[A\n",
      "chunk: 100%|███████████████████████████████████████████████████████████████████████████████████████████▌| 1318/1324 [00:00<00:00, 6584.71it/s, now=None]\u001b[A\n",
      "                                                                                                                                                        \u001b[A"
     ]
    },
    {
     "name": "stdout",
     "output_type": "stream",
     "text": [
      "MoviePy - Done.\n",
      "MoviePy - Writing audio in temp_audio.wav\n"
     ]
    },
    {
     "name": "stderr",
     "output_type": "stream",
     "text": [
      "\n",
      "chunk:   0%|                                                                                                         | 0/1324 [00:00<?, ?it/s, now=None]\u001b[A\n",
      "chunk:  55%|██████████████████████████████████████████████████▋                                          | 722/1324 [00:00<00:00, 7217.44it/s, now=None]\u001b[A\n",
      "                                                                                                                                                        \u001b[A"
     ]
    },
    {
     "name": "stdout",
     "output_type": "stream",
     "text": [
      "MoviePy - Done.\n",
      "MoviePy - Writing audio in temp_audio.wav\n"
     ]
    },
    {
     "name": "stderr",
     "output_type": "stream",
     "text": [
      "\n",
      "chunk:   0%|                                                                                                         | 0/1324 [00:00<?, ?it/s, now=None]\u001b[A\n",
      "chunk:  50%|██████████████████████████████████████████████▌                                              | 663/1324 [00:00<00:00, 6486.73it/s, now=None]\u001b[A\n",
      "chunk:  99%|███████████████████████████████████████████████████████████████████████████████████████████▏| 1312/1324 [00:00<00:00, 6452.20it/s, now=None]\u001b[A\n",
      "                                                                                                                                                        \u001b[A"
     ]
    },
    {
     "name": "stdout",
     "output_type": "stream",
     "text": [
      "MoviePy - Done.\n",
      "MoviePy - Writing audio in temp_audio.wav\n"
     ]
    },
    {
     "name": "stderr",
     "output_type": "stream",
     "text": [
      "\n",
      "chunk:   0%|                                                                                                         | 0/1324 [00:00<?, ?it/s, now=None]\u001b[A\n",
      "chunk:  46%|██████████████████████████████████████████▉                                                  | 612/1324 [00:00<00:00, 6099.79it/s, now=None]\u001b[A\n",
      "chunk:  92%|████████████████████████████████████████████████████████████████████████████████████▉       | 1222/1324 [00:00<00:00, 5614.44it/s, now=None]\u001b[A\n",
      "                                                                                                                                                        \u001b[A"
     ]
    },
    {
     "name": "stdout",
     "output_type": "stream",
     "text": [
      "MoviePy - Done.\n",
      "MoviePy - Writing audio in temp_audio.wav\n"
     ]
    },
    {
     "name": "stderr",
     "output_type": "stream",
     "text": [
      "\n",
      "chunk:   0%|                                                                                                         | 0/1324 [00:00<?, ?it/s, now=None]\u001b[A\n",
      "chunk:  51%|███████████████████████████████████████████████▊                                             | 680/1324 [00:00<00:00, 6796.59it/s, now=None]\u001b[A\n",
      "                                                                                                                                                        \u001b[A"
     ]
    },
    {
     "name": "stdout",
     "output_type": "stream",
     "text": [
      "MoviePy - Done.\n",
      "MoviePy - Writing audio in temp_audio.wav\n"
     ]
    },
    {
     "name": "stderr",
     "output_type": "stream",
     "text": [
      "\n",
      "chunk:   0%|                                                                                                         | 0/1324 [00:00<?, ?it/s, now=None]\u001b[A\n",
      "chunk:  58%|█████████████████████████████████████████████████████▋                                       | 765/1324 [00:00<00:00, 7494.87it/s, now=None]\u001b[A\n",
      "                                                                                                                                                        \u001b[A"
     ]
    },
    {
     "name": "stdout",
     "output_type": "stream",
     "text": [
      "MoviePy - Done.\n",
      "MoviePy - Writing audio in temp_audio.wav\n"
     ]
    },
    {
     "name": "stderr",
     "output_type": "stream",
     "text": [
      "\n",
      "chunk:   0%|                                                                                                         | 0/1324 [00:00<?, ?it/s, now=None]\u001b[A\n",
      "chunk:  39%|███████████████████████████████████▊                                                         | 510/1324 [00:00<00:00, 4861.81it/s, now=None]\u001b[A\n",
      "chunk:  80%|█████████████████████████████████████████████████████████████████████████▏                  | 1053/1324 [00:00<00:00, 5187.42it/s, now=None]\u001b[A\n",
      "                                                                                                                                                        \u001b[A"
     ]
    },
    {
     "name": "stdout",
     "output_type": "stream",
     "text": [
      "MoviePy - Done.\n",
      "MoviePy - Writing audio in temp_audio.wav\n"
     ]
    },
    {
     "name": "stderr",
     "output_type": "stream",
     "text": [
      "\n",
      "chunk:   0%|                                                                                                         | 0/1324 [00:00<?, ?it/s, now=None]\u001b[A\n",
      "chunk:  51%|███████████████████████████████████████████████▌                                             | 678/1324 [00:00<00:00, 6773.43it/s, now=None]\u001b[A\n",
      "                                                                                                                                                        \u001b[A"
     ]
    },
    {
     "name": "stdout",
     "output_type": "stream",
     "text": [
      "MoviePy - Done.\n",
      "MoviePy - Writing audio in temp_audio.wav\n"
     ]
    },
    {
     "name": "stderr",
     "output_type": "stream",
     "text": [
      "\n",
      "chunk:   0%|                                                                                                         | 0/1324 [00:00<?, ?it/s, now=None]\u001b[A\n",
      "chunk:  54%|██████████████████████████████████████████████████▏                                          | 715/1324 [00:00<00:00, 7149.82it/s, now=None]\u001b[A\n",
      "                                                                                                                                                        \u001b[A"
     ]
    },
    {
     "name": "stdout",
     "output_type": "stream",
     "text": [
      "MoviePy - Done.\n",
      "MoviePy - Writing audio in temp_audio.wav\n"
     ]
    },
    {
     "name": "stderr",
     "output_type": "stream",
     "text": [
      "\n",
      "chunk:   0%|                                                                                                         | 0/1324 [00:00<?, ?it/s, now=None]\u001b[A\n",
      "chunk:  50%|██████████████████████████████████████████████▌                                              | 663/1324 [00:00<00:00, 6526.44it/s, now=None]\u001b[A\n",
      "                                                                                                                                                        \u001b[A"
     ]
    },
    {
     "name": "stdout",
     "output_type": "stream",
     "text": [
      "MoviePy - Done.\n",
      "MoviePy - Writing audio in temp_audio.wav\n"
     ]
    },
    {
     "name": "stderr",
     "output_type": "stream",
     "text": [
      "\n",
      "chunk:   0%|                                                                                                          | 0/991 [00:00<?, ?it/s, now=None]\u001b[A\n",
      "chunk:  67%|██████████████████████████████████████████████████████████████▉                               | 663/991 [00:00<00:00, 6531.89it/s, now=None]\u001b[A\n",
      "                                                                                                                                                        \u001b[A"
     ]
    },
    {
     "name": "stdout",
     "output_type": "stream",
     "text": [
      "MoviePy - Done.\n",
      "MoviePy - Writing audio in temp_audio.wav\n"
     ]
    },
    {
     "name": "stderr",
     "output_type": "stream",
     "text": [
      "\n",
      "chunk:   0%|                                                                                                         | 0/1324 [00:00<?, ?it/s, now=None]\u001b[A\n",
      "chunk:  54%|██████████████████████████████████████████████████▎                                          | 717/1324 [00:00<00:00, 7165.63it/s, now=None]\u001b[A\n",
      "                                                                                                                                                        \u001b[A"
     ]
    },
    {
     "name": "stdout",
     "output_type": "stream",
     "text": [
      "MoviePy - Done.\n",
      "MoviePy - Writing audio in temp_audio.wav\n"
     ]
    },
    {
     "name": "stderr",
     "output_type": "stream",
     "text": [
      "\n",
      "chunk:   0%|                                                                                                         | 0/1324 [00:00<?, ?it/s, now=None]\u001b[A\n",
      "chunk:  54%|██████████████████████████████████████████████████▏                                          | 714/1324 [00:00<00:00, 7054.63it/s, now=None]\u001b[A\n",
      "                                                                                                                                                        \u001b[A"
     ]
    },
    {
     "name": "stdout",
     "output_type": "stream",
     "text": [
      "MoviePy - Done.\n",
      "MoviePy - Writing audio in temp_audio.wav\n"
     ]
    },
    {
     "name": "stderr",
     "output_type": "stream",
     "text": [
      "\n",
      "chunk:   0%|                                                                                                         | 0/1324 [00:00<?, ?it/s, now=None]\u001b[A\n",
      "chunk:  54%|██████████████████████████████████████████████████▏                                          | 715/1324 [00:00<00:00, 7147.60it/s, now=None]\u001b[A\n",
      "                                                                                                                                                        \u001b[A"
     ]
    },
    {
     "name": "stdout",
     "output_type": "stream",
     "text": [
      "MoviePy - Done.\n",
      "MoviePy - Writing audio in temp_audio.wav\n"
     ]
    },
    {
     "name": "stderr",
     "output_type": "stream",
     "text": [
      "\n",
      "chunk:   0%|                                                                                                          | 0/715 [00:00<?, ?it/s, now=None]\u001b[A\n",
      "chunk: 100%|█████████████████████████████████████████████████████████████████████████████████████████████▊| 714/715 [00:00<00:00, 6627.48it/s, now=None]\u001b[A\n",
      "                                                                                                                                                        \u001b[A"
     ]
    },
    {
     "name": "stdout",
     "output_type": "stream",
     "text": [
      "MoviePy - Done.\n",
      "MoviePy - Writing audio in temp_audio.wav\n"
     ]
    },
    {
     "name": "stderr",
     "output_type": "stream",
     "text": [
      "\n",
      "chunk:   0%|                                                                                                         | 0/1324 [00:00<?, ?it/s, now=None]\u001b[A\n",
      "chunk:  54%|██████████████████████████████████████████████████▏                                          | 714/1324 [00:00<00:00, 6958.67it/s, now=None]\u001b[A\n",
      "                                                                                                                                                        \u001b[A"
     ]
    },
    {
     "name": "stdout",
     "output_type": "stream",
     "text": [
      "MoviePy - Done.\n",
      "MoviePy - Writing audio in temp_audio.wav\n"
     ]
    },
    {
     "name": "stderr",
     "output_type": "stream",
     "text": [
      "\n",
      "chunk:   0%|                                                                                                         | 0/1324 [00:00<?, ?it/s, now=None]\u001b[A\n",
      "chunk:  52%|████████████████████████████████████████████████                                             | 684/1324 [00:00<00:00, 6837.87it/s, now=None]\u001b[A\n",
      "                                                                                                                                                        \u001b[A"
     ]
    },
    {
     "name": "stdout",
     "output_type": "stream",
     "text": [
      "MoviePy - Done.\n",
      "MoviePy - Writing audio in temp_audio.wav\n"
     ]
    },
    {
     "name": "stderr",
     "output_type": "stream",
     "text": [
      "\n",
      "chunk:   0%|                                                                                                         | 0/1324 [00:00<?, ?it/s, now=None]\u001b[A\n",
      "chunk:  50%|██████████████████████████████████████████████▌                                              | 663/1324 [00:00<00:00, 6491.18it/s, now=None]\u001b[A\n",
      "                                                                                                                                                        \u001b[A"
     ]
    },
    {
     "name": "stdout",
     "output_type": "stream",
     "text": [
      "MoviePy - Done.\n",
      "MoviePy - Writing audio in temp_audio.wav\n"
     ]
    },
    {
     "name": "stderr",
     "output_type": "stream",
     "text": [
      "\n",
      "chunk:   0%|                                                                                                         | 0/1324 [00:00<?, ?it/s, now=None]\u001b[A\n",
      "chunk:  53%|█████████████████████████████████████████████████                                            | 698/1324 [00:00<00:00, 6976.55it/s, now=None]\u001b[A\n",
      "                                                                                                                                                        \u001b[A"
     ]
    },
    {
     "name": "stdout",
     "output_type": "stream",
     "text": [
      "MoviePy - Done.\n",
      "MoviePy - Writing audio in temp_audio.wav\n"
     ]
    },
    {
     "name": "stderr",
     "output_type": "stream",
     "text": [
      "\n",
      "chunk:   0%|                                                                                                         | 0/1324 [00:00<?, ?it/s, now=None]\u001b[A\n",
      "chunk:  58%|█████████████████████████████████████████████████████▋                                       | 765/1324 [00:00<00:00, 7616.14it/s, now=None]\u001b[A\n",
      "                                                                                                                                                        \u001b[A"
     ]
    },
    {
     "name": "stdout",
     "output_type": "stream",
     "text": [
      "MoviePy - Done.\n",
      "MoviePy - Writing audio in temp_audio.wav\n"
     ]
    },
    {
     "name": "stderr",
     "output_type": "stream",
     "text": [
      "\n",
      "chunk:   0%|                                                                                                         | 0/1324 [00:00<?, ?it/s, now=None]\u001b[A\n",
      "chunk:  57%|█████████████████████████████████████████████████████▏                                       | 757/1324 [00:00<00:00, 7565.41it/s, now=None]\u001b[A\n",
      "                                                                                                                                                        \u001b[A"
     ]
    },
    {
     "name": "stdout",
     "output_type": "stream",
     "text": [
      "MoviePy - Done.\n",
      "MoviePy - Writing audio in temp_audio.wav\n"
     ]
    },
    {
     "name": "stderr",
     "output_type": "stream",
     "text": [
      "\n",
      "chunk:   0%|                                                                                                         | 0/1324 [00:00<?, ?it/s, now=None]\u001b[A\n",
      "chunk:  51%|███████████████████████████████████████████████▏                                             | 672/1324 [00:00<00:00, 6718.07it/s, now=None]\u001b[A\n",
      "                                                                                                                                                        \u001b[A"
     ]
    },
    {
     "name": "stdout",
     "output_type": "stream",
     "text": [
      "MoviePy - Done.\n",
      "MoviePy - Writing audio in temp_audio.wav\n"
     ]
    },
    {
     "name": "stderr",
     "output_type": "stream",
     "text": [
      "\n",
      "chunk:   0%|                                                                                                         | 0/1324 [00:00<?, ?it/s, now=None]\u001b[A\n",
      "chunk:  50%|██████████████████████████████████████████████▌                                              | 663/1324 [00:00<00:00, 6462.54it/s, now=None]\u001b[A\n",
      "                                                                                                                                                        \u001b[A"
     ]
    },
    {
     "name": "stdout",
     "output_type": "stream",
     "text": [
      "MoviePy - Done.\n",
      "MoviePy - Writing audio in temp_audio.wav\n"
     ]
    },
    {
     "name": "stderr",
     "output_type": "stream",
     "text": [
      "\n",
      "chunk:   0%|                                                                                                         | 0/1324 [00:00<?, ?it/s, now=None]\u001b[A\n",
      "chunk:  54%|██████████████████████████████████████████████████▎                                          | 717/1324 [00:00<00:00, 7169.17it/s, now=None]\u001b[A\n",
      "                                                                                                                                                        \u001b[A"
     ]
    },
    {
     "name": "stdout",
     "output_type": "stream",
     "text": [
      "MoviePy - Done.\n",
      "MoviePy - Writing audio in temp_audio.wav\n"
     ]
    },
    {
     "name": "stderr",
     "output_type": "stream",
     "text": [
      "\n",
      "chunk:   0%|                                                                                                         | 0/1324 [00:00<?, ?it/s, now=None]\u001b[A\n",
      "chunk:  54%|██████████████████████████████████████████████████▏                                          | 714/1324 [00:00<00:00, 7110.96it/s, now=None]\u001b[A\n",
      "                                                                                                                                                        \u001b[A"
     ]
    },
    {
     "name": "stdout",
     "output_type": "stream",
     "text": [
      "MoviePy - Done.\n",
      "MoviePy - Writing audio in temp_audio.wav\n"
     ]
    },
    {
     "name": "stderr",
     "output_type": "stream",
     "text": [
      "\n",
      "chunk:   0%|                                                                                                         | 0/1324 [00:00<?, ?it/s, now=None]\u001b[A\n",
      "chunk:  35%|████████████████████████████████▏                                                            | 459/1324 [00:00<00:00, 4437.45it/s, now=None]\u001b[A\n",
      "chunk:  73%|████████████████████████████████████████████████████████████████████                         | 969/1324 [00:00<00:00, 4763.01it/s, now=None]\u001b[A\n",
      "                                                                                                                                                        \u001b[A"
     ]
    },
    {
     "name": "stdout",
     "output_type": "stream",
     "text": [
      "MoviePy - Done.\n",
      "MoviePy - Writing audio in temp_audio.wav\n"
     ]
    },
    {
     "name": "stderr",
     "output_type": "stream",
     "text": [
      "\n",
      "chunk:   0%|                                                                                                         | 0/1324 [00:00<?, ?it/s, now=None]\u001b[A\n",
      "chunk:  39%|███████████████████████████████████▊                                                         | 510/1324 [00:00<00:00, 4970.94it/s, now=None]\u001b[A\n",
      "chunk:  82%|███████████████████████████████████████████████████████████████████████████▊                | 1091/1324 [00:00<00:00, 5458.00it/s, now=None]\u001b[A\n",
      "                                                                                                                                                        \u001b[A"
     ]
    },
    {
     "name": "stdout",
     "output_type": "stream",
     "text": [
      "MoviePy - Done.\n",
      "MoviePy - Writing audio in temp_audio.wav\n"
     ]
    },
    {
     "name": "stderr",
     "output_type": "stream",
     "text": [
      "\n",
      "chunk:   0%|                                                                                                         | 0/1324 [00:00<?, ?it/s, now=None]\u001b[A\n",
      "chunk:  46%|██████████████████████████████████████████▉                                                  | 612/1324 [00:00<00:00, 6042.78it/s, now=None]\u001b[A\n",
      "chunk:  98%|█████████████████████████████████████████████████████████████████████████████████████████▋  | 1291/1324 [00:00<00:00, 6479.37it/s, now=None]\u001b[A\n",
      "                                                                                                                                                        \u001b[A"
     ]
    },
    {
     "name": "stdout",
     "output_type": "stream",
     "text": [
      "MoviePy - Done.\n",
      "MoviePy - Writing audio in temp_audio.wav\n"
     ]
    },
    {
     "name": "stderr",
     "output_type": "stream",
     "text": [
      "\n",
      "chunk:   0%|                                                                                                         | 0/1324 [00:00<?, ?it/s, now=None]\u001b[A\n",
      "chunk:  53%|█████████████████████████████████████████████████▌                                           | 705/1324 [00:00<00:00, 7045.72it/s, now=None]\u001b[A\n",
      "                                                                                                                                                        \u001b[A"
     ]
    },
    {
     "name": "stdout",
     "output_type": "stream",
     "text": [
      "MoviePy - Done.\n",
      "MoviePy - Writing audio in temp_audio.wav\n"
     ]
    },
    {
     "name": "stderr",
     "output_type": "stream",
     "text": [
      "\n",
      "chunk:   0%|                                                                                                         | 0/1324 [00:00<?, ?it/s, now=None]\u001b[A\n",
      "chunk:  59%|██████████████████████████████████████████████████████▉                                      | 783/1324 [00:00<00:00, 7828.38it/s, now=None]\u001b[A\n",
      "                                                                                                                                                        \u001b[A"
     ]
    },
    {
     "name": "stdout",
     "output_type": "stream",
     "text": [
      "MoviePy - Done.\n",
      "MoviePy - Writing audio in temp_audio.wav\n"
     ]
    },
    {
     "name": "stderr",
     "output_type": "stream",
     "text": [
      "\n",
      "chunk:   0%|                                                                                                         | 0/1324 [00:00<?, ?it/s, now=None]\u001b[A\n",
      "chunk:  58%|█████████████████████████████████████████████████████▋                                       | 765/1324 [00:00<00:00, 7529.25it/s, now=None]\u001b[A\n",
      "                                                                                                                                                        \u001b[A"
     ]
    },
    {
     "name": "stdout",
     "output_type": "stream",
     "text": [
      "MoviePy - Done.\n",
      "MoviePy - Writing audio in temp_audio.wav\n"
     ]
    },
    {
     "name": "stderr",
     "output_type": "stream",
     "text": [
      "\n",
      "chunk:   0%|                                                                                                         | 0/1324 [00:00<?, ?it/s, now=None]\u001b[A\n",
      "chunk:  37%|█████████████████████████████████▉                                                           | 484/1324 [00:00<00:00, 4837.31it/s, now=None]\u001b[A\n",
      "chunk:  73%|███████████████████████████████████████████████████████████████████▉                         | 968/1324 [00:00<00:00, 4536.82it/s, now=None]\u001b[A\n",
      "                                                                                                                                                        \u001b[A"
     ]
    },
    {
     "name": "stdout",
     "output_type": "stream",
     "text": [
      "MoviePy - Done.\n",
      "MoviePy - Writing audio in temp_audio.wav\n"
     ]
    },
    {
     "name": "stderr",
     "output_type": "stream",
     "text": [
      "\n",
      "chunk:   0%|                                                                                                         | 0/1324 [00:00<?, ?it/s, now=None]\u001b[A\n",
      "chunk:  54%|██████████████████████████████████████████████████▏                                          | 714/1324 [00:00<00:00, 7031.06it/s, now=None]\u001b[A\n",
      "                                                                                                                                                        \u001b[A"
     ]
    },
    {
     "name": "stdout",
     "output_type": "stream",
     "text": [
      "MoviePy - Done.\n",
      "MoviePy - Writing audio in temp_audio.wav\n"
     ]
    },
    {
     "name": "stderr",
     "output_type": "stream",
     "text": [
      "\n",
      "chunk:   0%|                                                                                                         | 0/1324 [00:00<?, ?it/s, now=None]\u001b[A\n",
      "chunk:  56%|████████████████████████████████████████████████████▍                                        | 747/1324 [00:00<00:00, 7463.87it/s, now=None]\u001b[A\n",
      "                                                                                                                                                        \u001b[A"
     ]
    },
    {
     "name": "stdout",
     "output_type": "stream",
     "text": [
      "MoviePy - Done.\n",
      "MoviePy - Writing audio in temp_audio.wav\n"
     ]
    },
    {
     "name": "stderr",
     "output_type": "stream",
     "text": [
      "\n",
      "chunk:   0%|                                                                                                         | 0/1324 [00:00<?, ?it/s, now=None]\u001b[A\n",
      "chunk:  50%|██████████████████████████████████████████████▌                                              | 663/1324 [00:00<00:00, 6429.80it/s, now=None]\u001b[A\n",
      "chunk:  99%|██████████████████████████████████████████████████████████████████████████████████████████▋ | 1306/1324 [00:00<00:00, 6122.95it/s, now=None]\u001b[A\n",
      "                                                                                                                                                        \u001b[A"
     ]
    },
    {
     "name": "stdout",
     "output_type": "stream",
     "text": [
      "MoviePy - Done.\n",
      "MoviePy - Writing audio in temp_audio.wav\n"
     ]
    },
    {
     "name": "stderr",
     "output_type": "stream",
     "text": [
      "\n",
      "chunk:   0%|                                                                                                         | 0/1324 [00:00<?, ?it/s, now=None]\u001b[A\n",
      "chunk:  44%|█████████████████████████████████████████▏                                                   | 586/1324 [00:00<00:00, 5857.06it/s, now=None]\u001b[A\n",
      "chunk:  89%|█████████████████████████████████████████████████████████████████████████████████▌          | 1173/1324 [00:00<00:00, 5793.42it/s, now=None]\u001b[A\n",
      "                                                                                                                                                        \u001b[A"
     ]
    },
    {
     "name": "stdout",
     "output_type": "stream",
     "text": [
      "MoviePy - Done.\n",
      "MoviePy - Writing audio in temp_audio.wav\n"
     ]
    },
    {
     "name": "stderr",
     "output_type": "stream",
     "text": [
      "\n",
      "chunk:   0%|                                                                                                         | 0/1324 [00:00<?, ?it/s, now=None]\u001b[A\n",
      "chunk:  53%|█████████████████████████████████████████████████▌                                           | 705/1324 [00:00<00:00, 7046.88it/s, now=None]\u001b[A\n",
      "                                                                                                                                                        \u001b[A"
     ]
    },
    {
     "name": "stdout",
     "output_type": "stream",
     "text": [
      "MoviePy - Done.\n",
      "MoviePy - Writing audio in temp_audio.wav\n"
     ]
    },
    {
     "name": "stderr",
     "output_type": "stream",
     "text": [
      "\n",
      "chunk:   0%|                                                                                                         | 0/1324 [00:00<?, ?it/s, now=None]\u001b[A\n",
      "chunk:  52%|████████████████████████████████████████████████▎                                            | 687/1324 [00:00<00:00, 6866.99it/s, now=None]\u001b[A\n",
      "                                                                                                                                                        \u001b[A"
     ]
    },
    {
     "name": "stdout",
     "output_type": "stream",
     "text": [
      "MoviePy - Done.\n",
      "MoviePy - Writing audio in temp_audio.wav\n"
     ]
    },
    {
     "name": "stderr",
     "output_type": "stream",
     "text": [
      "\n",
      "chunk:   0%|                                                                                                         | 0/1324 [00:00<?, ?it/s, now=None]\u001b[A\n",
      "chunk:  54%|██████████████████████████████████████████████████▏                                          | 714/1324 [00:00<00:00, 7048.17it/s, now=None]\u001b[A\n",
      "                                                                                                                                                        \u001b[A"
     ]
    },
    {
     "name": "stdout",
     "output_type": "stream",
     "text": [
      "MoviePy - Done.\n",
      "MoviePy - Writing audio in temp_audio.wav\n"
     ]
    },
    {
     "name": "stderr",
     "output_type": "stream",
     "text": [
      "\n",
      "chunk:   0%|                                                                                                         | 0/1324 [00:00<?, ?it/s, now=None]\u001b[A\n",
      "chunk:  49%|█████████████████████████████████████████████▋                                               | 650/1324 [00:00<00:00, 6499.62it/s, now=None]\u001b[A\n",
      "chunk:  98%|██████████████████████████████████████████████████████████████████████████████████████████▎ | 1300/1324 [00:00<00:00, 6377.37it/s, now=None]\u001b[A\n",
      "                                                                                                                                                        \u001b[A"
     ]
    },
    {
     "name": "stdout",
     "output_type": "stream",
     "text": [
      "MoviePy - Done.\n",
      "MoviePy - Writing audio in temp_audio.wav\n"
     ]
    },
    {
     "name": "stderr",
     "output_type": "stream",
     "text": [
      "\n",
      "chunk:   0%|                                                                                                         | 0/1324 [00:00<?, ?it/s, now=None]\u001b[A\n",
      "chunk:  52%|████████████████████████████████████████████████▎                                            | 688/1324 [00:00<00:00, 6875.91it/s, now=None]\u001b[A\n",
      "                                                                                                                                                        \u001b[A"
     ]
    },
    {
     "name": "stdout",
     "output_type": "stream",
     "text": [
      "MoviePy - Done.\n",
      "MoviePy - Writing audio in temp_audio.wav\n"
     ]
    },
    {
     "name": "stderr",
     "output_type": "stream",
     "text": [
      "\n",
      "chunk:   0%|                                                                                                         | 0/1324 [00:00<?, ?it/s, now=None]\u001b[A\n",
      "chunk:  48%|████████████████████████████████████████████▋                                                | 636/1324 [00:00<00:00, 6356.28it/s, now=None]\u001b[A\n",
      "                                                                                                                                                        \u001b[A"
     ]
    },
    {
     "name": "stdout",
     "output_type": "stream",
     "text": [
      "MoviePy - Done.\n",
      "MoviePy - Writing audio in temp_audio.wav\n"
     ]
    },
    {
     "name": "stderr",
     "output_type": "stream",
     "text": [
      "\n",
      "chunk:   0%|                                                                                                         | 0/1324 [00:00<?, ?it/s, now=None]\u001b[A\n",
      "chunk:  54%|██████████████████████████████████████████████████▏                                          | 714/1324 [00:00<00:00, 7071.87it/s, now=None]\u001b[A\n",
      "                                                                                                                                                        \u001b[A"
     ]
    },
    {
     "name": "stdout",
     "output_type": "stream",
     "text": [
      "MoviePy - Done.\n",
      "MoviePy - Writing audio in temp_audio.wav\n"
     ]
    },
    {
     "name": "stderr",
     "output_type": "stream",
     "text": [
      "\n",
      "chunk:   0%|                                                                                                         | 0/1324 [00:00<?, ?it/s, now=None]\u001b[A\n",
      "chunk:  55%|██████████████████████████████████████████████████▊                                          | 723/1324 [00:00<00:00, 7226.44it/s, now=None]\u001b[A\n",
      "                                                                                                                                                        \u001b[A"
     ]
    },
    {
     "name": "stdout",
     "output_type": "stream",
     "text": [
      "MoviePy - Done.\n",
      "MoviePy - Writing audio in temp_audio.wav\n"
     ]
    },
    {
     "name": "stderr",
     "output_type": "stream",
     "text": [
      "\n",
      "chunk:   0%|                                                                                                         | 0/1324 [00:00<?, ?it/s, now=None]\u001b[A\n",
      "chunk:  54%|██████████████████████████████████████████████████▏                                          | 714/1324 [00:00<00:00, 7061.83it/s, now=None]\u001b[A\n",
      "                                                                                                                                                        \u001b[A"
     ]
    },
    {
     "name": "stdout",
     "output_type": "stream",
     "text": [
      "MoviePy - Done.\n",
      "MoviePy - Writing audio in temp_audio.wav\n"
     ]
    },
    {
     "name": "stderr",
     "output_type": "stream",
     "text": [
      "\n",
      "chunk:   0%|                                                                                                         | 0/1324 [00:00<?, ?it/s, now=None]\u001b[A\n",
      "chunk:  48%|████████████████████████████████████████████▏                                                | 629/1324 [00:00<00:00, 6287.10it/s, now=None]\u001b[A\n",
      "chunk:  96%|████████████████████████████████████████████████████████████████████████████████████████▌   | 1275/1324 [00:00<00:00, 6328.73it/s, now=None]\u001b[A\n",
      "                                                                                                                                                        \u001b[A"
     ]
    },
    {
     "name": "stdout",
     "output_type": "stream",
     "text": [
      "MoviePy - Done.\n",
      "MoviePy - Writing audio in temp_audio.wav\n"
     ]
    },
    {
     "name": "stderr",
     "output_type": "stream",
     "text": [
      "\n",
      "chunk:   0%|                                                                                                          | 0/562 [00:00<?, ?it/s, now=None]\u001b[A\n",
      "                                                                                                                                                        \u001b[A"
     ]
    },
    {
     "name": "stdout",
     "output_type": "stream",
     "text": [
      "MoviePy - Done.\n",
      "MoviePy - Writing audio in temp_audio.wav\n"
     ]
    },
    {
     "name": "stderr",
     "output_type": "stream",
     "text": [
      "\n",
      "chunk:   0%|                                                                                                         | 0/1324 [00:00<?, ?it/s, now=None]\u001b[A\n",
      "chunk:  46%|██████████████████████████████████████████▉                                                  | 612/1324 [00:00<00:00, 6113.39it/s, now=None]\u001b[A\n",
      "chunk:  92%|█████████████████████████████████████████████████████████████████████████████████████       | 1224/1324 [00:00<00:00, 5988.13it/s, now=None]\u001b[A\n",
      "                                                                                                                                                        \u001b[A"
     ]
    },
    {
     "name": "stdout",
     "output_type": "stream",
     "text": [
      "MoviePy - Done.\n",
      "MoviePy - Writing audio in temp_audio.wav\n"
     ]
    },
    {
     "name": "stderr",
     "output_type": "stream",
     "text": [
      "\n",
      "chunk:   0%|                                                                                                         | 0/1324 [00:00<?, ?it/s, now=None]\u001b[A\n",
      "chunk:  55%|███████████████████████████████████████████████████▎                                         | 730/1324 [00:00<00:00, 7297.21it/s, now=None]\u001b[A\n",
      "                                                                                                                                                        \u001b[A"
     ]
    },
    {
     "name": "stdout",
     "output_type": "stream",
     "text": [
      "MoviePy - Done.\n",
      "MoviePy - Writing audio in temp_audio.wav\n"
     ]
    },
    {
     "name": "stderr",
     "output_type": "stream",
     "text": [
      "\n",
      "chunk:   0%|                                                                                                         | 0/1324 [00:00<?, ?it/s, now=None]\u001b[A\n",
      "chunk:  54%|██████████████████████████████████████████████████▏                                          | 714/1324 [00:00<00:00, 7118.32it/s, now=None]\u001b[A\n",
      "                                                                                                                                                        \u001b[A"
     ]
    },
    {
     "name": "stdout",
     "output_type": "stream",
     "text": [
      "MoviePy - Done.\n",
      "MoviePy - Writing audio in temp_audio.wav\n"
     ]
    },
    {
     "name": "stderr",
     "output_type": "stream",
     "text": [
      "\n",
      "chunk:   0%|                                                                                                         | 0/1324 [00:00<?, ?it/s, now=None]\u001b[A\n",
      "chunk:  50%|██████████████████████████████████████████████                                               | 656/1324 [00:00<00:00, 6551.09it/s, now=None]\u001b[A\n",
      "chunk:  99%|███████████████████████████████████████████████████████████████████████████████████████████▏| 1312/1324 [00:00<00:00, 6253.03it/s, now=None]\u001b[A\n",
      "                                                                                                                                                        \u001b[A"
     ]
    },
    {
     "name": "stdout",
     "output_type": "stream",
     "text": [
      "MoviePy - Done.\n",
      "MoviePy - Writing audio in temp_audio.wav\n"
     ]
    },
    {
     "name": "stderr",
     "output_type": "stream",
     "text": [
      "\n",
      "chunk:   0%|                                                                                                         | 0/1324 [00:00<?, ?it/s, now=None]\u001b[A\n",
      "chunk:  57%|████████████████████████████████████████████████████▌                                        | 749/1324 [00:00<00:00, 7485.85it/s, now=None]\u001b[A\n",
      "                                                                                                                                                        \u001b[A"
     ]
    },
    {
     "name": "stdout",
     "output_type": "stream",
     "text": [
      "MoviePy - Done.\n",
      "MoviePy - Writing audio in temp_audio.wav\n"
     ]
    },
    {
     "name": "stderr",
     "output_type": "stream",
     "text": [
      "\n",
      "chunk:   0%|                                                                                                         | 0/1324 [00:00<?, ?it/s, now=None]\u001b[A\n",
      "chunk:  54%|██████████████████████████████████████████████████▏                                          | 714/1324 [00:00<00:00, 7024.96it/s, now=None]\u001b[A\n",
      "                                                                                                                                                        \u001b[A"
     ]
    },
    {
     "name": "stdout",
     "output_type": "stream",
     "text": [
      "MoviePy - Done.\n",
      "MoviePy - Writing audio in temp_audio.wav\n"
     ]
    },
    {
     "name": "stderr",
     "output_type": "stream",
     "text": [
      "\n",
      "chunk:   0%|                                                                                                         | 0/1324 [00:00<?, ?it/s, now=None]\u001b[A\n",
      "chunk:  50%|██████████████████████████████████████████████▌                                              | 663/1324 [00:00<00:00, 6599.48it/s, now=None]\u001b[A\n",
      "                                                                                                                                                        \u001b[A"
     ]
    },
    {
     "name": "stdout",
     "output_type": "stream",
     "text": [
      "MoviePy - Done.\n",
      "MoviePy - Writing audio in temp_audio.wav\n"
     ]
    },
    {
     "name": "stderr",
     "output_type": "stream",
     "text": [
      "\n",
      "chunk:   0%|                                                                                                         | 0/1324 [00:00<?, ?it/s, now=None]\u001b[A\n",
      "chunk:  50%|██████████████████████████████████████████████▋                                              | 665/1324 [00:00<00:00, 6648.67it/s, now=None]\u001b[A\n",
      "                                                                                                                                                        \u001b[A"
     ]
    },
    {
     "name": "stdout",
     "output_type": "stream",
     "text": [
      "MoviePy - Done.\n",
      "MoviePy - Writing audio in temp_audio.wav\n"
     ]
    },
    {
     "name": "stderr",
     "output_type": "stream",
     "text": [
      "\n",
      "chunk:   0%|                                                                                                         | 0/1324 [00:00<?, ?it/s, now=None]\u001b[A\n",
      "chunk:  54%|██████████████████████████████████████████████████▏                                          | 714/1324 [00:00<00:00, 7133.17it/s, now=None]\u001b[A\n",
      "                                                                                                                                                        \u001b[A"
     ]
    },
    {
     "name": "stdout",
     "output_type": "stream",
     "text": [
      "MoviePy - Done.\n",
      "MoviePy - Writing audio in temp_audio.wav\n"
     ]
    },
    {
     "name": "stderr",
     "output_type": "stream",
     "text": [
      "\n",
      "chunk:   0%|                                                                                                         | 0/1324 [00:00<?, ?it/s, now=None]\u001b[A\n",
      "chunk:  50%|██████████████████████████████████████████████▌                                              | 663/1324 [00:00<00:00, 6511.29it/s, now=None]\u001b[A\n",
      "                                                                                                                                                        \u001b[A"
     ]
    },
    {
     "name": "stdout",
     "output_type": "stream",
     "text": [
      "MoviePy - Done.\n",
      "MoviePy - Writing audio in temp_audio.wav\n"
     ]
    },
    {
     "name": "stderr",
     "output_type": "stream",
     "text": [
      "\n",
      "chunk:   0%|                                                                                                         | 0/1324 [00:00<?, ?it/s, now=None]\u001b[A\n",
      "chunk:  54%|██████████████████████████████████████████████████▏                                          | 714/1324 [00:00<00:00, 7099.62it/s, now=None]\u001b[A\n",
      "                                                                                                                                                        \u001b[A"
     ]
    },
    {
     "name": "stdout",
     "output_type": "stream",
     "text": [
      "MoviePy - Done.\n",
      "MoviePy - Writing audio in temp_audio.wav\n"
     ]
    },
    {
     "name": "stderr",
     "output_type": "stream",
     "text": [
      "\n",
      "chunk:   0%|                                                                                                         | 0/1324 [00:00<?, ?it/s, now=None]\u001b[A\n",
      "chunk:  51%|██████████████████████████████████████████████▉                                              | 669/1324 [00:00<00:00, 6686.59it/s, now=None]\u001b[A\n",
      "                                                                                                                                                        \u001b[A"
     ]
    },
    {
     "name": "stdout",
     "output_type": "stream",
     "text": [
      "MoviePy - Done.\n",
      "MoviePy - Writing audio in temp_audio.wav\n"
     ]
    },
    {
     "name": "stderr",
     "output_type": "stream",
     "text": [
      "\n",
      "chunk:   0%|                                                                                                         | 0/1324 [00:00<?, ?it/s, now=None]\u001b[A\n",
      "chunk:  58%|█████████████████████████████████████████████████████▋                                       | 765/1324 [00:00<00:00, 7589.73it/s, now=None]\u001b[A\n",
      "                                                                                                                                                        \u001b[A"
     ]
    },
    {
     "name": "stdout",
     "output_type": "stream",
     "text": [
      "MoviePy - Done.\n",
      "MoviePy - Writing audio in temp_audio.wav\n"
     ]
    },
    {
     "name": "stderr",
     "output_type": "stream",
     "text": [
      "\n",
      "chunk:   0%|                                                                                                         | 0/1324 [00:00<?, ?it/s, now=None]\u001b[A\n",
      "chunk:  49%|█████████████████████████████████████████████▌                                               | 649/1324 [00:00<00:00, 6487.98it/s, now=None]\u001b[A\n",
      "chunk:  99%|██████████████████████████████████████████████████████████████████████████████████████████▉ | 1308/1324 [00:00<00:00, 6547.38it/s, now=None]\u001b[A\n",
      "                                                                                                                                                        \u001b[A"
     ]
    },
    {
     "name": "stdout",
     "output_type": "stream",
     "text": [
      "MoviePy - Done.\n",
      "MoviePy - Writing audio in temp_audio.wav\n"
     ]
    },
    {
     "name": "stderr",
     "output_type": "stream",
     "text": [
      "\n",
      "chunk:   0%|                                                                                                         | 0/1324 [00:00<?, ?it/s, now=None]\u001b[A\n",
      "chunk:  55%|██████████████████████████████████████████████████▋                                          | 722/1324 [00:00<00:00, 7215.79it/s, now=None]\u001b[A\n",
      "                                                                                                                                                        \u001b[A"
     ]
    },
    {
     "name": "stdout",
     "output_type": "stream",
     "text": [
      "MoviePy - Done.\n",
      "MoviePy - Writing audio in temp_audio.wav\n"
     ]
    },
    {
     "name": "stderr",
     "output_type": "stream",
     "text": [
      "\n",
      "chunk:   0%|                                                                                                         | 0/1324 [00:00<?, ?it/s, now=None]\u001b[A\n",
      "chunk:  53%|█████████████████████████████████████████████████                                            | 699/1324 [00:00<00:00, 6984.30it/s, now=None]\u001b[A\n",
      "                                                                                                                                                        \u001b[A"
     ]
    },
    {
     "name": "stdout",
     "output_type": "stream",
     "text": [
      "MoviePy - Done.\n",
      "MoviePy - Writing audio in temp_audio.wav\n"
     ]
    },
    {
     "name": "stderr",
     "output_type": "stream",
     "text": [
      "\n",
      "chunk:   0%|                                                                                                         | 0/1324 [00:00<?, ?it/s, now=None]\u001b[A\n",
      "chunk:  54%|██████████████████████████████████████████████████▏                                          | 714/1324 [00:00<00:00, 7052.80it/s, now=None]\u001b[A\n",
      "                                                                                                                                                        \u001b[A"
     ]
    },
    {
     "name": "stdout",
     "output_type": "stream",
     "text": [
      "MoviePy - Done.\n",
      "MoviePy - Writing audio in temp_audio.wav\n"
     ]
    },
    {
     "name": "stderr",
     "output_type": "stream",
     "text": [
      "\n",
      "chunk:   0%|                                                                                                         | 0/1324 [00:00<?, ?it/s, now=None]\u001b[A\n",
      "chunk:  55%|███████████████████████████████████████████████████▏                                         | 728/1324 [00:00<00:00, 7275.39it/s, now=None]\u001b[A\n",
      "                                                                                                                                                        \u001b[A"
     ]
    },
    {
     "name": "stdout",
     "output_type": "stream",
     "text": [
      "MoviePy - Done.\n",
      "MoviePy - Writing audio in temp_audio.wav\n"
     ]
    },
    {
     "name": "stderr",
     "output_type": "stream",
     "text": [
      "\n",
      "chunk:   0%|                                                                                                         | 0/1324 [00:00<?, ?it/s, now=None]\u001b[A\n",
      "chunk:  52%|████████████████████████████████████████████████                                             | 684/1324 [00:00<00:00, 6836.88it/s, now=None]\u001b[A\n",
      "                                                                                                                                                        \u001b[A"
     ]
    },
    {
     "name": "stdout",
     "output_type": "stream",
     "text": [
      "MoviePy - Done.\n",
      "MoviePy - Writing audio in temp_audio.wav\n"
     ]
    },
    {
     "name": "stderr",
     "output_type": "stream",
     "text": [
      "\n",
      "chunk:   0%|                                                                                                         | 0/1324 [00:00<?, ?it/s, now=None]\u001b[A\n",
      "chunk:  55%|███████████████████████████████████████████████████▎                                         | 731/1324 [00:00<00:00, 7308.26it/s, now=None]\u001b[A\n",
      "                                                                                                                                                        \u001b[A"
     ]
    },
    {
     "name": "stdout",
     "output_type": "stream",
     "text": [
      "MoviePy - Done.\n",
      "MoviePy - Writing audio in temp_audio.wav\n"
     ]
    },
    {
     "name": "stderr",
     "output_type": "stream",
     "text": [
      "\n",
      "chunk:   0%|                                                                                                         | 0/1324 [00:00<?, ?it/s, now=None]\u001b[A\n",
      "chunk:  54%|██████████████████████████████████████████████████▋                                          | 721/1324 [00:00<00:00, 7208.17it/s, now=None]\u001b[A\n",
      "                                                                                                                                                        \u001b[A"
     ]
    },
    {
     "name": "stdout",
     "output_type": "stream",
     "text": [
      "MoviePy - Done.\n",
      "MoviePy - Writing audio in temp_audio.wav\n"
     ]
    },
    {
     "name": "stderr",
     "output_type": "stream",
     "text": [
      "\n",
      "chunk:   0%|                                                                                                         | 0/1324 [00:00<?, ?it/s, now=None]\u001b[A\n",
      "chunk:  52%|████████████████████████████████████████████████                                             | 684/1324 [00:00<00:00, 6838.80it/s, now=None]\u001b[A\n",
      "                                                                                                                                                        \u001b[A"
     ]
    },
    {
     "name": "stdout",
     "output_type": "stream",
     "text": [
      "MoviePy - Done.\n",
      "MoviePy - Writing audio in temp_audio.wav\n"
     ]
    },
    {
     "name": "stderr",
     "output_type": "stream",
     "text": [
      "\n",
      "chunk:   0%|                                                                                                         | 0/1324 [00:00<?, ?it/s, now=None]\u001b[A\n",
      "chunk:  50%|██████████████████████████████████████████████▌                                              | 663/1324 [00:00<00:00, 6530.58it/s, now=None]\u001b[A\n",
      "                                                                                                                                                        \u001b[A"
     ]
    },
    {
     "name": "stdout",
     "output_type": "stream",
     "text": [
      "MoviePy - Done.\n",
      "MoviePy - Writing audio in temp_audio.wav\n"
     ]
    },
    {
     "name": "stderr",
     "output_type": "stream",
     "text": [
      "\n",
      "chunk:   0%|                                                                                                         | 0/1324 [00:00<?, ?it/s, now=None]\u001b[A\n",
      "chunk:  58%|█████████████████████████████████████████████████████▌                                       | 763/1324 [00:00<00:00, 7626.79it/s, now=None]\u001b[A\n",
      "                                                                                                                                                        \u001b[A"
     ]
    },
    {
     "name": "stdout",
     "output_type": "stream",
     "text": [
      "MoviePy - Done.\n",
      "MoviePy - Writing audio in temp_audio.wav\n"
     ]
    },
    {
     "name": "stderr",
     "output_type": "stream",
     "text": [
      "\n",
      "chunk:   0%|                                                                                                         | 0/1324 [00:00<?, ?it/s, now=None]\u001b[A\n",
      "chunk:  54%|██████████████████████████████████████████████████▏                                          | 714/1324 [00:00<00:00, 7068.57it/s, now=None]\u001b[A\n",
      "                                                                                                                                                        \u001b[A"
     ]
    },
    {
     "name": "stdout",
     "output_type": "stream",
     "text": [
      "MoviePy - Done.\n",
      "MoviePy - Writing audio in temp_audio.wav\n"
     ]
    },
    {
     "name": "stderr",
     "output_type": "stream",
     "text": [
      "\n",
      "chunk:   0%|                                                                                                         | 0/1324 [00:00<?, ?it/s, now=None]\u001b[A\n",
      "chunk:  46%|██████████████████████████████████████████▉                                                  | 611/1324 [00:00<00:00, 6107.21it/s, now=None]\u001b[A\n",
      "chunk:  92%|████████████████████████████████████████████████████████████████████████████████████▉       | 1222/1324 [00:00<00:00, 6049.25it/s, now=None]\u001b[A\n",
      "                                                                                                                                                        \u001b[A"
     ]
    },
    {
     "name": "stdout",
     "output_type": "stream",
     "text": [
      "MoviePy - Done.\n",
      "MoviePy - Writing audio in temp_audio.wav\n"
     ]
    },
    {
     "name": "stderr",
     "output_type": "stream",
     "text": [
      "\n",
      "chunk:   0%|                                                                                                         | 0/1324 [00:00<?, ?it/s, now=None]\u001b[A\n",
      "chunk:  54%|██████████████████████████████████████████████████▏                                          | 714/1324 [00:00<00:00, 7017.29it/s, now=None]\u001b[A\n",
      "                                                                                                                                                        \u001b[A"
     ]
    },
    {
     "name": "stdout",
     "output_type": "stream",
     "text": [
      "MoviePy - Done.\n",
      "MoviePy - Writing audio in temp_audio.wav\n"
     ]
    },
    {
     "name": "stderr",
     "output_type": "stream",
     "text": [
      "\n",
      "chunk:   0%|                                                                                                         | 0/1324 [00:00<?, ?it/s, now=None]\u001b[A\n",
      "chunk:  50%|██████████████████████████████████████████████▎                                              | 659/1324 [00:00<00:00, 6584.67it/s, now=None]\u001b[A\n",
      "chunk: 100%|███████████████████████████████████████████████████████████████████████████████████████████▌| 1318/1324 [00:00<00:00, 6323.70it/s, now=None]\u001b[A\n",
      "                                                                                                                                                        \u001b[A"
     ]
    },
    {
     "name": "stdout",
     "output_type": "stream",
     "text": [
      "MoviePy - Done.\n",
      "MoviePy - Writing audio in temp_audio.wav\n"
     ]
    },
    {
     "name": "stderr",
     "output_type": "stream",
     "text": [
      "\n",
      "chunk:   0%|                                                                                                         | 0/1324 [00:00<?, ?it/s, now=None]\u001b[A\n",
      "chunk:  54%|██████████████████████████████████████████████████▏                                          | 714/1324 [00:00<00:00, 7029.56it/s, now=None]\u001b[A\n",
      "                                                                                                                                                        \u001b[A"
     ]
    },
    {
     "name": "stdout",
     "output_type": "stream",
     "text": [
      "MoviePy - Done.\n",
      "MoviePy - Writing audio in temp_audio.wav\n"
     ]
    },
    {
     "name": "stderr",
     "output_type": "stream",
     "text": [
      "\n",
      "chunk:   0%|                                                                                                         | 0/1324 [00:00<?, ?it/s, now=None]\u001b[A\n",
      "chunk:  53%|█████████████████████████████████████████████████▌                                           | 706/1324 [00:00<00:00, 7056.49it/s, now=None]\u001b[A\n",
      "                                                                                                                                                        \u001b[A"
     ]
    },
    {
     "name": "stdout",
     "output_type": "stream",
     "text": [
      "MoviePy - Done.\n",
      "MoviePy - Writing audio in temp_audio.wav\n"
     ]
    },
    {
     "name": "stderr",
     "output_type": "stream",
     "text": [
      "\n",
      "chunk:   0%|                                                                                                         | 0/1324 [00:00<?, ?it/s, now=None]\u001b[A\n",
      "chunk:  54%|██████████████████████████████████████████████████▎                                          | 717/1324 [00:00<00:00, 7166.91it/s, now=None]\u001b[A\n",
      "                                                                                                                                                        \u001b[A"
     ]
    },
    {
     "name": "stdout",
     "output_type": "stream",
     "text": [
      "MoviePy - Done.\n",
      "MoviePy - Writing audio in temp_audio.wav\n"
     ]
    },
    {
     "name": "stderr",
     "output_type": "stream",
     "text": [
      "\n",
      "chunk:   0%|                                                                                                         | 0/1324 [00:00<?, ?it/s, now=None]\u001b[A\n",
      "chunk:  55%|███████████████████████████████████████████████████▎                                         | 730/1324 [00:00<00:00, 7295.92it/s, now=None]\u001b[A\n",
      "                                                                                                                                                        \u001b[A"
     ]
    },
    {
     "name": "stdout",
     "output_type": "stream",
     "text": [
      "MoviePy - Done.\n",
      "MoviePy - Writing audio in temp_audio.wav\n"
     ]
    },
    {
     "name": "stderr",
     "output_type": "stream",
     "text": [
      "\n",
      "chunk:   0%|                                                                                                         | 0/1324 [00:00<?, ?it/s, now=None]\u001b[A\n",
      "chunk:  54%|██████████████████████████████████████████████████▍                                          | 718/1324 [00:00<00:00, 7178.02it/s, now=None]\u001b[A\n",
      "                                                                                                                                                        \u001b[A"
     ]
    },
    {
     "name": "stdout",
     "output_type": "stream",
     "text": [
      "MoviePy - Done.\n",
      "MoviePy - Writing audio in temp_audio.wav\n"
     ]
    },
    {
     "name": "stderr",
     "output_type": "stream",
     "text": [
      "\n",
      "chunk:   0%|                                                                                                         | 0/1324 [00:00<?, ?it/s, now=None]\u001b[A\n",
      "chunk:  46%|██████████████████████████████████████████▉                                                  | 612/1324 [00:00<00:00, 5880.35it/s, now=None]\u001b[A\n",
      "chunk:  91%|███████████████████████████████████████████████████████████████████████████████████▍        | 1201/1324 [00:00<00:00, 5670.74it/s, now=None]\u001b[A\n",
      "                                                                                                                                                        \u001b[A"
     ]
    },
    {
     "name": "stdout",
     "output_type": "stream",
     "text": [
      "MoviePy - Done.\n",
      "MoviePy - Writing audio in temp_audio.wav\n"
     ]
    },
    {
     "name": "stderr",
     "output_type": "stream",
     "text": [
      "\n",
      "chunk:   0%|                                                                                                         | 0/1324 [00:00<?, ?it/s, now=None]\u001b[A\n",
      "chunk:  58%|█████████████████████████████████████████████████████▋                                       | 765/1324 [00:00<00:00, 7644.67it/s, now=None]\u001b[A\n",
      "                                                                                                                                                        \u001b[A"
     ]
    },
    {
     "name": "stdout",
     "output_type": "stream",
     "text": [
      "MoviePy - Done.\n",
      "MoviePy - Writing audio in temp_audio.wav\n"
     ]
    },
    {
     "name": "stderr",
     "output_type": "stream",
     "text": [
      "\n",
      "chunk:   0%|                                                                                                         | 0/1324 [00:00<?, ?it/s, now=None]\u001b[A\n",
      "chunk:  58%|█████████████████████████████████████████████████████▊                                       | 766/1324 [00:00<00:00, 7658.98it/s, now=None]\u001b[A\n",
      "                                                                                                                                                        \u001b[A"
     ]
    },
    {
     "name": "stdout",
     "output_type": "stream",
     "text": [
      "MoviePy - Done.\n",
      "MoviePy - Writing audio in temp_audio.wav\n"
     ]
    },
    {
     "name": "stderr",
     "output_type": "stream",
     "text": [
      "\n",
      "chunk:   0%|                                                                                                         | 0/1324 [00:00<?, ?it/s, now=None]\u001b[A\n",
      "chunk:  52%|████████████████████████████████████████████████▏                                            | 686/1324 [00:00<00:00, 6857.21it/s, now=None]\u001b[A\n",
      "                                                                                                                                                        \u001b[A"
     ]
    },
    {
     "name": "stdout",
     "output_type": "stream",
     "text": [
      "MoviePy - Done.\n",
      "MoviePy - Writing audio in temp_audio.wav\n"
     ]
    },
    {
     "name": "stderr",
     "output_type": "stream",
     "text": [
      "\n",
      "chunk:   0%|                                                                                                         | 0/1324 [00:00<?, ?it/s, now=None]\u001b[A\n",
      "chunk:  58%|█████████████████████████████████████████████████████▋                                       | 765/1324 [00:00<00:00, 7582.38it/s, now=None]\u001b[A\n",
      "                                                                                                                                                        \u001b[A"
     ]
    },
    {
     "name": "stdout",
     "output_type": "stream",
     "text": [
      "MoviePy - Done.\n",
      "MoviePy - Writing audio in temp_audio.wav\n"
     ]
    },
    {
     "name": "stderr",
     "output_type": "stream",
     "text": [
      "\n",
      "chunk:   0%|                                                                                                         | 0/1324 [00:00<?, ?it/s, now=None]\u001b[A\n",
      "chunk:  58%|█████████████████████████████████████████████████████▋                                       | 765/1324 [00:00<00:00, 7435.31it/s, now=None]\u001b[A\n",
      "                                                                                                                                                        \u001b[A"
     ]
    },
    {
     "name": "stdout",
     "output_type": "stream",
     "text": [
      "MoviePy - Done.\n",
      "MoviePy - Writing audio in temp_audio.wav\n"
     ]
    },
    {
     "name": "stderr",
     "output_type": "stream",
     "text": [
      "\n",
      "chunk:   0%|                                                                                                         | 0/1324 [00:00<?, ?it/s, now=None]\u001b[A\n",
      "chunk:  50%|██████████████████████████████████████████████▌                                              | 663/1324 [00:00<00:00, 6528.37it/s, now=None]\u001b[A\n",
      "                                                                                                                                                        \u001b[A"
     ]
    },
    {
     "name": "stdout",
     "output_type": "stream",
     "text": [
      "MoviePy - Done.\n",
      "MoviePy - Writing audio in temp_audio.wav\n"
     ]
    },
    {
     "name": "stderr",
     "output_type": "stream",
     "text": [
      "\n",
      "chunk:   0%|                                                                                                         | 0/1324 [00:00<?, ?it/s, now=None]\u001b[A\n",
      "chunk:  46%|██████████████████████████████████████████▉                                                  | 612/1324 [00:00<00:00, 6119.47it/s, now=None]\u001b[A\n",
      "                                                                                                                                                        \u001b[A"
     ]
    },
    {
     "name": "stdout",
     "output_type": "stream",
     "text": [
      "MoviePy - Done.\n",
      "MoviePy - Writing audio in temp_audio.wav\n"
     ]
    },
    {
     "name": "stderr",
     "output_type": "stream",
     "text": [
      "\n",
      "chunk:   0%|                                                                                                         | 0/1324 [00:00<?, ?it/s, now=None]\u001b[A\n",
      "chunk:  48%|████████████████████████████████████████████▎                                                | 631/1324 [00:00<00:00, 6308.11it/s, now=None]\u001b[A\n",
      "chunk:  96%|████████████████████████████████████████████████████████████████████████████████████████▌   | 1274/1324 [00:00<00:00, 6376.74it/s, now=None]\u001b[A\n",
      "                                                                                                                                                        \u001b[A"
     ]
    },
    {
     "name": "stdout",
     "output_type": "stream",
     "text": [
      "MoviePy - Done.\n",
      "MoviePy - Writing audio in temp_audio.wav\n"
     ]
    },
    {
     "name": "stderr",
     "output_type": "stream",
     "text": [
      "\n",
      "chunk:   0%|                                                                                                         | 0/1324 [00:00<?, ?it/s, now=None]\u001b[A\n",
      "chunk:  46%|██████████████████████████████████████████▋                                                  | 607/1324 [00:00<00:00, 6069.83it/s, now=None]\u001b[A\n",
      "chunk:  94%|██████████████████████████████████████████████████████████████████████████████████████      | 1238/1324 [00:00<00:00, 6209.28it/s, now=None]\u001b[A\n",
      "                                                                                                                                                        \u001b[A"
     ]
    },
    {
     "name": "stdout",
     "output_type": "stream",
     "text": [
      "MoviePy - Done.\n",
      "MoviePy - Writing audio in temp_audio.wav\n"
     ]
    },
    {
     "name": "stderr",
     "output_type": "stream",
     "text": [
      "\n",
      "chunk:   0%|                                                                                                         | 0/1324 [00:00<?, ?it/s, now=None]\u001b[A\n",
      "chunk:  51%|███████████████████████████████████████████████▋                                             | 679/1324 [00:00<00:00, 6788.26it/s, now=None]\u001b[A\n",
      "                                                                                                                                                        \u001b[A"
     ]
    },
    {
     "name": "stdout",
     "output_type": "stream",
     "text": [
      "MoviePy - Done.\n",
      "MoviePy - Writing audio in temp_audio.wav\n"
     ]
    },
    {
     "name": "stderr",
     "output_type": "stream",
     "text": [
      "\n",
      "chunk:   0%|                                                                                                         | 0/1324 [00:00<?, ?it/s, now=None]\u001b[A\n",
      "chunk:  54%|██████████████████████████████████████████████████▏                                          | 714/1324 [00:00<00:00, 7056.79it/s, now=None]\u001b[A\n",
      "                                                                                                                                                        \u001b[A"
     ]
    },
    {
     "name": "stdout",
     "output_type": "stream",
     "text": [
      "MoviePy - Done.\n",
      "MoviePy - Writing audio in temp_audio.wav\n"
     ]
    },
    {
     "name": "stderr",
     "output_type": "stream",
     "text": [
      "\n",
      "chunk:   0%|                                                                                                         | 0/1324 [00:00<?, ?it/s, now=None]\u001b[A\n",
      "chunk:  54%|██████████████████████████████████████████████████▏                                          | 714/1324 [00:00<00:00, 6970.70it/s, now=None]\u001b[A\n",
      "                                                                                                                                                        \u001b[A"
     ]
    },
    {
     "name": "stdout",
     "output_type": "stream",
     "text": [
      "MoviePy - Done.\n",
      "MoviePy - Writing audio in temp_audio.wav\n"
     ]
    },
    {
     "name": "stderr",
     "output_type": "stream",
     "text": [
      "\n",
      "chunk:   0%|                                                                                                         | 0/1324 [00:00<?, ?it/s, now=None]\u001b[A\n",
      "chunk:  47%|███████████████████████████████████████████▎                                                 | 616/1324 [00:00<00:00, 6158.42it/s, now=None]\u001b[A\n",
      "chunk:  93%|█████████████████████████████████████████████████████████████████████████████████████▌      | 1232/1324 [00:00<00:00, 6062.51it/s, now=None]\u001b[A\n",
      "                                                                                                                                                        \u001b[A"
     ]
    },
    {
     "name": "stdout",
     "output_type": "stream",
     "text": [
      "MoviePy - Done.\n",
      "MoviePy - Writing audio in temp_audio.wav\n"
     ]
    },
    {
     "name": "stderr",
     "output_type": "stream",
     "text": [
      "\n",
      "chunk:   0%|                                                                                                         | 0/1324 [00:00<?, ?it/s, now=None]\u001b[A\n",
      "chunk:  50%|██████████████████████████████████████████████▌                                              | 663/1324 [00:00<00:00, 6616.25it/s, now=None]\u001b[A\n",
      "                                                                                                                                                        \u001b[A"
     ]
    },
    {
     "name": "stdout",
     "output_type": "stream",
     "text": [
      "MoviePy - Done.\n",
      "MoviePy - Writing audio in temp_audio.wav\n"
     ]
    },
    {
     "name": "stderr",
     "output_type": "stream",
     "text": [
      "\n",
      "chunk:   0%|                                                                                                         | 0/1324 [00:00<?, ?it/s, now=None]\u001b[A\n",
      "chunk:  51%|███████████████████████████████████████████████▏                                             | 671/1324 [00:00<00:00, 6706.58it/s, now=None]\u001b[A\n",
      "                                                                                                                                                        \u001b[A"
     ]
    },
    {
     "name": "stdout",
     "output_type": "stream",
     "text": [
      "MoviePy - Done.\n",
      "MoviePy - Writing audio in temp_audio.wav\n"
     ]
    },
    {
     "name": "stderr",
     "output_type": "stream",
     "text": [
      "\n",
      "chunk:   0%|                                                                                                          | 0/333 [00:00<?, ?it/s, now=None]\u001b[A\n",
      "                                                                                                                                                        \u001b[A"
     ]
    },
    {
     "name": "stdout",
     "output_type": "stream",
     "text": [
      "MoviePy - Done.\n",
      "MoviePy - Writing audio in temp_audio.wav\n"
     ]
    },
    {
     "name": "stderr",
     "output_type": "stream",
     "text": [
      "\n",
      "chunk:   0%|                                                                                                         | 0/1324 [00:00<?, ?it/s, now=None]\u001b[A\n",
      "chunk:  50%|██████████████████████████████████████████████▊                                              | 667/1324 [00:00<00:00, 6667.78it/s, now=None]\u001b[A\n",
      "                                                                                                                                                        \u001b[A"
     ]
    },
    {
     "name": "stdout",
     "output_type": "stream",
     "text": [
      "MoviePy - Done.\n",
      "MoviePy - Writing audio in temp_audio.wav\n"
     ]
    },
    {
     "name": "stderr",
     "output_type": "stream",
     "text": [
      "\n",
      "chunk:   0%|                                                                                                         | 0/1324 [00:00<?, ?it/s, now=None]\u001b[A\n",
      "chunk:  46%|██████████████████████████████████████████▉                                                  | 612/1324 [00:00<00:00, 6054.93it/s, now=None]\u001b[A\n",
      "chunk:  92%|█████████████████████████████████████████████████████████████████████████████████████       | 1224/1324 [00:00<00:00, 6042.72it/s, now=None]\u001b[A\n",
      "                                                                                                                                                        \u001b[A"
     ]
    },
    {
     "name": "stdout",
     "output_type": "stream",
     "text": [
      "MoviePy - Done.\n",
      "MoviePy - Writing audio in temp_audio.wav\n"
     ]
    },
    {
     "name": "stderr",
     "output_type": "stream",
     "text": [
      "\n",
      "chunk:   0%|                                                                                                         | 0/1324 [00:00<?, ?it/s, now=None]\u001b[A\n",
      "chunk:  50%|██████████████████████████████████████████████▌                                              | 663/1324 [00:00<00:00, 6475.71it/s, now=None]\u001b[A\n",
      "                                                                                                                                                        \u001b[A"
     ]
    },
    {
     "name": "stdout",
     "output_type": "stream",
     "text": [
      "MoviePy - Done.\n",
      "MoviePy - Writing audio in temp_audio.wav\n"
     ]
    },
    {
     "name": "stderr",
     "output_type": "stream",
     "text": [
      "\n",
      "chunk:   0%|                                                                                                         | 0/1324 [00:00<?, ?it/s, now=None]\u001b[A\n",
      "chunk:  43%|████████████████████████████████████████                                                     | 570/1324 [00:00<00:00, 5697.41it/s, now=None]\u001b[A\n",
      "chunk:  88%|████████████████████████████████████████████████████████████████████████████████▌           | 1159/1324 [00:00<00:00, 5810.01it/s, now=None]\u001b[A\n",
      "                                                                                                                                                        \u001b[A"
     ]
    },
    {
     "name": "stdout",
     "output_type": "stream",
     "text": [
      "MoviePy - Done.\n",
      "MoviePy - Writing audio in temp_audio.wav\n"
     ]
    },
    {
     "name": "stderr",
     "output_type": "stream",
     "text": [
      "\n",
      "chunk:   0%|                                                                                                         | 0/1324 [00:00<?, ?it/s, now=None]\u001b[A\n",
      "chunk:  54%|██████████████████████████████████████████████████▏                                          | 714/1324 [00:00<00:00, 7061.08it/s, now=None]\u001b[A\n",
      "                                                                                                                                                        \u001b[A"
     ]
    },
    {
     "name": "stdout",
     "output_type": "stream",
     "text": [
      "MoviePy - Done.\n",
      "MoviePy - Writing audio in temp_audio.wav\n"
     ]
    },
    {
     "name": "stderr",
     "output_type": "stream",
     "text": [
      "\n",
      "chunk:   0%|                                                                                                         | 0/1324 [00:00<?, ?it/s, now=None]\u001b[A\n",
      "chunk:  52%|████████████████████████████████████████████████▎                                            | 688/1324 [00:00<00:00, 6874.14it/s, now=None]\u001b[A\n",
      "                                                                                                                                                        \u001b[A"
     ]
    },
    {
     "name": "stdout",
     "output_type": "stream",
     "text": [
      "MoviePy - Done.\n",
      "MoviePy - Writing audio in temp_audio.wav\n"
     ]
    },
    {
     "name": "stderr",
     "output_type": "stream",
     "text": [
      "\n",
      "chunk:   0%|                                                                                                         | 0/1324 [00:00<?, ?it/s, now=None]\u001b[A\n",
      "chunk:  31%|████████████████████████████▋                                                                | 408/1324 [00:00<00:00, 3934.20it/s, now=None]\u001b[A\n",
      "chunk:  69%|████████████████████████████████████████████████████████████████▍                            | 918/1324 [00:00<00:00, 4482.93it/s, now=None]\u001b[A\n",
      "                                                                                                                                                        \u001b[A"
     ]
    },
    {
     "name": "stdout",
     "output_type": "stream",
     "text": [
      "MoviePy - Done.\n",
      "MoviePy - Writing audio in temp_audio.wav\n"
     ]
    },
    {
     "name": "stderr",
     "output_type": "stream",
     "text": [
      "\n",
      "chunk:   0%|                                                                                                         | 0/1324 [00:00<?, ?it/s, now=None]\u001b[A\n",
      "chunk:  50%|██████████████████████████████████████████████▊                                              | 667/1324 [00:00<00:00, 6665.18it/s, now=None]\u001b[A\n",
      "                                                                                                                                                        \u001b[A"
     ]
    },
    {
     "name": "stdout",
     "output_type": "stream",
     "text": [
      "MoviePy - Done.\n",
      "MoviePy - Writing audio in temp_audio.wav\n"
     ]
    },
    {
     "name": "stderr",
     "output_type": "stream",
     "text": [
      "\n",
      "chunk:   0%|                                                                                                         | 0/1324 [00:00<?, ?it/s, now=None]\u001b[A\n",
      "chunk:  46%|██████████████████████████████████████████▉                                                  | 612/1324 [00:00<00:00, 6028.08it/s, now=None]\u001b[A\n",
      "chunk:  92%|████████████████████████████████████████████████████████████████████████████████████▍       | 1215/1324 [00:00<00:00, 5761.97it/s, now=None]\u001b[A\n",
      "                                                                                                                                                        \u001b[A"
     ]
    },
    {
     "name": "stdout",
     "output_type": "stream",
     "text": [
      "MoviePy - Done.\n",
      "MoviePy - Writing audio in temp_audio.wav\n"
     ]
    },
    {
     "name": "stderr",
     "output_type": "stream",
     "text": [
      "\n",
      "chunk:   0%|                                                                                                         | 0/1324 [00:00<?, ?it/s, now=None]\u001b[A\n",
      "chunk:  50%|██████████████████████████████████████████████▌                                              | 663/1324 [00:00<00:00, 6602.90it/s, now=None]\u001b[A\n",
      "chunk: 100%|████████████████████████████████████████████████████████████████████████████████████████████| 1324/1324 [00:00<00:00, 6510.59it/s, now=None]\u001b[A\n",
      "                                                                                                                                                        \u001b[A"
     ]
    },
    {
     "name": "stdout",
     "output_type": "stream",
     "text": [
      "MoviePy - Done.\n",
      "MoviePy - Writing audio in temp_audio.wav\n"
     ]
    },
    {
     "name": "stderr",
     "output_type": "stream",
     "text": [
      "\n",
      "chunk:   0%|                                                                                                         | 0/1324 [00:00<?, ?it/s, now=None]\u001b[A\n",
      "chunk:  53%|████████████████████████████████████████████████▉                                            | 696/1324 [00:00<00:00, 6955.45it/s, now=None]\u001b[A\n",
      "                                                                                                                                                        \u001b[A"
     ]
    },
    {
     "name": "stdout",
     "output_type": "stream",
     "text": [
      "MoviePy - Done.\n",
      "MoviePy - Writing audio in temp_audio.wav\n"
     ]
    },
    {
     "name": "stderr",
     "output_type": "stream",
     "text": [
      "\n",
      "chunk:   0%|                                                                                                         | 0/1324 [00:00<?, ?it/s, now=None]\u001b[A\n",
      "chunk:  52%|███████████████████████████████████████████████▉                                             | 683/1324 [00:00<00:00, 6824.88it/s, now=None]\u001b[A\n",
      "                                                                                                                                                        \u001b[A"
     ]
    },
    {
     "name": "stdout",
     "output_type": "stream",
     "text": [
      "MoviePy - Done.\n",
      "MoviePy - Writing audio in temp_audio.wav\n"
     ]
    },
    {
     "name": "stderr",
     "output_type": "stream",
     "text": [
      "\n",
      "chunk:   0%|                                                                                                         | 0/1324 [00:00<?, ?it/s, now=None]\u001b[A\n",
      "chunk:  50%|██████████████████████████████████████████████▌                                              | 663/1324 [00:00<00:00, 6582.83it/s, now=None]\u001b[A\n",
      "chunk: 100%|███████████████████████████████████████████████████████████████████████████████████████████▊| 1322/1324 [00:00<00:00, 6529.41it/s, now=None]\u001b[A\n",
      "                                                                                                                                                        \u001b[A"
     ]
    },
    {
     "name": "stdout",
     "output_type": "stream",
     "text": [
      "MoviePy - Done.\n",
      "MoviePy - Writing audio in temp_audio.wav\n"
     ]
    },
    {
     "name": "stderr",
     "output_type": "stream",
     "text": [
      "\n",
      "chunk:   0%|                                                                                                         | 0/1324 [00:00<?, ?it/s, now=None]\u001b[A\n",
      "chunk:  56%|████████████████████████████████████████████████████▍                                        | 747/1324 [00:00<00:00, 7468.74it/s, now=None]\u001b[A\n",
      "                                                                                                                                                        \u001b[A"
     ]
    },
    {
     "name": "stdout",
     "output_type": "stream",
     "text": [
      "MoviePy - Done.\n",
      "MoviePy - Writing audio in temp_audio.wav\n"
     ]
    },
    {
     "name": "stderr",
     "output_type": "stream",
     "text": [
      "\n",
      "chunk:   0%|                                                                                                         | 0/1324 [00:00<?, ?it/s, now=None]\u001b[A\n",
      "chunk:  44%|█████████████████████████████████████████                                                    | 585/1324 [00:00<00:00, 5848.78it/s, now=None]\u001b[A\n",
      "chunk:  88%|█████████████████████████████████████████████████████████████████████████████████▎          | 1170/1324 [00:00<00:00, 5686.28it/s, now=None]\u001b[A\n",
      "                                                                                                                                                        \u001b[A"
     ]
    },
    {
     "name": "stdout",
     "output_type": "stream",
     "text": [
      "MoviePy - Done.\n",
      "MoviePy - Writing audio in temp_audio.wav\n"
     ]
    },
    {
     "name": "stderr",
     "output_type": "stream",
     "text": [
      "\n",
      "chunk:   0%|                                                                                                         | 0/1324 [00:00<?, ?it/s, now=None]\u001b[A\n",
      "chunk:  58%|█████████████████████████████████████████████████████▋                                       | 764/1324 [00:00<00:00, 7636.49it/s, now=None]\u001b[A\n",
      "                                                                                                                                                        \u001b[A"
     ]
    },
    {
     "name": "stdout",
     "output_type": "stream",
     "text": [
      "MoviePy - Done.\n",
      "MoviePy - Writing audio in temp_audio.wav\n"
     ]
    },
    {
     "name": "stderr",
     "output_type": "stream",
     "text": [
      "\n",
      "chunk:   0%|                                                                                                         | 0/1324 [00:00<?, ?it/s, now=None]\u001b[A\n",
      "chunk:  56%|████████████████████████████████████████████████████▎                                        | 744/1324 [00:00<00:00, 7434.07it/s, now=None]\u001b[A\n",
      "                                                                                                                                                        \u001b[A"
     ]
    },
    {
     "name": "stdout",
     "output_type": "stream",
     "text": [
      "MoviePy - Done.\n",
      "MoviePy - Writing audio in temp_audio.wav\n"
     ]
    },
    {
     "name": "stderr",
     "output_type": "stream",
     "text": [
      "\n",
      "chunk:   0%|                                                                                                         | 0/1324 [00:00<?, ?it/s, now=None]\u001b[A\n",
      "chunk:  54%|██████████████████████████████████████████████████▏                                          | 714/1324 [00:00<00:00, 6997.22it/s, now=None]\u001b[A\n",
      "                                                                                                                                                        \u001b[A"
     ]
    },
    {
     "name": "stdout",
     "output_type": "stream",
     "text": [
      "MoviePy - Done.\n",
      "MoviePy - Writing audio in temp_audio.wav\n"
     ]
    },
    {
     "name": "stderr",
     "output_type": "stream",
     "text": [
      "\n",
      "chunk:   0%|                                                                                                         | 0/1324 [00:00<?, ?it/s, now=None]\u001b[A\n",
      "chunk:  54%|██████████████████████████████████████████████████▏                                          | 714/1324 [00:00<00:00, 7038.60it/s, now=None]\u001b[A\n",
      "                                                                                                                                                        \u001b[A"
     ]
    },
    {
     "name": "stdout",
     "output_type": "stream",
     "text": [
      "MoviePy - Done.\n",
      "MoviePy - Writing audio in temp_audio.wav\n"
     ]
    },
    {
     "name": "stderr",
     "output_type": "stream",
     "text": [
      "\n",
      "chunk:   0%|                                                                                                         | 0/1324 [00:00<?, ?it/s, now=None]\u001b[A\n",
      "chunk:  52%|████████████████████████████████████████████████                                             | 684/1324 [00:00<00:00, 6838.29it/s, now=None]\u001b[A\n",
      "                                                                                                                                                        \u001b[A"
     ]
    },
    {
     "name": "stdout",
     "output_type": "stream",
     "text": [
      "MoviePy - Done.\n",
      "MoviePy - Writing audio in temp_audio.wav\n"
     ]
    },
    {
     "name": "stderr",
     "output_type": "stream",
     "text": [
      "\n",
      "chunk:   0%|                                                                                                         | 0/1324 [00:00<?, ?it/s, now=None]\u001b[A\n",
      "chunk:  39%|████████████████████████████████████▏                                                        | 516/1324 [00:00<00:00, 5158.09it/s, now=None]\u001b[A\n",
      "chunk:  81%|██████████████████████████████████████████████████████████████████████████                  | 1066/1324 [00:00<00:00, 5356.91it/s, now=None]\u001b[A\n",
      "                                                                                                                                                        \u001b[A"
     ]
    },
    {
     "name": "stdout",
     "output_type": "stream",
     "text": [
      "MoviePy - Done.\n",
      "MoviePy - Writing audio in temp_audio.wav\n"
     ]
    },
    {
     "name": "stderr",
     "output_type": "stream",
     "text": [
      "\n",
      "chunk:   0%|                                                                                                         | 0/1324 [00:00<?, ?it/s, now=None]\u001b[A\n",
      "chunk:  39%|███████████████████████████████████▊                                                         | 510/1324 [00:00<00:00, 4913.82it/s, now=None]\u001b[A\n",
      "chunk:  81%|██████████████████████████████████████████████████████████████████████████▍                 | 1071/1324 [00:00<00:00, 5260.10it/s, now=None]\u001b[A\n",
      "                                                                                                                                                        \u001b[A"
     ]
    },
    {
     "name": "stdout",
     "output_type": "stream",
     "text": [
      "MoviePy - Done.\n",
      "MoviePy - Writing audio in temp_audio.wav\n"
     ]
    },
    {
     "name": "stderr",
     "output_type": "stream",
     "text": [
      "\n",
      "chunk:   0%|                                                                                                         | 0/1324 [00:00<?, ?it/s, now=None]\u001b[A\n",
      "chunk:  29%|███████████████████████████▏                                                                 | 387/1324 [00:00<00:00, 3869.55it/s, now=None]\u001b[A\n",
      "chunk:  58%|██████████████████████████████████████████████████████▎                                      | 774/1324 [00:00<00:00, 3546.39it/s, now=None]\u001b[A\n",
      "chunk:  92%|█████████████████████████████████████████████████████████████████████████████████████       | 1224/1324 [00:00<00:00, 3905.86it/s, now=None]\u001b[A\n",
      "                                                                                                                                                        \u001b[A"
     ]
    },
    {
     "name": "stdout",
     "output_type": "stream",
     "text": [
      "MoviePy - Done.\n",
      "MoviePy - Writing audio in temp_audio.wav\n"
     ]
    },
    {
     "name": "stderr",
     "output_type": "stream",
     "text": [
      "\n",
      "chunk:   0%|                                                                                                         | 0/1324 [00:00<?, ?it/s, now=None]\u001b[A\n",
      "chunk:  39%|███████████████████████████████████▊                                                         | 510/1324 [00:00<00:00, 4968.91it/s, now=None]\u001b[A\n",
      "chunk:  76%|█████████████████████████████████████████████████████████████████████▉                      | 1007/1324 [00:00<00:00, 4803.92it/s, now=None]\u001b[A\n",
      "                                                                                                                                                        \u001b[A"
     ]
    },
    {
     "name": "stdout",
     "output_type": "stream",
     "text": [
      "MoviePy - Done.\n",
      "MoviePy - Writing audio in temp_audio.wav\n"
     ]
    },
    {
     "name": "stderr",
     "output_type": "stream",
     "text": [
      "\n",
      "chunk:   0%|                                                                                                         | 0/1324 [00:00<?, ?it/s, now=None]\u001b[A\n",
      "chunk:  35%|████████████████████████████████▏                                                            | 459/1324 [00:00<00:00, 4363.30it/s, now=None]\u001b[A\n",
      "chunk:  73%|███████████████████████████████████████████████████████████████████▋                         | 964/1324 [00:00<00:00, 4756.51it/s, now=None]\u001b[A\n",
      "                                                                                                                                                        \u001b[A"
     ]
    },
    {
     "name": "stdout",
     "output_type": "stream",
     "text": [
      "MoviePy - Done.\n",
      "MoviePy - Writing audio in temp_audio.wav\n"
     ]
    },
    {
     "name": "stderr",
     "output_type": "stream",
     "text": [
      "\n",
      "chunk:   0%|                                                                                                         | 0/1324 [00:00<?, ?it/s, now=None]\u001b[A\n",
      "chunk:  38%|███████████████████████████████████▏                                                         | 501/1324 [00:00<00:00, 5004.97it/s, now=None]\u001b[A\n",
      "chunk:  76%|█████████████████████████████████████████████████████████████████████▋                      | 1002/1324 [00:00<00:00, 4935.95it/s, now=None]\u001b[A\n",
      "                                                                                                                                                        \u001b[A"
     ]
    },
    {
     "name": "stdout",
     "output_type": "stream",
     "text": [
      "MoviePy - Done.\n",
      "MoviePy - Writing audio in temp_audio.wav\n"
     ]
    },
    {
     "name": "stderr",
     "output_type": "stream",
     "text": [
      "\n",
      "chunk:   0%|                                                                                                         | 0/1324 [00:00<?, ?it/s, now=None]\u001b[A\n",
      "chunk:  37%|█████████████████████████████████▉                                                           | 484/1324 [00:00<00:00, 4839.59it/s, now=None]\u001b[A\n",
      "chunk:  73%|███████████████████████████████████████████████████████████████████▉                         | 968/1324 [00:00<00:00, 4838.63it/s, now=None]\u001b[A\n",
      "                                                                                                                                                        \u001b[A"
     ]
    },
    {
     "name": "stdout",
     "output_type": "stream",
     "text": [
      "MoviePy - Done.\n",
      "MoviePy - Writing audio in temp_audio.wav\n"
     ]
    },
    {
     "name": "stderr",
     "output_type": "stream",
     "text": [
      "\n",
      "chunk:   0%|                                                                                                         | 0/1324 [00:00<?, ?it/s, now=None]\u001b[A\n",
      "chunk:  50%|██████████████████████████████████████████████▍                                              | 661/1324 [00:00<00:00, 6604.37it/s, now=None]\u001b[A\n",
      "chunk: 100%|███████████████████████████████████████████████████████████████████████████████████████████▊| 1322/1324 [00:00<00:00, 6418.54it/s, now=None]\u001b[A\n",
      "                                                                                                                                                        \u001b[A"
     ]
    },
    {
     "name": "stdout",
     "output_type": "stream",
     "text": [
      "MoviePy - Done.\n",
      "MoviePy - Writing audio in temp_audio.wav\n"
     ]
    },
    {
     "name": "stderr",
     "output_type": "stream",
     "text": [
      "\n",
      "chunk:   0%|                                                                                                         | 0/1324 [00:00<?, ?it/s, now=None]\u001b[A\n",
      "chunk:  44%|█████████████████████████████████████████▎                                                   | 589/1324 [00:00<00:00, 5885.18it/s, now=None]\u001b[A\n",
      "chunk:  90%|██████████████████████████████████████████████████████████████████████████████████▉         | 1193/1324 [00:00<00:00, 5973.34it/s, now=None]\u001b[A\n",
      "                                                                                                                                                        \u001b[A"
     ]
    },
    {
     "name": "stdout",
     "output_type": "stream",
     "text": [
      "MoviePy - Done.\n",
      "MoviePy - Writing audio in temp_audio.wav\n"
     ]
    },
    {
     "name": "stderr",
     "output_type": "stream",
     "text": [
      "\n",
      "chunk:   0%|                                                                                                         | 0/1324 [00:00<?, ?it/s, now=None]\u001b[A\n",
      "chunk:  50%|██████████████████████████████████████████████▌                                              | 663/1324 [00:00<00:00, 6571.75it/s, now=None]\u001b[A\n",
      "                                                                                                                                                        \u001b[A"
     ]
    },
    {
     "name": "stdout",
     "output_type": "stream",
     "text": [
      "MoviePy - Done.\n",
      "MoviePy - Writing audio in temp_audio.wav\n"
     ]
    },
    {
     "name": "stderr",
     "output_type": "stream",
     "text": [
      "\n",
      "chunk:   0%|                                                                                                         | 0/1324 [00:00<?, ?it/s, now=None]\u001b[A\n",
      "chunk:  50%|██████████████████████████████████████████████▌                                              | 663/1324 [00:00<00:00, 6610.86it/s, now=None]\u001b[A\n",
      "                                                                                                                                                        \u001b[A"
     ]
    },
    {
     "name": "stdout",
     "output_type": "stream",
     "text": [
      "MoviePy - Done.\n",
      "MoviePy - Writing audio in temp_audio.wav\n"
     ]
    },
    {
     "name": "stderr",
     "output_type": "stream",
     "text": [
      "\n",
      "chunk:   0%|                                                                                                         | 0/1324 [00:00<?, ?it/s, now=None]\u001b[A\n",
      "chunk:  44%|████████████████████████████████████████▋                                                    | 579/1324 [00:00<00:00, 5788.56it/s, now=None]\u001b[A\n",
      "chunk:  88%|████████████████████████████████████████████████████████████████████████████████▉           | 1165/1324 [00:00<00:00, 5829.49it/s, now=None]\u001b[A\n",
      "                                                                                                                                                        \u001b[A"
     ]
    },
    {
     "name": "stdout",
     "output_type": "stream",
     "text": [
      "MoviePy - Done.\n",
      "MoviePy - Writing audio in temp_audio.wav\n"
     ]
    },
    {
     "name": "stderr",
     "output_type": "stream",
     "text": [
      "\n",
      "chunk:   0%|                                                                                                         | 0/1324 [00:00<?, ?it/s, now=None]\u001b[A\n",
      "chunk:  58%|██████████████████████████████████████████████████████▎                                      | 774/1324 [00:00<00:00, 7736.91it/s, now=None]\u001b[A\n",
      "                                                                                                                                                        \u001b[A"
     ]
    },
    {
     "name": "stdout",
     "output_type": "stream",
     "text": [
      "MoviePy - Done.\n",
      "MoviePy - Writing audio in temp_audio.wav\n"
     ]
    },
    {
     "name": "stderr",
     "output_type": "stream",
     "text": [
      "\n",
      "chunk:   0%|                                                                                                         | 0/1324 [00:00<?, ?it/s, now=None]\u001b[A\n",
      "chunk:  59%|██████████████████████████████████████████████████████▋                                      | 779/1324 [00:00<00:00, 7787.85it/s, now=None]\u001b[A\n",
      "                                                                                                                                                        \u001b[A"
     ]
    },
    {
     "name": "stdout",
     "output_type": "stream",
     "text": [
      "MoviePy - Done.\n",
      "MoviePy - Writing audio in temp_audio.wav\n"
     ]
    },
    {
     "name": "stderr",
     "output_type": "stream",
     "text": [
      "\n",
      "chunk:   0%|                                                                                                         | 0/1324 [00:00<?, ?it/s, now=None]\u001b[A\n",
      "chunk:  58%|█████████████████████████████████████████████████████▋                                       | 765/1324 [00:00<00:00, 7552.96it/s, now=None]\u001b[A\n",
      "                                                                                                                                                        \u001b[A"
     ]
    },
    {
     "name": "stdout",
     "output_type": "stream",
     "text": [
      "MoviePy - Done.\n",
      "MoviePy - Writing audio in temp_audio.wav\n"
     ]
    },
    {
     "name": "stderr",
     "output_type": "stream",
     "text": [
      "\n",
      "chunk:   0%|                                                                                                         | 0/1324 [00:00<?, ?it/s, now=None]\u001b[A\n",
      "chunk:  55%|███████████████████████████████████████████████████                                          | 727/1324 [00:00<00:00, 7268.69it/s, now=None]\u001b[A\n",
      "                                                                                                                                                        \u001b[A"
     ]
    },
    {
     "name": "stdout",
     "output_type": "stream",
     "text": [
      "MoviePy - Done.\n",
      "MoviePy - Writing audio in temp_audio.wav\n"
     ]
    },
    {
     "name": "stderr",
     "output_type": "stream",
     "text": [
      "\n",
      "chunk:   0%|                                                                                                         | 0/1324 [00:00<?, ?it/s, now=None]\u001b[A\n",
      "chunk:  55%|██████████████████████████████████████████████████▊                                          | 723/1324 [00:00<00:00, 7225.98it/s, now=None]\u001b[A\n",
      "                                                                                                                                                        \u001b[A"
     ]
    },
    {
     "name": "stdout",
     "output_type": "stream",
     "text": [
      "MoviePy - Done.\n",
      "MoviePy - Writing audio in temp_audio.wav\n"
     ]
    },
    {
     "name": "stderr",
     "output_type": "stream",
     "text": [
      "\n",
      "chunk:   0%|                                                                                                         | 0/1324 [00:00<?, ?it/s, now=None]\u001b[A\n",
      "chunk:  46%|██████████████████████████████████████████▋                                                  | 607/1324 [00:00<00:00, 6068.46it/s, now=None]\u001b[A\n",
      "chunk:  92%|████████████████████████████████████████████████████████████████████████████████████▎       | 1214/1324 [00:00<00:00, 6025.70it/s, now=None]\u001b[A\n",
      "                                                                                                                                                        \u001b[A"
     ]
    },
    {
     "name": "stdout",
     "output_type": "stream",
     "text": [
      "MoviePy - Done.\n",
      "MoviePy - Writing audio in temp_audio.wav\n"
     ]
    },
    {
     "name": "stderr",
     "output_type": "stream",
     "text": [
      "\n",
      "chunk:   0%|                                                                                                         | 0/1324 [00:00<?, ?it/s, now=None]\u001b[A\n",
      "chunk:  54%|██████████████████████████████████████████████████▏                                          | 715/1324 [00:00<00:00, 7148.58it/s, now=None]\u001b[A\n",
      "                                                                                                                                                        \u001b[A"
     ]
    },
    {
     "name": "stdout",
     "output_type": "stream",
     "text": [
      "MoviePy - Done.\n",
      "MoviePy - Writing audio in temp_audio.wav\n"
     ]
    },
    {
     "name": "stderr",
     "output_type": "stream",
     "text": [
      "\n",
      "chunk:   0%|                                                                                                         | 0/1324 [00:00<?, ?it/s, now=None]\u001b[A\n",
      "chunk:  35%|████████████████████████████████▏                                                            | 459/1324 [00:00<00:00, 4332.87it/s, now=None]\u001b[A\n",
      "chunk:  69%|████████████████████████████████████████████████████████████████▍                            | 918/1324 [00:00<00:00, 4408.79it/s, now=None]\u001b[A\n",
      "                                                                                                                                                        \u001b[A"
     ]
    },
    {
     "name": "stdout",
     "output_type": "stream",
     "text": [
      "MoviePy - Done.\n",
      "MoviePy - Writing audio in temp_audio.wav\n"
     ]
    },
    {
     "name": "stderr",
     "output_type": "stream",
     "text": [
      "\n",
      "chunk:   0%|                                                                                                         | 0/1324 [00:00<?, ?it/s, now=None]\u001b[A\n",
      "chunk:  50%|██████████████████████████████████████████████▌                                              | 663/1324 [00:00<00:00, 6440.67it/s, now=None]\u001b[A\n",
      "chunk:  99%|███████████████████████████████████████████████████████████████████████████████████████████ | 1311/1324 [00:00<00:00, 6460.82it/s, now=None]\u001b[A\n",
      "                                                                                                                                                        \u001b[A"
     ]
    },
    {
     "name": "stdout",
     "output_type": "stream",
     "text": [
      "MoviePy - Done.\n",
      "MoviePy - Writing audio in temp_audio.wav\n"
     ]
    },
    {
     "name": "stderr",
     "output_type": "stream",
     "text": [
      "\n",
      "chunk:   0%|                                                                                                         | 0/1324 [00:00<?, ?it/s, now=None]\u001b[A\n",
      "chunk:  58%|█████████████████████████████████████████████████████▋                                       | 765/1324 [00:00<00:00, 7437.90it/s, now=None]\u001b[A\n",
      "                                                                                                                                                        \u001b[A"
     ]
    },
    {
     "name": "stdout",
     "output_type": "stream",
     "text": [
      "MoviePy - Done.\n",
      "MoviePy - Writing audio in temp_audio.wav\n"
     ]
    },
    {
     "name": "stderr",
     "output_type": "stream",
     "text": [
      "\n",
      "chunk:   0%|                                                                                                         | 0/1324 [00:00<?, ?it/s, now=None]\u001b[A\n",
      "chunk:  54%|██████████████████████████████████████████████████▏                                          | 714/1324 [00:00<00:00, 7004.08it/s, now=None]\u001b[A\n",
      "                                                                                                                                                        \u001b[A"
     ]
    },
    {
     "name": "stdout",
     "output_type": "stream",
     "text": [
      "MoviePy - Done.\n",
      "MoviePy - Writing audio in temp_audio.wav\n"
     ]
    },
    {
     "name": "stderr",
     "output_type": "stream",
     "text": [
      "\n",
      "chunk:   0%|                                                                                                         | 0/1324 [00:00<?, ?it/s, now=None]\u001b[A\n",
      "chunk:  54%|██████████████████████████████████████████████████▏                                          | 714/1324 [00:00<00:00, 7001.08it/s, now=None]\u001b[A\n",
      "                                                                                                                                                        \u001b[A"
     ]
    },
    {
     "name": "stdout",
     "output_type": "stream",
     "text": [
      "MoviePy - Done.\n",
      "MoviePy - Writing audio in temp_audio.wav\n"
     ]
    },
    {
     "name": "stderr",
     "output_type": "stream",
     "text": [
      "\n",
      "chunk:   0%|                                                                                                         | 0/1324 [00:00<?, ?it/s, now=None]\u001b[A\n",
      "chunk:  58%|█████████████████████████████████████████████████████▋                                       | 765/1324 [00:00<00:00, 7570.27it/s, now=None]\u001b[A\n",
      "                                                                                                                                                        \u001b[A"
     ]
    },
    {
     "name": "stdout",
     "output_type": "stream",
     "text": [
      "MoviePy - Done.\n",
      "MoviePy - Writing audio in temp_audio.wav\n"
     ]
    },
    {
     "name": "stderr",
     "output_type": "stream",
     "text": [
      "\n",
      "chunk:   0%|                                                                                                         | 0/1324 [00:00<?, ?it/s, now=None]\u001b[A\n",
      "chunk:  54%|██████████████████████████████████████████████████▏                                          | 714/1324 [00:00<00:00, 7128.74it/s, now=None]\u001b[A\n",
      "                                                                                                                                                        \u001b[A"
     ]
    },
    {
     "name": "stdout",
     "output_type": "stream",
     "text": [
      "MoviePy - Done.\n",
      "MoviePy - Writing audio in temp_audio.wav\n"
     ]
    },
    {
     "name": "stderr",
     "output_type": "stream",
     "text": [
      "\n",
      "chunk:   0%|                                                                                                         | 0/1324 [00:00<?, ?it/s, now=None]\u001b[A\n",
      "chunk:  58%|█████████████████████████████████████████████████████▋                                       | 765/1324 [00:00<00:00, 7536.71it/s, now=None]\u001b[A\n",
      "                                                                                                                                                        \u001b[A"
     ]
    },
    {
     "name": "stdout",
     "output_type": "stream",
     "text": [
      "MoviePy - Done.\n",
      "MoviePy - Writing audio in temp_audio.wav\n"
     ]
    },
    {
     "name": "stderr",
     "output_type": "stream",
     "text": [
      "\n",
      "chunk:   0%|                                                                                                         | 0/1324 [00:00<?, ?it/s, now=None]\u001b[A\n",
      "chunk:  44%|████████████████████████████████████████▋                                                    | 580/1324 [00:00<00:00, 5799.96it/s, now=None]\u001b[A\n",
      "chunk:  88%|████████████████████████████████████████████████████████████████████████████████▌           | 1160/1324 [00:00<00:00, 5582.00it/s, now=None]\u001b[A\n",
      "                                                                                                                                                        \u001b[A"
     ]
    },
    {
     "name": "stdout",
     "output_type": "stream",
     "text": [
      "MoviePy - Done.\n",
      "MoviePy - Writing audio in temp_audio.wav\n"
     ]
    },
    {
     "name": "stderr",
     "output_type": "stream",
     "text": [
      "\n",
      "chunk:   0%|                                                                                                         | 0/1324 [00:00<?, ?it/s, now=None]\u001b[A\n",
      "chunk:  53%|█████████████████████████████████████████████████▍                                           | 703/1324 [00:00<00:00, 7024.03it/s, now=None]\u001b[A\n",
      "                                                                                                                                                        \u001b[A"
     ]
    },
    {
     "name": "stdout",
     "output_type": "stream",
     "text": [
      "MoviePy - Done.\n",
      "MoviePy - Writing audio in temp_audio.wav\n"
     ]
    },
    {
     "name": "stderr",
     "output_type": "stream",
     "text": [
      "\n",
      "chunk:   0%|                                                                                                         | 0/1324 [00:00<?, ?it/s, now=None]\u001b[A\n",
      "chunk:  50%|██████████████████████████████████████████████▋                                              | 665/1324 [00:00<00:00, 6648.41it/s, now=None]\u001b[A\n",
      "                                                                                                                                                        \u001b[A"
     ]
    },
    {
     "name": "stdout",
     "output_type": "stream",
     "text": [
      "MoviePy - Done.\n",
      "MoviePy - Writing audio in temp_audio.wav\n"
     ]
    },
    {
     "name": "stderr",
     "output_type": "stream",
     "text": [
      "\n",
      "chunk:   0%|                                                                                                         | 0/1324 [00:00<?, ?it/s, now=None]\u001b[A\n",
      "chunk:  42%|███████████████████████████████████████▍                                                     | 561/1324 [00:00<00:00, 5529.66it/s, now=None]\u001b[A\n",
      "chunk:  85%|█████████████████████████████████████████████████████████████████████████████▉              | 1122/1324 [00:00<00:00, 5537.93it/s, now=None]\u001b[A\n",
      "                                                                                                                                                        \u001b[A"
     ]
    },
    {
     "name": "stdout",
     "output_type": "stream",
     "text": [
      "MoviePy - Done.\n",
      "MoviePy - Writing audio in temp_audio.wav\n"
     ]
    },
    {
     "name": "stderr",
     "output_type": "stream",
     "text": [
      "\n",
      "chunk:   0%|                                                                                                         | 0/1324 [00:00<?, ?it/s, now=None]\u001b[A\n",
      "chunk:  43%|███████████████████████████████████████▊                                                     | 567/1324 [00:00<00:00, 5666.48it/s, now=None]\u001b[A\n",
      "chunk:  86%|██████████████████████████████████████████████████████████████████████████████▊             | 1134/1324 [00:00<00:00, 5566.11it/s, now=None]\u001b[A\n",
      "                                                                                                                                                        \u001b[A"
     ]
    },
    {
     "name": "stdout",
     "output_type": "stream",
     "text": [
      "MoviePy - Done.\n",
      "MoviePy - Writing audio in temp_audio.wav\n"
     ]
    },
    {
     "name": "stderr",
     "output_type": "stream",
     "text": [
      "\n",
      "chunk:   0%|                                                                                                         | 0/1324 [00:00<?, ?it/s, now=None]\u001b[A\n",
      "chunk:  57%|█████████████████████████████████████████████████████▏                                       | 758/1324 [00:00<00:00, 7578.53it/s, now=None]\u001b[A\n",
      "                                                                                                                                                        \u001b[A"
     ]
    },
    {
     "name": "stdout",
     "output_type": "stream",
     "text": [
      "MoviePy - Done.\n",
      "MoviePy - Writing audio in temp_audio.wav\n"
     ]
    },
    {
     "name": "stderr",
     "output_type": "stream",
     "text": [
      "\n",
      "chunk:   0%|                                                                                                         | 0/1324 [00:00<?, ?it/s, now=None]\u001b[A\n",
      "chunk:  61%|████████████████████████████████████████████████████████▉                                    | 811/1324 [00:00<00:00, 8105.68it/s, now=None]\u001b[A\n",
      "                                                                                                                                                        \u001b[A"
     ]
    },
    {
     "name": "stdout",
     "output_type": "stream",
     "text": [
      "MoviePy - Done.\n",
      "MoviePy - Writing audio in temp_audio.wav\n"
     ]
    },
    {
     "name": "stderr",
     "output_type": "stream",
     "text": [
      "\n",
      "chunk:   0%|                                                                                                         | 0/1324 [00:00<?, ?it/s, now=None]\u001b[A\n",
      "chunk:  56%|████████████████████████████████████████████████████▏                                        | 743/1324 [00:00<00:00, 7424.68it/s, now=None]\u001b[A\n",
      "                                                                                                                                                        \u001b[A"
     ]
    },
    {
     "name": "stdout",
     "output_type": "stream",
     "text": [
      "MoviePy - Done.\n",
      "MoviePy - Writing audio in temp_audio.wav\n"
     ]
    },
    {
     "name": "stderr",
     "output_type": "stream",
     "text": [
      "\n",
      "chunk:   0%|                                                                                                         | 0/1324 [00:00<?, ?it/s, now=None]\u001b[A\n",
      "chunk:  55%|██████████████████████████████████████████████████▊                                          | 723/1324 [00:00<00:00, 7229.92it/s, now=None]\u001b[A\n",
      "                                                                                                                                                        \u001b[A"
     ]
    },
    {
     "name": "stdout",
     "output_type": "stream",
     "text": [
      "MoviePy - Done.\n",
      "MoviePy - Writing audio in temp_audio.wav\n"
     ]
    },
    {
     "name": "stderr",
     "output_type": "stream",
     "text": [
      "\n",
      "chunk:   0%|                                                                                                         | 0/1324 [00:00<?, ?it/s, now=None]\u001b[A\n",
      "chunk:  56%|████████████████████████████████████████████████████▏                                        | 743/1324 [00:00<00:00, 7426.70it/s, now=None]\u001b[A\n",
      "                                                                                                                                                        \u001b[A"
     ]
    },
    {
     "name": "stdout",
     "output_type": "stream",
     "text": [
      "MoviePy - Done.\n",
      "MoviePy - Writing audio in temp_audio.wav\n"
     ]
    },
    {
     "name": "stderr",
     "output_type": "stream",
     "text": [
      "\n",
      "chunk:   0%|                                                                                                         | 0/1324 [00:00<?, ?it/s, now=None]\u001b[A\n",
      "chunk:  55%|███████████████████████████████████████████████████▍                                         | 732/1324 [00:00<00:00, 7314.46it/s, now=None]\u001b[A\n",
      "                                                                                                                                                        \u001b[A"
     ]
    },
    {
     "name": "stdout",
     "output_type": "stream",
     "text": [
      "MoviePy - Done.\n",
      "MoviePy - Writing audio in temp_audio.wav\n"
     ]
    },
    {
     "name": "stderr",
     "output_type": "stream",
     "text": [
      "\n",
      "chunk:   0%|                                                                                                         | 0/1324 [00:00<?, ?it/s, now=None]\u001b[A\n",
      "chunk:  54%|██████████████████████████████████████████████████▏                                          | 714/1324 [00:00<00:00, 7066.90it/s, now=None]\u001b[A\n",
      "                                                                                                                                                        \u001b[A"
     ]
    },
    {
     "name": "stdout",
     "output_type": "stream",
     "text": [
      "MoviePy - Done.\n",
      "MoviePy - Writing audio in temp_audio.wav\n"
     ]
    },
    {
     "name": "stderr",
     "output_type": "stream",
     "text": [
      "\n",
      "chunk:   0%|                                                                                                         | 0/1324 [00:00<?, ?it/s, now=None]\u001b[A\n",
      "chunk:  58%|█████████████████████████████████████████████████████▋                                       | 765/1324 [00:00<00:00, 7513.70it/s, now=None]\u001b[A\n",
      "                                                                                                                                                        \u001b[A"
     ]
    },
    {
     "name": "stdout",
     "output_type": "stream",
     "text": [
      "MoviePy - Done.\n",
      "MoviePy - Writing audio in temp_audio.wav\n"
     ]
    },
    {
     "name": "stderr",
     "output_type": "stream",
     "text": [
      "\n",
      "chunk:   0%|                                                                                                         | 0/1324 [00:00<?, ?it/s, now=None]\u001b[A\n",
      "chunk:  62%|█████████████████████████████████████████████████████████▎                                   | 816/1324 [00:00<00:00, 8097.15it/s, now=None]\u001b[A\n",
      "                                                                                                                                                        \u001b[A"
     ]
    },
    {
     "name": "stdout",
     "output_type": "stream",
     "text": [
      "MoviePy - Done.\n",
      "MoviePy - Writing audio in temp_audio.wav\n"
     ]
    },
    {
     "name": "stderr",
     "output_type": "stream",
     "text": [
      "\n",
      "chunk:   0%|                                                                                                         | 0/1324 [00:00<?, ?it/s, now=None]\u001b[A\n",
      "chunk:  43%|███████████████████████████████████████▊                                                     | 566/1324 [00:00<00:00, 5657.77it/s, now=None]\u001b[A\n",
      "chunk:  85%|██████████████████████████████████████████████████████████████████████████████▋             | 1132/1324 [00:00<00:00, 5385.82it/s, now=None]\u001b[A\n",
      "                                                                                                                                                        \u001b[A"
     ]
    },
    {
     "name": "stdout",
     "output_type": "stream",
     "text": [
      "MoviePy - Done.\n",
      "MoviePy - Writing audio in temp_audio.wav\n"
     ]
    },
    {
     "name": "stderr",
     "output_type": "stream",
     "text": [
      "\n",
      "chunk:   0%|                                                                                                         | 0/1324 [00:00<?, ?it/s, now=None]\u001b[A\n",
      "chunk:  42%|███████████████████████████████████████▍                                                     | 562/1324 [00:00<00:00, 5611.78it/s, now=None]\u001b[A\n",
      "chunk:  85%|██████████████████████████████████████████████████████████████████████████████              | 1124/1324 [00:00<00:00, 5518.20it/s, now=None]\u001b[A\n",
      "                                                                                                                                                        \u001b[A"
     ]
    },
    {
     "name": "stdout",
     "output_type": "stream",
     "text": [
      "MoviePy - Done.\n",
      "MoviePy - Writing audio in temp_audio.wav\n"
     ]
    },
    {
     "name": "stderr",
     "output_type": "stream",
     "text": [
      "\n",
      "chunk:   0%|                                                                                                         | 0/1324 [00:00<?, ?it/s, now=None]\u001b[A\n",
      "chunk:  39%|████████████████████████████████████▍                                                        | 518/1324 [00:00<00:00, 5175.60it/s, now=None]\u001b[A\n",
      "chunk:  84%|█████████████████████████████████████████████████████████████████████████████▏              | 1110/1324 [00:00<00:00, 5612.47it/s, now=None]\u001b[A\n",
      "                                                                                                                                                        \u001b[A"
     ]
    },
    {
     "name": "stdout",
     "output_type": "stream",
     "text": [
      "MoviePy - Done.\n",
      "MoviePy - Writing audio in temp_audio.wav\n"
     ]
    },
    {
     "name": "stderr",
     "output_type": "stream",
     "text": [
      "\n",
      "chunk:   0%|                                                                                                         | 0/1324 [00:00<?, ?it/s, now=None]\u001b[A\n",
      "chunk:  27%|█████████████████████████                                                                    | 357/1324 [00:00<00:00, 3525.46it/s, now=None]\u001b[A\n",
      "chunk:  60%|███████████████████████████████████████████████████████▎                                     | 788/1324 [00:00<00:00, 3984.00it/s, now=None]\u001b[A\n",
      "chunk:  94%|██████████████████████████████████████████████████████████████████████████████████████▋     | 1248/1324 [00:00<00:00, 4262.26it/s, now=None]\u001b[A\n",
      "                                                                                                                                                        \u001b[A"
     ]
    },
    {
     "name": "stdout",
     "output_type": "stream",
     "text": [
      "MoviePy - Done.\n",
      "MoviePy - Writing audio in temp_audio.wav\n"
     ]
    },
    {
     "name": "stderr",
     "output_type": "stream",
     "text": [
      "\n",
      "chunk:   0%|                                                                                                         | 0/1324 [00:00<?, ?it/s, now=None]\u001b[A\n",
      "chunk:  38%|██████████████████████████████████▉                                                          | 498/1324 [00:00<00:00, 4974.66it/s, now=None]\u001b[A\n",
      "chunk:  75%|█████████████████████████████████████████████████████████████████████▉                       | 996/1324 [00:00<00:00, 4930.78it/s, now=None]\u001b[A\n",
      "                                                                                                                                                        \u001b[A"
     ]
    },
    {
     "name": "stdout",
     "output_type": "stream",
     "text": [
      "MoviePy - Done.\n",
      "MoviePy - Writing audio in temp_audio.wav\n"
     ]
    },
    {
     "name": "stderr",
     "output_type": "stream",
     "text": [
      "\n",
      "chunk:   0%|                                                                                                         | 0/1324 [00:00<?, ?it/s, now=None]\u001b[A\n",
      "chunk:  42%|██████████████████████████████████████▉                                                      | 555/1324 [00:00<00:00, 5547.80it/s, now=None]\u001b[A\n",
      "chunk:  84%|█████████████████████████████████████████████████████████████████████████████▏              | 1110/1324 [00:00<00:00, 5032.10it/s, now=None]\u001b[A\n",
      "                                                                                                                                                        \u001b[A"
     ]
    },
    {
     "name": "stdout",
     "output_type": "stream",
     "text": [
      "MoviePy - Done.\n",
      "MoviePy - Writing audio in temp_audio.wav\n"
     ]
    },
    {
     "name": "stderr",
     "output_type": "stream",
     "text": [
      "\n",
      "chunk:   0%|                                                                                                         | 0/1324 [00:00<?, ?it/s, now=None]\u001b[A\n",
      "chunk:  42%|███████████████████████████████████████▍                                                     | 561/1324 [00:00<00:00, 5400.45it/s, now=None]\u001b[A\n",
      "chunk:  83%|████████████████████████████████████████████████████████████████████████████▌               | 1102/1324 [00:00<00:00, 5367.83it/s, now=None]\u001b[A\n",
      "                                                                                                                                                        \u001b[A"
     ]
    },
    {
     "name": "stdout",
     "output_type": "stream",
     "text": [
      "MoviePy - Done.\n",
      "MoviePy - Writing audio in temp_audio.wav\n"
     ]
    },
    {
     "name": "stderr",
     "output_type": "stream",
     "text": [
      "\n",
      "chunk:   0%|                                                                                                         | 0/1324 [00:00<?, ?it/s, now=None]\u001b[A\n",
      "chunk:  39%|███████████████████████████████████▊                                                         | 510/1324 [00:00<00:00, 4957.76it/s, now=None]\u001b[A\n",
      "chunk:  76%|█████████████████████████████████████████████████████████████████████▉                      | 1006/1324 [00:00<00:00, 4934.57it/s, now=None]\u001b[A\n",
      "                                                                                                                                                        \u001b[A"
     ]
    },
    {
     "name": "stdout",
     "output_type": "stream",
     "text": [
      "MoviePy - Done.\n",
      "MoviePy - Writing audio in temp_audio.wav\n"
     ]
    },
    {
     "name": "stderr",
     "output_type": "stream",
     "text": [
      "\n",
      "chunk:   0%|                                                                                                         | 0/1324 [00:00<?, ?it/s, now=None]\u001b[A\n",
      "chunk:  36%|█████████████████████████████████▎                                                           | 474/1324 [00:00<00:00, 4738.73it/s, now=None]\u001b[A\n",
      "chunk:  72%|██████████████████████████████████████████████████████████████████▌                          | 948/1324 [00:00<00:00, 4567.18it/s, now=None]\u001b[A\n",
      "                                                                                                                                                        \u001b[A"
     ]
    },
    {
     "name": "stdout",
     "output_type": "stream",
     "text": [
      "MoviePy - Done.\n",
      "MoviePy - Writing audio in temp_audio.wav\n"
     ]
    },
    {
     "name": "stderr",
     "output_type": "stream",
     "text": [
      "\n",
      "chunk:   0%|                                                                                                         | 0/1324 [00:00<?, ?it/s, now=None]\u001b[A\n",
      "chunk:  39%|███████████████████████████████████▊                                                         | 510/1324 [00:00<00:00, 5040.16it/s, now=None]\u001b[A\n",
      "chunk:  78%|████████████████████████████████████████████████████████████████████████▏                   | 1039/1324 [00:00<00:00, 5184.97it/s, now=None]\u001b[A\n",
      "                                                                                                                                                        \u001b[A"
     ]
    },
    {
     "name": "stdout",
     "output_type": "stream",
     "text": [
      "MoviePy - Done.\n",
      "MoviePy - Writing audio in temp_audio.wav\n"
     ]
    },
    {
     "name": "stderr",
     "output_type": "stream",
     "text": [
      "\n",
      "chunk:   0%|                                                                                                         | 0/1324 [00:00<?, ?it/s, now=None]\u001b[A\n",
      "chunk:  42%|███████████████████████████████████████▍                                                     | 561/1324 [00:00<00:00, 5564.07it/s, now=None]\u001b[A\n",
      "chunk:  84%|█████████████████████████████████████████████████████████████████████████████▋              | 1118/1324 [00:00<00:00, 5389.43it/s, now=None]\u001b[A\n",
      "                                                                                                                                                        \u001b[A"
     ]
    },
    {
     "name": "stdout",
     "output_type": "stream",
     "text": [
      "MoviePy - Done.\n",
      "MoviePy - Writing audio in temp_audio.wav\n"
     ]
    },
    {
     "name": "stderr",
     "output_type": "stream",
     "text": [
      "\n",
      "chunk:   0%|                                                                                                         | 0/1324 [00:00<?, ?it/s, now=None]\u001b[A\n",
      "chunk:  54%|█████████████████████████████████████████████████▊                                           | 710/1324 [00:00<00:00, 7095.93it/s, now=None]\u001b[A\n",
      "                                                                                                                                                        \u001b[A"
     ]
    },
    {
     "name": "stdout",
     "output_type": "stream",
     "text": [
      "MoviePy - Done.\n",
      "MoviePy - Writing audio in temp_audio.wav\n"
     ]
    },
    {
     "name": "stderr",
     "output_type": "stream",
     "text": [
      "\n",
      "chunk:   0%|                                                                                                         | 0/1324 [00:00<?, ?it/s, now=None]\u001b[A\n",
      "chunk:  61%|████████████████████████████████████████████████████████▍                                    | 804/1324 [00:00<00:00, 8034.38it/s, now=None]\u001b[A\n",
      "                                                                                                                                                        \u001b[A"
     ]
    },
    {
     "name": "stdout",
     "output_type": "stream",
     "text": [
      "MoviePy - Done.\n",
      "MoviePy - Writing audio in temp_audio.wav\n"
     ]
    },
    {
     "name": "stderr",
     "output_type": "stream",
     "text": [
      "\n",
      "chunk:   0%|                                                                                                         | 0/1324 [00:00<?, ?it/s, now=None]\u001b[A\n",
      "chunk:  49%|█████████████████████████████████████████████▏                                               | 643/1324 [00:00<00:00, 6427.85it/s, now=None]\u001b[A\n",
      "chunk:  97%|█████████████████████████████████████████████████████████████████████████████████████████▎  | 1286/1324 [00:00<00:00, 5799.90it/s, now=None]\u001b[A\n",
      "                                                                                                                                                        \u001b[A"
     ]
    },
    {
     "name": "stdout",
     "output_type": "stream",
     "text": [
      "MoviePy - Done.\n",
      "MoviePy - Writing audio in temp_audio.wav\n"
     ]
    },
    {
     "name": "stderr",
     "output_type": "stream",
     "text": [
      "\n",
      "chunk:   0%|                                                                                                         | 0/1324 [00:00<?, ?it/s, now=None]\u001b[A\n",
      "chunk:  50%|██████████████████████████████████████████████▎                                              | 660/1324 [00:00<00:00, 6599.58it/s, now=None]\u001b[A\n",
      "chunk: 100%|███████████████████████████████████████████████████████████████████████████████████████████▋| 1320/1324 [00:00<00:00, 6228.91it/s, now=None]\u001b[A\n",
      "                                                                                                                                                        \u001b[A"
     ]
    },
    {
     "name": "stdout",
     "output_type": "stream",
     "text": [
      "MoviePy - Done.\n",
      "MoviePy - Writing audio in temp_audio.wav\n"
     ]
    },
    {
     "name": "stderr",
     "output_type": "stream",
     "text": [
      "\n",
      "chunk:   0%|                                                                                                         | 0/1324 [00:00<?, ?it/s, now=None]\u001b[A\n",
      "chunk:  54%|██████████████████████████████████████████████████▏                                          | 714/1324 [00:00<00:00, 7028.55it/s, now=None]\u001b[A\n",
      "                                                                                                                                                        \u001b[A"
     ]
    },
    {
     "name": "stdout",
     "output_type": "stream",
     "text": [
      "MoviePy - Done.\n",
      "MoviePy - Writing audio in temp_audio.wav\n"
     ]
    },
    {
     "name": "stderr",
     "output_type": "stream",
     "text": [
      "\n",
      "chunk:   0%|                                                                                                         | 0/1324 [00:00<?, ?it/s, now=None]\u001b[A\n",
      "chunk:  46%|██████████████████████████████████████████▍                                                  | 605/1324 [00:00<00:00, 6045.12it/s, now=None]\u001b[A\n",
      "chunk:  91%|████████████████████████████████████████████████████████████████████████████████████        | 1210/1324 [00:00<00:00, 5704.72it/s, now=None]\u001b[A\n",
      "                                                                                                                                                        \u001b[A"
     ]
    },
    {
     "name": "stdout",
     "output_type": "stream",
     "text": [
      "MoviePy - Done.\n",
      "MoviePy - Writing audio in temp_audio.wav\n"
     ]
    },
    {
     "name": "stderr",
     "output_type": "stream",
     "text": [
      "\n",
      "chunk:   0%|                                                                                                         | 0/1324 [00:00<?, ?it/s, now=None]\u001b[A\n",
      "chunk:  47%|███████████████████████████████████████████▉                                                 | 626/1324 [00:00<00:00, 6255.79it/s, now=None]\u001b[A\n",
      "                                                                                                                                                        \u001b[A"
     ]
    },
    {
     "name": "stdout",
     "output_type": "stream",
     "text": [
      "MoviePy - Done.\n",
      "MoviePy - Writing audio in temp_audio.wav\n"
     ]
    },
    {
     "name": "stderr",
     "output_type": "stream",
     "text": [
      "\n",
      "chunk:   0%|                                                                                                         | 0/1324 [00:00<?, ?it/s, now=None]\u001b[A\n",
      "chunk:  56%|████████████████████████████████████████████████████▏                                        | 743/1324 [00:00<00:00, 7429.78it/s, now=None]\u001b[A\n",
      "                                                                                                                                                        \u001b[A"
     ]
    },
    {
     "name": "stdout",
     "output_type": "stream",
     "text": [
      "MoviePy - Done.\n",
      "MoviePy - Writing audio in temp_audio.wav\n"
     ]
    },
    {
     "name": "stderr",
     "output_type": "stream",
     "text": [
      "\n",
      "chunk:   0%|                                                                                                         | 0/1324 [00:00<?, ?it/s, now=None]\u001b[A\n",
      "chunk:  57%|█████████████████████████████████████████████████████▍                                       | 761/1324 [00:00<00:00, 7606.89it/s, now=None]\u001b[A\n",
      "                                                                                                                                                        \u001b[A"
     ]
    },
    {
     "name": "stdout",
     "output_type": "stream",
     "text": [
      "MoviePy - Done.\n",
      "MoviePy - Writing audio in temp_audio.wav\n"
     ]
    },
    {
     "name": "stderr",
     "output_type": "stream",
     "text": [
      "\n",
      "chunk:   0%|                                                                                                         | 0/1324 [00:00<?, ?it/s, now=None]\u001b[A\n",
      "chunk:  58%|█████████████████████████████████████████████████████▋                                       | 765/1324 [00:00<00:00, 7627.66it/s, now=None]\u001b[A\n",
      "                                                                                                                                                        \u001b[A"
     ]
    },
    {
     "name": "stdout",
     "output_type": "stream",
     "text": [
      "MoviePy - Done.\n",
      "MoviePy - Writing audio in temp_audio.wav\n"
     ]
    },
    {
     "name": "stderr",
     "output_type": "stream",
     "text": [
      "\n",
      "chunk:   0%|                                                                                                         | 0/1324 [00:00<?, ?it/s, now=None]\u001b[A\n",
      "chunk:  54%|██████████████████████████████████████████████████▏                                          | 714/1324 [00:00<00:00, 7003.75it/s, now=None]\u001b[A\n",
      "                                                                                                                                                        \u001b[A"
     ]
    },
    {
     "name": "stdout",
     "output_type": "stream",
     "text": [
      "MoviePy - Done.\n",
      "MoviePy - Writing audio in temp_audio.wav\n"
     ]
    },
    {
     "name": "stderr",
     "output_type": "stream",
     "text": [
      "\n",
      "chunk:   0%|                                                                                                         | 0/1324 [00:00<?, ?it/s, now=None]\u001b[A\n",
      "chunk:  51%|███████████████████████████████████████████████▍                                             | 676/1324 [00:00<00:00, 6757.14it/s, now=None]\u001b[A\n",
      "                                                                                                                                                        \u001b[A"
     ]
    },
    {
     "name": "stdout",
     "output_type": "stream",
     "text": [
      "MoviePy - Done.\n",
      "MoviePy - Writing audio in temp_audio.wav\n"
     ]
    },
    {
     "name": "stderr",
     "output_type": "stream",
     "text": [
      "\n",
      "chunk:   0%|                                                                                                         | 0/1324 [00:00<?, ?it/s, now=None]\u001b[A\n",
      "chunk:  58%|█████████████████████████████████████████████████████▋                                       | 765/1324 [00:00<00:00, 7617.77it/s, now=None]\u001b[A\n",
      "                                                                                                                                                        \u001b[A"
     ]
    },
    {
     "name": "stdout",
     "output_type": "stream",
     "text": [
      "MoviePy - Done.\n",
      "MoviePy - Writing audio in temp_audio.wav\n"
     ]
    },
    {
     "name": "stderr",
     "output_type": "stream",
     "text": [
      "\n",
      "chunk:   0%|                                                                                                         | 0/1324 [00:00<?, ?it/s, now=None]\u001b[A\n",
      "chunk:  58%|█████████████████████████████████████████████████████▉                                       | 767/1324 [00:00<00:00, 7664.20it/s, now=None]\u001b[A\n",
      "                                                                                                                                                        \u001b[A"
     ]
    },
    {
     "name": "stdout",
     "output_type": "stream",
     "text": [
      "MoviePy - Done.\n",
      "MoviePy - Writing audio in temp_audio.wav\n"
     ]
    },
    {
     "name": "stderr",
     "output_type": "stream",
     "text": [
      "\n",
      "chunk:   0%|                                                                                                         | 0/1324 [00:00<?, ?it/s, now=None]\u001b[A\n",
      "chunk:  49%|██████████████████████████████████████████████                                               | 655/1324 [00:00<00:00, 6548.24it/s, now=None]\u001b[A\n",
      "chunk:  99%|███████████████████████████████████████████████████████████████████████████████████████████ | 1310/1324 [00:00<00:00, 6336.13it/s, now=None]\u001b[A\n",
      "                                                                                                                                                        \u001b[A"
     ]
    },
    {
     "name": "stdout",
     "output_type": "stream",
     "text": [
      "MoviePy - Done.\n",
      "MoviePy - Writing audio in temp_audio.wav\n"
     ]
    },
    {
     "name": "stderr",
     "output_type": "stream",
     "text": [
      "\n",
      "chunk:   0%|                                                                                                         | 0/1324 [00:00<?, ?it/s, now=None]\u001b[A\n",
      "chunk:  61%|████████████████████████████████████████████████████████▋                                    | 807/1324 [00:00<00:00, 8069.91it/s, now=None]\u001b[A\n",
      "                                                                                                                                                        \u001b[A"
     ]
    },
    {
     "name": "stdout",
     "output_type": "stream",
     "text": [
      "MoviePy - Done.\n",
      "MoviePy - Writing audio in temp_audio.wav\n"
     ]
    },
    {
     "name": "stderr",
     "output_type": "stream",
     "text": [
      "\n",
      "chunk:   0%|                                                                                                         | 0/1324 [00:00<?, ?it/s, now=None]\u001b[A\n",
      "chunk:  58%|█████████████████████████████████████████████████████▋                                       | 765/1324 [00:00<00:00, 7604.64it/s, now=None]\u001b[A\n",
      "                                                                                                                                                        \u001b[A"
     ]
    },
    {
     "name": "stdout",
     "output_type": "stream",
     "text": [
      "MoviePy - Done.\n",
      "MoviePy - Writing audio in temp_audio.wav\n"
     ]
    },
    {
     "name": "stderr",
     "output_type": "stream",
     "text": [
      "\n",
      "chunk:   0%|                                                                                                         | 0/1324 [00:00<?, ?it/s, now=None]\u001b[A\n",
      "chunk:  54%|██████████████████████████████████████████████████▏                                          | 714/1324 [00:00<00:00, 7077.92it/s, now=None]\u001b[A\n",
      "                                                                                                                                                        \u001b[A"
     ]
    },
    {
     "name": "stdout",
     "output_type": "stream",
     "text": [
      "MoviePy - Done.\n",
      "MoviePy - Writing audio in temp_audio.wav\n"
     ]
    },
    {
     "name": "stderr",
     "output_type": "stream",
     "text": [
      "\n",
      "chunk:   0%|                                                                                                         | 0/1172 [00:00<?, ?it/s, now=None]\u001b[A\n",
      "chunk:  50%|██████████████████████████████████████████████▋                                              | 589/1172 [00:00<00:00, 5886.30it/s, now=None]\u001b[A\n",
      "                                                                                                                                                        \u001b[A"
     ]
    },
    {
     "name": "stdout",
     "output_type": "stream",
     "text": [
      "MoviePy - Done.\n",
      "MoviePy - Writing audio in temp_audio.wav\n"
     ]
    },
    {
     "name": "stderr",
     "output_type": "stream",
     "text": [
      "\n",
      "chunk:   0%|                                                                                                         | 0/1324 [00:00<?, ?it/s, now=None]\u001b[A\n",
      "chunk:  58%|█████████████████████████████████████████████████████▌                                       | 762/1324 [00:00<00:00, 7619.68it/s, now=None]\u001b[A\n",
      "                                                                                                                                                        \u001b[A"
     ]
    },
    {
     "name": "stdout",
     "output_type": "stream",
     "text": [
      "MoviePy - Done.\n",
      "MoviePy - Writing audio in temp_audio.wav\n"
     ]
    },
    {
     "name": "stderr",
     "output_type": "stream",
     "text": [
      "\n",
      "chunk:   0%|                                                                                                          | 0/353 [00:00<?, ?it/s, now=None]\u001b[A\n",
      "                                                                                                                                                        \u001b[A"
     ]
    },
    {
     "name": "stdout",
     "output_type": "stream",
     "text": [
      "MoviePy - Done.\n",
      "MoviePy - Writing audio in temp_audio.wav\n"
     ]
    },
    {
     "name": "stderr",
     "output_type": "stream",
     "text": [
      "\n",
      "chunk:   0%|                                                                                                         | 0/1324 [00:00<?, ?it/s, now=None]\u001b[A\n",
      "chunk:  55%|███████████████████████████████████████████████████▍                                         | 733/1324 [00:00<00:00, 7323.67it/s, now=None]\u001b[A\n",
      "                                                                                                                                                        \u001b[A"
     ]
    },
    {
     "name": "stdout",
     "output_type": "stream",
     "text": [
      "MoviePy - Done.\n",
      "MoviePy - Writing audio in temp_audio.wav\n"
     ]
    },
    {
     "name": "stderr",
     "output_type": "stream",
     "text": [
      "\n",
      "chunk:   0%|                                                                                                         | 0/1324 [00:00<?, ?it/s, now=None]\u001b[A\n",
      "chunk:  58%|█████████████████████████████████████████████████████▋                                       | 765/1324 [00:00<00:00, 7580.37it/s, now=None]\u001b[A\n",
      "                                                                                                                                                        \u001b[A"
     ]
    },
    {
     "name": "stdout",
     "output_type": "stream",
     "text": [
      "MoviePy - Done.\n",
      "MoviePy - Writing audio in temp_audio.wav\n"
     ]
    },
    {
     "name": "stderr",
     "output_type": "stream",
     "text": [
      "\n",
      "chunk:   0%|                                                                                                         | 0/1052 [00:00<?, ?it/s, now=None]\u001b[A\n",
      "chunk:  73%|████████████████████████████████████████████████████████████████████▏                        | 772/1052 [00:00<00:00, 7716.03it/s, now=None]\u001b[A\n",
      "                                                                                                                                                        \u001b[A"
     ]
    },
    {
     "name": "stdout",
     "output_type": "stream",
     "text": [
      "MoviePy - Done.\n",
      "MoviePy - Writing audio in temp_audio.wav\n"
     ]
    },
    {
     "name": "stderr",
     "output_type": "stream",
     "text": [
      "\n",
      "chunk:   0%|                                                                                                         | 0/1324 [00:00<?, ?it/s, now=None]\u001b[A\n",
      "chunk:  57%|████████████████████████████████████████████████████▊                                        | 751/1324 [00:00<00:00, 7509.54it/s, now=None]\u001b[A\n",
      "                                                                                                                                                        \u001b[A"
     ]
    },
    {
     "name": "stdout",
     "output_type": "stream",
     "text": [
      "MoviePy - Done.\n",
      "MoviePy - Writing audio in temp_audio.wav\n"
     ]
    },
    {
     "name": "stderr",
     "output_type": "stream",
     "text": [
      "\n",
      "chunk:   0%|                                                                                                         | 0/1324 [00:00<?, ?it/s, now=None]\u001b[A\n",
      "chunk:  60%|███████████████████████████████████████████████████████▊                                     | 795/1324 [00:00<00:00, 7944.72it/s, now=None]\u001b[A\n",
      "                                                                                                                                                        \u001b[A"
     ]
    },
    {
     "name": "stdout",
     "output_type": "stream",
     "text": [
      "MoviePy - Done.\n",
      "MoviePy - Writing audio in temp_audio.wav\n"
     ]
    },
    {
     "name": "stderr",
     "output_type": "stream",
     "text": [
      "\n",
      "chunk:   0%|                                                                                                          | 0/886 [00:00<?, ?it/s, now=None]\u001b[A\n",
      "chunk:  58%|██████████████████████████████████████████████████████                                        | 510/886 [00:00<00:00, 2500.77it/s, now=None]\u001b[A\n",
      "                                                                                                                                                        \u001b[A"
     ]
    },
    {
     "name": "stdout",
     "output_type": "stream",
     "text": [
      "MoviePy - Done.\n",
      "MoviePy - Writing audio in temp_audio.wav\n"
     ]
    },
    {
     "name": "stderr",
     "output_type": "stream",
     "text": [
      "\n",
      "chunk:   0%|                                                                                                         | 0/1324 [00:00<?, ?it/s, now=None]\u001b[A\n",
      "chunk:  57%|█████████████████████████████████████████████████████▍                                       | 760/1324 [00:00<00:00, 7592.71it/s, now=None]\u001b[A\n",
      "                                                                                                                                                        \u001b[A"
     ]
    },
    {
     "name": "stdout",
     "output_type": "stream",
     "text": [
      "MoviePy - Done.\n",
      "MoviePy - Writing audio in temp_audio.wav\n"
     ]
    },
    {
     "name": "stderr",
     "output_type": "stream",
     "text": [
      "\n",
      "chunk:   0%|                                                                                                         | 0/1324 [00:00<?, ?it/s, now=None]\u001b[A\n",
      "chunk:  47%|███████████████████████████████████████████▌                                                 | 621/1324 [00:00<00:00, 6204.61it/s, now=None]\u001b[A\n",
      "chunk:  96%|███████████████████████████████████████████████████████████████████████████████████████▉    | 1266/1324 [00:00<00:00, 6346.37it/s, now=None]\u001b[A\n",
      "                                                                                                                                                        \u001b[A"
     ]
    },
    {
     "name": "stdout",
     "output_type": "stream",
     "text": [
      "MoviePy - Done.\n",
      "MoviePy - Writing audio in temp_audio.wav\n"
     ]
    },
    {
     "name": "stderr",
     "output_type": "stream",
     "text": [
      "\n",
      "chunk:   0%|                                                                                                         | 0/1324 [00:00<?, ?it/s, now=None]\u001b[A\n",
      "chunk:  39%|███████████████████████████████████▊                                                         | 510/1324 [00:00<00:00, 4963.36it/s, now=None]\u001b[A\n",
      "chunk:  77%|██████████████████████████████████████████████████████████████████████▉                     | 1020/1324 [00:00<00:00, 4944.22it/s, now=None]\u001b[A\n",
      "                                                                                                                                                        \u001b[A"
     ]
    },
    {
     "name": "stdout",
     "output_type": "stream",
     "text": [
      "MoviePy - Done.\n",
      "MoviePy - Writing audio in temp_audio.wav\n"
     ]
    },
    {
     "name": "stderr",
     "output_type": "stream",
     "text": [
      "\n",
      "chunk:   0%|                                                                                                         | 0/1324 [00:00<?, ?it/s, now=None]\u001b[A\n",
      "chunk:  39%|███████████████████████████████████▊                                                         | 510/1324 [00:00<00:00, 5055.66it/s, now=None]\u001b[A\n",
      "chunk:  77%|██████████████████████████████████████████████████████████████████████▌                     | 1016/1324 [00:00<00:00, 4517.42it/s, now=None]\u001b[A\n",
      "                                                                                                                                                        \u001b[A"
     ]
    },
    {
     "name": "stdout",
     "output_type": "stream",
     "text": [
      "MoviePy - Done.\n",
      "MoviePy - Writing audio in temp_audio.wav\n"
     ]
    },
    {
     "name": "stderr",
     "output_type": "stream",
     "text": [
      "\n",
      "chunk:   0%|                                                                                                         | 0/1324 [00:00<?, ?it/s, now=None]\u001b[A\n",
      "chunk:  39%|███████████████████████████████████▊                                                         | 510/1324 [00:00<00:00, 5012.92it/s, now=None]\u001b[A\n",
      "chunk:  76%|██████████████████████████████████████████████████████████████████████▎                     | 1012/1324 [00:00<00:00, 4925.78it/s, now=None]\u001b[A\n",
      "                                                                                                                                                        \u001b[A"
     ]
    },
    {
     "name": "stdout",
     "output_type": "stream",
     "text": [
      "MoviePy - Done.\n",
      "MoviePy - Writing audio in temp_audio.wav\n"
     ]
    },
    {
     "name": "stderr",
     "output_type": "stream",
     "text": [
      "\n",
      "chunk:   0%|                                                                                                         | 0/1324 [00:00<?, ?it/s, now=None]\u001b[A\n",
      "chunk:  43%|███████████████████████████████████████▌                                                     | 563/1324 [00:00<00:00, 5626.87it/s, now=None]\u001b[A\n",
      "chunk:  85%|██████████████████████████████████████████████████████████████████████████████▏             | 1126/1324 [00:00<00:00, 5042.68it/s, now=None]\u001b[A\n",
      "                                                                                                                                                        \u001b[A"
     ]
    },
    {
     "name": "stdout",
     "output_type": "stream",
     "text": [
      "MoviePy - Done.\n",
      "MoviePy - Writing audio in temp_audio.wav\n"
     ]
    },
    {
     "name": "stderr",
     "output_type": "stream",
     "text": [
      "\n",
      "chunk:   0%|                                                                                                          | 0/957 [00:00<?, ?it/s, now=None]\u001b[A\n",
      "chunk:  52%|████████████████████████████████████████████████▌                                             | 494/957 [00:00<00:00, 4938.62it/s, now=None]\u001b[A\n",
      "                                                                                                                                                        \u001b[A"
     ]
    },
    {
     "name": "stdout",
     "output_type": "stream",
     "text": [
      "MoviePy - Done.\n",
      "MoviePy - Writing audio in temp_audio.wav\n"
     ]
    },
    {
     "name": "stderr",
     "output_type": "stream",
     "text": [
      "\n",
      "chunk:   0%|                                                                                                         | 0/1324 [00:00<?, ?it/s, now=None]\u001b[A\n",
      "chunk:  41%|██████████████████████████████████████                                                       | 542/1324 [00:00<00:00, 5419.68it/s, now=None]\u001b[A\n",
      "chunk:  82%|███████████████████████████████████████████████████████████████████████████▎                | 1084/1324 [00:00<00:00, 4840.07it/s, now=None]\u001b[A\n",
      "                                                                                                                                                        \u001b[A"
     ]
    },
    {
     "name": "stdout",
     "output_type": "stream",
     "text": [
      "MoviePy - Done.\n",
      "MoviePy - Writing audio in temp_audio.wav\n"
     ]
    },
    {
     "name": "stderr",
     "output_type": "stream",
     "text": [
      "\n",
      "chunk:   0%|                                                                                                         | 0/1298 [00:00<?, ?it/s, now=None]\u001b[A\n",
      "chunk:  43%|████████████████████████████████████████▏                                                    | 561/1298 [00:00<00:00, 5516.08it/s, now=None]\u001b[A\n",
      "chunk:  86%|██████████████████████████████████████████████████████████████████████████████▉             | 1113/1298 [00:00<00:00, 5130.13it/s, now=None]\u001b[A\n",
      "                                                                                                                                                        \u001b[A"
     ]
    },
    {
     "name": "stdout",
     "output_type": "stream",
     "text": [
      "MoviePy - Done.\n",
      "MoviePy - Writing audio in temp_audio.wav\n"
     ]
    },
    {
     "name": "stderr",
     "output_type": "stream",
     "text": [
      "\n",
      "chunk:   0%|                                                                                                         | 0/1324 [00:00<?, ?it/s, now=None]\u001b[A\n",
      "chunk:  46%|██████████████████████████████████████████▉                                                  | 612/1324 [00:00<00:00, 5987.14it/s, now=None]\u001b[A\n",
      "chunk:  91%|████████████████████████████████████████████████████████████████████████████████████▏       | 1211/1324 [00:00<00:00, 5907.11it/s, now=None]\u001b[A\n",
      "                                                                                                                                                        \u001b[A"
     ]
    },
    {
     "name": "stdout",
     "output_type": "stream",
     "text": [
      "MoviePy - Done.\n",
      "MoviePy - Writing audio in temp_audio.wav\n"
     ]
    },
    {
     "name": "stderr",
     "output_type": "stream",
     "text": [
      "\n",
      "chunk:   0%|                                                                                                         | 0/1324 [00:00<?, ?it/s, now=None]\u001b[A\n",
      "chunk:  23%|█████████████████████▍                                                                       | 306/1324 [00:00<00:00, 3058.22it/s, now=None]\u001b[A\n",
      "chunk:  57%|█████████████████████████████████████████████████████▍                                       | 761/1324 [00:00<00:00, 3934.72it/s, now=None]\u001b[A\n",
      "                                                                                                                                                        \u001b[A"
     ]
    },
    {
     "name": "stdout",
     "output_type": "stream",
     "text": [
      "MoviePy - Done.\n",
      "MoviePy - Writing audio in temp_audio.wav\n"
     ]
    },
    {
     "name": "stderr",
     "output_type": "stream",
     "text": [
      "\n",
      "chunk:   0%|                                                                                                         | 0/1324 [00:00<?, ?it/s, now=None]\u001b[A\n",
      "chunk:  46%|██████████████████████████████████████████▉                                                  | 612/1324 [00:00<00:00, 6019.95it/s, now=None]\u001b[A\n",
      "chunk:  96%|████████████████████████████████████████████████████████████████████████████████████████▋   | 1276/1324 [00:00<00:00, 6381.28it/s, now=None]\u001b[A\n",
      "                                                                                                                                                        \u001b[A"
     ]
    },
    {
     "name": "stdout",
     "output_type": "stream",
     "text": [
      "MoviePy - Done.\n",
      "MoviePy - Writing audio in temp_audio.wav\n"
     ]
    },
    {
     "name": "stderr",
     "output_type": "stream",
     "text": [
      "\n",
      "chunk:   0%|                                                                                                         | 0/1308 [00:00<?, ?it/s, now=None]\u001b[A\n",
      "chunk:  55%|██████████████████████████████████████████████████▊                                          | 714/1308 [00:00<00:00, 7100.41it/s, now=None]\u001b[A\n",
      "                                                                                                                                                        \u001b[A"
     ]
    },
    {
     "name": "stdout",
     "output_type": "stream",
     "text": [
      "MoviePy - Done.\n",
      "MoviePy - Writing audio in temp_audio.wav\n"
     ]
    },
    {
     "name": "stderr",
     "output_type": "stream",
     "text": [
      "\n",
      "chunk:   0%|                                                                                                         | 0/1324 [00:00<?, ?it/s, now=None]\u001b[A\n",
      "chunk:  58%|██████████████████████████████████████████████████████                                       | 769/1324 [00:00<00:00, 7688.16it/s, now=None]\u001b[A\n",
      "                                                                                                                                                        \u001b[A"
     ]
    },
    {
     "name": "stdout",
     "output_type": "stream",
     "text": [
      "MoviePy - Done.\n",
      "MoviePy - Writing audio in temp_audio.wav\n"
     ]
    },
    {
     "name": "stderr",
     "output_type": "stream",
     "text": [
      "\n",
      "chunk:   0%|                                                                                                         | 0/1324 [00:00<?, ?it/s, now=None]\u001b[A\n",
      "chunk:  50%|██████████████████████████████████████████████▌                                              | 663/1324 [00:00<00:00, 6555.81it/s, now=None]\u001b[A\n",
      "                                                                                                                                                        \u001b[A"
     ]
    },
    {
     "name": "stdout",
     "output_type": "stream",
     "text": [
      "MoviePy - Done.\n",
      "MoviePy - Writing audio in temp_audio.wav\n"
     ]
    },
    {
     "name": "stderr",
     "output_type": "stream",
     "text": [
      "\n",
      "chunk:   0%|                                                                                                         | 0/1324 [00:00<?, ?it/s, now=None]\u001b[A\n",
      "chunk:  51%|███████████████████████████████████████████████▊                                             | 680/1324 [00:00<00:00, 6796.85it/s, now=None]\u001b[A\n",
      "                                                                                                                                                        \u001b[A"
     ]
    },
    {
     "name": "stdout",
     "output_type": "stream",
     "text": [
      "MoviePy - Done.\n",
      "MoviePy - Writing audio in temp_audio.wav\n"
     ]
    },
    {
     "name": "stderr",
     "output_type": "stream",
     "text": [
      "\n",
      "chunk:   0%|                                                                                                          | 0/854 [00:00<?, ?it/s, now=None]\u001b[A\n",
      "chunk:  82%|████████████████████████████████████████████████████████████████████████████▋                 | 697/854 [00:00<00:00, 6968.51it/s, now=None]\u001b[A\n",
      "                                                                                                                                                        \u001b[A"
     ]
    },
    {
     "name": "stdout",
     "output_type": "stream",
     "text": [
      "MoviePy - Done.\n",
      "MoviePy - Writing audio in temp_audio.wav\n"
     ]
    },
    {
     "name": "stderr",
     "output_type": "stream",
     "text": [
      "\n",
      "chunk:   0%|                                                                                                         | 0/1324 [00:00<?, ?it/s, now=None]\u001b[A\n",
      "chunk:  46%|██████████████████████████████████████████▉                                                  | 612/1324 [00:00<00:00, 6091.84it/s, now=None]\u001b[A\n",
      "chunk:  96%|████████████████████████████████████████████████████████████████████████████████████████▌   | 1275/1324 [00:00<00:00, 6297.48it/s, now=None]\u001b[A\n",
      "                                                                                                                                                        \u001b[A"
     ]
    },
    {
     "name": "stdout",
     "output_type": "stream",
     "text": [
      "MoviePy - Done.\n",
      "MoviePy - Writing audio in temp_audio.wav\n"
     ]
    },
    {
     "name": "stderr",
     "output_type": "stream",
     "text": [
      "\n",
      "chunk:   0%|                                                                                                         | 0/1324 [00:00<?, ?it/s, now=None]\u001b[A\n",
      "chunk:  52%|████████████████████████████████████████████████▍                                            | 689/1324 [00:00<00:00, 6889.40it/s, now=None]\u001b[A\n",
      "                                                                                                                                                        \u001b[A"
     ]
    },
    {
     "name": "stdout",
     "output_type": "stream",
     "text": [
      "MoviePy - Done.\n",
      "MoviePy - Writing audio in temp_audio.wav\n"
     ]
    },
    {
     "name": "stderr",
     "output_type": "stream",
     "text": [
      "\n",
      "chunk:   0%|                                                                                                         | 0/1324 [00:00<?, ?it/s, now=None]\u001b[A\n",
      "chunk:  54%|██████████████████████████████████████████████████▏                                          | 714/1324 [00:00<00:00, 7126.65it/s, now=None]\u001b[A\n",
      "                                                                                                                                                        \u001b[A"
     ]
    },
    {
     "name": "stdout",
     "output_type": "stream",
     "text": [
      "MoviePy - Done.\n",
      "MoviePy - Writing audio in temp_audio.wav\n"
     ]
    },
    {
     "name": "stderr",
     "output_type": "stream",
     "text": [
      "\n",
      "chunk:   0%|                                                                                                         | 0/1324 [00:00<?, ?it/s, now=None]\u001b[A\n",
      "chunk:  50%|██████████████████████████████████████████████▋                                              | 664/1324 [00:00<00:00, 6637.57it/s, now=None]\u001b[A\n",
      "                                                                                                                                                        \u001b[A"
     ]
    },
    {
     "name": "stdout",
     "output_type": "stream",
     "text": [
      "MoviePy - Done.\n",
      "MoviePy - Writing audio in temp_audio.wav\n"
     ]
    },
    {
     "name": "stderr",
     "output_type": "stream",
     "text": [
      "\n",
      "chunk:   0%|                                                                                                         | 0/1324 [00:00<?, ?it/s, now=None]\u001b[A\n",
      "chunk:  54%|██████████████████████████████████████████████████▏                                          | 714/1324 [00:00<00:00, 6991.31it/s, now=None]\u001b[A\n",
      "                                                                                                                                                        \u001b[A"
     ]
    },
    {
     "name": "stdout",
     "output_type": "stream",
     "text": [
      "MoviePy - Done.\n",
      "MoviePy - Writing audio in temp_audio.wav\n"
     ]
    },
    {
     "name": "stderr",
     "output_type": "stream",
     "text": [
      "\n",
      "chunk:   0%|                                                                                                         | 0/1324 [00:00<?, ?it/s, now=None]\u001b[A\n",
      "chunk:  54%|██████████████████████████████████████████████████▏                                          | 714/1324 [00:00<00:00, 7049.02it/s, now=None]\u001b[A\n",
      "                                                                                                                                                        \u001b[A"
     ]
    },
    {
     "name": "stdout",
     "output_type": "stream",
     "text": [
      "MoviePy - Done.\n",
      "MoviePy - Writing audio in temp_audio.wav\n"
     ]
    },
    {
     "name": "stderr",
     "output_type": "stream",
     "text": [
      "\n",
      "chunk:   0%|                                                                                                         | 0/1324 [00:00<?, ?it/s, now=None]\u001b[A\n",
      "chunk:  56%|████████████████████████████████████████████████████▎                                        | 745/1324 [00:00<00:00, 7443.42it/s, now=None]\u001b[A\n",
      "                                                                                                                                                        \u001b[A"
     ]
    },
    {
     "name": "stdout",
     "output_type": "stream",
     "text": [
      "MoviePy - Done.\n",
      "MoviePy - Writing audio in temp_audio.wav\n"
     ]
    },
    {
     "name": "stderr",
     "output_type": "stream",
     "text": [
      "\n",
      "chunk:   0%|                                                                                                         | 0/1324 [00:00<?, ?it/s, now=None]\u001b[A\n",
      "chunk:  52%|████████████████████████████████████████████████                                             | 685/1324 [00:00<00:00, 6846.63it/s, now=None]\u001b[A\n",
      "                                                                                                                                                        \u001b[A"
     ]
    },
    {
     "name": "stdout",
     "output_type": "stream",
     "text": [
      "MoviePy - Done.\n",
      "MoviePy - Writing audio in temp_audio.wav\n"
     ]
    },
    {
     "name": "stderr",
     "output_type": "stream",
     "text": [
      "\n",
      "chunk:   0%|                                                                                                         | 0/1324 [00:00<?, ?it/s, now=None]\u001b[A\n",
      "chunk:  46%|██████████████████████████████████████████▉                                                  | 612/1324 [00:00<00:00, 6098.95it/s, now=None]\u001b[A\n",
      "chunk:  94%|██████████████████████████████████████████████████████████████████████████████████████      | 1238/1324 [00:00<00:00, 6191.09it/s, now=None]\u001b[A\n",
      "                                                                                                                                                        \u001b[A"
     ]
    },
    {
     "name": "stdout",
     "output_type": "stream",
     "text": [
      "MoviePy - Done.\n",
      "MoviePy - Writing audio in temp_audio.wav\n"
     ]
    },
    {
     "name": "stderr",
     "output_type": "stream",
     "text": [
      "\n",
      "chunk:   0%|                                                                                                         | 0/1324 [00:00<?, ?it/s, now=None]\u001b[A\n",
      "chunk:  51%|███████████████████████████████████████████████                                              | 670/1324 [00:00<00:00, 6698.65it/s, now=None]\u001b[A\n",
      "                                                                                                                                                        \u001b[A"
     ]
    },
    {
     "name": "stdout",
     "output_type": "stream",
     "text": [
      "MoviePy - Done.\n",
      "MoviePy - Writing audio in temp_audio.wav\n"
     ]
    },
    {
     "name": "stderr",
     "output_type": "stream",
     "text": [
      "\n",
      "chunk:   0%|                                                                                                         | 0/1324 [00:00<?, ?it/s, now=None]\u001b[A\n",
      "chunk:  52%|███████████████████████████████████████████████▉                                             | 682/1324 [00:00<00:00, 6814.66it/s, now=None]\u001b[A\n",
      "                                                                                                                                                        \u001b[A"
     ]
    },
    {
     "name": "stdout",
     "output_type": "stream",
     "text": [
      "MoviePy - Done.\n",
      "MoviePy - Writing audio in temp_audio.wav\n"
     ]
    },
    {
     "name": "stderr",
     "output_type": "stream",
     "text": [
      "\n",
      "chunk:   0%|                                                                                                         | 0/1324 [00:00<?, ?it/s, now=None]\u001b[A\n",
      "chunk:  54%|██████████████████████████████████████████████████▏                                          | 714/1324 [00:00<00:00, 7113.89it/s, now=None]\u001b[A\n",
      "                                                                                                                                                        \u001b[A"
     ]
    },
    {
     "name": "stdout",
     "output_type": "stream",
     "text": [
      "MoviePy - Done.\n",
      "MoviePy - Writing audio in temp_audio.wav\n"
     ]
    },
    {
     "name": "stderr",
     "output_type": "stream",
     "text": [
      "\n",
      "chunk:   0%|                                                                                                         | 0/1324 [00:00<?, ?it/s, now=None]\u001b[A\n",
      "chunk:  47%|███████████████████████████████████████████▊                                                 | 623/1324 [00:00<00:00, 6229.34it/s, now=None]\u001b[A\n",
      "chunk:  99%|███████████████████████████████████████████████████████████████████████████████████████████▎| 1315/1324 [00:00<00:00, 6633.84it/s, now=None]\u001b[A\n",
      "                                                                                                                                                        \u001b[A"
     ]
    },
    {
     "name": "stdout",
     "output_type": "stream",
     "text": [
      "MoviePy - Done.\n",
      "MoviePy - Writing audio in temp_audio.wav\n"
     ]
    },
    {
     "name": "stderr",
     "output_type": "stream",
     "text": [
      "\n",
      "chunk:   0%|                                                                                                         | 0/1324 [00:00<?, ?it/s, now=None]\u001b[A\n",
      "chunk:  54%|██████████████████████████████████████████████████▏                                          | 714/1324 [00:00<00:00, 6785.61it/s, now=None]\u001b[A\n",
      "                                                                                                                                                        \u001b[A"
     ]
    },
    {
     "name": "stdout",
     "output_type": "stream",
     "text": [
      "MoviePy - Done.\n",
      "MoviePy - Writing audio in temp_audio.wav\n"
     ]
    },
    {
     "name": "stderr",
     "output_type": "stream",
     "text": [
      "\n",
      "chunk:   0%|                                                                                                         | 0/1324 [00:00<?, ?it/s, now=None]\u001b[A\n",
      "chunk:  54%|██████████████████████████████████████████████████▏                                          | 714/1324 [00:00<00:00, 6998.36it/s, now=None]\u001b[A\n",
      "                                                                                                                                                        \u001b[A"
     ]
    },
    {
     "name": "stdout",
     "output_type": "stream",
     "text": [
      "MoviePy - Done.\n",
      "MoviePy - Writing audio in temp_audio.wav\n"
     ]
    },
    {
     "name": "stderr",
     "output_type": "stream",
     "text": [
      "\n",
      "chunk:   0%|                                                                                                         | 0/1324 [00:00<?, ?it/s, now=None]\u001b[A\n",
      "chunk:  53%|█████████████████████████████████████████████████▏                                           | 700/1324 [00:00<00:00, 6995.39it/s, now=None]\u001b[A\n",
      "                                                                                                                                                        \u001b[A"
     ]
    },
    {
     "name": "stdout",
     "output_type": "stream",
     "text": [
      "MoviePy - Done.\n",
      "MoviePy - Writing audio in temp_audio.wav\n"
     ]
    },
    {
     "name": "stderr",
     "output_type": "stream",
     "text": [
      "\n",
      "chunk:   0%|                                                                                                         | 0/1324 [00:00<?, ?it/s, now=None]\u001b[A\n",
      "chunk:  51%|███████████████████████████████████████████████▏                                             | 672/1324 [00:00<00:00, 6717.76it/s, now=None]\u001b[A\n",
      "                                                                                                                                                        \u001b[A"
     ]
    },
    {
     "name": "stdout",
     "output_type": "stream",
     "text": [
      "MoviePy - Done.\n",
      "MoviePy - Writing audio in temp_audio.wav\n"
     ]
    },
    {
     "name": "stderr",
     "output_type": "stream",
     "text": [
      "\n",
      "chunk:   0%|                                                                                                         | 0/1324 [00:00<?, ?it/s, now=None]\u001b[A\n",
      "chunk:  54%|██████████████████████████████████████████████████▏                                          | 714/1324 [00:00<00:00, 7062.15it/s, now=None]\u001b[A\n",
      "                                                                                                                                                        \u001b[A"
     ]
    },
    {
     "name": "stdout",
     "output_type": "stream",
     "text": [
      "MoviePy - Done.\n",
      "MoviePy - Writing audio in temp_audio.wav\n"
     ]
    },
    {
     "name": "stderr",
     "output_type": "stream",
     "text": [
      "\n",
      "chunk:   0%|                                                                                                         | 0/1324 [00:00<?, ?it/s, now=None]\u001b[A\n",
      "chunk:  54%|██████████████████████████████████████████████████▏                                          | 714/1324 [00:00<00:00, 7022.14it/s, now=None]\u001b[A\n",
      "                                                                                                                                                        \u001b[A"
     ]
    },
    {
     "name": "stdout",
     "output_type": "stream",
     "text": [
      "MoviePy - Done.\n",
      "MoviePy - Writing audio in temp_audio.wav\n"
     ]
    },
    {
     "name": "stderr",
     "output_type": "stream",
     "text": [
      "\n",
      "chunk:   0%|                                                                                                         | 0/1324 [00:00<?, ?it/s, now=None]\u001b[A\n",
      "chunk:  54%|██████████████████████████████████████████████████▏                                          | 714/1324 [00:00<00:00, 7113.70it/s, now=None]\u001b[A\n",
      "                                                                                                                                                        \u001b[A"
     ]
    },
    {
     "name": "stdout",
     "output_type": "stream",
     "text": [
      "MoviePy - Done.\n",
      "MoviePy - Writing audio in temp_audio.wav\n"
     ]
    },
    {
     "name": "stderr",
     "output_type": "stream",
     "text": [
      "\n",
      "chunk:   0%|                                                                                                         | 0/1324 [00:00<?, ?it/s, now=None]\u001b[A\n",
      "chunk:  54%|██████████████████████████████████████████████████▏                                          | 714/1324 [00:00<00:00, 6989.07it/s, now=None]\u001b[A\n",
      "                                                                                                                                                        \u001b[A"
     ]
    },
    {
     "name": "stdout",
     "output_type": "stream",
     "text": [
      "MoviePy - Done.\n",
      "MoviePy - Writing audio in temp_audio.wav\n"
     ]
    },
    {
     "name": "stderr",
     "output_type": "stream",
     "text": [
      "\n",
      "chunk:   0%|                                                                                                         | 0/1324 [00:00<?, ?it/s, now=None]\u001b[A\n",
      "chunk:  56%|████████████████████████████████████████████████████▎                                        | 744/1324 [00:00<00:00, 7437.35it/s, now=None]\u001b[A\n",
      "                                                                                                                                                        \u001b[A"
     ]
    },
    {
     "name": "stdout",
     "output_type": "stream",
     "text": [
      "MoviePy - Done.\n",
      "MoviePy - Writing audio in temp_audio.wav\n"
     ]
    },
    {
     "name": "stderr",
     "output_type": "stream",
     "text": [
      "\n",
      "chunk:   0%|                                                                                                         | 0/1324 [00:00<?, ?it/s, now=None]\u001b[A\n",
      "chunk:  58%|█████████████████████████████████████████████████████▋                                       | 765/1324 [00:00<00:00, 7511.13it/s, now=None]\u001b[A\n",
      "                                                                                                                                                        \u001b[A"
     ]
    },
    {
     "name": "stdout",
     "output_type": "stream",
     "text": [
      "MoviePy - Done.\n",
      "MoviePy - Writing audio in temp_audio.wav\n"
     ]
    },
    {
     "name": "stderr",
     "output_type": "stream",
     "text": [
      "\n",
      "chunk:   0%|                                                                                                         | 0/1324 [00:00<?, ?it/s, now=None]\u001b[A\n",
      "chunk:  52%|████████████████████████████████████████████████▌                                            | 692/1324 [00:00<00:00, 6919.61it/s, now=None]\u001b[A\n",
      "                                                                                                                                                        \u001b[A"
     ]
    },
    {
     "name": "stdout",
     "output_type": "stream",
     "text": [
      "MoviePy - Done.\n",
      "MoviePy - Writing audio in temp_audio.wav\n"
     ]
    },
    {
     "name": "stderr",
     "output_type": "stream",
     "text": [
      "\n",
      "chunk:   0%|                                                                                                         | 0/1324 [00:00<?, ?it/s, now=None]\u001b[A\n",
      "chunk:  20%|██████████████████▎                                                                          | 260/1324 [00:00<00:00, 2598.81it/s, now=None]\u001b[A\n",
      "chunk:  52%|████████████████████████████████████████████████▊                                            | 695/1324 [00:00<00:00, 3627.81it/s, now=None]\u001b[A\n",
      "chunk:  81%|██████████████████████████████████████████████████████████████████████████                  | 1066/1324 [00:00<00:00, 3664.22it/s, now=None]\u001b[A\n",
      "                                                                                                                                                        \u001b[A"
     ]
    },
    {
     "name": "stdout",
     "output_type": "stream",
     "text": [
      "MoviePy - Done.\n",
      "MoviePy - Writing audio in temp_audio.wav\n"
     ]
    },
    {
     "name": "stderr",
     "output_type": "stream",
     "text": [
      "\n",
      "chunk:   0%|                                                                                                         | 0/1324 [00:00<?, ?it/s, now=None]\u001b[A\n",
      "chunk:  40%|█████████████████████████████████████▌                                                       | 535/1324 [00:00<00:00, 5347.32it/s, now=None]\u001b[A\n",
      "chunk:  89%|█████████████████████████████████████████████████████████████████████████████████▌          | 1173/1324 [00:00<00:00, 5946.42it/s, now=None]\u001b[A\n",
      "                                                                                                                                                        \u001b[A"
     ]
    },
    {
     "name": "stdout",
     "output_type": "stream",
     "text": [
      "MoviePy - Done.\n",
      "MoviePy - Writing audio in temp_audio.wav\n"
     ]
    },
    {
     "name": "stderr",
     "output_type": "stream",
     "text": [
      "\n",
      "chunk:   0%|                                                                                                         | 0/1324 [00:00<?, ?it/s, now=None]\u001b[A\n",
      "chunk:  52%|████████████████████████████████████████████████▋                                            | 693/1324 [00:00<00:00, 6926.98it/s, now=None]\u001b[A\n",
      "                                                                                                                                                        \u001b[A"
     ]
    },
    {
     "name": "stdout",
     "output_type": "stream",
     "text": [
      "MoviePy - Done.\n",
      "MoviePy - Writing audio in temp_audio.wav\n"
     ]
    },
    {
     "name": "stderr",
     "output_type": "stream",
     "text": [
      "\n",
      "chunk:   0%|                                                                                                         | 0/1324 [00:00<?, ?it/s, now=None]\u001b[A\n",
      "chunk:  52%|████████████████████████████████████████████████▊                                            | 695/1324 [00:00<00:00, 6948.35it/s, now=None]\u001b[A\n",
      "                                                                                                                                                        \u001b[A"
     ]
    },
    {
     "name": "stdout",
     "output_type": "stream",
     "text": [
      "MoviePy - Done.\n",
      "MoviePy - Writing audio in temp_audio.wav\n"
     ]
    },
    {
     "name": "stderr",
     "output_type": "stream",
     "text": [
      "\n",
      "chunk:   0%|                                                                                                         | 0/1324 [00:00<?, ?it/s, now=None]\u001b[A\n",
      "chunk:  42%|███████████████████████████████████████▍                                                     | 561/1324 [00:00<00:00, 5504.55it/s, now=None]\u001b[A\n",
      "chunk:  89%|██████████████████████████████████████████████████████████████████████████████████▏         | 1183/1324 [00:00<00:00, 5918.03it/s, now=None]\u001b[A\n",
      "                                                                                                                                                        \u001b[A"
     ]
    },
    {
     "name": "stdout",
     "output_type": "stream",
     "text": [
      "MoviePy - Done.\n",
      "MoviePy - Writing audio in temp_audio.wav\n"
     ]
    },
    {
     "name": "stderr",
     "output_type": "stream",
     "text": [
      "\n",
      "chunk:   0%|                                                                                                         | 0/1324 [00:00<?, ?it/s, now=None]\u001b[A\n",
      "chunk:  32%|██████████████████████████████                                                               | 428/1324 [00:00<00:00, 4277.30it/s, now=None]\u001b[A\n",
      "chunk:  81%|██████████████████████████████████████████████████████████████████████████▍                 | 1071/1324 [00:00<00:00, 5470.27it/s, now=None]\u001b[A\n",
      "                                                                                                                                                        \u001b[A"
     ]
    },
    {
     "name": "stdout",
     "output_type": "stream",
     "text": [
      "MoviePy - Done.\n",
      "MoviePy - Writing audio in temp_audio.wav\n"
     ]
    },
    {
     "name": "stderr",
     "output_type": "stream",
     "text": [
      "\n",
      "chunk:   0%|                                                                                                         | 0/1324 [00:00<?, ?it/s, now=None]\u001b[A\n",
      "chunk:  39%|███████████████████████████████████▊                                                         | 510/1324 [00:00<00:00, 4822.97it/s, now=None]\u001b[A\n",
      "chunk:  84%|█████████████████████████████████████████████████████████████████████████████▌              | 1116/1324 [00:00<00:00, 5531.61it/s, now=None]\u001b[A\n",
      "                                                                                                                                                        \u001b[A"
     ]
    },
    {
     "name": "stdout",
     "output_type": "stream",
     "text": [
      "MoviePy - Done.\n",
      "MoviePy - Writing audio in temp_audio.wav\n"
     ]
    },
    {
     "name": "stderr",
     "output_type": "stream",
     "text": [
      "\n",
      "chunk:   0%|                                                                                                         | 0/1324 [00:00<?, ?it/s, now=None]\u001b[A\n",
      "chunk:  54%|██████████████████████████████████████████████████▏                                          | 714/1324 [00:00<00:00, 7051.13it/s, now=None]\u001b[A\n",
      "                                                                                                                                                        \u001b[A"
     ]
    },
    {
     "name": "stdout",
     "output_type": "stream",
     "text": [
      "MoviePy - Done.\n",
      "MoviePy - Writing audio in temp_audio.wav\n"
     ]
    },
    {
     "name": "stderr",
     "output_type": "stream",
     "text": [
      "\n",
      "chunk:   0%|                                                                                                         | 0/1324 [00:00<?, ?it/s, now=None]\u001b[A\n",
      "chunk:  42%|███████████████████████████████████████▍                                                     | 561/1324 [00:00<00:00, 5390.02it/s, now=None]\u001b[A\n",
      "chunk:  83%|████████████████████████████████████████████████████████████████████████████▌               | 1101/1324 [00:00<00:00, 5326.46it/s, now=None]\u001b[A\n",
      "                                                                                                                                                        \u001b[A"
     ]
    },
    {
     "name": "stdout",
     "output_type": "stream",
     "text": [
      "MoviePy - Done.\n",
      "MoviePy - Writing audio in temp_audio.wav\n"
     ]
    },
    {
     "name": "stderr",
     "output_type": "stream",
     "text": [
      "\n",
      "chunk:   0%|                                                                                                         | 0/1324 [00:00<?, ?it/s, now=None]\u001b[A\n",
      "chunk:  50%|██████████████████████████████████████████████▌                                              | 663/1324 [00:00<00:00, 6537.48it/s, now=None]\u001b[A\n",
      "                                                                                                                                                        \u001b[A"
     ]
    },
    {
     "name": "stdout",
     "output_type": "stream",
     "text": [
      "MoviePy - Done.\n",
      "MoviePy - Writing audio in temp_audio.wav\n"
     ]
    },
    {
     "name": "stderr",
     "output_type": "stream",
     "text": [
      "\n",
      "chunk:   0%|                                                                                                         | 0/1324 [00:00<?, ?it/s, now=None]\u001b[A\n",
      "chunk:  46%|███████████████████████████████████████████▏                                                 | 614/1324 [00:00<00:00, 6134.70it/s, now=None]\u001b[A\n",
      "chunk:  93%|█████████████████████████████████████████████████████████████████████████████████████▎      | 1228/1324 [00:00<00:00, 5726.62it/s, now=None]\u001b[A\n",
      "                                                                                                                                                        \u001b[A"
     ]
    },
    {
     "name": "stdout",
     "output_type": "stream",
     "text": [
      "MoviePy - Done.\n",
      "MoviePy - Writing audio in temp_audio.wav\n"
     ]
    },
    {
     "name": "stderr",
     "output_type": "stream",
     "text": [
      "\n",
      "chunk:   0%|                                                                                                         | 0/1324 [00:00<?, ?it/s, now=None]\u001b[A\n",
      "chunk:  43%|████████████████████████████████████████                                                     | 571/1324 [00:00<00:00, 5708.07it/s, now=None]\u001b[A\n",
      "chunk:  89%|█████████████████████████████████████████████████████████████████████████████████▌          | 1173/1324 [00:00<00:00, 5854.22it/s, now=None]\u001b[A\n",
      "                                                                                                                                                        \u001b[A"
     ]
    },
    {
     "name": "stdout",
     "output_type": "stream",
     "text": [
      "MoviePy - Done.\n",
      "MoviePy - Writing audio in temp_audio.wav\n"
     ]
    },
    {
     "name": "stderr",
     "output_type": "stream",
     "text": [
      "\n",
      "chunk:   0%|                                                                                                         | 0/1324 [00:00<?, ?it/s, now=None]\u001b[A\n",
      "chunk:  44%|████████████████████████████████████████▋                                                    | 580/1324 [00:00<00:00, 5796.84it/s, now=None]\u001b[A\n",
      "chunk:  88%|████████████████████████████████████████████████████████████████████████████████▌           | 1160/1324 [00:00<00:00, 5764.91it/s, now=None]\u001b[A\n",
      "                                                                                                                                                        \u001b[A"
     ]
    },
    {
     "name": "stdout",
     "output_type": "stream",
     "text": [
      "MoviePy - Done.\n",
      "MoviePy - Writing audio in temp_audio.wav\n"
     ]
    },
    {
     "name": "stderr",
     "output_type": "stream",
     "text": [
      "\n",
      "chunk:   0%|                                                                                                         | 0/1324 [00:00<?, ?it/s, now=None]\u001b[A\n",
      "chunk:  42%|███████████████████████████████████████▍                                                     | 561/1324 [00:00<00:00, 5564.63it/s, now=None]\u001b[A\n",
      "chunk:  88%|█████████████████████████████████████████████████████████████████████████████████▎          | 1171/1324 [00:00<00:00, 5873.76it/s, now=None]\u001b[A\n",
      "                                                                                                                                                        \u001b[A"
     ]
    },
    {
     "name": "stdout",
     "output_type": "stream",
     "text": [
      "MoviePy - Done.\n",
      "MoviePy - Writing audio in temp_audio.wav\n"
     ]
    },
    {
     "name": "stderr",
     "output_type": "stream",
     "text": [
      "\n",
      "chunk:   0%|                                                                                                         | 0/1324 [00:00<?, ?it/s, now=None]\u001b[A\n",
      "chunk:  50%|██████████████████████████████████████████████▌                                              | 663/1324 [00:00<00:00, 6538.15it/s, now=None]\u001b[A\n",
      "                                                                                                                                                        \u001b[A"
     ]
    },
    {
     "name": "stdout",
     "output_type": "stream",
     "text": [
      "MoviePy - Done.\n",
      "MoviePy - Writing audio in temp_audio.wav\n"
     ]
    },
    {
     "name": "stderr",
     "output_type": "stream",
     "text": [
      "\n",
      "chunk:   0%|                                                                                                         | 0/1324 [00:00<?, ?it/s, now=None]\u001b[A\n",
      "chunk:  43%|███████████████████████████████████████▉                                                     | 568/1324 [00:00<00:00, 5676.59it/s, now=None]\u001b[A\n",
      "chunk:  86%|██████████████████████████████████████████████████████████████████████████████▉             | 1136/1324 [00:00<00:00, 5571.49it/s, now=None]\u001b[A\n",
      "                                                                                                                                                        \u001b[A"
     ]
    },
    {
     "name": "stdout",
     "output_type": "stream",
     "text": [
      "MoviePy - Done.\n",
      "MoviePy - Writing audio in temp_audio.wav\n"
     ]
    },
    {
     "name": "stderr",
     "output_type": "stream",
     "text": [
      "\n",
      "chunk:   0%|                                                                                                         | 0/1324 [00:00<?, ?it/s, now=None]\u001b[A\n",
      "chunk:  51%|███████████████████████████████████████████████                                              | 670/1324 [00:00<00:00, 6697.63it/s, now=None]\u001b[A\n",
      "                                                                                                                                                        \u001b[A"
     ]
    },
    {
     "name": "stdout",
     "output_type": "stream",
     "text": [
      "MoviePy - Done.\n",
      "MoviePy - Writing audio in temp_audio.wav\n"
     ]
    },
    {
     "name": "stderr",
     "output_type": "stream",
     "text": [
      "\n",
      "chunk:   0%|                                                                                                         | 0/1324 [00:00<?, ?it/s, now=None]\u001b[A\n",
      "chunk:  42%|███████████████████████████████████████▍                                                     | 561/1324 [00:00<00:00, 5560.20it/s, now=None]\u001b[A\n",
      "chunk:  85%|█████████████████████████████████████████████████████████████████████████████▉              | 1122/1324 [00:00<00:00, 5575.80it/s, now=None]\u001b[A\n",
      "                                                                                                                                                        \u001b[A"
     ]
    },
    {
     "name": "stdout",
     "output_type": "stream",
     "text": [
      "MoviePy - Done.\n",
      "MoviePy - Writing audio in temp_audio.wav\n"
     ]
    },
    {
     "name": "stderr",
     "output_type": "stream",
     "text": [
      "\n",
      "chunk:   0%|                                                                                                         | 0/1324 [00:00<?, ?it/s, now=None]\u001b[A\n",
      "chunk:  50%|██████████████████████████████████████████████▌                                              | 663/1324 [00:00<00:00, 6496.78it/s, now=None]\u001b[A\n",
      "chunk:  99%|███████████████████████████████████████████████████████████████████████████████████████████▏| 1313/1324 [00:00<00:00, 6481.38it/s, now=None]\u001b[A\n",
      "                                                                                                                                                        \u001b[A"
     ]
    },
    {
     "name": "stdout",
     "output_type": "stream",
     "text": [
      "MoviePy - Done.\n",
      "MoviePy - Writing audio in temp_audio.wav\n"
     ]
    },
    {
     "name": "stderr",
     "output_type": "stream",
     "text": [
      "\n",
      "chunk:   0%|                                                                                                         | 0/1324 [00:00<?, ?it/s, now=None]\u001b[A\n",
      "chunk:  50%|██████████████████████████████████████████████▌                                              | 663/1324 [00:00<00:00, 6450.40it/s, now=None]\u001b[A\n",
      "chunk:  99%|██████████████████████████████████████████████████████████████████████████████████████████▉ | 1309/1324 [00:00<00:00, 6362.66it/s, now=None]\u001b[A\n",
      "                                                                                                                                                        \u001b[A"
     ]
    },
    {
     "name": "stdout",
     "output_type": "stream",
     "text": [
      "MoviePy - Done.\n",
      "MoviePy - Writing audio in temp_audio.wav\n"
     ]
    },
    {
     "name": "stderr",
     "output_type": "stream",
     "text": [
      "\n",
      "chunk:   0%|                                                                                                         | 0/1324 [00:00<?, ?it/s, now=None]\u001b[A\n",
      "chunk:  58%|█████████████████████████████████████████████████████▋                                       | 765/1324 [00:00<00:00, 7509.55it/s, now=None]\u001b[A\n",
      "                                                                                                                                                        \u001b[A"
     ]
    },
    {
     "name": "stdout",
     "output_type": "stream",
     "text": [
      "MoviePy - Done.\n",
      "MoviePy - Writing audio in temp_audio.wav\n"
     ]
    },
    {
     "name": "stderr",
     "output_type": "stream",
     "text": [
      "\n",
      "chunk:   0%|                                                                                                         | 0/1324 [00:00<?, ?it/s, now=None]\u001b[A\n",
      "chunk:  58%|█████████████████████████████████████████████████████▋                                       | 765/1324 [00:00<00:00, 7555.92it/s, now=None]\u001b[A\n",
      "                                                                                                                                                        \u001b[A"
     ]
    },
    {
     "name": "stdout",
     "output_type": "stream",
     "text": [
      "MoviePy - Done.\n",
      "MoviePy - Writing audio in temp_audio.wav\n"
     ]
    },
    {
     "name": "stderr",
     "output_type": "stream",
     "text": [
      "\n",
      "chunk:   0%|                                                                                                         | 0/1324 [00:00<?, ?it/s, now=None]\u001b[A\n",
      "chunk:  42%|███████████████████████████████████████▍                                                     | 561/1324 [00:00<00:00, 5588.90it/s, now=None]\u001b[A\n",
      "chunk:  93%|█████████████████████████████████████████████████████████████████████████████████████       | 1225/1324 [00:00<00:00, 6205.77it/s, now=None]\u001b[A\n",
      "                                                                                                                                                        \u001b[A"
     ]
    },
    {
     "name": "stdout",
     "output_type": "stream",
     "text": [
      "MoviePy - Done.\n",
      "MoviePy - Writing audio in temp_audio.wav\n"
     ]
    },
    {
     "name": "stderr",
     "output_type": "stream",
     "text": [
      "\n",
      "chunk:   0%|                                                                                                         | 0/1324 [00:00<?, ?it/s, now=None]\u001b[A\n",
      "chunk:  58%|█████████████████████████████████████████████████████▋                                       | 765/1324 [00:00<00:00, 7591.29it/s, now=None]\u001b[A\n",
      "                                                                                                                                                        \u001b[A"
     ]
    },
    {
     "name": "stdout",
     "output_type": "stream",
     "text": [
      "MoviePy - Done.\n",
      "MoviePy - Writing audio in temp_audio.wav\n"
     ]
    },
    {
     "name": "stderr",
     "output_type": "stream",
     "text": [
      "\n",
      "chunk:   0%|                                                                                                         | 0/1324 [00:00<?, ?it/s, now=None]\u001b[A\n",
      "chunk:  49%|██████████████████████████████████████████████                                               | 655/1324 [00:00<00:00, 6543.83it/s, now=None]\u001b[A\n",
      "chunk:  99%|███████████████████████████████████████████████████████████████████████████████████████████ | 1310/1324 [00:00<00:00, 5261.54it/s, now=None]\u001b[A\n",
      "                                                                                                                                                        \u001b[A"
     ]
    },
    {
     "name": "stdout",
     "output_type": "stream",
     "text": [
      "MoviePy - Done.\n",
      "MoviePy - Writing audio in temp_audio.wav\n"
     ]
    },
    {
     "name": "stderr",
     "output_type": "stream",
     "text": [
      "\n",
      "chunk:   0%|                                                                                                         | 0/1324 [00:00<?, ?it/s, now=None]\u001b[A\n",
      "chunk:  53%|█████████████████████████████████████████████████▍                                           | 703/1324 [00:00<00:00, 7029.65it/s, now=None]\u001b[A\n",
      "                                                                                                                                                        \u001b[A"
     ]
    },
    {
     "name": "stdout",
     "output_type": "stream",
     "text": [
      "MoviePy - Done.\n",
      "MoviePy - Writing audio in temp_audio.wav\n"
     ]
    },
    {
     "name": "stderr",
     "output_type": "stream",
     "text": [
      "\n",
      "chunk:   0%|                                                                                                         | 0/1324 [00:00<?, ?it/s, now=None]\u001b[A\n",
      "chunk:  54%|██████████████████████████████████████████████████▏                                          | 714/1324 [00:00<00:00, 6922.83it/s, now=None]\u001b[A\n",
      "                                                                                                                                                        \u001b[A"
     ]
    },
    {
     "name": "stdout",
     "output_type": "stream",
     "text": [
      "MoviePy - Done.\n",
      "MoviePy - Writing audio in temp_audio.wav\n"
     ]
    },
    {
     "name": "stderr",
     "output_type": "stream",
     "text": [
      "\n",
      "chunk:   0%|                                                                                                         | 0/1324 [00:00<?, ?it/s, now=None]\u001b[A\n",
      "chunk:  57%|█████████████████████████████████████████████████████▍                                       | 761/1324 [00:00<00:00, 7606.24it/s, now=None]\u001b[A\n",
      "                                                                                                                                                        \u001b[A"
     ]
    },
    {
     "name": "stdout",
     "output_type": "stream",
     "text": [
      "MoviePy - Done.\n",
      "MoviePy - Writing audio in temp_audio.wav\n"
     ]
    },
    {
     "name": "stderr",
     "output_type": "stream",
     "text": [
      "\n",
      "chunk:   0%|                                                                                                         | 0/1324 [00:00<?, ?it/s, now=None]\u001b[A\n",
      "chunk:  54%|██████████████████████████████████████████████████▏                                          | 715/1324 [00:00<00:00, 7145.87it/s, now=None]\u001b[A\n",
      "                                                                                                                                                        \u001b[A"
     ]
    },
    {
     "name": "stdout",
     "output_type": "stream",
     "text": [
      "MoviePy - Done.\n",
      "MoviePy - Writing audio in temp_audio.wav\n"
     ]
    },
    {
     "name": "stderr",
     "output_type": "stream",
     "text": [
      "\n",
      "chunk:   0%|                                                                                                         | 0/1324 [00:00<?, ?it/s, now=None]\u001b[A\n",
      "chunk:  56%|███████████████████████████████████████████████████▉                                         | 739/1324 [00:00<00:00, 7383.97it/s, now=None]\u001b[A\n",
      "                                                                                                                                                        \u001b[A"
     ]
    },
    {
     "name": "stdout",
     "output_type": "stream",
     "text": [
      "MoviePy - Done.\n",
      "MoviePy - Writing audio in temp_audio.wav\n"
     ]
    },
    {
     "name": "stderr",
     "output_type": "stream",
     "text": [
      "\n",
      "chunk:   0%|                                                                                                         | 0/1324 [00:00<?, ?it/s, now=None]\u001b[A\n",
      "chunk:  46%|███████████████████████████████████████████                                                  | 613/1324 [00:00<00:00, 6123.80it/s, now=None]\u001b[A\n",
      "chunk:  93%|█████████████████████████████████████████████████████████████████████████████████████▏      | 1226/1324 [00:00<00:00, 6083.57it/s, now=None]\u001b[A\n",
      "                                                                                                                                                        \u001b[A"
     ]
    },
    {
     "name": "stdout",
     "output_type": "stream",
     "text": [
      "MoviePy - Done.\n",
      "MoviePy - Writing audio in temp_audio.wav\n"
     ]
    },
    {
     "name": "stderr",
     "output_type": "stream",
     "text": [
      "\n",
      "chunk:   0%|                                                                                                         | 0/1324 [00:00<?, ?it/s, now=None]\u001b[A\n",
      "chunk:  54%|██████████████████████████████████████████████████▋                                          | 721/1324 [00:00<00:00, 7207.36it/s, now=None]\u001b[A\n",
      "                                                                                                                                                        \u001b[A"
     ]
    },
    {
     "name": "stdout",
     "output_type": "stream",
     "text": [
      "MoviePy - Done.\n",
      "MoviePy - Writing audio in temp_audio.wav\n"
     ]
    },
    {
     "name": "stderr",
     "output_type": "stream",
     "text": [
      "\n",
      "chunk:   0%|                                                                                                         | 0/1324 [00:00<?, ?it/s, now=None]\u001b[A\n",
      "chunk:  49%|█████████████████████████████████████████████▌                                               | 649/1324 [00:00<00:00, 6486.79it/s, now=None]\u001b[A\n",
      "chunk:  98%|██████████████████████████████████████████████████████████████████████████████████████████▏ | 1298/1324 [00:00<00:00, 5578.35it/s, now=None]\u001b[A\n",
      "                                                                                                                                                        \u001b[A"
     ]
    },
    {
     "name": "stdout",
     "output_type": "stream",
     "text": [
      "MoviePy - Done.\n",
      "MoviePy - Writing audio in temp_audio.wav\n"
     ]
    },
    {
     "name": "stderr",
     "output_type": "stream",
     "text": [
      "\n",
      "chunk:   0%|                                                                                                         | 0/1324 [00:00<?, ?it/s, now=None]\u001b[A\n",
      "chunk:  44%|████████████████████████████████████████▉                                                    | 582/1324 [00:00<00:00, 5815.58it/s, now=None]\u001b[A\n",
      "chunk:  92%|████████████████████████████████████████████████████████████████████████████████████▊       | 1221/1324 [00:00<00:00, 6152.92it/s, now=None]\u001b[A\n",
      "                                                                                                                                                        \u001b[A"
     ]
    },
    {
     "name": "stdout",
     "output_type": "stream",
     "text": [
      "MoviePy - Done.\n",
      "MoviePy - Writing audio in temp_audio.wav\n"
     ]
    },
    {
     "name": "stderr",
     "output_type": "stream",
     "text": [
      "\n",
      "chunk:   0%|                                                                                                         | 0/1324 [00:00<?, ?it/s, now=None]\u001b[A\n",
      "chunk:  27%|█████████████████████████▌                                                                   | 364/1324 [00:00<00:00, 3625.69it/s, now=None]\u001b[A\n",
      "chunk:  55%|███████████████████████████████████████████████████                                          | 727/1324 [00:00<00:00, 2573.48it/s, now=None]\u001b[A\n",
      "                                                                                                                                                        \u001b[A"
     ]
    },
    {
     "name": "stdout",
     "output_type": "stream",
     "text": [
      "MoviePy - Done.\n",
      "MoviePy - Writing audio in temp_audio.wav\n"
     ]
    },
    {
     "name": "stderr",
     "output_type": "stream",
     "text": [
      "\n",
      "chunk:   0%|                                                                                                         | 0/1324 [00:00<?, ?it/s, now=None]\u001b[A\n",
      "chunk:  56%|████████████████████████████████████████████████████▌                                        | 748/1324 [00:00<00:00, 7479.13it/s, now=None]\u001b[A\n",
      "                                                                                                                                                        \u001b[A"
     ]
    },
    {
     "name": "stdout",
     "output_type": "stream",
     "text": [
      "MoviePy - Done.\n",
      "MoviePy - Writing audio in temp_audio.wav\n"
     ]
    },
    {
     "name": "stderr",
     "output_type": "stream",
     "text": [
      "\n",
      "chunk:   0%|                                                                                                         | 0/1324 [00:00<?, ?it/s, now=None]\u001b[A\n",
      "chunk:  33%|██████████████████████████████▋                                                              | 437/1324 [00:00<00:00, 4365.10it/s, now=None]\u001b[A\n",
      "chunk:  66%|█████████████████████████████████████████████████████████████▍                               | 874/1324 [00:00<00:00, 4032.79it/s, now=None]\u001b[A\n",
      "                                                                                                                                                        \u001b[A"
     ]
    },
    {
     "name": "stdout",
     "output_type": "stream",
     "text": [
      "MoviePy - Done.\n",
      "MoviePy - Writing audio in temp_audio.wav\n"
     ]
    },
    {
     "name": "stderr",
     "output_type": "stream",
     "text": [
      "\n",
      "chunk:   0%|                                                                                                         | 0/1324 [00:00<?, ?it/s, now=None]\u001b[A\n",
      "chunk:  31%|████████████████████████████▋                                                                | 408/1324 [00:00<00:00, 3977.36it/s, now=None]\u001b[A\n",
      "chunk:  68%|███████████████████████████████████████████████████████████████                              | 897/1324 [00:00<00:00, 4505.75it/s, now=None]\u001b[A\n",
      "                                                                                                                                                        \u001b[A"
     ]
    },
    {
     "name": "stdout",
     "output_type": "stream",
     "text": [
      "MoviePy - Done.\n",
      "MoviePy - Writing audio in temp_audio.wav\n"
     ]
    },
    {
     "name": "stderr",
     "output_type": "stream",
     "text": [
      "\n",
      "chunk:   0%|                                                                                                         | 0/1324 [00:00<?, ?it/s, now=None]\u001b[A\n",
      "chunk:  34%|███████████████████████████████▋                                                             | 451/1324 [00:00<00:00, 4506.45it/s, now=None]\u001b[A\n",
      "chunk:  73%|███████████████████████████████████████████████████████████████████▉                         | 967/1324 [00:00<00:00, 4888.28it/s, now=None]\u001b[A\n",
      "                                                                                                                                                        \u001b[A"
     ]
    },
    {
     "name": "stdout",
     "output_type": "stream",
     "text": [
      "MoviePy - Done.\n",
      "MoviePy - Writing audio in temp_audio.wav\n"
     ]
    },
    {
     "name": "stderr",
     "output_type": "stream",
     "text": [
      "\n",
      "chunk:   0%|                                                                                                         | 0/1324 [00:00<?, ?it/s, now=None]\u001b[A\n",
      "chunk:  54%|██████████████████████████████████████████████████▏                                          | 714/1324 [00:00<00:00, 7110.64it/s, now=None]\u001b[A\n",
      "                                                                                                                                                        \u001b[A"
     ]
    },
    {
     "name": "stdout",
     "output_type": "stream",
     "text": [
      "MoviePy - Done.\n",
      "MoviePy - Writing audio in temp_audio.wav\n"
     ]
    },
    {
     "name": "stderr",
     "output_type": "stream",
     "text": [
      "\n",
      "chunk:   0%|                                                                                                          | 0/893 [00:00<?, ?it/s, now=None]\u001b[A\n",
      "chunk:  80%|███████████████████████████████████████████████████████████████████████████▏                  | 714/893 [00:00<00:00, 7009.63it/s, now=None]\u001b[A\n",
      "                                                                                                                                                        \u001b[A"
     ]
    },
    {
     "name": "stdout",
     "output_type": "stream",
     "text": [
      "MoviePy - Done.\n",
      "MoviePy - Writing audio in temp_audio.wav\n"
     ]
    },
    {
     "name": "stderr",
     "output_type": "stream",
     "text": [
      "\n",
      "chunk:   0%|                                                                                                         | 0/1324 [00:00<?, ?it/s, now=None]\u001b[A\n",
      "chunk:  50%|██████████████████████████████████████████████▋                                              | 664/1324 [00:00<00:00, 6632.01it/s, now=None]\u001b[A\n",
      "                                                                                                                                                        \u001b[A"
     ]
    },
    {
     "name": "stdout",
     "output_type": "stream",
     "text": [
      "MoviePy - Done.\n",
      "MoviePy - Writing audio in temp_audio.wav\n"
     ]
    },
    {
     "name": "stderr",
     "output_type": "stream",
     "text": [
      "\n",
      "chunk:   0%|                                                                                                         | 0/1324 [00:00<?, ?it/s, now=None]\u001b[A\n",
      "chunk:  49%|█████████████████████████████████████████████▊                                               | 652/1324 [00:00<00:00, 6517.60it/s, now=None]\u001b[A\n",
      "chunk:  98%|██████████████████████████████████████████████████████████████████████████████████████████▌ | 1304/1324 [00:00<00:00, 5335.20it/s, now=None]\u001b[A\n",
      "                                                                                                                                                        \u001b[A"
     ]
    },
    {
     "name": "stdout",
     "output_type": "stream",
     "text": [
      "MoviePy - Done.\n",
      "MoviePy - Writing audio in temp_audio.wav\n"
     ]
    },
    {
     "name": "stderr",
     "output_type": "stream",
     "text": [
      "\n",
      "chunk:   0%|                                                                                                         | 0/1324 [00:00<?, ?it/s, now=None]\u001b[A\n",
      "chunk:  38%|███████████████████████████████████▎                                                         | 502/1324 [00:00<00:00, 5016.88it/s, now=None]\u001b[A\n",
      "chunk:  81%|██████████████████████████████████████████████████████████████████████████▋                 | 1074/1324 [00:00<00:00, 5430.07it/s, now=None]\u001b[A\n",
      "                                                                                                                                                        \u001b[A"
     ]
    },
    {
     "name": "stdout",
     "output_type": "stream",
     "text": [
      "MoviePy - Done.\n",
      "MoviePy - Writing audio in temp_audio.wav\n"
     ]
    },
    {
     "name": "stderr",
     "output_type": "stream",
     "text": [
      "\n",
      "chunk:   0%|                                                                                                         | 0/1324 [00:00<?, ?it/s, now=None]\u001b[A\n",
      "chunk:  59%|███████████████████████████████████████████████████████▏                                     | 786/1324 [00:00<00:00, 7857.67it/s, now=None]\u001b[A\n",
      "                                                                                                                                                        \u001b[A"
     ]
    },
    {
     "name": "stdout",
     "output_type": "stream",
     "text": [
      "MoviePy - Done.\n",
      "MoviePy - Writing audio in temp_audio.wav\n"
     ]
    },
    {
     "name": "stderr",
     "output_type": "stream",
     "text": [
      "\n",
      "chunk:   0%|                                                                                                         | 0/1324 [00:00<?, ?it/s, now=None]\u001b[A\n",
      "chunk:  58%|█████████████████████████████████████████████████████▋                                       | 765/1324 [00:00<00:00, 7491.66it/s, now=None]\u001b[A\n",
      "                                                                                                                                                        \u001b[A"
     ]
    },
    {
     "name": "stdout",
     "output_type": "stream",
     "text": [
      "MoviePy - Done.\n",
      "MoviePy - Writing audio in temp_audio.wav\n"
     ]
    },
    {
     "name": "stderr",
     "output_type": "stream",
     "text": [
      "\n",
      "chunk:   0%|                                                                                                         | 0/1324 [00:00<?, ?it/s, now=None]\u001b[A\n",
      "chunk:  50%|██████████████████████████████████████████████▌                                              | 663/1324 [00:00<00:00, 6612.60it/s, now=None]\u001b[A\n",
      "                                                                                                                                                        \u001b[A"
     ]
    },
    {
     "name": "stdout",
     "output_type": "stream",
     "text": [
      "MoviePy - Done.\n",
      "MoviePy - Writing audio in temp_audio.wav\n"
     ]
    },
    {
     "name": "stderr",
     "output_type": "stream",
     "text": [
      "\n",
      "chunk:   0%|                                                                                                         | 0/1324 [00:00<?, ?it/s, now=None]\u001b[A\n",
      "chunk:  46%|███████████████████████████████████████████▏                                                 | 614/1324 [00:00<00:00, 6137.40it/s, now=None]\u001b[A\n",
      "chunk:  93%|█████████████████████████████████████████████████████████████████████████████████████▎      | 1228/1324 [00:00<00:00, 6136.44it/s, now=None]\u001b[A\n",
      "                                                                                                                                                        \u001b[A"
     ]
    },
    {
     "name": "stdout",
     "output_type": "stream",
     "text": [
      "MoviePy - Done.\n",
      "MoviePy - Writing audio in temp_audio.wav\n"
     ]
    },
    {
     "name": "stderr",
     "output_type": "stream",
     "text": [
      "\n",
      "chunk:   0%|                                                                                                         | 0/1324 [00:00<?, ?it/s, now=None]\u001b[A\n",
      "chunk:  39%|████████████████████████████████████▏                                                        | 516/1324 [00:00<00:00, 5155.84it/s, now=None]\u001b[A\n",
      "chunk:  78%|███████████████████████████████████████████████████████████████████████▋                    | 1032/1324 [00:00<00:00, 4932.44it/s, now=None]\u001b[A\n",
      "                                                                                                                                                        \u001b[A"
     ]
    },
    {
     "name": "stdout",
     "output_type": "stream",
     "text": [
      "MoviePy - Done.\n",
      "MoviePy - Writing audio in temp_audio.wav\n"
     ]
    },
    {
     "name": "stderr",
     "output_type": "stream",
     "text": [
      "\n",
      "chunk:   0%|                                                                                                         | 0/1324 [00:00<?, ?it/s, now=None]\u001b[A\n",
      "chunk:  58%|█████████████████████████████████████████████████████▋                                       | 765/1324 [00:00<00:00, 7523.72it/s, now=None]\u001b[A\n",
      "                                                                                                                                                        \u001b[A"
     ]
    },
    {
     "name": "stdout",
     "output_type": "stream",
     "text": [
      "MoviePy - Done.\n",
      "MoviePy - Writing audio in temp_audio.wav\n"
     ]
    },
    {
     "name": "stderr",
     "output_type": "stream",
     "text": [
      "\n",
      "chunk:   0%|                                                                                                         | 0/1324 [00:00<?, ?it/s, now=None]\u001b[A\n",
      "chunk:  58%|█████████████████████████████████████████████████████▋                                       | 765/1324 [00:00<00:00, 7488.97it/s, now=None]\u001b[A\n",
      "                                                                                                                                                        \u001b[A"
     ]
    },
    {
     "name": "stdout",
     "output_type": "stream",
     "text": [
      "MoviePy - Done.\n",
      "MoviePy - Writing audio in temp_audio.wav\n"
     ]
    },
    {
     "name": "stderr",
     "output_type": "stream",
     "text": [
      "\n",
      "chunk:   0%|                                                                                                         | 0/1324 [00:00<?, ?it/s, now=None]\u001b[A\n",
      "chunk:  60%|███████████████████████████████████████████████████████▉                                     | 796/1324 [00:00<00:00, 7955.49it/s, now=None]\u001b[A\n",
      "                                                                                                                                                        \u001b[A"
     ]
    },
    {
     "name": "stdout",
     "output_type": "stream",
     "text": [
      "MoviePy - Done.\n",
      "MoviePy - Writing audio in temp_audio.wav\n"
     ]
    },
    {
     "name": "stderr",
     "output_type": "stream",
     "text": [
      "\n",
      "chunk:   0%|                                                                                                          | 0/968 [00:00<?, ?it/s, now=None]\u001b[A\n",
      "chunk:  79%|██████████████████████████████████████████████████████████████████████████▎                   | 765/968 [00:00<00:00, 7557.86it/s, now=None]\u001b[A\n",
      "                                                                                                                                                        \u001b[A"
     ]
    },
    {
     "name": "stdout",
     "output_type": "stream",
     "text": [
      "MoviePy - Done.\n",
      "MoviePy - Writing audio in temp_audio.wav\n"
     ]
    },
    {
     "name": "stderr",
     "output_type": "stream",
     "text": [
      "\n",
      "chunk:   0%|                                                                                                          | 0/809 [00:00<?, ?it/s, now=None]\u001b[A\n",
      "chunk:  95%|████████████████████████████████████████████████████████████████████████████████████████▉     | 765/809 [00:00<00:00, 7491.98it/s, now=None]\u001b[A\n",
      "                                                                                                                                                        \u001b[A"
     ]
    },
    {
     "name": "stdout",
     "output_type": "stream",
     "text": [
      "MoviePy - Done.\n",
      "MoviePy - Writing audio in temp_audio.wav\n"
     ]
    },
    {
     "name": "stderr",
     "output_type": "stream",
     "text": [
      "\n",
      "chunk:   0%|                                                                                                         | 0/1324 [00:00<?, ?it/s, now=None]\u001b[A\n",
      "chunk:  50%|██████████████████████████████████████████████▉                                              | 668/1324 [00:00<00:00, 6679.77it/s, now=None]\u001b[A\n",
      "                                                                                                                                                        \u001b[A"
     ]
    },
    {
     "name": "stdout",
     "output_type": "stream",
     "text": [
      "MoviePy - Done.\n",
      "MoviePy - Writing audio in temp_audio.wav\n"
     ]
    },
    {
     "name": "stderr",
     "output_type": "stream",
     "text": [
      "\n",
      "chunk:   0%|                                                                                                          | 0/341 [00:00<?, ?it/s, now=None]\u001b[A\n",
      "                                                                                                                                                        \u001b[A"
     ]
    },
    {
     "name": "stdout",
     "output_type": "stream",
     "text": [
      "MoviePy - Done.\n",
      "An unexpected error occurred:\n",
      "'NoneType' object is not subscriptable\n",
      "MoviePy - Writing audio in temp_audio.wav\n"
     ]
    },
    {
     "name": "stderr",
     "output_type": "stream",
     "text": [
      "\n",
      "chunk:   0%|                                                                                                         | 0/1324 [00:00<?, ?it/s, now=None]\u001b[A\n",
      "chunk:  43%|████████████████████████████████████████                                                     | 571/1324 [00:00<00:00, 5709.61it/s, now=None]\u001b[A\n",
      "chunk:  96%|████████████████████████████████████████████████████████████████████████████████████████▌   | 1275/1324 [00:00<00:00, 6465.94it/s, now=None]\u001b[A\n",
      "                                                                                                                                                        \u001b[A"
     ]
    },
    {
     "name": "stdout",
     "output_type": "stream",
     "text": [
      "MoviePy - Done.\n",
      "MoviePy - Writing audio in temp_audio.wav\n"
     ]
    },
    {
     "name": "stderr",
     "output_type": "stream",
     "text": [
      "\n",
      "chunk:   0%|                                                                                                          | 0/859 [00:00<?, ?it/s, now=None]\u001b[A\n",
      "chunk:  77%|████████████████████████████████████████████████████████████████████████▌                     | 663/859 [00:00<00:00, 6399.13it/s, now=None]\u001b[A\n",
      "                                                                                                                                                        \u001b[A"
     ]
    },
    {
     "name": "stdout",
     "output_type": "stream",
     "text": [
      "MoviePy - Done.\n"
     ]
    }
   ],
   "source": [
    "DATA_DIR = './data'\n",
    "device = 'cuda' if torch.cuda.is_available() else 'cpu'\n",
    "encoder, feature_extractor = instantiate_giga_am('models/giga_am/', device)\n",
    "embeddings_gigaam = []\n",
    "\n",
    "for data_subdir in tqdm.tqdm(os.listdir(DATA_DIR)):\n",
    "    fullpath = os.path.join(DATA_DIR, data_subdir)\n",
    "\n",
    "    if not os.path.isdir(fullpath):\n",
    "        continue\n",
    "    \n",
    "    video_files = [f for f in os.listdir(fullpath) if f.lower().endswith('.mp4')]\n",
    "    logging.info(f\"Found {len(video_files)} video(s) in directory '{data_subdir}'.\")\n",
    "    \n",
    "    for video_file in video_files:\n",
    "        file_path = os.path.join(fullpath, video_file)\n",
    "        output = process_gigaam(file_path, encoder, feature_extractor, device)\n",
    "        \n",
    "        if output is not None:\n",
    "            logging.info(f\"Successfully processed video: {video_file}\")\n",
    "            embeddings_gigaam.append((video_file, extract_category_id(data_subdir), output))\n",
    "        else:\n",
    "            logging.warning(f\"Failed to process video: {video_file}\")\n",
    "\n",
    "gigaam_df = EmbeddingStorage(\n",
    "    filenames=list(map(lambda x: x[0], embeddings_gigaam)),\n",
    "    labels=list(map(lambda x: x[1], embeddings_gigaam)),\n",
    "    embeddings=list(map(lambda x: x[2], embeddings_gigaam)),\n",
    ")\n",
    "gigaam_df.save_to_file('data/embeddings/gigaam.npz')\n",
    "\n",
    "# gigaam_df = pd.DataFrame(data=embeddings_gigaam, columns=['videoname', 'label', 'emb'])\n",
    "# gigaam_df.to_csv('data/embeddings/gigaam.csv', index=False)"
   ]
  },
  {
   "cell_type": "markdown",
   "id": "02bb0ec3-c303-470b-b04c-7c9ab1be96b8",
   "metadata": {
    "jp-MarkdownHeadingCollapsed": true
   },
   "source": [
    "#### Raw notes on GigaAM-RNNT"
   ]
  },
  {
   "cell_type": "code",
   "execution_count": 10,
   "id": "4c172372-3850-4d42-9847-242436e9d962",
   "metadata": {},
   "outputs": [
    {
     "name": "stderr",
     "output_type": "stream",
     "text": [
      "[NeMo W 2024-09-26 14:23:18 nemo_logging:349] /home/eduard/Рабочий стол/video-tagging/video-tag/lib/python3.10/site-packages/megatron/core/tensor_parallel/layers.py:254: FutureWarning: `torch.cuda.amp.custom_fwd(args...)` is deprecated. Please use `torch.amp.custom_fwd(args..., device_type='cuda')` instead.\n",
      "      def forward(\n",
      "    \n",
      "[NeMo W 2024-09-26 14:23:18 nemo_logging:349] /home/eduard/Рабочий стол/video-tagging/video-tag/lib/python3.10/site-packages/megatron/core/tensor_parallel/layers.py:265: FutureWarning: `torch.cuda.amp.custom_bwd(args...)` is deprecated. Please use `torch.amp.custom_bwd(args..., device_type='cuda')` instead.\n",
      "      def backward(ctx, grad_output):\n",
      "    \n",
      "[NeMo W 2024-09-26 14:23:18 nemo_logging:349] /home/eduard/Рабочий стол/video-tagging/video-tag/lib/python3.10/site-packages/megatron/core/tensor_parallel/layers.py:325: FutureWarning: `torch.cuda.amp.custom_fwd(args...)` is deprecated. Please use `torch.amp.custom_fwd(args..., device_type='cuda')` instead.\n",
      "      def forward(\n",
      "    \n",
      "[NeMo W 2024-09-26 14:23:18 nemo_logging:349] /home/eduard/Рабочий стол/video-tagging/video-tag/lib/python3.10/site-packages/megatron/core/tensor_parallel/layers.py:360: FutureWarning: `torch.cuda.amp.custom_bwd(args...)` is deprecated. Please use `torch.amp.custom_bwd(args..., device_type='cuda')` instead.\n",
      "      def backward(ctx, grad_output):\n",
      "    \n"
     ]
    }
   ],
   "source": [
    "from nemo.collections.asr.models import EncDecRNNTBPEModel\n",
    "from nemo.collections.asr.modules.audio_preprocessing import (\n",
    "    AudioToMelSpectrogramPreprocessor as NeMoAudioToMelSpectrogramPreprocessor,\n",
    ")\n",
    "from nemo.collections.asr.parts.preprocessing.features import (\n",
    "    FilterbankFeaturesTA as NeMoFilterbankFeaturesTA,\n",
    ")"
   ]
  },
  {
   "cell_type": "markdown",
   "id": "95f29bba-ce04-4648-9b94-8ee18ab02761",
   "metadata": {},
   "source": [
    "Download config, weights, tokenizer"
   ]
  },
  {
   "cell_type": "code",
   "execution_count": 6,
   "id": "e4ba5ac2-c036-4440-acfe-117e1505fd49",
   "metadata": {},
   "outputs": [],
   "source": [
    "# !wget https://n-ws-q0bez.s3pd12.sbercloud.ru/b-ws-q0bez-jpv/GigaAM/rnnt_model_weights.ckpt\n",
    "# !wget https://n-ws-q0bez.s3pd12.sbercloud.ru/b-ws-q0bez-jpv/GigaAM/rnnt_model_config.yaml\n",
    "# !wget https://n-ws-q0bez.s3pd12.sbercloud.ru/b-ws-q0bez-jpv/GigaAM/example.wav\n",
    "# !wget https://n-ws-q0bez.s3pd12.sbercloud.ru/b-ws-q0bez-jpv/GigaAM/long_example.wav\n",
    "# !wget https://n-ws-q0bez.s3pd12.sbercloud.ru/b-ws-q0bez-jpv/GigaAM/tokenizer_all_sets.tar\n",
    "# !tar -xf tokenizer_all_sets.tar && rm tokenizer_all_sets.tar"
   ]
  },
  {
   "cell_type": "markdown",
   "id": "d0ca9afa-3cb6-4a7d-81dc-0b5ca7a25883",
   "metadata": {},
   "source": [
    "Modules for feature Extraction"
   ]
  },
  {
   "cell_type": "code",
   "execution_count": null,
   "id": "429d0897-4317-4089-be02-26494c11e59a",
   "metadata": {},
   "outputs": [],
   "source": [
    "class FilterbankFeaturesTA(NeMoFilterbankFeaturesTA):\n",
    "    def __init__(self, mel_scale: str = \"htk\", wkwargs=None, **kwargs):\n",
    "        if \"window_size\" in kwargs:\n",
    "            del kwargs[\"window_size\"]\n",
    "        if \"window_stride\" in kwargs:\n",
    "            del kwargs[\"window_stride\"]\n",
    "\n",
    "        super().__init__(**kwargs)\n",
    "\n",
    "        self._mel_spec_extractor: torchaudio.transforms.MelSpectrogram = (\n",
    "            torchaudio.transforms.MelSpectrogram(\n",
    "                sample_rate=self._sample_rate,\n",
    "                win_length=self.win_length,\n",
    "                hop_length=self.hop_length,\n",
    "                n_mels=kwargs[\"nfilt\"],\n",
    "                window_fn=self.torch_windows[kwargs[\"window\"]],\n",
    "                mel_scale=mel_scale,\n",
    "                norm=kwargs[\"mel_norm\"],\n",
    "                n_fft=kwargs[\"n_fft\"],\n",
    "                f_max=kwargs.get(\"highfreq\", None),\n",
    "                f_min=kwargs.get(\"lowfreq\", 0),\n",
    "                wkwargs=wkwargs,\n",
    "            )\n",
    "        )\n",
    "\n",
    "\n",
    "class AudioToMelSpectrogramPreprocessor(NeMoAudioToMelSpectrogramPreprocessor):\n",
    "    def __init__(self, mel_scale: str = \"htk\", **kwargs):\n",
    "        super().__init__(**kwargs)\n",
    "        kwargs[\"nfilt\"] = kwargs[\"features\"]\n",
    "        del kwargs[\"features\"]\n",
    "        self.featurizer = (\n",
    "            FilterbankFeaturesTA(  # Deprecated arguments; kept for config compatibility\n",
    "                mel_scale=mel_scale,\n",
    "                **kwargs,\n",
    "            )\n",
    "        )"
   ]
  },
  {
   "cell_type": "markdown",
   "id": "9366a83e-0e88-446b-bcf2-a872f941298d",
   "metadata": {},
   "source": [
    "Inference example"
   ]
  },
  {
   "cell_type": "code",
   "execution_count": 30,
   "id": "b361e9e5-0600-4364-8bd2-8ddf68ed14ba",
   "metadata": {},
   "outputs": [
    {
     "name": "stdout",
     "output_type": "stream",
     "text": [
      "[NeMo I 2024-09-26 14:40:59 mixins:172] Tokenizer SentencePieceTokenizer initialized with 512 tokens\n"
     ]
    },
    {
     "name": "stderr",
     "output_type": "stream",
     "text": [
      "[NeMo W 2024-09-26 14:40:59 audio_to_text_dataset:830] Could not load dataset as `manifest_filepath` was None. Provided config : {'shuffle': False, 'manifest_filepath': None}\n"
     ]
    },
    {
     "name": "stdout",
     "output_type": "stream",
     "text": [
      "[NeMo I 2024-09-26 14:40:59 features:289] PADDING: 0\n",
      "[NeMo I 2024-09-26 14:41:00 rnnt_models:217] Using RNNT Loss : warprnnt_numba\n",
      "    Loss warprnnt_numba_kwargs: {'fastemit_lambda': 0.0, 'clamp': -1.0}\n"
     ]
    },
    {
     "name": "stderr",
     "output_type": "stream",
     "text": [
      "[NeMo W 2024-09-26 14:41:00 nemo_logging:349] /tmp/ipykernel_206253/913905516.py:4: FutureWarning: You are using `torch.load` with `weights_only=False` (the current default value), which uses the default pickle module implicitly. It is possible to construct malicious pickle data which will execute arbitrary code during unpickling (See https://github.com/pytorch/pytorch/blob/main/SECURITY.md#untrusted-models for more details). In a future release, the default value for `weights_only` will be flipped to `True`. This limits the functions that could be executed during unpickling. Arbitrary objects will no longer be allowed to be loaded via this mode unless they are explicitly allowlisted by the user via `torch.serialization.add_safe_globals`. We recommend you start setting `weights_only=True` for any use case where you don't have full control of the loaded file. Please open an issue on GitHub for any issues related to this experimental feature.\n",
      "      ckpt = torch.load(\"./models/giga_am/rnnt_model_weights.ckpt\", map_location=\"cpu\")\n",
      "    \n"
     ]
    }
   ],
   "source": [
    "device = \"cuda\" if torch.cuda.is_available() else \"cpu\"\n",
    "\n",
    "model = EncDecRNNTBPEModel.from_config_file(\"./models/giga_am/rnnt_model_config.yaml\")\n",
    "ckpt = torch.load(\"./models/giga_am/rnnt_model_weights.ckpt\", map_location=\"cpu\")\n",
    "model.load_state_dict(ckpt, strict=False)\n",
    "model.eval()\n",
    "model = model.to(device)"
   ]
  },
  {
   "cell_type": "code",
   "execution_count": 39,
   "id": "1e9af033-0291-4487-918b-5f6f5a92d6aa",
   "metadata": {},
   "outputs": [],
   "source": [
    "with torch.no_grad():\n",
    "    outp = model.transcribe([\"./example.wav\"])[0]\n",
    "    print(outp)\n",
    "\n",
    "with torch.no_grad():\n",
    "    outp = model.transcribe([\"./long_example.wav\"])[0]\n",
    "    print(outp)\n",
    "\n",
    "with torch.no_grad():\n",
    "    outp = model.transcribe([\"./temp_audio.wav\"])[0]\n",
    "    print(outp)\n",
    "\n",
    "file_path_1 = 'example.wav'\n",
    "audio, sr = librosa.load(file_path_1, sr=None, mono=False)\n",
    "print(audio.shape)\n",
    "\n",
    "file_path_2 = 'long_example.wav'\n",
    "audio, sr = librosa.load(file_path_2, sr=None, mono=False)\n",
    "print(audio.shape)\n",
    "\n",
    "file_path_3 = 'temp_audio.wav'\n",
    "audio, sr = librosa.load(file_path_3, sr=None, mono=False)\n",
    "print(audio.shape)"
   ]
  },
  {
   "cell_type": "markdown",
   "id": "9e1da606-4e0a-410e-9db7-07c23cd13f61",
   "metadata": {
    "jp-MarkdownHeadingCollapsed": true
   },
   "source": [
    "#### Inference Whisper-V3"
   ]
  },
  {
   "cell_type": "code",
   "execution_count": 127,
   "id": "48e3298d-939b-4e57-af34-32789ef80c59",
   "metadata": {},
   "outputs": [],
   "source": [
    "del encoder, feature_extractor\n",
    "torch.cuda.empty_cache()"
   ]
  },
  {
   "cell_type": "code",
   "execution_count": 128,
   "id": "4943f722-da0f-4e19-b8db-27a09b1f3065",
   "metadata": {},
   "outputs": [],
   "source": [
    "def instantiate_whisper(device: str = 'cuda', torch_dtype = torch.float16):\n",
    "    model = AutoModelForSpeechSeq2Seq.from_pretrained(\n",
    "        \"models/whisper_model\", torch_dtype=torch_dtype, low_cpu_mem_usage=True, use_safetensors=True\n",
    "    ).to(device)\n",
    "    processor = AutoProcessor.from_pretrained(\"models/whisper_processor\")\n",
    "    \n",
    "    model.eval()\n",
    "\n",
    "    pipe = pipeline(\n",
    "        \"automatic-speech-recognition\",\n",
    "        model=model,\n",
    "        tokenizer=processor.tokenizer,\n",
    "        feature_extractor=processor.feature_extractor,\n",
    "        torch_dtype=torch_dtype,\n",
    "        device=device,\n",
    "        chunk_length_s=30,\n",
    "        stride_length_s=5\n",
    "    )\n",
    "\n",
    "    return model, processor, pipe\n",
    "\n",
    "\n",
    "def process_whisper(\n",
    "    video_path: str,\n",
    "    model,\n",
    "    processor,\n",
    "    asr_pipe,\n",
    "    device = 'cuda',\n",
    "    torch_dtype = torch.float16,\n",
    "    audio_duration: int = 60,\n",
    "    audio_sampling_rate: int = 16000\n",
    ") -> torch.Tensor:    \n",
    "    try:\n",
    "        inp_sample = {\"path\": video_path}\n",
    "        test_sample = speech_file_to_array_fn(inp_sample, audio_duration, audio_sampling_rate)\n",
    "\n",
    "        if test_sample is None:\n",
    "            return None, None\n",
    "        \n",
    "        inputs = processor(test_sample['speech'], sampling_rate=audio_sampling_rate, return_tensors=\"pt\")\n",
    "        input_features = inputs.input_features.type(torch_dtype).to(device)\n",
    "\n",
    "        with torch.no_grad():\n",
    "            encoder_outputs = model.model.encoder(input_features)\n",
    "        \n",
    "        output = encoder_outputs.last_hidden_state.mean(dim=1).squeeze().cpu()\n",
    "        \n",
    "        sample = {'raw': test_sample['speech'], 'sampling_rate': audio_sampling_rate}\n",
    "        decoded_speech = asr_pipe(sample)\n",
    "        \n",
    "        return output, decoded_speech['text']\n",
    "\n",
    "    except Exception as e:\n",
    "        logging.error(f\"Unexpected error: {e}\")\n",
    "        print(\"An unexpected error occurred:\")\n",
    "        print(e)"
   ]
  },
  {
   "cell_type": "code",
   "execution_count": 129,
   "id": "8f19f636-130a-43bf-9864-86387603c696",
   "metadata": {},
   "outputs": [
    {
     "data": {
      "application/vnd.jupyter.widget-view+json": {
       "model_id": "ca66625c37c1466892e7f39cedc31d03",
       "version_major": 2,
       "version_minor": 0
      },
      "text/plain": [
       "Loading checkpoint shards:   0%|          | 0/2 [00:00<?, ?it/s]"
      ]
     },
     "metadata": {},
     "output_type": "display_data"
    },
    {
     "data": {
      "application/vnd.jupyter.widget-view+json": {
       "model_id": "3b187cb8d38545ebbd38d24316bf0c69",
       "version_major": 2,
       "version_minor": 0
      },
      "text/plain": [
       "  0%|          | 0/48 [00:00<?, ?it/s]"
      ]
     },
     "metadata": {},
     "output_type": "display_data"
    },
    {
     "name": "stdout",
     "output_type": "stream",
     "text": [
      "MoviePy - Writing audio in temp_audio.wav\n"
     ]
    },
    {
     "name": "stderr",
     "output_type": "stream",
     "text": [
      "\n",
      "chunk:   0%|                                                                                                         | 0/1324 [00:00<?, ?it/s, now=None]\u001b[A\n",
      "chunk:  19%|█████████████████▍                                                                           | 249/1324 [00:00<00:00, 2487.99it/s, now=None]\u001b[A\n",
      "chunk:  69%|███████████████████████████████████████████████████████████████▉                             | 910/1324 [00:00<00:00, 4910.30it/s, now=None]\u001b[A\n",
      "                                                                                                                                                        \u001b[A"
     ]
    },
    {
     "name": "stdout",
     "output_type": "stream",
     "text": [
      "MoviePy - Done.\n"
     ]
    },
    {
     "name": "stderr",
     "output_type": "stream",
     "text": [
      "[NeMo W 2024-09-26 22:16:15 nemo_logging:349] /home/eduard/Рабочий стол/video-tagging/video-tag/lib/python3.10/site-packages/transformers/models/whisper/generation_whisper.py:496: FutureWarning: The input name `inputs` is deprecated. Please make sure to use `input_features` instead.\n",
      "      warnings.warn(\n",
      "    \n",
      "Due to a bug fix in https://github.com/huggingface/transformers/pull/28687 transcription using a multilingual Whisper will default to language detection followed by transcription instead of translation to English.This might be a breaking change for your use case. If you want to instead always translate your audio to English, make sure to pass `language='en'`.\n",
      "Passing a tuple of `past_key_values` is deprecated and will be removed in Transformers v4.43.0. You should pass an instance of `EncoderDecoderCache` instead, e.g. `past_key_values=EncoderDecoderCache.from_legacy_cache(past_key_values)`.\n",
      "The attention mask is not set and cannot be inferred from input because pad token is same as eos token. As a consequence, you may observe unexpected behavior. Please pass your input's `attention_mask` to obtain reliable results.\n"
     ]
    },
    {
     "name": "stdout",
     "output_type": "stream",
     "text": [
      "MoviePy - Writing audio in temp_audio.wav\n"
     ]
    },
    {
     "name": "stderr",
     "output_type": "stream",
     "text": [
      "\n",
      "chunk:   0%|                                                                                                         | 0/1324 [00:00<?, ?it/s, now=None]\u001b[A\n",
      "chunk:   5%|████▋                                                                                          | 66/1324 [00:00<00:01, 658.95it/s, now=None]\u001b[A\n",
      "chunk:  35%|████████████████████████████████▏                                                            | 459/1324 [00:00<00:00, 2573.07it/s, now=None]\u001b[A\n",
      "chunk:  81%|██████████████████████████████████████████████████████████████████████████▍                 | 1071/1324 [00:00<00:00, 4148.43it/s, now=None]\u001b[A\n",
      "                                                                                                                                                        \u001b[A"
     ]
    },
    {
     "name": "stdout",
     "output_type": "stream",
     "text": [
      "MoviePy - Done.\n",
      "MoviePy - Writing audio in temp_audio.wav\n"
     ]
    },
    {
     "name": "stderr",
     "output_type": "stream",
     "text": [
      "\n",
      "chunk:   0%|                                                                                                         | 0/1324 [00:00<?, ?it/s, now=None]\u001b[A\n",
      "chunk:  51%|███████████████████████████████████████████████▊                                             | 680/1324 [00:00<00:00, 6795.26it/s, now=None]\u001b[A\n",
      "                                                                                                                                                        \u001b[A"
     ]
    },
    {
     "name": "stdout",
     "output_type": "stream",
     "text": [
      "MoviePy - Done.\n",
      "MoviePy - Writing audio in temp_audio.wav\n"
     ]
    },
    {
     "name": "stderr",
     "output_type": "stream",
     "text": [
      "\n",
      "chunk:   0%|                                                                                                         | 0/1324 [00:00<?, ?it/s, now=None]\u001b[A\n",
      "chunk:  53%|█████████████████████████████████████████████████▏                                           | 700/1324 [00:00<00:00, 6995.59it/s, now=None]\u001b[A\n",
      "                                                                                                                                                        \u001b[A"
     ]
    },
    {
     "name": "stdout",
     "output_type": "stream",
     "text": [
      "MoviePy - Done.\n",
      "MoviePy - Writing audio in temp_audio.wav\n"
     ]
    },
    {
     "name": "stderr",
     "output_type": "stream",
     "text": [
      "\n",
      "chunk:   0%|                                                                                                         | 0/1324 [00:00<?, ?it/s, now=None]\u001b[A\n",
      "chunk:  58%|█████████████████████████████████████████████████████▋                                       | 765/1324 [00:00<00:00, 7480.40it/s, now=None]\u001b[A\n",
      "                                                                                                                                                        \u001b[A"
     ]
    },
    {
     "name": "stdout",
     "output_type": "stream",
     "text": [
      "MoviePy - Done.\n",
      "MoviePy - Writing audio in temp_audio.wav\n"
     ]
    },
    {
     "name": "stderr",
     "output_type": "stream",
     "text": [
      "\n",
      "chunk:   0%|                                                                                                         | 0/1324 [00:00<?, ?it/s, now=None]\u001b[A\n",
      "chunk:  54%|██████████████████████████████████████████████████                                           | 713/1324 [00:00<00:00, 7127.59it/s, now=None]\u001b[A\n",
      "                                                                                                                                                        \u001b[A"
     ]
    },
    {
     "name": "stdout",
     "output_type": "stream",
     "text": [
      "MoviePy - Done.\n",
      "MoviePy - Writing audio in temp_audio.wav\n"
     ]
    },
    {
     "name": "stderr",
     "output_type": "stream",
     "text": [
      "\n",
      "chunk:   0%|                                                                                                         | 0/1324 [00:00<?, ?it/s, now=None]\u001b[A\n",
      "chunk:  52%|████████████████████████████████████████████████▊                                            | 695/1324 [00:00<00:00, 6946.53it/s, now=None]\u001b[A\n",
      "                                                                                                                                                        \u001b[A"
     ]
    },
    {
     "name": "stdout",
     "output_type": "stream",
     "text": [
      "MoviePy - Done.\n",
      "MoviePy - Writing audio in temp_audio.wav\n"
     ]
    },
    {
     "name": "stderr",
     "output_type": "stream",
     "text": [
      "\n",
      "chunk:   0%|                                                                                                         | 0/1324 [00:00<?, ?it/s, now=None]\u001b[A\n",
      "chunk:  58%|█████████████████████████████████████████████████████▋                                       | 764/1324 [00:00<00:00, 7635.02it/s, now=None]\u001b[A\n",
      "                                                                                                                                                        \u001b[A"
     ]
    },
    {
     "name": "stdout",
     "output_type": "stream",
     "text": [
      "MoviePy - Done.\n",
      "MoviePy - Writing audio in temp_audio.wav\n"
     ]
    },
    {
     "name": "stderr",
     "output_type": "stream",
     "text": [
      "\n",
      "chunk:   0%|                                                                                                         | 0/1324 [00:00<?, ?it/s, now=None]\u001b[A\n",
      "chunk:  46%|██████████████████████████████████████████▉                                                  | 612/1324 [00:00<00:00, 6088.01it/s, now=None]\u001b[A\n",
      "chunk:  96%|████████████████████████████████████████████████████████████████████████████████████████▋   | 1276/1324 [00:00<00:00, 6410.12it/s, now=None]\u001b[A\n",
      "                                                                                                                                                        \u001b[A"
     ]
    },
    {
     "name": "stdout",
     "output_type": "stream",
     "text": [
      "MoviePy - Done.\n",
      "MoviePy - Writing audio in temp_audio.wav\n"
     ]
    },
    {
     "name": "stderr",
     "output_type": "stream",
     "text": [
      "\n",
      "chunk:   0%|                                                                                                         | 0/1324 [00:00<?, ?it/s, now=None]\u001b[A\n",
      "chunk:  42%|███████████████████████████████████████▏                                                     | 558/1324 [00:00<00:00, 5574.72it/s, now=None]\u001b[A\n",
      "chunk:  84%|█████████████████████████████████████████████████████████████████████████████▌              | 1116/1324 [00:00<00:00, 5130.59it/s, now=None]\u001b[A\n",
      "                                                                                                                                                        \u001b[A"
     ]
    },
    {
     "name": "stdout",
     "output_type": "stream",
     "text": [
      "MoviePy - Done.\n",
      "MoviePy - Writing audio in temp_audio.wav\n"
     ]
    },
    {
     "name": "stderr",
     "output_type": "stream",
     "text": [
      "\n",
      "chunk:   0%|                                                                                                         | 0/1324 [00:00<?, ?it/s, now=None]\u001b[A\n",
      "chunk:  50%|██████████████████████████████████████████████▌                                              | 663/1324 [00:00<00:00, 6573.29it/s, now=None]\u001b[A\n",
      "                                                                                                                                                        \u001b[A"
     ]
    },
    {
     "name": "stdout",
     "output_type": "stream",
     "text": [
      "MoviePy - Done.\n"
     ]
    },
    {
     "name": "stderr",
     "output_type": "stream",
     "text": [
      "You seem to be using the pipelines sequentially on GPU. In order to maximize efficiency please use a dataset\n"
     ]
    },
    {
     "name": "stdout",
     "output_type": "stream",
     "text": [
      "MoviePy - Writing audio in temp_audio.wav\n"
     ]
    },
    {
     "name": "stderr",
     "output_type": "stream",
     "text": [
      "\n",
      "chunk:   0%|                                                                                                         | 0/1324 [00:00<?, ?it/s, now=None]\u001b[A\n",
      "chunk:  61%|████████████████████████████████████████████████████████▊                                    | 808/1324 [00:00<00:00, 8077.35it/s, now=None]\u001b[A\n",
      "                                                                                                                                                        \u001b[A"
     ]
    },
    {
     "name": "stdout",
     "output_type": "stream",
     "text": [
      "MoviePy - Done.\n",
      "MoviePy - Writing audio in temp_audio.wav\n"
     ]
    },
    {
     "name": "stderr",
     "output_type": "stream",
     "text": [
      "\n",
      "chunk:   0%|                                                                                                         | 0/1324 [00:00<?, ?it/s, now=None]\u001b[A\n",
      "chunk:  54%|██████████████████████████████████████████████████▌                                          | 720/1324 [00:00<00:00, 7198.51it/s, now=None]\u001b[A\n",
      "                                                                                                                                                        \u001b[A"
     ]
    },
    {
     "name": "stdout",
     "output_type": "stream",
     "text": [
      "MoviePy - Done.\n",
      "MoviePy - Writing audio in temp_audio.wav\n"
     ]
    },
    {
     "name": "stderr",
     "output_type": "stream",
     "text": [
      "\n",
      "chunk:   0%|                                                                                                         | 0/1324 [00:00<?, ?it/s, now=None]\u001b[A\n",
      "chunk:  54%|██████████████████████████████████████████████████▏                                          | 714/1324 [00:00<00:00, 7021.70it/s, now=None]\u001b[A\n",
      "                                                                                                                                                        \u001b[A"
     ]
    },
    {
     "name": "stdout",
     "output_type": "stream",
     "text": [
      "MoviePy - Done.\n",
      "MoviePy - Writing audio in temp_audio.wav\n"
     ]
    },
    {
     "name": "stderr",
     "output_type": "stream",
     "text": [
      "\n",
      "chunk:   0%|                                                                                                         | 0/1324 [00:00<?, ?it/s, now=None]\u001b[A\n",
      "chunk:  54%|██████████████████████████████████████████████████▏                                          | 714/1324 [00:00<00:00, 6978.62it/s, now=None]\u001b[A\n",
      "                                                                                                                                                        \u001b[A"
     ]
    },
    {
     "name": "stdout",
     "output_type": "stream",
     "text": [
      "MoviePy - Done.\n",
      "MoviePy - Writing audio in temp_audio.wav\n"
     ]
    },
    {
     "name": "stderr",
     "output_type": "stream",
     "text": [
      "\n",
      "chunk:   0%|                                                                                                         | 0/1324 [00:00<?, ?it/s, now=None]\u001b[A\n",
      "chunk:  54%|██████████████████████████████████████████████████▏                                          | 715/1324 [00:00<00:00, 7145.12it/s, now=None]\u001b[A\n",
      "                                                                                                                                                        \u001b[A"
     ]
    },
    {
     "name": "stdout",
     "output_type": "stream",
     "text": [
      "MoviePy - Done.\n",
      "MoviePy - Writing audio in temp_audio.wav\n"
     ]
    },
    {
     "name": "stderr",
     "output_type": "stream",
     "text": [
      "\n",
      "chunk:   0%|                                                                                                         | 0/1324 [00:00<?, ?it/s, now=None]\u001b[A\n",
      "chunk:  51%|███████████████████████████████████████████████▏                                             | 672/1324 [00:00<00:00, 6717.11it/s, now=None]\u001b[A\n",
      "                                                                                                                                                        \u001b[A"
     ]
    },
    {
     "name": "stdout",
     "output_type": "stream",
     "text": [
      "MoviePy - Done.\n",
      "MoviePy - Writing audio in temp_audio.wav\n"
     ]
    },
    {
     "name": "stderr",
     "output_type": "stream",
     "text": [
      "\n",
      "chunk:   0%|                                                                                                         | 0/1324 [00:00<?, ?it/s, now=None]\u001b[A\n",
      "chunk:  51%|███████████████████████████████████████████████▌                                             | 678/1324 [00:00<00:00, 6779.49it/s, now=None]\u001b[A\n",
      "                                                                                                                                                        \u001b[A"
     ]
    },
    {
     "name": "stdout",
     "output_type": "stream",
     "text": [
      "MoviePy - Done.\n",
      "MoviePy - Writing audio in temp_audio.wav\n"
     ]
    },
    {
     "name": "stderr",
     "output_type": "stream",
     "text": [
      "\n",
      "chunk:   0%|                                                                                                         | 0/1324 [00:00<?, ?it/s, now=None]\u001b[A\n",
      "chunk:  50%|██████████████████████████████████████████████▌                                              | 663/1324 [00:00<00:00, 6404.39it/s, now=None]\u001b[A\n",
      "                                                                                                                                                        \u001b[A"
     ]
    },
    {
     "name": "stdout",
     "output_type": "stream",
     "text": [
      "MoviePy - Done.\n",
      "MoviePy - Writing audio in temp_audio.wav\n"
     ]
    },
    {
     "name": "stderr",
     "output_type": "stream",
     "text": [
      "\n",
      "chunk:   0%|                                                                                                         | 0/1324 [00:00<?, ?it/s, now=None]\u001b[A\n",
      "chunk:  50%|██████████████████████████████████████████████▊                                              | 667/1324 [00:00<00:00, 6664.13it/s, now=None]\u001b[A\n",
      "                                                                                                                                                        \u001b[A"
     ]
    },
    {
     "name": "stdout",
     "output_type": "stream",
     "text": [
      "MoviePy - Done.\n",
      "MoviePy - Writing audio in temp_audio.wav\n"
     ]
    },
    {
     "name": "stderr",
     "output_type": "stream",
     "text": [
      "\n",
      "chunk:   0%|                                                                                                         | 0/1324 [00:00<?, ?it/s, now=None]\u001b[A\n",
      "chunk:  49%|██████████████████████████████████████████████                                               | 655/1324 [00:00<00:00, 6545.98it/s, now=None]\u001b[A\n",
      "chunk:  99%|███████████████████████████████████████████████████████████████████████████████████████████ | 1310/1324 [00:00<00:00, 6424.57it/s, now=None]\u001b[A\n",
      "                                                                                                                                                        \u001b[A"
     ]
    },
    {
     "name": "stdout",
     "output_type": "stream",
     "text": [
      "MoviePy - Done.\n",
      "MoviePy - Writing audio in temp_audio.wav\n"
     ]
    },
    {
     "name": "stderr",
     "output_type": "stream",
     "text": [
      "\n",
      "chunk:   0%|                                                                                                         | 0/1324 [00:00<?, ?it/s, now=None]\u001b[A\n",
      "chunk:  50%|██████████████████████████████████████████████▌                                              | 663/1324 [00:00<00:00, 6600.88it/s, now=None]\u001b[A\n",
      "                                                                                                                                                        \u001b[A"
     ]
    },
    {
     "name": "stdout",
     "output_type": "stream",
     "text": [
      "MoviePy - Done.\n",
      "MoviePy - Writing audio in temp_audio.wav\n"
     ]
    },
    {
     "name": "stderr",
     "output_type": "stream",
     "text": [
      "\n",
      "chunk:   0%|                                                                                                         | 0/1324 [00:00<?, ?it/s, now=None]\u001b[A\n",
      "chunk:  54%|██████████████████████████████████████████████████                                           | 712/1324 [00:00<00:00, 7119.84it/s, now=None]\u001b[A\n",
      "                                                                                                                                                        \u001b[A"
     ]
    },
    {
     "name": "stdout",
     "output_type": "stream",
     "text": [
      "MoviePy - Done.\n",
      "MoviePy - Writing audio in temp_audio.wav\n"
     ]
    },
    {
     "name": "stderr",
     "output_type": "stream",
     "text": [
      "\n",
      "chunk:   0%|                                                                                                         | 0/1324 [00:00<?, ?it/s, now=None]\u001b[A\n",
      "chunk:  50%|██████████████████████████████████████████████▉                                              | 668/1324 [00:00<00:00, 6679.46it/s, now=None]\u001b[A\n",
      "                                                                                                                                                        \u001b[A"
     ]
    },
    {
     "name": "stdout",
     "output_type": "stream",
     "text": [
      "MoviePy - Done.\n",
      "MoviePy - Writing audio in temp_audio.wav\n"
     ]
    },
    {
     "name": "stderr",
     "output_type": "stream",
     "text": [
      "\n",
      "chunk:   0%|                                                                                                         | 0/1324 [00:00<?, ?it/s, now=None]\u001b[A\n",
      "chunk:  54%|██████████████████████████████████████████████████▏                                          | 714/1324 [00:00<00:00, 7071.25it/s, now=None]\u001b[A\n",
      "                                                                                                                                                        \u001b[A"
     ]
    },
    {
     "name": "stdout",
     "output_type": "stream",
     "text": [
      "MoviePy - Done.\n",
      "MoviePy - Writing audio in temp_audio.wav\n"
     ]
    },
    {
     "name": "stderr",
     "output_type": "stream",
     "text": [
      "\n",
      "chunk:   0%|                                                                                                         | 0/1324 [00:00<?, ?it/s, now=None]\u001b[A\n",
      "chunk:  54%|██████████████████████████████████████████████████▏                                          | 714/1324 [00:00<00:00, 7008.80it/s, now=None]\u001b[A\n",
      "                                                                                                                                                        \u001b[A"
     ]
    },
    {
     "name": "stdout",
     "output_type": "stream",
     "text": [
      "MoviePy - Done.\n",
      "MoviePy - Writing audio in temp_audio.wav\n"
     ]
    },
    {
     "name": "stderr",
     "output_type": "stream",
     "text": [
      "\n",
      "chunk:   0%|                                                                                                         | 0/1324 [00:00<?, ?it/s, now=None]\u001b[A\n",
      "chunk:  53%|█████████████████████████████████████████████████▎                                           | 702/1324 [00:00<00:00, 7015.91it/s, now=None]\u001b[A\n",
      "                                                                                                                                                        \u001b[A"
     ]
    },
    {
     "name": "stdout",
     "output_type": "stream",
     "text": [
      "MoviePy - Done.\n",
      "MoviePy - Writing audio in temp_audio.wav\n"
     ]
    },
    {
     "name": "stderr",
     "output_type": "stream",
     "text": [
      "\n",
      "chunk:   0%|                                                                                                         | 0/1324 [00:00<?, ?it/s, now=None]\u001b[A\n",
      "chunk:  32%|██████████████████████████████▏                                                              | 430/1324 [00:00<00:00, 4298.86it/s, now=None]\u001b[A\n",
      "chunk:  65%|████████████████████████████████████████████████████████████▍                                | 860/1324 [00:00<00:00, 3821.04it/s, now=None]\u001b[A\n",
      "                                                                                                                                                        \u001b[A"
     ]
    },
    {
     "name": "stdout",
     "output_type": "stream",
     "text": [
      "MoviePy - Done.\n",
      "MoviePy - Writing audio in temp_audio.wav\n"
     ]
    },
    {
     "name": "stderr",
     "output_type": "stream",
     "text": [
      "\n",
      "chunk:   0%|                                                                                                         | 0/1324 [00:00<?, ?it/s, now=None]\u001b[A\n",
      "chunk:  55%|███████████████████████████████████████████████████                                          | 727/1324 [00:00<00:00, 7266.16it/s, now=None]\u001b[A\n",
      "                                                                                                                                                        \u001b[A"
     ]
    },
    {
     "name": "stdout",
     "output_type": "stream",
     "text": [
      "MoviePy - Done.\n",
      "MoviePy - Writing audio in temp_audio.wav\n"
     ]
    },
    {
     "name": "stderr",
     "output_type": "stream",
     "text": [
      "\n",
      "chunk:   0%|                                                                                                         | 0/1324 [00:00<?, ?it/s, now=None]\u001b[A\n",
      "chunk:  49%|█████████████████████████████████████████████▌                                               | 648/1324 [00:00<00:00, 6475.48it/s, now=None]\u001b[A\n",
      "chunk:  98%|██████████████████████████████████████████████████████████████████████████████████████████  | 1296/1324 [00:00<00:00, 6189.20it/s, now=None]\u001b[A\n",
      "                                                                                                                                                        \u001b[A"
     ]
    },
    {
     "name": "stdout",
     "output_type": "stream",
     "text": [
      "MoviePy - Done.\n",
      "MoviePy - Writing audio in temp_audio.wav\n"
     ]
    },
    {
     "name": "stderr",
     "output_type": "stream",
     "text": [
      "\n",
      "chunk:   0%|                                                                                                         | 0/1324 [00:00<?, ?it/s, now=None]\u001b[A\n",
      "chunk:  55%|██████████████████████████████████████████████████▉                                          | 725/1324 [00:00<00:00, 7246.45it/s, now=None]\u001b[A\n",
      "                                                                                                                                                        \u001b[A"
     ]
    },
    {
     "name": "stdout",
     "output_type": "stream",
     "text": [
      "MoviePy - Done.\n",
      "MoviePy - Writing audio in temp_audio.wav\n"
     ]
    },
    {
     "name": "stderr",
     "output_type": "stream",
     "text": [
      "\n",
      "chunk:   0%|                                                                                                         | 0/1324 [00:00<?, ?it/s, now=None]\u001b[A\n",
      "chunk:  48%|████████████████████████████████████████████▍                                                | 632/1324 [00:00<00:00, 6315.58it/s, now=None]\u001b[A\n",
      "                                                                                                                                                        \u001b[A"
     ]
    },
    {
     "name": "stdout",
     "output_type": "stream",
     "text": [
      "MoviePy - Done.\n",
      "MoviePy - Writing audio in temp_audio.wav\n"
     ]
    },
    {
     "name": "stderr",
     "output_type": "stream",
     "text": [
      "\n",
      "chunk:   0%|                                                                                                         | 0/1324 [00:00<?, ?it/s, now=None]\u001b[A\n",
      "chunk:  42%|███████████████████████████████████████▍                                                     | 561/1324 [00:00<00:00, 5551.12it/s, now=None]\u001b[A\n",
      "chunk:  88%|████████████████████████████████████████████████████████████████████████████████▉           | 1164/1324 [00:00<00:00, 5828.47it/s, now=None]\u001b[A\n",
      "                                                                                                                                                        \u001b[A"
     ]
    },
    {
     "name": "stdout",
     "output_type": "stream",
     "text": [
      "MoviePy - Done.\n",
      "MoviePy - Writing audio in temp_audio.wav\n"
     ]
    },
    {
     "name": "stderr",
     "output_type": "stream",
     "text": [
      "\n",
      "chunk:   0%|                                                                                                         | 0/1324 [00:00<?, ?it/s, now=None]\u001b[A\n",
      "chunk:  57%|█████████████████████████████████████████████████████                                        | 756/1324 [00:00<00:00, 7552.52it/s, now=None]\u001b[A\n",
      "                                                                                                                                                        \u001b[A"
     ]
    },
    {
     "name": "stdout",
     "output_type": "stream",
     "text": [
      "MoviePy - Done.\n",
      "MoviePy - Writing audio in temp_audio.wav\n"
     ]
    },
    {
     "name": "stderr",
     "output_type": "stream",
     "text": [
      "\n",
      "chunk:   0%|                                                                                                         | 0/1324 [00:00<?, ?it/s, now=None]\u001b[A\n",
      "chunk:  43%|███████████████████████████████████████▋                                                     | 565/1324 [00:00<00:00, 5646.33it/s, now=None]\u001b[A\n",
      "chunk:  90%|██████████████████████████████████████████████████████████████████████████████████▋         | 1190/1324 [00:00<00:00, 6000.72it/s, now=None]\u001b[A\n",
      "                                                                                                                                                        \u001b[A"
     ]
    },
    {
     "name": "stdout",
     "output_type": "stream",
     "text": [
      "MoviePy - Done.\n",
      "MoviePy - Writing audio in temp_audio.wav\n"
     ]
    },
    {
     "name": "stderr",
     "output_type": "stream",
     "text": [
      "\n",
      "chunk:   0%|                                                                                                         | 0/1324 [00:00<?, ?it/s, now=None]\u001b[A\n",
      "chunk:  56%|███████████████████████████████████████████████████▊                                         | 737/1324 [00:00<00:00, 7367.65it/s, now=None]\u001b[A\n",
      "                                                                                                                                                        \u001b[A"
     ]
    },
    {
     "name": "stdout",
     "output_type": "stream",
     "text": [
      "MoviePy - Done.\n",
      "MoviePy - Writing audio in temp_audio.wav\n"
     ]
    },
    {
     "name": "stderr",
     "output_type": "stream",
     "text": [
      "\n",
      "chunk:   0%|                                                                                                         | 0/1324 [00:00<?, ?it/s, now=None]\u001b[A\n",
      "chunk:  55%|███████████████████████████████████████████████████▏                                         | 728/1324 [00:00<00:00, 7277.61it/s, now=None]\u001b[A\n",
      "                                                                                                                                                        \u001b[A"
     ]
    },
    {
     "name": "stdout",
     "output_type": "stream",
     "text": [
      "MoviePy - Done.\n",
      "MoviePy - Writing audio in temp_audio.wav\n"
     ]
    },
    {
     "name": "stderr",
     "output_type": "stream",
     "text": [
      "\n",
      "chunk:   0%|                                                                                                         | 0/1324 [00:00<?, ?it/s, now=None]\u001b[A\n",
      "chunk:  44%|█████████████████████████████████████████                                                    | 584/1324 [00:00<00:00, 5836.82it/s, now=None]\u001b[A\n",
      "chunk:  88%|█████████████████████████████████████████████████████████████████████████████████▏          | 1168/1324 [00:00<00:00, 5252.57it/s, now=None]\u001b[A\n",
      "                                                                                                                                                        \u001b[A"
     ]
    },
    {
     "name": "stdout",
     "output_type": "stream",
     "text": [
      "MoviePy - Done.\n",
      "MoviePy - Writing audio in temp_audio.wav\n"
     ]
    },
    {
     "name": "stderr",
     "output_type": "stream",
     "text": [
      "\n",
      "chunk:   0%|                                                                                                         | 0/1324 [00:00<?, ?it/s, now=None]\u001b[A\n",
      "chunk:  53%|████████████████████████████████████████████████▉                                            | 696/1324 [00:00<00:00, 6956.01it/s, now=None]\u001b[A\n",
      "                                                                                                                                                        \u001b[A"
     ]
    },
    {
     "name": "stdout",
     "output_type": "stream",
     "text": [
      "MoviePy - Done.\n",
      "MoviePy - Writing audio in temp_audio.wav\n"
     ]
    },
    {
     "name": "stderr",
     "output_type": "stream",
     "text": [
      "\n",
      "chunk:   0%|                                                                                                         | 0/1324 [00:00<?, ?it/s, now=None]\u001b[A\n",
      "chunk:  47%|███████████████████████████████████████████▎                                                 | 616/1324 [00:00<00:00, 6159.51it/s, now=None]\u001b[A\n",
      "chunk:  93%|█████████████████████████████████████████████████████████████████████████████████████▌      | 1232/1324 [00:00<00:00, 5070.45it/s, now=None]\u001b[A\n",
      "                                                                                                                                                        \u001b[A"
     ]
    },
    {
     "name": "stdout",
     "output_type": "stream",
     "text": [
      "MoviePy - Done.\n",
      "MoviePy - Writing audio in temp_audio.wav\n"
     ]
    },
    {
     "name": "stderr",
     "output_type": "stream",
     "text": [
      "\n",
      "chunk:   0%|                                                                                                         | 0/1324 [00:00<?, ?it/s, now=None]\u001b[A\n",
      "chunk:  55%|███████████████████████████████████████████████████▍                                         | 732/1324 [00:00<00:00, 7314.88it/s, now=None]\u001b[A\n",
      "                                                                                                                                                        \u001b[A"
     ]
    },
    {
     "name": "stdout",
     "output_type": "stream",
     "text": [
      "MoviePy - Done.\n",
      "MoviePy - Writing audio in temp_audio.wav\n"
     ]
    },
    {
     "name": "stderr",
     "output_type": "stream",
     "text": [
      "\n",
      "chunk:   0%|                                                                                                         | 0/1324 [00:00<?, ?it/s, now=None]\u001b[A\n",
      "chunk:  42%|███████████████████████████████████████▍                                                     | 561/1324 [00:00<00:00, 5533.98it/s, now=None]\u001b[A\n",
      "chunk:  85%|█████████████████████████████████████████████████████████████████████████████▉              | 1122/1324 [00:00<00:00, 5515.89it/s, now=None]\u001b[A\n",
      "                                                                                                                                                        \u001b[A"
     ]
    },
    {
     "name": "stdout",
     "output_type": "stream",
     "text": [
      "MoviePy - Done.\n",
      "MoviePy - Writing audio in temp_audio.wav\n"
     ]
    },
    {
     "name": "stderr",
     "output_type": "stream",
     "text": [
      "\n",
      "chunk:   0%|                                                                                                         | 0/1324 [00:00<?, ?it/s, now=None]\u001b[A\n",
      "chunk:  46%|██████████████████████████████████████████▉                                                  | 612/1324 [00:00<00:00, 5976.60it/s, now=None]\u001b[A\n",
      "chunk:  91%|████████████████████████████████████████████████████████████████████████████████████        | 1210/1324 [00:00<00:00, 5925.05it/s, now=None]\u001b[A\n",
      "                                                                                                                                                        \u001b[A"
     ]
    },
    {
     "name": "stdout",
     "output_type": "stream",
     "text": [
      "MoviePy - Done.\n",
      "MoviePy - Writing audio in temp_audio.wav\n"
     ]
    },
    {
     "name": "stderr",
     "output_type": "stream",
     "text": [
      "\n",
      "chunk:   0%|                                                                                                         | 0/1324 [00:00<?, ?it/s, now=None]\u001b[A\n",
      "chunk:  55%|███████████████████████████████████████████████████▌                                         | 734/1324 [00:00<00:00, 7336.18it/s, now=None]\u001b[A\n",
      "                                                                                                                                                        \u001b[A"
     ]
    },
    {
     "name": "stdout",
     "output_type": "stream",
     "text": [
      "MoviePy - Done.\n",
      "MoviePy - Writing audio in temp_audio.wav\n"
     ]
    },
    {
     "name": "stderr",
     "output_type": "stream",
     "text": [
      "\n",
      "chunk:   0%|                                                                                                         | 0/1324 [00:00<?, ?it/s, now=None]\u001b[A\n",
      "chunk:  46%|██████████████████████████████████████████▉                                                  | 612/1324 [00:00<00:00, 6070.97it/s, now=None]\u001b[A\n",
      "chunk:  92%|████████████████████████████████████████████████████████████████████████████████████▊       | 1220/1324 [00:00<00:00, 6010.41it/s, now=None]\u001b[A\n",
      "                                                                                                                                                        \u001b[A"
     ]
    },
    {
     "name": "stdout",
     "output_type": "stream",
     "text": [
      "MoviePy - Done.\n",
      "MoviePy - Writing audio in temp_audio.wav\n"
     ]
    },
    {
     "name": "stderr",
     "output_type": "stream",
     "text": [
      "\n",
      "chunk:   0%|                                                                                                         | 0/1324 [00:00<?, ?it/s, now=None]\u001b[A\n",
      "chunk:  52%|████████████████████████████████████████████████▎                                            | 687/1324 [00:00<00:00, 6864.83it/s, now=None]\u001b[A\n",
      "                                                                                                                                                        \u001b[A"
     ]
    },
    {
     "name": "stdout",
     "output_type": "stream",
     "text": [
      "MoviePy - Done.\n",
      "MoviePy - Writing audio in temp_audio.wav\n"
     ]
    },
    {
     "name": "stderr",
     "output_type": "stream",
     "text": [
      "\n",
      "chunk:   0%|                                                                                                         | 0/1324 [00:00<?, ?it/s, now=None]\u001b[A\n",
      "chunk:  45%|██████████████████████████████████████████▏                                                  | 600/1324 [00:00<00:00, 5997.27it/s, now=None]\u001b[A\n",
      "chunk:  92%|█████████████████████████████████████████████████████████████████████████████████████       | 1224/1324 [00:00<00:00, 6071.78it/s, now=None]\u001b[A\n",
      "                                                                                                                                                        \u001b[A"
     ]
    },
    {
     "name": "stdout",
     "output_type": "stream",
     "text": [
      "MoviePy - Done.\n",
      "MoviePy - Writing audio in temp_audio.wav\n"
     ]
    },
    {
     "name": "stderr",
     "output_type": "stream",
     "text": [
      "\n",
      "chunk:   0%|                                                                                                         | 0/1324 [00:00<?, ?it/s, now=None]\u001b[A\n",
      "chunk:  50%|██████████████████████████████████████████████▌                                              | 663/1324 [00:00<00:00, 6599.09it/s, now=None]\u001b[A\n",
      "                                                                                                                                                        \u001b[A"
     ]
    },
    {
     "name": "stdout",
     "output_type": "stream",
     "text": [
      "MoviePy - Done.\n",
      "MoviePy - Writing audio in temp_audio.wav\n"
     ]
    },
    {
     "name": "stderr",
     "output_type": "stream",
     "text": [
      "\n",
      "chunk:   0%|                                                                                                         | 0/1324 [00:00<?, ?it/s, now=None]\u001b[A\n",
      "chunk:  51%|███████████████████████████████████████████████▍                                             | 675/1324 [00:00<00:00, 6747.00it/s, now=None]\u001b[A\n",
      "                                                                                                                                                        \u001b[A"
     ]
    },
    {
     "name": "stdout",
     "output_type": "stream",
     "text": [
      "MoviePy - Done.\n",
      "MoviePy - Writing audio in temp_audio.wav\n"
     ]
    },
    {
     "name": "stderr",
     "output_type": "stream",
     "text": [
      "\n",
      "chunk:   0%|                                                                                                         | 0/1324 [00:00<?, ?it/s, now=None]\u001b[A\n",
      "chunk:  52%|████████████████████████████████████████████████▏                                            | 686/1324 [00:00<00:00, 6859.53it/s, now=None]\u001b[A\n",
      "                                                                                                                                                        \u001b[A"
     ]
    },
    {
     "name": "stdout",
     "output_type": "stream",
     "text": [
      "MoviePy - Done.\n",
      "MoviePy - Writing audio in temp_audio.wav\n"
     ]
    },
    {
     "name": "stderr",
     "output_type": "stream",
     "text": [
      "\n",
      "chunk:   0%|                                                                                                         | 0/1324 [00:00<?, ?it/s, now=None]\u001b[A\n",
      "chunk:  58%|█████████████████████████████████████████████████████▋                                       | 765/1324 [00:00<00:00, 7552.18it/s, now=None]\u001b[A\n",
      "                                                                                                                                                        \u001b[A"
     ]
    },
    {
     "name": "stdout",
     "output_type": "stream",
     "text": [
      "MoviePy - Done.\n",
      "MoviePy - Writing audio in temp_audio.wav\n"
     ]
    },
    {
     "name": "stderr",
     "output_type": "stream",
     "text": [
      "\n",
      "chunk:   0%|                                                                                                         | 0/1324 [00:00<?, ?it/s, now=None]\u001b[A\n",
      "chunk:  53%|█████████████████████████████████████████████████▍                                           | 703/1324 [00:00<00:00, 7029.14it/s, now=None]\u001b[A\n",
      "                                                                                                                                                        \u001b[A"
     ]
    },
    {
     "name": "stdout",
     "output_type": "stream",
     "text": [
      "MoviePy - Done.\n",
      "MoviePy - Writing audio in temp_audio.wav\n"
     ]
    },
    {
     "name": "stderr",
     "output_type": "stream",
     "text": [
      "\n",
      "chunk:   0%|                                                                                                         | 0/1324 [00:00<?, ?it/s, now=None]\u001b[A\n",
      "chunk:  50%|██████████████████████████████████████████████▎                                              | 659/1324 [00:00<00:00, 6585.33it/s, now=None]\u001b[A\n",
      "                                                                                                                                                        \u001b[A"
     ]
    },
    {
     "name": "stdout",
     "output_type": "stream",
     "text": [
      "MoviePy - Done.\n",
      "MoviePy - Writing audio in temp_audio.wav\n"
     ]
    },
    {
     "name": "stderr",
     "output_type": "stream",
     "text": [
      "\n",
      "chunk:   0%|                                                                                                          | 0/913 [00:00<?, ?it/s, now=None]\u001b[A\n",
      "chunk:  69%|████████████████████████████████████████████████████████████████▉                             | 631/913 [00:00<00:00, 6303.54it/s, now=None]\u001b[A\n",
      "                                                                                                                                                        \u001b[A"
     ]
    },
    {
     "name": "stdout",
     "output_type": "stream",
     "text": [
      "MoviePy - Done.\n",
      "MoviePy - Writing audio in temp_audio.wav\n"
     ]
    },
    {
     "name": "stderr",
     "output_type": "stream",
     "text": [
      "\n",
      "chunk:   0%|                                                                                                         | 0/1324 [00:00<?, ?it/s, now=None]\u001b[A\n",
      "chunk:  54%|██████████████████████████████████████████████████▏                                          | 714/1324 [00:00<00:00, 6985.09it/s, now=None]\u001b[A\n",
      "                                                                                                                                                        \u001b[A"
     ]
    },
    {
     "name": "stdout",
     "output_type": "stream",
     "text": [
      "MoviePy - Done.\n",
      "MoviePy - Writing audio in temp_audio.wav\n"
     ]
    },
    {
     "name": "stderr",
     "output_type": "stream",
     "text": [
      "\n",
      "chunk:   0%|                                                                                                         | 0/1324 [00:00<?, ?it/s, now=None]\u001b[A\n",
      "chunk:  43%|███████████████████████████████████████▋                                                     | 565/1324 [00:00<00:00, 5648.15it/s, now=None]\u001b[A\n",
      "chunk:  93%|█████████████████████████████████████████████████████████████████████████████████████▏      | 1226/1324 [00:00<00:00, 6213.16it/s, now=None]\u001b[A\n",
      "                                                                                                                                                        \u001b[A"
     ]
    },
    {
     "name": "stdout",
     "output_type": "stream",
     "text": [
      "MoviePy - Done.\n",
      "MoviePy - Writing audio in temp_audio.wav\n"
     ]
    },
    {
     "name": "stderr",
     "output_type": "stream",
     "text": [
      "\n",
      "chunk:   0%|                                                                                                         | 0/1324 [00:00<?, ?it/s, now=None]\u001b[A\n",
      "chunk:  46%|██████████████████████████████████████████▉                                                  | 612/1324 [00:00<00:00, 6037.84it/s, now=None]\u001b[A\n",
      "chunk:  95%|███████████████████████████████████████████████████████████████████████████████████████▌    | 1261/1324 [00:00<00:00, 6301.26it/s, now=None]\u001b[A\n",
      "                                                                                                                                                        \u001b[A"
     ]
    },
    {
     "name": "stdout",
     "output_type": "stream",
     "text": [
      "MoviePy - Done.\n",
      "MoviePy - Writing audio in temp_audio.wav\n"
     ]
    },
    {
     "name": "stderr",
     "output_type": "stream",
     "text": [
      "\n",
      "chunk:   0%|                                                                                                         | 0/1324 [00:00<?, ?it/s, now=None]\u001b[A\n",
      "chunk:  46%|██████████████████████████████████████████▉                                                  | 612/1324 [00:00<00:00, 6047.31it/s, now=None]\u001b[A\n",
      "chunk:  98%|█████████████████████████████████████████████████████████████████████████████████████████▊  | 1292/1324 [00:00<00:00, 6486.15it/s, now=None]\u001b[A\n",
      "                                                                                                                                                        \u001b[A"
     ]
    },
    {
     "name": "stdout",
     "output_type": "stream",
     "text": [
      "MoviePy - Done.\n",
      "MoviePy - Writing audio in temp_audio.wav\n"
     ]
    },
    {
     "name": "stderr",
     "output_type": "stream",
     "text": [
      "\n",
      "chunk:   0%|                                                                                                         | 0/1324 [00:00<?, ?it/s, now=None]\u001b[A\n",
      "chunk:  46%|██████████████████████████████████████████▉                                                  | 612/1324 [00:00<00:00, 5857.79it/s, now=None]\u001b[A\n",
      "chunk:  90%|███████████████████████████████████████████████████████████████████████████████████▏        | 1198/1324 [00:00<00:00, 5747.99it/s, now=None]\u001b[A\n",
      "                                                                                                                                                        \u001b[A"
     ]
    },
    {
     "name": "stdout",
     "output_type": "stream",
     "text": [
      "MoviePy - Done.\n",
      "MoviePy - Writing audio in temp_audio.wav\n"
     ]
    },
    {
     "name": "stderr",
     "output_type": "stream",
     "text": [
      "\n",
      "chunk:   0%|                                                                                                         | 0/1324 [00:00<?, ?it/s, now=None]\u001b[A\n",
      "chunk:  47%|███████████████████████████████████████████▌                                                 | 621/1324 [00:00<00:00, 6196.19it/s, now=None]\u001b[A\n",
      "chunk:  94%|██████████████████████████████████████████████████████████████████████████████████████▏     | 1241/1324 [00:00<00:00, 5558.57it/s, now=None]\u001b[A\n",
      "                                                                                                                                                        \u001b[A"
     ]
    },
    {
     "name": "stdout",
     "output_type": "stream",
     "text": [
      "MoviePy - Done.\n",
      "MoviePy - Writing audio in temp_audio.wav\n"
     ]
    },
    {
     "name": "stderr",
     "output_type": "stream",
     "text": [
      "\n",
      "chunk:   0%|                                                                                                         | 0/1324 [00:00<?, ?it/s, now=None]\u001b[A\n",
      "chunk:  49%|█████████████████████████████████████████████▎                                               | 645/1324 [00:00<00:00, 6443.83it/s, now=None]\u001b[A\n",
      "chunk:  97%|█████████████████████████████████████████████████████████████████████████████████████████▋  | 1290/1324 [00:00<00:00, 6162.36it/s, now=None]\u001b[A\n",
      "                                                                                                                                                        \u001b[A"
     ]
    },
    {
     "name": "stdout",
     "output_type": "stream",
     "text": [
      "MoviePy - Done.\n",
      "MoviePy - Writing audio in temp_audio.wav\n"
     ]
    },
    {
     "name": "stderr",
     "output_type": "stream",
     "text": [
      "\n",
      "chunk:   0%|                                                                                                         | 0/1324 [00:00<?, ?it/s, now=None]\u001b[A\n",
      "chunk:  42%|███████████████████████████████████████▍                                                     | 561/1324 [00:00<00:00, 5500.32it/s, now=None]\u001b[A\n",
      "chunk:  84%|█████████████████████████████████████████████████████████████████████████████▍              | 1115/1324 [00:00<00:00, 5519.34it/s, now=None]\u001b[A\n",
      "                                                                                                                                                        \u001b[A"
     ]
    },
    {
     "name": "stdout",
     "output_type": "stream",
     "text": [
      "MoviePy - Done.\n",
      "MoviePy - Writing audio in temp_audio.wav\n"
     ]
    },
    {
     "name": "stderr",
     "output_type": "stream",
     "text": [
      "\n",
      "chunk:   0%|                                                                                                         | 0/1324 [00:00<?, ?it/s, now=None]\u001b[A\n",
      "chunk:  52%|████████████████████████████████████████████████▍                                            | 690/1324 [00:00<00:00, 6898.25it/s, now=None]\u001b[A\n",
      "                                                                                                                                                        \u001b[A"
     ]
    },
    {
     "name": "stdout",
     "output_type": "stream",
     "text": [
      "MoviePy - Done.\n",
      "MoviePy - Writing audio in temp_audio.wav\n"
     ]
    },
    {
     "name": "stderr",
     "output_type": "stream",
     "text": [
      "\n",
      "chunk:   0%|                                                                                                         | 0/1324 [00:00<?, ?it/s, now=None]\u001b[A\n",
      "chunk:  50%|██████████████████████████████████████████████▌                                              | 663/1324 [00:00<00:00, 6524.88it/s, now=None]\u001b[A\n",
      "                                                                                                                                                        \u001b[A"
     ]
    },
    {
     "name": "stdout",
     "output_type": "stream",
     "text": [
      "MoviePy - Done.\n",
      "MoviePy - Writing audio in temp_audio.wav\n"
     ]
    },
    {
     "name": "stderr",
     "output_type": "stream",
     "text": [
      "\n",
      "chunk:   0%|                                                                                                          | 0/221 [00:00<?, ?it/s, now=None]\u001b[A\n",
      "                                                                                                                                                        \u001b[A"
     ]
    },
    {
     "name": "stdout",
     "output_type": "stream",
     "text": [
      "MoviePy - Done.\n",
      "MoviePy - Writing audio in temp_audio.wav\n"
     ]
    },
    {
     "name": "stderr",
     "output_type": "stream",
     "text": [
      "\n",
      "chunk:   0%|                                                                                                         | 0/1324 [00:00<?, ?it/s, now=None]\u001b[A\n",
      "chunk:  46%|██████████████████████████████████████████▉                                                  | 612/1324 [00:00<00:00, 6075.46it/s, now=None]\u001b[A\n",
      "chunk:  92%|████████████████████████████████████████████████████████████████████████████████████▊       | 1220/1324 [00:00<00:00, 6017.66it/s, now=None]\u001b[A\n",
      "                                                                                                                                                        \u001b[A"
     ]
    },
    {
     "name": "stdout",
     "output_type": "stream",
     "text": [
      "MoviePy - Done.\n",
      "MoviePy - Writing audio in temp_audio.wav\n"
     ]
    },
    {
     "name": "stderr",
     "output_type": "stream",
     "text": [
      "\n",
      "chunk:   0%|                                                                                                         | 0/1324 [00:00<?, ?it/s, now=None]\u001b[A\n",
      "chunk:  46%|██████████████████████████████████████████▎                                                  | 603/1324 [00:00<00:00, 6028.12it/s, now=None]\u001b[A\n",
      "chunk:  95%|███████████████████████████████████████████████████████████████████████████████████████▎    | 1257/1324 [00:00<00:00, 6328.85it/s, now=None]\u001b[A\n",
      "                                                                                                                                                        \u001b[A"
     ]
    },
    {
     "name": "stdout",
     "output_type": "stream",
     "text": [
      "MoviePy - Done.\n",
      "MoviePy - Writing audio in temp_audio.wav\n"
     ]
    },
    {
     "name": "stderr",
     "output_type": "stream",
     "text": [
      "\n",
      "chunk:   0%|                                                                                                         | 0/1324 [00:00<?, ?it/s, now=None]\u001b[A\n",
      "chunk:  54%|██████████████████████████████████████████████████▍                                          | 718/1324 [00:00<00:00, 7174.72it/s, now=None]\u001b[A\n",
      "                                                                                                                                                        \u001b[A"
     ]
    },
    {
     "name": "stdout",
     "output_type": "stream",
     "text": [
      "MoviePy - Done.\n",
      "MoviePy - Writing audio in temp_audio.wav\n"
     ]
    },
    {
     "name": "stderr",
     "output_type": "stream",
     "text": [
      "\n",
      "chunk:   0%|                                                                                                         | 0/1324 [00:00<?, ?it/s, now=None]\u001b[A\n",
      "chunk:  54%|██████████████████████████████████████████████████▏                                          | 714/1324 [00:00<00:00, 7014.66it/s, now=None]\u001b[A\n",
      "                                                                                                                                                        \u001b[A"
     ]
    },
    {
     "name": "stdout",
     "output_type": "stream",
     "text": [
      "MoviePy - Done.\n",
      "MoviePy - Writing audio in temp_audio.wav\n"
     ]
    },
    {
     "name": "stderr",
     "output_type": "stream",
     "text": [
      "\n",
      "chunk:   0%|                                                                                                         | 0/1324 [00:00<?, ?it/s, now=None]\u001b[A\n",
      "chunk:  46%|██████████████████████████████████████████▉                                                  | 612/1324 [00:00<00:00, 6065.53it/s, now=None]\u001b[A\n",
      "chunk:  92%|████████████████████████████████████████████████████████████████████████████████████▋       | 1219/1324 [00:00<00:00, 5873.76it/s, now=None]\u001b[A\n",
      "                                                                                                                                                        \u001b[A"
     ]
    },
    {
     "name": "stdout",
     "output_type": "stream",
     "text": [
      "MoviePy - Done.\n",
      "MoviePy - Writing audio in temp_audio.wav\n"
     ]
    },
    {
     "name": "stderr",
     "output_type": "stream",
     "text": [
      "\n",
      "chunk:   0%|                                                                                                         | 0/1324 [00:00<?, ?it/s, now=None]\u001b[A\n",
      "chunk:  55%|███████████████████████████████████████████████████▎                                         | 731/1324 [00:00<00:00, 7309.54it/s, now=None]\u001b[A\n",
      "                                                                                                                                                        \u001b[A"
     ]
    },
    {
     "name": "stdout",
     "output_type": "stream",
     "text": [
      "MoviePy - Done.\n",
      "MoviePy - Writing audio in temp_audio.wav\n"
     ]
    },
    {
     "name": "stderr",
     "output_type": "stream",
     "text": [
      "\n",
      "chunk:   0%|                                                                                                         | 0/1132 [00:00<?, ?it/s, now=None]\u001b[A\n",
      "chunk:  59%|██████████████████████████████████████████████████████▍                                      | 663/1132 [00:00<00:00, 6598.62it/s, now=None]\u001b[A\n",
      "                                                                                                                                                        \u001b[A"
     ]
    },
    {
     "name": "stdout",
     "output_type": "stream",
     "text": [
      "MoviePy - Done.\n",
      "MoviePy - Writing audio in temp_audio.wav\n"
     ]
    },
    {
     "name": "stderr",
     "output_type": "stream",
     "text": [
      "\n",
      "chunk:   0%|                                                                                                         | 0/1324 [00:00<?, ?it/s, now=None]\u001b[A\n",
      "chunk:  43%|████████████████████████████████████████                                                     | 571/1324 [00:00<00:00, 5708.62it/s, now=None]\u001b[A\n",
      "chunk:  86%|███████████████████████████████████████████████████████████████████████████████▎            | 1142/1324 [00:00<00:00, 5547.43it/s, now=None]\u001b[A\n",
      "                                                                                                                                                        \u001b[A"
     ]
    },
    {
     "name": "stdout",
     "output_type": "stream",
     "text": [
      "MoviePy - Done.\n",
      "MoviePy - Writing audio in temp_audio.wav\n"
     ]
    },
    {
     "name": "stderr",
     "output_type": "stream",
     "text": [
      "\n",
      "chunk:   0%|                                                                                                         | 0/1324 [00:00<?, ?it/s, now=None]\u001b[A\n",
      "chunk:  37%|██████████████████████████████████▎                                                          | 488/1324 [00:00<00:00, 4878.43it/s, now=None]\u001b[A\n",
      "chunk:  74%|████████████████████████████████████████████████████████████████████▌                        | 976/1324 [00:00<00:00, 4549.62it/s, now=None]\u001b[A\n",
      "                                                                                                                                                        \u001b[A"
     ]
    },
    {
     "name": "stdout",
     "output_type": "stream",
     "text": [
      "MoviePy - Done.\n",
      "MoviePy - Writing audio in temp_audio.wav\n"
     ]
    },
    {
     "name": "stderr",
     "output_type": "stream",
     "text": [
      "\n",
      "chunk:   0%|                                                                                                          | 0/610 [00:00<?, ?it/s, now=None]\u001b[A\n",
      "chunk:  76%|███████████████████████████████████████████████████████████████████████                       | 461/610 [00:00<00:00, 4607.73it/s, now=None]\u001b[A\n",
      "                                                                                                                                                        \u001b[A"
     ]
    },
    {
     "name": "stdout",
     "output_type": "stream",
     "text": [
      "MoviePy - Done.\n",
      "MoviePy - Writing audio in temp_audio.wav\n"
     ]
    },
    {
     "name": "stderr",
     "output_type": "stream",
     "text": [
      "\n",
      "chunk:   0%|                                                                                                         | 0/1324 [00:00<?, ?it/s, now=None]\u001b[A\n",
      "chunk:  48%|████████████████████████████████████████████▌                                                | 635/1324 [00:00<00:00, 6348.22it/s, now=None]\u001b[A\n",
      "chunk:  96%|████████████████████████████████████████████████████████████████████████████████████████▌   | 1275/1324 [00:00<00:00, 6341.78it/s, now=None]\u001b[A\n",
      "                                                                                                                                                        \u001b[A"
     ]
    },
    {
     "name": "stdout",
     "output_type": "stream",
     "text": [
      "MoviePy - Done.\n",
      "MoviePy - Writing audio in temp_audio.wav\n"
     ]
    },
    {
     "name": "stderr",
     "output_type": "stream",
     "text": [
      "\n",
      "chunk:   0%|                                                                                                         | 0/1324 [00:00<?, ?it/s, now=None]\u001b[A\n",
      "chunk:  53%|████████████████████████████████████████████████▉                                            | 697/1324 [00:00<00:00, 6966.40it/s, now=None]\u001b[A\n",
      "                                                                                                                                                        \u001b[A"
     ]
    },
    {
     "name": "stdout",
     "output_type": "stream",
     "text": [
      "MoviePy - Done.\n",
      "MoviePy - Writing audio in temp_audio.wav\n"
     ]
    },
    {
     "name": "stderr",
     "output_type": "stream",
     "text": [
      "\n",
      "chunk:   0%|                                                                                                          | 0/763 [00:00<?, ?it/s, now=None]\u001b[A\n",
      "chunk:  80%|██████████████████████████████████████████████████████████████████████████▊                   | 607/763 [00:00<00:00, 6063.60it/s, now=None]\u001b[A\n",
      "                                                                                                                                                        \u001b[A"
     ]
    },
    {
     "name": "stdout",
     "output_type": "stream",
     "text": [
      "MoviePy - Done.\n",
      "MoviePy - Writing audio in temp_audio.wav\n"
     ]
    },
    {
     "name": "stderr",
     "output_type": "stream",
     "text": [
      "\n",
      "chunk:   0%|                                                                                                         | 0/1324 [00:00<?, ?it/s, now=None]\u001b[A\n",
      "chunk:  47%|███████████████████████████████████████████▍                                                 | 618/1324 [00:00<00:00, 6174.40it/s, now=None]\u001b[A\n",
      "chunk:  93%|█████████████████████████████████████████████████████████████████████████████████████▉      | 1236/1324 [00:00<00:00, 5777.14it/s, now=None]\u001b[A\n",
      "                                                                                                                                                        \u001b[A"
     ]
    },
    {
     "name": "stdout",
     "output_type": "stream",
     "text": [
      "MoviePy - Done.\n",
      "MoviePy - Writing audio in temp_audio.wav\n"
     ]
    },
    {
     "name": "stderr",
     "output_type": "stream",
     "text": [
      "\n",
      "chunk:   0%|                                                                                                         | 0/1324 [00:00<?, ?it/s, now=None]\u001b[A\n",
      "chunk:  50%|██████████████████████████████████████████████▌                                              | 663/1324 [00:00<00:00, 6485.22it/s, now=None]\u001b[A\n",
      "chunk:  99%|███████████████████████████████████████████████████████████████████████████████████████████▏| 1312/1324 [00:00<00:00, 6391.75it/s, now=None]\u001b[A\n",
      "                                                                                                                                                        \u001b[A"
     ]
    },
    {
     "name": "stdout",
     "output_type": "stream",
     "text": [
      "MoviePy - Done.\n",
      "MoviePy - Writing audio in temp_audio.wav\n"
     ]
    },
    {
     "name": "stderr",
     "output_type": "stream",
     "text": [
      "\n",
      "chunk:   0%|                                                                                                         | 0/1324 [00:00<?, ?it/s, now=None]\u001b[A\n",
      "chunk:  52%|████████████████████████████████████████████████▏                                            | 686/1324 [00:00<00:00, 6857.57it/s, now=None]\u001b[A\n",
      "                                                                                                                                                        \u001b[A"
     ]
    },
    {
     "name": "stdout",
     "output_type": "stream",
     "text": [
      "MoviePy - Done.\n",
      "MoviePy - Writing audio in temp_audio.wav\n"
     ]
    },
    {
     "name": "stderr",
     "output_type": "stream",
     "text": [
      "\n",
      "chunk:   0%|                                                                                                         | 0/1324 [00:00<?, ?it/s, now=None]\u001b[A\n",
      "chunk:  55%|██████████████████████████████████████████████████▉                                          | 726/1324 [00:00<00:00, 7256.34it/s, now=None]\u001b[A\n",
      "                                                                                                                                                        \u001b[A"
     ]
    },
    {
     "name": "stdout",
     "output_type": "stream",
     "text": [
      "MoviePy - Done.\n",
      "MoviePy - Writing audio in temp_audio.wav\n"
     ]
    },
    {
     "name": "stderr",
     "output_type": "stream",
     "text": [
      "\n",
      "chunk:   0%|                                                                                                         | 0/1324 [00:00<?, ?it/s, now=None]\u001b[A\n",
      "chunk:  47%|███████████████████████████████████████████▍                                                 | 618/1324 [00:00<00:00, 6175.79it/s, now=None]\u001b[A\n",
      "chunk:  93%|█████████████████████████████████████████████████████████████████████████████████████▉      | 1236/1324 [00:00<00:00, 5590.73it/s, now=None]\u001b[A\n",
      "                                                                                                                                                        \u001b[A"
     ]
    },
    {
     "name": "stdout",
     "output_type": "stream",
     "text": [
      "MoviePy - Done.\n",
      "MoviePy - Writing audio in temp_audio.wav\n"
     ]
    },
    {
     "name": "stderr",
     "output_type": "stream",
     "text": [
      "\n",
      "chunk:   0%|                                                                                                         | 0/1324 [00:00<?, ?it/s, now=None]\u001b[A\n",
      "chunk:  53%|████████████████████████████████████████████████▉                                            | 697/1324 [00:00<00:00, 6966.68it/s, now=None]\u001b[A\n",
      "                                                                                                                                                        \u001b[A"
     ]
    },
    {
     "name": "stdout",
     "output_type": "stream",
     "text": [
      "MoviePy - Done.\n",
      "MoviePy - Writing audio in temp_audio.wav\n"
     ]
    },
    {
     "name": "stderr",
     "output_type": "stream",
     "text": [
      "\n",
      "chunk:   0%|                                                                                                         | 0/1324 [00:00<?, ?it/s, now=None]\u001b[A\n",
      "chunk:  51%|███████████████████████████████████████████████▏                                             | 672/1324 [00:00<00:00, 6708.19it/s, now=None]\u001b[A\n",
      "                                                                                                                                                        \u001b[A"
     ]
    },
    {
     "name": "stdout",
     "output_type": "stream",
     "text": [
      "MoviePy - Done.\n",
      "MoviePy - Writing audio in temp_audio.wav\n"
     ]
    },
    {
     "name": "stderr",
     "output_type": "stream",
     "text": [
      "\n",
      "chunk:   0%|                                                                                                         | 0/1324 [00:00<?, ?it/s, now=None]\u001b[A\n",
      "chunk:  52%|████████████████████████████████████████████████▌                                            | 692/1324 [00:00<00:00, 6916.87it/s, now=None]\u001b[A\n",
      "                                                                                                                                                        \u001b[A"
     ]
    },
    {
     "name": "stdout",
     "output_type": "stream",
     "text": [
      "MoviePy - Done.\n",
      "MoviePy - Writing audio in temp_audio.wav\n"
     ]
    },
    {
     "name": "stderr",
     "output_type": "stream",
     "text": [
      "\n",
      "chunk:   0%|                                                                                                         | 0/1324 [00:00<?, ?it/s, now=None]\u001b[A\n",
      "chunk:  50%|██████████████████████████████████████████████▌                                              | 663/1324 [00:00<00:00, 6377.90it/s, now=None]\u001b[A\n",
      "chunk:  98%|██████████████████████████████████████████████████████████████████████████████████████████▍ | 1301/1324 [00:00<00:00, 5995.98it/s, now=None]\u001b[A\n",
      "                                                                                                                                                        \u001b[A"
     ]
    },
    {
     "name": "stdout",
     "output_type": "stream",
     "text": [
      "MoviePy - Done.\n",
      "MoviePy - Writing audio in temp_audio.wav\n"
     ]
    },
    {
     "name": "stderr",
     "output_type": "stream",
     "text": [
      "\n",
      "chunk:   0%|                                                                                                          | 0/380 [00:00<?, ?it/s, now=None]\u001b[A\n",
      "                                                                                                                                                        \u001b[A"
     ]
    },
    {
     "name": "stdout",
     "output_type": "stream",
     "text": [
      "MoviePy - Done.\n",
      "MoviePy - Writing audio in temp_audio.wav\n"
     ]
    },
    {
     "name": "stderr",
     "output_type": "stream",
     "text": [
      "\n",
      "chunk:   0%|                                                                                                         | 0/1324 [00:00<?, ?it/s, now=None]\u001b[A\n",
      "chunk:  28%|██████████████████████████▎                                                                  | 374/1324 [00:00<00:00, 3739.74it/s, now=None]\u001b[A\n",
      "chunk:  56%|████████████████████████████████████████████████████▌                                        | 748/1324 [00:00<00:00, 3617.33it/s, now=None]\u001b[A\n",
      "chunk:  89%|█████████████████████████████████████████████████████████████████████████████████▌          | 1173/1324 [00:00<00:00, 3825.96it/s, now=None]\u001b[A\n",
      "                                                                                                                                                        \u001b[A"
     ]
    },
    {
     "name": "stdout",
     "output_type": "stream",
     "text": [
      "MoviePy - Done.\n",
      "MoviePy - Writing audio in temp_audio.wav\n"
     ]
    },
    {
     "name": "stderr",
     "output_type": "stream",
     "text": [
      "\n",
      "chunk:   0%|                                                                                                         | 0/1324 [00:00<?, ?it/s, now=None]\u001b[A\n",
      "chunk:  48%|████████████████████████████████████████████▉                                                | 640/1324 [00:00<00:00, 6396.38it/s, now=None]\u001b[A\n",
      "chunk:  98%|██████████████████████████████████████████████████████████████████████████████████████████▏ | 1298/1324 [00:00<00:00, 6504.30it/s, now=None]\u001b[A\n",
      "                                                                                                                                                        \u001b[A"
     ]
    },
    {
     "name": "stdout",
     "output_type": "stream",
     "text": [
      "MoviePy - Done.\n",
      "MoviePy - Writing audio in temp_audio.wav\n"
     ]
    },
    {
     "name": "stderr",
     "output_type": "stream",
     "text": [
      "\n",
      "chunk:   0%|                                                                                                         | 0/1324 [00:00<?, ?it/s, now=None]\u001b[A\n",
      "chunk:  49%|█████████████████████████████████████████████▊                                               | 653/1324 [00:00<00:00, 6529.20it/s, now=None]\u001b[A\n",
      "chunk:  99%|██████████████████████████████████████████████████████████████████████████████████████████▋ | 1306/1324 [00:00<00:00, 6283.92it/s, now=None]\u001b[A\n",
      "                                                                                                                                                        \u001b[A"
     ]
    },
    {
     "name": "stdout",
     "output_type": "stream",
     "text": [
      "MoviePy - Done.\n",
      "MoviePy - Writing audio in temp_audio.wav\n"
     ]
    },
    {
     "name": "stderr",
     "output_type": "stream",
     "text": [
      "\n",
      "chunk:   0%|                                                                                                         | 0/1324 [00:00<?, ?it/s, now=None]\u001b[A\n",
      "chunk:  47%|████████████████████████████████████████████                                                 | 628/1324 [00:00<00:00, 6275.88it/s, now=None]\u001b[A\n",
      "chunk:  95%|███████████████████████████████████████████████████████████████████████████████████████▎    | 1256/1324 [00:00<00:00, 5954.56it/s, now=None]\u001b[A\n",
      "                                                                                                                                                        \u001b[A"
     ]
    },
    {
     "name": "stdout",
     "output_type": "stream",
     "text": [
      "MoviePy - Done.\n",
      "MoviePy - Writing audio in temp_audio.wav\n"
     ]
    },
    {
     "name": "stderr",
     "output_type": "stream",
     "text": [
      "\n",
      "chunk:   0%|                                                                                                         | 0/1324 [00:00<?, ?it/s, now=None]\u001b[A\n",
      "chunk:  46%|██████████████████████████████████████████▉                                                  | 612/1324 [00:00<00:00, 6037.23it/s, now=None]\u001b[A\n",
      "chunk:  92%|████████████████████████████████████████████████████████████████████████████████████▍       | 1216/1324 [00:00<00:00, 5503.21it/s, now=None]\u001b[A\n",
      "                                                                                                                                                        \u001b[A"
     ]
    },
    {
     "name": "stdout",
     "output_type": "stream",
     "text": [
      "MoviePy - Done.\n",
      "MoviePy - Writing audio in temp_audio.wav\n"
     ]
    },
    {
     "name": "stderr",
     "output_type": "stream",
     "text": [
      "\n",
      "chunk:   0%|                                                                                                         | 0/1324 [00:00<?, ?it/s, now=None]\u001b[A\n",
      "chunk:  46%|██████████████████████████████████████████▎                                                  | 603/1324 [00:00<00:00, 6023.63it/s, now=None]\u001b[A\n",
      "chunk:  94%|██████████████████████████████████████████████████████████████████████████████████████      | 1238/1324 [00:00<00:00, 6214.41it/s, now=None]\u001b[A\n",
      "                                                                                                                                                        \u001b[A"
     ]
    },
    {
     "name": "stdout",
     "output_type": "stream",
     "text": [
      "MoviePy - Done.\n",
      "MoviePy - Writing audio in temp_audio.wav\n"
     ]
    },
    {
     "name": "stderr",
     "output_type": "stream",
     "text": [
      "\n",
      "chunk:   0%|                                                                                                         | 0/1324 [00:00<?, ?it/s, now=None]\u001b[A\n",
      "chunk:  46%|██████████████████████████████████████████▎                                                  | 603/1324 [00:00<00:00, 6029.46it/s, now=None]\u001b[A\n",
      "chunk:  91%|███████████████████████████████████████████████████████████████████████████████████▊        | 1206/1324 [00:00<00:00, 4906.75it/s, now=None]\u001b[A\n",
      "                                                                                                                                                        \u001b[A"
     ]
    },
    {
     "name": "stdout",
     "output_type": "stream",
     "text": [
      "MoviePy - Done.\n",
      "MoviePy - Writing audio in temp_audio.wav\n"
     ]
    },
    {
     "name": "stderr",
     "output_type": "stream",
     "text": [
      "\n",
      "chunk:   0%|                                                                                                         | 0/1324 [00:00<?, ?it/s, now=None]\u001b[A\n",
      "chunk:  50%|██████████████████████████████████████████████▌                                              | 663/1324 [00:00<00:00, 6413.52it/s, now=None]\u001b[A\n",
      "chunk:  99%|██████████████████████████████████████████████████████████████████████████████████████████▋ | 1305/1324 [00:00<00:00, 5434.81it/s, now=None]\u001b[A\n",
      "                                                                                                                                                        \u001b[A"
     ]
    },
    {
     "name": "stdout",
     "output_type": "stream",
     "text": [
      "MoviePy - Done.\n",
      "MoviePy - Writing audio in temp_audio.wav\n"
     ]
    },
    {
     "name": "stderr",
     "output_type": "stream",
     "text": [
      "\n",
      "chunk:   0%|                                                                                                         | 0/1324 [00:00<?, ?it/s, now=None]\u001b[A\n",
      "chunk:  52%|████████████████████████████████████████████████▍                                            | 690/1324 [00:00<00:00, 6896.34it/s, now=None]\u001b[A\n",
      "                                                                                                                                                        \u001b[A"
     ]
    },
    {
     "name": "stdout",
     "output_type": "stream",
     "text": [
      "MoviePy - Done.\n",
      "MoviePy - Writing audio in temp_audio.wav\n"
     ]
    },
    {
     "name": "stderr",
     "output_type": "stream",
     "text": [
      "\n",
      "chunk:   0%|                                                                                                         | 0/1324 [00:00<?, ?it/s, now=None]\u001b[A\n",
      "chunk:  53%|█████████████████████████████████████████████████▏                                           | 701/1324 [00:00<00:00, 7005.41it/s, now=None]\u001b[A\n",
      "                                                                                                                                                        \u001b[A"
     ]
    },
    {
     "name": "stdout",
     "output_type": "stream",
     "text": [
      "MoviePy - Done.\n",
      "MoviePy - Writing audio in temp_audio.wav\n"
     ]
    },
    {
     "name": "stderr",
     "output_type": "stream",
     "text": [
      "\n",
      "chunk:   0%|                                                                                                         | 0/1324 [00:00<?, ?it/s, now=None]\u001b[A\n",
      "chunk:  46%|██████████████████████████████████████████▋                                                  | 607/1324 [00:00<00:00, 6064.44it/s, now=None]\u001b[A\n",
      "chunk:  92%|████████████████████████████████████████████████████████████████████████████████████▎       | 1214/1324 [00:00<00:00, 6041.83it/s, now=None]\u001b[A\n",
      "                                                                                                                                                        \u001b[A"
     ]
    },
    {
     "name": "stdout",
     "output_type": "stream",
     "text": [
      "MoviePy - Done.\n",
      "MoviePy - Writing audio in temp_audio.wav\n"
     ]
    },
    {
     "name": "stderr",
     "output_type": "stream",
     "text": [
      "\n",
      "chunk:   0%|                                                                                                         | 0/1324 [00:00<?, ?it/s, now=None]\u001b[A\n",
      "chunk:  51%|███████████████████████████████████████████████▋                                             | 679/1324 [00:00<00:00, 6786.41it/s, now=None]\u001b[A\n",
      "                                                                                                                                                        \u001b[A"
     ]
    },
    {
     "name": "stdout",
     "output_type": "stream",
     "text": [
      "MoviePy - Done.\n",
      "MoviePy - Writing audio in temp_audio.wav\n"
     ]
    },
    {
     "name": "stderr",
     "output_type": "stream",
     "text": [
      "\n",
      "chunk:   0%|                                                                                                         | 0/1324 [00:00<?, ?it/s, now=None]\u001b[A\n",
      "chunk:  54%|██████████████████████████████████████████████████▏                                          | 714/1324 [00:00<00:00, 7103.14it/s, now=None]\u001b[A\n",
      "                                                                                                                                                        \u001b[A"
     ]
    },
    {
     "name": "stdout",
     "output_type": "stream",
     "text": [
      "MoviePy - Done.\n",
      "MoviePy - Writing audio in temp_audio.wav\n"
     ]
    },
    {
     "name": "stderr",
     "output_type": "stream",
     "text": [
      "\n",
      "chunk:   0%|                                                                                                         | 0/1324 [00:00<?, ?it/s, now=None]\u001b[A\n",
      "chunk:  49%|█████████████████████████████████████████████▌                                               | 648/1324 [00:00<00:00, 6479.11it/s, now=None]\u001b[A\n",
      "chunk:  98%|██████████████████████████████████████████████████████████████████████████████████████████  | 1296/1324 [00:00<00:00, 6123.94it/s, now=None]\u001b[A\n",
      "                                                                                                                                                        \u001b[A"
     ]
    },
    {
     "name": "stdout",
     "output_type": "stream",
     "text": [
      "MoviePy - Done.\n",
      "MoviePy - Writing audio in temp_audio.wav\n"
     ]
    },
    {
     "name": "stderr",
     "output_type": "stream",
     "text": [
      "\n",
      "chunk:   0%|                                                                                                         | 0/1324 [00:00<?, ?it/s, now=None]\u001b[A\n",
      "chunk:  50%|██████████████████████████████████████████████▌                                              | 663/1324 [00:00<00:00, 6577.07it/s, now=None]\u001b[A\n",
      "                                                                                                                                                        \u001b[A"
     ]
    },
    {
     "name": "stdout",
     "output_type": "stream",
     "text": [
      "MoviePy - Done.\n",
      "MoviePy - Writing audio in temp_audio.wav\n"
     ]
    },
    {
     "name": "stderr",
     "output_type": "stream",
     "text": [
      "\n",
      "chunk:   0%|                                                                                                         | 0/1324 [00:00<?, ?it/s, now=None]\u001b[A\n",
      "chunk:  45%|██████████████████████████████████████████▎                                                  | 602/1324 [00:00<00:00, 6014.64it/s, now=None]\u001b[A\n",
      "chunk: 100%|███████████████████████████████████████████████████████████████████████████████████████████▉| 1323/1324 [00:00<00:00, 6717.09it/s, now=None]\u001b[A\n",
      "                                                                                                                                                        \u001b[A"
     ]
    },
    {
     "name": "stdout",
     "output_type": "stream",
     "text": [
      "MoviePy - Done.\n",
      "MoviePy - Writing audio in temp_audio.wav\n"
     ]
    },
    {
     "name": "stderr",
     "output_type": "stream",
     "text": [
      "\n",
      "chunk:   0%|                                                                                                         | 0/1324 [00:00<?, ?it/s, now=None]\u001b[A\n",
      "chunk:  42%|███████████████████████████████████████▍                                                     | 561/1324 [00:00<00:00, 5480.39it/s, now=None]\u001b[A\n",
      "chunk:  85%|█████████████████████████████████████████████████████████████████████████████▉              | 1122/1324 [00:00<00:00, 5527.66it/s, now=None]\u001b[A\n",
      "                                                                                                                                                        \u001b[A"
     ]
    },
    {
     "name": "stdout",
     "output_type": "stream",
     "text": [
      "MoviePy - Done.\n",
      "MoviePy - Writing audio in temp_audio.wav\n"
     ]
    },
    {
     "name": "stderr",
     "output_type": "stream",
     "text": [
      "\n",
      "chunk:   0%|                                                                                                         | 0/1324 [00:00<?, ?it/s, now=None]\u001b[A\n",
      "chunk:  50%|██████████████████████████████████████████████▌                                              | 663/1324 [00:00<00:00, 6560.50it/s, now=None]\u001b[A\n",
      "                                                                                                                                                        \u001b[A"
     ]
    },
    {
     "name": "stdout",
     "output_type": "stream",
     "text": [
      "MoviePy - Done.\n",
      "MoviePy - Writing audio in temp_audio.wav\n"
     ]
    },
    {
     "name": "stderr",
     "output_type": "stream",
     "text": [
      "\n",
      "chunk:   0%|                                                                                                         | 0/1324 [00:00<?, ?it/s, now=None]\u001b[A\n",
      "chunk:  49%|█████████████████████████████████████████████▍                                               | 647/1324 [00:00<00:00, 6466.08it/s, now=None]\u001b[A\n",
      "chunk:  98%|█████████████████████████████████████████████████████████████████████████████████████████▉  | 1294/1324 [00:00<00:00, 6140.67it/s, now=None]\u001b[A\n",
      "                                                                                                                                                        \u001b[A"
     ]
    },
    {
     "name": "stdout",
     "output_type": "stream",
     "text": [
      "MoviePy - Done.\n",
      "MoviePy - Writing audio in temp_audio.wav\n"
     ]
    },
    {
     "name": "stderr",
     "output_type": "stream",
     "text": [
      "\n",
      "chunk:   0%|                                                                                                         | 0/1324 [00:00<?, ?it/s, now=None]\u001b[A\n",
      "chunk:  46%|██████████████████████████████████████████▉                                                  | 612/1324 [00:00<00:00, 6074.47it/s, now=None]\u001b[A\n",
      "chunk:  92%|████████████████████████████████████████████████████████████████████████████████████▊       | 1220/1324 [00:00<00:00, 5408.90it/s, now=None]\u001b[A\n",
      "                                                                                                                                                        \u001b[A"
     ]
    },
    {
     "name": "stdout",
     "output_type": "stream",
     "text": [
      "MoviePy - Done.\n",
      "MoviePy - Writing audio in temp_audio.wav\n"
     ]
    },
    {
     "name": "stderr",
     "output_type": "stream",
     "text": [
      "\n",
      "chunk:   0%|                                                                                                         | 0/1324 [00:00<?, ?it/s, now=None]\u001b[A\n",
      "chunk:  46%|██████████████████████████████████████████▉                                                  | 612/1324 [00:00<00:00, 6119.28it/s, now=None]\u001b[A\n",
      "chunk:  92%|█████████████████████████████████████████████████████████████████████████████████████       | 1224/1324 [00:00<00:00, 5859.31it/s, now=None]\u001b[A\n",
      "                                                                                                                                                        \u001b[A"
     ]
    },
    {
     "name": "stdout",
     "output_type": "stream",
     "text": [
      "MoviePy - Done.\n",
      "MoviePy - Writing audio in temp_audio.wav\n"
     ]
    },
    {
     "name": "stderr",
     "output_type": "stream",
     "text": [
      "\n",
      "chunk:   0%|                                                                                                         | 0/1324 [00:00<?, ?it/s, now=None]\u001b[A\n",
      "chunk:  50%|██████████████████████████████████████████████▌                                              | 663/1324 [00:00<00:00, 6525.89it/s, now=None]\u001b[A\n",
      "chunk:  99%|███████████████████████████████████████████████████████████████████████████████████████████▍| 1316/1324 [00:00<00:00, 6172.58it/s, now=None]\u001b[A\n",
      "                                                                                                                                                        \u001b[A"
     ]
    },
    {
     "name": "stdout",
     "output_type": "stream",
     "text": [
      "MoviePy - Done.\n",
      "MoviePy - Writing audio in temp_audio.wav\n"
     ]
    },
    {
     "name": "stderr",
     "output_type": "stream",
     "text": [
      "\n",
      "chunk:   0%|                                                                                                         | 0/1324 [00:00<?, ?it/s, now=None]\u001b[A\n",
      "chunk:  54%|██████████████████████████████████████████████████▏                                          | 714/1324 [00:00<00:00, 6967.69it/s, now=None]\u001b[A\n",
      "                                                                                                                                                        \u001b[A"
     ]
    },
    {
     "name": "stdout",
     "output_type": "stream",
     "text": [
      "MoviePy - Done.\n",
      "MoviePy - Writing audio in temp_audio.wav\n"
     ]
    },
    {
     "name": "stderr",
     "output_type": "stream",
     "text": [
      "\n",
      "chunk:   0%|                                                                                                         | 0/1324 [00:00<?, ?it/s, now=None]\u001b[A\n",
      "chunk:  46%|██████████████████████████████████████████▉                                                  | 612/1324 [00:00<00:00, 5945.73it/s, now=None]\u001b[A\n",
      "chunk:  91%|███████████████████████████████████████████████████████████████████████████████████▊        | 1207/1324 [00:00<00:00, 5250.65it/s, now=None]\u001b[A\n",
      "                                                                                                                                                        \u001b[A"
     ]
    },
    {
     "name": "stdout",
     "output_type": "stream",
     "text": [
      "MoviePy - Done.\n",
      "MoviePy - Writing audio in temp_audio.wav\n"
     ]
    },
    {
     "name": "stderr",
     "output_type": "stream",
     "text": [
      "\n",
      "chunk:   0%|                                                                                                         | 0/1324 [00:00<?, ?it/s, now=None]\u001b[A\n",
      "chunk:  51%|███████████████████████████████████████████████▍                                             | 676/1324 [00:00<00:00, 6753.92it/s, now=None]\u001b[A\n",
      "                                                                                                                                                        \u001b[A"
     ]
    },
    {
     "name": "stdout",
     "output_type": "stream",
     "text": [
      "MoviePy - Done.\n",
      "MoviePy - Writing audio in temp_audio.wav\n"
     ]
    },
    {
     "name": "stderr",
     "output_type": "stream",
     "text": [
      "\n",
      "chunk:   0%|                                                                                                         | 0/1324 [00:00<?, ?it/s, now=None]\u001b[A\n",
      "chunk:  46%|██████████████████████████████████████████▉                                                  | 612/1324 [00:00<00:00, 5992.95it/s, now=None]\u001b[A\n",
      "chunk:  96%|████████████████████████████████████████████████████████████████████████████████████████▌   | 1275/1324 [00:00<00:00, 6359.71it/s, now=None]\u001b[A\n",
      "                                                                                                                                                        \u001b[A"
     ]
    },
    {
     "name": "stdout",
     "output_type": "stream",
     "text": [
      "MoviePy - Done.\n",
      "MoviePy - Writing audio in temp_audio.wav\n"
     ]
    },
    {
     "name": "stderr",
     "output_type": "stream",
     "text": [
      "\n",
      "chunk:   0%|                                                                                                         | 0/1324 [00:00<?, ?it/s, now=None]\u001b[A\n",
      "chunk:  40%|█████████████████████████████████████                                                        | 528/1324 [00:00<00:00, 5279.36it/s, now=None]\u001b[A\n",
      "chunk:  80%|█████████████████████████████████████████████████████████████████████████▍                  | 1056/1324 [00:00<00:00, 4584.63it/s, now=None]\u001b[A\n",
      "                                                                                                                                                        \u001b[A"
     ]
    },
    {
     "name": "stdout",
     "output_type": "stream",
     "text": [
      "MoviePy - Done.\n",
      "MoviePy - Writing audio in temp_audio.wav\n"
     ]
    },
    {
     "name": "stderr",
     "output_type": "stream",
     "text": [
      "\n",
      "chunk:   0%|                                                                                                         | 0/1324 [00:00<?, ?it/s, now=None]\u001b[A\n",
      "chunk:  49%|█████████████████████████████████████████████▏                                               | 644/1324 [00:00<00:00, 6438.87it/s, now=None]\u001b[A\n",
      "chunk:  97%|█████████████████████████████████████████████████████████████████████████████████████████▍  | 1288/1324 [00:00<00:00, 6367.18it/s, now=None]\u001b[A\n",
      "                                                                                                                                                        \u001b[A"
     ]
    },
    {
     "name": "stdout",
     "output_type": "stream",
     "text": [
      "MoviePy - Done.\n",
      "MoviePy - Writing audio in temp_audio.wav\n"
     ]
    },
    {
     "name": "stderr",
     "output_type": "stream",
     "text": [
      "\n",
      "chunk:   0%|                                                                                                         | 0/1324 [00:00<?, ?it/s, now=None]\u001b[A\n",
      "chunk:  37%|██████████████████████████████████▏                                                          | 487/1324 [00:00<00:00, 4869.84it/s, now=None]\u001b[A\n",
      "chunk:  77%|██████████████████████████████████████████████████████████████████████▉                     | 1020/1324 [00:00<00:00, 5129.19it/s, now=None]\u001b[A\n",
      "                                                                                                                                                        \u001b[A"
     ]
    },
    {
     "name": "stdout",
     "output_type": "stream",
     "text": [
      "MoviePy - Done.\n",
      "MoviePy - Writing audio in temp_audio.wav\n"
     ]
    },
    {
     "name": "stderr",
     "output_type": "stream",
     "text": [
      "\n",
      "chunk:   0%|                                                                                                         | 0/1324 [00:00<?, ?it/s, now=None]\u001b[A\n",
      "chunk:  54%|██████████████████████████████████████████████████▏                                          | 714/1324 [00:00<00:00, 6972.68it/s, now=None]\u001b[A\n",
      "                                                                                                                                                        \u001b[A"
     ]
    },
    {
     "name": "stdout",
     "output_type": "stream",
     "text": [
      "MoviePy - Done.\n",
      "MoviePy - Writing audio in temp_audio.wav\n"
     ]
    },
    {
     "name": "stderr",
     "output_type": "stream",
     "text": [
      "\n",
      "chunk:   0%|                                                                                                          | 0/991 [00:00<?, ?it/s, now=None]\u001b[A\n",
      "chunk:  61%|█████████████████████████████████████████████████████████                                     | 601/991 [00:00<00:00, 6004.01it/s, now=None]\u001b[A\n",
      "                                                                                                                                                        \u001b[A"
     ]
    },
    {
     "name": "stdout",
     "output_type": "stream",
     "text": [
      "MoviePy - Done.\n",
      "MoviePy - Writing audio in temp_audio.wav\n"
     ]
    },
    {
     "name": "stderr",
     "output_type": "stream",
     "text": [
      "\n",
      "chunk:   0%|                                                                                                         | 0/1324 [00:00<?, ?it/s, now=None]\u001b[A\n",
      "chunk:  42%|███████████████████████████████████████▍                                                     | 561/1324 [00:00<00:00, 5592.92it/s, now=None]\u001b[A\n",
      "chunk:  85%|█████████████████████████████████████████████████████████████████████████████▉              | 1121/1324 [00:00<00:00, 5498.59it/s, now=None]\u001b[A\n",
      "                                                                                                                                                        \u001b[A"
     ]
    },
    {
     "name": "stdout",
     "output_type": "stream",
     "text": [
      "MoviePy - Done.\n",
      "MoviePy - Writing audio in temp_audio.wav\n"
     ]
    },
    {
     "name": "stderr",
     "output_type": "stream",
     "text": [
      "\n",
      "chunk:   0%|                                                                                                         | 0/1324 [00:00<?, ?it/s, now=None]\u001b[A\n",
      "chunk:  27%|█████████████████████████                                                                    | 357/1324 [00:00<00:00, 3508.54it/s, now=None]\u001b[A\n",
      "chunk:  73%|████████████████████████████████████████████████████████████████████                         | 969/1324 [00:00<00:00, 5016.94it/s, now=None]\u001b[A\n",
      "                                                                                                                                                        \u001b[A"
     ]
    },
    {
     "name": "stdout",
     "output_type": "stream",
     "text": [
      "MoviePy - Done.\n",
      "MoviePy - Writing audio in temp_audio.wav\n"
     ]
    },
    {
     "name": "stderr",
     "output_type": "stream",
     "text": [
      "\n",
      "chunk:   0%|                                                                                                         | 0/1324 [00:00<?, ?it/s, now=None]\u001b[A\n",
      "chunk:  37%|██████████████████████████████████▊                                                          | 496/1324 [00:00<00:00, 4958.27it/s, now=None]\u001b[A\n",
      "chunk:  75%|█████████████████████████████████████████████████████████████████████▋                       | 992/1324 [00:00<00:00, 4702.54it/s, now=None]\u001b[A\n",
      "                                                                                                                                                        \u001b[A"
     ]
    },
    {
     "name": "stdout",
     "output_type": "stream",
     "text": [
      "MoviePy - Done.\n",
      "MoviePy - Writing audio in temp_audio.wav\n"
     ]
    },
    {
     "name": "stderr",
     "output_type": "stream",
     "text": [
      "\n",
      "chunk:   0%|                                                                                                          | 0/715 [00:00<?, ?it/s, now=None]\u001b[A\n",
      "chunk:  76%|███████████████████████████████████████████████████████████████████████▋                      | 545/715 [00:00<00:00, 5444.77it/s, now=None]\u001b[A\n",
      "                                                                                                                                                        \u001b[A"
     ]
    },
    {
     "name": "stdout",
     "output_type": "stream",
     "text": [
      "MoviePy - Done.\n",
      "MoviePy - Writing audio in temp_audio.wav\n"
     ]
    },
    {
     "name": "stderr",
     "output_type": "stream",
     "text": [
      "\n",
      "chunk:   0%|                                                                                                         | 0/1324 [00:00<?, ?it/s, now=None]\u001b[A\n",
      "chunk:  46%|██████████████████████████████████████████▉                                                  | 612/1324 [00:00<00:00, 6038.83it/s, now=None]\u001b[A\n",
      "chunk:  92%|█████████████████████████████████████████████████████████████████████████████████████       | 1224/1324 [00:00<00:00, 6083.54it/s, now=None]\u001b[A\n",
      "                                                                                                                                                        \u001b[A"
     ]
    },
    {
     "name": "stdout",
     "output_type": "stream",
     "text": [
      "MoviePy - Done.\n",
      "MoviePy - Writing audio in temp_audio.wav\n"
     ]
    },
    {
     "name": "stderr",
     "output_type": "stream",
     "text": [
      "\n",
      "chunk:   0%|                                                                                                         | 0/1324 [00:00<?, ?it/s, now=None]\u001b[A\n",
      "chunk:  54%|██████████████████████████████████████████████████▏                                          | 714/1324 [00:00<00:00, 7059.39it/s, now=None]\u001b[A\n",
      "                                                                                                                                                        \u001b[A"
     ]
    },
    {
     "name": "stdout",
     "output_type": "stream",
     "text": [
      "MoviePy - Done.\n",
      "MoviePy - Writing audio in temp_audio.wav\n"
     ]
    },
    {
     "name": "stderr",
     "output_type": "stream",
     "text": [
      "\n",
      "chunk:   0%|                                                                                                         | 0/1324 [00:00<?, ?it/s, now=None]\u001b[A\n",
      "chunk:  44%|█████████████████████████████████████████▏                                                   | 586/1324 [00:00<00:00, 5854.69it/s, now=None]\u001b[A\n",
      "chunk:  89%|█████████████████████████████████████████████████████████████████████████████████▍          | 1172/1324 [00:00<00:00, 5641.14it/s, now=None]\u001b[A\n",
      "                                                                                                                                                        \u001b[A"
     ]
    },
    {
     "name": "stdout",
     "output_type": "stream",
     "text": [
      "MoviePy - Done.\n",
      "MoviePy - Writing audio in temp_audio.wav\n"
     ]
    },
    {
     "name": "stderr",
     "output_type": "stream",
     "text": [
      "\n",
      "chunk:   0%|                                                                                                         | 0/1324 [00:00<?, ?it/s, now=None]\u001b[A\n",
      "chunk:  46%|██████████████████████████████████████████▉                                                  | 612/1324 [00:00<00:00, 6074.08it/s, now=None]\u001b[A\n",
      "chunk:  96%|████████████████████████████████████████████████████████████████████████████████████████▌   | 1275/1324 [00:00<00:00, 6398.01it/s, now=None]\u001b[A\n",
      "                                                                                                                                                        \u001b[A"
     ]
    },
    {
     "name": "stdout",
     "output_type": "stream",
     "text": [
      "MoviePy - Done.\n",
      "MoviePy - Writing audio in temp_audio.wav\n"
     ]
    },
    {
     "name": "stderr",
     "output_type": "stream",
     "text": [
      "\n",
      "chunk:   0%|                                                                                                         | 0/1324 [00:00<?, ?it/s, now=None]\u001b[A\n",
      "chunk:  46%|██████████████████████████████████████████▉                                                  | 612/1324 [00:00<00:00, 6063.41it/s, now=None]\u001b[A\n",
      "chunk:  92%|████████████████████████████████████████████████████████████████████████████████████▋       | 1219/1324 [00:00<00:00, 5743.60it/s, now=None]\u001b[A\n",
      "                                                                                                                                                        \u001b[A"
     ]
    },
    {
     "name": "stdout",
     "output_type": "stream",
     "text": [
      "MoviePy - Done.\n",
      "MoviePy - Writing audio in temp_audio.wav\n"
     ]
    },
    {
     "name": "stderr",
     "output_type": "stream",
     "text": [
      "\n",
      "chunk:   0%|                                                                                                         | 0/1324 [00:00<?, ?it/s, now=None]\u001b[A\n",
      "chunk:  46%|██████████████████████████████████████████▍                                                  | 605/1324 [00:00<00:00, 6043.88it/s, now=None]\u001b[A\n",
      "chunk:  91%|████████████████████████████████████████████████████████████████████████████████████        | 1210/1324 [00:00<00:00, 5811.02it/s, now=None]\u001b[A\n",
      "                                                                                                                                                        \u001b[A"
     ]
    },
    {
     "name": "stdout",
     "output_type": "stream",
     "text": [
      "MoviePy - Done.\n",
      "MoviePy - Writing audio in temp_audio.wav\n"
     ]
    },
    {
     "name": "stderr",
     "output_type": "stream",
     "text": [
      "\n",
      "chunk:   0%|                                                                                                         | 0/1324 [00:00<?, ?it/s, now=None]\u001b[A\n",
      "chunk:  45%|██████████████████████████████████████████▏                                                  | 600/1324 [00:00<00:00, 5998.82it/s, now=None]\u001b[A\n",
      "chunk:  93%|█████████████████████████████████████████████████████████████████████████████████████▍      | 1229/1324 [00:00<00:00, 6168.07it/s, now=None]\u001b[A\n",
      "                                                                                                                                                        \u001b[A"
     ]
    },
    {
     "name": "stdout",
     "output_type": "stream",
     "text": [
      "MoviePy - Done.\n",
      "MoviePy - Writing audio in temp_audio.wav\n"
     ]
    },
    {
     "name": "stderr",
     "output_type": "stream",
     "text": [
      "\n",
      "chunk:   0%|                                                                                                         | 0/1324 [00:00<?, ?it/s, now=None]\u001b[A\n",
      "chunk:  44%|████████████████████████████████████████▋                                                    | 579/1324 [00:00<00:00, 5785.26it/s, now=None]\u001b[A\n",
      "chunk:  89%|█████████████████████████████████████████████████████████████████████████████████▌          | 1173/1324 [00:00<00:00, 5847.03it/s, now=None]\u001b[A\n",
      "                                                                                                                                                        \u001b[A"
     ]
    },
    {
     "name": "stdout",
     "output_type": "stream",
     "text": [
      "MoviePy - Done.\n",
      "MoviePy - Writing audio in temp_audio.wav\n"
     ]
    },
    {
     "name": "stderr",
     "output_type": "stream",
     "text": [
      "\n",
      "chunk:   0%|                                                                                                         | 0/1324 [00:00<?, ?it/s, now=None]\u001b[A\n",
      "chunk:  43%|████████████████████████████████████████▍                                                    | 575/1324 [00:00<00:00, 5747.68it/s, now=None]\u001b[A\n",
      "chunk:  87%|███████████████████████████████████████████████████████████████████████████████▉            | 1150/1324 [00:00<00:00, 5405.66it/s, now=None]\u001b[A\n",
      "                                                                                                                                                        \u001b[A"
     ]
    },
    {
     "name": "stdout",
     "output_type": "stream",
     "text": [
      "MoviePy - Done.\n",
      "MoviePy - Writing audio in temp_audio.wav\n"
     ]
    },
    {
     "name": "stderr",
     "output_type": "stream",
     "text": [
      "\n",
      "chunk:   0%|                                                                                                         | 0/1324 [00:00<?, ?it/s, now=None]\u001b[A\n",
      "chunk:  43%|████████████████████████████████████████▎                                                    | 574/1324 [00:00<00:00, 5739.09it/s, now=None]\u001b[A\n",
      "chunk:  87%|███████████████████████████████████████████████████████████████████████████████▊            | 1148/1324 [00:00<00:00, 5245.74it/s, now=None]\u001b[A\n",
      "                                                                                                                                                        \u001b[A"
     ]
    },
    {
     "name": "stdout",
     "output_type": "stream",
     "text": [
      "MoviePy - Done.\n",
      "MoviePy - Writing audio in temp_audio.wav\n"
     ]
    },
    {
     "name": "stderr",
     "output_type": "stream",
     "text": [
      "\n",
      "chunk:   0%|                                                                                                         | 0/1324 [00:00<?, ?it/s, now=None]\u001b[A\n",
      "chunk:  35%|████████████████████████████████▏                                                            | 459/1324 [00:00<00:00, 4349.83it/s, now=None]\u001b[A\n",
      "chunk:  69%|████████████████████████████████████████████████████████████████▍                            | 918/1324 [00:00<00:00, 4437.26it/s, now=None]\u001b[A\n",
      "                                                                                                                                                        \u001b[A"
     ]
    },
    {
     "name": "stdout",
     "output_type": "stream",
     "text": [
      "MoviePy - Done.\n",
      "MoviePy - Writing audio in temp_audio.wav\n"
     ]
    },
    {
     "name": "stderr",
     "output_type": "stream",
     "text": [
      "\n",
      "chunk:   0%|                                                                                                         | 0/1324 [00:00<?, ?it/s, now=None]\u001b[A\n",
      "chunk:  39%|███████████████████████████████████▊                                                         | 510/1324 [00:00<00:00, 4992.35it/s, now=None]\u001b[A\n",
      "chunk:  82%|███████████████████████████████████████████████████████████████████████████▏                | 1082/1324 [00:00<00:00, 5414.22it/s, now=None]\u001b[A\n",
      "                                                                                                                                                        \u001b[A"
     ]
    },
    {
     "name": "stdout",
     "output_type": "stream",
     "text": [
      "MoviePy - Done.\n",
      "MoviePy - Writing audio in temp_audio.wav\n"
     ]
    },
    {
     "name": "stderr",
     "output_type": "stream",
     "text": [
      "\n",
      "chunk:   0%|                                                                                                         | 0/1324 [00:00<?, ?it/s, now=None]\u001b[A\n",
      "chunk:  49%|█████████████████████████████████████████████▉                                               | 654/1324 [00:00<00:00, 6535.78it/s, now=None]\u001b[A\n",
      "                                                                                                                                                        \u001b[A"
     ]
    },
    {
     "name": "stdout",
     "output_type": "stream",
     "text": [
      "MoviePy - Done.\n",
      "MoviePy - Writing audio in temp_audio.wav\n"
     ]
    },
    {
     "name": "stderr",
     "output_type": "stream",
     "text": [
      "\n",
      "chunk:   0%|                                                                                                         | 0/1324 [00:00<?, ?it/s, now=None]\u001b[A\n",
      "chunk:  47%|███████████████████████████████████████████▎                                                 | 616/1324 [00:00<00:00, 6159.14it/s, now=None]\u001b[A\n",
      "chunk:  93%|█████████████████████████████████████████████████████████████████████████████████████▌      | 1232/1324 [00:00<00:00, 5786.48it/s, now=None]\u001b[A\n",
      "                                                                                                                                                        \u001b[A"
     ]
    },
    {
     "name": "stdout",
     "output_type": "stream",
     "text": [
      "MoviePy - Done.\n",
      "MoviePy - Writing audio in temp_audio.wav\n"
     ]
    },
    {
     "name": "stderr",
     "output_type": "stream",
     "text": [
      "\n",
      "chunk:   0%|                                                                                                         | 0/1324 [00:00<?, ?it/s, now=None]\u001b[A\n",
      "chunk:  47%|███████████████████████████████████████████▋                                                 | 622/1324 [00:00<00:00, 6219.46it/s, now=None]\u001b[A\n",
      "chunk:  94%|██████████████████████████████████████████████████████████████████████████████████████▍     | 1244/1324 [00:00<00:00, 5564.70it/s, now=None]\u001b[A\n",
      "                                                                                                                                                        \u001b[A"
     ]
    },
    {
     "name": "stdout",
     "output_type": "stream",
     "text": [
      "MoviePy - Done.\n",
      "MoviePy - Writing audio in temp_audio.wav\n"
     ]
    },
    {
     "name": "stderr",
     "output_type": "stream",
     "text": [
      "\n",
      "chunk:   0%|                                                                                                         | 0/1324 [00:00<?, ?it/s, now=None]\u001b[A\n",
      "chunk:  52%|████████████████████████████████████████████████▏                                            | 686/1324 [00:00<00:00, 6857.85it/s, now=None]\u001b[A\n",
      "                                                                                                                                                        \u001b[A"
     ]
    },
    {
     "name": "stdout",
     "output_type": "stream",
     "text": [
      "MoviePy - Done.\n",
      "MoviePy - Writing audio in temp_audio.wav\n"
     ]
    },
    {
     "name": "stderr",
     "output_type": "stream",
     "text": [
      "\n",
      "chunk:   0%|                                                                                                         | 0/1324 [00:00<?, ?it/s, now=None]\u001b[A\n",
      "chunk:  35%|████████████████████████████████▏                                                            | 459/1324 [00:00<00:00, 4435.06it/s, now=None]\u001b[A\n",
      "chunk:  68%|███████████████████████████████████████████████████████████████▍                             | 903/1324 [00:00<00:00, 4091.60it/s, now=None]\u001b[A\n",
      "chunk:  99%|███████████████████████████████████████████████████████████████████████████████████████████▎| 1314/1324 [00:00<00:00, 4039.40it/s, now=None]\u001b[A\n",
      "                                                                                                                                                        \u001b[A"
     ]
    },
    {
     "name": "stdout",
     "output_type": "stream",
     "text": [
      "MoviePy - Done.\n",
      "MoviePy - Writing audio in temp_audio.wav\n"
     ]
    },
    {
     "name": "stderr",
     "output_type": "stream",
     "text": [
      "\n",
      "chunk:   0%|                                                                                                         | 0/1324 [00:00<?, ?it/s, now=None]\u001b[A\n",
      "chunk:  43%|███████████████████████████████████████▊                                                     | 566/1324 [00:00<00:00, 5656.08it/s, now=None]\u001b[A\n",
      "chunk:  85%|██████████████████████████████████████████████████████████████████████████████▋             | 1132/1324 [00:00<00:00, 5604.65it/s, now=None]\u001b[A\n",
      "                                                                                                                                                        \u001b[A"
     ]
    },
    {
     "name": "stdout",
     "output_type": "stream",
     "text": [
      "MoviePy - Done.\n",
      "MoviePy - Writing audio in temp_audio.wav\n"
     ]
    },
    {
     "name": "stderr",
     "output_type": "stream",
     "text": [
      "\n",
      "chunk:   0%|                                                                                                         | 0/1324 [00:00<?, ?it/s, now=None]\u001b[A\n",
      "chunk:  48%|████████████████████████████████████████████▍                                                | 633/1324 [00:00<00:00, 6323.99it/s, now=None]\u001b[A\n",
      "chunk:  96%|███████████████████████████████████████████████████████████████████████████████████████▉    | 1266/1324 [00:00<00:00, 6054.81it/s, now=None]\u001b[A\n",
      "                                                                                                                                                        \u001b[A"
     ]
    },
    {
     "name": "stdout",
     "output_type": "stream",
     "text": [
      "MoviePy - Done.\n",
      "MoviePy - Writing audio in temp_audio.wav\n"
     ]
    },
    {
     "name": "stderr",
     "output_type": "stream",
     "text": [
      "\n",
      "chunk:   0%|                                                                                                         | 0/1324 [00:00<?, ?it/s, now=None]\u001b[A\n",
      "chunk:  50%|██████████████████████████████████████████████▌                                              | 663/1324 [00:00<00:00, 6473.02it/s, now=None]\u001b[A\n",
      "chunk:  99%|███████████████████████████████████████████████████████████████████████████████████████████ | 1311/1324 [00:00<00:00, 5984.28it/s, now=None]\u001b[A\n",
      "                                                                                                                                                        \u001b[A"
     ]
    },
    {
     "name": "stdout",
     "output_type": "stream",
     "text": [
      "MoviePy - Done.\n",
      "MoviePy - Writing audio in temp_audio.wav\n"
     ]
    },
    {
     "name": "stderr",
     "output_type": "stream",
     "text": [
      "\n",
      "chunk:   0%|                                                                                                         | 0/1324 [00:00<?, ?it/s, now=None]\u001b[A\n",
      "chunk:  39%|███████████████████████████████████▊                                                         | 510/1324 [00:00<00:00, 5019.41it/s, now=None]\u001b[A\n",
      "chunk:  78%|███████████████████████████████████████████████████████████████████████▉                    | 1036/1324 [00:00<00:00, 5159.69it/s, now=None]\u001b[A\n",
      "                                                                                                                                                        \u001b[A"
     ]
    },
    {
     "name": "stdout",
     "output_type": "stream",
     "text": [
      "MoviePy - Done.\n",
      "MoviePy - Writing audio in temp_audio.wav\n"
     ]
    },
    {
     "name": "stderr",
     "output_type": "stream",
     "text": [
      "\n",
      "chunk:   0%|                                                                                                         | 0/1324 [00:00<?, ?it/s, now=None]\u001b[A\n",
      "chunk:  49%|█████████████████████████████████████████████▏                                               | 643/1324 [00:00<00:00, 6426.41it/s, now=None]\u001b[A\n",
      "chunk:  97%|█████████████████████████████████████████████████████████████████████████████████████████▎  | 1286/1324 [00:00<00:00, 6081.11it/s, now=None]\u001b[A\n",
      "                                                                                                                                                        \u001b[A"
     ]
    },
    {
     "name": "stdout",
     "output_type": "stream",
     "text": [
      "MoviePy - Done.\n",
      "MoviePy - Writing audio in temp_audio.wav\n"
     ]
    },
    {
     "name": "stderr",
     "output_type": "stream",
     "text": [
      "\n",
      "chunk:   0%|                                                                                                         | 0/1324 [00:00<?, ?it/s, now=None]\u001b[A\n",
      "chunk:  49%|█████████████████████████████████████████████▏                                               | 644/1324 [00:00<00:00, 6436.52it/s, now=None]\u001b[A\n",
      "chunk:  97%|█████████████████████████████████████████████████████████████████████████████████████████▍  | 1288/1324 [00:00<00:00, 6041.50it/s, now=None]\u001b[A\n",
      "                                                                                                                                                        \u001b[A"
     ]
    },
    {
     "name": "stdout",
     "output_type": "stream",
     "text": [
      "MoviePy - Done.\n",
      "MoviePy - Writing audio in temp_audio.wav\n"
     ]
    },
    {
     "name": "stderr",
     "output_type": "stream",
     "text": [
      "\n",
      "chunk:   0%|                                                                                                         | 0/1324 [00:00<?, ?it/s, now=None]\u001b[A\n",
      "chunk:  43%|███████████████████████████████████████▌                                                     | 564/1324 [00:00<00:00, 5636.65it/s, now=None]\u001b[A\n",
      "chunk:  91%|███████████████████████████████████████████████████████████████████████████████████▌        | 1203/1324 [00:00<00:00, 6075.71it/s, now=None]\u001b[A\n",
      "                                                                                                                                                        \u001b[A"
     ]
    },
    {
     "name": "stdout",
     "output_type": "stream",
     "text": [
      "MoviePy - Done.\n",
      "MoviePy - Writing audio in temp_audio.wav\n"
     ]
    },
    {
     "name": "stderr",
     "output_type": "stream",
     "text": [
      "\n",
      "chunk:   0%|                                                                                                         | 0/1324 [00:00<?, ?it/s, now=None]\u001b[A\n",
      "chunk:  48%|████████████████████████████████████████████▌                                                | 634/1324 [00:00<00:00, 6336.11it/s, now=None]\u001b[A\n",
      "chunk:  96%|████████████████████████████████████████████████████████████████████████████████████████    | 1268/1324 [00:00<00:00, 6209.97it/s, now=None]\u001b[A\n",
      "                                                                                                                                                        \u001b[A"
     ]
    },
    {
     "name": "stdout",
     "output_type": "stream",
     "text": [
      "MoviePy - Done.\n",
      "MoviePy - Writing audio in temp_audio.wav\n"
     ]
    },
    {
     "name": "stderr",
     "output_type": "stream",
     "text": [
      "\n",
      "chunk:   0%|                                                                                                         | 0/1324 [00:00<?, ?it/s, now=None]\u001b[A\n",
      "chunk:  42%|███████████████████████████████████████▍                                                     | 562/1324 [00:00<00:00, 5614.99it/s, now=None]\u001b[A\n",
      "chunk:  89%|█████████████████████████████████████████████████████████████████████████████████▌          | 1173/1324 [00:00<00:00, 5902.43it/s, now=None]\u001b[A\n",
      "                                                                                                                                                        \u001b[A"
     ]
    },
    {
     "name": "stdout",
     "output_type": "stream",
     "text": [
      "MoviePy - Done.\n",
      "MoviePy - Writing audio in temp_audio.wav\n"
     ]
    },
    {
     "name": "stderr",
     "output_type": "stream",
     "text": [
      "\n",
      "chunk:   0%|                                                                                                         | 0/1324 [00:00<?, ?it/s, now=None]\u001b[A\n",
      "chunk:  47%|███████████████████████████████████████████▎                                                 | 617/1324 [00:00<00:00, 6165.90it/s, now=None]\u001b[A\n",
      "chunk:  96%|████████████████████████████████████████████████████████████████████████████████████████▌   | 1275/1324 [00:00<00:00, 6353.21it/s, now=None]\u001b[A\n",
      "                                                                                                                                                        \u001b[A"
     ]
    },
    {
     "name": "stdout",
     "output_type": "stream",
     "text": [
      "MoviePy - Done.\n",
      "MoviePy - Writing audio in temp_audio.wav\n"
     ]
    },
    {
     "name": "stderr",
     "output_type": "stream",
     "text": [
      "\n",
      "chunk:   0%|                                                                                                         | 0/1324 [00:00<?, ?it/s, now=None]\u001b[A\n",
      "chunk:  46%|██████████████████████████████████████████▉                                                  | 612/1324 [00:00<00:00, 5987.60it/s, now=None]\u001b[A\n",
      "chunk:  96%|████████████████████████████████████████████████████████████████████████████████████████▌   | 1275/1324 [00:00<00:00, 6322.87it/s, now=None]\u001b[A\n",
      "                                                                                                                                                        \u001b[A"
     ]
    },
    {
     "name": "stdout",
     "output_type": "stream",
     "text": [
      "MoviePy - Done.\n",
      "MoviePy - Writing audio in temp_audio.wav\n"
     ]
    },
    {
     "name": "stderr",
     "output_type": "stream",
     "text": [
      "\n",
      "chunk:   0%|                                                                                                         | 0/1324 [00:00<?, ?it/s, now=None]\u001b[A\n",
      "chunk:  42%|███████████████████████████████████████                                                      | 556/1324 [00:00<00:00, 5555.12it/s, now=None]\u001b[A\n",
      "chunk:  85%|█████████████████████████████████████████████████████████████████████████████▉              | 1122/1324 [00:00<00:00, 5559.60it/s, now=None]\u001b[A\n",
      "                                                                                                                                                        \u001b[A"
     ]
    },
    {
     "name": "stdout",
     "output_type": "stream",
     "text": [
      "MoviePy - Done.\n",
      "MoviePy - Writing audio in temp_audio.wav\n"
     ]
    },
    {
     "name": "stderr",
     "output_type": "stream",
     "text": [
      "\n",
      "chunk:   0%|                                                                                                         | 0/1324 [00:00<?, ?it/s, now=None]\u001b[A\n",
      "chunk:  31%|████████████████████████████▋                                                                | 408/1324 [00:00<00:00, 3907.73it/s, now=None]\u001b[A\n",
      "chunk:  60%|████████████████████████████████████████████████████████                                     | 799/1324 [00:00<00:00, 3755.31it/s, now=None]\u001b[A\n",
      "chunk:  89%|█████████████████████████████████████████████████████████████████████████████████▋          | 1175/1324 [00:00<00:00, 3728.96it/s, now=None]\u001b[A\n",
      "                                                                                                                                                        \u001b[A"
     ]
    },
    {
     "name": "stdout",
     "output_type": "stream",
     "text": [
      "MoviePy - Done.\n",
      "MoviePy - Writing audio in temp_audio.wav\n"
     ]
    },
    {
     "name": "stderr",
     "output_type": "stream",
     "text": [
      "\n",
      "chunk:   0%|                                                                                                         | 0/1324 [00:00<?, ?it/s, now=None]\u001b[A\n",
      "chunk:   8%|███████▏                                                                                      | 102/1324 [00:00<00:01, 939.20it/s, now=None]\u001b[A\n",
      "chunk:  16%|██████████████▋                                                                              | 209/1324 [00:00<00:01, 1013.42it/s, now=None]\u001b[A\n",
      "chunk:  29%|███████████████████████████                                                                  | 386/1324 [00:00<00:00, 1352.02it/s, now=None]\u001b[A\n",
      "chunk:  41%|██████████████████████████████████████▍                                                      | 547/1324 [00:00<00:00, 1451.80it/s, now=None]\u001b[A\n",
      "chunk:  52%|████████████████████████████████████████████████▋                                            | 693/1324 [00:00<00:00, 1261.86it/s, now=None]\u001b[A\n",
      "chunk:  62%|█████████████████████████████████████████████████████████▉                                   | 825/1324 [00:00<00:00, 1278.92it/s, now=None]\u001b[A\n",
      "chunk:  75%|██████████████████████████████████████████████████████████████████████                       | 998/1324 [00:00<00:00, 1415.93it/s, now=None]\u001b[A\n",
      "chunk:  89%|█████████████████████████████████████████████████████████████████████████████████▌          | 1173/1324 [00:00<00:00, 1515.98it/s, now=None]\u001b[A\n",
      "                                                                                                                                                        \u001b[A"
     ]
    },
    {
     "name": "stdout",
     "output_type": "stream",
     "text": [
      "MoviePy - Done.\n",
      "MoviePy - Writing audio in temp_audio.wav\n"
     ]
    },
    {
     "name": "stderr",
     "output_type": "stream",
     "text": [
      "\n",
      "chunk:   0%|                                                                                                          | 0/562 [00:00<?, ?it/s, now=None]\u001b[A\n",
      "chunk:  79%|██████████████████████████████████████████████████████████████████████████▌                   | 446/562 [00:00<00:00, 4459.22it/s, now=None]\u001b[A\n",
      "                                                                                                                                                        \u001b[A"
     ]
    },
    {
     "name": "stdout",
     "output_type": "stream",
     "text": [
      "MoviePy - Done.\n",
      "MoviePy - Writing audio in temp_audio.wav\n"
     ]
    },
    {
     "name": "stderr",
     "output_type": "stream",
     "text": [
      "\n",
      "chunk:   0%|                                                                                                         | 0/1324 [00:00<?, ?it/s, now=None]\u001b[A\n",
      "chunk:  29%|███████████████████████████▏                                                                 | 387/1324 [00:00<00:00, 3865.57it/s, now=None]\u001b[A\n",
      "chunk:  58%|██████████████████████████████████████████████████████▎                                      | 774/1324 [00:00<00:00, 3674.04it/s, now=None]\u001b[A\n",
      "chunk:  87%|███████████████████████████████████████████████████████████████████████████████▋            | 1147/1324 [00:00<00:00, 3696.55it/s, now=None]\u001b[A\n",
      "                                                                                                                                                        \u001b[A"
     ]
    },
    {
     "name": "stdout",
     "output_type": "stream",
     "text": [
      "MoviePy - Done.\n",
      "MoviePy - Writing audio in temp_audio.wav\n"
     ]
    },
    {
     "name": "stderr",
     "output_type": "stream",
     "text": [
      "\n",
      "chunk:   0%|                                                                                                         | 0/1324 [00:00<?, ?it/s, now=None]\u001b[A\n",
      "chunk:  18%|████████████████▍                                                                            | 234/1324 [00:00<00:00, 2336.05it/s, now=None]\u001b[A\n",
      "chunk:  35%|████████████████████████████████▊                                                            | 468/1324 [00:00<00:00, 2040.94it/s, now=None]\u001b[A\n",
      "chunk:  56%|███████████████████████████████████████████████████▊                                         | 737/1324 [00:00<00:00, 2314.74it/s, now=None]\u001b[A\n",
      "chunk:  78%|███████████████████████████████████████████████████████████████████████▌                    | 1029/1324 [00:00<00:00, 2540.85it/s, now=None]\u001b[A\n",
      "                                                                                                                                                        \u001b[A"
     ]
    },
    {
     "name": "stdout",
     "output_type": "stream",
     "text": [
      "MoviePy - Done.\n",
      "MoviePy - Writing audio in temp_audio.wav\n"
     ]
    },
    {
     "name": "stderr",
     "output_type": "stream",
     "text": [
      "\n",
      "chunk:   0%|                                                                                                         | 0/1324 [00:00<?, ?it/s, now=None]\u001b[A\n",
      "chunk:  40%|████████████████████████████████████▉                                                        | 525/1324 [00:00<00:00, 5246.20it/s, now=None]\u001b[A\n",
      "chunk:  85%|█████████████████████████████████████████████████████████████████████████████▉              | 1122/1324 [00:00<00:00, 5618.54it/s, now=None]\u001b[A\n",
      "                                                                                                                                                        \u001b[A"
     ]
    },
    {
     "name": "stdout",
     "output_type": "stream",
     "text": [
      "MoviePy - Done.\n",
      "MoviePy - Writing audio in temp_audio.wav\n"
     ]
    },
    {
     "name": "stderr",
     "output_type": "stream",
     "text": [
      "\n",
      "chunk:   0%|                                                                                                         | 0/1324 [00:00<?, ?it/s, now=None]\u001b[A\n",
      "chunk:  27%|█████████████████████████                                                                    | 357/1324 [00:00<00:00, 3523.42it/s, now=None]\u001b[A\n",
      "chunk:  54%|█████████████████████████████████████████████████▊                                           | 710/1324 [00:00<00:00, 2556.92it/s, now=None]\u001b[A\n",
      "chunk:  74%|████████████████████████████████████████████████████████████████████▉                        | 982/1324 [00:00<00:00, 2165.40it/s, now=None]\u001b[A\n",
      "chunk:  99%|███████████████████████████████████████████████████████████████████████████████████████████▎| 1315/1324 [00:00<00:00, 2524.35it/s, now=None]\u001b[A\n",
      "                                                                                                                                                        \u001b[A"
     ]
    },
    {
     "name": "stdout",
     "output_type": "stream",
     "text": [
      "MoviePy - Done.\n",
      "MoviePy - Writing audio in temp_audio.wav\n"
     ]
    },
    {
     "name": "stderr",
     "output_type": "stream",
     "text": [
      "\n",
      "chunk:   0%|                                                                                                         | 0/1324 [00:00<?, ?it/s, now=None]\u001b[A\n",
      "chunk:  50%|██████████████████████████████████████████████▍                                              | 661/1324 [00:00<00:00, 6603.47it/s, now=None]\u001b[A\n",
      "chunk: 100%|███████████████████████████████████████████████████████████████████████████████████████████▊| 1322/1324 [00:00<00:00, 6051.01it/s, now=None]\u001b[A\n",
      "                                                                                                                                                        \u001b[A"
     ]
    },
    {
     "name": "stdout",
     "output_type": "stream",
     "text": [
      "MoviePy - Done.\n",
      "MoviePy - Writing audio in temp_audio.wav\n"
     ]
    },
    {
     "name": "stderr",
     "output_type": "stream",
     "text": [
      "\n",
      "chunk:   0%|                                                                                                         | 0/1324 [00:00<?, ?it/s, now=None]\u001b[A\n",
      "chunk:  43%|████████████████████████████████████████▎                                                    | 574/1324 [00:00<00:00, 5738.87it/s, now=None]\u001b[A\n",
      "chunk:  87%|███████████████████████████████████████████████████████████████████████████████▊            | 1148/1324 [00:00<00:00, 5700.93it/s, now=None]\u001b[A\n",
      "                                                                                                                                                        \u001b[A"
     ]
    },
    {
     "name": "stdout",
     "output_type": "stream",
     "text": [
      "MoviePy - Done.\n",
      "MoviePy - Writing audio in temp_audio.wav\n"
     ]
    },
    {
     "name": "stderr",
     "output_type": "stream",
     "text": [
      "\n",
      "chunk:   0%|                                                                                                         | 0/1324 [00:00<?, ?it/s, now=None]\u001b[A\n",
      "chunk:  17%|████████████████                                                                             | 229/1324 [00:00<00:00, 2288.47it/s, now=None]\u001b[A\n",
      "chunk:  42%|███████████████████████████████████████▍                                                     | 562/1324 [00:00<00:00, 2897.02it/s, now=None]\u001b[A\n",
      "chunk:  73%|███████████████████████████████████████████████████████████████████▊                         | 966/1324 [00:00<00:00, 3416.50it/s, now=None]\u001b[A\n",
      "chunk:  99%|██████████████████████████████████████████████████████████████████████████████████████████▉ | 1308/1324 [00:00<00:00, 3353.49it/s, now=None]\u001b[A\n",
      "                                                                                                                                                        \u001b[A"
     ]
    },
    {
     "name": "stdout",
     "output_type": "stream",
     "text": [
      "MoviePy - Done.\n",
      "MoviePy - Writing audio in temp_audio.wav\n"
     ]
    },
    {
     "name": "stderr",
     "output_type": "stream",
     "text": [
      "\n",
      "chunk:   0%|                                                                                                         | 0/1324 [00:00<?, ?it/s, now=None]\u001b[A\n",
      "chunk:  48%|████████████████████████████████████████████▌                                                | 635/1324 [00:00<00:00, 6345.45it/s, now=None]\u001b[A\n",
      "chunk:  96%|████████████████████████████████████████████████████████████████████████████████████████▏   | 1270/1324 [00:00<00:00, 6201.08it/s, now=None]\u001b[A\n",
      "                                                                                                                                                        \u001b[A"
     ]
    },
    {
     "name": "stdout",
     "output_type": "stream",
     "text": [
      "MoviePy - Done.\n",
      "MoviePy - Writing audio in temp_audio.wav\n"
     ]
    },
    {
     "name": "stderr",
     "output_type": "stream",
     "text": [
      "\n",
      "chunk:   0%|                                                                                                         | 0/1324 [00:00<?, ?it/s, now=None]\u001b[A\n",
      "chunk:  42%|███████████████████████████████████████▎                                                     | 559/1324 [00:00<00:00, 5588.82it/s, now=None]\u001b[A\n",
      "chunk:  84%|█████████████████████████████████████████████████████████████████████████████▋              | 1118/1324 [00:00<00:00, 5275.86it/s, now=None]\u001b[A\n",
      "                                                                                                                                                        \u001b[A"
     ]
    },
    {
     "name": "stdout",
     "output_type": "stream",
     "text": [
      "MoviePy - Done.\n",
      "MoviePy - Writing audio in temp_audio.wav\n"
     ]
    },
    {
     "name": "stderr",
     "output_type": "stream",
     "text": [
      "\n",
      "chunk:   0%|                                                                                                         | 0/1324 [00:00<?, ?it/s, now=None]\u001b[A\n",
      "chunk:  31%|████████████████████████████▋                                                                | 408/1324 [00:00<00:00, 3899.34it/s, now=None]\u001b[A\n",
      "chunk:  63%|██████████████████████████████████████████████████████████▍                                  | 832/1324 [00:00<00:00, 4094.54it/s, now=None]\u001b[A\n",
      "chunk:  94%|██████████████████████████████████████████████████████████████████████████████████████▎     | 1242/1324 [00:00<00:00, 3433.36it/s, now=None]\u001b[A\n",
      "                                                                                                                                                        \u001b[A"
     ]
    },
    {
     "name": "stdout",
     "output_type": "stream",
     "text": [
      "MoviePy - Done.\n",
      "MoviePy - Writing audio in temp_audio.wav\n"
     ]
    },
    {
     "name": "stderr",
     "output_type": "stream",
     "text": [
      "\n",
      "chunk:   0%|                                                                                                         | 0/1324 [00:00<?, ?it/s, now=None]\u001b[A\n",
      "chunk:  45%|█████████████████████████████████████████▋                                                   | 593/1324 [00:00<00:00, 5923.50it/s, now=None]\u001b[A\n",
      "chunk:  92%|█████████████████████████████████████████████████████████████████████████████████████       | 1224/1324 [00:00<00:00, 6094.87it/s, now=None]\u001b[A\n",
      "                                                                                                                                                        \u001b[A"
     ]
    },
    {
     "name": "stdout",
     "output_type": "stream",
     "text": [
      "MoviePy - Done.\n",
      "MoviePy - Writing audio in temp_audio.wav\n"
     ]
    },
    {
     "name": "stderr",
     "output_type": "stream",
     "text": [
      "\n",
      "chunk:   0%|                                                                                                         | 0/1324 [00:00<?, ?it/s, now=None]\u001b[A\n",
      "chunk:  42%|███████████████████████████████████████▍                                                     | 561/1324 [00:00<00:00, 5483.64it/s, now=None]\u001b[A\n",
      "chunk:  89%|█████████████████████████████████████████████████████████████████████████████████▌          | 1173/1324 [00:00<00:00, 5806.49it/s, now=None]\u001b[A\n",
      "                                                                                                                                                        \u001b[A"
     ]
    },
    {
     "name": "stdout",
     "output_type": "stream",
     "text": [
      "MoviePy - Done.\n",
      "MoviePy - Writing audio in temp_audio.wav\n"
     ]
    },
    {
     "name": "stderr",
     "output_type": "stream",
     "text": [
      "\n",
      "chunk:   0%|                                                                                                         | 0/1324 [00:00<?, ?it/s, now=None]\u001b[A\n",
      "chunk:  41%|██████████████████████████████████████▍                                                      | 548/1324 [00:00<00:00, 5479.30it/s, now=None]\u001b[A\n",
      "chunk:  83%|████████████████████████████████████████████████████████████████████████████▏               | 1096/1324 [00:00<00:00, 5363.55it/s, now=None]\u001b[A\n",
      "                                                                                                                                                        \u001b[A"
     ]
    },
    {
     "name": "stdout",
     "output_type": "stream",
     "text": [
      "MoviePy - Done.\n",
      "MoviePy - Writing audio in temp_audio.wav\n"
     ]
    },
    {
     "name": "stderr",
     "output_type": "stream",
     "text": [
      "\n",
      "chunk:   0%|                                                                                                         | 0/1324 [00:00<?, ?it/s, now=None]\u001b[A\n",
      "chunk:  44%|█████████████████████████████████████████                                                    | 585/1324 [00:00<00:00, 5844.18it/s, now=None]\u001b[A\n",
      "chunk:  88%|█████████████████████████████████████████████████████████████████████████████████▎          | 1170/1324 [00:00<00:00, 5710.05it/s, now=None]\u001b[A\n",
      "                                                                                                                                                        \u001b[A"
     ]
    },
    {
     "name": "stdout",
     "output_type": "stream",
     "text": [
      "MoviePy - Done.\n",
      "MoviePy - Writing audio in temp_audio.wav\n"
     ]
    },
    {
     "name": "stderr",
     "output_type": "stream",
     "text": [
      "\n",
      "chunk:   0%|                                                                                                         | 0/1324 [00:00<?, ?it/s, now=None]\u001b[A\n",
      "chunk:  50%|██████████████████████████████████████████████▌                                              | 663/1324 [00:00<00:00, 6612.07it/s, now=None]\u001b[A\n",
      "                                                                                                                                                        \u001b[A"
     ]
    },
    {
     "name": "stdout",
     "output_type": "stream",
     "text": [
      "MoviePy - Done.\n",
      "MoviePy - Writing audio in temp_audio.wav\n"
     ]
    },
    {
     "name": "stderr",
     "output_type": "stream",
     "text": [
      "\n",
      "chunk:   0%|                                                                                                         | 0/1324 [00:00<?, ?it/s, now=None]\u001b[A\n",
      "chunk:  44%|████████████████████████████████████████▌                                                    | 577/1324 [00:00<00:00, 5765.83it/s, now=None]\u001b[A\n",
      "chunk:  87%|████████████████████████████████████████████████████████████████████████████████▏           | 1154/1324 [00:00<00:00, 5525.18it/s, now=None]\u001b[A\n",
      "                                                                                                                                                        \u001b[A"
     ]
    },
    {
     "name": "stdout",
     "output_type": "stream",
     "text": [
      "MoviePy - Done.\n",
      "MoviePy - Writing audio in temp_audio.wav\n"
     ]
    },
    {
     "name": "stderr",
     "output_type": "stream",
     "text": [
      "\n",
      "chunk:   0%|                                                                                                         | 0/1324 [00:00<?, ?it/s, now=None]\u001b[A\n",
      "chunk:  45%|█████████████████████████████████████████▌                                                   | 591/1324 [00:00<00:00, 5909.29it/s, now=None]\u001b[A\n",
      "chunk:  89%|██████████████████████████████████████████████████████████████████████████████████▏         | 1182/1324 [00:00<00:00, 5906.36it/s, now=None]\u001b[A\n",
      "                                                                                                                                                        \u001b[A"
     ]
    },
    {
     "name": "stdout",
     "output_type": "stream",
     "text": [
      "MoviePy - Done.\n",
      "MoviePy - Writing audio in temp_audio.wav\n"
     ]
    },
    {
     "name": "stderr",
     "output_type": "stream",
     "text": [
      "\n",
      "chunk:   0%|                                                                                                         | 0/1324 [00:00<?, ?it/s, now=None]\u001b[A\n",
      "chunk:  39%|████████████████████████████████████                                                         | 514/1324 [00:00<00:00, 5139.93it/s, now=None]\u001b[A\n",
      "chunk:  79%|████████████████████████████████████████████████████████████████████████▋                   | 1046/1324 [00:00<00:00, 5243.17it/s, now=None]\u001b[A\n",
      "                                                                                                                                                        \u001b[A"
     ]
    },
    {
     "name": "stdout",
     "output_type": "stream",
     "text": [
      "MoviePy - Done.\n",
      "MoviePy - Writing audio in temp_audio.wav\n"
     ]
    },
    {
     "name": "stderr",
     "output_type": "stream",
     "text": [
      "\n",
      "chunk:   0%|                                                                                                         | 0/1324 [00:00<?, ?it/s, now=None]\u001b[A\n",
      "chunk:  42%|███████████████████████████████████████▍                                                     | 561/1324 [00:00<00:00, 5497.03it/s, now=None]\u001b[A\n",
      "chunk:  84%|█████████████████████████████████████████████████████████████████████████████▏              | 1111/1324 [00:00<00:00, 5410.26it/s, now=None]\u001b[A\n",
      "                                                                                                                                                        \u001b[A"
     ]
    },
    {
     "name": "stdout",
     "output_type": "stream",
     "text": [
      "MoviePy - Done.\n",
      "MoviePy - Writing audio in temp_audio.wav\n"
     ]
    },
    {
     "name": "stderr",
     "output_type": "stream",
     "text": [
      "\n",
      "chunk:   0%|                                                                                                         | 0/1324 [00:00<?, ?it/s, now=None]\u001b[A\n",
      "chunk:  49%|█████████████████████████████████████████████▎                                               | 645/1324 [00:00<00:00, 6449.02it/s, now=None]\u001b[A\n",
      "chunk:  97%|█████████████████████████████████████████████████████████████████████████████████████████▋  | 1290/1324 [00:00<00:00, 5767.66it/s, now=None]\u001b[A\n",
      "                                                                                                                                                        \u001b[A"
     ]
    },
    {
     "name": "stdout",
     "output_type": "stream",
     "text": [
      "MoviePy - Done.\n",
      "MoviePy - Writing audio in temp_audio.wav\n"
     ]
    },
    {
     "name": "stderr",
     "output_type": "stream",
     "text": [
      "\n",
      "chunk:   0%|                                                                                                         | 0/1324 [00:00<?, ?it/s, now=None]\u001b[A\n",
      "chunk:  46%|███████████████████████████████████████████                                                  | 613/1324 [00:00<00:00, 6124.11it/s, now=None]\u001b[A\n",
      "chunk:  93%|█████████████████████████████████████████████████████████████████████████████████████▏      | 1226/1324 [00:00<00:00, 5117.00it/s, now=None]\u001b[A\n",
      "                                                                                                                                                        \u001b[A"
     ]
    },
    {
     "name": "stdout",
     "output_type": "stream",
     "text": [
      "MoviePy - Done.\n",
      "MoviePy - Writing audio in temp_audio.wav\n"
     ]
    },
    {
     "name": "stderr",
     "output_type": "stream",
     "text": [
      "\n",
      "chunk:   0%|                                                                                                         | 0/1324 [00:00<?, ?it/s, now=None]\u001b[A\n",
      "chunk:  46%|██████████████████████████████████████████▉                                                  | 612/1324 [00:00<00:00, 6095.40it/s, now=None]\u001b[A\n",
      "chunk:  92%|████████████████████████████████████████████████████████████████████████████████████▉       | 1222/1324 [00:00<00:00, 5879.55it/s, now=None]\u001b[A\n",
      "                                                                                                                                                        \u001b[A"
     ]
    },
    {
     "name": "stdout",
     "output_type": "stream",
     "text": [
      "MoviePy - Done.\n",
      "MoviePy - Writing audio in temp_audio.wav\n"
     ]
    },
    {
     "name": "stderr",
     "output_type": "stream",
     "text": [
      "\n",
      "chunk:   0%|                                                                                                         | 0/1324 [00:00<?, ?it/s, now=None]\u001b[A\n",
      "chunk:  50%|██████████████████████████████████████████████▌                                              | 663/1324 [00:00<00:00, 6490.43it/s, now=None]\u001b[A\n",
      "chunk:  99%|███████████████████████████████████████████████████████████████████████████████████████████▏| 1313/1324 [00:00<00:00, 6070.47it/s, now=None]\u001b[A\n",
      "                                                                                                                                                        \u001b[A"
     ]
    },
    {
     "name": "stdout",
     "output_type": "stream",
     "text": [
      "MoviePy - Done.\n",
      "MoviePy - Writing audio in temp_audio.wav\n"
     ]
    },
    {
     "name": "stderr",
     "output_type": "stream",
     "text": [
      "\n",
      "chunk:   0%|                                                                                                         | 0/1324 [00:00<?, ?it/s, now=None]\u001b[A\n",
      "chunk:  47%|████████████████████████████████████████████                                                 | 628/1324 [00:00<00:00, 6279.09it/s, now=None]\u001b[A\n",
      "chunk:  95%|███████████████████████████████████████████████████████████████████████████████████████▎    | 1256/1324 [00:00<00:00, 6027.45it/s, now=None]\u001b[A\n",
      "                                                                                                                                                        \u001b[A"
     ]
    },
    {
     "name": "stdout",
     "output_type": "stream",
     "text": [
      "MoviePy - Done.\n",
      "MoviePy - Writing audio in temp_audio.wav\n"
     ]
    },
    {
     "name": "stderr",
     "output_type": "stream",
     "text": [
      "\n",
      "chunk:   0%|                                                                                                         | 0/1324 [00:00<?, ?it/s, now=None]\u001b[A\n",
      "chunk:  49%|█████████████████████████████████████████████▋                                               | 650/1324 [00:00<00:00, 6499.00it/s, now=None]\u001b[A\n",
      "chunk:  98%|██████████████████████████████████████████████████████████████████████████████████████████▎ | 1300/1324 [00:00<00:00, 6007.20it/s, now=None]\u001b[A\n",
      "                                                                                                                                                        \u001b[A"
     ]
    },
    {
     "name": "stdout",
     "output_type": "stream",
     "text": [
      "MoviePy - Done.\n",
      "MoviePy - Writing audio in temp_audio.wav\n"
     ]
    },
    {
     "name": "stderr",
     "output_type": "stream",
     "text": [
      "\n",
      "chunk:   0%|                                                                                                         | 0/1324 [00:00<?, ?it/s, now=None]\u001b[A\n",
      "chunk:  43%|████████████████████████████████████████                                                     | 571/1324 [00:00<00:00, 5709.76it/s, now=None]\u001b[A\n",
      "chunk:  88%|█████████████████████████████████████████████████████████████████████████████████▏          | 1168/1324 [00:00<00:00, 5862.00it/s, now=None]\u001b[A\n",
      "                                                                                                                                                        \u001b[A"
     ]
    },
    {
     "name": "stdout",
     "output_type": "stream",
     "text": [
      "MoviePy - Done.\n",
      "MoviePy - Writing audio in temp_audio.wav\n"
     ]
    },
    {
     "name": "stderr",
     "output_type": "stream",
     "text": [
      "\n",
      "chunk:   0%|                                                                                                         | 0/1324 [00:00<?, ?it/s, now=None]\u001b[A\n",
      "chunk:  46%|██████████████████████████████████████████▉                                                  | 612/1324 [00:00<00:00, 6042.29it/s, now=None]\u001b[A\n",
      "chunk:  92%|████████████████████████████████████████████████████████████████████████████████████▌       | 1217/1324 [00:00<00:00, 5881.44it/s, now=None]\u001b[A\n",
      "                                                                                                                                                        \u001b[A"
     ]
    },
    {
     "name": "stdout",
     "output_type": "stream",
     "text": [
      "MoviePy - Done.\n",
      "MoviePy - Writing audio in temp_audio.wav\n"
     ]
    },
    {
     "name": "stderr",
     "output_type": "stream",
     "text": [
      "\n",
      "chunk:   0%|                                                                                                         | 0/1324 [00:00<?, ?it/s, now=None]\u001b[A\n",
      "chunk:  46%|██████████████████████████████████████████▊                                                  | 610/1324 [00:00<00:00, 6090.94it/s, now=None]\u001b[A\n",
      "chunk:  92%|████████████████████████████████████████████████████████████████████████████████████▊       | 1220/1324 [00:00<00:00, 4872.90it/s, now=None]\u001b[A\n",
      "                                                                                                                                                        \u001b[A"
     ]
    },
    {
     "name": "stdout",
     "output_type": "stream",
     "text": [
      "MoviePy - Done.\n",
      "MoviePy - Writing audio in temp_audio.wav\n"
     ]
    },
    {
     "name": "stderr",
     "output_type": "stream",
     "text": [
      "\n",
      "chunk:   0%|                                                                                                         | 0/1324 [00:00<?, ?it/s, now=None]\u001b[A\n",
      "chunk:  54%|██████████████████████████████████████████████████                                           | 713/1324 [00:00<00:00, 7127.37it/s, now=None]\u001b[A\n",
      "                                                                                                                                                        \u001b[A"
     ]
    },
    {
     "name": "stdout",
     "output_type": "stream",
     "text": [
      "MoviePy - Done.\n",
      "MoviePy - Writing audio in temp_audio.wav\n"
     ]
    },
    {
     "name": "stderr",
     "output_type": "stream",
     "text": [
      "\n",
      "chunk:   0%|                                                                                                         | 0/1324 [00:00<?, ?it/s, now=None]\u001b[A\n",
      "chunk:  54%|██████████████████████████████████████████████████▏                                          | 714/1324 [00:00<00:00, 6997.27it/s, now=None]\u001b[A\n",
      "                                                                                                                                                        \u001b[A"
     ]
    },
    {
     "name": "stdout",
     "output_type": "stream",
     "text": [
      "MoviePy - Done.\n",
      "MoviePy - Writing audio in temp_audio.wav\n"
     ]
    },
    {
     "name": "stderr",
     "output_type": "stream",
     "text": [
      "\n",
      "chunk:   0%|                                                                                                         | 0/1324 [00:00<?, ?it/s, now=None]\u001b[A\n",
      "chunk:  47%|███████████████████████████████████████████▊                                                 | 623/1324 [00:00<00:00, 6229.72it/s, now=None]\u001b[A\n",
      "chunk:  94%|██████████████████████████████████████████████████████████████████████████████████████▌     | 1246/1324 [00:00<00:00, 5809.69it/s, now=None]\u001b[A\n",
      "                                                                                                                                                        \u001b[A"
     ]
    },
    {
     "name": "stdout",
     "output_type": "stream",
     "text": [
      "MoviePy - Done.\n",
      "MoviePy - Writing audio in temp_audio.wav\n"
     ]
    },
    {
     "name": "stderr",
     "output_type": "stream",
     "text": [
      "\n",
      "chunk:   0%|                                                                                                         | 0/1324 [00:00<?, ?it/s, now=None]\u001b[A\n",
      "chunk:  43%|████████████████████████████████████████▏                                                    | 572/1324 [00:00<00:00, 5715.09it/s, now=None]\u001b[A\n",
      "chunk:  88%|█████████████████████████████████████████████████████████████████████████████████           | 1166/1324 [00:00<00:00, 5843.79it/s, now=None]\u001b[A\n",
      "                                                                                                                                                        \u001b[A"
     ]
    },
    {
     "name": "stdout",
     "output_type": "stream",
     "text": [
      "MoviePy - Done.\n",
      "MoviePy - Writing audio in temp_audio.wav\n"
     ]
    },
    {
     "name": "stderr",
     "output_type": "stream",
     "text": [
      "\n",
      "chunk:   0%|                                                                                                         | 0/1324 [00:00<?, ?it/s, now=None]\u001b[A\n",
      "chunk:  46%|██████████████████████████████████████████▉                                                  | 612/1324 [00:00<00:00, 6007.06it/s, now=None]\u001b[A\n",
      "chunk:  96%|████████████████████████████████████████████████████████████████████████████████████████▌   | 1275/1324 [00:00<00:00, 6244.27it/s, now=None]\u001b[A\n",
      "                                                                                                                                                        \u001b[A"
     ]
    },
    {
     "name": "stdout",
     "output_type": "stream",
     "text": [
      "MoviePy - Done.\n",
      "MoviePy - Writing audio in temp_audio.wav\n"
     ]
    },
    {
     "name": "stderr",
     "output_type": "stream",
     "text": [
      "\n",
      "chunk:   0%|                                                                                                         | 0/1324 [00:00<?, ?it/s, now=None]\u001b[A\n",
      "chunk:  42%|███████████████████████████████████████▍                                                     | 561/1324 [00:00<00:00, 5491.37it/s, now=None]\u001b[A\n",
      "chunk:  84%|█████████████████████████████████████████████████████████████████████████████▏              | 1111/1324 [00:00<00:00, 5289.76it/s, now=None]\u001b[A\n",
      "                                                                                                                                                        \u001b[A"
     ]
    },
    {
     "name": "stdout",
     "output_type": "stream",
     "text": [
      "MoviePy - Done.\n",
      "MoviePy - Writing audio in temp_audio.wav\n"
     ]
    },
    {
     "name": "stderr",
     "output_type": "stream",
     "text": [
      "\n",
      "chunk:   0%|                                                                                                         | 0/1324 [00:00<?, ?it/s, now=None]\u001b[A\n",
      "chunk:  50%|██████████████████████████████████████████████▌                                              | 663/1324 [00:00<00:00, 6515.69it/s, now=None]\u001b[A\n",
      "                                                                                                                                                        \u001b[A"
     ]
    },
    {
     "name": "stdout",
     "output_type": "stream",
     "text": [
      "MoviePy - Done.\n",
      "MoviePy - Writing audio in temp_audio.wav\n"
     ]
    },
    {
     "name": "stderr",
     "output_type": "stream",
     "text": [
      "\n",
      "chunk:   0%|                                                                                                         | 0/1324 [00:00<?, ?it/s, now=None]\u001b[A\n",
      "chunk:  48%|█████████████████████████████████████████████                                                | 642/1324 [00:00<00:00, 6419.18it/s, now=None]\u001b[A\n",
      "                                                                                                                                                        \u001b[A"
     ]
    },
    {
     "name": "stdout",
     "output_type": "stream",
     "text": [
      "MoviePy - Done.\n",
      "MoviePy - Writing audio in temp_audio.wav\n"
     ]
    },
    {
     "name": "stderr",
     "output_type": "stream",
     "text": [
      "\n",
      "chunk:   0%|                                                                                                         | 0/1324 [00:00<?, ?it/s, now=None]\u001b[A\n",
      "chunk:  47%|███████████████████████████████████████████▍                                                 | 618/1324 [00:00<00:00, 6179.55it/s, now=None]\u001b[A\n",
      "chunk:  93%|█████████████████████████████████████████████████████████████████████████████████████▉      | 1236/1324 [00:00<00:00, 5955.09it/s, now=None]\u001b[A\n",
      "                                                                                                                                                        \u001b[A"
     ]
    },
    {
     "name": "stdout",
     "output_type": "stream",
     "text": [
      "MoviePy - Done.\n",
      "MoviePy - Writing audio in temp_audio.wav\n"
     ]
    },
    {
     "name": "stderr",
     "output_type": "stream",
     "text": [
      "\n",
      "chunk:   0%|                                                                                                         | 0/1324 [00:00<?, ?it/s, now=None]\u001b[A\n",
      "chunk:  40%|█████████████████████████████████████▎                                                       | 532/1324 [00:00<00:00, 5319.43it/s, now=None]\u001b[A\n",
      "chunk:  81%|██████████████████████████████████████████████████████████████████████████▌                 | 1073/1324 [00:00<00:00, 5369.95it/s, now=None]\u001b[A\n",
      "                                                                                                                                                        \u001b[A"
     ]
    },
    {
     "name": "stdout",
     "output_type": "stream",
     "text": [
      "MoviePy - Done.\n",
      "MoviePy - Writing audio in temp_audio.wav\n"
     ]
    },
    {
     "name": "stderr",
     "output_type": "stream",
     "text": [
      "\n",
      "chunk:   0%|                                                                                                         | 0/1324 [00:00<?, ?it/s, now=None]\u001b[A\n",
      "chunk:  42%|███████████████████████████████████████▍                                                     | 561/1324 [00:00<00:00, 5554.64it/s, now=None]\u001b[A\n",
      "chunk:  84%|█████████████████████████████████████████████████████████████████████████████▌              | 1117/1324 [00:00<00:00, 5307.39it/s, now=None]\u001b[A\n",
      "                                                                                                                                                        \u001b[A"
     ]
    },
    {
     "name": "stdout",
     "output_type": "stream",
     "text": [
      "MoviePy - Done.\n",
      "MoviePy - Writing audio in temp_audio.wav\n"
     ]
    },
    {
     "name": "stderr",
     "output_type": "stream",
     "text": [
      "\n",
      "chunk:   0%|                                                                                                         | 0/1324 [00:00<?, ?it/s, now=None]\u001b[A\n",
      "chunk:  50%|██████████████████████████████████████████████▋                                              | 665/1324 [00:00<00:00, 6649.63it/s, now=None]\u001b[A\n",
      "                                                                                                                                                        \u001b[A"
     ]
    },
    {
     "name": "stdout",
     "output_type": "stream",
     "text": [
      "MoviePy - Done.\n",
      "MoviePy - Writing audio in temp_audio.wav\n"
     ]
    },
    {
     "name": "stderr",
     "output_type": "stream",
     "text": [
      "\n",
      "chunk:   0%|                                                                                                         | 0/1324 [00:00<?, ?it/s, now=None]\u001b[A\n",
      "chunk:  49%|█████████████████████████████████████████████▍                                               | 647/1324 [00:00<00:00, 6467.09it/s, now=None]\u001b[A\n",
      "chunk:  98%|█████████████████████████████████████████████████████████████████████████████████████████▉  | 1294/1324 [00:00<00:00, 6012.90it/s, now=None]\u001b[A\n",
      "                                                                                                                                                        \u001b[A"
     ]
    },
    {
     "name": "stdout",
     "output_type": "stream",
     "text": [
      "MoviePy - Done.\n",
      "MoviePy - Writing audio in temp_audio.wav\n"
     ]
    },
    {
     "name": "stderr",
     "output_type": "stream",
     "text": [
      "\n",
      "chunk:   0%|                                                                                                         | 0/1324 [00:00<?, ?it/s, now=None]\u001b[A\n",
      "chunk:  50%|██████████████████████████████████████████████▌                                              | 663/1324 [00:00<00:00, 6583.19it/s, now=None]\u001b[A\n",
      "                                                                                                                                                        \u001b[A"
     ]
    },
    {
     "name": "stdout",
     "output_type": "stream",
     "text": [
      "MoviePy - Done.\n",
      "MoviePy - Writing audio in temp_audio.wav\n"
     ]
    },
    {
     "name": "stderr",
     "output_type": "stream",
     "text": [
      "\n",
      "chunk:   0%|                                                                                                         | 0/1324 [00:00<?, ?it/s, now=None]\u001b[A\n",
      "chunk:  41%|██████████████████████████████████████▏                                                      | 544/1324 [00:00<00:00, 5439.03it/s, now=None]\u001b[A\n",
      "chunk:  83%|████████████████████████████████████████████████████████████████████████████▏               | 1096/1324 [00:00<00:00, 5484.16it/s, now=None]\u001b[A\n",
      "                                                                                                                                                        \u001b[A"
     ]
    },
    {
     "name": "stdout",
     "output_type": "stream",
     "text": [
      "MoviePy - Done.\n",
      "MoviePy - Writing audio in temp_audio.wav\n"
     ]
    },
    {
     "name": "stderr",
     "output_type": "stream",
     "text": [
      "\n",
      "chunk:   0%|                                                                                                         | 0/1324 [00:00<?, ?it/s, now=None]\u001b[A\n",
      "chunk:  51%|███████████████████████████████████████████████▎                                             | 673/1324 [00:00<00:00, 6729.19it/s, now=None]\u001b[A\n",
      "                                                                                                                                                        \u001b[A"
     ]
    },
    {
     "name": "stdout",
     "output_type": "stream",
     "text": [
      "MoviePy - Done.\n",
      "MoviePy - Writing audio in temp_audio.wav\n"
     ]
    },
    {
     "name": "stderr",
     "output_type": "stream",
     "text": [
      "\n",
      "chunk:   0%|                                                                                                         | 0/1324 [00:00<?, ?it/s, now=None]\u001b[A\n",
      "chunk:  54%|██████████████████████████████████████████████████▏                                          | 714/1324 [00:00<00:00, 7000.62it/s, now=None]\u001b[A\n",
      "                                                                                                                                                        \u001b[A"
     ]
    },
    {
     "name": "stdout",
     "output_type": "stream",
     "text": [
      "MoviePy - Done.\n",
      "MoviePy - Writing audio in temp_audio.wav\n"
     ]
    },
    {
     "name": "stderr",
     "output_type": "stream",
     "text": [
      "\n",
      "chunk:   0%|                                                                                                         | 0/1324 [00:00<?, ?it/s, now=None]\u001b[A\n",
      "chunk:  45%|██████████████████████████████████████████                                                   | 598/1324 [00:00<00:00, 5978.12it/s, now=None]\u001b[A\n",
      "chunk:  92%|█████████████████████████████████████████████████████████████████████████████████████       | 1224/1324 [00:00<00:00, 6101.32it/s, now=None]\u001b[A\n",
      "                                                                                                                                                        \u001b[A"
     ]
    },
    {
     "name": "stdout",
     "output_type": "stream",
     "text": [
      "MoviePy - Done.\n",
      "MoviePy - Writing audio in temp_audio.wav\n"
     ]
    },
    {
     "name": "stderr",
     "output_type": "stream",
     "text": [
      "\n",
      "chunk:   0%|                                                                                                         | 0/1324 [00:00<?, ?it/s, now=None]\u001b[A\n",
      "chunk:  42%|███████████████████████████████████████▍                                                     | 561/1324 [00:00<00:00, 5537.12it/s, now=None]\u001b[A\n",
      "chunk:  84%|█████████████████████████████████████████████████████████████████████████████▍              | 1115/1324 [00:00<00:00, 5291.64it/s, now=None]\u001b[A\n",
      "                                                                                                                                                        \u001b[A"
     ]
    },
    {
     "name": "stdout",
     "output_type": "stream",
     "text": [
      "MoviePy - Done.\n",
      "MoviePy - Writing audio in temp_audio.wav\n"
     ]
    },
    {
     "name": "stderr",
     "output_type": "stream",
     "text": [
      "\n",
      "chunk:   0%|                                                                                                         | 0/1324 [00:00<?, ?it/s, now=None]\u001b[A\n",
      "chunk:  43%|████████████████████████████████████████▏                                                    | 572/1324 [00:00<00:00, 5718.59it/s, now=None]\u001b[A\n",
      "chunk:  89%|█████████████████████████████████████████████████████████████████████████████████▊          | 1177/1324 [00:00<00:00, 5911.88it/s, now=None]\u001b[A\n",
      "                                                                                                                                                        \u001b[A"
     ]
    },
    {
     "name": "stdout",
     "output_type": "stream",
     "text": [
      "MoviePy - Done.\n",
      "MoviePy - Writing audio in temp_audio.wav\n"
     ]
    },
    {
     "name": "stderr",
     "output_type": "stream",
     "text": [
      "\n",
      "chunk:   0%|                                                                                                         | 0/1324 [00:00<?, ?it/s, now=None]\u001b[A\n",
      "chunk:  46%|██████████████████████████████████████████▉                                                  | 612/1324 [00:00<00:00, 5981.99it/s, now=None]\u001b[A\n",
      "chunk:  96%|████████████████████████████████████████████████████████████████████████████████████████▌   | 1275/1324 [00:00<00:00, 6359.05it/s, now=None]\u001b[A\n",
      "                                                                                                                                                        \u001b[A"
     ]
    },
    {
     "name": "stdout",
     "output_type": "stream",
     "text": [
      "MoviePy - Done.\n",
      "MoviePy - Writing audio in temp_audio.wav\n"
     ]
    },
    {
     "name": "stderr",
     "output_type": "stream",
     "text": [
      "\n",
      "chunk:   0%|                                                                                                          | 0/333 [00:00<?, ?it/s, now=None]\u001b[A\n",
      "                                                                                                                                                        \u001b[A"
     ]
    },
    {
     "name": "stdout",
     "output_type": "stream",
     "text": [
      "MoviePy - Done.\n",
      "MoviePy - Writing audio in temp_audio.wav\n"
     ]
    },
    {
     "name": "stderr",
     "output_type": "stream",
     "text": [
      "\n",
      "chunk:   0%|                                                                                                         | 0/1324 [00:00<?, ?it/s, now=None]\u001b[A\n",
      "chunk:  43%|███████████████████████████████████████▉                                                     | 568/1324 [00:00<00:00, 5676.74it/s, now=None]\u001b[A\n",
      "chunk:  91%|███████████████████████████████████████████████████████████████████████████████████▊        | 1207/1324 [00:00<00:00, 6095.13it/s, now=None]\u001b[A\n",
      "                                                                                                                                                        \u001b[A"
     ]
    },
    {
     "name": "stdout",
     "output_type": "stream",
     "text": [
      "MoviePy - Done.\n",
      "MoviePy - Writing audio in temp_audio.wav\n"
     ]
    },
    {
     "name": "stderr",
     "output_type": "stream",
     "text": [
      "\n",
      "chunk:   0%|                                                                                                         | 0/1324 [00:00<?, ?it/s, now=None]\u001b[A\n",
      "chunk:  54%|██████████████████████████████████████████████████▏                                          | 714/1324 [00:00<00:00, 6994.98it/s, now=None]\u001b[A\n",
      "                                                                                                                                                        \u001b[A"
     ]
    },
    {
     "name": "stdout",
     "output_type": "stream",
     "text": [
      "MoviePy - Done.\n",
      "MoviePy - Writing audio in temp_audio.wav\n"
     ]
    },
    {
     "name": "stderr",
     "output_type": "stream",
     "text": [
      "\n",
      "chunk:   0%|                                                                                                         | 0/1324 [00:00<?, ?it/s, now=None]\u001b[A\n",
      "chunk:  54%|██████████████████████████████████████████████████▏                                          | 714/1324 [00:00<00:00, 7019.48it/s, now=None]\u001b[A\n",
      "                                                                                                                                                        \u001b[A"
     ]
    },
    {
     "name": "stdout",
     "output_type": "stream",
     "text": [
      "MoviePy - Done.\n",
      "MoviePy - Writing audio in temp_audio.wav\n"
     ]
    },
    {
     "name": "stderr",
     "output_type": "stream",
     "text": [
      "\n",
      "chunk:   0%|                                                                                                         | 0/1324 [00:00<?, ?it/s, now=None]\u001b[A\n",
      "chunk:  45%|█████████████████████████████████████████▋                                                   | 593/1324 [00:00<00:00, 5928.73it/s, now=None]\u001b[A\n",
      "chunk:  90%|██████████████████████████████████████████████████████████████████████████████████▍         | 1186/1324 [00:00<00:00, 5476.16it/s, now=None]\u001b[A\n",
      "                                                                                                                                                        \u001b[A"
     ]
    },
    {
     "name": "stdout",
     "output_type": "stream",
     "text": [
      "MoviePy - Done.\n",
      "MoviePy - Writing audio in temp_audio.wav\n"
     ]
    },
    {
     "name": "stderr",
     "output_type": "stream",
     "text": [
      "\n",
      "chunk:   0%|                                                                                                         | 0/1324 [00:00<?, ?it/s, now=None]\u001b[A\n",
      "chunk:  46%|██████████████████████████████████████████▉                                                  | 612/1324 [00:00<00:00, 6091.32it/s, now=None]\u001b[A\n",
      "chunk:  92%|█████████████████████████████████████████████████████████████████████████████████████       | 1224/1324 [00:00<00:00, 6094.42it/s, now=None]\u001b[A\n",
      "                                                                                                                                                        \u001b[A"
     ]
    },
    {
     "name": "stdout",
     "output_type": "stream",
     "text": [
      "MoviePy - Done.\n",
      "MoviePy - Writing audio in temp_audio.wav\n"
     ]
    },
    {
     "name": "stderr",
     "output_type": "stream",
     "text": [
      "\n",
      "chunk:   0%|                                                                                                         | 0/1324 [00:00<?, ?it/s, now=None]\u001b[A\n",
      "chunk:  39%|███████████████████████████████████▊                                                         | 510/1324 [00:00<00:00, 5034.65it/s, now=None]\u001b[A\n",
      "chunk:  82%|███████████████████████████████████████████████████████████████████████████                 | 1081/1324 [00:00<00:00, 5429.50it/s, now=None]\u001b[A\n",
      "                                                                                                                                                        \u001b[A"
     ]
    },
    {
     "name": "stdout",
     "output_type": "stream",
     "text": [
      "MoviePy - Done.\n",
      "MoviePy - Writing audio in temp_audio.wav\n"
     ]
    },
    {
     "name": "stderr",
     "output_type": "stream",
     "text": [
      "\n",
      "chunk:   0%|                                                                                                         | 0/1324 [00:00<?, ?it/s, now=None]\u001b[A\n",
      "chunk:  23%|█████████████████████▍                                                                       | 306/1324 [00:00<00:00, 2874.45it/s, now=None]\u001b[A\n",
      "chunk:  55%|██████████████████████████████████████████████████▊                                          | 724/1324 [00:00<00:00, 3622.43it/s, now=None]\u001b[A\n",
      "chunk:  82%|███████████████████████████████████████████████████████████████████████████▋                | 1089/1324 [00:00<00:00, 3014.76it/s, now=None]\u001b[A\n",
      "                                                                                                                                                        \u001b[A"
     ]
    },
    {
     "name": "stdout",
     "output_type": "stream",
     "text": [
      "MoviePy - Done.\n",
      "MoviePy - Writing audio in temp_audio.wav\n"
     ]
    },
    {
     "name": "stderr",
     "output_type": "stream",
     "text": [
      "\n",
      "chunk:   0%|                                                                                                         | 0/1324 [00:00<?, ?it/s, now=None]\u001b[A\n",
      "chunk:  42%|███████████████████████████████████████▍                                                     | 561/1324 [00:00<00:00, 5594.91it/s, now=None]\u001b[A\n",
      "chunk:  85%|█████████████████████████████████████████████████████████████████████████████▉              | 1121/1324 [00:00<00:00, 5370.81it/s, now=None]\u001b[A\n",
      "                                                                                                                                                        \u001b[A"
     ]
    },
    {
     "name": "stdout",
     "output_type": "stream",
     "text": [
      "MoviePy - Done.\n",
      "MoviePy - Writing audio in temp_audio.wav\n"
     ]
    },
    {
     "name": "stderr",
     "output_type": "stream",
     "text": [
      "\n",
      "chunk:   0%|                                                                                                         | 0/1324 [00:00<?, ?it/s, now=None]\u001b[A\n",
      "chunk:  42%|███████████████████████████████████████▍                                                     | 561/1324 [00:00<00:00, 5472.56it/s, now=None]\u001b[A\n",
      "chunk:  85%|█████████████████████████████████████████████████████████████████████████████▉              | 1122/1324 [00:00<00:00, 5530.12it/s, now=None]\u001b[A\n",
      "                                                                                                                                                        \u001b[A"
     ]
    },
    {
     "name": "stdout",
     "output_type": "stream",
     "text": [
      "MoviePy - Done.\n",
      "MoviePy - Writing audio in temp_audio.wav\n"
     ]
    },
    {
     "name": "stderr",
     "output_type": "stream",
     "text": [
      "\n",
      "chunk:   0%|                                                                                                         | 0/1324 [00:00<?, ?it/s, now=None]\u001b[A\n",
      "chunk:  47%|███████████████████████████████████████████▌                                                 | 621/1324 [00:00<00:00, 6207.00it/s, now=None]\u001b[A\n",
      "chunk:  96%|████████████████████████████████████████████████████████████████████████████████████████▋   | 1276/1324 [00:00<00:00, 6404.72it/s, now=None]\u001b[A\n",
      "                                                                                                                                                        \u001b[A"
     ]
    },
    {
     "name": "stdout",
     "output_type": "stream",
     "text": [
      "MoviePy - Done.\n",
      "MoviePy - Writing audio in temp_audio.wav\n"
     ]
    },
    {
     "name": "stderr",
     "output_type": "stream",
     "text": [
      "\n",
      "chunk:   0%|                                                                                                         | 0/1324 [00:00<?, ?it/s, now=None]\u001b[A\n",
      "chunk:  49%|█████████████████████████████████████████████▌                                               | 649/1324 [00:00<00:00, 6485.03it/s, now=None]\u001b[A\n",
      "                                                                                                                                                        \u001b[A"
     ]
    },
    {
     "name": "stdout",
     "output_type": "stream",
     "text": [
      "MoviePy - Done.\n",
      "MoviePy - Writing audio in temp_audio.wav\n"
     ]
    },
    {
     "name": "stderr",
     "output_type": "stream",
     "text": [
      "\n",
      "chunk:   0%|                                                                                                         | 0/1324 [00:00<?, ?it/s, now=None]\u001b[A\n",
      "chunk:  54%|██████████████████████████████████████████████████▏                                          | 714/1324 [00:00<00:00, 7033.84it/s, now=None]\u001b[A\n",
      "                                                                                                                                                        \u001b[A"
     ]
    },
    {
     "name": "stdout",
     "output_type": "stream",
     "text": [
      "MoviePy - Done.\n",
      "MoviePy - Writing audio in temp_audio.wav\n"
     ]
    },
    {
     "name": "stderr",
     "output_type": "stream",
     "text": [
      "\n",
      "chunk:   0%|                                                                                                         | 0/1324 [00:00<?, ?it/s, now=None]\u001b[A\n",
      "chunk:  50%|██████████████████████████████████████████████▌                                              | 663/1324 [00:00<00:00, 6555.70it/s, now=None]\u001b[A\n",
      "chunk: 100%|███████████████████████████████████████████████████████████████████████████████████████████▋| 1319/1324 [00:00<00:00, 6475.75it/s, now=None]\u001b[A\n",
      "                                                                                                                                                        \u001b[A"
     ]
    },
    {
     "name": "stdout",
     "output_type": "stream",
     "text": [
      "MoviePy - Done.\n",
      "MoviePy - Writing audio in temp_audio.wav\n"
     ]
    },
    {
     "name": "stderr",
     "output_type": "stream",
     "text": [
      "\n",
      "chunk:   0%|                                                                                                         | 0/1324 [00:00<?, ?it/s, now=None]\u001b[A\n",
      "chunk:  58%|█████████████████████████████████████████████████████▋                                       | 765/1324 [00:00<00:00, 7520.27it/s, now=None]\u001b[A\n",
      "                                                                                                                                                        \u001b[A"
     ]
    },
    {
     "name": "stdout",
     "output_type": "stream",
     "text": [
      "MoviePy - Done.\n",
      "MoviePy - Writing audio in temp_audio.wav\n"
     ]
    },
    {
     "name": "stderr",
     "output_type": "stream",
     "text": [
      "\n",
      "chunk:   0%|                                                                                                         | 0/1324 [00:00<?, ?it/s, now=None]\u001b[A\n",
      "chunk:  47%|███████████████████████████████████████████▋                                                 | 622/1324 [00:00<00:00, 6214.88it/s, now=None]\u001b[A\n",
      "chunk:  94%|██████████████████████████████████████████████████████████████████████████████████████▍     | 1244/1324 [00:00<00:00, 6147.64it/s, now=None]\u001b[A\n",
      "                                                                                                                                                        \u001b[A"
     ]
    },
    {
     "name": "stdout",
     "output_type": "stream",
     "text": [
      "MoviePy - Done.\n",
      "MoviePy - Writing audio in temp_audio.wav\n"
     ]
    },
    {
     "name": "stderr",
     "output_type": "stream",
     "text": [
      "\n",
      "chunk:   0%|                                                                                                         | 0/1324 [00:00<?, ?it/s, now=None]\u001b[A\n",
      "chunk:  56%|███████████████████████████████████████████████████▊                                         | 737/1324 [00:00<00:00, 7365.14it/s, now=None]\u001b[A\n",
      "                                                                                                                                                        \u001b[A"
     ]
    },
    {
     "name": "stdout",
     "output_type": "stream",
     "text": [
      "MoviePy - Done.\n",
      "MoviePy - Writing audio in temp_audio.wav\n"
     ]
    },
    {
     "name": "stderr",
     "output_type": "stream",
     "text": [
      "\n",
      "chunk:   0%|                                                                                                         | 0/1324 [00:00<?, ?it/s, now=None]\u001b[A\n",
      "chunk:  55%|███████████████████████████████████████████████████▌                                         | 734/1324 [00:00<00:00, 7335.01it/s, now=None]\u001b[A\n",
      "                                                                                                                                                        \u001b[A"
     ]
    },
    {
     "name": "stdout",
     "output_type": "stream",
     "text": [
      "MoviePy - Done.\n",
      "MoviePy - Writing audio in temp_audio.wav\n"
     ]
    },
    {
     "name": "stderr",
     "output_type": "stream",
     "text": [
      "\n",
      "chunk:   0%|                                                                                                         | 0/1324 [00:00<?, ?it/s, now=None]\u001b[A\n",
      "chunk:  48%|████████████████████████████████████████████▌                                                | 634/1324 [00:00<00:00, 6339.93it/s, now=None]\u001b[A\n",
      "chunk:  96%|████████████████████████████████████████████████████████████████████████████████████████▌   | 1275/1324 [00:00<00:00, 6357.45it/s, now=None]\u001b[A\n",
      "                                                                                                                                                        \u001b[A"
     ]
    },
    {
     "name": "stdout",
     "output_type": "stream",
     "text": [
      "MoviePy - Done.\n",
      "MoviePy - Writing audio in temp_audio.wav\n"
     ]
    },
    {
     "name": "stderr",
     "output_type": "stream",
     "text": [
      "\n",
      "chunk:   0%|                                                                                                         | 0/1324 [00:00<?, ?it/s, now=None]\u001b[A\n",
      "chunk:  50%|██████████████████████████████████████████████▍                                              | 661/1324 [00:00<00:00, 6604.89it/s, now=None]\u001b[A\n",
      "chunk: 100%|███████████████████████████████████████████████████████████████████████████████████████████▊| 1322/1324 [00:00<00:00, 6295.86it/s, now=None]\u001b[A\n",
      "                                                                                                                                                        \u001b[A"
     ]
    },
    {
     "name": "stdout",
     "output_type": "stream",
     "text": [
      "MoviePy - Done.\n",
      "MoviePy - Writing audio in temp_audio.wav\n"
     ]
    },
    {
     "name": "stderr",
     "output_type": "stream",
     "text": [
      "\n",
      "chunk:   0%|                                                                                                         | 0/1324 [00:00<?, ?it/s, now=None]\u001b[A\n",
      "chunk:  54%|██████████████████████████████████████████████████▏                                          | 714/1324 [00:00<00:00, 7014.67it/s, now=None]\u001b[A\n",
      "                                                                                                                                                        \u001b[A"
     ]
    },
    {
     "name": "stdout",
     "output_type": "stream",
     "text": [
      "MoviePy - Done.\n",
      "MoviePy - Writing audio in temp_audio.wav\n"
     ]
    },
    {
     "name": "stderr",
     "output_type": "stream",
     "text": [
      "\n",
      "chunk:   0%|                                                                                                         | 0/1324 [00:00<?, ?it/s, now=None]\u001b[A\n",
      "chunk:  54%|██████████████████████████████████████████████████▎                                          | 716/1324 [00:00<00:00, 7158.88it/s, now=None]\u001b[A\n",
      "                                                                                                                                                        \u001b[A"
     ]
    },
    {
     "name": "stdout",
     "output_type": "stream",
     "text": [
      "MoviePy - Done.\n",
      "MoviePy - Writing audio in temp_audio.wav\n"
     ]
    },
    {
     "name": "stderr",
     "output_type": "stream",
     "text": [
      "\n",
      "chunk:   0%|                                                                                                         | 0/1324 [00:00<?, ?it/s, now=None]\u001b[A\n",
      "chunk:  49%|█████████████████████████████████████████████▋                                               | 651/1324 [00:00<00:00, 6508.19it/s, now=None]\u001b[A\n",
      "                                                                                                                                                        \u001b[A"
     ]
    },
    {
     "name": "stdout",
     "output_type": "stream",
     "text": [
      "MoviePy - Done.\n",
      "MoviePy - Writing audio in temp_audio.wav\n"
     ]
    },
    {
     "name": "stderr",
     "output_type": "stream",
     "text": [
      "\n",
      "chunk:   0%|                                                                                                         | 0/1324 [00:00<?, ?it/s, now=None]\u001b[A\n",
      "chunk:  39%|███████████████████████████████████▊                                                         | 510/1324 [00:00<00:00, 5075.22it/s, now=None]\u001b[A\n",
      "chunk:  80%|█████████████████████████████████████████████████████████████████████████▎                  | 1055/1324 [00:00<00:00, 5293.70it/s, now=None]\u001b[A\n",
      "                                                                                                                                                        \u001b[A"
     ]
    },
    {
     "name": "stdout",
     "output_type": "stream",
     "text": [
      "MoviePy - Done.\n",
      "MoviePy - Writing audio in temp_audio.wav\n"
     ]
    },
    {
     "name": "stderr",
     "output_type": "stream",
     "text": [
      "\n",
      "chunk:   0%|                                                                                                         | 0/1324 [00:00<?, ?it/s, now=None]\u001b[A\n",
      "chunk:  57%|█████████████████████████████████████████████████████▏                                       | 758/1324 [00:00<00:00, 7576.76it/s, now=None]\u001b[A\n",
      "                                                                                                                                                        \u001b[A"
     ]
    },
    {
     "name": "stdout",
     "output_type": "stream",
     "text": [
      "MoviePy - Done.\n",
      "MoviePy - Writing audio in temp_audio.wav\n"
     ]
    },
    {
     "name": "stderr",
     "output_type": "stream",
     "text": [
      "\n",
      "chunk:   0%|                                                                                                         | 0/1324 [00:00<?, ?it/s, now=None]\u001b[A\n",
      "chunk:  53%|█████████████████████████████████████████████████▍                                           | 704/1324 [00:00<00:00, 7034.64it/s, now=None]\u001b[A\n",
      "                                                                                                                                                        \u001b[A"
     ]
    },
    {
     "name": "stdout",
     "output_type": "stream",
     "text": [
      "MoviePy - Done.\n",
      "MoviePy - Writing audio in temp_audio.wav\n"
     ]
    },
    {
     "name": "stderr",
     "output_type": "stream",
     "text": [
      "\n",
      "chunk:   0%|                                                                                                         | 0/1324 [00:00<?, ?it/s, now=None]\u001b[A\n",
      "chunk:  53%|█████████████████████████████████████████████████▌                                           | 706/1324 [00:00<00:00, 7054.67it/s, now=None]\u001b[A\n",
      "                                                                                                                                                        \u001b[A"
     ]
    },
    {
     "name": "stdout",
     "output_type": "stream",
     "text": [
      "MoviePy - Done.\n",
      "MoviePy - Writing audio in temp_audio.wav\n"
     ]
    },
    {
     "name": "stderr",
     "output_type": "stream",
     "text": [
      "\n",
      "chunk:   0%|                                                                                                         | 0/1324 [00:00<?, ?it/s, now=None]\u001b[A\n",
      "chunk:  54%|██████████████████████████████████████████████████▌                                          | 719/1324 [00:00<00:00, 7186.97it/s, now=None]\u001b[A\n",
      "                                                                                                                                                        \u001b[A"
     ]
    },
    {
     "name": "stdout",
     "output_type": "stream",
     "text": [
      "MoviePy - Done.\n",
      "MoviePy - Writing audio in temp_audio.wav\n"
     ]
    },
    {
     "name": "stderr",
     "output_type": "stream",
     "text": [
      "\n",
      "chunk:   0%|                                                                                                         | 0/1324 [00:00<?, ?it/s, now=None]\u001b[A\n",
      "chunk:  50%|██████████████████████████████████████████████▌                                              | 663/1324 [00:00<00:00, 6512.47it/s, now=None]\u001b[A\n",
      "                                                                                                                                                        \u001b[A"
     ]
    },
    {
     "name": "stdout",
     "output_type": "stream",
     "text": [
      "MoviePy - Done.\n",
      "MoviePy - Writing audio in temp_audio.wav\n"
     ]
    },
    {
     "name": "stderr",
     "output_type": "stream",
     "text": [
      "\n",
      "chunk:   0%|                                                                                                         | 0/1324 [00:00<?, ?it/s, now=None]\u001b[A\n",
      "chunk:  52%|████████████████████████████████████████████████                                             | 684/1324 [00:00<00:00, 6836.53it/s, now=None]\u001b[A\n",
      "                                                                                                                                                        \u001b[A"
     ]
    },
    {
     "name": "stdout",
     "output_type": "stream",
     "text": [
      "MoviePy - Done.\n",
      "MoviePy - Writing audio in temp_audio.wav\n"
     ]
    },
    {
     "name": "stderr",
     "output_type": "stream",
     "text": [
      "\n",
      "chunk:   0%|                                                                                                         | 0/1324 [00:00<?, ?it/s, now=None]\u001b[A\n",
      "chunk:  50%|██████████████████████████████████████████████▌                                              | 663/1324 [00:00<00:00, 6471.44it/s, now=None]\u001b[A\n",
      "chunk:  99%|███████████████████████████████████████████████████████████████████████████████████████████ | 1311/1324 [00:00<00:00, 6065.89it/s, now=None]\u001b[A\n",
      "                                                                                                                                                        \u001b[A"
     ]
    },
    {
     "name": "stdout",
     "output_type": "stream",
     "text": [
      "MoviePy - Done.\n",
      "MoviePy - Writing audio in temp_audio.wav\n"
     ]
    },
    {
     "name": "stderr",
     "output_type": "stream",
     "text": [
      "\n",
      "chunk:   0%|                                                                                                         | 0/1324 [00:00<?, ?it/s, now=None]\u001b[A\n",
      "chunk:  47%|███████████████████████████████████████████▉                                                 | 626/1324 [00:00<00:00, 6254.12it/s, now=None]\u001b[A\n",
      "                                                                                                                                                        \u001b[A"
     ]
    },
    {
     "name": "stdout",
     "output_type": "stream",
     "text": [
      "MoviePy - Done.\n",
      "MoviePy - Writing audio in temp_audio.wav\n"
     ]
    },
    {
     "name": "stderr",
     "output_type": "stream",
     "text": [
      "\n",
      "chunk:   0%|                                                                                                         | 0/1324 [00:00<?, ?it/s, now=None]\u001b[A\n",
      "chunk:  51%|███████████████████████████████████████████████▏                                             | 672/1324 [00:00<00:00, 6718.40it/s, now=None]\u001b[A\n",
      "                                                                                                                                                        \u001b[A"
     ]
    },
    {
     "name": "stdout",
     "output_type": "stream",
     "text": [
      "MoviePy - Done.\n",
      "MoviePy - Writing audio in temp_audio.wav\n"
     ]
    },
    {
     "name": "stderr",
     "output_type": "stream",
     "text": [
      "\n",
      "chunk:   0%|                                                                                                         | 0/1324 [00:00<?, ?it/s, now=None]\u001b[A\n",
      "chunk:  58%|█████████████████████████████████████████████████████▋                                       | 765/1324 [00:00<00:00, 7456.79it/s, now=None]\u001b[A\n",
      "                                                                                                                                                        \u001b[A"
     ]
    },
    {
     "name": "stdout",
     "output_type": "stream",
     "text": [
      "MoviePy - Done.\n",
      "MoviePy - Writing audio in temp_audio.wav\n"
     ]
    },
    {
     "name": "stderr",
     "output_type": "stream",
     "text": [
      "\n",
      "chunk:   0%|                                                                                                         | 0/1324 [00:00<?, ?it/s, now=None]\u001b[A\n",
      "chunk:  54%|█████████████████████████████████████████████████▊                                           | 710/1324 [00:00<00:00, 7097.55it/s, now=None]\u001b[A\n",
      "                                                                                                                                                        \u001b[A"
     ]
    },
    {
     "name": "stdout",
     "output_type": "stream",
     "text": [
      "MoviePy - Done.\n",
      "MoviePy - Writing audio in temp_audio.wav\n"
     ]
    },
    {
     "name": "stderr",
     "output_type": "stream",
     "text": [
      "\n",
      "chunk:   0%|                                                                                                         | 0/1324 [00:00<?, ?it/s, now=None]\u001b[A\n",
      "chunk:  54%|██████████████████████████████████████████████████▏                                          | 714/1324 [00:00<00:00, 6982.75it/s, now=None]\u001b[A\n",
      "                                                                                                                                                        \u001b[A"
     ]
    },
    {
     "name": "stdout",
     "output_type": "stream",
     "text": [
      "MoviePy - Done.\n",
      "MoviePy - Writing audio in temp_audio.wav\n"
     ]
    },
    {
     "name": "stderr",
     "output_type": "stream",
     "text": [
      "\n",
      "chunk:   0%|                                                                                                         | 0/1324 [00:00<?, ?it/s, now=None]\u001b[A\n",
      "chunk:  50%|██████████████████████████████████████████████▌                                              | 663/1324 [00:00<00:00, 6564.88it/s, now=None]\u001b[A\n",
      "                                                                                                                                                        \u001b[A"
     ]
    },
    {
     "name": "stdout",
     "output_type": "stream",
     "text": [
      "MoviePy - Done.\n",
      "MoviePy - Writing audio in temp_audio.wav\n"
     ]
    },
    {
     "name": "stderr",
     "output_type": "stream",
     "text": [
      "\n",
      "chunk:   0%|                                                                                                         | 0/1324 [00:00<?, ?it/s, now=None]\u001b[A\n",
      "chunk:  50%|██████████████████████████████████████████████▌                                              | 663/1324 [00:00<00:00, 6543.78it/s, now=None]\u001b[A\n",
      "                                                                                                                                                        \u001b[A"
     ]
    },
    {
     "name": "stdout",
     "output_type": "stream",
     "text": [
      "MoviePy - Done.\n",
      "MoviePy - Writing audio in temp_audio.wav\n"
     ]
    },
    {
     "name": "stderr",
     "output_type": "stream",
     "text": [
      "\n",
      "chunk:   0%|                                                                                                         | 0/1324 [00:00<?, ?it/s, now=None]\u001b[A\n",
      "chunk:  51%|███████████████████████████████████████████████▏                                             | 672/1324 [00:00<00:00, 6718.39it/s, now=None]\u001b[A\n",
      "                                                                                                                                                        \u001b[A"
     ]
    },
    {
     "name": "stdout",
     "output_type": "stream",
     "text": [
      "MoviePy - Done.\n",
      "MoviePy - Writing audio in temp_audio.wav\n"
     ]
    },
    {
     "name": "stderr",
     "output_type": "stream",
     "text": [
      "\n",
      "chunk:   0%|                                                                                                         | 0/1324 [00:00<?, ?it/s, now=None]\u001b[A\n",
      "chunk:  55%|███████████████████████████████████████████████████▍                                         | 732/1324 [00:00<00:00, 7317.29it/s, now=None]\u001b[A\n",
      "                                                                                                                                                        \u001b[A"
     ]
    },
    {
     "name": "stdout",
     "output_type": "stream",
     "text": [
      "MoviePy - Done.\n",
      "MoviePy - Writing audio in temp_audio.wav\n"
     ]
    },
    {
     "name": "stderr",
     "output_type": "stream",
     "text": [
      "\n",
      "chunk:   0%|                                                                                                         | 0/1324 [00:00<?, ?it/s, now=None]\u001b[A\n",
      "chunk:  50%|██████████████████████████████████████████████▌                                              | 663/1324 [00:00<00:00, 6492.90it/s, now=None]\u001b[A\n",
      "chunk:  99%|███████████████████████████████████████████████████████████████████████████████████████████▏| 1313/1324 [00:00<00:00, 6389.21it/s, now=None]\u001b[A\n",
      "                                                                                                                                                        \u001b[A"
     ]
    },
    {
     "name": "stdout",
     "output_type": "stream",
     "text": [
      "MoviePy - Done.\n",
      "MoviePy - Writing audio in temp_audio.wav\n"
     ]
    },
    {
     "name": "stderr",
     "output_type": "stream",
     "text": [
      "\n",
      "chunk:   0%|                                                                                                         | 0/1324 [00:00<?, ?it/s, now=None]\u001b[A\n",
      "chunk:  58%|█████████████████████████████████████████████████████▋                                       | 765/1324 [00:00<00:00, 7637.22it/s, now=None]\u001b[A\n",
      "                                                                                                                                                        \u001b[A"
     ]
    },
    {
     "name": "stdout",
     "output_type": "stream",
     "text": [
      "MoviePy - Done.\n",
      "MoviePy - Writing audio in temp_audio.wav\n"
     ]
    },
    {
     "name": "stderr",
     "output_type": "stream",
     "text": [
      "\n",
      "chunk:   0%|                                                                                                         | 0/1324 [00:00<?, ?it/s, now=None]\u001b[A\n",
      "chunk:  51%|███████████████████████████████████████████████▋                                             | 679/1324 [00:00<00:00, 6785.38it/s, now=None]\u001b[A\n",
      "                                                                                                                                                        \u001b[A"
     ]
    },
    {
     "name": "stdout",
     "output_type": "stream",
     "text": [
      "MoviePy - Done.\n",
      "MoviePy - Writing audio in temp_audio.wav\n"
     ]
    },
    {
     "name": "stderr",
     "output_type": "stream",
     "text": [
      "\n",
      "chunk:   0%|                                                                                                         | 0/1324 [00:00<?, ?it/s, now=None]\u001b[A\n",
      "chunk:  50%|██████████████████████████████████████████████▌                                              | 663/1324 [00:00<00:00, 6473.91it/s, now=None]\u001b[A\n",
      "                                                                                                                                                        \u001b[A"
     ]
    },
    {
     "name": "stdout",
     "output_type": "stream",
     "text": [
      "MoviePy - Done.\n",
      "MoviePy - Writing audio in temp_audio.wav\n"
     ]
    },
    {
     "name": "stderr",
     "output_type": "stream",
     "text": [
      "\n",
      "chunk:   0%|                                                                                                         | 0/1324 [00:00<?, ?it/s, now=None]\u001b[A\n",
      "chunk:  54%|█████████████████████████████████████████████████▊                                           | 710/1324 [00:00<00:00, 7098.62it/s, now=None]\u001b[A\n",
      "                                                                                                                                                        \u001b[A"
     ]
    },
    {
     "name": "stdout",
     "output_type": "stream",
     "text": [
      "MoviePy - Done.\n",
      "MoviePy - Writing audio in temp_audio.wav\n"
     ]
    },
    {
     "name": "stderr",
     "output_type": "stream",
     "text": [
      "\n",
      "chunk:   0%|                                                                                                         | 0/1324 [00:00<?, ?it/s, now=None]\u001b[A\n",
      "chunk:  55%|███████████████████████████████████████████████████▌                                         | 734/1324 [00:00<00:00, 7337.68it/s, now=None]\u001b[A\n",
      "                                                                                                                                                        \u001b[A"
     ]
    },
    {
     "name": "stdout",
     "output_type": "stream",
     "text": [
      "MoviePy - Done.\n",
      "MoviePy - Writing audio in temp_audio.wav\n"
     ]
    },
    {
     "name": "stderr",
     "output_type": "stream",
     "text": [
      "\n",
      "chunk:   0%|                                                                                                         | 0/1324 [00:00<?, ?it/s, now=None]\u001b[A\n",
      "chunk:  57%|█████████████████████████████████████████████████████▍                                       | 761/1324 [00:00<00:00, 7607.07it/s, now=None]\u001b[A\n",
      "                                                                                                                                                        \u001b[A"
     ]
    },
    {
     "name": "stdout",
     "output_type": "stream",
     "text": [
      "MoviePy - Done.\n",
      "MoviePy - Writing audio in temp_audio.wav\n"
     ]
    },
    {
     "name": "stderr",
     "output_type": "stream",
     "text": [
      "\n",
      "chunk:   0%|                                                                                                         | 0/1324 [00:00<?, ?it/s, now=None]\u001b[A\n",
      "chunk:  55%|███████████████████████████████████████████████████▎                                         | 730/1324 [00:00<00:00, 7296.18it/s, now=None]\u001b[A\n",
      "                                                                                                                                                        \u001b[A"
     ]
    },
    {
     "name": "stdout",
     "output_type": "stream",
     "text": [
      "MoviePy - Done.\n",
      "MoviePy - Writing audio in temp_audio.wav\n"
     ]
    },
    {
     "name": "stderr",
     "output_type": "stream",
     "text": [
      "\n",
      "chunk:   0%|                                                                                                         | 0/1324 [00:00<?, ?it/s, now=None]\u001b[A\n",
      "chunk:  34%|████████████████████████████████                                                             | 456/1324 [00:00<00:00, 4558.60it/s, now=None]\u001b[A\n",
      "chunk:  70%|████████████████████████████████████████████████████████████████▉                            | 924/1324 [00:00<00:00, 4628.22it/s, now=None]\u001b[A\n",
      "                                                                                                                                                        \u001b[A"
     ]
    },
    {
     "name": "stdout",
     "output_type": "stream",
     "text": [
      "MoviePy - Done.\n",
      "MoviePy - Writing audio in temp_audio.wav\n"
     ]
    },
    {
     "name": "stderr",
     "output_type": "stream",
     "text": [
      "\n",
      "chunk:   0%|                                                                                                         | 0/1324 [00:00<?, ?it/s, now=None]\u001b[A\n",
      "chunk:  50%|██████████████████████████████████████████████▌                                              | 663/1324 [00:00<00:00, 6466.08it/s, now=None]\u001b[A\n",
      "chunk:  99%|███████████████████████████████████████████████████████████████████████████████████████████ | 1310/1324 [00:00<00:00, 6391.28it/s, now=None]\u001b[A\n",
      "                                                                                                                                                        \u001b[A"
     ]
    },
    {
     "name": "stdout",
     "output_type": "stream",
     "text": [
      "MoviePy - Done.\n",
      "MoviePy - Writing audio in temp_audio.wav\n"
     ]
    },
    {
     "name": "stderr",
     "output_type": "stream",
     "text": [
      "\n",
      "chunk:   0%|                                                                                                         | 0/1324 [00:00<?, ?it/s, now=None]\u001b[A\n",
      "chunk:  55%|███████████████████████████████████████████████████▎                                         | 731/1324 [00:00<00:00, 7308.79it/s, now=None]\u001b[A\n",
      "                                                                                                                                                        \u001b[A"
     ]
    },
    {
     "name": "stdout",
     "output_type": "stream",
     "text": [
      "MoviePy - Done.\n",
      "MoviePy - Writing audio in temp_audio.wav\n"
     ]
    },
    {
     "name": "stderr",
     "output_type": "stream",
     "text": [
      "\n",
      "chunk:   0%|                                                                                                         | 0/1324 [00:00<?, ?it/s, now=None]\u001b[A\n",
      "chunk:  58%|█████████████████████████████████████████████████████▋                                       | 765/1324 [00:00<00:00, 7564.50it/s, now=None]\u001b[A\n",
      "                                                                                                                                                        \u001b[A"
     ]
    },
    {
     "name": "stdout",
     "output_type": "stream",
     "text": [
      "MoviePy - Done.\n",
      "MoviePy - Writing audio in temp_audio.wav\n"
     ]
    },
    {
     "name": "stderr",
     "output_type": "stream",
     "text": [
      "\n",
      "chunk:   0%|                                                                                                         | 0/1324 [00:00<?, ?it/s, now=None]\u001b[A\n",
      "chunk:  54%|██████████████████████████████████████████████████▏                                          | 714/1324 [00:00<00:00, 7076.75it/s, now=None]\u001b[A\n",
      "                                                                                                                                                        \u001b[A"
     ]
    },
    {
     "name": "stdout",
     "output_type": "stream",
     "text": [
      "MoviePy - Done.\n",
      "MoviePy - Writing audio in temp_audio.wav\n"
     ]
    },
    {
     "name": "stderr",
     "output_type": "stream",
     "text": [
      "\n",
      "chunk:   0%|                                                                                                         | 0/1324 [00:00<?, ?it/s, now=None]\u001b[A\n",
      "chunk:  45%|██████████████████████████████████████████▎                                                  | 602/1324 [00:00<00:00, 6013.80it/s, now=None]\u001b[A\n",
      "chunk:  91%|███████████████████████████████████████████████████████████████████████████████████▋        | 1204/1324 [00:00<00:00, 5940.22it/s, now=None]\u001b[A\n",
      "                                                                                                                                                        \u001b[A"
     ]
    },
    {
     "name": "stdout",
     "output_type": "stream",
     "text": [
      "MoviePy - Done.\n",
      "MoviePy - Writing audio in temp_audio.wav\n"
     ]
    },
    {
     "name": "stderr",
     "output_type": "stream",
     "text": [
      "\n",
      "chunk:   0%|                                                                                                         | 0/1324 [00:00<?, ?it/s, now=None]\u001b[A\n",
      "chunk:  50%|██████████████████████████████████████████████▌                                              | 663/1324 [00:00<00:00, 6599.06it/s, now=None]\u001b[A\n",
      "chunk: 100%|███████████████████████████████████████████████████████████████████████████████████████████▉| 1323/1324 [00:00<00:00, 6431.47it/s, now=None]\u001b[A\n",
      "                                                                                                                                                        \u001b[A"
     ]
    },
    {
     "name": "stdout",
     "output_type": "stream",
     "text": [
      "MoviePy - Done.\n",
      "MoviePy - Writing audio in temp_audio.wav\n"
     ]
    },
    {
     "name": "stderr",
     "output_type": "stream",
     "text": [
      "\n",
      "chunk:   0%|                                                                                                         | 0/1324 [00:00<?, ?it/s, now=None]\u001b[A\n",
      "chunk:  46%|██████████████████████████████████████████▉                                                  | 612/1324 [00:00<00:00, 6110.61it/s, now=None]\u001b[A\n",
      "                                                                                                                                                        \u001b[A"
     ]
    },
    {
     "name": "stdout",
     "output_type": "stream",
     "text": [
      "MoviePy - Done.\n",
      "MoviePy - Writing audio in temp_audio.wav\n"
     ]
    },
    {
     "name": "stderr",
     "output_type": "stream",
     "text": [
      "\n",
      "chunk:   0%|                                                                                                         | 0/1324 [00:00<?, ?it/s, now=None]\u001b[A\n",
      "chunk:  58%|█████████████████████████████████████████████████████▋                                       | 765/1324 [00:00<00:00, 7576.60it/s, now=None]\u001b[A\n",
      "                                                                                                                                                        \u001b[A"
     ]
    },
    {
     "name": "stdout",
     "output_type": "stream",
     "text": [
      "MoviePy - Done.\n",
      "MoviePy - Writing audio in temp_audio.wav\n"
     ]
    },
    {
     "name": "stderr",
     "output_type": "stream",
     "text": [
      "\n",
      "chunk:   0%|                                                                                                         | 0/1324 [00:00<?, ?it/s, now=None]\u001b[A\n",
      "chunk:  52%|████████████████████████████████████████████████▌                                            | 691/1324 [00:00<00:00, 6909.30it/s, now=None]\u001b[A\n",
      "                                                                                                                                                        \u001b[A"
     ]
    },
    {
     "name": "stdout",
     "output_type": "stream",
     "text": [
      "MoviePy - Done.\n",
      "MoviePy - Writing audio in temp_audio.wav\n"
     ]
    },
    {
     "name": "stderr",
     "output_type": "stream",
     "text": [
      "\n",
      "chunk:   0%|                                                                                                         | 0/1324 [00:00<?, ?it/s, now=None]\u001b[A\n",
      "chunk:  53%|█████████████████████████████████████████████████▌                                           | 706/1324 [00:00<00:00, 7058.69it/s, now=None]\u001b[A\n",
      "                                                                                                                                                        \u001b[A"
     ]
    },
    {
     "name": "stdout",
     "output_type": "stream",
     "text": [
      "MoviePy - Done.\n",
      "MoviePy - Writing audio in temp_audio.wav\n"
     ]
    },
    {
     "name": "stderr",
     "output_type": "stream",
     "text": [
      "\n",
      "chunk:   0%|                                                                                                         | 0/1324 [00:00<?, ?it/s, now=None]\u001b[A\n",
      "chunk:  57%|█████████████████████████████████████████████████████                                        | 755/1324 [00:00<00:00, 7546.62it/s, now=None]\u001b[A\n",
      "                                                                                                                                                        \u001b[A"
     ]
    },
    {
     "name": "stdout",
     "output_type": "stream",
     "text": [
      "MoviePy - Done.\n",
      "MoviePy - Writing audio in temp_audio.wav\n"
     ]
    },
    {
     "name": "stderr",
     "output_type": "stream",
     "text": [
      "\n",
      "chunk:   0%|                                                                                                         | 0/1324 [00:00<?, ?it/s, now=None]\u001b[A\n",
      "chunk:  57%|█████████████████████████████████████████████████████▎                                       | 759/1324 [00:00<00:00, 7589.79it/s, now=None]\u001b[A\n",
      "                                                                                                                                                        \u001b[A"
     ]
    },
    {
     "name": "stdout",
     "output_type": "stream",
     "text": [
      "MoviePy - Done.\n",
      "MoviePy - Writing audio in temp_audio.wav\n"
     ]
    },
    {
     "name": "stderr",
     "output_type": "stream",
     "text": [
      "\n",
      "chunk:   0%|                                                                                                         | 0/1324 [00:00<?, ?it/s, now=None]\u001b[A\n",
      "chunk:  60%|███████████████████████████████████████████████████████▎                                     | 788/1324 [00:00<00:00, 7872.46it/s, now=None]\u001b[A\n",
      "                                                                                                                                                        \u001b[A"
     ]
    },
    {
     "name": "stdout",
     "output_type": "stream",
     "text": [
      "MoviePy - Done.\n",
      "MoviePy - Writing audio in temp_audio.wav\n"
     ]
    },
    {
     "name": "stderr",
     "output_type": "stream",
     "text": [
      "\n",
      "chunk:   0%|                                                                                                         | 0/1324 [00:00<?, ?it/s, now=None]\u001b[A\n",
      "chunk:  54%|██████████████████████████████████████████████████▏                                          | 714/1324 [00:00<00:00, 7046.18it/s, now=None]\u001b[A\n",
      "                                                                                                                                                        \u001b[A"
     ]
    },
    {
     "name": "stdout",
     "output_type": "stream",
     "text": [
      "MoviePy - Done.\n",
      "MoviePy - Writing audio in temp_audio.wav\n"
     ]
    },
    {
     "name": "stderr",
     "output_type": "stream",
     "text": [
      "\n",
      "chunk:   0%|                                                                                                         | 0/1324 [00:00<?, ?it/s, now=None]\u001b[A\n",
      "chunk:  51%|███████████████████████████████████████████████▏                                             | 672/1324 [00:00<00:00, 6716.37it/s, now=None]\u001b[A\n",
      "                                                                                                                                                        \u001b[A"
     ]
    },
    {
     "name": "stdout",
     "output_type": "stream",
     "text": [
      "MoviePy - Done.\n",
      "MoviePy - Writing audio in temp_audio.wav\n"
     ]
    },
    {
     "name": "stderr",
     "output_type": "stream",
     "text": [
      "\n",
      "chunk:   0%|                                                                                                         | 0/1324 [00:00<?, ?it/s, now=None]\u001b[A\n",
      "chunk:  55%|██████████████████████████████████████████████████▊                                          | 724/1324 [00:00<00:00, 7238.37it/s, now=None]\u001b[A\n",
      "                                                                                                                                                        \u001b[A"
     ]
    },
    {
     "name": "stdout",
     "output_type": "stream",
     "text": [
      "MoviePy - Done.\n",
      "MoviePy - Writing audio in temp_audio.wav\n"
     ]
    },
    {
     "name": "stderr",
     "output_type": "stream",
     "text": [
      "\n",
      "chunk:   0%|                                                                                                         | 0/1324 [00:00<?, ?it/s, now=None]\u001b[A\n",
      "chunk:  47%|███████████████████████████████████████████▉                                                 | 625/1324 [00:00<00:00, 6243.99it/s, now=None]\u001b[A\n",
      "chunk:  94%|██████████████████████████████████████████████████████████████████████████████████████▊     | 1250/1324 [00:00<00:00, 6059.68it/s, now=None]\u001b[A\n",
      "                                                                                                                                                        \u001b[A"
     ]
    },
    {
     "name": "stdout",
     "output_type": "stream",
     "text": [
      "MoviePy - Done.\n",
      "MoviePy - Writing audio in temp_audio.wav\n"
     ]
    },
    {
     "name": "stderr",
     "output_type": "stream",
     "text": [
      "\n",
      "chunk:   0%|                                                                                                         | 0/1324 [00:00<?, ?it/s, now=None]\u001b[A\n",
      "chunk:  50%|██████████████████████████████████████████████▌                                              | 663/1324 [00:00<00:00, 6579.18it/s, now=None]\u001b[A\n",
      "                                                                                                                                                        \u001b[A"
     ]
    },
    {
     "name": "stdout",
     "output_type": "stream",
     "text": [
      "MoviePy - Done.\n",
      "MoviePy - Writing audio in temp_audio.wav\n"
     ]
    },
    {
     "name": "stderr",
     "output_type": "stream",
     "text": [
      "\n",
      "chunk:   0%|                                                                                                         | 0/1324 [00:00<?, ?it/s, now=None]\u001b[A\n",
      "chunk:  54%|██████████████████████████████████████████████████▏                                          | 714/1324 [00:00<00:00, 7029.71it/s, now=None]\u001b[A\n",
      "                                                                                                                                                        \u001b[A"
     ]
    },
    {
     "name": "stdout",
     "output_type": "stream",
     "text": [
      "MoviePy - Done.\n",
      "MoviePy - Writing audio in temp_audio.wav\n"
     ]
    },
    {
     "name": "stderr",
     "output_type": "stream",
     "text": [
      "\n",
      "chunk:   0%|                                                                                                         | 0/1324 [00:00<?, ?it/s, now=None]\u001b[A\n",
      "chunk:  46%|██████████████████████████████████████████▉                                                  | 612/1324 [00:00<00:00, 5930.37it/s, now=None]\u001b[A\n",
      "chunk:  91%|███████████████████████████████████████████████████████████████████████████████████▊        | 1206/1324 [00:00<00:00, 5774.00it/s, now=None]\u001b[A\n",
      "                                                                                                                                                        \u001b[A"
     ]
    },
    {
     "name": "stdout",
     "output_type": "stream",
     "text": [
      "MoviePy - Done.\n",
      "MoviePy - Writing audio in temp_audio.wav\n"
     ]
    },
    {
     "name": "stderr",
     "output_type": "stream",
     "text": [
      "\n",
      "chunk:   0%|                                                                                                         | 0/1324 [00:00<?, ?it/s, now=None]\u001b[A\n",
      "chunk:  54%|█████████████████████████████████████████████████▊                                           | 709/1324 [00:00<00:00, 7085.28it/s, now=None]\u001b[A\n",
      "                                                                                                                                                        \u001b[A"
     ]
    },
    {
     "name": "stdout",
     "output_type": "stream",
     "text": [
      "MoviePy - Done.\n",
      "MoviePy - Writing audio in temp_audio.wav\n"
     ]
    },
    {
     "name": "stderr",
     "output_type": "stream",
     "text": [
      "\n",
      "chunk:   0%|                                                                                                         | 0/1324 [00:00<?, ?it/s, now=None]\u001b[A\n",
      "chunk:  49%|██████████████████████████████████████████████                                               | 655/1324 [00:00<00:00, 6546.82it/s, now=None]\u001b[A\n",
      "                                                                                                                                                        \u001b[A"
     ]
    },
    {
     "name": "stdout",
     "output_type": "stream",
     "text": [
      "MoviePy - Done.\n",
      "MoviePy - Writing audio in temp_audio.wav\n"
     ]
    },
    {
     "name": "stderr",
     "output_type": "stream",
     "text": [
      "\n",
      "chunk:   0%|                                                                                                         | 0/1324 [00:00<?, ?it/s, now=None]\u001b[A\n",
      "chunk:  53%|█████████████████████████████████████████████████▍                                           | 704/1324 [00:00<00:00, 7035.41it/s, now=None]\u001b[A\n",
      "                                                                                                                                                        \u001b[A"
     ]
    },
    {
     "name": "stdout",
     "output_type": "stream",
     "text": [
      "MoviePy - Done.\n",
      "MoviePy - Writing audio in temp_audio.wav\n"
     ]
    },
    {
     "name": "stderr",
     "output_type": "stream",
     "text": [
      "\n",
      "chunk:   0%|                                                                                                         | 0/1324 [00:00<?, ?it/s, now=None]\u001b[A\n",
      "chunk:  56%|████████████████████████████████████████████████████▍                                        | 746/1324 [00:00<00:00, 7456.81it/s, now=None]\u001b[A\n",
      "                                                                                                                                                        \u001b[A"
     ]
    },
    {
     "name": "stdout",
     "output_type": "stream",
     "text": [
      "MoviePy - Done.\n",
      "MoviePy - Writing audio in temp_audio.wav\n"
     ]
    },
    {
     "name": "stderr",
     "output_type": "stream",
     "text": [
      "\n",
      "chunk:   0%|                                                                                                         | 0/1324 [00:00<?, ?it/s, now=None]\u001b[A\n",
      "chunk:  49%|█████████████████████████████████████████████▏                                               | 643/1324 [00:00<00:00, 6429.47it/s, now=None]\u001b[A\n",
      "chunk:  97%|█████████████████████████████████████████████████████████████████████████████████████████▎  | 1286/1324 [00:00<00:00, 6372.43it/s, now=None]\u001b[A\n",
      "                                                                                                                                                        \u001b[A"
     ]
    },
    {
     "name": "stdout",
     "output_type": "stream",
     "text": [
      "MoviePy - Done.\n",
      "MoviePy - Writing audio in temp_audio.wav\n"
     ]
    },
    {
     "name": "stderr",
     "output_type": "stream",
     "text": [
      "\n",
      "chunk:   0%|                                                                                                         | 0/1324 [00:00<?, ?it/s, now=None]\u001b[A\n",
      "chunk:  57%|████████████████████████████████████████████████████▊                                        | 751/1324 [00:00<00:00, 7504.89it/s, now=None]\u001b[A\n",
      "                                                                                                                                                        \u001b[A"
     ]
    },
    {
     "name": "stdout",
     "output_type": "stream",
     "text": [
      "MoviePy - Done.\n",
      "MoviePy - Writing audio in temp_audio.wav\n"
     ]
    },
    {
     "name": "stderr",
     "output_type": "stream",
     "text": [
      "\n",
      "chunk:   0%|                                                                                                         | 0/1324 [00:00<?, ?it/s, now=None]\u001b[A\n",
      "chunk:  52%|████████████████████████████████████████████████▍                                            | 690/1324 [00:00<00:00, 6894.80it/s, now=None]\u001b[A\n",
      "                                                                                                                                                        \u001b[A"
     ]
    },
    {
     "name": "stdout",
     "output_type": "stream",
     "text": [
      "MoviePy - Done.\n",
      "MoviePy - Writing audio in temp_audio.wav\n"
     ]
    },
    {
     "name": "stderr",
     "output_type": "stream",
     "text": [
      "\n",
      "chunk:   0%|                                                                                                         | 0/1324 [00:00<?, ?it/s, now=None]\u001b[A\n",
      "chunk:  49%|█████████████████████████████████████████████▊                                               | 653/1324 [00:00<00:00, 6525.23it/s, now=None]\u001b[A\n",
      "chunk:  99%|██████████████████████████████████████████████████████████████████████████████████████████▋ | 1306/1324 [00:00<00:00, 6452.48it/s, now=None]\u001b[A\n",
      "                                                                                                                                                        \u001b[A"
     ]
    },
    {
     "name": "stdout",
     "output_type": "stream",
     "text": [
      "MoviePy - Done.\n",
      "MoviePy - Writing audio in temp_audio.wav\n"
     ]
    },
    {
     "name": "stderr",
     "output_type": "stream",
     "text": [
      "\n",
      "chunk:   0%|                                                                                                         | 0/1324 [00:00<?, ?it/s, now=None]\u001b[A\n",
      "chunk:  52%|████████████████████████████████████████████████                                             | 684/1324 [00:00<00:00, 6834.79it/s, now=None]\u001b[A\n",
      "                                                                                                                                                        \u001b[A"
     ]
    },
    {
     "name": "stdout",
     "output_type": "stream",
     "text": [
      "MoviePy - Done.\n",
      "MoviePy - Writing audio in temp_audio.wav\n"
     ]
    },
    {
     "name": "stderr",
     "output_type": "stream",
     "text": [
      "\n",
      "chunk:   0%|                                                                                                         | 0/1324 [00:00<?, ?it/s, now=None]\u001b[A\n",
      "chunk:  49%|█████████████████████████████████████████████▌                                               | 648/1324 [00:00<00:00, 6479.08it/s, now=None]\u001b[A\n",
      "                                                                                                                                                        \u001b[A"
     ]
    },
    {
     "name": "stdout",
     "output_type": "stream",
     "text": [
      "MoviePy - Done.\n",
      "MoviePy - Writing audio in temp_audio.wav\n"
     ]
    },
    {
     "name": "stderr",
     "output_type": "stream",
     "text": [
      "\n",
      "chunk:   0%|                                                                                                         | 0/1324 [00:00<?, ?it/s, now=None]\u001b[A\n",
      "chunk:  54%|██████████████████████████████████████████████████▏                                          | 714/1324 [00:00<00:00, 7033.62it/s, now=None]\u001b[A\n",
      "                                                                                                                                                        \u001b[A"
     ]
    },
    {
     "name": "stdout",
     "output_type": "stream",
     "text": [
      "MoviePy - Done.\n",
      "MoviePy - Writing audio in temp_audio.wav\n"
     ]
    },
    {
     "name": "stderr",
     "output_type": "stream",
     "text": [
      "\n",
      "chunk:   0%|                                                                                                         | 0/1324 [00:00<?, ?it/s, now=None]\u001b[A\n",
      "chunk:  43%|███████████████████████████████████████▌                                                     | 564/1324 [00:00<00:00, 5633.99it/s, now=None]\u001b[A\n",
      "chunk:  85%|██████████████████████████████████████████████████████████████████████████████▍             | 1128/1324 [00:00<00:00, 5130.80it/s, now=None]\u001b[A\n",
      "                                                                                                                                                        \u001b[A"
     ]
    },
    {
     "name": "stdout",
     "output_type": "stream",
     "text": [
      "MoviePy - Done.\n",
      "MoviePy - Writing audio in temp_audio.wav\n"
     ]
    },
    {
     "name": "stderr",
     "output_type": "stream",
     "text": [
      "\n",
      "chunk:   0%|                                                                                                         | 0/1324 [00:00<?, ?it/s, now=None]\u001b[A\n",
      "chunk:  54%|██████████████████████████████████████████████████▏                                          | 714/1324 [00:00<00:00, 7085.91it/s, now=None]\u001b[A\n",
      "                                                                                                                                                        \u001b[A"
     ]
    },
    {
     "name": "stdout",
     "output_type": "stream",
     "text": [
      "MoviePy - Done.\n",
      "MoviePy - Writing audio in temp_audio.wav\n"
     ]
    },
    {
     "name": "stderr",
     "output_type": "stream",
     "text": [
      "\n",
      "chunk:   0%|                                                                                                         | 0/1324 [00:00<?, ?it/s, now=None]\u001b[A\n",
      "chunk:  56%|████████████████████████████████████████████████████▎                                        | 744/1324 [00:00<00:00, 7438.34it/s, now=None]\u001b[A\n",
      "                                                                                                                                                        \u001b[A"
     ]
    },
    {
     "name": "stdout",
     "output_type": "stream",
     "text": [
      "MoviePy - Done.\n",
      "MoviePy - Writing audio in temp_audio.wav\n"
     ]
    },
    {
     "name": "stderr",
     "output_type": "stream",
     "text": [
      "\n",
      "chunk:   0%|                                                                                                         | 0/1324 [00:00<?, ?it/s, now=None]\u001b[A\n",
      "chunk:  40%|█████████████████████████████████████▍                                                       | 533/1324 [00:00<00:00, 5328.37it/s, now=None]\u001b[A\n",
      "chunk:  96%|████████████████████████████████████████████████████████████████████████████████████████▌   | 1275/1324 [00:00<00:00, 6461.96it/s, now=None]\u001b[A\n",
      "                                                                                                                                                        \u001b[A"
     ]
    },
    {
     "name": "stdout",
     "output_type": "stream",
     "text": [
      "MoviePy - Done.\n",
      "MoviePy - Writing audio in temp_audio.wav\n"
     ]
    },
    {
     "name": "stderr",
     "output_type": "stream",
     "text": [
      "\n",
      "chunk:   0%|                                                                                                         | 0/1324 [00:00<?, ?it/s, now=None]\u001b[A\n",
      "chunk:  54%|██████████████████████████████████████████████████▏                                          | 714/1324 [00:00<00:00, 7119.81it/s, now=None]\u001b[A\n",
      "                                                                                                                                                        \u001b[A"
     ]
    },
    {
     "name": "stdout",
     "output_type": "stream",
     "text": [
      "MoviePy - Done.\n",
      "MoviePy - Writing audio in temp_audio.wav\n"
     ]
    },
    {
     "name": "stderr",
     "output_type": "stream",
     "text": [
      "\n",
      "chunk:   0%|                                                                                                         | 0/1324 [00:00<?, ?it/s, now=None]\u001b[A\n",
      "chunk:  55%|██████████████████████████████████████████████████▊                                          | 723/1324 [00:00<00:00, 7227.39it/s, now=None]\u001b[A\n",
      "                                                                                                                                                        \u001b[A"
     ]
    },
    {
     "name": "stdout",
     "output_type": "stream",
     "text": [
      "MoviePy - Done.\n",
      "MoviePy - Writing audio in temp_audio.wav\n"
     ]
    },
    {
     "name": "stderr",
     "output_type": "stream",
     "text": [
      "\n",
      "chunk:   0%|                                                                                                         | 0/1324 [00:00<?, ?it/s, now=None]\u001b[A\n",
      "chunk:  56%|███████████████████████████████████████████████████▊                                         | 737/1324 [00:00<00:00, 7364.46it/s, now=None]\u001b[A\n",
      "                                                                                                                                                        \u001b[A"
     ]
    },
    {
     "name": "stdout",
     "output_type": "stream",
     "text": [
      "MoviePy - Done.\n",
      "MoviePy - Writing audio in temp_audio.wav\n"
     ]
    },
    {
     "name": "stderr",
     "output_type": "stream",
     "text": [
      "\n",
      "chunk:   0%|                                                                                                         | 0/1324 [00:00<?, ?it/s, now=None]\u001b[A\n",
      "chunk:  57%|█████████████████████████████████████████████████████▍                                       | 760/1324 [00:00<00:00, 7595.59it/s, now=None]\u001b[A\n",
      "                                                                                                                                                        \u001b[A"
     ]
    },
    {
     "name": "stdout",
     "output_type": "stream",
     "text": [
      "MoviePy - Done.\n",
      "MoviePy - Writing audio in temp_audio.wav\n"
     ]
    },
    {
     "name": "stderr",
     "output_type": "stream",
     "text": [
      "\n",
      "chunk:   0%|                                                                                                         | 0/1324 [00:00<?, ?it/s, now=None]\u001b[A\n",
      "chunk:  59%|██████████████████████████████████████████████████████▊                                      | 781/1324 [00:00<00:00, 7808.69it/s, now=None]\u001b[A\n",
      "                                                                                                                                                        \u001b[A"
     ]
    },
    {
     "name": "stdout",
     "output_type": "stream",
     "text": [
      "MoviePy - Done.\n",
      "MoviePy - Writing audio in temp_audio.wav\n"
     ]
    },
    {
     "name": "stderr",
     "output_type": "stream",
     "text": [
      "\n",
      "chunk:   0%|                                                                                                         | 0/1324 [00:00<?, ?it/s, now=None]\u001b[A\n",
      "chunk:  58%|█████████████████████████████████████████████████████▌                                       | 762/1324 [00:00<00:00, 7619.10it/s, now=None]\u001b[A\n",
      "                                                                                                                                                        \u001b[A"
     ]
    },
    {
     "name": "stdout",
     "output_type": "stream",
     "text": [
      "MoviePy - Done.\n",
      "MoviePy - Writing audio in temp_audio.wav\n"
     ]
    },
    {
     "name": "stderr",
     "output_type": "stream",
     "text": [
      "\n",
      "chunk:   0%|                                                                                                         | 0/1324 [00:00<?, ?it/s, now=None]\u001b[A\n",
      "chunk:  52%|████████████████████████████████████████████████▊                                            | 695/1324 [00:00<00:00, 6943.42it/s, now=None]\u001b[A\n",
      "                                                                                                                                                        \u001b[A"
     ]
    },
    {
     "name": "stdout",
     "output_type": "stream",
     "text": [
      "MoviePy - Done.\n",
      "MoviePy - Writing audio in temp_audio.wav\n"
     ]
    },
    {
     "name": "stderr",
     "output_type": "stream",
     "text": [
      "\n",
      "chunk:   0%|                                                                                                         | 0/1172 [00:00<?, ?it/s, now=None]\u001b[A\n",
      "chunk:  60%|████████████████████████████████████████████████████████▏                                    | 708/1172 [00:00<00:00, 7073.11it/s, now=None]\u001b[A\n",
      "                                                                                                                                                        \u001b[A"
     ]
    },
    {
     "name": "stdout",
     "output_type": "stream",
     "text": [
      "MoviePy - Done.\n",
      "MoviePy - Writing audio in temp_audio.wav\n"
     ]
    },
    {
     "name": "stderr",
     "output_type": "stream",
     "text": [
      "\n",
      "chunk:   0%|                                                                                                         | 0/1324 [00:00<?, ?it/s, now=None]\u001b[A\n",
      "chunk:  50%|██████████████████████████████████████████████▎                                              | 659/1324 [00:00<00:00, 6587.63it/s, now=None]\u001b[A\n",
      "                                                                                                                                                        \u001b[A"
     ]
    },
    {
     "name": "stdout",
     "output_type": "stream",
     "text": [
      "MoviePy - Done.\n",
      "MoviePy - Writing audio in temp_audio.wav\n"
     ]
    },
    {
     "name": "stderr",
     "output_type": "stream",
     "text": [
      "\n",
      "chunk:   0%|                                                                                                          | 0/353 [00:00<?, ?it/s, now=None]\u001b[A\n",
      "                                                                                                                                                        \u001b[A"
     ]
    },
    {
     "name": "stdout",
     "output_type": "stream",
     "text": [
      "MoviePy - Done.\n",
      "MoviePy - Writing audio in temp_audio.wav\n"
     ]
    },
    {
     "name": "stderr",
     "output_type": "stream",
     "text": [
      "\n",
      "chunk:   0%|                                                                                                         | 0/1324 [00:00<?, ?it/s, now=None]\u001b[A\n",
      "chunk:  54%|██████████████████████████████████████████████████▏                                          | 714/1324 [00:00<00:00, 6982.78it/s, now=None]\u001b[A\n",
      "                                                                                                                                                        \u001b[A"
     ]
    },
    {
     "name": "stdout",
     "output_type": "stream",
     "text": [
      "MoviePy - Done.\n",
      "MoviePy - Writing audio in temp_audio.wav\n"
     ]
    },
    {
     "name": "stderr",
     "output_type": "stream",
     "text": [
      "\n",
      "chunk:   0%|                                                                                                         | 0/1324 [00:00<?, ?it/s, now=None]\u001b[A\n",
      "chunk:  49%|█████████████████████████████████████████████▎                                               | 645/1324 [00:00<00:00, 6445.55it/s, now=None]\u001b[A\n",
      "chunk:  99%|███████████████████████████████████████████████████████████████████████████████████████████ | 1310/1324 [00:00<00:00, 6564.06it/s, now=None]\u001b[A\n",
      "                                                                                                                                                        \u001b[A"
     ]
    },
    {
     "name": "stdout",
     "output_type": "stream",
     "text": [
      "MoviePy - Done.\n",
      "MoviePy - Writing audio in temp_audio.wav\n"
     ]
    },
    {
     "name": "stderr",
     "output_type": "stream",
     "text": [
      "\n",
      "chunk:   0%|                                                                                                         | 0/1052 [00:00<?, ?it/s, now=None]\u001b[A\n",
      "chunk:  72%|███████████████████████████████████████████████████████████████████▎                         | 761/1052 [00:00<00:00, 7603.14it/s, now=None]\u001b[A\n",
      "                                                                                                                                                        \u001b[A"
     ]
    },
    {
     "name": "stdout",
     "output_type": "stream",
     "text": [
      "MoviePy - Done.\n",
      "MoviePy - Writing audio in temp_audio.wav\n"
     ]
    },
    {
     "name": "stderr",
     "output_type": "stream",
     "text": [
      "\n",
      "chunk:   0%|                                                                                                         | 0/1324 [00:00<?, ?it/s, now=None]\u001b[A\n",
      "chunk:  59%|██████████████████████████████████████████████████████▍                                      | 775/1324 [00:00<00:00, 7743.99it/s, now=None]\u001b[A\n",
      "                                                                                                                                                        \u001b[A"
     ]
    },
    {
     "name": "stdout",
     "output_type": "stream",
     "text": [
      "MoviePy - Done.\n",
      "MoviePy - Writing audio in temp_audio.wav\n"
     ]
    },
    {
     "name": "stderr",
     "output_type": "stream",
     "text": [
      "\n",
      "chunk:   0%|                                                                                                         | 0/1324 [00:00<?, ?it/s, now=None]\u001b[A\n",
      "chunk:  57%|████████████████████████████████████████████████████▌                                        | 749/1324 [00:00<00:00, 7487.53it/s, now=None]\u001b[A\n",
      "                                                                                                                                                        \u001b[A"
     ]
    },
    {
     "name": "stdout",
     "output_type": "stream",
     "text": [
      "MoviePy - Done.\n",
      "MoviePy - Writing audio in temp_audio.wav\n"
     ]
    },
    {
     "name": "stderr",
     "output_type": "stream",
     "text": [
      "\n",
      "chunk:   0%|                                                                                                          | 0/886 [00:00<?, ?it/s, now=None]\u001b[A\n",
      "chunk:  81%|███████████████████████████████████████████████████████████████████████████▊                  | 714/886 [00:00<00:00, 7051.96it/s, now=None]\u001b[A\n",
      "                                                                                                                                                        \u001b[A"
     ]
    },
    {
     "name": "stdout",
     "output_type": "stream",
     "text": [
      "MoviePy - Done.\n",
      "MoviePy - Writing audio in temp_audio.wav\n"
     ]
    },
    {
     "name": "stderr",
     "output_type": "stream",
     "text": [
      "\n",
      "chunk:   0%|                                                                                                         | 0/1324 [00:00<?, ?it/s, now=None]\u001b[A\n",
      "chunk:  55%|███████████████████████████████████████████████████▎                                         | 731/1324 [00:00<00:00, 7305.22it/s, now=None]\u001b[A\n",
      "                                                                                                                                                        \u001b[A"
     ]
    },
    {
     "name": "stdout",
     "output_type": "stream",
     "text": [
      "MoviePy - Done.\n",
      "MoviePy - Writing audio in temp_audio.wav\n"
     ]
    },
    {
     "name": "stderr",
     "output_type": "stream",
     "text": [
      "\n",
      "chunk:   0%|                                                                                                         | 0/1324 [00:00<?, ?it/s, now=None]\u001b[A\n",
      "chunk:  52%|████████████████████████████████████████████████▏                                            | 686/1324 [00:00<00:00, 6854.96it/s, now=None]\u001b[A\n",
      "                                                                                                                                                        \u001b[A"
     ]
    },
    {
     "name": "stdout",
     "output_type": "stream",
     "text": [
      "MoviePy - Done.\n",
      "MoviePy - Writing audio in temp_audio.wav\n"
     ]
    },
    {
     "name": "stderr",
     "output_type": "stream",
     "text": [
      "\n",
      "chunk:   0%|                                                                                                         | 0/1324 [00:00<?, ?it/s, now=None]\u001b[A\n",
      "chunk:  57%|█████████████████████████████████████████████████████▏                                       | 757/1324 [00:00<00:00, 7567.12it/s, now=None]\u001b[A\n",
      "                                                                                                                                                        \u001b[A"
     ]
    },
    {
     "name": "stdout",
     "output_type": "stream",
     "text": [
      "MoviePy - Done.\n",
      "MoviePy - Writing audio in temp_audio.wav\n"
     ]
    },
    {
     "name": "stderr",
     "output_type": "stream",
     "text": [
      "\n",
      "chunk:   0%|                                                                                                         | 0/1324 [00:00<?, ?it/s, now=None]\u001b[A\n",
      "chunk:  55%|██████████████████████████████████████████████████▊                                          | 723/1324 [00:00<00:00, 7226.51it/s, now=None]\u001b[A\n",
      "                                                                                                                                                        \u001b[A"
     ]
    },
    {
     "name": "stdout",
     "output_type": "stream",
     "text": [
      "MoviePy - Done.\n",
      "MoviePy - Writing audio in temp_audio.wav\n"
     ]
    },
    {
     "name": "stderr",
     "output_type": "stream",
     "text": [
      "\n",
      "chunk:   0%|                                                                                                         | 0/1324 [00:00<?, ?it/s, now=None]\u001b[A\n",
      "chunk:  50%|██████████████████████████████████████████████▌                                              | 663/1324 [00:00<00:00, 6569.52it/s, now=None]\u001b[A\n",
      "                                                                                                                                                        \u001b[A"
     ]
    },
    {
     "name": "stdout",
     "output_type": "stream",
     "text": [
      "MoviePy - Done.\n",
      "MoviePy - Writing audio in temp_audio.wav\n"
     ]
    },
    {
     "name": "stderr",
     "output_type": "stream",
     "text": [
      "\n",
      "chunk:   0%|                                                                                                         | 0/1324 [00:00<?, ?it/s, now=None]\u001b[A\n",
      "chunk:  60%|███████████████████████████████████████████████████████▋                                     | 793/1324 [00:00<00:00, 7925.02it/s, now=None]\u001b[A\n",
      "                                                                                                                                                        \u001b[A"
     ]
    },
    {
     "name": "stdout",
     "output_type": "stream",
     "text": [
      "MoviePy - Done.\n",
      "MoviePy - Writing audio in temp_audio.wav\n"
     ]
    },
    {
     "name": "stderr",
     "output_type": "stream",
     "text": [
      "\n",
      "chunk:   0%|                                                                                                          | 0/957 [00:00<?, ?it/s, now=None]\u001b[A\n",
      "chunk:  80%|███████████████████████████████████████████████████████████████████████████▏                  | 765/957 [00:00<00:00, 7594.35it/s, now=None]\u001b[A\n",
      "                                                                                                                                                        \u001b[A"
     ]
    },
    {
     "name": "stdout",
     "output_type": "stream",
     "text": [
      "MoviePy - Done.\n",
      "MoviePy - Writing audio in temp_audio.wav\n"
     ]
    },
    {
     "name": "stderr",
     "output_type": "stream",
     "text": [
      "\n",
      "chunk:   0%|                                                                                                         | 0/1324 [00:00<?, ?it/s, now=None]\u001b[A\n",
      "chunk:  57%|█████████████████████████████████████████████████████                                        | 755/1324 [00:00<00:00, 7544.32it/s, now=None]\u001b[A\n",
      "                                                                                                                                                        \u001b[A"
     ]
    },
    {
     "name": "stdout",
     "output_type": "stream",
     "text": [
      "MoviePy - Done.\n",
      "MoviePy - Writing audio in temp_audio.wav\n"
     ]
    },
    {
     "name": "stderr",
     "output_type": "stream",
     "text": [
      "\n",
      "chunk:   0%|                                                                                                         | 0/1298 [00:00<?, ?it/s, now=None]\u001b[A\n",
      "chunk:  58%|██████████████████████████████████████████████████████▏                                      | 757/1298 [00:00<00:00, 7564.20it/s, now=None]\u001b[A\n",
      "                                                                                                                                                        \u001b[A"
     ]
    },
    {
     "name": "stdout",
     "output_type": "stream",
     "text": [
      "MoviePy - Done.\n",
      "MoviePy - Writing audio in temp_audio.wav\n"
     ]
    },
    {
     "name": "stderr",
     "output_type": "stream",
     "text": [
      "\n",
      "chunk:   0%|                                                                                                         | 0/1324 [00:00<?, ?it/s, now=None]\u001b[A\n",
      "chunk:  56%|████████████████████████████████████████████████████▎                                        | 744/1324 [00:00<00:00, 7434.05it/s, now=None]\u001b[A\n",
      "                                                                                                                                                        \u001b[A"
     ]
    },
    {
     "name": "stdout",
     "output_type": "stream",
     "text": [
      "MoviePy - Done.\n",
      "MoviePy - Writing audio in temp_audio.wav\n"
     ]
    },
    {
     "name": "stderr",
     "output_type": "stream",
     "text": [
      "\n",
      "chunk:   0%|                                                                                                         | 0/1324 [00:00<?, ?it/s, now=None]\u001b[A\n",
      "chunk:  59%|███████████████████████████████████████████████████████▏                                     | 785/1324 [00:00<00:00, 7849.22it/s, now=None]\u001b[A\n",
      "                                                                                                                                                        \u001b[A"
     ]
    },
    {
     "name": "stdout",
     "output_type": "stream",
     "text": [
      "MoviePy - Done.\n",
      "MoviePy - Writing audio in temp_audio.wav\n"
     ]
    },
    {
     "name": "stderr",
     "output_type": "stream",
     "text": [
      "\n",
      "chunk:   0%|                                                                                                         | 0/1324 [00:00<?, ?it/s, now=None]\u001b[A\n",
      "chunk:  58%|█████████████████████████████████████████████████████▌                                       | 762/1324 [00:00<00:00, 7618.41it/s, now=None]\u001b[A\n",
      "                                                                                                                                                        \u001b[A"
     ]
    },
    {
     "name": "stdout",
     "output_type": "stream",
     "text": [
      "MoviePy - Done.\n",
      "MoviePy - Writing audio in temp_audio.wav\n"
     ]
    },
    {
     "name": "stderr",
     "output_type": "stream",
     "text": [
      "\n",
      "chunk:   0%|                                                                                                         | 0/1308 [00:00<?, ?it/s, now=None]\u001b[A\n",
      "chunk:  59%|██████████████████████████████████████████████████████▌                                      | 768/1308 [00:00<00:00, 7677.32it/s, now=None]\u001b[A\n",
      "                                                                                                                                                        \u001b[A"
     ]
    },
    {
     "name": "stdout",
     "output_type": "stream",
     "text": [
      "MoviePy - Done.\n",
      "MoviePy - Writing audio in temp_audio.wav\n"
     ]
    },
    {
     "name": "stderr",
     "output_type": "stream",
     "text": [
      "\n",
      "chunk:   0%|                                                                                                         | 0/1324 [00:00<?, ?it/s, now=None]\u001b[A\n",
      "chunk:  62%|█████████████████████████████████████████████████████████▎                                   | 816/1324 [00:00<00:00, 7992.99it/s, now=None]\u001b[A\n",
      "                                                                                                                                                        \u001b[A"
     ]
    },
    {
     "name": "stdout",
     "output_type": "stream",
     "text": [
      "MoviePy - Done.\n",
      "MoviePy - Writing audio in temp_audio.wav\n"
     ]
    },
    {
     "name": "stderr",
     "output_type": "stream",
     "text": [
      "\n",
      "chunk:   0%|                                                                                                         | 0/1324 [00:00<?, ?it/s, now=None]\u001b[A\n",
      "chunk:  55%|██████████████████████████████████████████████████▋                                          | 722/1324 [00:00<00:00, 7216.26it/s, now=None]\u001b[A\n",
      "                                                                                                                                                        \u001b[A"
     ]
    },
    {
     "name": "stdout",
     "output_type": "stream",
     "text": [
      "MoviePy - Done.\n",
      "MoviePy - Writing audio in temp_audio.wav\n"
     ]
    },
    {
     "name": "stderr",
     "output_type": "stream",
     "text": [
      "\n",
      "chunk:   0%|                                                                                                         | 0/1324 [00:00<?, ?it/s, now=None]\u001b[A\n",
      "chunk:  54%|██████████████████████████████████████████████████▋                                          | 721/1324 [00:00<00:00, 7209.66it/s, now=None]\u001b[A\n",
      "                                                                                                                                                        \u001b[A"
     ]
    },
    {
     "name": "stdout",
     "output_type": "stream",
     "text": [
      "MoviePy - Done.\n",
      "MoviePy - Writing audio in temp_audio.wav\n"
     ]
    },
    {
     "name": "stderr",
     "output_type": "stream",
     "text": [
      "\n",
      "chunk:   0%|                                                                                                          | 0/854 [00:00<?, ?it/s, now=None]\u001b[A\n",
      "chunk:  83%|██████████████████████████████████████████████████████████████████████████████                | 709/854 [00:00<00:00, 7084.01it/s, now=None]\u001b[A\n",
      "                                                                                                                                                        \u001b[A"
     ]
    },
    {
     "name": "stdout",
     "output_type": "stream",
     "text": [
      "MoviePy - Done.\n",
      "MoviePy - Writing audio in temp_audio.wav\n"
     ]
    },
    {
     "name": "stderr",
     "output_type": "stream",
     "text": [
      "\n",
      "chunk:   0%|                                                                                                         | 0/1324 [00:00<?, ?it/s, now=None]\u001b[A\n",
      "chunk:  58%|█████████████████████████████████████████████████████▋                                       | 765/1324 [00:00<00:00, 7587.90it/s, now=None]\u001b[A\n",
      "                                                                                                                                                        \u001b[A"
     ]
    },
    {
     "name": "stdout",
     "output_type": "stream",
     "text": [
      "MoviePy - Done.\n",
      "MoviePy - Writing audio in temp_audio.wav\n"
     ]
    },
    {
     "name": "stderr",
     "output_type": "stream",
     "text": [
      "\n",
      "chunk:   0%|                                                                                                         | 0/1324 [00:00<?, ?it/s, now=None]\u001b[A\n",
      "chunk:  56%|████████████████████████████████████████████████████                                         | 741/1324 [00:00<00:00, 7407.57it/s, now=None]\u001b[A\n",
      "                                                                                                                                                        \u001b[A"
     ]
    },
    {
     "name": "stdout",
     "output_type": "stream",
     "text": [
      "MoviePy - Done.\n",
      "MoviePy - Writing audio in temp_audio.wav\n"
     ]
    },
    {
     "name": "stderr",
     "output_type": "stream",
     "text": [
      "\n",
      "chunk:   0%|                                                                                                         | 0/1324 [00:00<?, ?it/s, now=None]\u001b[A\n",
      "chunk:  54%|██████████████████████████████████████████████████▏                                          | 714/1324 [00:00<00:00, 7090.02it/s, now=None]\u001b[A\n",
      "                                                                                                                                                        \u001b[A"
     ]
    },
    {
     "name": "stdout",
     "output_type": "stream",
     "text": [
      "MoviePy - Done.\n",
      "MoviePy - Writing audio in temp_audio.wav\n"
     ]
    },
    {
     "name": "stderr",
     "output_type": "stream",
     "text": [
      "\n",
      "chunk:   0%|                                                                                                         | 0/1324 [00:00<?, ?it/s, now=None]\u001b[A\n",
      "chunk:  58%|█████████████████████████████████████████████████████▋                                       | 765/1324 [00:00<00:00, 7493.52it/s, now=None]\u001b[A\n",
      "                                                                                                                                                        \u001b[A"
     ]
    },
    {
     "name": "stdout",
     "output_type": "stream",
     "text": [
      "MoviePy - Done.\n",
      "MoviePy - Writing audio in temp_audio.wav\n"
     ]
    },
    {
     "name": "stderr",
     "output_type": "stream",
     "text": [
      "\n",
      "chunk:   0%|                                                                                                         | 0/1324 [00:00<?, ?it/s, now=None]\u001b[A\n",
      "chunk:  55%|██████████████████████████████████████████████████▊                                          | 723/1324 [00:00<00:00, 7227.72it/s, now=None]\u001b[A\n",
      "                                                                                                                                                        \u001b[A"
     ]
    },
    {
     "name": "stdout",
     "output_type": "stream",
     "text": [
      "MoviePy - Done.\n",
      "MoviePy - Writing audio in temp_audio.wav\n"
     ]
    },
    {
     "name": "stderr",
     "output_type": "stream",
     "text": [
      "\n",
      "chunk:   0%|                                                                                                         | 0/1324 [00:00<?, ?it/s, now=None]\u001b[A\n",
      "chunk:  55%|███████████████████████████████████████████████████                                          | 727/1324 [00:00<00:00, 7269.90it/s, now=None]\u001b[A\n",
      "                                                                                                                                                        \u001b[A"
     ]
    },
    {
     "name": "stdout",
     "output_type": "stream",
     "text": [
      "MoviePy - Done.\n",
      "MoviePy - Writing audio in temp_audio.wav\n"
     ]
    },
    {
     "name": "stderr",
     "output_type": "stream",
     "text": [
      "\n",
      "chunk:   0%|                                                                                                         | 0/1324 [00:00<?, ?it/s, now=None]\u001b[A\n",
      "chunk:  56%|████████████████████████████████████████████████████▏                                        | 743/1324 [00:00<00:00, 7424.36it/s, now=None]\u001b[A\n",
      "                                                                                                                                                        \u001b[A"
     ]
    },
    {
     "name": "stdout",
     "output_type": "stream",
     "text": [
      "MoviePy - Done.\n",
      "MoviePy - Writing audio in temp_audio.wav\n"
     ]
    },
    {
     "name": "stderr",
     "output_type": "stream",
     "text": [
      "\n",
      "chunk:   0%|                                                                                                         | 0/1324 [00:00<?, ?it/s, now=None]\u001b[A\n",
      "chunk:  61%|████████████████████████████████████████████████████████▍                                    | 803/1324 [00:00<00:00, 8023.26it/s, now=None]\u001b[A\n",
      "                                                                                                                                                        \u001b[A"
     ]
    },
    {
     "name": "stdout",
     "output_type": "stream",
     "text": [
      "MoviePy - Done.\n",
      "MoviePy - Writing audio in temp_audio.wav\n"
     ]
    },
    {
     "name": "stderr",
     "output_type": "stream",
     "text": [
      "\n",
      "chunk:   0%|                                                                                                         | 0/1324 [00:00<?, ?it/s, now=None]\u001b[A\n",
      "chunk:  44%|████████████████████████████████████████▌                                                    | 578/1324 [00:00<00:00, 5776.23it/s, now=None]\u001b[A\n",
      "chunk:  88%|████████████████████████████████████████████████████████████████████████████████▊           | 1163/1324 [00:00<00:00, 5815.90it/s, now=None]\u001b[A\n",
      "                                                                                                                                                        \u001b[A"
     ]
    },
    {
     "name": "stdout",
     "output_type": "stream",
     "text": [
      "MoviePy - Done.\n",
      "MoviePy - Writing audio in temp_audio.wav\n"
     ]
    },
    {
     "name": "stderr",
     "output_type": "stream",
     "text": [
      "\n",
      "chunk:   0%|                                                                                                         | 0/1324 [00:00<?, ?it/s, now=None]\u001b[A\n",
      "chunk:  50%|██████████████████████████████████████████████▌                                              | 663/1324 [00:00<00:00, 6522.73it/s, now=None]\u001b[A\n",
      "chunk:  99%|███████████████████████████████████████████████████████████████████████████████████████████▍| 1316/1324 [00:00<00:00, 6436.83it/s, now=None]\u001b[A\n",
      "                                                                                                                                                        \u001b[A"
     ]
    },
    {
     "name": "stdout",
     "output_type": "stream",
     "text": [
      "MoviePy - Done.\n",
      "MoviePy - Writing audio in temp_audio.wav\n"
     ]
    },
    {
     "name": "stderr",
     "output_type": "stream",
     "text": [
      "\n",
      "chunk:   0%|                                                                                                         | 0/1324 [00:00<?, ?it/s, now=None]\u001b[A\n",
      "chunk:  48%|█████████████████████████████████████████████                                                | 641/1324 [00:00<00:00, 6405.17it/s, now=None]\u001b[A\n",
      "chunk: 100%|███████████████████████████████████████████████████████████████████████████████████████████▋| 1320/1324 [00:00<00:00, 6628.70it/s, now=None]\u001b[A\n",
      "                                                                                                                                                        \u001b[A"
     ]
    },
    {
     "name": "stdout",
     "output_type": "stream",
     "text": [
      "MoviePy - Done.\n",
      "MoviePy - Writing audio in temp_audio.wav\n"
     ]
    },
    {
     "name": "stderr",
     "output_type": "stream",
     "text": [
      "\n",
      "chunk:   0%|                                                                                                         | 0/1324 [00:00<?, ?it/s, now=None]\u001b[A\n",
      "chunk:  50%|██████████████████████████████████████████████▌                                              | 663/1324 [00:00<00:00, 6588.02it/s, now=None]\u001b[A\n",
      "                                                                                                                                                        \u001b[A"
     ]
    },
    {
     "name": "stdout",
     "output_type": "stream",
     "text": [
      "MoviePy - Done.\n",
      "MoviePy - Writing audio in temp_audio.wav\n"
     ]
    },
    {
     "name": "stderr",
     "output_type": "stream",
     "text": [
      "\n",
      "chunk:   0%|                                                                                                         | 0/1324 [00:00<?, ?it/s, now=None]\u001b[A\n",
      "chunk:  49%|█████████████████████████████████████████████▉                                               | 654/1324 [00:00<00:00, 6537.40it/s, now=None]\u001b[A\n",
      "                                                                                                                                                        \u001b[A"
     ]
    },
    {
     "name": "stdout",
     "output_type": "stream",
     "text": [
      "MoviePy - Done.\n",
      "MoviePy - Writing audio in temp_audio.wav\n"
     ]
    },
    {
     "name": "stderr",
     "output_type": "stream",
     "text": [
      "\n",
      "chunk:   0%|                                                                                                         | 0/1324 [00:00<?, ?it/s, now=None]\u001b[A\n",
      "chunk:  54%|██████████████████████████████████████████████████▏                                          | 714/1324 [00:00<00:00, 6873.13it/s, now=None]\u001b[A\n",
      "                                                                                                                                                        \u001b[A"
     ]
    },
    {
     "name": "stdout",
     "output_type": "stream",
     "text": [
      "MoviePy - Done.\n",
      "MoviePy - Writing audio in temp_audio.wav\n"
     ]
    },
    {
     "name": "stderr",
     "output_type": "stream",
     "text": [
      "\n",
      "chunk:   0%|                                                                                                         | 0/1324 [00:00<?, ?it/s, now=None]\u001b[A\n",
      "chunk:  54%|██████████████████████████████████████████████████▏                                          | 714/1324 [00:00<00:00, 7039.77it/s, now=None]\u001b[A\n",
      "                                                                                                                                                        \u001b[A"
     ]
    },
    {
     "name": "stdout",
     "output_type": "stream",
     "text": [
      "MoviePy - Done.\n",
      "MoviePy - Writing audio in temp_audio.wav\n"
     ]
    },
    {
     "name": "stderr",
     "output_type": "stream",
     "text": [
      "\n",
      "chunk:   0%|                                                                                                         | 0/1324 [00:00<?, ?it/s, now=None]\u001b[A\n",
      "chunk:  60%|███████████████████████████████████████████████████████▎                                     | 788/1324 [00:00<00:00, 7873.46it/s, now=None]\u001b[A\n",
      "                                                                                                                                                        \u001b[A"
     ]
    },
    {
     "name": "stdout",
     "output_type": "stream",
     "text": [
      "MoviePy - Done.\n",
      "MoviePy - Writing audio in temp_audio.wav\n"
     ]
    },
    {
     "name": "stderr",
     "output_type": "stream",
     "text": [
      "\n",
      "chunk:   0%|                                                                                                         | 0/1324 [00:00<?, ?it/s, now=None]\u001b[A\n",
      "chunk:  56%|███████████████████████████████████████████████████▊                                         | 738/1324 [00:00<00:00, 7375.22it/s, now=None]\u001b[A\n",
      "                                                                                                                                                        \u001b[A"
     ]
    },
    {
     "name": "stdout",
     "output_type": "stream",
     "text": [
      "MoviePy - Done.\n",
      "MoviePy - Writing audio in temp_audio.wav\n"
     ]
    },
    {
     "name": "stderr",
     "output_type": "stream",
     "text": [
      "\n",
      "chunk:   0%|                                                                                                         | 0/1324 [00:00<?, ?it/s, now=None]\u001b[A\n",
      "chunk:  58%|█████████████████████████████████████████████████████▋                                       | 765/1324 [00:00<00:00, 7542.24it/s, now=None]\u001b[A\n",
      "                                                                                                                                                        \u001b[A"
     ]
    },
    {
     "name": "stdout",
     "output_type": "stream",
     "text": [
      "MoviePy - Done.\n",
      "MoviePy - Writing audio in temp_audio.wav\n"
     ]
    },
    {
     "name": "stderr",
     "output_type": "stream",
     "text": [
      "\n",
      "chunk:   0%|                                                                                                         | 0/1324 [00:00<?, ?it/s, now=None]\u001b[A\n",
      "chunk:  58%|█████████████████████████████████████████████████████▋                                       | 765/1324 [00:00<00:00, 7643.77it/s, now=None]\u001b[A\n",
      "                                                                                                                                                        \u001b[A"
     ]
    },
    {
     "name": "stdout",
     "output_type": "stream",
     "text": [
      "MoviePy - Done.\n",
      "MoviePy - Writing audio in temp_audio.wav\n"
     ]
    },
    {
     "name": "stderr",
     "output_type": "stream",
     "text": [
      "\n",
      "chunk:   0%|                                                                                                         | 0/1324 [00:00<?, ?it/s, now=None]\u001b[A\n",
      "chunk:  53%|█████████████████████████████████████████████████▌                                           | 705/1324 [00:00<00:00, 7048.44it/s, now=None]\u001b[A\n",
      "                                                                                                                                                        \u001b[A"
     ]
    },
    {
     "name": "stdout",
     "output_type": "stream",
     "text": [
      "MoviePy - Done.\n",
      "MoviePy - Writing audio in temp_audio.wav\n"
     ]
    },
    {
     "name": "stderr",
     "output_type": "stream",
     "text": [
      "\n",
      "chunk:   0%|                                                                                                         | 0/1324 [00:00<?, ?it/s, now=None]\u001b[A\n",
      "chunk:  54%|█████████████████████████████████████████████████▊                                           | 710/1324 [00:00<00:00, 7094.10it/s, now=None]\u001b[A\n",
      "                                                                                                                                                        \u001b[A"
     ]
    },
    {
     "name": "stdout",
     "output_type": "stream",
     "text": [
      "MoviePy - Done.\n",
      "MoviePy - Writing audio in temp_audio.wav\n"
     ]
    },
    {
     "name": "stderr",
     "output_type": "stream",
     "text": [
      "\n",
      "chunk:   0%|                                                                                                         | 0/1324 [00:00<?, ?it/s, now=None]\u001b[A\n",
      "chunk:  52%|███████████████████████████████████████████████▉                                             | 682/1324 [00:00<00:00, 6813.49it/s, now=None]\u001b[A\n",
      "                                                                                                                                                        \u001b[A"
     ]
    },
    {
     "name": "stdout",
     "output_type": "stream",
     "text": [
      "MoviePy - Done.\n",
      "MoviePy - Writing audio in temp_audio.wav\n"
     ]
    },
    {
     "name": "stderr",
     "output_type": "stream",
     "text": [
      "\n",
      "chunk:   0%|                                                                                                         | 0/1324 [00:00<?, ?it/s, now=None]\u001b[A\n",
      "chunk:  57%|█████████████████████████████████████████████████████                                        | 756/1324 [00:00<00:00, 7554.17it/s, now=None]\u001b[A\n",
      "                                                                                                                                                        \u001b[A"
     ]
    },
    {
     "name": "stdout",
     "output_type": "stream",
     "text": [
      "MoviePy - Done.\n",
      "MoviePy - Writing audio in temp_audio.wav\n"
     ]
    },
    {
     "name": "stderr",
     "output_type": "stream",
     "text": [
      "\n",
      "chunk:   0%|                                                                                                         | 0/1324 [00:00<?, ?it/s, now=None]\u001b[A\n",
      "chunk:  58%|█████████████████████████████████████████████████████▋                                       | 765/1324 [00:00<00:00, 7539.79it/s, now=None]\u001b[A\n",
      "                                                                                                                                                        \u001b[A"
     ]
    },
    {
     "name": "stdout",
     "output_type": "stream",
     "text": [
      "MoviePy - Done.\n",
      "MoviePy - Writing audio in temp_audio.wav\n"
     ]
    },
    {
     "name": "stderr",
     "output_type": "stream",
     "text": [
      "\n",
      "chunk:   0%|                                                                                                         | 0/1324 [00:00<?, ?it/s, now=None]\u001b[A\n",
      "chunk:  55%|██████████████████████████████████████████████████▉                                          | 726/1324 [00:00<00:00, 7254.92it/s, now=None]\u001b[A\n",
      "                                                                                                                                                        \u001b[A"
     ]
    },
    {
     "name": "stdout",
     "output_type": "stream",
     "text": [
      "MoviePy - Done.\n",
      "MoviePy - Writing audio in temp_audio.wav\n"
     ]
    },
    {
     "name": "stderr",
     "output_type": "stream",
     "text": [
      "\n",
      "chunk:   0%|                                                                                                         | 0/1324 [00:00<?, ?it/s, now=None]\u001b[A\n",
      "chunk:  48%|████████████████████████████████████████████▍                                                | 633/1324 [00:00<00:00, 6326.91it/s, now=None]\u001b[A\n",
      "                                                                                                                                                        \u001b[A"
     ]
    },
    {
     "name": "stdout",
     "output_type": "stream",
     "text": [
      "MoviePy - Done.\n",
      "MoviePy - Writing audio in temp_audio.wav\n"
     ]
    },
    {
     "name": "stderr",
     "output_type": "stream",
     "text": [
      "\n",
      "chunk:   0%|                                                                                                         | 0/1324 [00:00<?, ?it/s, now=None]\u001b[A\n",
      "chunk:  50%|██████████████████████████████████████████████▌                                              | 663/1324 [00:00<00:00, 6534.77it/s, now=None]\u001b[A\n",
      "chunk:  99%|███████████████████████████████████████████████████████████████████████████████████████████▌| 1317/1324 [00:00<00:00, 6422.93it/s, now=None]\u001b[A\n",
      "                                                                                                                                                        \u001b[A"
     ]
    },
    {
     "name": "stdout",
     "output_type": "stream",
     "text": [
      "MoviePy - Done.\n",
      "MoviePy - Writing audio in temp_audio.wav\n"
     ]
    },
    {
     "name": "stderr",
     "output_type": "stream",
     "text": [
      "\n",
      "chunk:   0%|                                                                                                         | 0/1324 [00:00<?, ?it/s, now=None]\u001b[A\n",
      "chunk:  46%|██████████████████████████████████████████▉                                                  | 612/1324 [00:00<00:00, 6109.90it/s, now=None]\u001b[A\n",
      "                                                                                                                                                        \u001b[A"
     ]
    },
    {
     "name": "stdout",
     "output_type": "stream",
     "text": [
      "MoviePy - Done.\n",
      "MoviePy - Writing audio in temp_audio.wav\n"
     ]
    },
    {
     "name": "stderr",
     "output_type": "stream",
     "text": [
      "\n",
      "chunk:   0%|                                                                                                         | 0/1324 [00:00<?, ?it/s, now=None]\u001b[A\n",
      "chunk:  51%|███████████████████████████████████████████████▌                                             | 678/1324 [00:00<00:00, 6773.34it/s, now=None]\u001b[A\n",
      "                                                                                                                                                        \u001b[A"
     ]
    },
    {
     "name": "stdout",
     "output_type": "stream",
     "text": [
      "MoviePy - Done.\n",
      "MoviePy - Writing audio in temp_audio.wav\n"
     ]
    },
    {
     "name": "stderr",
     "output_type": "stream",
     "text": [
      "\n",
      "chunk:   0%|                                                                                                         | 0/1324 [00:00<?, ?it/s, now=None]\u001b[A\n",
      "chunk:  51%|███████████████████████████████████████████████▍                                             | 675/1324 [00:00<00:00, 6745.65it/s, now=None]\u001b[A\n",
      "                                                                                                                                                        \u001b[A"
     ]
    },
    {
     "name": "stdout",
     "output_type": "stream",
     "text": [
      "MoviePy - Done.\n",
      "MoviePy - Writing audio in temp_audio.wav\n"
     ]
    },
    {
     "name": "stderr",
     "output_type": "stream",
     "text": [
      "\n",
      "chunk:   0%|                                                                                                         | 0/1324 [00:00<?, ?it/s, now=None]\u001b[A\n",
      "chunk:  50%|██████████████████████████████████████████████▎                                              | 659/1324 [00:00<00:00, 6586.13it/s, now=None]\u001b[A\n",
      "                                                                                                                                                        \u001b[A"
     ]
    },
    {
     "name": "stdout",
     "output_type": "stream",
     "text": [
      "MoviePy - Done.\n",
      "MoviePy - Writing audio in temp_audio.wav\n"
     ]
    },
    {
     "name": "stderr",
     "output_type": "stream",
     "text": [
      "\n",
      "chunk:   0%|                                                                                                         | 0/1324 [00:00<?, ?it/s, now=None]\u001b[A\n",
      "chunk:  55%|███████████████████████████████████████████████████▌                                         | 734/1324 [00:00<00:00, 7339.95it/s, now=None]\u001b[A\n",
      "                                                                                                                                                        \u001b[A"
     ]
    },
    {
     "name": "stdout",
     "output_type": "stream",
     "text": [
      "MoviePy - Done.\n",
      "MoviePy - Writing audio in temp_audio.wav\n"
     ]
    },
    {
     "name": "stderr",
     "output_type": "stream",
     "text": [
      "\n",
      "chunk:   0%|                                                                                                         | 0/1324 [00:00<?, ?it/s, now=None]\u001b[A\n",
      "chunk:  58%|█████████████████████████████████████████████████████▋                                       | 765/1324 [00:00<00:00, 7594.08it/s, now=None]\u001b[A\n",
      "                                                                                                                                                        \u001b[A"
     ]
    },
    {
     "name": "stdout",
     "output_type": "stream",
     "text": [
      "MoviePy - Done.\n",
      "MoviePy - Writing audio in temp_audio.wav\n"
     ]
    },
    {
     "name": "stderr",
     "output_type": "stream",
     "text": [
      "\n",
      "chunk:   0%|                                                                                                         | 0/1324 [00:00<?, ?it/s, now=None]\u001b[A\n",
      "chunk:  58%|█████████████████████████████████████████████████████▌                                       | 762/1324 [00:00<00:00, 7616.96it/s, now=None]\u001b[A\n",
      "                                                                                                                                                        \u001b[A"
     ]
    },
    {
     "name": "stdout",
     "output_type": "stream",
     "text": [
      "MoviePy - Done.\n",
      "MoviePy - Writing audio in temp_audio.wav\n"
     ]
    },
    {
     "name": "stderr",
     "output_type": "stream",
     "text": [
      "\n",
      "chunk:   0%|                                                                                                         | 0/1324 [00:00<?, ?it/s, now=None]\u001b[A\n",
      "chunk:  58%|█████████████████████████████████████████████████████▋                                       | 765/1324 [00:00<00:00, 7475.47it/s, now=None]\u001b[A\n",
      "                                                                                                                                                        \u001b[A"
     ]
    },
    {
     "name": "stdout",
     "output_type": "stream",
     "text": [
      "MoviePy - Done.\n",
      "MoviePy - Writing audio in temp_audio.wav\n"
     ]
    },
    {
     "name": "stderr",
     "output_type": "stream",
     "text": [
      "\n",
      "chunk:   0%|                                                                                                         | 0/1324 [00:00<?, ?it/s, now=None]\u001b[A\n",
      "chunk:  49%|█████████████████████████████████████████████▌                                               | 648/1324 [00:00<00:00, 6476.90it/s, now=None]\u001b[A\n",
      "                                                                                                                                                        \u001b[A"
     ]
    },
    {
     "name": "stdout",
     "output_type": "stream",
     "text": [
      "MoviePy - Done.\n",
      "MoviePy - Writing audio in temp_audio.wav\n"
     ]
    },
    {
     "name": "stderr",
     "output_type": "stream",
     "text": [
      "\n",
      "chunk:   0%|                                                                                                         | 0/1324 [00:00<?, ?it/s, now=None]\u001b[A\n",
      "chunk:  55%|███████████████████████████████████████████████████▏                                         | 728/1324 [00:00<00:00, 7275.24it/s, now=None]\u001b[A\n",
      "                                                                                                                                                        \u001b[A"
     ]
    },
    {
     "name": "stdout",
     "output_type": "stream",
     "text": [
      "MoviePy - Done.\n",
      "MoviePy - Writing audio in temp_audio.wav\n"
     ]
    },
    {
     "name": "stderr",
     "output_type": "stream",
     "text": [
      "\n",
      "chunk:   0%|                                                                                                         | 0/1324 [00:00<?, ?it/s, now=None]\u001b[A\n",
      "chunk:  53%|█████████████████████████████████████████████████▋                                           | 708/1324 [00:00<00:00, 7073.65it/s, now=None]\u001b[A\n",
      "                                                                                                                                                        \u001b[A"
     ]
    },
    {
     "name": "stdout",
     "output_type": "stream",
     "text": [
      "MoviePy - Done.\n",
      "MoviePy - Writing audio in temp_audio.wav\n"
     ]
    },
    {
     "name": "stderr",
     "output_type": "stream",
     "text": [
      "\n",
      "chunk:   0%|                                                                                                         | 0/1324 [00:00<?, ?it/s, now=None]\u001b[A\n",
      "chunk:  54%|██████████████████████████████████████████████████▌                                          | 719/1324 [00:00<00:00, 7188.00it/s, now=None]\u001b[A\n",
      "                                                                                                                                                        \u001b[A"
     ]
    },
    {
     "name": "stdout",
     "output_type": "stream",
     "text": [
      "MoviePy - Done.\n",
      "MoviePy - Writing audio in temp_audio.wav\n"
     ]
    },
    {
     "name": "stderr",
     "output_type": "stream",
     "text": [
      "\n",
      "chunk:   0%|                                                                                                         | 0/1324 [00:00<?, ?it/s, now=None]\u001b[A\n",
      "chunk:  46%|███████████████████████████████████████████▏                                                 | 615/1324 [00:00<00:00, 6146.49it/s, now=None]\u001b[A\n",
      "chunk:  93%|█████████████████████████████████████████████████████████████████████████████████████▍      | 1230/1324 [00:00<00:00, 5910.39it/s, now=None]\u001b[A\n",
      "                                                                                                                                                        \u001b[A"
     ]
    },
    {
     "name": "stdout",
     "output_type": "stream",
     "text": [
      "MoviePy - Done.\n",
      "MoviePy - Writing audio in temp_audio.wav\n"
     ]
    },
    {
     "name": "stderr",
     "output_type": "stream",
     "text": [
      "\n",
      "chunk:   0%|                                                                                                         | 0/1324 [00:00<?, ?it/s, now=None]\u001b[A\n",
      "chunk:  58%|█████████████████████████████████████████████████████▋                                       | 765/1324 [00:00<00:00, 7518.33it/s, now=None]\u001b[A\n",
      "                                                                                                                                                        \u001b[A"
     ]
    },
    {
     "name": "stdout",
     "output_type": "stream",
     "text": [
      "MoviePy - Done.\n",
      "MoviePy - Writing audio in temp_audio.wav\n"
     ]
    },
    {
     "name": "stderr",
     "output_type": "stream",
     "text": [
      "\n",
      "chunk:   0%|                                                                                                         | 0/1324 [00:00<?, ?it/s, now=None]\u001b[A\n",
      "chunk:  53%|█████████████████████████████████████████████████▏                                           | 701/1324 [00:00<00:00, 7009.25it/s, now=None]\u001b[A\n",
      "                                                                                                                                                        \u001b[A"
     ]
    },
    {
     "name": "stdout",
     "output_type": "stream",
     "text": [
      "MoviePy - Done.\n",
      "MoviePy - Writing audio in temp_audio.wav\n"
     ]
    },
    {
     "name": "stderr",
     "output_type": "stream",
     "text": [
      "\n",
      "chunk:   0%|                                                                                                         | 0/1324 [00:00<?, ?it/s, now=None]\u001b[A\n",
      "chunk:  46%|██████████████████████████████████████████▉                                                  | 612/1324 [00:00<00:00, 5990.13it/s, now=None]\u001b[A\n",
      "chunk:  95%|███████████████████████████████████████████████████████████████████████████████████████▎    | 1257/1324 [00:00<00:00, 6255.16it/s, now=None]\u001b[A\n",
      "                                                                                                                                                        \u001b[A"
     ]
    },
    {
     "name": "stdout",
     "output_type": "stream",
     "text": [
      "MoviePy - Done.\n",
      "MoviePy - Writing audio in temp_audio.wav\n"
     ]
    },
    {
     "name": "stderr",
     "output_type": "stream",
     "text": [
      "\n",
      "chunk:   0%|                                                                                                         | 0/1324 [00:00<?, ?it/s, now=None]\u001b[A\n",
      "chunk:  57%|████████████████████████████████████████████████████▋                                        | 750/1324 [00:00<00:00, 7496.77it/s, now=None]\u001b[A\n",
      "                                                                                                                                                        \u001b[A"
     ]
    },
    {
     "name": "stdout",
     "output_type": "stream",
     "text": [
      "MoviePy - Done.\n",
      "MoviePy - Writing audio in temp_audio.wav\n"
     ]
    },
    {
     "name": "stderr",
     "output_type": "stream",
     "text": [
      "\n",
      "chunk:   0%|                                                                                                         | 0/1324 [00:00<?, ?it/s, now=None]\u001b[A\n",
      "chunk:  50%|██████████████████████████████████████████████▌                                              | 663/1324 [00:00<00:00, 6573.10it/s, now=None]\u001b[A\n",
      "                                                                                                                                                        \u001b[A"
     ]
    },
    {
     "name": "stdout",
     "output_type": "stream",
     "text": [
      "MoviePy - Done.\n",
      "MoviePy - Writing audio in temp_audio.wav\n"
     ]
    },
    {
     "name": "stderr",
     "output_type": "stream",
     "text": [
      "\n",
      "chunk:   0%|                                                                                                         | 0/1324 [00:00<?, ?it/s, now=None]\u001b[A\n",
      "chunk:  58%|██████████████████████████████████████████████████████▏                                      | 771/1324 [00:00<00:00, 7704.92it/s, now=None]\u001b[A\n",
      "                                                                                                                                                        \u001b[A"
     ]
    },
    {
     "name": "stdout",
     "output_type": "stream",
     "text": [
      "MoviePy - Done.\n",
      "MoviePy - Writing audio in temp_audio.wav\n"
     ]
    },
    {
     "name": "stderr",
     "output_type": "stream",
     "text": [
      "\n",
      "chunk:   0%|                                                                                                         | 0/1324 [00:00<?, ?it/s, now=None]\u001b[A\n",
      "chunk:  54%|██████████████████████████████████████████████████▏                                          | 714/1324 [00:00<00:00, 7044.96it/s, now=None]\u001b[A\n",
      "                                                                                                                                                        \u001b[A"
     ]
    },
    {
     "name": "stdout",
     "output_type": "stream",
     "text": [
      "MoviePy - Done.\n",
      "MoviePy - Writing audio in temp_audio.wav\n"
     ]
    },
    {
     "name": "stderr",
     "output_type": "stream",
     "text": [
      "\n",
      "chunk:   0%|                                                                                                         | 0/1324 [00:00<?, ?it/s, now=None]\u001b[A\n",
      "chunk:  58%|█████████████████████████████████████████████████████▌                                       | 762/1324 [00:00<00:00, 7613.42it/s, now=None]\u001b[A\n",
      "                                                                                                                                                        \u001b[A"
     ]
    },
    {
     "name": "stdout",
     "output_type": "stream",
     "text": [
      "MoviePy - Done.\n",
      "MoviePy - Writing audio in temp_audio.wav\n"
     ]
    },
    {
     "name": "stderr",
     "output_type": "stream",
     "text": [
      "\n",
      "chunk:   0%|                                                                                                         | 0/1324 [00:00<?, ?it/s, now=None]\u001b[A\n",
      "chunk:  48%|████████████████████████████████████████████▍                                                | 632/1324 [00:00<00:00, 6316.81it/s, now=None]\u001b[A\n",
      "chunk:  96%|████████████████████████████████████████████████████████████████████████████████████████▍   | 1273/1324 [00:00<00:00, 6368.16it/s, now=None]\u001b[A\n",
      "                                                                                                                                                        \u001b[A"
     ]
    },
    {
     "name": "stdout",
     "output_type": "stream",
     "text": [
      "MoviePy - Done.\n",
      "MoviePy - Writing audio in temp_audio.wav\n"
     ]
    },
    {
     "name": "stderr",
     "output_type": "stream",
     "text": [
      "\n",
      "chunk:   0%|                                                                                                         | 0/1324 [00:00<?, ?it/s, now=None]\u001b[A\n",
      "chunk:  59%|██████████████████████████████████████████████████████▌                                      | 776/1324 [00:00<00:00, 7755.02it/s, now=None]\u001b[A\n",
      "                                                                                                                                                        \u001b[A"
     ]
    },
    {
     "name": "stdout",
     "output_type": "stream",
     "text": [
      "MoviePy - Done.\n",
      "MoviePy - Writing audio in temp_audio.wav\n"
     ]
    },
    {
     "name": "stderr",
     "output_type": "stream",
     "text": [
      "\n",
      "chunk:   0%|                                                                                                         | 0/1324 [00:00<?, ?it/s, now=None]\u001b[A\n",
      "chunk:  54%|██████████████████████████████████████████████████▏                                          | 714/1324 [00:00<00:00, 7078.06it/s, now=None]\u001b[A\n",
      "                                                                                                                                                        \u001b[A"
     ]
    },
    {
     "name": "stdout",
     "output_type": "stream",
     "text": [
      "MoviePy - Done.\n",
      "MoviePy - Writing audio in temp_audio.wav\n"
     ]
    },
    {
     "name": "stderr",
     "output_type": "stream",
     "text": [
      "\n",
      "chunk:   0%|                                                                                                         | 0/1324 [00:00<?, ?it/s, now=None]\u001b[A\n",
      "chunk:  56%|███████████████████████████████████████████████████▉                                         | 739/1324 [00:00<00:00, 7389.80it/s, now=None]\u001b[A\n",
      "                                                                                                                                                        \u001b[A"
     ]
    },
    {
     "name": "stdout",
     "output_type": "stream",
     "text": [
      "MoviePy - Done.\n",
      "MoviePy - Writing audio in temp_audio.wav\n"
     ]
    },
    {
     "name": "stderr",
     "output_type": "stream",
     "text": [
      "\n",
      "chunk:   0%|                                                                                                         | 0/1324 [00:00<?, ?it/s, now=None]\u001b[A\n",
      "chunk:  56%|████████████████████████████████████████████████████▍                                        | 746/1324 [00:00<00:00, 7455.07it/s, now=None]\u001b[A\n",
      "                                                                                                                                                        \u001b[A"
     ]
    },
    {
     "name": "stdout",
     "output_type": "stream",
     "text": [
      "MoviePy - Done.\n",
      "MoviePy - Writing audio in temp_audio.wav\n"
     ]
    },
    {
     "name": "stderr",
     "output_type": "stream",
     "text": [
      "\n",
      "chunk:   0%|                                                                                                         | 0/1324 [00:00<?, ?it/s, now=None]\u001b[A\n",
      "chunk:  48%|████████████████████████████████████████████▋                                                | 637/1324 [00:00<00:00, 6363.07it/s, now=None]\u001b[A\n",
      "chunk:  96%|████████████████████████████████████████████████████████████████████████████████████████▌   | 1275/1324 [00:00<00:00, 6322.71it/s, now=None]\u001b[A\n",
      "                                                                                                                                                        \u001b[A"
     ]
    },
    {
     "name": "stdout",
     "output_type": "stream",
     "text": [
      "MoviePy - Done.\n",
      "MoviePy - Writing audio in temp_audio.wav\n"
     ]
    },
    {
     "name": "stderr",
     "output_type": "stream",
     "text": [
      "\n",
      "chunk:   0%|                                                                                                         | 0/1324 [00:00<?, ?it/s, now=None]\u001b[A\n",
      "chunk:  56%|████████████████████████████████████████████████████▌                                        | 748/1324 [00:00<00:00, 7474.13it/s, now=None]\u001b[A\n",
      "                                                                                                                                                        \u001b[A"
     ]
    },
    {
     "name": "stdout",
     "output_type": "stream",
     "text": [
      "MoviePy - Done.\n",
      "MoviePy - Writing audio in temp_audio.wav\n"
     ]
    },
    {
     "name": "stderr",
     "output_type": "stream",
     "text": [
      "\n",
      "chunk:   0%|                                                                                                         | 0/1324 [00:00<?, ?it/s, now=None]\u001b[A\n",
      "chunk:  51%|███████████████████████████████████████████████▍                                             | 676/1324 [00:00<00:00, 6759.35it/s, now=None]\u001b[A\n",
      "                                                                                                                                                        \u001b[A"
     ]
    },
    {
     "name": "stdout",
     "output_type": "stream",
     "text": [
      "MoviePy - Done.\n",
      "MoviePy - Writing audio in temp_audio.wav\n"
     ]
    },
    {
     "name": "stderr",
     "output_type": "stream",
     "text": [
      "\n",
      "chunk:   0%|                                                                                                         | 0/1324 [00:00<?, ?it/s, now=None]\u001b[A\n",
      "chunk:  54%|██████████████████████████████████████████████████▏                                          | 714/1324 [00:00<00:00, 7116.14it/s, now=None]\u001b[A\n",
      "                                                                                                                                                        \u001b[A"
     ]
    },
    {
     "name": "stdout",
     "output_type": "stream",
     "text": [
      "MoviePy - Done.\n",
      "MoviePy - Writing audio in temp_audio.wav\n"
     ]
    },
    {
     "name": "stderr",
     "output_type": "stream",
     "text": [
      "\n",
      "chunk:   0%|                                                                                                         | 0/1324 [00:00<?, ?it/s, now=None]\u001b[A\n",
      "chunk:  58%|█████████████████████████████████████████████████████▋                                       | 765/1324 [00:00<00:00, 7510.73it/s, now=None]\u001b[A\n",
      "                                                                                                                                                        \u001b[A"
     ]
    },
    {
     "name": "stdout",
     "output_type": "stream",
     "text": [
      "MoviePy - Done.\n",
      "MoviePy - Writing audio in temp_audio.wav\n"
     ]
    },
    {
     "name": "stderr",
     "output_type": "stream",
     "text": [
      "\n",
      "chunk:   0%|                                                                                                         | 0/1324 [00:00<?, ?it/s, now=None]\u001b[A\n",
      "chunk:  51%|███████████████████████████████████████████████                                              | 670/1324 [00:00<00:00, 6697.85it/s, now=None]\u001b[A\n",
      "                                                                                                                                                        \u001b[A"
     ]
    },
    {
     "name": "stdout",
     "output_type": "stream",
     "text": [
      "MoviePy - Done.\n",
      "MoviePy - Writing audio in temp_audio.wav\n"
     ]
    },
    {
     "name": "stderr",
     "output_type": "stream",
     "text": [
      "\n",
      "chunk:   0%|                                                                                                         | 0/1324 [00:00<?, ?it/s, now=None]\u001b[A\n",
      "chunk:  57%|█████████████████████████████████████████████████████▏                                       | 757/1324 [00:00<00:00, 7567.21it/s, now=None]\u001b[A\n",
      "                                                                                                                                                        \u001b[A"
     ]
    },
    {
     "name": "stdout",
     "output_type": "stream",
     "text": [
      "MoviePy - Done.\n",
      "MoviePy - Writing audio in temp_audio.wav\n"
     ]
    },
    {
     "name": "stderr",
     "output_type": "stream",
     "text": [
      "\n",
      "chunk:   0%|                                                                                                         | 0/1324 [00:00<?, ?it/s, now=None]\u001b[A\n",
      "chunk:  50%|██████████████████████████████████████████████▌                                              | 663/1324 [00:00<00:00, 6559.54it/s, now=None]\u001b[A\n",
      "chunk: 100%|███████████████████████████████████████████████████████████████████████████████████████████▋| 1319/1324 [00:00<00:00, 6417.88it/s, now=None]\u001b[A\n",
      "                                                                                                                                                        \u001b[A"
     ]
    },
    {
     "name": "stdout",
     "output_type": "stream",
     "text": [
      "MoviePy - Done.\n",
      "MoviePy - Writing audio in temp_audio.wav\n"
     ]
    },
    {
     "name": "stderr",
     "output_type": "stream",
     "text": [
      "\n",
      "chunk:   0%|                                                                                                         | 0/1324 [00:00<?, ?it/s, now=None]\u001b[A\n",
      "chunk:  48%|████████████████████████████████████████████▌                                                | 634/1324 [00:00<00:00, 6337.11it/s, now=None]\u001b[A\n",
      "chunk:  96%|████████████████████████████████████████████████████████████████████████████████████████    | 1268/1324 [00:00<00:00, 6040.43it/s, now=None]\u001b[A\n",
      "                                                                                                                                                        \u001b[A"
     ]
    },
    {
     "name": "stdout",
     "output_type": "stream",
     "text": [
      "MoviePy - Done.\n",
      "MoviePy - Writing audio in temp_audio.wav\n"
     ]
    },
    {
     "name": "stderr",
     "output_type": "stream",
     "text": [
      "\n",
      "chunk:   0%|                                                                                                         | 0/1324 [00:00<?, ?it/s, now=None]\u001b[A\n",
      "chunk:  46%|██████████████████████████████████████████▉                                                  | 612/1324 [00:00<00:00, 5964.02it/s, now=None]\u001b[A\n",
      "chunk:  95%|███████████████████████████████████████████████████████████████████████████████████████▌    | 1261/1324 [00:00<00:00, 6267.30it/s, now=None]\u001b[A\n",
      "                                                                                                                                                        \u001b[A"
     ]
    },
    {
     "name": "stdout",
     "output_type": "stream",
     "text": [
      "MoviePy - Done.\n",
      "MoviePy - Writing audio in temp_audio.wav\n"
     ]
    },
    {
     "name": "stderr",
     "output_type": "stream",
     "text": [
      "\n",
      "chunk:   0%|                                                                                                         | 0/1324 [00:00<?, ?it/s, now=None]\u001b[A\n",
      "chunk:  50%|██████████████████████████████████████████████▌                                              | 663/1324 [00:00<00:00, 6623.09it/s, now=None]\u001b[A\n",
      "                                                                                                                                                        \u001b[A"
     ]
    },
    {
     "name": "stdout",
     "output_type": "stream",
     "text": [
      "MoviePy - Done.\n",
      "MoviePy - Writing audio in temp_audio.wav\n"
     ]
    },
    {
     "name": "stderr",
     "output_type": "stream",
     "text": [
      "\n",
      "chunk:   0%|                                                                                                          | 0/893 [00:00<?, ?it/s, now=None]\u001b[A\n",
      "chunk:  83%|█████████████████████████████████████████████████████████████████████████████▌                | 737/893 [00:00<00:00, 7367.30it/s, now=None]\u001b[A\n",
      "                                                                                                                                                        \u001b[A"
     ]
    },
    {
     "name": "stdout",
     "output_type": "stream",
     "text": [
      "MoviePy - Done.\n",
      "MoviePy - Writing audio in temp_audio.wav\n"
     ]
    },
    {
     "name": "stderr",
     "output_type": "stream",
     "text": [
      "\n",
      "chunk:   0%|                                                                                                         | 0/1324 [00:00<?, ?it/s, now=None]\u001b[A\n",
      "chunk:  54%|██████████████████████████████████████████████████▏                                          | 714/1324 [00:00<00:00, 6988.32it/s, now=None]\u001b[A\n",
      "                                                                                                                                                        \u001b[A"
     ]
    },
    {
     "name": "stdout",
     "output_type": "stream",
     "text": [
      "MoviePy - Done.\n",
      "MoviePy - Writing audio in temp_audio.wav\n"
     ]
    },
    {
     "name": "stderr",
     "output_type": "stream",
     "text": [
      "\n",
      "chunk:   0%|                                                                                                         | 0/1324 [00:00<?, ?it/s, now=None]\u001b[A\n",
      "chunk:  47%|███████████████████████████████████████████▉                                                 | 625/1324 [00:00<00:00, 6244.93it/s, now=None]\u001b[A\n",
      "chunk:  94%|██████████████████████████████████████████████████████████████████████████████████████▊     | 1250/1324 [00:00<00:00, 5990.93it/s, now=None]\u001b[A\n",
      "                                                                                                                                                        \u001b[A"
     ]
    },
    {
     "name": "stdout",
     "output_type": "stream",
     "text": [
      "MoviePy - Done.\n",
      "MoviePy - Writing audio in temp_audio.wav\n"
     ]
    },
    {
     "name": "stderr",
     "output_type": "stream",
     "text": [
      "\n",
      "chunk:   0%|                                                                                                         | 0/1324 [00:00<?, ?it/s, now=None]\u001b[A\n",
      "chunk:  51%|███████████████████████████████████████████████▋                                             | 679/1324 [00:00<00:00, 6788.06it/s, now=None]\u001b[A\n",
      "                                                                                                                                                        \u001b[A"
     ]
    },
    {
     "name": "stdout",
     "output_type": "stream",
     "text": [
      "MoviePy - Done.\n",
      "MoviePy - Writing audio in temp_audio.wav\n"
     ]
    },
    {
     "name": "stderr",
     "output_type": "stream",
     "text": [
      "\n",
      "chunk:   0%|                                                                                                         | 0/1324 [00:00<?, ?it/s, now=None]\u001b[A\n",
      "chunk:  50%|██████████████████████████████████████████████▌                                              | 663/1324 [00:00<00:00, 6512.01it/s, now=None]\u001b[A\n",
      "chunk:  99%|███████████████████████████████████████████████████████████████████████████████████████████▎| 1315/1324 [00:00<00:00, 6434.87it/s, now=None]\u001b[A\n",
      "                                                                                                                                                        \u001b[A"
     ]
    },
    {
     "name": "stdout",
     "output_type": "stream",
     "text": [
      "MoviePy - Done.\n",
      "MoviePy - Writing audio in temp_audio.wav\n"
     ]
    },
    {
     "name": "stderr",
     "output_type": "stream",
     "text": [
      "\n",
      "chunk:   0%|                                                                                                         | 0/1324 [00:00<?, ?it/s, now=None]\u001b[A\n",
      "chunk:  59%|██████████████████████████████████████████████████████▊                                      | 781/1324 [00:00<00:00, 7809.62it/s, now=None]\u001b[A\n",
      "                                                                                                                                                        \u001b[A"
     ]
    },
    {
     "name": "stdout",
     "output_type": "stream",
     "text": [
      "MoviePy - Done.\n",
      "MoviePy - Writing audio in temp_audio.wav\n"
     ]
    },
    {
     "name": "stderr",
     "output_type": "stream",
     "text": [
      "\n",
      "chunk:   0%|                                                                                                         | 0/1324 [00:00<?, ?it/s, now=None]\u001b[A\n",
      "chunk:  52%|████████████████████████████████████████████████▊                                            | 695/1324 [00:00<00:00, 6946.00it/s, now=None]\u001b[A\n",
      "                                                                                                                                                        \u001b[A"
     ]
    },
    {
     "name": "stdout",
     "output_type": "stream",
     "text": [
      "MoviePy - Done.\n",
      "MoviePy - Writing audio in temp_audio.wav\n"
     ]
    },
    {
     "name": "stderr",
     "output_type": "stream",
     "text": [
      "\n",
      "chunk:   0%|                                                                                                         | 0/1324 [00:00<?, ?it/s, now=None]\u001b[A\n",
      "chunk:  50%|██████████████████████████████████████████████▌                                              | 663/1324 [00:00<00:00, 6629.99it/s, now=None]\u001b[A\n",
      "                                                                                                                                                        \u001b[A"
     ]
    },
    {
     "name": "stdout",
     "output_type": "stream",
     "text": [
      "MoviePy - Done.\n",
      "MoviePy - Writing audio in temp_audio.wav\n"
     ]
    },
    {
     "name": "stderr",
     "output_type": "stream",
     "text": [
      "\n",
      "chunk:   0%|                                                                                                         | 0/1324 [00:00<?, ?it/s, now=None]\u001b[A\n",
      "chunk:  50%|██████████████████████████████████████████████▌                                              | 663/1324 [00:00<00:00, 6578.37it/s, now=None]\u001b[A\n",
      "chunk: 100%|███████████████████████████████████████████████████████████████████████████████████████████▊| 1321/1324 [00:00<00:00, 6334.08it/s, now=None]\u001b[A\n",
      "                                                                                                                                                        \u001b[A"
     ]
    },
    {
     "name": "stdout",
     "output_type": "stream",
     "text": [
      "MoviePy - Done.\n",
      "MoviePy - Writing audio in temp_audio.wav\n"
     ]
    },
    {
     "name": "stderr",
     "output_type": "stream",
     "text": [
      "\n",
      "chunk:   0%|                                                                                                         | 0/1324 [00:00<?, ?it/s, now=None]\u001b[A\n",
      "chunk:  59%|██████████████████████████████████████████████████████▊                                      | 781/1324 [00:00<00:00, 7806.42it/s, now=None]\u001b[A\n",
      "                                                                                                                                                        \u001b[A"
     ]
    },
    {
     "name": "stdout",
     "output_type": "stream",
     "text": [
      "MoviePy - Done.\n",
      "MoviePy - Writing audio in temp_audio.wav\n"
     ]
    },
    {
     "name": "stderr",
     "output_type": "stream",
     "text": [
      "\n",
      "chunk:   0%|                                                                                                         | 0/1324 [00:00<?, ?it/s, now=None]\u001b[A\n",
      "chunk:  54%|██████████████████████████████████████████████████▋                                          | 721/1324 [00:00<00:00, 7205.76it/s, now=None]\u001b[A\n",
      "                                                                                                                                                        \u001b[A"
     ]
    },
    {
     "name": "stdout",
     "output_type": "stream",
     "text": [
      "MoviePy - Done.\n",
      "MoviePy - Writing audio in temp_audio.wav\n"
     ]
    },
    {
     "name": "stderr",
     "output_type": "stream",
     "text": [
      "\n",
      "chunk:   0%|                                                                                                         | 0/1324 [00:00<?, ?it/s, now=None]\u001b[A\n",
      "chunk:  54%|██████████████████████████████████████████████████▌                                          | 719/1324 [00:00<00:00, 7188.94it/s, now=None]\u001b[A\n",
      "                                                                                                                                                        \u001b[A"
     ]
    },
    {
     "name": "stdout",
     "output_type": "stream",
     "text": [
      "MoviePy - Done.\n",
      "MoviePy - Writing audio in temp_audio.wav\n"
     ]
    },
    {
     "name": "stderr",
     "output_type": "stream",
     "text": [
      "\n",
      "chunk:   0%|                                                                                                          | 0/968 [00:00<?, ?it/s, now=None]\u001b[A\n",
      "chunk:  68%|████████████████████████████████████████████████████████████████▍                             | 663/968 [00:00<00:00, 6609.55it/s, now=None]\u001b[A\n",
      "                                                                                                                                                        \u001b[A"
     ]
    },
    {
     "name": "stdout",
     "output_type": "stream",
     "text": [
      "MoviePy - Done.\n",
      "MoviePy - Writing audio in temp_audio.wav\n"
     ]
    },
    {
     "name": "stderr",
     "output_type": "stream",
     "text": [
      "\n",
      "chunk:   0%|                                                                                                          | 0/809 [00:00<?, ?it/s, now=None]\u001b[A\n",
      "chunk:  85%|███████████████████████████████████████████████████████████████████████████████▉              | 688/809 [00:00<00:00, 6879.92it/s, now=None]\u001b[A\n",
      "                                                                                                                                                        \u001b[A"
     ]
    },
    {
     "name": "stdout",
     "output_type": "stream",
     "text": [
      "MoviePy - Done.\n",
      "MoviePy - Writing audio in temp_audio.wav\n"
     ]
    },
    {
     "name": "stderr",
     "output_type": "stream",
     "text": [
      "\n",
      "chunk:   0%|                                                                                                         | 0/1324 [00:00<?, ?it/s, now=None]\u001b[A\n",
      "chunk:  49%|█████████████████████████████████████████████▌                                               | 649/1324 [00:00<00:00, 6488.10it/s, now=None]\u001b[A\n",
      "                                                                                                                                                        \u001b[A"
     ]
    },
    {
     "name": "stdout",
     "output_type": "stream",
     "text": [
      "MoviePy - Done.\n",
      "MoviePy - Writing audio in temp_audio.wav\n"
     ]
    },
    {
     "name": "stderr",
     "output_type": "stream",
     "text": [
      "\n",
      "chunk:   0%|                                                                                                          | 0/341 [00:00<?, ?it/s, now=None]\u001b[A\n",
      "                                                                                                                                                        \u001b[A"
     ]
    },
    {
     "name": "stdout",
     "output_type": "stream",
     "text": [
      "MoviePy - Done.\n",
      "MoviePy - Writing audio in temp_audio.wav\n"
     ]
    },
    {
     "name": "stderr",
     "output_type": "stream",
     "text": [
      "\n",
      "chunk:   0%|                                                                                                         | 0/1324 [00:00<?, ?it/s, now=None]\u001b[A\n",
      "chunk:  50%|██████████████████████████████████████████████▉                                              | 668/1324 [00:00<00:00, 6673.34it/s, now=None]\u001b[A\n",
      "                                                                                                                                                        \u001b[A"
     ]
    },
    {
     "name": "stdout",
     "output_type": "stream",
     "text": [
      "MoviePy - Done.\n",
      "MoviePy - Writing audio in temp_audio.wav\n"
     ]
    },
    {
     "name": "stderr",
     "output_type": "stream",
     "text": [
      "\n",
      "chunk:   0%|                                                                                                          | 0/859 [00:00<?, ?it/s, now=None]\u001b[A\n",
      "chunk:  83%|██████████████████████████████████████████████████████████████████████████████▏               | 714/859 [00:00<00:00, 7068.68it/s, now=None]\u001b[A\n",
      "                                                                                                                                                        \u001b[A"
     ]
    },
    {
     "name": "stdout",
     "output_type": "stream",
     "text": [
      "MoviePy - Done.\n"
     ]
    }
   ],
   "source": [
    "DATA_DIR = './data'\n",
    "device = 'cuda' if torch.cuda.is_available() else 'cpu'\n",
    "torch_dtype = torch.float16 if torch.cuda.is_available() else torch.float32\n",
    "\n",
    "model, processor, asr_pipe = instantiate_whisper(device, torch_dtype)\n",
    "embeddings_whisper = []\n",
    "\n",
    "for data_subdir in tqdm.tqdm(os.listdir(DATA_DIR)):\n",
    "    fullpath = os.path.join(DATA_DIR, data_subdir)\n",
    "\n",
    "    if not os.path.isdir(fullpath):\n",
    "        continue\n",
    "    \n",
    "    video_files = [f for f in os.listdir(fullpath) if f.lower().endswith('.mp4')]\n",
    "    logging.info(f\"Found {len(video_files)} video(s) in directory '{data_subdir}'.\")\n",
    "    \n",
    "    for video_file in video_files:\n",
    "        file_path = os.path.join(fullpath, video_file)\n",
    "        output, recov_text = process_whisper(file_path, model, processor, asr_pipe, device, torch_dtype)\n",
    "        \n",
    "        if output is not None:\n",
    "            logging.info(f\"Successfully processed video: {video_file}\")\n",
    "            embeddings_whisper.append((video_file, extract_category_id(data_subdir), output.numpy(), recov_text))\n",
    "        else:\n",
    "            logging.warning(f\"Failed to process video: {video_file}\")\n",
    "\n",
    "whisper_df = EmbeddingStorage(\n",
    "    filenames=list(map(lambda x: x[0], embeddings_whisper)),\n",
    "    labels=list(map(lambda x: x[1], embeddings_whisper)),\n",
    "    embeddings=list(map(lambda x: x[2], embeddings_whisper)),\n",
    ")\n",
    "whisper_df.save_to_file('data/embeddings/whisper.npz')\n",
    "\n",
    "whisper_text_df = EmbeddingStorage(\n",
    "    filenames=list(map(lambda x: x[0], embeddings_whisper)),\n",
    "    labels=list(map(lambda x: x[1], embeddings_whisper)),\n",
    "    embeddings=list(map(lambda x: x[3], embeddings_whisper)),\n",
    ")\n",
    "whisper_text_df.save_to_file('data/embeddings/whisper_text.npz')\n",
    "\n",
    "# whisper_df = pd.DataFrame(data=embeddings_whisper, columns=['videoname', 'label', 'emb', 'text'])\n",
    "# whisper_df.to_csv('data/embeddings/whisper.csv', index=False)"
   ]
  },
  {
   "cell_type": "markdown",
   "id": "3114300c-3443-4f06-9022-40cdcdb1b377",
   "metadata": {},
   "source": [
    "## Quality metrics"
   ]
  },
  {
   "cell_type": "code",
   "execution_count": 131,
   "id": "2eb38a84-07cb-45d8-b473-cfed7118b61e",
   "metadata": {},
   "outputs": [],
   "source": [
    "def top_k_accuracy(target: np.ndarray, preds: np.ndarray, k: int = 10) -> float:\n",
    "    numer = 0\n",
    "    denom = target.size\n",
    "    \n",
    "    for label, labels_set in zip(target, preds):\n",
    "        if label in labels_set[:k]:\n",
    "            numer += 1\n",
    "\n",
    "    return numer * 1.0 / denom\n",
    "\n",
    "def string_to_tensor(tensor_string):\n",
    "    tensor_string = tensor_string.replace('tensor(', '').rstrip(')')\n",
    "    tensor_data = ast.literal_eval(tensor_string)\n",
    "    tensor = torch.tensor(tensor_data)\n",
    "    \n",
    "    return tensor\n",
    "\n",
    "def string_to_numpy(tensor_string):\n",
    "    tensor_string = tensor_string.replace('tensor(', '').rstrip(')')\n",
    "    tensor_data = ast.literal_eval(tensor_string)\n",
    "    tensor_numpied = torch.tensor(tensor_data).numpy()\n",
    "    \n",
    "    return tensor_numpied\n",
    "\n",
    "\n",
    "label_data = [\n",
    "    (0, 'Авто-мото'),\n",
    "    (1, 'Аниме'),\n",
    "    (2, 'Аудиокниги'),\n",
    "    (3, 'Бизнес'),\n",
    "    (4, 'Видеоигры'),\n",
    "    (5, 'Интервью'),\n",
    "    (6, 'Искусство'),\n",
    "    (7, 'Кино'),\n",
    "    (8, 'Красота'),\n",
    "    (9, 'Кулинария'),\n",
    "    (10, 'Лайфхаки'),\n",
    "    (11, 'Музыка'),\n",
    "    (12, 'Мультфильмы'),\n",
    "    (13, 'Новости'),\n",
    "    (14, 'Обучение'),\n",
    "    (15, 'Охота и рыбалка'),\n",
    "    (16, 'Политика'),\n",
    "    (17, 'Психология'),\n",
    "    (18, 'Путешествия'),\n",
    "    (19, 'Сериалы'),\n",
    "    (20, 'Спорт'),\n",
    "    (22, 'Юмор'),\n",
    "    (25, 'Лайфстайл'),\n",
    "    (26, 'Недвижимость'),\n",
    "    (27, 'Здоровье'),\n",
    "    (28, 'Природа'),\n",
    "    (29, 'Дизайн'),\n",
    "    (30, 'Техника и оборудование'),\n",
    "    (31, 'Бизнес и предпринимательство'),\n",
    "    (32, 'Культура'),\n",
    "    (33, 'Религия'),\n",
    "    (34, 'Строительство и ремонт'),\n",
    "    (35, 'Сад и огород'),\n",
    "    (36, 'Еда'),\n",
    "    (37, 'Развлечения'),\n",
    "    (38, 'Эзотерика'),\n",
    "    (39, 'Наука'),\n",
    "    (40, 'Аудио'),\n",
    "    (41, 'Технологии и интернет'),\n",
    "    (42, 'Телепередачи'),\n",
    "    (43, 'Детям'),\n",
    "    (44, 'Хобби'),\n",
    "    (45, 'Разное'),\n",
    "    (46, 'Животные'),\n",
    "    (47, 'Новости и СМИ'),\n",
    "    (48, 'Фильмы'),\n",
    "    (49, 'Блогеры')\n",
    "]\n",
    "label_df = pd.DataFrame(label_data, columns=['tag_id', 'tag'])"
   ]
  },
  {
   "cell_type": "markdown",
   "id": "78c46905-c5e7-4816-bbed-7b058044ea42",
   "metadata": {},
   "source": [
    "## X-CLIP"
   ]
  },
  {
   "cell_type": "markdown",
   "id": "b4fccd24-5243-48a0-923f-bd863a40cfe7",
   "metadata": {
    "jp-MarkdownHeadingCollapsed": true
   },
   "source": [
    "### No context"
   ]
  },
  {
   "cell_type": "code",
   "execution_count": null,
   "id": "ea9bcb58-799a-401a-94c7-27765a51dcbb",
   "metadata": {},
   "outputs": [],
   "source": [
    "tag_id_to_index"
   ]
  },
  {
   "cell_type": "code",
   "execution_count": 18,
   "id": "ca394c4b-de27-4b9b-8d08-232c3c970c49",
   "metadata": {},
   "outputs": [],
   "source": [
    "clip_df = pd.read_csv('data/embeddings/x-clip-v2.csv')\n",
    "tag_id_to_index = dict(zip(label_df.tag_id, label_df.index))"
   ]
  },
  {
   "cell_type": "markdown",
   "id": "2a82fc2b-1cbc-49d5-a65c-2ec9fea79aa3",
   "metadata": {},
   "source": [
    "Accuracy of first window"
   ]
  },
  {
   "cell_type": "code",
   "execution_count": 19,
   "id": "923c4954-968f-4c61-bd95-fdbe0840c206",
   "metadata": {},
   "outputs": [
    {
     "name": "stdout",
     "output_type": "stream",
     "text": [
      "Top 1 accuracy: 8.16831683168317\n",
      "Top 5 accuracy: 19.554455445544555\n",
      "Top 10 accuracy: 32.17821782178218\n"
     ]
    }
   ],
   "source": [
    "clip_id_label = clip_df.label.apply(lambda x: tag_id_to_index[x]).values\n",
    "top_n_predictions = np.vstack(clip_df.probs.apply(lambda x: np.argsort(string_to_numpy(x))[0, :][::-1]))\n",
    "\n",
    "print('Top 1 accuracy:', top_k_accuracy(clip_id_label, top_n_predictions, 1) * 100)\n",
    "print('Top 5 accuracy:', top_k_accuracy(clip_id_label, top_n_predictions, 5) * 100)\n",
    "print('Top 10 accuracy:', top_k_accuracy(clip_id_label, top_n_predictions, 10) * 100)"
   ]
  },
  {
   "cell_type": "markdown",
   "id": "85028f12-1bd4-4f88-9255-025f3390ccf6",
   "metadata": {},
   "source": [
    "Accuracy of second window"
   ]
  },
  {
   "cell_type": "code",
   "execution_count": 21,
   "id": "ce3c969f-7afa-4068-aefd-d63e29631d49",
   "metadata": {},
   "outputs": [
    {
     "name": "stdout",
     "output_type": "stream",
     "text": [
      "Top 1 accuracy: 9.158415841584159\n",
      "Top 5 accuracy: 20.049504950495052\n",
      "Top 10 accuracy: 31.18811881188119\n"
     ]
    }
   ],
   "source": [
    "clip_id_label = clip_df.label.apply(lambda x: tag_id_to_index[x]).values\n",
    "top_n_predictions = np.vstack(clip_df.probs.apply(lambda x: np.argsort(string_to_numpy(x))[1, :][::-1]))\n",
    "\n",
    "print('Top 1 accuracy:', top_k_accuracy(clip_id_label, top_n_predictions, 1) * 100)\n",
    "print('Top 5 accuracy:', top_k_accuracy(clip_id_label, top_n_predictions, 5) * 100)\n",
    "print('Top 10 accuracy:', top_k_accuracy(clip_id_label, top_n_predictions, 10) * 100)"
   ]
  },
  {
   "cell_type": "markdown",
   "id": "749a5bf8-8a11-4f28-906a-e9fad0c71e58",
   "metadata": {},
   "source": [
    "Accuracy of third window"
   ]
  },
  {
   "cell_type": "code",
   "execution_count": 22,
   "id": "9d0a0079-0ee2-4b66-92fe-89ef9261a50d",
   "metadata": {},
   "outputs": [
    {
     "name": "stdout",
     "output_type": "stream",
     "text": [
      "Top 1 accuracy: 5.445544554455446\n",
      "Top 5 accuracy: 20.049504950495052\n",
      "Top 10 accuracy: 30.198019801980198\n"
     ]
    }
   ],
   "source": [
    "clip_id_label = clip_df.label.apply(lambda x: tag_id_to_index[x]).values\n",
    "top_n_predictions = np.vstack(clip_df.probs.apply(lambda x: np.argsort(string_to_numpy(x))[2, :][::-1]))\n",
    "\n",
    "print('Top 1 accuracy:', top_k_accuracy(clip_id_label, top_n_predictions, 1) * 100)\n",
    "print('Top 5 accuracy:', top_k_accuracy(clip_id_label, top_n_predictions, 5) * 100)\n",
    "print('Top 10 accuracy:', top_k_accuracy(clip_id_label, top_n_predictions, 10) * 100)"
   ]
  },
  {
   "cell_type": "markdown",
   "id": "5de9b781-207b-48c6-9fac-af44bd49005e",
   "metadata": {},
   "source": [
    "Accuracy of average window"
   ]
  },
  {
   "cell_type": "code",
   "execution_count": 24,
   "id": "e3dd260e-732c-4b61-87b4-dfc53e977140",
   "metadata": {},
   "outputs": [
    {
     "name": "stdout",
     "output_type": "stream",
     "text": [
      "Top 1 accuracy: 3.9603960396039604\n",
      "Top 5 accuracy: 6.9306930693069315\n",
      "Top 10 accuracy: 10.891089108910892\n"
     ]
    }
   ],
   "source": [
    "clip_id_label = clip_df.label.apply(lambda x: tag_id_to_index[x]).values\n",
    "top_n_predictions = np.vstack(clip_df.probs.apply(lambda x: np.argsort(string_to_numpy(x)).mean(axis=0)[::-1]))\n",
    "\n",
    "print('Top 1 accuracy:', top_k_accuracy(clip_id_label, top_n_predictions, 1) * 100)\n",
    "print('Top 5 accuracy:', top_k_accuracy(clip_id_label, top_n_predictions, 5) * 100)\n",
    "print('Top 10 accuracy:', top_k_accuracy(clip_id_label, top_n_predictions, 10) * 100)"
   ]
  },
  {
   "cell_type": "markdown",
   "id": "0005ad0b-cacc-429e-9a84-cf4f043ede33",
   "metadata": {
    "jp-MarkdownHeadingCollapsed": true
   },
   "source": [
    "### ~~Whisper huggingface context~~"
   ]
  },
  {
   "cell_type": "markdown",
   "id": "ef05617f-9cc4-4707-ab26-13f9c476a82e",
   "metadata": {},
   "source": [
    "We need to increase the maximum text size from 77 to 1024\n",
    "\n",
    "So, we have to make some tricks"
   ]
  },
  {
   "cell_type": "code",
   "execution_count": 75,
   "id": "0dc61d32-a65b-41e7-81ae-6bcea8d57b6b",
   "metadata": {},
   "outputs": [],
   "source": [
    "POSITION_EMB_SIZE = 1024\n",
    "\n",
    "\n",
    "model, processor, window_size = instantiate_model(model_name, device)\n",
    "model.text_model.config.max_position_embeddings = POSITION_EMB_SIZE\n",
    "\n",
    "old_embedding = model.text_model.embeddings.position_embedding\n",
    "embedding_dim = old_embedding.weight.shape[1]\n",
    "new_embedding = nn.Embedding(POSITION_EMB_SIZE, embedding_dim).to(device)\n",
    "\n",
    "# Initialize the new embeddings with the old embeddings\n",
    "num_tokens_to_copy = min(old_embedding.weight.shape[0], POSITION_EMB_SIZE)\n",
    "new_embedding.weight.data[:num_tokens_to_copy, :] = old_embedding.weight.data[:num_tokens_to_copy, :]\n",
    "\n",
    "# Replace the model's position embeddings with the new embeddings\n",
    "model.text_model.embeddings.position_embedding = new_embedding\n",
    "\n",
    "processor.tokenizer.model_max_length = POSITION_EMB_SIZE"
   ]
  },
  {
   "cell_type": "code",
   "execution_count": 80,
   "id": "05c7f4f6-f4e6-49fa-babf-b6b2fd98e5a2",
   "metadata": {},
   "outputs": [
    {
     "data": {
      "application/vnd.jupyter.widget-view+json": {
       "model_id": "e3720e559178493b8fdb9f3ad6394719",
       "version_major": 2,
       "version_minor": 0
      },
      "text/plain": [
       "  0%|          | 0/48 [00:00<?, ?it/s]"
      ]
     },
     "metadata": {},
     "output_type": "display_data"
    },
    {
     "name": "stdout",
     "output_type": "stream",
     "text": [
      "True torch.Size([47, 398]) torch.Size([3, 32, 3, 224, 224])\n",
      "An unexpected error occurred:\n",
      "The size of tensor a (398) must match the size of tensor b (77) at non-singleton dimension 1\n"
     ]
    },
    {
     "ename": "RuntimeError",
     "evalue": "The size of tensor a (398) must match the size of tensor b (77) at non-singleton dimension 1",
     "output_type": "error",
     "traceback": [
      "\u001b[0;31m---------------------------------------------------------------------------\u001b[0m",
      "\u001b[0;31mRuntimeError\u001b[0m                              Traceback (most recent call last)",
      "Cell \u001b[0;32mIn[80], line 68\u001b[0m\n\u001b[1;32m     66\u001b[0m \u001b[38;5;28;01mfor\u001b[39;00m video_file \u001b[38;5;129;01min\u001b[39;00m video_files:\n\u001b[1;32m     67\u001b[0m     file_path \u001b[38;5;241m=\u001b[39m os\u001b[38;5;241m.\u001b[39mpath\u001b[38;5;241m.\u001b[39mjoin(fullpath, video_file)\n\u001b[0;32m---> 68\u001b[0m     output \u001b[38;5;241m=\u001b[39m \u001b[43mprocess_video\u001b[49m\u001b[43m(\u001b[49m\n\u001b[1;32m     69\u001b[0m \u001b[43m        \u001b[49m\u001b[43mfile_path\u001b[49m\u001b[43m,\u001b[49m\n\u001b[1;32m     70\u001b[0m \u001b[43m        \u001b[49m\u001b[43mprocessor\u001b[49m\u001b[43m,\u001b[49m\n\u001b[1;32m     71\u001b[0m \u001b[43m        \u001b[49m\u001b[43mmodel\u001b[49m\u001b[43m,\u001b[49m\n\u001b[1;32m     72\u001b[0m \u001b[43m        \u001b[49m\u001b[43mdevice\u001b[49m\u001b[43m,\u001b[49m\n\u001b[1;32m     73\u001b[0m \u001b[43m        \u001b[49m\u001b[43mdesired_frames\u001b[49m\u001b[38;5;241;43m=\u001b[39;49m\u001b[38;5;241;43m96\u001b[39;49m\u001b[43m,\u001b[49m\n\u001b[1;32m     74\u001b[0m \u001b[43m        \u001b[49m\u001b[43mwindow_size\u001b[49m\u001b[38;5;241;43m=\u001b[39;49m\u001b[43mwindow_size\u001b[49m\u001b[43m,\u001b[49m\n\u001b[1;32m     75\u001b[0m \u001b[43m        \u001b[49m\u001b[43mxclip_text_prompt\u001b[49m\u001b[38;5;241;43m=\u001b[39;49m\u001b[43mget_xclip_prompt_with_audio_context\u001b[49m\u001b[43m(\u001b[49m\u001b[43mwhisper_df\u001b[49m\u001b[43m,\u001b[49m\u001b[43m \u001b[49m\u001b[43mvideo_file\u001b[49m\u001b[43m)\u001b[49m\n\u001b[1;32m     76\u001b[0m \u001b[43m    \u001b[49m\u001b[43m)\u001b[49m\n\u001b[1;32m     78\u001b[0m     \u001b[38;5;28;01mif\u001b[39;00m output \u001b[38;5;129;01mis\u001b[39;00m \u001b[38;5;129;01mnot\u001b[39;00m \u001b[38;5;28;01mNone\u001b[39;00m:\n\u001b[1;32m     79\u001b[0m         logging\u001b[38;5;241m.\u001b[39minfo(\u001b[38;5;124mf\u001b[39m\u001b[38;5;124m\"\u001b[39m\u001b[38;5;124mSuccessfully processed video: \u001b[39m\u001b[38;5;132;01m{\u001b[39;00mvideo_file\u001b[38;5;132;01m}\u001b[39;00m\u001b[38;5;124m\"\u001b[39m)\n",
      "Cell \u001b[0;32mIn[79], line 127\u001b[0m, in \u001b[0;36mprocess_video\u001b[0;34m(video_path, image_processor, model, device, desired_frames, window_size, xclip_text_prompt)\u001b[0m\n\u001b[1;32m    125\u001b[0m \u001b[38;5;28mprint\u001b[39m(\u001b[38;5;124m\"\u001b[39m\u001b[38;5;124mAn unexpected error occurred:\u001b[39m\u001b[38;5;124m\"\u001b[39m)\n\u001b[1;32m    126\u001b[0m \u001b[38;5;28mprint\u001b[39m(e)\n\u001b[0;32m--> 127\u001b[0m \u001b[38;5;28;01mraise\u001b[39;00m e\n",
      "Cell \u001b[0;32mIn[79], line 105\u001b[0m, in \u001b[0;36mprocess_video\u001b[0;34m(video_path, image_processor, model, device, desired_frames, window_size, xclip_text_prompt)\u001b[0m\n\u001b[1;32m    103\u001b[0m \u001b[38;5;66;03m# Forward pass\u001b[39;00m\n\u001b[1;32m    104\u001b[0m \u001b[38;5;28;01mwith\u001b[39;00m torch\u001b[38;5;241m.\u001b[39mno_grad():\n\u001b[0;32m--> 105\u001b[0m     outputs \u001b[38;5;241m=\u001b[39m \u001b[43mmodel\u001b[49m\u001b[43m(\u001b[49m\u001b[38;5;241;43m*\u001b[39;49m\u001b[38;5;241;43m*\u001b[39;49m\u001b[43minputs\u001b[49m\u001b[43m)\u001b[49m\n\u001b[1;32m    107\u001b[0m \u001b[38;5;66;03m# Extract desired output\u001b[39;00m\n\u001b[1;32m    108\u001b[0m \u001b[38;5;28;01mif\u001b[39;00m \u001b[38;5;28mhasattr\u001b[39m(outputs, \u001b[38;5;124m'\u001b[39m\u001b[38;5;124mpooler_output\u001b[39m\u001b[38;5;124m'\u001b[39m):\n",
      "File \u001b[0;32m~/Рабочий стол/video-tagging/video-tag/lib/python3.10/site-packages/torch/nn/modules/module.py:1553\u001b[0m, in \u001b[0;36mModule._wrapped_call_impl\u001b[0;34m(self, *args, **kwargs)\u001b[0m\n\u001b[1;32m   1551\u001b[0m     \u001b[38;5;28;01mreturn\u001b[39;00m \u001b[38;5;28mself\u001b[39m\u001b[38;5;241m.\u001b[39m_compiled_call_impl(\u001b[38;5;241m*\u001b[39margs, \u001b[38;5;241m*\u001b[39m\u001b[38;5;241m*\u001b[39mkwargs)  \u001b[38;5;66;03m# type: ignore[misc]\u001b[39;00m\n\u001b[1;32m   1552\u001b[0m \u001b[38;5;28;01melse\u001b[39;00m:\n\u001b[0;32m-> 1553\u001b[0m     \u001b[38;5;28;01mreturn\u001b[39;00m \u001b[38;5;28;43mself\u001b[39;49m\u001b[38;5;241;43m.\u001b[39;49m\u001b[43m_call_impl\u001b[49m\u001b[43m(\u001b[49m\u001b[38;5;241;43m*\u001b[39;49m\u001b[43margs\u001b[49m\u001b[43m,\u001b[49m\u001b[43m \u001b[49m\u001b[38;5;241;43m*\u001b[39;49m\u001b[38;5;241;43m*\u001b[39;49m\u001b[43mkwargs\u001b[49m\u001b[43m)\u001b[49m\n",
      "File \u001b[0;32m~/Рабочий стол/video-tagging/video-tag/lib/python3.10/site-packages/torch/nn/modules/module.py:1562\u001b[0m, in \u001b[0;36mModule._call_impl\u001b[0;34m(self, *args, **kwargs)\u001b[0m\n\u001b[1;32m   1557\u001b[0m \u001b[38;5;66;03m# If we don't have any hooks, we want to skip the rest of the logic in\u001b[39;00m\n\u001b[1;32m   1558\u001b[0m \u001b[38;5;66;03m# this function, and just call forward.\u001b[39;00m\n\u001b[1;32m   1559\u001b[0m \u001b[38;5;28;01mif\u001b[39;00m \u001b[38;5;129;01mnot\u001b[39;00m (\u001b[38;5;28mself\u001b[39m\u001b[38;5;241m.\u001b[39m_backward_hooks \u001b[38;5;129;01mor\u001b[39;00m \u001b[38;5;28mself\u001b[39m\u001b[38;5;241m.\u001b[39m_backward_pre_hooks \u001b[38;5;129;01mor\u001b[39;00m \u001b[38;5;28mself\u001b[39m\u001b[38;5;241m.\u001b[39m_forward_hooks \u001b[38;5;129;01mor\u001b[39;00m \u001b[38;5;28mself\u001b[39m\u001b[38;5;241m.\u001b[39m_forward_pre_hooks\n\u001b[1;32m   1560\u001b[0m         \u001b[38;5;129;01mor\u001b[39;00m _global_backward_pre_hooks \u001b[38;5;129;01mor\u001b[39;00m _global_backward_hooks\n\u001b[1;32m   1561\u001b[0m         \u001b[38;5;129;01mor\u001b[39;00m _global_forward_hooks \u001b[38;5;129;01mor\u001b[39;00m _global_forward_pre_hooks):\n\u001b[0;32m-> 1562\u001b[0m     \u001b[38;5;28;01mreturn\u001b[39;00m \u001b[43mforward_call\u001b[49m\u001b[43m(\u001b[49m\u001b[38;5;241;43m*\u001b[39;49m\u001b[43margs\u001b[49m\u001b[43m,\u001b[49m\u001b[43m \u001b[49m\u001b[38;5;241;43m*\u001b[39;49m\u001b[38;5;241;43m*\u001b[39;49m\u001b[43mkwargs\u001b[49m\u001b[43m)\u001b[49m\n\u001b[1;32m   1564\u001b[0m \u001b[38;5;28;01mtry\u001b[39;00m:\n\u001b[1;32m   1565\u001b[0m     result \u001b[38;5;241m=\u001b[39m \u001b[38;5;28;01mNone\u001b[39;00m\n",
      "File \u001b[0;32m~/Рабочий стол/video-tagging/video-tag/lib/python3.10/site-packages/transformers/models/x_clip/modeling_x_clip.py:1580\u001b[0m, in \u001b[0;36mXCLIPModel.forward\u001b[0;34m(self, input_ids, pixel_values, attention_mask, position_ids, return_loss, output_attentions, output_hidden_states, return_dict)\u001b[0m\n\u001b[1;32m   1577\u001b[0m img_features \u001b[38;5;241m=\u001b[39m img_features\u001b[38;5;241m.\u001b[39mview(batch_size, num_frames, \u001b[38;5;241m-\u001b[39m\u001b[38;5;241m1\u001b[39m, video_embeds\u001b[38;5;241m.\u001b[39mshape[\u001b[38;5;241m-\u001b[39m\u001b[38;5;241m1\u001b[39m])\n\u001b[1;32m   1578\u001b[0m img_features \u001b[38;5;241m=\u001b[39m img_features\u001b[38;5;241m.\u001b[39mmean(dim\u001b[38;5;241m=\u001b[39m\u001b[38;5;241m1\u001b[39m, keepdim\u001b[38;5;241m=\u001b[39m\u001b[38;5;28;01mFalse\u001b[39;00m)\n\u001b[0;32m-> 1580\u001b[0m text_outputs \u001b[38;5;241m=\u001b[39m \u001b[38;5;28;43mself\u001b[39;49m\u001b[38;5;241;43m.\u001b[39;49m\u001b[43mtext_model\u001b[49m\u001b[43m(\u001b[49m\n\u001b[1;32m   1581\u001b[0m \u001b[43m    \u001b[49m\u001b[43minput_ids\u001b[49m\u001b[38;5;241;43m=\u001b[39;49m\u001b[43minput_ids\u001b[49m\u001b[43m,\u001b[49m\n\u001b[1;32m   1582\u001b[0m \u001b[43m    \u001b[49m\u001b[43mattention_mask\u001b[49m\u001b[38;5;241;43m=\u001b[39;49m\u001b[43mattention_mask\u001b[49m\u001b[43m,\u001b[49m\n\u001b[1;32m   1583\u001b[0m \u001b[43m    \u001b[49m\u001b[43mposition_ids\u001b[49m\u001b[38;5;241;43m=\u001b[39;49m\u001b[43mposition_ids\u001b[49m\u001b[43m,\u001b[49m\n\u001b[1;32m   1584\u001b[0m \u001b[43m    \u001b[49m\u001b[43moutput_attentions\u001b[49m\u001b[38;5;241;43m=\u001b[39;49m\u001b[43moutput_attentions\u001b[49m\u001b[43m,\u001b[49m\n\u001b[1;32m   1585\u001b[0m \u001b[43m    \u001b[49m\u001b[43moutput_hidden_states\u001b[49m\u001b[38;5;241;43m=\u001b[39;49m\u001b[43moutput_hidden_states\u001b[49m\u001b[43m,\u001b[49m\n\u001b[1;32m   1586\u001b[0m \u001b[43m    \u001b[49m\u001b[43mreturn_dict\u001b[49m\u001b[38;5;241;43m=\u001b[39;49m\u001b[43mreturn_dict\u001b[49m\u001b[43m,\u001b[49m\n\u001b[1;32m   1587\u001b[0m \u001b[43m\u001b[49m\u001b[43m)\u001b[49m\n\u001b[1;32m   1589\u001b[0m text_embeds \u001b[38;5;241m=\u001b[39m text_outputs[\u001b[38;5;241m1\u001b[39m]\n\u001b[1;32m   1590\u001b[0m text_embeds \u001b[38;5;241m=\u001b[39m \u001b[38;5;28mself\u001b[39m\u001b[38;5;241m.\u001b[39mtext_projection(text_embeds)\n",
      "File \u001b[0;32m~/Рабочий стол/video-tagging/video-tag/lib/python3.10/site-packages/torch/nn/modules/module.py:1553\u001b[0m, in \u001b[0;36mModule._wrapped_call_impl\u001b[0;34m(self, *args, **kwargs)\u001b[0m\n\u001b[1;32m   1551\u001b[0m     \u001b[38;5;28;01mreturn\u001b[39;00m \u001b[38;5;28mself\u001b[39m\u001b[38;5;241m.\u001b[39m_compiled_call_impl(\u001b[38;5;241m*\u001b[39margs, \u001b[38;5;241m*\u001b[39m\u001b[38;5;241m*\u001b[39mkwargs)  \u001b[38;5;66;03m# type: ignore[misc]\u001b[39;00m\n\u001b[1;32m   1552\u001b[0m \u001b[38;5;28;01melse\u001b[39;00m:\n\u001b[0;32m-> 1553\u001b[0m     \u001b[38;5;28;01mreturn\u001b[39;00m \u001b[38;5;28;43mself\u001b[39;49m\u001b[38;5;241;43m.\u001b[39;49m\u001b[43m_call_impl\u001b[49m\u001b[43m(\u001b[49m\u001b[38;5;241;43m*\u001b[39;49m\u001b[43margs\u001b[49m\u001b[43m,\u001b[49m\u001b[43m \u001b[49m\u001b[38;5;241;43m*\u001b[39;49m\u001b[38;5;241;43m*\u001b[39;49m\u001b[43mkwargs\u001b[49m\u001b[43m)\u001b[49m\n",
      "File \u001b[0;32m~/Рабочий стол/video-tagging/video-tag/lib/python3.10/site-packages/torch/nn/modules/module.py:1562\u001b[0m, in \u001b[0;36mModule._call_impl\u001b[0;34m(self, *args, **kwargs)\u001b[0m\n\u001b[1;32m   1557\u001b[0m \u001b[38;5;66;03m# If we don't have any hooks, we want to skip the rest of the logic in\u001b[39;00m\n\u001b[1;32m   1558\u001b[0m \u001b[38;5;66;03m# this function, and just call forward.\u001b[39;00m\n\u001b[1;32m   1559\u001b[0m \u001b[38;5;28;01mif\u001b[39;00m \u001b[38;5;129;01mnot\u001b[39;00m (\u001b[38;5;28mself\u001b[39m\u001b[38;5;241m.\u001b[39m_backward_hooks \u001b[38;5;129;01mor\u001b[39;00m \u001b[38;5;28mself\u001b[39m\u001b[38;5;241m.\u001b[39m_backward_pre_hooks \u001b[38;5;129;01mor\u001b[39;00m \u001b[38;5;28mself\u001b[39m\u001b[38;5;241m.\u001b[39m_forward_hooks \u001b[38;5;129;01mor\u001b[39;00m \u001b[38;5;28mself\u001b[39m\u001b[38;5;241m.\u001b[39m_forward_pre_hooks\n\u001b[1;32m   1560\u001b[0m         \u001b[38;5;129;01mor\u001b[39;00m _global_backward_pre_hooks \u001b[38;5;129;01mor\u001b[39;00m _global_backward_hooks\n\u001b[1;32m   1561\u001b[0m         \u001b[38;5;129;01mor\u001b[39;00m _global_forward_hooks \u001b[38;5;129;01mor\u001b[39;00m _global_forward_pre_hooks):\n\u001b[0;32m-> 1562\u001b[0m     \u001b[38;5;28;01mreturn\u001b[39;00m \u001b[43mforward_call\u001b[49m\u001b[43m(\u001b[49m\u001b[38;5;241;43m*\u001b[39;49m\u001b[43margs\u001b[49m\u001b[43m,\u001b[49m\u001b[43m \u001b[49m\u001b[38;5;241;43m*\u001b[39;49m\u001b[38;5;241;43m*\u001b[39;49m\u001b[43mkwargs\u001b[49m\u001b[43m)\u001b[49m\n\u001b[1;32m   1564\u001b[0m \u001b[38;5;28;01mtry\u001b[39;00m:\n\u001b[1;32m   1565\u001b[0m     result \u001b[38;5;241m=\u001b[39m \u001b[38;5;28;01mNone\u001b[39;00m\n",
      "File \u001b[0;32m~/Рабочий стол/video-tagging/video-tag/lib/python3.10/site-packages/transformers/models/x_clip/modeling_x_clip.py:746\u001b[0m, in \u001b[0;36mXCLIPTextTransformer.forward\u001b[0;34m(self, input_ids, attention_mask, position_ids, output_attentions, output_hidden_states, return_dict)\u001b[0m\n\u001b[1;32m    743\u001b[0m input_shape \u001b[38;5;241m=\u001b[39m input_ids\u001b[38;5;241m.\u001b[39msize()\n\u001b[1;32m    744\u001b[0m input_ids \u001b[38;5;241m=\u001b[39m input_ids\u001b[38;5;241m.\u001b[39mview(\u001b[38;5;241m-\u001b[39m\u001b[38;5;241m1\u001b[39m, input_shape[\u001b[38;5;241m-\u001b[39m\u001b[38;5;241m1\u001b[39m])\n\u001b[0;32m--> 746\u001b[0m hidden_states \u001b[38;5;241m=\u001b[39m \u001b[38;5;28;43mself\u001b[39;49m\u001b[38;5;241;43m.\u001b[39;49m\u001b[43membeddings\u001b[49m\u001b[43m(\u001b[49m\u001b[43minput_ids\u001b[49m\u001b[38;5;241;43m=\u001b[39;49m\u001b[43minput_ids\u001b[49m\u001b[43m,\u001b[49m\u001b[43m \u001b[49m\u001b[43mposition_ids\u001b[49m\u001b[38;5;241;43m=\u001b[39;49m\u001b[43mposition_ids\u001b[49m\u001b[43m)\u001b[49m\n\u001b[1;32m    748\u001b[0m \u001b[38;5;66;03m# X_CLIP's text model uses causal mask, prepare it here.\u001b[39;00m\n\u001b[1;32m    749\u001b[0m \u001b[38;5;66;03m# https://github.com/openai/CLIP/blob/cfcffb90e69f37bf2ff1e988237a0fbe41f33c04/clip/model.py#L324\u001b[39;00m\n\u001b[1;32m    750\u001b[0m causal_attention_mask \u001b[38;5;241m=\u001b[39m _create_4d_causal_attention_mask(\n\u001b[1;32m    751\u001b[0m     input_shape, hidden_states\u001b[38;5;241m.\u001b[39mdtype, device\u001b[38;5;241m=\u001b[39mhidden_states\u001b[38;5;241m.\u001b[39mdevice\n\u001b[1;32m    752\u001b[0m )\n",
      "File \u001b[0;32m~/Рабочий стол/video-tagging/video-tag/lib/python3.10/site-packages/torch/nn/modules/module.py:1553\u001b[0m, in \u001b[0;36mModule._wrapped_call_impl\u001b[0;34m(self, *args, **kwargs)\u001b[0m\n\u001b[1;32m   1551\u001b[0m     \u001b[38;5;28;01mreturn\u001b[39;00m \u001b[38;5;28mself\u001b[39m\u001b[38;5;241m.\u001b[39m_compiled_call_impl(\u001b[38;5;241m*\u001b[39margs, \u001b[38;5;241m*\u001b[39m\u001b[38;5;241m*\u001b[39mkwargs)  \u001b[38;5;66;03m# type: ignore[misc]\u001b[39;00m\n\u001b[1;32m   1552\u001b[0m \u001b[38;5;28;01melse\u001b[39;00m:\n\u001b[0;32m-> 1553\u001b[0m     \u001b[38;5;28;01mreturn\u001b[39;00m \u001b[38;5;28;43mself\u001b[39;49m\u001b[38;5;241;43m.\u001b[39;49m\u001b[43m_call_impl\u001b[49m\u001b[43m(\u001b[49m\u001b[38;5;241;43m*\u001b[39;49m\u001b[43margs\u001b[49m\u001b[43m,\u001b[49m\u001b[43m \u001b[49m\u001b[38;5;241;43m*\u001b[39;49m\u001b[38;5;241;43m*\u001b[39;49m\u001b[43mkwargs\u001b[49m\u001b[43m)\u001b[49m\n",
      "File \u001b[0;32m~/Рабочий стол/video-tagging/video-tag/lib/python3.10/site-packages/torch/nn/modules/module.py:1562\u001b[0m, in \u001b[0;36mModule._call_impl\u001b[0;34m(self, *args, **kwargs)\u001b[0m\n\u001b[1;32m   1557\u001b[0m \u001b[38;5;66;03m# If we don't have any hooks, we want to skip the rest of the logic in\u001b[39;00m\n\u001b[1;32m   1558\u001b[0m \u001b[38;5;66;03m# this function, and just call forward.\u001b[39;00m\n\u001b[1;32m   1559\u001b[0m \u001b[38;5;28;01mif\u001b[39;00m \u001b[38;5;129;01mnot\u001b[39;00m (\u001b[38;5;28mself\u001b[39m\u001b[38;5;241m.\u001b[39m_backward_hooks \u001b[38;5;129;01mor\u001b[39;00m \u001b[38;5;28mself\u001b[39m\u001b[38;5;241m.\u001b[39m_backward_pre_hooks \u001b[38;5;129;01mor\u001b[39;00m \u001b[38;5;28mself\u001b[39m\u001b[38;5;241m.\u001b[39m_forward_hooks \u001b[38;5;129;01mor\u001b[39;00m \u001b[38;5;28mself\u001b[39m\u001b[38;5;241m.\u001b[39m_forward_pre_hooks\n\u001b[1;32m   1560\u001b[0m         \u001b[38;5;129;01mor\u001b[39;00m _global_backward_pre_hooks \u001b[38;5;129;01mor\u001b[39;00m _global_backward_hooks\n\u001b[1;32m   1561\u001b[0m         \u001b[38;5;129;01mor\u001b[39;00m _global_forward_hooks \u001b[38;5;129;01mor\u001b[39;00m _global_forward_pre_hooks):\n\u001b[0;32m-> 1562\u001b[0m     \u001b[38;5;28;01mreturn\u001b[39;00m \u001b[43mforward_call\u001b[49m\u001b[43m(\u001b[49m\u001b[38;5;241;43m*\u001b[39;49m\u001b[43margs\u001b[49m\u001b[43m,\u001b[49m\u001b[43m \u001b[49m\u001b[38;5;241;43m*\u001b[39;49m\u001b[38;5;241;43m*\u001b[39;49m\u001b[43mkwargs\u001b[49m\u001b[43m)\u001b[49m\n\u001b[1;32m   1564\u001b[0m \u001b[38;5;28;01mtry\u001b[39;00m:\n\u001b[1;32m   1565\u001b[0m     result \u001b[38;5;241m=\u001b[39m \u001b[38;5;28;01mNone\u001b[39;00m\n",
      "File \u001b[0;32m~/Рабочий стол/video-tagging/video-tag/lib/python3.10/site-packages/transformers/models/x_clip/modeling_x_clip.py:165\u001b[0m, in \u001b[0;36mXCLIPTextEmbeddings.forward\u001b[0;34m(self, input_ids, position_ids, inputs_embeds)\u001b[0m\n\u001b[1;32m    162\u001b[0m     inputs_embeds \u001b[38;5;241m=\u001b[39m \u001b[38;5;28mself\u001b[39m\u001b[38;5;241m.\u001b[39mtoken_embedding(input_ids)\n\u001b[1;32m    164\u001b[0m position_embeddings \u001b[38;5;241m=\u001b[39m \u001b[38;5;28mself\u001b[39m\u001b[38;5;241m.\u001b[39mposition_embedding(position_ids)\n\u001b[0;32m--> 165\u001b[0m embeddings \u001b[38;5;241m=\u001b[39m \u001b[43minputs_embeds\u001b[49m\u001b[43m \u001b[49m\u001b[38;5;241;43m+\u001b[39;49m\u001b[43m \u001b[49m\u001b[43mposition_embeddings\u001b[49m\n\u001b[1;32m    167\u001b[0m \u001b[38;5;28;01mreturn\u001b[39;00m embeddings\n",
      "\u001b[0;31mRuntimeError\u001b[0m: The size of tensor a (398) must match the size of tensor b (77) at non-singleton dimension 1"
     ]
    }
   ],
   "source": [
    "def extract_category_id(ctgry: str) -> int:\n",
    "    return int(float(ctgry[:3]))\n",
    "\n",
    "\n",
    "def extract_text_by_video_name(whisper_df: pd.DataFrame, videoname: str):\n",
    "    if videoname not in whisper_df.videoname.values:\n",
    "        print(f\"Такого видео не существует: {videoname}\")\n",
    "        return None\n",
    "    \n",
    "    text = whisper_df[whisper_df.videoname == videoname]['text']\n",
    "\n",
    "    if text is None or text is np.nan or text is pd.NA:\n",
    "        return None\n",
    "    else:\n",
    "        return text.values[0]\n",
    "\n",
    "\n",
    "def get_xclip_prompt_with_audio_context(whisper_df: pd.DataFrame, videoname: str):\n",
    "    text = extract_text_by_video_name(whisper_df, videoname)\n",
    "\n",
    "    if text is None:\n",
    "        return RUS_TEXT_PROMPT\n",
    "    else:\n",
    "        return [f\"Видео субтитры: '{text}'. \" + x for x in RUS_TEXT_PROMPT]\n",
    "\n",
    "\n",
    "def postprocess_model_and_processor(model, processor, device):\n",
    "    POSITION_EMB_SIZE = 1024\n",
    "\n",
    "    model, processor, window_size = instantiate_model(model_name, device)\n",
    "    model.text_model.config.max_position_embeddings = POSITION_EMB_SIZE\n",
    "    \n",
    "    old_embedding = model.text_model.embeddings.position_embedding\n",
    "    embedding_dim = old_embedding.weight.shape[1]\n",
    "    new_embedding = nn.Embedding(POSITION_EMB_SIZE, embedding_dim).to(device)\n",
    "    \n",
    "    # Initialize the new embeddings with the old embeddings\n",
    "    num_tokens_to_copy = min(old_embedding.weight.shape[0], POSITION_EMB_SIZE)\n",
    "    new_embedding.weight.data[:num_tokens_to_copy, :] = old_embedding.weight.data[:num_tokens_to_copy, :]\n",
    "    \n",
    "    # Replace the model's position embeddings with the new embeddings\n",
    "    model.text_model.embeddings.position_embedding = new_embedding\n",
    "    processor.tokenizer.model_max_length = POSITION_EMB_SIZE\n",
    "\n",
    "    return model, processor\n",
    "\n",
    "\n",
    "DATA_DIR = './data'\n",
    "model_name = 'x-clip'\n",
    "device = 'cuda' if torch.cuda.is_available() else 'cpu'\n",
    "model, processor, window_size = instantiate_model(model_name, device)\n",
    "model, processor = postprocess_model_and_processor(model, processor, device)\n",
    "embeddings_xclip = []\n",
    "\n",
    "whisper_df = pd.read_csv('data/embeddings/whisper.csv')\n",
    "\n",
    "for data_subdir in tqdm.tqdm(os.listdir(DATA_DIR)):\n",
    "    fullpath = os.path.join(DATA_DIR, data_subdir)\n",
    "\n",
    "    if not os.path.isdir(fullpath):\n",
    "        continue\n",
    "    \n",
    "    video_files = [f for f in os.listdir(fullpath) if f.lower().endswith('.mp4')]\n",
    "    logging.info(f\"Found {len(video_files)} video(s) in directory '{data_subdir}'.\")\n",
    "    \n",
    "    for video_file in video_files:\n",
    "        file_path = os.path.join(fullpath, video_file)\n",
    "        output = process_video(\n",
    "            file_path,\n",
    "            processor,\n",
    "            model,\n",
    "            device,\n",
    "            desired_frames=96,\n",
    "            window_size=window_size,\n",
    "            xclip_text_prompt=get_xclip_prompt_with_audio_context(whisper_df, video_file)\n",
    "        )\n",
    "        \n",
    "        if output is not None:\n",
    "            logging.info(f\"Successfully processed video: {video_file}\")\n",
    "            embeddings_xclip.append((video_file, extract_category_id(data_subdir), output[0], output[1]))\n",
    "        else:\n",
    "            logging.warning(f\"Failed to process video: {video_file}\")\n",
    "\n",
    "xclip_df = pd.DataFrame(data=embeddings_xclip, columns=['videoname', 'label', 'emb', 'probs'])\n",
    "xclip_df.to_csv('data/embeddings/x-clip-whisper.csv', index=False)"
   ]
  },
  {
   "cell_type": "code",
   "execution_count": 74,
   "id": "5ef5bb0e-d91c-4bef-b127-67429831f2a6",
   "metadata": {},
   "outputs": [
    {
     "name": "stdout",
     "output_type": "stream",
     "text": [
      "True torch.Size([47, 398]) torch.Size([3, 32, 3, 224, 224])\n",
      "An unexpected error occurred:\n",
      "The size of tensor a (398) must match the size of tensor b (77) at non-singleton dimension 1\n"
     ]
    },
    {
     "ename": "RuntimeError",
     "evalue": "The size of tensor a (398) must match the size of tensor b (77) at non-singleton dimension 1",
     "output_type": "error",
     "traceback": [
      "\u001b[0;31m---------------------------------------------------------------------------\u001b[0m",
      "\u001b[0;31mRuntimeError\u001b[0m                              Traceback (most recent call last)",
      "Cell \u001b[0;32mIn[74], line 4\u001b[0m\n\u001b[1;32m      1\u001b[0m new_text_prompt \u001b[38;5;241m=\u001b[39m get_xclip_prompt_with_audio_context(whisper_df, \u001b[38;5;124m\"\u001b[39m\u001b[38;5;124m2d102489e381cb2dc28395d3a76771b1.mp4\u001b[39m\u001b[38;5;124m\"\u001b[39m)\n\u001b[1;32m      2\u001b[0m video_path \u001b[38;5;241m=\u001b[39m \u001b[38;5;124m\"\u001b[39m\u001b[38;5;124m./data/48.0_films/2d102489e381cb2dc28395d3a76771b1.mp4\u001b[39m\u001b[38;5;124m\"\u001b[39m\n\u001b[0;32m----> 4\u001b[0m \u001b[43mprocess_video\u001b[49m\u001b[43m(\u001b[49m\n\u001b[1;32m      5\u001b[0m \u001b[43m    \u001b[49m\u001b[43mvideo_path\u001b[49m\u001b[43m,\u001b[49m\n\u001b[1;32m      6\u001b[0m \u001b[43m    \u001b[49m\u001b[43mprocessor\u001b[49m\u001b[43m,\u001b[49m\n\u001b[1;32m      7\u001b[0m \u001b[43m    \u001b[49m\u001b[43mmodel\u001b[49m\u001b[43m,\u001b[49m\n\u001b[1;32m      8\u001b[0m \u001b[43m    \u001b[49m\u001b[43mdevice\u001b[49m\u001b[43m,\u001b[49m\n\u001b[1;32m      9\u001b[0m \u001b[43m    \u001b[49m\u001b[43mxclip_text_prompt\u001b[49m\u001b[38;5;241;43m=\u001b[39;49m\u001b[43mnew_text_prompt\u001b[49m\n\u001b[1;32m     10\u001b[0m \u001b[43m)\u001b[49m\n",
      "Cell \u001b[0;32mIn[73], line 126\u001b[0m, in \u001b[0;36mprocess_video\u001b[0;34m(video_path, image_processor, model, device, desired_frames, window_size, xclip_text_prompt)\u001b[0m\n\u001b[1;32m    124\u001b[0m \u001b[38;5;28mprint\u001b[39m(\u001b[38;5;124m\"\u001b[39m\u001b[38;5;124mAn unexpected error occurred:\u001b[39m\u001b[38;5;124m\"\u001b[39m)\n\u001b[1;32m    125\u001b[0m \u001b[38;5;28mprint\u001b[39m(e)\n\u001b[0;32m--> 126\u001b[0m \u001b[38;5;28;01mraise\u001b[39;00m e\n",
      "Cell \u001b[0;32mIn[73], line 104\u001b[0m, in \u001b[0;36mprocess_video\u001b[0;34m(video_path, image_processor, model, device, desired_frames, window_size, xclip_text_prompt)\u001b[0m\n\u001b[1;32m    102\u001b[0m \u001b[38;5;66;03m# Forward pass\u001b[39;00m\n\u001b[1;32m    103\u001b[0m \u001b[38;5;28;01mwith\u001b[39;00m torch\u001b[38;5;241m.\u001b[39mno_grad():\n\u001b[0;32m--> 104\u001b[0m     outputs \u001b[38;5;241m=\u001b[39m \u001b[43mmodel\u001b[49m\u001b[43m(\u001b[49m\u001b[38;5;241;43m*\u001b[39;49m\u001b[38;5;241;43m*\u001b[39;49m\u001b[43minputs\u001b[49m\u001b[43m)\u001b[49m\n\u001b[1;32m    106\u001b[0m \u001b[38;5;66;03m# Extract desired output\u001b[39;00m\n\u001b[1;32m    107\u001b[0m \u001b[38;5;28;01mif\u001b[39;00m \u001b[38;5;28mhasattr\u001b[39m(outputs, \u001b[38;5;124m'\u001b[39m\u001b[38;5;124mpooler_output\u001b[39m\u001b[38;5;124m'\u001b[39m):\n",
      "File \u001b[0;32m~/Рабочий стол/video-tagging/video-tag/lib/python3.10/site-packages/torch/nn/modules/module.py:1553\u001b[0m, in \u001b[0;36mModule._wrapped_call_impl\u001b[0;34m(self, *args, **kwargs)\u001b[0m\n\u001b[1;32m   1551\u001b[0m     \u001b[38;5;28;01mreturn\u001b[39;00m \u001b[38;5;28mself\u001b[39m\u001b[38;5;241m.\u001b[39m_compiled_call_impl(\u001b[38;5;241m*\u001b[39margs, \u001b[38;5;241m*\u001b[39m\u001b[38;5;241m*\u001b[39mkwargs)  \u001b[38;5;66;03m# type: ignore[misc]\u001b[39;00m\n\u001b[1;32m   1552\u001b[0m \u001b[38;5;28;01melse\u001b[39;00m:\n\u001b[0;32m-> 1553\u001b[0m     \u001b[38;5;28;01mreturn\u001b[39;00m \u001b[38;5;28;43mself\u001b[39;49m\u001b[38;5;241;43m.\u001b[39;49m\u001b[43m_call_impl\u001b[49m\u001b[43m(\u001b[49m\u001b[38;5;241;43m*\u001b[39;49m\u001b[43margs\u001b[49m\u001b[43m,\u001b[49m\u001b[43m \u001b[49m\u001b[38;5;241;43m*\u001b[39;49m\u001b[38;5;241;43m*\u001b[39;49m\u001b[43mkwargs\u001b[49m\u001b[43m)\u001b[49m\n",
      "File \u001b[0;32m~/Рабочий стол/video-tagging/video-tag/lib/python3.10/site-packages/torch/nn/modules/module.py:1562\u001b[0m, in \u001b[0;36mModule._call_impl\u001b[0;34m(self, *args, **kwargs)\u001b[0m\n\u001b[1;32m   1557\u001b[0m \u001b[38;5;66;03m# If we don't have any hooks, we want to skip the rest of the logic in\u001b[39;00m\n\u001b[1;32m   1558\u001b[0m \u001b[38;5;66;03m# this function, and just call forward.\u001b[39;00m\n\u001b[1;32m   1559\u001b[0m \u001b[38;5;28;01mif\u001b[39;00m \u001b[38;5;129;01mnot\u001b[39;00m (\u001b[38;5;28mself\u001b[39m\u001b[38;5;241m.\u001b[39m_backward_hooks \u001b[38;5;129;01mor\u001b[39;00m \u001b[38;5;28mself\u001b[39m\u001b[38;5;241m.\u001b[39m_backward_pre_hooks \u001b[38;5;129;01mor\u001b[39;00m \u001b[38;5;28mself\u001b[39m\u001b[38;5;241m.\u001b[39m_forward_hooks \u001b[38;5;129;01mor\u001b[39;00m \u001b[38;5;28mself\u001b[39m\u001b[38;5;241m.\u001b[39m_forward_pre_hooks\n\u001b[1;32m   1560\u001b[0m         \u001b[38;5;129;01mor\u001b[39;00m _global_backward_pre_hooks \u001b[38;5;129;01mor\u001b[39;00m _global_backward_hooks\n\u001b[1;32m   1561\u001b[0m         \u001b[38;5;129;01mor\u001b[39;00m _global_forward_hooks \u001b[38;5;129;01mor\u001b[39;00m _global_forward_pre_hooks):\n\u001b[0;32m-> 1562\u001b[0m     \u001b[38;5;28;01mreturn\u001b[39;00m \u001b[43mforward_call\u001b[49m\u001b[43m(\u001b[49m\u001b[38;5;241;43m*\u001b[39;49m\u001b[43margs\u001b[49m\u001b[43m,\u001b[49m\u001b[43m \u001b[49m\u001b[38;5;241;43m*\u001b[39;49m\u001b[38;5;241;43m*\u001b[39;49m\u001b[43mkwargs\u001b[49m\u001b[43m)\u001b[49m\n\u001b[1;32m   1564\u001b[0m \u001b[38;5;28;01mtry\u001b[39;00m:\n\u001b[1;32m   1565\u001b[0m     result \u001b[38;5;241m=\u001b[39m \u001b[38;5;28;01mNone\u001b[39;00m\n",
      "File \u001b[0;32m~/Рабочий стол/video-tagging/video-tag/lib/python3.10/site-packages/transformers/models/x_clip/modeling_x_clip.py:1580\u001b[0m, in \u001b[0;36mXCLIPModel.forward\u001b[0;34m(self, input_ids, pixel_values, attention_mask, position_ids, return_loss, output_attentions, output_hidden_states, return_dict)\u001b[0m\n\u001b[1;32m   1577\u001b[0m img_features \u001b[38;5;241m=\u001b[39m img_features\u001b[38;5;241m.\u001b[39mview(batch_size, num_frames, \u001b[38;5;241m-\u001b[39m\u001b[38;5;241m1\u001b[39m, video_embeds\u001b[38;5;241m.\u001b[39mshape[\u001b[38;5;241m-\u001b[39m\u001b[38;5;241m1\u001b[39m])\n\u001b[1;32m   1578\u001b[0m img_features \u001b[38;5;241m=\u001b[39m img_features\u001b[38;5;241m.\u001b[39mmean(dim\u001b[38;5;241m=\u001b[39m\u001b[38;5;241m1\u001b[39m, keepdim\u001b[38;5;241m=\u001b[39m\u001b[38;5;28;01mFalse\u001b[39;00m)\n\u001b[0;32m-> 1580\u001b[0m text_outputs \u001b[38;5;241m=\u001b[39m \u001b[38;5;28;43mself\u001b[39;49m\u001b[38;5;241;43m.\u001b[39;49m\u001b[43mtext_model\u001b[49m\u001b[43m(\u001b[49m\n\u001b[1;32m   1581\u001b[0m \u001b[43m    \u001b[49m\u001b[43minput_ids\u001b[49m\u001b[38;5;241;43m=\u001b[39;49m\u001b[43minput_ids\u001b[49m\u001b[43m,\u001b[49m\n\u001b[1;32m   1582\u001b[0m \u001b[43m    \u001b[49m\u001b[43mattention_mask\u001b[49m\u001b[38;5;241;43m=\u001b[39;49m\u001b[43mattention_mask\u001b[49m\u001b[43m,\u001b[49m\n\u001b[1;32m   1583\u001b[0m \u001b[43m    \u001b[49m\u001b[43mposition_ids\u001b[49m\u001b[38;5;241;43m=\u001b[39;49m\u001b[43mposition_ids\u001b[49m\u001b[43m,\u001b[49m\n\u001b[1;32m   1584\u001b[0m \u001b[43m    \u001b[49m\u001b[43moutput_attentions\u001b[49m\u001b[38;5;241;43m=\u001b[39;49m\u001b[43moutput_attentions\u001b[49m\u001b[43m,\u001b[49m\n\u001b[1;32m   1585\u001b[0m \u001b[43m    \u001b[49m\u001b[43moutput_hidden_states\u001b[49m\u001b[38;5;241;43m=\u001b[39;49m\u001b[43moutput_hidden_states\u001b[49m\u001b[43m,\u001b[49m\n\u001b[1;32m   1586\u001b[0m \u001b[43m    \u001b[49m\u001b[43mreturn_dict\u001b[49m\u001b[38;5;241;43m=\u001b[39;49m\u001b[43mreturn_dict\u001b[49m\u001b[43m,\u001b[49m\n\u001b[1;32m   1587\u001b[0m \u001b[43m\u001b[49m\u001b[43m)\u001b[49m\n\u001b[1;32m   1589\u001b[0m text_embeds \u001b[38;5;241m=\u001b[39m text_outputs[\u001b[38;5;241m1\u001b[39m]\n\u001b[1;32m   1590\u001b[0m text_embeds \u001b[38;5;241m=\u001b[39m \u001b[38;5;28mself\u001b[39m\u001b[38;5;241m.\u001b[39mtext_projection(text_embeds)\n",
      "File \u001b[0;32m~/Рабочий стол/video-tagging/video-tag/lib/python3.10/site-packages/torch/nn/modules/module.py:1553\u001b[0m, in \u001b[0;36mModule._wrapped_call_impl\u001b[0;34m(self, *args, **kwargs)\u001b[0m\n\u001b[1;32m   1551\u001b[0m     \u001b[38;5;28;01mreturn\u001b[39;00m \u001b[38;5;28mself\u001b[39m\u001b[38;5;241m.\u001b[39m_compiled_call_impl(\u001b[38;5;241m*\u001b[39margs, \u001b[38;5;241m*\u001b[39m\u001b[38;5;241m*\u001b[39mkwargs)  \u001b[38;5;66;03m# type: ignore[misc]\u001b[39;00m\n\u001b[1;32m   1552\u001b[0m \u001b[38;5;28;01melse\u001b[39;00m:\n\u001b[0;32m-> 1553\u001b[0m     \u001b[38;5;28;01mreturn\u001b[39;00m \u001b[38;5;28;43mself\u001b[39;49m\u001b[38;5;241;43m.\u001b[39;49m\u001b[43m_call_impl\u001b[49m\u001b[43m(\u001b[49m\u001b[38;5;241;43m*\u001b[39;49m\u001b[43margs\u001b[49m\u001b[43m,\u001b[49m\u001b[43m \u001b[49m\u001b[38;5;241;43m*\u001b[39;49m\u001b[38;5;241;43m*\u001b[39;49m\u001b[43mkwargs\u001b[49m\u001b[43m)\u001b[49m\n",
      "File \u001b[0;32m~/Рабочий стол/video-tagging/video-tag/lib/python3.10/site-packages/torch/nn/modules/module.py:1562\u001b[0m, in \u001b[0;36mModule._call_impl\u001b[0;34m(self, *args, **kwargs)\u001b[0m\n\u001b[1;32m   1557\u001b[0m \u001b[38;5;66;03m# If we don't have any hooks, we want to skip the rest of the logic in\u001b[39;00m\n\u001b[1;32m   1558\u001b[0m \u001b[38;5;66;03m# this function, and just call forward.\u001b[39;00m\n\u001b[1;32m   1559\u001b[0m \u001b[38;5;28;01mif\u001b[39;00m \u001b[38;5;129;01mnot\u001b[39;00m (\u001b[38;5;28mself\u001b[39m\u001b[38;5;241m.\u001b[39m_backward_hooks \u001b[38;5;129;01mor\u001b[39;00m \u001b[38;5;28mself\u001b[39m\u001b[38;5;241m.\u001b[39m_backward_pre_hooks \u001b[38;5;129;01mor\u001b[39;00m \u001b[38;5;28mself\u001b[39m\u001b[38;5;241m.\u001b[39m_forward_hooks \u001b[38;5;129;01mor\u001b[39;00m \u001b[38;5;28mself\u001b[39m\u001b[38;5;241m.\u001b[39m_forward_pre_hooks\n\u001b[1;32m   1560\u001b[0m         \u001b[38;5;129;01mor\u001b[39;00m _global_backward_pre_hooks \u001b[38;5;129;01mor\u001b[39;00m _global_backward_hooks\n\u001b[1;32m   1561\u001b[0m         \u001b[38;5;129;01mor\u001b[39;00m _global_forward_hooks \u001b[38;5;129;01mor\u001b[39;00m _global_forward_pre_hooks):\n\u001b[0;32m-> 1562\u001b[0m     \u001b[38;5;28;01mreturn\u001b[39;00m \u001b[43mforward_call\u001b[49m\u001b[43m(\u001b[49m\u001b[38;5;241;43m*\u001b[39;49m\u001b[43margs\u001b[49m\u001b[43m,\u001b[49m\u001b[43m \u001b[49m\u001b[38;5;241;43m*\u001b[39;49m\u001b[38;5;241;43m*\u001b[39;49m\u001b[43mkwargs\u001b[49m\u001b[43m)\u001b[49m\n\u001b[1;32m   1564\u001b[0m \u001b[38;5;28;01mtry\u001b[39;00m:\n\u001b[1;32m   1565\u001b[0m     result \u001b[38;5;241m=\u001b[39m \u001b[38;5;28;01mNone\u001b[39;00m\n",
      "File \u001b[0;32m~/Рабочий стол/video-tagging/video-tag/lib/python3.10/site-packages/transformers/models/x_clip/modeling_x_clip.py:746\u001b[0m, in \u001b[0;36mXCLIPTextTransformer.forward\u001b[0;34m(self, input_ids, attention_mask, position_ids, output_attentions, output_hidden_states, return_dict)\u001b[0m\n\u001b[1;32m    743\u001b[0m input_shape \u001b[38;5;241m=\u001b[39m input_ids\u001b[38;5;241m.\u001b[39msize()\n\u001b[1;32m    744\u001b[0m input_ids \u001b[38;5;241m=\u001b[39m input_ids\u001b[38;5;241m.\u001b[39mview(\u001b[38;5;241m-\u001b[39m\u001b[38;5;241m1\u001b[39m, input_shape[\u001b[38;5;241m-\u001b[39m\u001b[38;5;241m1\u001b[39m])\n\u001b[0;32m--> 746\u001b[0m hidden_states \u001b[38;5;241m=\u001b[39m \u001b[38;5;28;43mself\u001b[39;49m\u001b[38;5;241;43m.\u001b[39;49m\u001b[43membeddings\u001b[49m\u001b[43m(\u001b[49m\u001b[43minput_ids\u001b[49m\u001b[38;5;241;43m=\u001b[39;49m\u001b[43minput_ids\u001b[49m\u001b[43m,\u001b[49m\u001b[43m \u001b[49m\u001b[43mposition_ids\u001b[49m\u001b[38;5;241;43m=\u001b[39;49m\u001b[43mposition_ids\u001b[49m\u001b[43m)\u001b[49m\n\u001b[1;32m    748\u001b[0m \u001b[38;5;66;03m# X_CLIP's text model uses causal mask, prepare it here.\u001b[39;00m\n\u001b[1;32m    749\u001b[0m \u001b[38;5;66;03m# https://github.com/openai/CLIP/blob/cfcffb90e69f37bf2ff1e988237a0fbe41f33c04/clip/model.py#L324\u001b[39;00m\n\u001b[1;32m    750\u001b[0m causal_attention_mask \u001b[38;5;241m=\u001b[39m _create_4d_causal_attention_mask(\n\u001b[1;32m    751\u001b[0m     input_shape, hidden_states\u001b[38;5;241m.\u001b[39mdtype, device\u001b[38;5;241m=\u001b[39mhidden_states\u001b[38;5;241m.\u001b[39mdevice\n\u001b[1;32m    752\u001b[0m )\n",
      "File \u001b[0;32m~/Рабочий стол/video-tagging/video-tag/lib/python3.10/site-packages/torch/nn/modules/module.py:1553\u001b[0m, in \u001b[0;36mModule._wrapped_call_impl\u001b[0;34m(self, *args, **kwargs)\u001b[0m\n\u001b[1;32m   1551\u001b[0m     \u001b[38;5;28;01mreturn\u001b[39;00m \u001b[38;5;28mself\u001b[39m\u001b[38;5;241m.\u001b[39m_compiled_call_impl(\u001b[38;5;241m*\u001b[39margs, \u001b[38;5;241m*\u001b[39m\u001b[38;5;241m*\u001b[39mkwargs)  \u001b[38;5;66;03m# type: ignore[misc]\u001b[39;00m\n\u001b[1;32m   1552\u001b[0m \u001b[38;5;28;01melse\u001b[39;00m:\n\u001b[0;32m-> 1553\u001b[0m     \u001b[38;5;28;01mreturn\u001b[39;00m \u001b[38;5;28;43mself\u001b[39;49m\u001b[38;5;241;43m.\u001b[39;49m\u001b[43m_call_impl\u001b[49m\u001b[43m(\u001b[49m\u001b[38;5;241;43m*\u001b[39;49m\u001b[43margs\u001b[49m\u001b[43m,\u001b[49m\u001b[43m \u001b[49m\u001b[38;5;241;43m*\u001b[39;49m\u001b[38;5;241;43m*\u001b[39;49m\u001b[43mkwargs\u001b[49m\u001b[43m)\u001b[49m\n",
      "File \u001b[0;32m~/Рабочий стол/video-tagging/video-tag/lib/python3.10/site-packages/torch/nn/modules/module.py:1562\u001b[0m, in \u001b[0;36mModule._call_impl\u001b[0;34m(self, *args, **kwargs)\u001b[0m\n\u001b[1;32m   1557\u001b[0m \u001b[38;5;66;03m# If we don't have any hooks, we want to skip the rest of the logic in\u001b[39;00m\n\u001b[1;32m   1558\u001b[0m \u001b[38;5;66;03m# this function, and just call forward.\u001b[39;00m\n\u001b[1;32m   1559\u001b[0m \u001b[38;5;28;01mif\u001b[39;00m \u001b[38;5;129;01mnot\u001b[39;00m (\u001b[38;5;28mself\u001b[39m\u001b[38;5;241m.\u001b[39m_backward_hooks \u001b[38;5;129;01mor\u001b[39;00m \u001b[38;5;28mself\u001b[39m\u001b[38;5;241m.\u001b[39m_backward_pre_hooks \u001b[38;5;129;01mor\u001b[39;00m \u001b[38;5;28mself\u001b[39m\u001b[38;5;241m.\u001b[39m_forward_hooks \u001b[38;5;129;01mor\u001b[39;00m \u001b[38;5;28mself\u001b[39m\u001b[38;5;241m.\u001b[39m_forward_pre_hooks\n\u001b[1;32m   1560\u001b[0m         \u001b[38;5;129;01mor\u001b[39;00m _global_backward_pre_hooks \u001b[38;5;129;01mor\u001b[39;00m _global_backward_hooks\n\u001b[1;32m   1561\u001b[0m         \u001b[38;5;129;01mor\u001b[39;00m _global_forward_hooks \u001b[38;5;129;01mor\u001b[39;00m _global_forward_pre_hooks):\n\u001b[0;32m-> 1562\u001b[0m     \u001b[38;5;28;01mreturn\u001b[39;00m \u001b[43mforward_call\u001b[49m\u001b[43m(\u001b[49m\u001b[38;5;241;43m*\u001b[39;49m\u001b[43margs\u001b[49m\u001b[43m,\u001b[49m\u001b[43m \u001b[49m\u001b[38;5;241;43m*\u001b[39;49m\u001b[38;5;241;43m*\u001b[39;49m\u001b[43mkwargs\u001b[49m\u001b[43m)\u001b[49m\n\u001b[1;32m   1564\u001b[0m \u001b[38;5;28;01mtry\u001b[39;00m:\n\u001b[1;32m   1565\u001b[0m     result \u001b[38;5;241m=\u001b[39m \u001b[38;5;28;01mNone\u001b[39;00m\n",
      "File \u001b[0;32m~/Рабочий стол/video-tagging/video-tag/lib/python3.10/site-packages/transformers/models/x_clip/modeling_x_clip.py:165\u001b[0m, in \u001b[0;36mXCLIPTextEmbeddings.forward\u001b[0;34m(self, input_ids, position_ids, inputs_embeds)\u001b[0m\n\u001b[1;32m    162\u001b[0m     inputs_embeds \u001b[38;5;241m=\u001b[39m \u001b[38;5;28mself\u001b[39m\u001b[38;5;241m.\u001b[39mtoken_embedding(input_ids)\n\u001b[1;32m    164\u001b[0m position_embeddings \u001b[38;5;241m=\u001b[39m \u001b[38;5;28mself\u001b[39m\u001b[38;5;241m.\u001b[39mposition_embedding(position_ids)\n\u001b[0;32m--> 165\u001b[0m embeddings \u001b[38;5;241m=\u001b[39m \u001b[43minputs_embeds\u001b[49m\u001b[43m \u001b[49m\u001b[38;5;241;43m+\u001b[39;49m\u001b[43m \u001b[49m\u001b[43mposition_embeddings\u001b[49m\n\u001b[1;32m    167\u001b[0m \u001b[38;5;28;01mreturn\u001b[39;00m embeddings\n",
      "\u001b[0;31mRuntimeError\u001b[0m: The size of tensor a (398) must match the size of tensor b (77) at non-singleton dimension 1"
     ]
    }
   ],
   "source": [
    "new_text_prompt = get_xclip_prompt_with_audio_context(whisper_df, \"2d102489e381cb2dc28395d3a76771b1.mp4\")\n",
    "video_path = \"./data/48.0_films/2d102489e381cb2dc28395d3a76771b1.mp4\"\n",
    "\n",
    "process_video(\n",
    "    video_path,\n",
    "    processor,\n",
    "    model,\n",
    "    device,\n",
    "    xclip_text_prompt=new_text_prompt\n",
    ")"
   ]
  },
  {
   "cell_type": "markdown",
   "id": "7889bd9c-2c15-4d65-814c-311d6cc59037",
   "metadata": {},
   "source": [
    "### ~~Whisper API context~~"
   ]
  },
  {
   "cell_type": "code",
   "execution_count": null,
   "id": "ba61846c-a6a7-43df-b5f5-be02978386ec",
   "metadata": {},
   "outputs": [],
   "source": []
  },
  {
   "cell_type": "markdown",
   "id": "dbf099bf-71e6-4e54-a9d6-4bcaa5b158f4",
   "metadata": {},
   "source": [
    "## PLS-DA"
   ]
  },
  {
   "cell_type": "code",
   "execution_count": 71,
   "id": "72d5f28c-38e7-43db-a5c3-05fce066bd5c",
   "metadata": {},
   "outputs": [],
   "source": [
    "whisper_df = EmbeddingStorage.load_from_file('data/embeddings/whisper.npz')\n",
    "xclip_df = EmbeddingStorage.load_from_file('data/embeddings/xclip_emb.npz')\n",
    "xclip_df.embeddings = xclip_df.embeddings.mean(axis=1)\n",
    "\n",
    "whisper_and_xclip_df = whisper_df.join_on_videoname(xclip_df)\n",
    "whisper_values = np.vstack([elem[0] for elem in whisper_and_xclip_df.embeddings])\n",
    "xclip_values = np.vstack([elem[1] for elem in whisper_and_xclip_df.embeddings])\n",
    "labels = whisper_and_xclip_df.labels"
   ]
  },
  {
   "cell_type": "code",
   "execution_count": 160,
   "id": "d7fd8607-f07e-4d44-aa13-9815ac04b170",
   "metadata": {},
   "outputs": [],
   "source": [
    "def run_pls(\n",
    "        X1: np.ndarray,\n",
    "        X2: np.ndarray,\n",
    "        Y: np.ndarray,\n",
    "        n_splits: int = 4,\n",
    "        n_components_list: int = [16, 32],\n",
    "        seed: int = 42,\n",
    "        normalize: bool = False,\n",
    "        aggr_model: str = 'pls'\n",
    "    ) -> dict:\n",
    "    clf_1_acc_1_arr, clf_1_acc_5_arr = [], []\n",
    "    clf_2_acc_1_arr, clf_2_acc_5_arr = [], []\n",
    "    \n",
    "    for n_comp in tqdm.tqdm(n_components_list):\n",
    "        clf_1_test_acc_1_ttl, clf_1_test_acc_5_ttl = 0, 0\n",
    "        clf_2_test_acc_1_ttl, clf_2_test_acc_5_ttl = 0, 0\n",
    "\n",
    "        kf = StratifiedKFold(n_splits=n_splits, shuffle=True, random_state=seed)\n",
    "\n",
    "        for train_indices, test_indices in kf.split(np.arange(X1.shape[0]), Y):\n",
    "            Y_train, Y_test = Y[train_indices], Y[test_indices]\n",
    "            \n",
    "            if normalize:\n",
    "                scaler_X1 = StandardScaler()\n",
    "                scaler_X2 = StandardScaler()\n",
    "            \n",
    "                X1_train_scaled = scaler_X1.fit_transform(X1[train_indices])\n",
    "                X2_train_scaled = scaler_X2.fit_transform(X2[train_indices])\n",
    "        \n",
    "                X1_test_scaled = scaler_X1.transform(X1[test_indices])\n",
    "                X2_test_scaled = scaler_X2.transform(X2[test_indices])\n",
    "            else:\n",
    "                X1_train_scaled = X1[train_indices]\n",
    "                X2_train_scaled = X1[train_indices]\n",
    "                \n",
    "                X1_test_scaled = X1[test_indices]\n",
    "                X2_test_scaled = X1[test_indices]\n",
    "\n",
    "            if aggr_model == 'pls':\n",
    "                pls = PLSRegression(n_components=n_comp, scale=False)\n",
    "            elif aggr_model == 'cca':\n",
    "                pls = CCA(n_components=n_comp, scale=False)\n",
    "    \n",
    "            pls.fit(X1_train_scaled, X2_train_scaled)\n",
    "            \n",
    "            X1_latent_train, X2_latent_train = pls.transform(X1_train_scaled, X2_train_scaled)\n",
    "            X1_latent_test, X2_latent_test = pls.transform(X1_test_scaled, X2_test_scaled)\n",
    "            \n",
    "            latent_train = 0.5 * X1_latent_train + 0.5 * X2_latent_train\n",
    "            latent_test = 0.5 * X1_latent_test + 0.5 * X2_latent_test\n",
    "            \n",
    "            clf_1 = make_pipeline(NCA(), KNeighborsClassifier())\n",
    "            clf_2 = KNeighborsClassifier()\n",
    "            clf_1.fit(latent_train, Y_train)\n",
    "            clf_2.fit(latent_train, Y_train)\n",
    "            \n",
    "            clf_1_pred = np.argsort(-clf_1.predict_proba(latent_test), axis=1)[:, :5]\n",
    "            clf_2_pred = np.argsort(-clf_2.predict_proba(latent_test), axis=1)[:, :5]\n",
    "            \n",
    "            clf_1_test_acc_1 = top_k_accuracy(Y_test, clf_1_pred, k=1)\n",
    "            clf_1_test_acc_5 = top_k_accuracy(Y_test, clf_1_pred, k=5)\n",
    "            clf_2_test_acc_1 = top_k_accuracy(Y_test, clf_2_pred, k=1)\n",
    "            clf_2_test_acc_5 = top_k_accuracy(Y_test, clf_2_pred, k=5)\n",
    "\n",
    "            clf_1_test_acc_1_ttl += clf_1_test_acc_1\n",
    "            clf_1_test_acc_5_ttl += clf_1_test_acc_5\n",
    "            clf_2_test_acc_1_ttl += clf_2_test_acc_1\n",
    "            clf_2_test_acc_5_ttl += clf_2_test_acc_5\n",
    "\n",
    "        clf_1_test_acc_1_ttl /= n_splits\n",
    "        clf_1_test_acc_5_ttl /= n_splits\n",
    "        clf_2_test_acc_1_ttl /= n_splits\n",
    "        clf_2_test_acc_5_ttl /= n_splits\n",
    "\n",
    "        clf_1_acc_1_arr.append(clf_1_test_acc_1_ttl)\n",
    "        clf_1_acc_5_arr.append(clf_1_test_acc_5_ttl)\n",
    "        clf_2_acc_1_arr.append(clf_2_test_acc_1_ttl)\n",
    "        clf_2_acc_5_arr.append(clf_2_test_acc_5_ttl)\n",
    "        \n",
    "        print(f'CLF 1: Components: {n_comp}, ACC@1: {clf_1_test_acc_1_ttl}, ACC@5: {clf_1_test_acc_5_ttl}')\n",
    "        print(f'CLF 2: Components: {n_comp}, ACC@1: {clf_2_test_acc_1_ttl}, ACC@5: {clf_2_test_acc_5_ttl}')\n",
    "        print('='*80)\n",
    "\n",
    "    print(f'CLF 1 ACC@1, ACC@5 best: {n_components_list[np.argmax(clf_1_acc_1_arr)]}, {n_components_list[np.argmax(clf_1_acc_5_arr)]}')\n",
    "    print(f'CLF 2 ACC@1, ACC@5 best: {n_components_list[np.argmax(clf_2_acc_1_arr)]}, {n_components_list[np.argmax(clf_2_acc_5_arr)]}')\n",
    "\n",
    "    print(f'Max ACC@1 = {max(clf_1_acc_1_arr + clf_2_acc_1_arr)}')\n",
    "    print(f'Max ACC@5 = {max(clf_2_acc_1_arr + clf_2_acc_5_arr)}')"
   ]
  },
  {
   "cell_type": "code",
   "execution_count": 151,
   "id": "4f639848-f725-4d65-86b1-cf361c1bc40f",
   "metadata": {},
   "outputs": [
    {
     "data": {
      "application/vnd.jupyter.widget-view+json": {
       "model_id": "db26c0a6d1794e63993675e28cd32f03",
       "version_major": 2,
       "version_minor": 0
      },
      "text/plain": [
       "  0%|          | 0/2 [00:00<?, ?it/s]"
      ]
     },
     "metadata": {},
     "output_type": "display_data"
    },
    {
     "name": "stdout",
     "output_type": "stream",
     "text": [
      "CLF 1: Components: 16, ACC@1: 0.0773019801980198, ACC@5: 0.17462871287128715\n",
      "CLF 2: Components: 16, ACC@1: 0.0649009900990099, ACC@5: 0.14722772277227722\n",
      "================================================================================\n",
      "CLF 1: Components: 32, ACC@1: 0.07235148514851486, ACC@5: 0.16715346534653466\n",
      "CLF 2: Components: 32, ACC@1: 0.07235148514851485, ACC@5: 0.15967821782178218\n",
      "================================================================================\n",
      "CLF 1 ACC@1, ACC@5 best: 16, 16\n",
      "CLF 2 ACC@1, ACC@5 best: 32, 32\n",
      "Max ACC@1 = 0.0773019801980198\n",
      "Max ACC@5 = 0.15967821782178218\n"
     ]
    }
   ],
   "source": [
    "run_pls(whisper_values, xclip_values, labels, normalize=True)"
   ]
  },
  {
   "cell_type": "code",
   "execution_count": 155,
   "id": "d1621a9a-a49e-47ee-9861-aff8daa2bf4e",
   "metadata": {},
   "outputs": [
    {
     "data": {
      "text/plain": [
       "EmbeddingStorage(labels=404, filenames=404, embeddings_shape=(404, 768))"
      ]
     },
     "execution_count": 155,
     "metadata": {},
     "output_type": "execute_result"
    }
   ],
   "source": [
    "df = EmbeddingStorage.load_from_file('data/embeddings/vivit.npz')\n",
    "df"
   ]
  },
  {
   "cell_type": "code",
   "execution_count": 102,
   "id": "a8c5877b-880e-4ecc-a72c-2aeb19f7dbac",
   "metadata": {},
   "outputs": [],
   "source": [
    "whisper_df = EmbeddingStorage.load_from_file('data/embeddings/whisper.npz')\n",
    "xclip_df = EmbeddingStorage.load_from_file('data/embeddings/xclip_emb.npz')\n",
    "xclip_df.embeddings = xclip_df.embeddings.mean(axis=1)\n",
    "\n",
    "whisper_and_xclip_df = whisper_df.join_on_videoname(xclip_df)\n",
    "whisper_values = np.vstack([elem[0] for elem in whisper_and_xclip_df.embeddings])\n",
    "xclip_values = np.vstack([elem[1] for elem in whisper_and_xclip_df.embeddings])\n",
    "labels = whisper_and_xclip_df.labels\n",
    "\n",
    "run_pls(whisper_values, xclip_values, labels, normalize=True)"
   ]
  },
  {
   "cell_type": "code",
   "execution_count": null,
   "id": "3b497c3f-a226-4c56-9d84-79a1bf1473b6",
   "metadata": {},
   "outputs": [],
   "source": [
    "DIR = 'data/embeddings/'\n",
    "VIDEO_MODELS = ['xclip_emb.npz', 'vivit.npz']\n",
    "AUDIO_MODELS = ['whisper.npz', 'gigaam.npz']\n",
    "N_COMPONENTS_LIST = [8, 16, 32, 64, 128]\n",
    "AGGR_MODEL = 'pls'\n",
    "\n",
    "for video_model in VIDEO_MODELS:\n",
    "    for audio_model in AUDIO_MODELS:\n",
    "        print(f'========== Video: {video_model}, audio: {audio_model} ==========')\n",
    "        full_video_path = DIR + video_model\n",
    "        full_audio_path = DIR + audio_model\n",
    "\n",
    "        video_df = EmbeddingStorage.load_from_file(full_video_path)\n",
    "        audio_df = EmbeddingStorage.load_from_file(full_audio_path)\n",
    "\n",
    "        if video_model == 'xclip_emb.npz':\n",
    "            video_df.embeddings = video_df.embeddings.mean(axis=1)\n",
    "\n",
    "        video_and_audio_df = video_df.join_on_videoname(audio_df)\n",
    "        video_values = np.vstack([elem[0] for elem in video_and_audio_df.embeddings])\n",
    "        audio_values = np.vstack([elem[1] for elem in video_and_audio_df.embeddings])\n",
    "        labels = video_and_audio_df.labels\n",
    "\n",
    "        run_pls(video_values, audio_values, labels, normalize=True, n_components_list=N_COMPONENTS_LIST, aggr_model=AGGR_MODEL)\n",
    "\n",
    "        print()"
   ]
  },
  {
   "cell_type": "code",
   "execution_count": null,
   "id": "f03e2b28-e385-40d2-bec2-56ca1828c0d7",
   "metadata": {},
   "outputs": [
    {
     "name": "stdout",
     "output_type": "stream",
     "text": [
      "========== Video: xclip_emb.npz, audio: whisper.npz ==========\n"
     ]
    },
    {
     "data": {
      "application/vnd.jupyter.widget-view+json": {
       "model_id": "aebbe22677a44f0cbc25491980777114",
       "version_major": 2,
       "version_minor": 0
      },
      "text/plain": [
       "  0%|          | 0/5 [00:00<?, ?it/s]"
      ]
     },
     "metadata": {},
     "output_type": "display_data"
    },
    {
     "name": "stdout",
     "output_type": "stream",
     "text": [
      "CLF 1: Components: 8, ACC@1: 0.03242574257425743, ACC@5: 0.1346782178217822\n",
      "CLF 2: Components: 8, ACC@1: 0.02745049504950495, ACC@5: 0.13972772277227724\n",
      "================================================================================\n",
      "CLF 1: Components: 16, ACC@1: 0.027376237623762376, ACC@5: 0.13465346534653466\n",
      "CLF 2: Components: 16, ACC@1: 0.049900990099009904, ACC@5: 0.12482673267326733\n",
      "================================================================================\n"
     ]
    }
   ],
   "source": [
    "DIR = 'data/embeddings/'\n",
    "VIDEO_MODELS = ['xclip_emb.npz', 'vivit.npz']\n",
    "AUDIO_MODELS = ['whisper.npz', 'gigaam.npz']\n",
    "N_COMPONENTS_LIST = [8, 16, 32, 64, 128]\n",
    "AGGR_MODEL = 'cca'\n",
    "\n",
    "for video_model in VIDEO_MODELS:\n",
    "    for audio_model in AUDIO_MODELS:\n",
    "        print(f'========== Video: {video_model}, audio: {audio_model} ==========')\n",
    "        full_video_path = DIR + video_model\n",
    "        full_audio_path = DIR + audio_model\n",
    "\n",
    "        video_df = EmbeddingStorage.load_from_file(full_video_path)\n",
    "        audio_df = EmbeddingStorage.load_from_file(full_audio_path)\n",
    "\n",
    "        if video_model == 'xclip_emb.npz':\n",
    "            video_df.embeddings = video_df.embeddings.mean(axis=1)\n",
    "\n",
    "        video_and_audio_df = video_df.join_on_videoname(audio_df)\n",
    "        video_values = np.vstack([elem[0] for elem in video_and_audio_df.embeddings])\n",
    "        audio_values = np.vstack([elem[1] for elem in video_and_audio_df.embeddings])\n",
    "        labels = video_and_audio_df.labels\n",
    "\n",
    "        run_pls(video_values, audio_values, labels, normalize=True, n_components_list=N_COMPONENTS_LIST, aggr_model=AGGR_MODEL)\n",
    "\n",
    "        print()"
   ]
  },
  {
   "cell_type": "markdown",
   "id": "fabb515d-2784-43a5-8094-5ff450c43df0",
   "metadata": {
    "jp-MarkdownHeadingCollapsed": true
   },
   "source": [
    "## 1-NN (with metric learning?)"
   ]
  },
  {
   "cell_type": "code",
   "execution_count": null,
   "id": "b85ebfa0-301d-49e7-bf87-03dd3b9d72a9",
   "metadata": {},
   "outputs": [],
   "source": []
  },
  {
   "cell_type": "markdown",
   "id": "6e17bfb7-2ddf-4a4d-aafb-85862cd01054",
   "metadata": {
    "jp-MarkdownHeadingCollapsed": true
   },
   "source": [
    "## MLP"
   ]
  },
  {
   "cell_type": "code",
   "execution_count": null,
   "id": "7ab6af74-4e2d-49ae-977b-aa6d52bd7a2d",
   "metadata": {},
   "outputs": [],
   "source": []
  },
  {
   "cell_type": "markdown",
   "id": "f68223dc-bf46-4471-9f4c-892d626ca75a",
   "metadata": {
    "jp-MarkdownHeadingCollapsed": true
   },
   "source": [
    "## Gradient boosting"
   ]
  },
  {
   "cell_type": "code",
   "execution_count": null,
   "id": "93370802-060b-483b-98a9-01e9e4b09792",
   "metadata": {},
   "outputs": [],
   "source": []
  }
 ],
 "metadata": {
  "kernelspec": {
   "display_name": "Python (video-tag)",
   "language": "python",
   "name": "video-tag"
  },
  "language_info": {
   "codemirror_mode": {
    "name": "ipython",
    "version": 3
   },
   "file_extension": ".py",
   "mimetype": "text/x-python",
   "name": "python",
   "nbconvert_exporter": "python",
   "pygments_lexer": "ipython3",
   "version": "3.10.12"
  }
 },
 "nbformat": 4,
 "nbformat_minor": 5
}
