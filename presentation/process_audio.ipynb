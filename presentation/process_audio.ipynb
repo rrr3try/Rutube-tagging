{
  "cells": [
    {
      "cell_type": "markdown",
      "id": "3e978593-6362-4169-b6a3-038c80dcfd95",
      "metadata": {
        "jp-MarkdownHeadingCollapsed": true,
        "id": "3e978593-6362-4169-b6a3-038c80dcfd95"
      },
      "source": [
        "## Импорты"
      ]
    },
    {
      "cell_type": "code",
      "execution_count": null,
      "id": "c7bdd6d8-1316-4d74-abd9-207f918a73e5",
      "metadata": {
        "id": "c7bdd6d8-1316-4d74-abd9-207f918a73e5"
      },
      "outputs": [],
      "source": [
        "import numpy as np\n",
        "import pandas as pd\n",
        "import matplotlib.pyplot as plt\n",
        "\n",
        "import torch\n",
        "import torch.nn as nn\n",
        "import torchaudio\n",
        "\n",
        "import yt_dlp\n",
        "import subprocess\n",
        "\n",
        "import os\n",
        "import pickle\n",
        "import gc\n",
        "import json\n",
        "import locale\n",
        "import re\n",
        "import tqdm.notebook as tqdm\n",
        "from urllib.parse import urlparse\n",
        "import requests\n",
        "import math\n",
        "\n",
        "import av\n",
        "from huggingface_hub import hf_hub_download\n",
        "\n",
        "from transformers import VivitImageProcessor, VivitModel\n",
        "from transformers import AutoImageProcessor, VideoMAEModel\n",
        "from transformers import TimesformerConfig, TimesformerModel\n",
        "from transformers import XCLIPProcessor, XCLIPModel\n",
        "from transformers import AutoModelForSpeechSeq2Seq, AutoProcessor\n",
        "from transformers import Wav2Vec2ForCTC, Wav2Vec2Processor\n",
        "from transformers import BitsAndBytesConfig, LlavaNextVideoForConditionalGeneration, LlavaNextVideoProcessor\n",
        "from transformers import AutoModelForSpeechSeq2Seq, AutoProcessor, pipeline\n",
        "\n",
        "import librosa\n",
        "from moviepy.editor import VideoFileClip\n",
        "import ast\n",
        "import openunmix\n",
        "\n",
        "from minio import Minio\n",
        "from minio.error import S3Error\n",
        "\n",
        "import hydra\n",
        "import soundfile as sf\n",
        "from omegaconf import OmegaConf\n",
        "\n",
        "import logging\n",
        "from typing import List\n",
        "\n",
        "import numpy as np\n",
        "from sklearn.cross_decomposition import PLSRegression\n",
        "from sklearn.preprocessing import StandardScaler, LabelBinarizer\n",
        "from sklearn.model_selection import train_test_split, StratifiedKFold\n",
        "from sklearn.metrics import accuracy_score, classification_report, confusion_matrix\n",
        "\n",
        "locale.getpreferredencoding = lambda: \"UTF-8\"\n",
        "\n",
        "logging.basicConfig(\n",
        "    filename='vivit_inference.log',\n",
        "    level=logging.INFO,\n",
        "    format='%(asctime)s - %(levelname)s - %(message)s'\n",
        ")"
      ]
    },
    {
      "cell_type": "markdown",
      "id": "a1c057b8-4ae5-4dcb-87b9-6395696b8f24",
      "metadata": {
        "id": "a1c057b8-4ae5-4dcb-87b9-6395696b8f24"
      },
      "source": [
        "Константы"
      ]
    },
    {
      "cell_type": "code",
      "execution_count": null,
      "id": "79f4074a-a223-4007-aafd-bd3e3ce2a4cb",
      "metadata": {
        "id": "79f4074a-a223-4007-aafd-bd3e3ce2a4cb"
      },
      "outputs": [],
      "source": [
        "CATEGORIES_ENG = \"\"\"Auto-moto,\n",
        "Anime,\n",
        "Audiobooks,\n",
        "Business,\n",
        "Video games,\n",
        "Interview,\n",
        "Art,\n",
        "Movie,\n",
        "Beauty,\n",
        "Cooking,\n",
        "Life Hacks,\n",
        "Music,\n",
        "Cartoons,\n",
        "News,\n",
        "Training,\n",
        "Hunting and fishing,\n",
        "Politics,\n",
        "Psychology,\n",
        "Journeys,\n",
        "Serials,\n",
        "Sport,\n",
        "Humor,\n",
        "Lifestyle,\n",
        "Realty,\n",
        "Health,\n",
        "Nature,\n",
        "Design,\n",
        "Machinery and equipment,\n",
        "Business and entrepreneurship,\n",
        "Culture,\n",
        "Religion,\n",
        "Construction and renovation,\n",
        "Garden and vegetable garden,\n",
        "Food,\n",
        "Entertainment,\n",
        "Esotericism,\n",
        "The science,\n",
        "Audio,\n",
        "Technology and the Internet,\n",
        "TV shows,\n",
        "For children,\n",
        "Hobby,\n",
        "Various,\n",
        "Animals,\n",
        "News and media,\n",
        "Films,\n",
        "Bloggers,\n",
        "\"\"\"\n",
        "\n",
        "CATEGORIES_RUS = \"\"\"\n",
        "Авто-мото\n",
        "Аниме\n",
        "Аудиокниги\n",
        "Бизнес\n",
        "Видеоигры\n",
        "Интервью\n",
        "Искусство\n",
        "Кино\n",
        "Красота\n",
        "Кулинария\n",
        "Лайфхаки\n",
        "Музыка\n",
        "Мультфильмы\n",
        "Новости\n",
        "Обучение\n",
        "Охота_и_рыбалка\n",
        "Политика\n",
        "Психология\n",
        "Путешествия\n",
        "Сериалы\n",
        "Спорт\n",
        "Юмор\n",
        "Лайфстайл\n",
        "Недвижимость\n",
        "Здоровье\n",
        "Природа\n",
        "Дизайн\n",
        "Техника_и_оборудование\n",
        "Бизнес_и_предпринимательство\n",
        "Культура\n",
        "Религия\n",
        "Строительство_и_ремонт\n",
        "Сад_и_огород\n",
        "Еда\n",
        "Развлечения\n",
        "Эзотерика\n",
        "Наука\n",
        "Аудио\n",
        "Технологии_и_интернет\n",
        "Телепередачи\n",
        "Детям\n",
        "Хобби\n",
        "Разное\n",
        "Животные\n",
        "Новости_и_СМИ\n",
        "Фильмы\n",
        "Блогеры\n",
        "\"\"\"\n",
        "\n",
        "\n",
        "RUS_TEXT_PROMPT = [\n",
        "    f\"Видео принадлежит категории '{x}'\" for x in CATEGORIES_RUS.split() if x.strip() != ''\n",
        "]\n",
        "ENG_TEXT_PROMPT = [\n",
        "    f\"Video belongs to category '{x}'\" for x in CATEGORIES_ENG.split(',\\n') if x.strip() != ''\n",
        "]"
      ]
    },
    {
      "cell_type": "markdown",
      "id": "6444e86a-0cd7-4441-86f0-c7267e9d513d",
      "metadata": {
        "id": "6444e86a-0cd7-4441-86f0-c7267e9d513d"
      },
      "source": [
        "### Audio"
      ]
    },
    {
      "cell_type": "markdown",
      "id": "d8152ed9-49ea-48ce-a001-e9bde544387a",
      "metadata": {
        "jp-MarkdownHeadingCollapsed": true,
        "id": "d8152ed9-49ea-48ce-a001-e9bde544387a"
      },
      "source": [
        "#### Auxiliary functions"
      ]
    },
    {
      "cell_type": "code",
      "execution_count": null,
      "id": "de034162-6fc1-46f8-afbf-83fad6312bc0",
      "metadata": {
        "id": "de034162-6fc1-46f8-afbf-83fad6312bc0"
      },
      "outputs": [],
      "source": [
        "def extract_audio_from_video(video_path, output_audio_path=\"temp_audio.wav\", duration=60):\n",
        "    video_clip = VideoFileClip(video_path)\n",
        "\n",
        "    if video_clip is None:\n",
        "        return None\n",
        "    elif video_clip.audio is None:\n",
        "        video_clip.close()\n",
        "        return None\n",
        "\n",
        "    audio_clip = video_clip.audio.subclip(0, min(duration, video_clip.duration))\n",
        "    audio_clip.write_audiofile(output_audio_path, codec='pcm_s16le', ffmpeg_params=['-ac', '1'])\n",
        "\n",
        "    # Close the clip to release resources\n",
        "    video_clip.close()\n",
        "    audio_clip.close()\n",
        "\n",
        "    return output_audio_path\n",
        "\n",
        "\n",
        "def speech_file_to_array_fn(batch, duration: int, sampling_rate: int):\n",
        "    # Extract the audio from the mp4 file\n",
        "    audio_path = extract_audio_from_video(batch[\"path\"], duration=duration)\n",
        "\n",
        "    if audio_path is None:\n",
        "        return None\n",
        "\n",
        "    # Load the extracted audio using librosa\n",
        "    speech_array, sampling_rate = librosa.load(audio_path, sr=sampling_rate)\n",
        "\n",
        "    # Prepare for Wav2Vec2 inference\n",
        "    batch[\"speech\"] = speech_array\n",
        "    return batch\n",
        "\n",
        "\n",
        "def extract_category_id(ctgry: str) -> int:\n",
        "    return int(float(ctgry[:3]))\n",
        "\n",
        "\n",
        "class SpecScaler(torch.nn.Module):\n",
        "    def forward(self, x: torch.Tensor) -> torch.Tensor:\n",
        "        return torch.log(x.clamp_(1e-9, 1e9))\n",
        "\n",
        "\n",
        "def instantiate_giga_am(dirname: str, device: str):\n",
        "    encoder_config = dirname+\"encoder_config.yaml\"\n",
        "    model_weights = dirname+\"ssl_model_weights.ckpt\"\n",
        "    conf = OmegaConf.load(encoder_config)\n",
        "\n",
        "    encoder = hydra.utils.instantiate(conf.encoder)\n",
        "    ckpt = torch.load(model_weights, map_location=\"cpu\")\n",
        "    encoder.load_state_dict(ckpt, strict=True)\n",
        "    encoder.to(device)\n",
        "    encoder.eval()\n",
        "\n",
        "    feature_extractor = hydra.utils.instantiate(conf.feature_extractor)\n",
        "\n",
        "    return encoder, feature_extractor\n",
        "\n",
        "\n",
        "def process_gigaam(\n",
        "    video_path: str,\n",
        "    encoder,\n",
        "    feature_extractor,\n",
        "    device,\n",
        "    audio_duration: int = 60,\n",
        "    audio_sampling_rate: int = 16000\n",
        ") -> torch.Tensor:\n",
        "    try:\n",
        "        test_sample = {\"path\": video_path}\n",
        "        test_sample = speech_file_to_array_fn(test_sample, audio_duration, audio_sampling_rate)\n",
        "        features = feature_extractor(torch.tensor(test_sample['speech']).float()).to(device)\n",
        "\n",
        "        with torch.no_grad():\n",
        "            encoded, _ = encoder.forward(\n",
        "                audio_signal=features.unsqueeze(0),\n",
        "                length=torch.tensor([features.shape[-1]]).to(device),\n",
        "            )\n",
        "\n",
        "        output = encoded.mean(dim=2).squeeze().cpu()\n",
        "        return output\n",
        "\n",
        "    except Exception as e:\n",
        "        logging.error(f\"Unexpected error: {e}\")\n",
        "        print(\"An unexpected error occurred:\")\n",
        "        print(e)"
      ]
    },
    {
      "cell_type": "markdown",
      "id": "51f264d7-7b1e-4cd2-83e3-b6f85ffc34ee",
      "metadata": {
        "jp-MarkdownHeadingCollapsed": true,
        "id": "51f264d7-7b1e-4cd2-83e3-b6f85ffc34ee"
      },
      "source": [
        "#### Inference Giga-AM"
      ]
    },
    {
      "cell_type": "code",
      "execution_count": null,
      "id": "b5d330bc-0640-4785-86b8-80bb7ca78731",
      "metadata": {
        "colab": {
          "referenced_widgets": [
            "3e8e86affe3644a8862beb4394e63a47"
          ]
        },
        "id": "b5d330bc-0640-4785-86b8-80bb7ca78731",
        "outputId": "9c48bf27-5c2d-4d5f-aca8-0dd84469481d"
      },
      "outputs": [
        {
          "name": "stderr",
          "output_type": "stream",
          "text": [
            "[NeMo W 2024-09-25 19:56:11 nemo_logging:349] /tmp/ipykernel_7454/3025371214.py:44: FutureWarning: You are using `torch.load` with `weights_only=False` (the current default value), which uses the default pickle module implicitly. It is possible to construct malicious pickle data which will execute arbitrary code during unpickling (See https://github.com/pytorch/pytorch/blob/main/SECURITY.md#untrusted-models for more details). In a future release, the default value for `weights_only` will be flipped to `True`. This limits the functions that could be executed during unpickling. Arbitrary objects will no longer be allowed to be loaded via this mode unless they are explicitly allowlisted by the user via `torch.serialization.add_safe_globals`. We recommend you start setting `weights_only=True` for any use case where you don't have full control of the loaded file. Please open an issue on GitHub for any issues related to this experimental feature.\n",
            "      ckpt = torch.load(model_weights, map_location=\"cpu\")\n",
            "    \n"
          ]
        },
        {
          "data": {
            "application/vnd.jupyter.widget-view+json": {
              "model_id": "3e8e86affe3644a8862beb4394e63a47",
              "version_major": 2,
              "version_minor": 0
            },
            "text/plain": [
              "  0%|          | 0/48 [00:00<?, ?it/s]"
            ]
          },
          "metadata": {},
          "output_type": "display_data"
        },
        {
          "name": "stdout",
          "output_type": "stream",
          "text": [
            "MoviePy - Writing audio in temp_audio.wav\n"
          ]
        },
        {
          "name": "stderr",
          "output_type": "stream",
          "text": [
            "\n",
            "\n",
            "\n",
            "chunk:   0%|                                                                                                         | 0/1324 [00:00<?, ?it/s, now=None]\u001b[A\u001b[A\u001b[A\n",
            "\n",
            "\n",
            "chunk:  65%|████████████████████████████████████████████████████████████▉                                | 867/1324 [00:00<00:00, 8663.56it/s, now=None]\u001b[A\u001b[A\u001b[A\n",
            "\n",
            "\n",
            "                                                                                                                                                        \u001b[A\u001b[A\u001b[A"
          ]
        },
        {
          "name": "stdout",
          "output_type": "stream",
          "text": [
            "MoviePy - Done.\n",
            "MoviePy - Writing audio in temp_audio.wav\n"
          ]
        },
        {
          "name": "stderr",
          "output_type": "stream",
          "text": [
            "\n",
            "\n",
            "\n",
            "chunk:   0%|                                                                                                         | 0/1324 [00:00<?, ?it/s, now=None]\u001b[A\u001b[A\u001b[A\n",
            "\n",
            "\n",
            "chunk:  62%|█████████████████████████████████████████████████████████▎                                   | 816/1324 [00:00<00:00, 8066.33it/s, now=None]\u001b[A\u001b[A\u001b[A\n",
            "\n",
            "\n",
            "                                                                                                                                                        \u001b[A\u001b[A\u001b[A"
          ]
        },
        {
          "name": "stdout",
          "output_type": "stream",
          "text": [
            "MoviePy - Done.\n",
            "MoviePy - Writing audio in temp_audio.wav\n"
          ]
        },
        {
          "name": "stderr",
          "output_type": "stream",
          "text": [
            "\n",
            "\n",
            "\n",
            "chunk:   0%|                                                                                                         | 0/1324 [00:00<?, ?it/s, now=None]\u001b[A\u001b[A\u001b[A\n",
            "\n",
            "\n",
            "chunk:  63%|██████████████████████████████████████████████████████████▊                                  | 837/1324 [00:00<00:00, 8367.91it/s, now=None]\u001b[A\u001b[A\u001b[A\n",
            "\n",
            "\n",
            "                                                                                                                                                        \u001b[A\u001b[A\u001b[A"
          ]
        },
        {
          "name": "stdout",
          "output_type": "stream",
          "text": [
            "MoviePy - Done.\n",
            "MoviePy - Writing audio in temp_audio.wav\n"
          ]
        },
        {
          "name": "stderr",
          "output_type": "stream",
          "text": [
            "\n",
            "\n",
            "\n",
            "chunk:   0%|                                                                                                         | 0/1324 [00:00<?, ?it/s, now=None]\u001b[A\u001b[A\u001b[A\n",
            "\n",
            "\n",
            "chunk:  54%|██████████████████████████████████████████████████▏                                          | 714/1324 [00:00<00:00, 7108.30it/s, now=None]\u001b[A\u001b[A\u001b[A\n",
            "\n",
            "\n",
            "                                                                                                                                                        \u001b[A\u001b[A\u001b[A"
          ]
        },
        {
          "name": "stdout",
          "output_type": "stream",
          "text": [
            "MoviePy - Done.\n",
            "MoviePy - Writing audio in temp_audio.wav\n"
          ]
        },
        {
          "name": "stderr",
          "output_type": "stream",
          "text": [
            "\n",
            "\n",
            "\n",
            "chunk:   0%|                                                                                                         | 0/1324 [00:00<?, ?it/s, now=None]\u001b[A\u001b[A\u001b[A\n",
            "\n",
            "\n",
            "chunk:  69%|████████████████████████████████████████████████████████████████▍                            | 918/1324 [00:00<00:00, 9074.88it/s, now=None]\u001b[A\u001b[A\u001b[A\n",
            "\n",
            "\n",
            "                                                                                                                                                        \u001b[A\u001b[A\u001b[A"
          ]
        },
        {
          "name": "stdout",
          "output_type": "stream",
          "text": [
            "MoviePy - Done.\n",
            "MoviePy - Writing audio in temp_audio.wav\n"
          ]
        },
        {
          "name": "stderr",
          "output_type": "stream",
          "text": [
            "\n",
            "\n",
            "\n",
            "chunk:   0%|                                                                                                         | 0/1324 [00:00<?, ?it/s, now=None]\u001b[A\u001b[A\u001b[A\n",
            "\n",
            "\n",
            "chunk:  62%|█████████████████████████████████████████████████████████▎                                   | 816/1324 [00:00<00:00, 8100.08it/s, now=None]\u001b[A\u001b[A\u001b[A\n",
            "\n",
            "\n",
            "                                                                                                                                                        \u001b[A\u001b[A\u001b[A"
          ]
        },
        {
          "name": "stdout",
          "output_type": "stream",
          "text": [
            "MoviePy - Done.\n",
            "MoviePy - Writing audio in temp_audio.wav\n"
          ]
        },
        {
          "name": "stderr",
          "output_type": "stream",
          "text": [
            "\n",
            "\n",
            "\n",
            "chunk:   0%|                                                                                                         | 0/1324 [00:00<?, ?it/s, now=None]\u001b[A\u001b[A\u001b[A\n",
            "\n",
            "\n",
            "chunk:  63%|██████████████████████████████████████████████████████████▎                                  | 831/1324 [00:00<00:00, 8303.81it/s, now=None]\u001b[A\u001b[A\u001b[A\n",
            "\n",
            "\n",
            "                                                                                                                                                        \u001b[A\u001b[A\u001b[A"
          ]
        },
        {
          "name": "stdout",
          "output_type": "stream",
          "text": [
            "MoviePy - Done.\n",
            "MoviePy - Writing audio in temp_audio.wav\n"
          ]
        },
        {
          "name": "stderr",
          "output_type": "stream",
          "text": [
            "\n",
            "\n",
            "\n",
            "chunk:   0%|                                                                                                         | 0/1324 [00:00<?, ?it/s, now=None]\u001b[A\u001b[A\u001b[A\n",
            "\n",
            "\n",
            "chunk:  69%|████████████████████████████████████████████████████████████████▍                            | 918/1324 [00:00<00:00, 9086.46it/s, now=None]\u001b[A\u001b[A\u001b[A\n",
            "\n",
            "\n",
            "                                                                                                                                                        \u001b[A\u001b[A\u001b[A"
          ]
        },
        {
          "name": "stdout",
          "output_type": "stream",
          "text": [
            "MoviePy - Done.\n",
            "MoviePy - Writing audio in temp_audio.wav\n"
          ]
        },
        {
          "name": "stderr",
          "output_type": "stream",
          "text": [
            "\n",
            "\n",
            "\n",
            "chunk:   0%|                                                                                                         | 0/1324 [00:00<?, ?it/s, now=None]\u001b[A\u001b[A\u001b[A\n",
            "\n",
            "\n",
            "chunk:  69%|████████████████████████████████████████████████████████████████▍                            | 918/1324 [00:00<00:00, 9156.80it/s, now=None]\u001b[A\u001b[A\u001b[A\n",
            "\n",
            "\n",
            "                                                                                                                                                        \u001b[A\u001b[A\u001b[A"
          ]
        },
        {
          "name": "stdout",
          "output_type": "stream",
          "text": [
            "MoviePy - Done.\n",
            "MoviePy - Writing audio in temp_audio.wav\n"
          ]
        },
        {
          "name": "stderr",
          "output_type": "stream",
          "text": [
            "\n",
            "\n",
            "\n",
            "chunk:   0%|                                                                                                         | 0/1324 [00:00<?, ?it/s, now=None]\u001b[A\u001b[A\u001b[A\n",
            "\n",
            "\n",
            "chunk:  66%|█████████████████████████████████████████████████████████████                                | 870/1324 [00:00<00:00, 8694.81it/s, now=None]\u001b[A\u001b[A\u001b[A\n",
            "\n",
            "\n",
            "                                                                                                                                                        \u001b[A\u001b[A\u001b[A"
          ]
        },
        {
          "name": "stdout",
          "output_type": "stream",
          "text": [
            "MoviePy - Done.\n",
            "MoviePy - Writing audio in temp_audio.wav\n"
          ]
        },
        {
          "name": "stderr",
          "output_type": "stream",
          "text": [
            "\n",
            "\n",
            "\n",
            "chunk:   0%|                                                                                                         | 0/1324 [00:00<?, ?it/s, now=None]\u001b[A\u001b[A\u001b[A\n",
            "\n",
            "\n",
            "chunk:  68%|███████████████████████████████████████████████████████████████                              | 898/1324 [00:00<00:00, 8974.21it/s, now=None]\u001b[A\u001b[A\u001b[A\n",
            "\n",
            "\n",
            "                                                                                                                                                        \u001b[A\u001b[A\u001b[A"
          ]
        },
        {
          "name": "stdout",
          "output_type": "stream",
          "text": [
            "MoviePy - Done.\n",
            "MoviePy - Writing audio in temp_audio.wav\n"
          ]
        },
        {
          "name": "stderr",
          "output_type": "stream",
          "text": [
            "\n",
            "\n",
            "\n",
            "chunk:   0%|                                                                                                         | 0/1324 [00:00<?, ?it/s, now=None]\u001b[A\u001b[A\u001b[A\n",
            "\n",
            "\n",
            "chunk:  72%|██████████████████████████████████████████████████████████████████▌                          | 948/1324 [00:00<00:00, 9476.37it/s, now=None]\u001b[A\u001b[A\u001b[A\n",
            "\n",
            "\n",
            "                                                                                                                                                        \u001b[A\u001b[A\u001b[A"
          ]
        },
        {
          "name": "stdout",
          "output_type": "stream",
          "text": [
            "MoviePy - Done.\n",
            "MoviePy - Writing audio in temp_audio.wav\n"
          ]
        },
        {
          "name": "stderr",
          "output_type": "stream",
          "text": [
            "\n",
            "\n",
            "\n",
            "chunk:   0%|                                                                                                         | 0/1324 [00:00<?, ?it/s, now=None]\u001b[A\u001b[A\u001b[A\n",
            "\n",
            "\n",
            "chunk:  69%|████████████████████████████████████████████████████████████████▍                            | 918/1324 [00:00<00:00, 9068.62it/s, now=None]\u001b[A\u001b[A\u001b[A\n",
            "\n",
            "\n",
            "                                                                                                                                                        \u001b[A\u001b[A\u001b[A"
          ]
        },
        {
          "name": "stdout",
          "output_type": "stream",
          "text": [
            "MoviePy - Done.\n",
            "MoviePy - Writing audio in temp_audio.wav\n"
          ]
        },
        {
          "name": "stderr",
          "output_type": "stream",
          "text": [
            "\n",
            "\n",
            "\n",
            "chunk:   0%|                                                                                                         | 0/1324 [00:00<?, ?it/s, now=None]\u001b[A\u001b[A\u001b[A\n",
            "\n",
            "\n",
            "chunk:  65%|████████████████████████████████████████████████████████████▉                                | 867/1324 [00:00<00:00, 8652.72it/s, now=None]\u001b[A\u001b[A\u001b[A\n",
            "\n",
            "\n",
            "                                                                                                                                                        \u001b[A\u001b[A\u001b[A"
          ]
        },
        {
          "name": "stdout",
          "output_type": "stream",
          "text": [
            "MoviePy - Done.\n",
            "MoviePy - Writing audio in temp_audio.wav\n"
          ]
        },
        {
          "name": "stderr",
          "output_type": "stream",
          "text": [
            "\n",
            "\n",
            "\n",
            "chunk:   0%|                                                                                                         | 0/1324 [00:00<?, ?it/s, now=None]\u001b[A\u001b[A\u001b[A\n",
            "\n",
            "\n",
            "chunk:  65%|████████████████████████████████████████████████████████████▉                                | 867/1324 [00:00<00:00, 8618.15it/s, now=None]\u001b[A\u001b[A\u001b[A\n",
            "\n",
            "\n",
            "                                                                                                                                                        \u001b[A\u001b[A\u001b[A"
          ]
        },
        {
          "name": "stdout",
          "output_type": "stream",
          "text": [
            "MoviePy - Done.\n",
            "MoviePy - Writing audio in temp_audio.wav\n"
          ]
        },
        {
          "name": "stderr",
          "output_type": "stream",
          "text": [
            "\n",
            "\n",
            "\n",
            "chunk:   0%|                                                                                                         | 0/1324 [00:00<?, ?it/s, now=None]\u001b[A\u001b[A\u001b[A\n",
            "\n",
            "\n",
            "chunk:  67%|██████████████████████████████████████████████████████████████▎                              | 888/1324 [00:00<00:00, 8878.17it/s, now=None]\u001b[A\u001b[A\u001b[A\n",
            "\n",
            "\n",
            "                                                                                                                                                        \u001b[A\u001b[A\u001b[A"
          ]
        },
        {
          "name": "stdout",
          "output_type": "stream",
          "text": [
            "MoviePy - Done.\n",
            "MoviePy - Writing audio in temp_audio.wav\n"
          ]
        },
        {
          "name": "stderr",
          "output_type": "stream",
          "text": [
            "\n",
            "\n",
            "\n",
            "chunk:   0%|                                                                                                         | 0/1324 [00:00<?, ?it/s, now=None]\u001b[A\u001b[A\u001b[A\n",
            "\n",
            "\n",
            "chunk:  69%|████████████████████████████████████████████████████████████████▍                            | 918/1324 [00:00<00:00, 9125.70it/s, now=None]\u001b[A\u001b[A\u001b[A\n",
            "\n",
            "\n",
            "                                                                                                                                                        \u001b[A\u001b[A\u001b[A"
          ]
        },
        {
          "name": "stdout",
          "output_type": "stream",
          "text": [
            "MoviePy - Done.\n",
            "MoviePy - Writing audio in temp_audio.wav\n"
          ]
        },
        {
          "name": "stderr",
          "output_type": "stream",
          "text": [
            "\n",
            "\n",
            "\n",
            "chunk:   0%|                                                                                                         | 0/1324 [00:00<?, ?it/s, now=None]\u001b[A\u001b[A\u001b[A\n",
            "\n",
            "\n",
            "chunk:  65%|████████████████████████████████████████████████████████████▉                                | 867/1324 [00:00<00:00, 8566.70it/s, now=None]\u001b[A\u001b[A\u001b[A\n",
            "\n",
            "\n",
            "                                                                                                                                                        \u001b[A\u001b[A\u001b[A"
          ]
        },
        {
          "name": "stdout",
          "output_type": "stream",
          "text": [
            "MoviePy - Done.\n",
            "MoviePy - Writing audio in temp_audio.wav\n"
          ]
        },
        {
          "name": "stderr",
          "output_type": "stream",
          "text": [
            "\n",
            "\n",
            "\n",
            "chunk:   0%|                                                                                                         | 0/1324 [00:00<?, ?it/s, now=None]\u001b[A\u001b[A\u001b[A\n",
            "\n",
            "\n",
            "chunk:  63%|██████████████████████████████████████████████████████████▎                                  | 830/1324 [00:00<00:00, 8297.28it/s, now=None]\u001b[A\u001b[A\u001b[A\n",
            "\n",
            "\n",
            "                                                                                                                                                        \u001b[A\u001b[A\u001b[A"
          ]
        },
        {
          "name": "stdout",
          "output_type": "stream",
          "text": [
            "MoviePy - Done.\n",
            "MoviePy - Writing audio in temp_audio.wav\n"
          ]
        },
        {
          "name": "stderr",
          "output_type": "stream",
          "text": [
            "\n",
            "\n",
            "\n",
            "chunk:   0%|                                                                                                         | 0/1324 [00:00<?, ?it/s, now=None]\u001b[A\u001b[A\u001b[A\n",
            "\n",
            "\n",
            "chunk:  65%|████████████████████████████████████████████████████████████▉                                | 867/1324 [00:00<00:00, 8550.63it/s, now=None]\u001b[A\u001b[A\u001b[A\n",
            "\n",
            "\n",
            "                                                                                                                                                        \u001b[A\u001b[A\u001b[A"
          ]
        },
        {
          "name": "stdout",
          "output_type": "stream",
          "text": [
            "MoviePy - Done.\n",
            "MoviePy - Writing audio in temp_audio.wav\n"
          ]
        },
        {
          "name": "stderr",
          "output_type": "stream",
          "text": [
            "\n",
            "\n",
            "\n",
            "chunk:   0%|                                                                                                         | 0/1324 [00:00<?, ?it/s, now=None]\u001b[A\u001b[A\u001b[A\n",
            "\n",
            "\n",
            "chunk:  61%|████████████████████████████████████████████████████████▌                                    | 806/1324 [00:00<00:00, 8058.72it/s, now=None]\u001b[A\u001b[A\u001b[A\n",
            "\n",
            "\n",
            "                                                                                                                                                        \u001b[A\u001b[A\u001b[A"
          ]
        },
        {
          "name": "stdout",
          "output_type": "stream",
          "text": [
            "MoviePy - Done.\n",
            "MoviePy - Writing audio in temp_audio.wav\n"
          ]
        },
        {
          "name": "stderr",
          "output_type": "stream",
          "text": [
            "\n",
            "\n",
            "\n",
            "chunk:   0%|                                                                                                         | 0/1324 [00:00<?, ?it/s, now=None]\u001b[A\u001b[A\u001b[A\n",
            "\n",
            "\n",
            "chunk:  60%|████████████████████████████████████████████████████████                                     | 798/1324 [00:00<00:00, 7979.11it/s, now=None]\u001b[A\u001b[A\u001b[A\n",
            "\n",
            "\n",
            "                                                                                                                                                        \u001b[A\u001b[A\u001b[A"
          ]
        },
        {
          "name": "stdout",
          "output_type": "stream",
          "text": [
            "MoviePy - Done.\n",
            "MoviePy - Writing audio in temp_audio.wav\n"
          ]
        },
        {
          "name": "stderr",
          "output_type": "stream",
          "text": [
            "\n",
            "\n",
            "\n",
            "chunk:   0%|                                                                                                         | 0/1324 [00:00<?, ?it/s, now=None]\u001b[A\u001b[A\u001b[A\n",
            "\n",
            "\n",
            "chunk:  66%|█████████████████████████████████████████████████████████████▍                               | 874/1324 [00:00<00:00, 8733.59it/s, now=None]\u001b[A\u001b[A\u001b[A\n",
            "\n",
            "\n",
            "                                                                                                                                                        \u001b[A\u001b[A\u001b[A"
          ]
        },
        {
          "name": "stdout",
          "output_type": "stream",
          "text": [
            "MoviePy - Done.\n",
            "MoviePy - Writing audio in temp_audio.wav\n"
          ]
        },
        {
          "name": "stderr",
          "output_type": "stream",
          "text": [
            "\n",
            "\n",
            "\n",
            "chunk:   0%|                                                                                                         | 0/1324 [00:00<?, ?it/s, now=None]\u001b[A\u001b[A\u001b[A\n",
            "\n",
            "\n",
            "chunk:  70%|█████████████████████████████████████████████████████████████████▍                           | 932/1324 [00:00<00:00, 9315.72it/s, now=None]\u001b[A\u001b[A\u001b[A\n",
            "\n",
            "\n",
            "                                                                                                                                                        \u001b[A\u001b[A\u001b[A"
          ]
        },
        {
          "name": "stdout",
          "output_type": "stream",
          "text": [
            "MoviePy - Done.\n",
            "MoviePy - Writing audio in temp_audio.wav\n"
          ]
        },
        {
          "name": "stderr",
          "output_type": "stream",
          "text": [
            "\n",
            "\n",
            "\n",
            "chunk:   0%|                                                                                                         | 0/1324 [00:00<?, ?it/s, now=None]\u001b[A\u001b[A\u001b[A\n",
            "\n",
            "\n",
            "chunk:  65%|████████████████████████████████████████████████████████████▏                                | 856/1324 [00:00<00:00, 8555.07it/s, now=None]\u001b[A\u001b[A\u001b[A\n",
            "\n",
            "\n",
            "                                                                                                                                                        \u001b[A\u001b[A\u001b[A"
          ]
        },
        {
          "name": "stdout",
          "output_type": "stream",
          "text": [
            "MoviePy - Done.\n",
            "MoviePy - Writing audio in temp_audio.wav\n"
          ]
        },
        {
          "name": "stderr",
          "output_type": "stream",
          "text": [
            "\n",
            "\n",
            "\n",
            "chunk:   0%|                                                                                                         | 0/1324 [00:00<?, ?it/s, now=None]\u001b[A\u001b[A\u001b[A\n",
            "\n",
            "\n",
            "chunk:  63%|██████████████████████████████████████████████████████████▍                                  | 832/1324 [00:00<00:00, 8316.42it/s, now=None]\u001b[A\u001b[A\u001b[A\n",
            "\n",
            "\n",
            "                                                                                                                                                        \u001b[A\u001b[A\u001b[A"
          ]
        },
        {
          "name": "stdout",
          "output_type": "stream",
          "text": [
            "MoviePy - Done.\n",
            "MoviePy - Writing audio in temp_audio.wav\n"
          ]
        },
        {
          "name": "stderr",
          "output_type": "stream",
          "text": [
            "\n",
            "\n",
            "\n",
            "chunk:   0%|                                                                                                         | 0/1324 [00:00<?, ?it/s, now=None]\u001b[A\u001b[A\u001b[A\n",
            "\n",
            "\n",
            "chunk:  72%|███████████████████████████████████████████████████████████████████▏                         | 957/1324 [00:00<00:00, 9563.76it/s, now=None]\u001b[A\u001b[A\u001b[A\n",
            "\n",
            "\n",
            "                                                                                                                                                        \u001b[A\u001b[A\u001b[A"
          ]
        },
        {
          "name": "stdout",
          "output_type": "stream",
          "text": [
            "MoviePy - Done.\n",
            "MoviePy - Writing audio in temp_audio.wav\n"
          ]
        },
        {
          "name": "stderr",
          "output_type": "stream",
          "text": [
            "\n",
            "\n",
            "\n",
            "chunk:   0%|                                                                                                         | 0/1324 [00:00<?, ?it/s, now=None]\u001b[A\u001b[A\u001b[A\n",
            "\n",
            "\n",
            "chunk:  65%|████████████████████████████████████████████████████████████▉                                | 867/1324 [00:00<00:00, 8555.53it/s, now=None]\u001b[A\u001b[A\u001b[A\n",
            "\n",
            "\n",
            "                                                                                                                                                        \u001b[A\u001b[A\u001b[A"
          ]
        },
        {
          "name": "stdout",
          "output_type": "stream",
          "text": [
            "MoviePy - Done.\n",
            "MoviePy - Writing audio in temp_audio.wav\n"
          ]
        },
        {
          "name": "stderr",
          "output_type": "stream",
          "text": [
            "\n",
            "\n",
            "\n",
            "chunk:   0%|                                                                                                         | 0/1324 [00:00<?, ?it/s, now=None]\u001b[A\u001b[A\u001b[A\n",
            "\n",
            "\n",
            "chunk:  67%|██████████████████████████████████████████████████████████████▏                              | 886/1324 [00:00<00:00, 8858.11it/s, now=None]\u001b[A\u001b[A\u001b[A\n",
            "\n",
            "\n",
            "                                                                                                                                                        \u001b[A\u001b[A\u001b[A"
          ]
        },
        {
          "name": "stdout",
          "output_type": "stream",
          "text": [
            "MoviePy - Done.\n",
            "MoviePy - Writing audio in temp_audio.wav\n"
          ]
        },
        {
          "name": "stderr",
          "output_type": "stream",
          "text": [
            "\n",
            "\n",
            "\n",
            "chunk:   0%|                                                                                                         | 0/1324 [00:00<?, ?it/s, now=None]\u001b[A\u001b[A\u001b[A\n",
            "\n",
            "\n",
            "chunk:  64%|███████████████████████████████████████████████████████████▋                                 | 849/1324 [00:00<00:00, 8487.20it/s, now=None]\u001b[A\u001b[A\u001b[A\n",
            "\n",
            "\n",
            "                                                                                                                                                        \u001b[A\u001b[A\u001b[A"
          ]
        },
        {
          "name": "stdout",
          "output_type": "stream",
          "text": [
            "MoviePy - Done.\n",
            "MoviePy - Writing audio in temp_audio.wav\n"
          ]
        },
        {
          "name": "stderr",
          "output_type": "stream",
          "text": [
            "\n",
            "\n",
            "\n",
            "chunk:   0%|                                                                                                         | 0/1324 [00:00<?, ?it/s, now=None]\u001b[A\u001b[A\u001b[A\n",
            "\n",
            "\n",
            "chunk:  68%|██████████████████████████████████████████████████████████████▊                              | 894/1324 [00:00<00:00, 8937.66it/s, now=None]\u001b[A\u001b[A\u001b[A\n",
            "\n",
            "\n",
            "                                                                                                                                                        \u001b[A\u001b[A\u001b[A"
          ]
        },
        {
          "name": "stdout",
          "output_type": "stream",
          "text": [
            "MoviePy - Done.\n",
            "MoviePy - Writing audio in temp_audio.wav\n"
          ]
        },
        {
          "name": "stderr",
          "output_type": "stream",
          "text": [
            "\n",
            "\n",
            "\n",
            "chunk:   0%|                                                                                                         | 0/1324 [00:00<?, ?it/s, now=None]\u001b[A\u001b[A\u001b[A\n",
            "\n",
            "\n",
            "chunk:  72%|███████████████████████████████████████████████████████████████████▏                         | 957/1324 [00:00<00:00, 9565.74it/s, now=None]\u001b[A\u001b[A\u001b[A\n",
            "\n",
            "\n",
            "                                                                                                                                                        \u001b[A\u001b[A\u001b[A"
          ]
        },
        {
          "name": "stdout",
          "output_type": "stream",
          "text": [
            "MoviePy - Done.\n",
            "MoviePy - Writing audio in temp_audio.wav\n"
          ]
        },
        {
          "name": "stderr",
          "output_type": "stream",
          "text": [
            "\n",
            "\n",
            "\n",
            "chunk:   0%|                                                                                                         | 0/1324 [00:00<?, ?it/s, now=None]\u001b[A\u001b[A\u001b[A\n",
            "\n",
            "\n",
            "chunk:  69%|████████████████████████████████████████████████████████████████▍                            | 918/1324 [00:00<00:00, 9071.65it/s, now=None]\u001b[A\u001b[A\u001b[A\n",
            "\n",
            "\n",
            "                                                                                                                                                        \u001b[A\u001b[A\u001b[A"
          ]
        },
        {
          "name": "stdout",
          "output_type": "stream",
          "text": [
            "MoviePy - Done.\n",
            "MoviePy - Writing audio in temp_audio.wav\n"
          ]
        },
        {
          "name": "stderr",
          "output_type": "stream",
          "text": [
            "\n",
            "\n",
            "\n",
            "chunk:   0%|                                                                                                         | 0/1324 [00:00<?, ?it/s, now=None]\u001b[A\u001b[A\u001b[A\n",
            "\n",
            "\n",
            "chunk:  76%|█████████████████████████████████████████████████████████████████████▍                     | 1011/1324 [00:00<00:00, 10107.41it/s, now=None]\u001b[A\u001b[A\u001b[A\n",
            "\n",
            "\n",
            "                                                                                                                                                        \u001b[A\u001b[A\u001b[A"
          ]
        },
        {
          "name": "stdout",
          "output_type": "stream",
          "text": [
            "MoviePy - Done.\n",
            "MoviePy - Writing audio in temp_audio.wav\n"
          ]
        },
        {
          "name": "stderr",
          "output_type": "stream",
          "text": [
            "\n",
            "\n",
            "\n",
            "chunk:   0%|                                                                                                         | 0/1324 [00:00<?, ?it/s, now=None]\u001b[A\u001b[A\u001b[A\n",
            "\n",
            "\n",
            "chunk:  62%|█████████████████████████████████████████████████████████▎                                   | 816/1324 [00:00<00:00, 8039.31it/s, now=None]\u001b[A\u001b[A\u001b[A\n",
            "\n",
            "\n",
            "                                                                                                                                                        \u001b[A\u001b[A\u001b[A"
          ]
        },
        {
          "name": "stdout",
          "output_type": "stream",
          "text": [
            "MoviePy - Done.\n",
            "MoviePy - Writing audio in temp_audio.wav\n"
          ]
        },
        {
          "name": "stderr",
          "output_type": "stream",
          "text": [
            "\n",
            "\n",
            "\n",
            "chunk:   0%|                                                                                                         | 0/1324 [00:00<?, ?it/s, now=None]\u001b[A\u001b[A\u001b[A\n",
            "\n",
            "\n",
            "chunk:  65%|████████████████████████████████████████████████████████████▉                                | 867/1324 [00:00<00:00, 8570.62it/s, now=None]\u001b[A\u001b[A\u001b[A\n",
            "\n",
            "\n",
            "                                                                                                                                                        \u001b[A\u001b[A\u001b[A"
          ]
        },
        {
          "name": "stdout",
          "output_type": "stream",
          "text": [
            "MoviePy - Done.\n",
            "MoviePy - Writing audio in temp_audio.wav\n"
          ]
        },
        {
          "name": "stderr",
          "output_type": "stream",
          "text": [
            "\n",
            "\n",
            "\n",
            "chunk:   0%|                                                                                                         | 0/1324 [00:00<?, ?it/s, now=None]\u001b[A\u001b[A\u001b[A\n",
            "\n",
            "\n",
            "chunk:  68%|███████████████████████████████████████████████████████████████                              | 897/1324 [00:00<00:00, 8967.36it/s, now=None]\u001b[A\u001b[A\u001b[A\n",
            "\n",
            "\n",
            "                                                                                                                                                        \u001b[A\u001b[A\u001b[A"
          ]
        },
        {
          "name": "stdout",
          "output_type": "stream",
          "text": [
            "MoviePy - Done.\n",
            "MoviePy - Writing audio in temp_audio.wav\n"
          ]
        },
        {
          "name": "stderr",
          "output_type": "stream",
          "text": [
            "\n",
            "\n",
            "\n",
            "chunk:   0%|                                                                                                         | 0/1324 [00:00<?, ?it/s, now=None]\u001b[A\u001b[A\u001b[A\n",
            "\n",
            "\n",
            "chunk:  67%|██████████████████████████████████████████████████████████████▎                              | 888/1324 [00:00<00:00, 8873.70it/s, now=None]\u001b[A\u001b[A\u001b[A\n",
            "\n",
            "\n",
            "                                                                                                                                                        \u001b[A\u001b[A\u001b[A"
          ]
        },
        {
          "name": "stdout",
          "output_type": "stream",
          "text": [
            "MoviePy - Done.\n",
            "MoviePy - Writing audio in temp_audio.wav\n"
          ]
        },
        {
          "name": "stderr",
          "output_type": "stream",
          "text": [
            "\n",
            "\n",
            "\n",
            "chunk:   0%|                                                                                                         | 0/1324 [00:00<?, ?it/s, now=None]\u001b[A\u001b[A\u001b[A\n",
            "\n",
            "\n",
            "chunk:  69%|████████████████████████████████████████████████████████████████▌                            | 919/1324 [00:00<00:00, 9189.40it/s, now=None]\u001b[A\u001b[A\u001b[A\n",
            "\n",
            "\n",
            "                                                                                                                                                        \u001b[A\u001b[A\u001b[A"
          ]
        },
        {
          "name": "stdout",
          "output_type": "stream",
          "text": [
            "MoviePy - Done.\n",
            "MoviePy - Writing audio in temp_audio.wav\n"
          ]
        },
        {
          "name": "stderr",
          "output_type": "stream",
          "text": [
            "\n",
            "\n",
            "\n",
            "chunk:   0%|                                                                                                         | 0/1324 [00:00<?, ?it/s, now=None]\u001b[A\u001b[A\u001b[A\n",
            "\n",
            "\n",
            "chunk:  60%|████████████████████████████████████████████████████████▏                                    | 800/1324 [00:00<00:00, 7997.24it/s, now=None]\u001b[A\u001b[A\u001b[A\n",
            "\n",
            "\n",
            "                                                                                                                                                        \u001b[A\u001b[A\u001b[A"
          ]
        },
        {
          "name": "stdout",
          "output_type": "stream",
          "text": [
            "MoviePy - Done.\n",
            "MoviePy - Writing audio in temp_audio.wav\n"
          ]
        },
        {
          "name": "stderr",
          "output_type": "stream",
          "text": [
            "\n",
            "\n",
            "\n",
            "chunk:   0%|                                                                                                         | 0/1324 [00:00<?, ?it/s, now=None]\u001b[A\u001b[A\u001b[A\n",
            "\n",
            "\n",
            "chunk:  69%|████████████████████████████████████████████████████████████████▎                            | 916/1324 [00:00<00:00, 9156.69it/s, now=None]\u001b[A\u001b[A\u001b[A\n",
            "\n",
            "\n",
            "                                                                                                                                                        \u001b[A\u001b[A\u001b[A"
          ]
        },
        {
          "name": "stdout",
          "output_type": "stream",
          "text": [
            "MoviePy - Done.\n",
            "MoviePy - Writing audio in temp_audio.wav\n"
          ]
        },
        {
          "name": "stderr",
          "output_type": "stream",
          "text": [
            "\n",
            "\n",
            "\n",
            "chunk:   0%|                                                                                                         | 0/1324 [00:00<?, ?it/s, now=None]\u001b[A\u001b[A\u001b[A\n",
            "\n",
            "\n",
            "chunk:  70%|█████████████████████████████████████████████████████████████████▍                           | 932/1324 [00:00<00:00, 9313.97it/s, now=None]\u001b[A\u001b[A\u001b[A\n",
            "\n",
            "\n",
            "                                                                                                                                                        \u001b[A\u001b[A\u001b[A"
          ]
        },
        {
          "name": "stdout",
          "output_type": "stream",
          "text": [
            "MoviePy - Done.\n",
            "MoviePy - Writing audio in temp_audio.wav\n"
          ]
        },
        {
          "name": "stderr",
          "output_type": "stream",
          "text": [
            "\n",
            "\n",
            "\n",
            "chunk:   0%|                                                                                                         | 0/1324 [00:00<?, ?it/s, now=None]\u001b[A\u001b[A\u001b[A\n",
            "\n",
            "\n",
            "chunk:  64%|███████████████████████████████████████████████████████████▍                                 | 847/1324 [00:00<00:00, 8463.95it/s, now=None]\u001b[A\u001b[A\u001b[A\n",
            "\n",
            "\n",
            "                                                                                                                                                        \u001b[A\u001b[A\u001b[A"
          ]
        },
        {
          "name": "stdout",
          "output_type": "stream",
          "text": [
            "MoviePy - Done.\n",
            "MoviePy - Writing audio in temp_audio.wav\n"
          ]
        },
        {
          "name": "stderr",
          "output_type": "stream",
          "text": [
            "\n",
            "\n",
            "\n",
            "chunk:   0%|                                                                                                         | 0/1324 [00:00<?, ?it/s, now=None]\u001b[A\u001b[A\u001b[A\n",
            "\n",
            "\n",
            "chunk:  66%|█████████████████████████████████████████████████████████████▌                               | 877/1324 [00:00<00:00, 8767.04it/s, now=None]\u001b[A\u001b[A\u001b[A\n",
            "\n",
            "\n",
            "                                                                                                                                                        \u001b[A\u001b[A\u001b[A"
          ]
        },
        {
          "name": "stdout",
          "output_type": "stream",
          "text": [
            "MoviePy - Done.\n",
            "MoviePy - Writing audio in temp_audio.wav\n"
          ]
        },
        {
          "name": "stderr",
          "output_type": "stream",
          "text": [
            "\n",
            "\n",
            "\n",
            "chunk:   0%|                                                                                                         | 0/1324 [00:00<?, ?it/s, now=None]\u001b[A\u001b[A\u001b[A\n",
            "\n",
            "\n",
            "chunk:  61%|████████████████████████████████████████████████████████▌                                    | 806/1324 [00:00<00:00, 8053.23it/s, now=None]\u001b[A\u001b[A\u001b[A\n",
            "\n",
            "\n",
            "                                                                                                                                                        \u001b[A\u001b[A\u001b[A"
          ]
        },
        {
          "name": "stdout",
          "output_type": "stream",
          "text": [
            "MoviePy - Done.\n",
            "MoviePy - Writing audio in temp_audio.wav\n"
          ]
        },
        {
          "name": "stderr",
          "output_type": "stream",
          "text": [
            "\n",
            "\n",
            "\n",
            "chunk:   0%|                                                                                                         | 0/1324 [00:00<?, ?it/s, now=None]\u001b[A\u001b[A\u001b[A\n",
            "\n",
            "\n",
            "chunk:  73%|███████████████████████████████████████████████████████████████████▋                         | 964/1324 [00:00<00:00, 9636.15it/s, now=None]\u001b[A\u001b[A\u001b[A\n",
            "\n",
            "\n",
            "                                                                                                                                                        \u001b[A\u001b[A\u001b[A"
          ]
        },
        {
          "name": "stdout",
          "output_type": "stream",
          "text": [
            "MoviePy - Done.\n",
            "MoviePy - Writing audio in temp_audio.wav\n"
          ]
        },
        {
          "name": "stderr",
          "output_type": "stream",
          "text": [
            "\n",
            "\n",
            "\n",
            "chunk:   0%|                                                                                                         | 0/1324 [00:00<?, ?it/s, now=None]\u001b[A\u001b[A\u001b[A\n",
            "\n",
            "\n",
            "chunk:  58%|█████████████████████████████████████████████████████▋                                       | 765/1324 [00:00<00:00, 7625.41it/s, now=None]\u001b[A\u001b[A\u001b[A\n",
            "\n",
            "\n",
            "                                                                                                                                                        \u001b[A\u001b[A\u001b[A"
          ]
        },
        {
          "name": "stdout",
          "output_type": "stream",
          "text": [
            "MoviePy - Done.\n",
            "MoviePy - Writing audio in temp_audio.wav\n"
          ]
        },
        {
          "name": "stderr",
          "output_type": "stream",
          "text": [
            "\n",
            "\n",
            "\n",
            "chunk:   0%|                                                                                                         | 0/1324 [00:00<?, ?it/s, now=None]\u001b[A\u001b[A\u001b[A\n",
            "\n",
            "\n",
            "chunk:  74%|████████████████████████████████████████████████████████████████████▋                        | 978/1324 [00:00<00:00, 9775.88it/s, now=None]\u001b[A\u001b[A\u001b[A\n",
            "\n",
            "\n",
            "                                                                                                                                                        \u001b[A\u001b[A\u001b[A"
          ]
        },
        {
          "name": "stdout",
          "output_type": "stream",
          "text": [
            "MoviePy - Done.\n",
            "MoviePy - Writing audio in temp_audio.wav\n"
          ]
        },
        {
          "name": "stderr",
          "output_type": "stream",
          "text": [
            "\n",
            "\n",
            "\n",
            "chunk:   0%|                                                                                                         | 0/1324 [00:00<?, ?it/s, now=None]\u001b[A\u001b[A\u001b[A\n",
            "\n",
            "\n",
            "chunk:  69%|████████████████████████████████████████████████████████████████▍                            | 918/1324 [00:00<00:00, 9071.88it/s, now=None]\u001b[A\u001b[A\u001b[A\n",
            "\n",
            "\n",
            "                                                                                                                                                        \u001b[A\u001b[A\u001b[A"
          ]
        },
        {
          "name": "stdout",
          "output_type": "stream",
          "text": [
            "MoviePy - Done.\n",
            "MoviePy - Writing audio in temp_audio.wav\n"
          ]
        },
        {
          "name": "stderr",
          "output_type": "stream",
          "text": [
            "\n",
            "\n",
            "\n",
            "chunk:   0%|                                                                                                         | 0/1324 [00:00<?, ?it/s, now=None]\u001b[A\u001b[A\u001b[A\n",
            "\n",
            "\n",
            "chunk:  69%|████████████████████████████████████████████████████████████████▍                            | 918/1324 [00:00<00:00, 9133.26it/s, now=None]\u001b[A\u001b[A\u001b[A\n",
            "\n",
            "\n",
            "                                                                                                                                                        \u001b[A\u001b[A\u001b[A"
          ]
        },
        {
          "name": "stdout",
          "output_type": "stream",
          "text": [
            "MoviePy - Done.\n",
            "MoviePy - Writing audio in temp_audio.wav\n"
          ]
        },
        {
          "name": "stderr",
          "output_type": "stream",
          "text": [
            "\n",
            "\n",
            "\n",
            "chunk:   0%|                                                                                                         | 0/1324 [00:00<?, ?it/s, now=None]\u001b[A\u001b[A\u001b[A\n",
            "\n",
            "\n",
            "chunk:  71%|██████████████████████████████████████████████████████████████████▏                          | 942/1324 [00:00<00:00, 9415.41it/s, now=None]\u001b[A\u001b[A\u001b[A\n",
            "\n",
            "\n",
            "                                                                                                                                                        \u001b[A\u001b[A\u001b[A"
          ]
        },
        {
          "name": "stdout",
          "output_type": "stream",
          "text": [
            "MoviePy - Done.\n",
            "MoviePy - Writing audio in temp_audio.wav\n"
          ]
        },
        {
          "name": "stderr",
          "output_type": "stream",
          "text": [
            "\n",
            "\n",
            "\n",
            "chunk:   0%|                                                                                                         | 0/1324 [00:00<?, ?it/s, now=None]\u001b[A\u001b[A\u001b[A\n",
            "\n",
            "\n",
            "chunk:  65%|████████████████████████████████████████████████████████████▉                                | 867/1324 [00:00<00:00, 8553.30it/s, now=None]\u001b[A\u001b[A\u001b[A\n",
            "\n",
            "\n",
            "                                                                                                                                                        \u001b[A\u001b[A\u001b[A"
          ]
        },
        {
          "name": "stdout",
          "output_type": "stream",
          "text": [
            "MoviePy - Done.\n",
            "MoviePy - Writing audio in temp_audio.wav\n"
          ]
        },
        {
          "name": "stderr",
          "output_type": "stream",
          "text": [
            "\n",
            "\n",
            "\n",
            "chunk:   0%|                                                                                                         | 0/1324 [00:00<?, ?it/s, now=None]\u001b[A\u001b[A\u001b[A\n",
            "\n",
            "\n",
            "chunk:  63%|██████████████████████████████████████████████████████████▏                                  | 828/1324 [00:00<00:00, 8274.13it/s, now=None]\u001b[A\u001b[A\u001b[A\n",
            "\n",
            "\n",
            "                                                                                                                                                        \u001b[A\u001b[A\u001b[A"
          ]
        },
        {
          "name": "stdout",
          "output_type": "stream",
          "text": [
            "MoviePy - Done.\n",
            "MoviePy - Writing audio in temp_audio.wav\n"
          ]
        },
        {
          "name": "stderr",
          "output_type": "stream",
          "text": [
            "\n",
            "\n",
            "\n",
            "chunk:   0%|                                                                                                          | 0/913 [00:00<?, ?it/s, now=None]\u001b[A\u001b[A\u001b[A\n",
            "\n",
            "\n",
            "chunk:  90%|████████████████████████████████████████████████████████████████████████████████████▉         | 825/913 [00:00<00:00, 8249.56it/s, now=None]\u001b[A\u001b[A\u001b[A\n",
            "\n",
            "\n",
            "                                                                                                                                                        \u001b[A\u001b[A\u001b[A"
          ]
        },
        {
          "name": "stdout",
          "output_type": "stream",
          "text": [
            "MoviePy - Done.\n",
            "MoviePy - Writing audio in temp_audio.wav\n"
          ]
        },
        {
          "name": "stderr",
          "output_type": "stream",
          "text": [
            "\n",
            "\n",
            "\n",
            "chunk:   0%|                                                                                                         | 0/1324 [00:00<?, ?it/s, now=None]\u001b[A\u001b[A\u001b[A\n",
            "\n",
            "\n",
            "chunk:  67%|█████████████████████████████████████████████████████████████▉                               | 882/1324 [00:00<00:00, 8815.41it/s, now=None]\u001b[A\u001b[A\u001b[A\n",
            "\n",
            "\n",
            "                                                                                                                                                        \u001b[A\u001b[A\u001b[A"
          ]
        },
        {
          "name": "stdout",
          "output_type": "stream",
          "text": [
            "MoviePy - Done.\n",
            "MoviePy - Writing audio in temp_audio.wav\n"
          ]
        },
        {
          "name": "stderr",
          "output_type": "stream",
          "text": [
            "\n",
            "\n",
            "\n",
            "chunk:   0%|                                                                                                         | 0/1324 [00:00<?, ?it/s, now=None]\u001b[A\u001b[A\u001b[A\n",
            "\n",
            "\n",
            "chunk:  69%|████████████████████████████████████████████████████████████████▏                            | 913/1324 [00:00<00:00, 9124.24it/s, now=None]\u001b[A\u001b[A\u001b[A\n",
            "\n",
            "\n",
            "                                                                                                                                                        \u001b[A\u001b[A\u001b[A"
          ]
        },
        {
          "name": "stdout",
          "output_type": "stream",
          "text": [
            "MoviePy - Done.\n",
            "MoviePy - Writing audio in temp_audio.wav\n"
          ]
        },
        {
          "name": "stderr",
          "output_type": "stream",
          "text": [
            "\n",
            "\n",
            "\n",
            "chunk:   0%|                                                                                                         | 0/1324 [00:00<?, ?it/s, now=None]\u001b[A\u001b[A\u001b[A\n",
            "\n",
            "\n",
            "chunk:  65%|████████████████████████████████████████████████████████████▉                                | 867/1324 [00:00<00:00, 8587.13it/s, now=None]\u001b[A\u001b[A\u001b[A\n",
            "\n",
            "\n",
            "                                                                                                                                                        \u001b[A\u001b[A\u001b[A"
          ]
        },
        {
          "name": "stdout",
          "output_type": "stream",
          "text": [
            "MoviePy - Done.\n",
            "MoviePy - Writing audio in temp_audio.wav\n"
          ]
        },
        {
          "name": "stderr",
          "output_type": "stream",
          "text": [
            "\n",
            "\n",
            "\n",
            "chunk:   0%|                                                                                                         | 0/1324 [00:00<?, ?it/s, now=None]\u001b[A\u001b[A\u001b[A\n",
            "\n",
            "\n",
            "chunk:  62%|█████████████████████████████████████████████████████████▎                                   | 816/1324 [00:00<00:00, 7969.77it/s, now=None]\u001b[A\u001b[A\u001b[A\n",
            "\n",
            "\n",
            "                                                                                                                                                        \u001b[A\u001b[A\u001b[A"
          ]
        },
        {
          "name": "stdout",
          "output_type": "stream",
          "text": [
            "MoviePy - Done.\n",
            "MoviePy - Writing audio in temp_audio.wav\n"
          ]
        },
        {
          "name": "stderr",
          "output_type": "stream",
          "text": [
            "\n",
            "\n",
            "\n",
            "chunk:   0%|                                                                                                         | 0/1324 [00:00<?, ?it/s, now=None]\u001b[A\u001b[A\u001b[A\n",
            "\n",
            "\n",
            "chunk:  68%|██████████████████████████████████████████████████████████████▉                              | 896/1324 [00:00<00:00, 8956.66it/s, now=None]\u001b[A\u001b[A\u001b[A\n",
            "\n",
            "\n",
            "                                                                                                                                                        \u001b[A\u001b[A\u001b[A"
          ]
        },
        {
          "name": "stdout",
          "output_type": "stream",
          "text": [
            "MoviePy - Done.\n",
            "MoviePy - Writing audio in temp_audio.wav\n"
          ]
        },
        {
          "name": "stderr",
          "output_type": "stream",
          "text": [
            "\n",
            "\n",
            "\n",
            "chunk:   0%|                                                                                                         | 0/1324 [00:00<?, ?it/s, now=None]\u001b[A\u001b[A\u001b[A\n",
            "\n",
            "\n",
            "chunk:  73%|████████████████████████████████████████████████████████████████████                         | 969/1324 [00:00<00:00, 9659.84it/s, now=None]\u001b[A\u001b[A\u001b[A\n",
            "\n",
            "\n",
            "                                                                                                                                                        \u001b[A\u001b[A\u001b[A"
          ]
        },
        {
          "name": "stdout",
          "output_type": "stream",
          "text": [
            "MoviePy - Done.\n",
            "MoviePy - Writing audio in temp_audio.wav\n"
          ]
        },
        {
          "name": "stderr",
          "output_type": "stream",
          "text": [
            "\n",
            "\n",
            "\n",
            "chunk:   0%|                                                                                                         | 0/1324 [00:00<?, ?it/s, now=None]\u001b[A\u001b[A\u001b[A\n",
            "\n",
            "\n",
            "chunk:  64%|███████████████████████████████████████████████████████████▊                                 | 852/1324 [00:00<00:00, 8515.22it/s, now=None]\u001b[A\u001b[A\u001b[A\n",
            "\n",
            "\n",
            "                                                                                                                                                        \u001b[A\u001b[A\u001b[A"
          ]
        },
        {
          "name": "stdout",
          "output_type": "stream",
          "text": [
            "MoviePy - Done.\n",
            "MoviePy - Writing audio in temp_audio.wav\n"
          ]
        },
        {
          "name": "stderr",
          "output_type": "stream",
          "text": [
            "\n",
            "\n",
            "\n",
            "chunk:   0%|                                                                                                         | 0/1324 [00:00<?, ?it/s, now=None]\u001b[A\u001b[A\u001b[A\n",
            "\n",
            "\n",
            "chunk:  46%|██████████████████████████████████████████▉                                                  | 612/1324 [00:00<00:00, 6112.56it/s, now=None]\u001b[A\u001b[A\u001b[A\n",
            "\n",
            "\n",
            "                                                                                                                                                        \u001b[A\u001b[A\u001b[A"
          ]
        },
        {
          "name": "stdout",
          "output_type": "stream",
          "text": [
            "MoviePy - Done.\n",
            "MoviePy - Writing audio in temp_audio.wav\n"
          ]
        },
        {
          "name": "stderr",
          "output_type": "stream",
          "text": [
            "\n",
            "\n",
            "\n",
            "chunk:   0%|                                                                                                         | 0/1324 [00:00<?, ?it/s, now=None]\u001b[A\u001b[A\u001b[A\n",
            "\n",
            "\n",
            "chunk:  65%|████████████████████████████████████████████████████████████▉                                | 867/1324 [00:00<00:00, 8621.52it/s, now=None]\u001b[A\u001b[A\u001b[A\n",
            "\n",
            "\n",
            "                                                                                                                                                        \u001b[A\u001b[A\u001b[A"
          ]
        },
        {
          "name": "stdout",
          "output_type": "stream",
          "text": [
            "MoviePy - Done.\n",
            "MoviePy - Writing audio in temp_audio.wav\n"
          ]
        },
        {
          "name": "stderr",
          "output_type": "stream",
          "text": [
            "\n",
            "\n",
            "\n",
            "chunk:   0%|                                                                                                         | 0/1324 [00:00<?, ?it/s, now=None]\u001b[A\u001b[A\u001b[A\n",
            "\n",
            "\n",
            "chunk:  52%|████████████████████████████████████████████████▋                                            | 694/1324 [00:00<00:00, 6934.45it/s, now=None]\u001b[A\u001b[A\u001b[A\n",
            "\n",
            "\n",
            "                                                                                                                                                        \u001b[A\u001b[A\u001b[A"
          ]
        },
        {
          "name": "stdout",
          "output_type": "stream",
          "text": [
            "MoviePy - Done.\n",
            "MoviePy - Writing audio in temp_audio.wav\n"
          ]
        },
        {
          "name": "stderr",
          "output_type": "stream",
          "text": [
            "\n",
            "\n",
            "\n",
            "chunk:   0%|                                                                                                          | 0/221 [00:00<?, ?it/s, now=None]\u001b[A\u001b[A\u001b[A\n",
            "\n",
            "\n",
            "                                                                                                                                                        \u001b[A\u001b[A\u001b[A"
          ]
        },
        {
          "name": "stdout",
          "output_type": "stream",
          "text": [
            "MoviePy - Done.\n",
            "MoviePy - Writing audio in temp_audio.wav\n"
          ]
        },
        {
          "name": "stderr",
          "output_type": "stream",
          "text": [
            "\n",
            "\n",
            "\n",
            "chunk:   0%|                                                                                                         | 0/1324 [00:00<?, ?it/s, now=None]\u001b[A\u001b[A\u001b[A\n",
            "\n",
            "\n",
            "chunk:  23%|█████████████████████▍                                                                       | 306/1324 [00:00<00:00, 3047.35it/s, now=None]\u001b[A\u001b[A\u001b[A\n",
            "\n",
            "\n",
            "chunk:  92%|█████████████████████████████████████████████████████████████████████████████████████       | 1224/1324 [00:00<00:00, 6615.23it/s, now=None]\u001b[A\u001b[A\u001b[A\n",
            "\n",
            "\n",
            "                                                                                                                                                        \u001b[A\u001b[A\u001b[A"
          ]
        },
        {
          "name": "stdout",
          "output_type": "stream",
          "text": [
            "MoviePy - Done.\n",
            "MoviePy - Writing audio in temp_audio.wav\n"
          ]
        },
        {
          "name": "stderr",
          "output_type": "stream",
          "text": [
            "\n",
            "\n",
            "\n",
            "chunk:   0%|                                                                                                         | 0/1324 [00:00<?, ?it/s, now=None]\u001b[A\u001b[A\u001b[A\n",
            "\n",
            "\n",
            "chunk:  49%|█████████████████████████████████████████████▊                                               | 652/1324 [00:00<00:00, 6519.80it/s, now=None]\u001b[A\u001b[A\u001b[A\n",
            "\n",
            "\n",
            "                                                                                                                                                        \u001b[A\u001b[A\u001b[A"
          ]
        },
        {
          "name": "stdout",
          "output_type": "stream",
          "text": [
            "MoviePy - Done.\n",
            "MoviePy - Writing audio in temp_audio.wav\n"
          ]
        },
        {
          "name": "stderr",
          "output_type": "stream",
          "text": [
            "\n",
            "\n",
            "\n",
            "chunk:   0%|                                                                                                         | 0/1324 [00:00<?, ?it/s, now=None]\u001b[A\u001b[A\u001b[A\n",
            "\n",
            "\n",
            "chunk:  69%|████████████████████████████████████████████████████████████████▍                            | 918/1324 [00:00<00:00, 9047.14it/s, now=None]\u001b[A\u001b[A\u001b[A\n",
            "\n",
            "\n",
            "                                                                                                                                                        \u001b[A\u001b[A\u001b[A"
          ]
        },
        {
          "name": "stdout",
          "output_type": "stream",
          "text": [
            "MoviePy - Done.\n",
            "MoviePy - Writing audio in temp_audio.wav\n"
          ]
        },
        {
          "name": "stderr",
          "output_type": "stream",
          "text": [
            "\n",
            "\n",
            "\n",
            "chunk:   0%|                                                                                                         | 0/1324 [00:00<?, ?it/s, now=None]\u001b[A\u001b[A\u001b[A\n",
            "\n",
            "\n",
            "chunk:  63%|██████████████████████████████████████████████████████████▎                                  | 830/1324 [00:00<00:00, 8297.44it/s, now=None]\u001b[A\u001b[A\u001b[A\n",
            "\n",
            "\n",
            "                                                                                                                                                        \u001b[A\u001b[A\u001b[A"
          ]
        },
        {
          "name": "stdout",
          "output_type": "stream",
          "text": [
            "MoviePy - Done.\n",
            "MoviePy - Writing audio in temp_audio.wav\n"
          ]
        },
        {
          "name": "stderr",
          "output_type": "stream",
          "text": [
            "\n",
            "\n",
            "\n",
            "chunk:   0%|                                                                                                         | 0/1324 [00:00<?, ?it/s, now=None]\u001b[A\u001b[A\u001b[A\n",
            "\n",
            "\n",
            "chunk:  61%|████████████████████████████████████████████████████████▊                                    | 809/1324 [00:00<00:00, 8084.23it/s, now=None]\u001b[A\u001b[A\u001b[A\n",
            "\n",
            "\n",
            "                                                                                                                                                        \u001b[A\u001b[A\u001b[A"
          ]
        },
        {
          "name": "stdout",
          "output_type": "stream",
          "text": [
            "MoviePy - Done.\n",
            "MoviePy - Writing audio in temp_audio.wav\n"
          ]
        },
        {
          "name": "stderr",
          "output_type": "stream",
          "text": [
            "\n",
            "\n",
            "\n",
            "chunk:   0%|                                                                                                         | 0/1324 [00:00<?, ?it/s, now=None]\u001b[A\u001b[A\u001b[A\n",
            "\n",
            "\n",
            "chunk:  65%|████████████████████████████████████████████████████████████▉                                | 867/1324 [00:00<00:00, 8668.19it/s, now=None]\u001b[A\u001b[A\u001b[A\n",
            "\n",
            "\n",
            "                                                                                                                                                        \u001b[A\u001b[A\u001b[A"
          ]
        },
        {
          "name": "stdout",
          "output_type": "stream",
          "text": [
            "MoviePy - Done.\n",
            "MoviePy - Writing audio in temp_audio.wav\n"
          ]
        },
        {
          "name": "stderr",
          "output_type": "stream",
          "text": [
            "\n",
            "\n",
            "\n",
            "chunk:   0%|                                                                                                         | 0/1132 [00:00<?, ?it/s, now=None]\u001b[A\u001b[A\u001b[A\n",
            "\n",
            "\n",
            "chunk:  76%|██████████████████████████████████████████████████████████████████████▍                      | 857/1132 [00:00<00:00, 8565.62it/s, now=None]\u001b[A\u001b[A\u001b[A\n",
            "\n",
            "\n",
            "                                                                                                                                                        \u001b[A\u001b[A\u001b[A"
          ]
        },
        {
          "name": "stdout",
          "output_type": "stream",
          "text": [
            "MoviePy - Done.\n",
            "MoviePy - Writing audio in temp_audio.wav\n"
          ]
        },
        {
          "name": "stderr",
          "output_type": "stream",
          "text": [
            "\n",
            "\n",
            "\n",
            "chunk:   0%|                                                                                                         | 0/1324 [00:00<?, ?it/s, now=None]\u001b[A\u001b[A\u001b[A\n",
            "\n",
            "\n",
            "chunk:  62%|█████████████████████████████████████████████████████████▋                                   | 822/1324 [00:00<00:00, 8213.62it/s, now=None]\u001b[A\u001b[A\u001b[A\n",
            "\n",
            "\n",
            "                                                                                                                                                        \u001b[A\u001b[A\u001b[A"
          ]
        },
        {
          "name": "stdout",
          "output_type": "stream",
          "text": [
            "MoviePy - Done.\n",
            "MoviePy - Writing audio in temp_audio.wav\n"
          ]
        },
        {
          "name": "stderr",
          "output_type": "stream",
          "text": [
            "\n",
            "\n",
            "\n",
            "chunk:   0%|                                                                                                         | 0/1324 [00:00<?, ?it/s, now=None]\u001b[A\u001b[A\u001b[A\n",
            "\n",
            "\n",
            "chunk:  56%|████████████████████████████████████████████████████▍                                        | 746/1324 [00:00<00:00, 7459.03it/s, now=None]\u001b[A\u001b[A\u001b[A\n",
            "\n",
            "\n",
            "                                                                                                                                                        \u001b[A\u001b[A\u001b[A"
          ]
        },
        {
          "name": "stdout",
          "output_type": "stream",
          "text": [
            "MoviePy - Done.\n",
            "MoviePy - Writing audio in temp_audio.wav\n"
          ]
        },
        {
          "name": "stderr",
          "output_type": "stream",
          "text": [
            "\n",
            "\n",
            "\n",
            "chunk:   0%|                                                                                                          | 0/610 [00:00<?, ?it/s, now=None]\u001b[A\u001b[A\u001b[A\n",
            "\n",
            "\n",
            "                                                                                                                                                        \u001b[A\u001b[A\u001b[A"
          ]
        },
        {
          "name": "stdout",
          "output_type": "stream",
          "text": [
            "MoviePy - Done.\n",
            "MoviePy - Writing audio in temp_audio.wav\n"
          ]
        },
        {
          "name": "stderr",
          "output_type": "stream",
          "text": [
            "\n",
            "\n",
            "\n",
            "chunk:   0%|                                                                                                         | 0/1324 [00:00<?, ?it/s, now=None]\u001b[A\u001b[A\u001b[A\n",
            "\n",
            "\n",
            "chunk:  67%|██████████████████████████████████████████████████████████████                               | 883/1324 [00:00<00:00, 8826.49it/s, now=None]\u001b[A\u001b[A\u001b[A\n",
            "\n",
            "\n",
            "                                                                                                                                                        \u001b[A\u001b[A\u001b[A"
          ]
        },
        {
          "name": "stdout",
          "output_type": "stream",
          "text": [
            "MoviePy - Done.\n",
            "MoviePy - Writing audio in temp_audio.wav\n"
          ]
        },
        {
          "name": "stderr",
          "output_type": "stream",
          "text": [
            "\n",
            "\n",
            "\n",
            "chunk:   0%|                                                                                                         | 0/1324 [00:00<?, ?it/s, now=None]\u001b[A\u001b[A\u001b[A\n",
            "\n",
            "\n",
            "chunk:  58%|█████████████████████████████████████████████████████▋                                       | 765/1324 [00:00<00:00, 7558.03it/s, now=None]\u001b[A\u001b[A\u001b[A\n",
            "\n",
            "\n",
            "                                                                                                                                                        \u001b[A\u001b[A\u001b[A"
          ]
        },
        {
          "name": "stdout",
          "output_type": "stream",
          "text": [
            "MoviePy - Done.\n",
            "MoviePy - Writing audio in temp_audio.wav\n"
          ]
        },
        {
          "name": "stderr",
          "output_type": "stream",
          "text": [
            "\n",
            "\n",
            "\n",
            "chunk:   0%|                                                                                                          | 0/763 [00:00<?, ?it/s, now=None]\u001b[A\u001b[A\u001b[A\n",
            "\n",
            "\n",
            "                                                                                                                                                        \u001b[A\u001b[A\u001b[A"
          ]
        },
        {
          "name": "stdout",
          "output_type": "stream",
          "text": [
            "MoviePy - Done.\n",
            "MoviePy - Writing audio in temp_audio.wav\n"
          ]
        },
        {
          "name": "stderr",
          "output_type": "stream",
          "text": [
            "\n",
            "\n",
            "\n",
            "chunk:   0%|                                                                                                         | 0/1324 [00:00<?, ?it/s, now=None]\u001b[A\u001b[A\u001b[A\n",
            "\n",
            "\n",
            "chunk:  63%|██████████████████████████████████████████████████████████▋                                  | 836/1324 [00:00<00:00, 8354.73it/s, now=None]\u001b[A\u001b[A\u001b[A\n",
            "\n",
            "\n",
            "                                                                                                                                                        \u001b[A\u001b[A\u001b[A"
          ]
        },
        {
          "name": "stdout",
          "output_type": "stream",
          "text": [
            "MoviePy - Done.\n",
            "MoviePy - Writing audio in temp_audio.wav\n"
          ]
        },
        {
          "name": "stderr",
          "output_type": "stream",
          "text": [
            "\n",
            "\n",
            "\n",
            "chunk:   0%|                                                                                                         | 0/1324 [00:00<?, ?it/s, now=None]\u001b[A\u001b[A\u001b[A\n",
            "\n",
            "\n",
            "chunk:  60%|███████████████████████████████████████████████████████▍                                     | 789/1324 [00:00<00:00, 7887.11it/s, now=None]\u001b[A\u001b[A\u001b[A\n",
            "\n",
            "\n",
            "                                                                                                                                                        \u001b[A\u001b[A\u001b[A"
          ]
        },
        {
          "name": "stdout",
          "output_type": "stream",
          "text": [
            "MoviePy - Done.\n",
            "MoviePy - Writing audio in temp_audio.wav\n"
          ]
        },
        {
          "name": "stderr",
          "output_type": "stream",
          "text": [
            "\n",
            "\n",
            "\n",
            "chunk:   0%|                                                                                                         | 0/1324 [00:00<?, ?it/s, now=None]\u001b[A\u001b[A\u001b[A\n",
            "\n",
            "\n",
            "chunk:  73%|████████████████████████████████████████████████████████████████████                         | 969/1324 [00:00<00:00, 9641.99it/s, now=None]\u001b[A\u001b[A\u001b[A\n",
            "\n",
            "\n",
            "                                                                                                                                                        \u001b[A\u001b[A\u001b[A"
          ]
        },
        {
          "name": "stdout",
          "output_type": "stream",
          "text": [
            "MoviePy - Done.\n",
            "MoviePy - Writing audio in temp_audio.wav\n"
          ]
        },
        {
          "name": "stderr",
          "output_type": "stream",
          "text": [
            "\n",
            "\n",
            "\n",
            "chunk:   0%|                                                                                                         | 0/1324 [00:00<?, ?it/s, now=None]\u001b[A\u001b[A\u001b[A\n",
            "\n",
            "\n",
            "chunk:  69%|████████████████████████████████████████████████████████████████▍                            | 918/1324 [00:00<00:00, 9073.96it/s, now=None]\u001b[A\u001b[A\u001b[A\n",
            "\n",
            "\n",
            "                                                                                                                                                        \u001b[A\u001b[A\u001b[A"
          ]
        },
        {
          "name": "stdout",
          "output_type": "stream",
          "text": [
            "MoviePy - Done.\n",
            "MoviePy - Writing audio in temp_audio.wav\n"
          ]
        },
        {
          "name": "stderr",
          "output_type": "stream",
          "text": [
            "\n",
            "\n",
            "\n",
            "chunk:   0%|                                                                                                         | 0/1324 [00:00<?, ?it/s, now=None]\u001b[A\u001b[A\u001b[A\n",
            "\n",
            "\n",
            "chunk:  67%|██████████████████████████████████████████████████████████████▏                              | 886/1324 [00:00<00:00, 8858.83it/s, now=None]\u001b[A\u001b[A\u001b[A\n",
            "\n",
            "\n",
            "                                                                                                                                                        \u001b[A\u001b[A\u001b[A"
          ]
        },
        {
          "name": "stdout",
          "output_type": "stream",
          "text": [
            "MoviePy - Done.\n",
            "MoviePy - Writing audio in temp_audio.wav\n"
          ]
        },
        {
          "name": "stderr",
          "output_type": "stream",
          "text": [
            "\n",
            "\n",
            "\n",
            "chunk:   0%|                                                                                                         | 0/1324 [00:00<?, ?it/s, now=None]\u001b[A\u001b[A\u001b[A\n",
            "\n",
            "\n",
            "chunk:  66%|█████████████████████████████████████████████████████████████▋                               | 879/1324 [00:00<00:00, 8787.14it/s, now=None]\u001b[A\u001b[A\u001b[A\n",
            "\n",
            "\n",
            "                                                                                                                                                        \u001b[A\u001b[A\u001b[A"
          ]
        },
        {
          "name": "stdout",
          "output_type": "stream",
          "text": [
            "MoviePy - Done.\n",
            "MoviePy - Writing audio in temp_audio.wav\n"
          ]
        },
        {
          "name": "stderr",
          "output_type": "stream",
          "text": [
            "\n",
            "\n",
            "\n",
            "chunk:   0%|                                                                                                         | 0/1324 [00:00<?, ?it/s, now=None]\u001b[A\u001b[A\u001b[A\n",
            "\n",
            "\n",
            "chunk:  65%|████████████████████████████████████████████████████████████▏                                | 857/1324 [00:00<00:00, 8564.60it/s, now=None]\u001b[A\u001b[A\u001b[A\n",
            "\n",
            "\n",
            "                                                                                                                                                        \u001b[A\u001b[A\u001b[A"
          ]
        },
        {
          "name": "stdout",
          "output_type": "stream",
          "text": [
            "MoviePy - Done.\n",
            "MoviePy - Writing audio in temp_audio.wav\n"
          ]
        },
        {
          "name": "stderr",
          "output_type": "stream",
          "text": [
            "\n",
            "\n",
            "\n",
            "chunk:   0%|                                                                                                         | 0/1324 [00:00<?, ?it/s, now=None]\u001b[A\u001b[A\u001b[A\n",
            "\n",
            "\n",
            "chunk:  62%|█████████████████████████████████████████████████████████▉                                   | 825/1324 [00:00<00:00, 8243.88it/s, now=None]\u001b[A\u001b[A\u001b[A\n",
            "\n",
            "\n",
            "                                                                                                                                                        \u001b[A\u001b[A\u001b[A"
          ]
        },
        {
          "name": "stdout",
          "output_type": "stream",
          "text": [
            "MoviePy - Done.\n",
            "MoviePy - Writing audio in temp_audio.wav\n"
          ]
        },
        {
          "name": "stderr",
          "output_type": "stream",
          "text": [
            "\n",
            "\n",
            "\n",
            "chunk:   0%|                                                                                                         | 0/1324 [00:00<?, ?it/s, now=None]\u001b[A\u001b[A\u001b[A\n",
            "\n",
            "\n",
            "chunk:  63%|███████████████████████████████████████████████████████████                                  | 840/1324 [00:00<00:00, 8394.46it/s, now=None]\u001b[A\u001b[A\u001b[A\n",
            "\n",
            "\n",
            "                                                                                                                                                        \u001b[A\u001b[A\u001b[A"
          ]
        },
        {
          "name": "stdout",
          "output_type": "stream",
          "text": [
            "MoviePy - Done.\n",
            "MoviePy - Writing audio in temp_audio.wav\n"
          ]
        },
        {
          "name": "stderr",
          "output_type": "stream",
          "text": [
            "\n",
            "\n",
            "\n",
            "chunk:   0%|                                                                                                          | 0/380 [00:00<?, ?it/s, now=None]\u001b[A\u001b[A\u001b[A\n",
            "\n",
            "\n",
            "                                                                                                                                                        \u001b[A\u001b[A\u001b[A"
          ]
        },
        {
          "name": "stdout",
          "output_type": "stream",
          "text": [
            "MoviePy - Done.\n",
            "MoviePy - Writing audio in temp_audio.wav\n"
          ]
        },
        {
          "name": "stderr",
          "output_type": "stream",
          "text": [
            "\n",
            "\n",
            "\n",
            "chunk:   0%|                                                                                                         | 0/1324 [00:00<?, ?it/s, now=None]\u001b[A\u001b[A\u001b[A\n",
            "\n",
            "\n",
            "chunk:  39%|███████████████████████████████████▊                                                         | 510/1324 [00:00<00:00, 5090.38it/s, now=None]\u001b[A\u001b[A\u001b[A\n",
            "\n",
            "\n",
            "chunk:  96%|████████████████████████████████████████████████████████████████████████████████████████▌   | 1275/1324 [00:00<00:00, 6591.66it/s, now=None]\u001b[A\u001b[A\u001b[A\n",
            "\n",
            "\n",
            "                                                                                                                                                        \u001b[A\u001b[A\u001b[A"
          ]
        },
        {
          "name": "stdout",
          "output_type": "stream",
          "text": [
            "MoviePy - Done.\n",
            "MoviePy - Writing audio in temp_audio.wav\n"
          ]
        },
        {
          "name": "stderr",
          "output_type": "stream",
          "text": [
            "\n",
            "\n",
            "\n",
            "chunk:   0%|                                                                                                         | 0/1324 [00:00<?, ?it/s, now=None]\u001b[A\u001b[A\u001b[A\n",
            "\n",
            "\n",
            "chunk:  65%|████████████████████████████████████████████████████████████▊                                | 866/1324 [00:00<00:00, 8658.83it/s, now=None]\u001b[A\u001b[A\u001b[A\n",
            "\n",
            "\n",
            "                                                                                                                                                        \u001b[A\u001b[A\u001b[A"
          ]
        },
        {
          "name": "stdout",
          "output_type": "stream",
          "text": [
            "MoviePy - Done.\n",
            "MoviePy - Writing audio in temp_audio.wav\n"
          ]
        },
        {
          "name": "stderr",
          "output_type": "stream",
          "text": [
            "\n",
            "\n",
            "\n",
            "chunk:   0%|                                                                                                         | 0/1324 [00:00<?, ?it/s, now=None]\u001b[A\u001b[A\u001b[A\n",
            "\n",
            "\n",
            "chunk:  66%|█████████████████████████████████████████████████████████████▏                               | 871/1324 [00:00<00:00, 8705.61it/s, now=None]\u001b[A\u001b[A\u001b[A\n",
            "\n",
            "\n",
            "                                                                                                                                                        \u001b[A\u001b[A\u001b[A"
          ]
        },
        {
          "name": "stdout",
          "output_type": "stream",
          "text": [
            "MoviePy - Done.\n",
            "MoviePy - Writing audio in temp_audio.wav\n"
          ]
        },
        {
          "name": "stderr",
          "output_type": "stream",
          "text": [
            "\n",
            "\n",
            "\n",
            "chunk:   0%|                                                                                                         | 0/1324 [00:00<?, ?it/s, now=None]\u001b[A\u001b[A\u001b[A\n",
            "\n",
            "\n",
            "chunk:  52%|████████████████████████████████████████████████▊                                            | 695/1324 [00:00<00:00, 6947.04it/s, now=None]\u001b[A\u001b[A\u001b[A\n",
            "\n",
            "\n",
            "                                                                                                                                                        \u001b[A\u001b[A\u001b[A"
          ]
        },
        {
          "name": "stdout",
          "output_type": "stream",
          "text": [
            "MoviePy - Done.\n",
            "MoviePy - Writing audio in temp_audio.wav\n"
          ]
        },
        {
          "name": "stderr",
          "output_type": "stream",
          "text": [
            "\n",
            "\n",
            "\n",
            "chunk:   0%|                                                                                                         | 0/1324 [00:00<?, ?it/s, now=None]\u001b[A\u001b[A\u001b[A\n",
            "\n",
            "\n",
            "chunk:  59%|██████████████████████████████████████████████████████▉                                      | 782/1324 [00:00<00:00, 7817.71it/s, now=None]\u001b[A\u001b[A\u001b[A\n",
            "\n",
            "\n",
            "                                                                                                                                                        \u001b[A\u001b[A\u001b[A"
          ]
        },
        {
          "name": "stdout",
          "output_type": "stream",
          "text": [
            "MoviePy - Done.\n",
            "MoviePy - Writing audio in temp_audio.wav\n"
          ]
        },
        {
          "name": "stderr",
          "output_type": "stream",
          "text": [
            "\n",
            "\n",
            "\n",
            "chunk:   0%|                                                                                                         | 0/1324 [00:00<?, ?it/s, now=None]\u001b[A\u001b[A\u001b[A\n",
            "\n",
            "\n",
            "chunk:  66%|█████████████████████████████████████████████████████████████▋                               | 879/1324 [00:00<00:00, 8789.07it/s, now=None]\u001b[A\u001b[A\u001b[A\n",
            "\n",
            "\n",
            "                                                                                                                                                        \u001b[A\u001b[A\u001b[A"
          ]
        },
        {
          "name": "stdout",
          "output_type": "stream",
          "text": [
            "MoviePy - Done.\n",
            "MoviePy - Writing audio in temp_audio.wav\n"
          ]
        },
        {
          "name": "stderr",
          "output_type": "stream",
          "text": [
            "\n",
            "\n",
            "\n",
            "chunk:   0%|                                                                                                         | 0/1324 [00:00<?, ?it/s, now=None]\u001b[A\u001b[A\u001b[A\n",
            "\n",
            "\n",
            "chunk:  63%|██████████████████████████████████████████████████████████▍                                  | 832/1324 [00:00<00:00, 8314.75it/s, now=None]\u001b[A\u001b[A\u001b[A\n",
            "\n",
            "\n",
            "                                                                                                                                                        \u001b[A\u001b[A\u001b[A"
          ]
        },
        {
          "name": "stdout",
          "output_type": "stream",
          "text": [
            "MoviePy - Done.\n",
            "MoviePy - Writing audio in temp_audio.wav\n"
          ]
        },
        {
          "name": "stderr",
          "output_type": "stream",
          "text": [
            "\n",
            "\n",
            "\n",
            "chunk:   0%|                                                                                                         | 0/1324 [00:00<?, ?it/s, now=None]\u001b[A\u001b[A\u001b[A\n",
            "\n",
            "\n",
            "chunk:  69%|████████████████████████████████████████████████████████████████▍                            | 918/1324 [00:00<00:00, 8997.43it/s, now=None]\u001b[A\u001b[A\u001b[A\n",
            "\n",
            "\n",
            "                                                                                                                                                        \u001b[A\u001b[A\u001b[A"
          ]
        },
        {
          "name": "stdout",
          "output_type": "stream",
          "text": [
            "MoviePy - Done.\n",
            "MoviePy - Writing audio in temp_audio.wav\n"
          ]
        },
        {
          "name": "stderr",
          "output_type": "stream",
          "text": [
            "\n",
            "\n",
            "\n",
            "chunk:   0%|                                                                                                         | 0/1324 [00:00<?, ?it/s, now=None]\u001b[A\u001b[A\u001b[A\n",
            "\n",
            "\n",
            "chunk:  66%|█████████████████████████████████████████████████████████████                                | 869/1324 [00:00<00:00, 8686.24it/s, now=None]\u001b[A\u001b[A\u001b[A\n",
            "\n",
            "\n",
            "                                                                                                                                                        \u001b[A\u001b[A\u001b[A"
          ]
        },
        {
          "name": "stdout",
          "output_type": "stream",
          "text": [
            "MoviePy - Done.\n",
            "MoviePy - Writing audio in temp_audio.wav\n"
          ]
        },
        {
          "name": "stderr",
          "output_type": "stream",
          "text": [
            "\n",
            "\n",
            "\n",
            "chunk:   0%|                                                                                                         | 0/1324 [00:00<?, ?it/s, now=None]\u001b[A\u001b[A\u001b[A\n",
            "\n",
            "\n",
            "chunk:  64%|███████████████████████████████████████████████████████████▉                                 | 853/1324 [00:00<00:00, 8526.06it/s, now=None]\u001b[A\u001b[A\u001b[A\n",
            "\n",
            "\n",
            "                                                                                                                                                        \u001b[A\u001b[A\u001b[A"
          ]
        },
        {
          "name": "stdout",
          "output_type": "stream",
          "text": [
            "MoviePy - Done.\n",
            "MoviePy - Writing audio in temp_audio.wav\n"
          ]
        },
        {
          "name": "stderr",
          "output_type": "stream",
          "text": [
            "\n",
            "\n",
            "\n",
            "chunk:   0%|                                                                                                         | 0/1324 [00:00<?, ?it/s, now=None]\u001b[A\u001b[A\u001b[A\n",
            "\n",
            "\n",
            "chunk:  69%|███████████████████████████████████████████████████████████████▉                             | 910/1324 [00:00<00:00, 9095.32it/s, now=None]\u001b[A\u001b[A\u001b[A\n",
            "\n",
            "\n",
            "                                                                                                                                                        \u001b[A\u001b[A\u001b[A"
          ]
        },
        {
          "name": "stdout",
          "output_type": "stream",
          "text": [
            "MoviePy - Done.\n",
            "MoviePy - Writing audio in temp_audio.wav\n"
          ]
        },
        {
          "name": "stderr",
          "output_type": "stream",
          "text": [
            "\n",
            "\n",
            "\n",
            "chunk:   0%|                                                                                                         | 0/1324 [00:00<?, ?it/s, now=None]\u001b[A\u001b[A\u001b[A\n",
            "\n",
            "\n",
            "chunk:  68%|███████████████████████████████████████████████████████████████▏                             | 899/1324 [00:00<00:00, 8988.04it/s, now=None]\u001b[A\u001b[A\u001b[A\n",
            "\n",
            "\n",
            "                                                                                                                                                        \u001b[A\u001b[A\u001b[A"
          ]
        },
        {
          "name": "stdout",
          "output_type": "stream",
          "text": [
            "MoviePy - Done.\n",
            "MoviePy - Writing audio in temp_audio.wav\n"
          ]
        },
        {
          "name": "stderr",
          "output_type": "stream",
          "text": [
            "\n",
            "\n",
            "\n",
            "chunk:   0%|                                                                                                         | 0/1324 [00:00<?, ?it/s, now=None]\u001b[A\u001b[A\u001b[A\n",
            "\n",
            "\n",
            "chunk:  69%|███████████████████████████████████████████████████████████████▊                             | 908/1324 [00:00<00:00, 9075.96it/s, now=None]\u001b[A\u001b[A\u001b[A\n",
            "\n",
            "\n",
            "                                                                                                                                                        \u001b[A\u001b[A\u001b[A"
          ]
        },
        {
          "name": "stdout",
          "output_type": "stream",
          "text": [
            "MoviePy - Done.\n",
            "MoviePy - Writing audio in temp_audio.wav\n"
          ]
        },
        {
          "name": "stderr",
          "output_type": "stream",
          "text": [
            "\n",
            "\n",
            "\n",
            "chunk:   0%|                                                                                                         | 0/1324 [00:00<?, ?it/s, now=None]\u001b[A\u001b[A\u001b[A\n",
            "\n",
            "\n",
            "chunk:  69%|████████████████████████████████████████████████████████████████▍                            | 917/1324 [00:00<00:00, 9169.99it/s, now=None]\u001b[A\u001b[A\u001b[A\n",
            "\n",
            "\n",
            "                                                                                                                                                        \u001b[A\u001b[A\u001b[A"
          ]
        },
        {
          "name": "stdout",
          "output_type": "stream",
          "text": [
            "MoviePy - Done.\n",
            "MoviePy - Writing audio in temp_audio.wav\n"
          ]
        },
        {
          "name": "stderr",
          "output_type": "stream",
          "text": [
            "\n",
            "\n",
            "\n",
            "chunk:   0%|                                                                                                         | 0/1324 [00:00<?, ?it/s, now=None]\u001b[A\u001b[A\u001b[A\n",
            "\n",
            "\n",
            "chunk:  63%|██████████████████████████████████████████████████████████▍                                  | 832/1324 [00:00<00:00, 8313.88it/s, now=None]\u001b[A\u001b[A\u001b[A\n",
            "\n",
            "\n",
            "                                                                                                                                                        \u001b[A\u001b[A\u001b[A"
          ]
        },
        {
          "name": "stdout",
          "output_type": "stream",
          "text": [
            "MoviePy - Done.\n",
            "MoviePy - Writing audio in temp_audio.wav\n"
          ]
        },
        {
          "name": "stderr",
          "output_type": "stream",
          "text": [
            "\n",
            "\n",
            "\n",
            "chunk:   0%|                                                                                                         | 0/1324 [00:00<?, ?it/s, now=None]\u001b[A\u001b[A\u001b[A\n",
            "\n",
            "\n",
            "chunk:  63%|██████████████████████████████████████████████████████████▋                                  | 835/1324 [00:00<00:00, 8348.89it/s, now=None]\u001b[A\u001b[A\u001b[A\n",
            "\n",
            "\n",
            "                                                                                                                                                        \u001b[A\u001b[A\u001b[A"
          ]
        },
        {
          "name": "stdout",
          "output_type": "stream",
          "text": [
            "MoviePy - Done.\n",
            "MoviePy - Writing audio in temp_audio.wav\n"
          ]
        },
        {
          "name": "stderr",
          "output_type": "stream",
          "text": [
            "\n",
            "\n",
            "\n",
            "chunk:   0%|                                                                                                         | 0/1324 [00:00<?, ?it/s, now=None]\u001b[A\u001b[A\u001b[A\n",
            "\n",
            "\n",
            "chunk:  70%|█████████████████████████████████████████████████████████████████▏                           | 928/1324 [00:00<00:00, 9279.10it/s, now=None]\u001b[A\u001b[A\u001b[A\n",
            "\n",
            "\n",
            "                                                                                                                                                        \u001b[A\u001b[A\u001b[A"
          ]
        },
        {
          "name": "stdout",
          "output_type": "stream",
          "text": [
            "MoviePy - Done.\n",
            "MoviePy - Writing audio in temp_audio.wav\n"
          ]
        },
        {
          "name": "stderr",
          "output_type": "stream",
          "text": [
            "\n",
            "\n",
            "\n",
            "chunk:   0%|                                                                                                         | 0/1324 [00:00<?, ?it/s, now=None]\u001b[A\u001b[A\u001b[A\n",
            "\n",
            "\n",
            "chunk:  69%|████████████████████████████████████████████████████████████████▍                            | 918/1324 [00:00<00:00, 9067.91it/s, now=None]\u001b[A\u001b[A\u001b[A\n",
            "\n",
            "\n",
            "                                                                                                                                                        \u001b[A\u001b[A\u001b[A"
          ]
        },
        {
          "name": "stdout",
          "output_type": "stream",
          "text": [
            "MoviePy - Done.\n",
            "MoviePy - Writing audio in temp_audio.wav\n"
          ]
        },
        {
          "name": "stderr",
          "output_type": "stream",
          "text": [
            "\n",
            "\n",
            "\n",
            "chunk:   0%|                                                                                                         | 0/1324 [00:00<?, ?it/s, now=None]\u001b[A\u001b[A\u001b[A\n",
            "\n",
            "\n",
            "chunk:  66%|█████████████████████████████████████████████████████████████                                | 870/1324 [00:00<00:00, 8697.27it/s, now=None]\u001b[A\u001b[A\u001b[A\n",
            "\n",
            "\n",
            "                                                                                                                                                        \u001b[A\u001b[A\u001b[A"
          ]
        },
        {
          "name": "stdout",
          "output_type": "stream",
          "text": [
            "MoviePy - Done.\n",
            "MoviePy - Writing audio in temp_audio.wav\n"
          ]
        },
        {
          "name": "stderr",
          "output_type": "stream",
          "text": [
            "\n",
            "\n",
            "\n",
            "chunk:   0%|                                                                                                         | 0/1324 [00:00<?, ?it/s, now=None]\u001b[A\u001b[A\u001b[A\n",
            "\n",
            "\n",
            "chunk:  62%|█████████████████████████████████████████████████████████▎                                   | 816/1324 [00:00<00:00, 8040.07it/s, now=None]\u001b[A\u001b[A\u001b[A\n",
            "\n",
            "\n",
            "                                                                                                                                                        \u001b[A\u001b[A\u001b[A"
          ]
        },
        {
          "name": "stdout",
          "output_type": "stream",
          "text": [
            "MoviePy - Done.\n",
            "MoviePy - Writing audio in temp_audio.wav\n"
          ]
        },
        {
          "name": "stderr",
          "output_type": "stream",
          "text": [
            "\n",
            "\n",
            "\n",
            "chunk:   0%|                                                                                                         | 0/1324 [00:00<?, ?it/s, now=None]\u001b[A\u001b[A\u001b[A\n",
            "\n",
            "\n",
            "chunk:  62%|█████████████████████████████████████████████████████████▎                                   | 816/1324 [00:00<00:00, 8125.43it/s, now=None]\u001b[A\u001b[A\u001b[A\n",
            "\n",
            "\n",
            "                                                                                                                                                        \u001b[A\u001b[A\u001b[A"
          ]
        },
        {
          "name": "stdout",
          "output_type": "stream",
          "text": [
            "MoviePy - Done.\n",
            "MoviePy - Writing audio in temp_audio.wav\n"
          ]
        },
        {
          "name": "stderr",
          "output_type": "stream",
          "text": [
            "\n",
            "\n",
            "\n",
            "chunk:   0%|                                                                                                         | 0/1324 [00:00<?, ?it/s, now=None]\u001b[A\u001b[A\u001b[A\n",
            "\n",
            "\n",
            "chunk:  58%|█████████████████████████████████████████████████████▋                                       | 765/1324 [00:00<00:00, 7546.52it/s, now=None]\u001b[A\u001b[A\u001b[A\n",
            "\n",
            "\n",
            "                                                                                                                                                        \u001b[A\u001b[A\u001b[A"
          ]
        },
        {
          "name": "stdout",
          "output_type": "stream",
          "text": [
            "MoviePy - Done.\n",
            "MoviePy - Writing audio in temp_audio.wav\n"
          ]
        },
        {
          "name": "stderr",
          "output_type": "stream",
          "text": [
            "\n",
            "\n",
            "\n",
            "chunk:   0%|                                                                                                         | 0/1324 [00:00<?, ?it/s, now=None]\u001b[A\u001b[A\u001b[A\n",
            "\n",
            "\n",
            "chunk:  71%|█████████████████████████████████████████████████████████████████▋                           | 935/1324 [00:00<00:00, 9344.35it/s, now=None]\u001b[A\u001b[A\u001b[A\n",
            "\n",
            "\n",
            "                                                                                                                                                        \u001b[A\u001b[A\u001b[A"
          ]
        },
        {
          "name": "stdout",
          "output_type": "stream",
          "text": [
            "MoviePy - Done.\n",
            "MoviePy - Writing audio in temp_audio.wav\n"
          ]
        },
        {
          "name": "stderr",
          "output_type": "stream",
          "text": [
            "\n",
            "\n",
            "\n",
            "chunk:   0%|                                                                                                         | 0/1324 [00:00<?, ?it/s, now=None]\u001b[A\u001b[A\u001b[A\n",
            "\n",
            "\n",
            "chunk:  62%|█████████████████████████████████████████████████████████▎                                   | 816/1324 [00:00<00:00, 7987.64it/s, now=None]\u001b[A\u001b[A\u001b[A\n",
            "\n",
            "\n",
            "                                                                                                                                                        \u001b[A\u001b[A\u001b[A"
          ]
        },
        {
          "name": "stdout",
          "output_type": "stream",
          "text": [
            "MoviePy - Done.\n",
            "MoviePy - Writing audio in temp_audio.wav\n"
          ]
        },
        {
          "name": "stderr",
          "output_type": "stream",
          "text": [
            "\n",
            "\n",
            "\n",
            "chunk:   0%|                                                                                                         | 0/1324 [00:00<?, ?it/s, now=None]\u001b[A\u001b[A\u001b[A\n",
            "\n",
            "\n",
            "chunk:  63%|██████████████████████████████████████████████████████████▊                                  | 837/1324 [00:00<00:00, 8364.96it/s, now=None]\u001b[A\u001b[A\u001b[A\n",
            "\n",
            "\n",
            "                                                                                                                                                        \u001b[A\u001b[A\u001b[A"
          ]
        },
        {
          "name": "stdout",
          "output_type": "stream",
          "text": [
            "MoviePy - Done.\n",
            "MoviePy - Writing audio in temp_audio.wav\n"
          ]
        },
        {
          "name": "stderr",
          "output_type": "stream",
          "text": [
            "\n",
            "\n",
            "\n",
            "chunk:   0%|                                                                                                         | 0/1324 [00:00<?, ?it/s, now=None]\u001b[A\u001b[A\u001b[A\n",
            "\n",
            "\n",
            "chunk:  68%|███████████████████████████████████████████████████████████████▏                             | 900/1324 [00:00<00:00, 8997.28it/s, now=None]\u001b[A\u001b[A\u001b[A\n",
            "\n",
            "\n",
            "                                                                                                                                                        \u001b[A\u001b[A\u001b[A"
          ]
        },
        {
          "name": "stdout",
          "output_type": "stream",
          "text": [
            "MoviePy - Done.\n",
            "MoviePy - Writing audio in temp_audio.wav\n"
          ]
        },
        {
          "name": "stderr",
          "output_type": "stream",
          "text": [
            "\n",
            "\n",
            "\n",
            "chunk:   0%|                                                                                                         | 0/1324 [00:00<?, ?it/s, now=None]\u001b[A\u001b[A\u001b[A\n",
            "\n",
            "\n",
            "chunk:  62%|█████████████████████████████████████████████████████████▎                                   | 816/1324 [00:00<00:00, 8047.59it/s, now=None]\u001b[A\u001b[A\u001b[A\n",
            "\n",
            "\n",
            "                                                                                                                                                        \u001b[A\u001b[A\u001b[A"
          ]
        },
        {
          "name": "stdout",
          "output_type": "stream",
          "text": [
            "MoviePy - Done.\n",
            "MoviePy - Writing audio in temp_audio.wav\n"
          ]
        },
        {
          "name": "stderr",
          "output_type": "stream",
          "text": [
            "\n",
            "\n",
            "\n",
            "chunk:   0%|                                                                                                         | 0/1324 [00:00<?, ?it/s, now=None]\u001b[A\u001b[A\u001b[A\n",
            "\n",
            "\n",
            "chunk:  62%|█████████████████████████████████████████████████████████▎                                   | 816/1324 [00:00<00:00, 8036.20it/s, now=None]\u001b[A\u001b[A\u001b[A\n",
            "\n",
            "\n",
            "                                                                                                                                                        \u001b[A\u001b[A\u001b[A"
          ]
        },
        {
          "name": "stdout",
          "output_type": "stream",
          "text": [
            "MoviePy - Done.\n",
            "MoviePy - Writing audio in temp_audio.wav\n"
          ]
        },
        {
          "name": "stderr",
          "output_type": "stream",
          "text": [
            "\n",
            "\n",
            "\n",
            "chunk:   0%|                                                                                                         | 0/1324 [00:00<?, ?it/s, now=None]\u001b[A\u001b[A\u001b[A\n",
            "\n",
            "\n",
            "chunk:  62%|█████████████████████████████████████████████████████████▎                                   | 816/1324 [00:00<00:00, 8130.58it/s, now=None]\u001b[A\u001b[A\u001b[A\n",
            "\n",
            "\n",
            "                                                                                                                                                        \u001b[A\u001b[A\u001b[A"
          ]
        },
        {
          "name": "stdout",
          "output_type": "stream",
          "text": [
            "MoviePy - Done.\n",
            "MoviePy - Writing audio in temp_audio.wav\n"
          ]
        },
        {
          "name": "stderr",
          "output_type": "stream",
          "text": [
            "\n",
            "\n",
            "\n",
            "chunk:   0%|                                                                                                         | 0/1324 [00:00<?, ?it/s, now=None]\u001b[A\u001b[A\u001b[A\n",
            "\n",
            "\n",
            "chunk:  65%|████████████████████████████████████████████████████████████▉                                | 867/1324 [00:00<00:00, 8531.15it/s, now=None]\u001b[A\u001b[A\u001b[A\n",
            "\n",
            "\n",
            "                                                                                                                                                        \u001b[A\u001b[A\u001b[A"
          ]
        },
        {
          "name": "stdout",
          "output_type": "stream",
          "text": [
            "MoviePy - Done.\n",
            "MoviePy - Writing audio in temp_audio.wav\n"
          ]
        },
        {
          "name": "stderr",
          "output_type": "stream",
          "text": [
            "\n",
            "\n",
            "\n",
            "chunk:   0%|                                                                                                          | 0/991 [00:00<?, ?it/s, now=None]\u001b[A\u001b[A\u001b[A\n",
            "\n",
            "\n",
            "chunk:  91%|█████████████████████████████████████████████████████████████████████████████████████▍        | 901/991 [00:00<00:00, 9007.22it/s, now=None]\u001b[A\u001b[A\u001b[A\n",
            "\n",
            "\n",
            "                                                                                                                                                        \u001b[A\u001b[A\u001b[A"
          ]
        },
        {
          "name": "stdout",
          "output_type": "stream",
          "text": [
            "MoviePy - Done.\n",
            "MoviePy - Writing audio in temp_audio.wav\n"
          ]
        },
        {
          "name": "stderr",
          "output_type": "stream",
          "text": [
            "\n",
            "\n",
            "\n",
            "chunk:   0%|                                                                                                         | 0/1324 [00:00<?, ?it/s, now=None]\u001b[A\u001b[A\u001b[A\n",
            "\n",
            "\n",
            "chunk:  64%|███████████████████████████████████████████████████████████▏                                 | 842/1324 [00:00<00:00, 8414.47it/s, now=None]\u001b[A\u001b[A\u001b[A\n",
            "\n",
            "\n",
            "                                                                                                                                                        \u001b[A\u001b[A\u001b[A"
          ]
        },
        {
          "name": "stdout",
          "output_type": "stream",
          "text": [
            "MoviePy - Done.\n",
            "MoviePy - Writing audio in temp_audio.wav\n"
          ]
        },
        {
          "name": "stderr",
          "output_type": "stream",
          "text": [
            "\n",
            "\n",
            "\n",
            "chunk:   0%|                                                                                                         | 0/1324 [00:00<?, ?it/s, now=None]\u001b[A\u001b[A\u001b[A\n",
            "\n",
            "\n",
            "chunk:  63%|██████████████████████████████████████████████████████████▉                                  | 839/1324 [00:00<00:00, 8387.15it/s, now=None]\u001b[A\u001b[A\u001b[A\n",
            "\n",
            "\n",
            "                                                                                                                                                        \u001b[A\u001b[A\u001b[A"
          ]
        },
        {
          "name": "stdout",
          "output_type": "stream",
          "text": [
            "MoviePy - Done.\n",
            "MoviePy - Writing audio in temp_audio.wav\n"
          ]
        },
        {
          "name": "stderr",
          "output_type": "stream",
          "text": [
            "\n",
            "\n",
            "\n",
            "chunk:   0%|                                                                                                         | 0/1324 [00:00<?, ?it/s, now=None]\u001b[A\u001b[A\u001b[A\n",
            "\n",
            "\n",
            "chunk:  55%|███████████████████████████████████████████████████▏                                         | 728/1324 [00:00<00:00, 7276.47it/s, now=None]\u001b[A\u001b[A\u001b[A\n",
            "\n",
            "\n",
            "                                                                                                                                                        \u001b[A\u001b[A\u001b[A"
          ]
        },
        {
          "name": "stdout",
          "output_type": "stream",
          "text": [
            "MoviePy - Done.\n",
            "MoviePy - Writing audio in temp_audio.wav\n"
          ]
        },
        {
          "name": "stderr",
          "output_type": "stream",
          "text": [
            "\n",
            "\n",
            "\n",
            "chunk:   0%|                                                                                                          | 0/715 [00:00<?, ?it/s, now=None]\u001b[A\u001b[A\u001b[A\n",
            "\n",
            "\n",
            "                                                                                                                                                        \u001b[A\u001b[A\u001b[A"
          ]
        },
        {
          "name": "stdout",
          "output_type": "stream",
          "text": [
            "MoviePy - Done.\n",
            "MoviePy - Writing audio in temp_audio.wav\n"
          ]
        },
        {
          "name": "stderr",
          "output_type": "stream",
          "text": [
            "\n",
            "\n",
            "\n",
            "chunk:   0%|                                                                                                         | 0/1324 [00:00<?, ?it/s, now=None]\u001b[A\u001b[A\u001b[A\n",
            "\n",
            "\n",
            "chunk:  65%|████████████████████████████████████████████████████████████▏                                | 856/1324 [00:00<00:00, 8556.91it/s, now=None]\u001b[A\u001b[A\u001b[A\n",
            "\n",
            "\n",
            "                                                                                                                                                        \u001b[A\u001b[A\u001b[A"
          ]
        },
        {
          "name": "stdout",
          "output_type": "stream",
          "text": [
            "MoviePy - Done.\n",
            "MoviePy - Writing audio in temp_audio.wav\n"
          ]
        },
        {
          "name": "stderr",
          "output_type": "stream",
          "text": [
            "\n",
            "\n",
            "\n",
            "chunk:   0%|                                                                                                         | 0/1324 [00:00<?, ?it/s, now=None]\u001b[A\u001b[A\u001b[A\n",
            "\n",
            "\n",
            "chunk:  66%|████████████████████████████████████████████████████████████▉                                | 868/1324 [00:00<00:00, 8673.74it/s, now=None]\u001b[A\u001b[A\u001b[A\n",
            "\n",
            "\n",
            "                                                                                                                                                        \u001b[A\u001b[A\u001b[A"
          ]
        },
        {
          "name": "stdout",
          "output_type": "stream",
          "text": [
            "MoviePy - Done.\n",
            "MoviePy - Writing audio in temp_audio.wav\n"
          ]
        },
        {
          "name": "stderr",
          "output_type": "stream",
          "text": [
            "\n",
            "\n",
            "\n",
            "chunk:   0%|                                                                                                         | 0/1324 [00:00<?, ?it/s, now=None]\u001b[A\u001b[A\u001b[A\n",
            "\n",
            "\n",
            "chunk:  65%|████████████████████████████████████████████████████████████▉                                | 867/1324 [00:00<00:00, 8633.27it/s, now=None]\u001b[A\u001b[A\u001b[A\n",
            "\n",
            "\n",
            "                                                                                                                                                        \u001b[A\u001b[A\u001b[A"
          ]
        },
        {
          "name": "stdout",
          "output_type": "stream",
          "text": [
            "MoviePy - Done.\n",
            "MoviePy - Writing audio in temp_audio.wav\n"
          ]
        },
        {
          "name": "stderr",
          "output_type": "stream",
          "text": [
            "\n",
            "\n",
            "\n",
            "chunk:   0%|                                                                                                         | 0/1324 [00:00<?, ?it/s, now=None]\u001b[A\u001b[A\u001b[A\n",
            "\n",
            "\n",
            "chunk:  65%|████████████████████████████████████████████████████████████▉                                | 867/1324 [00:00<00:00, 8607.32it/s, now=None]\u001b[A\u001b[A\u001b[A\n",
            "\n",
            "\n",
            "                                                                                                                                                        \u001b[A\u001b[A\u001b[A"
          ]
        },
        {
          "name": "stdout",
          "output_type": "stream",
          "text": [
            "MoviePy - Done.\n",
            "MoviePy - Writing audio in temp_audio.wav\n"
          ]
        },
        {
          "name": "stderr",
          "output_type": "stream",
          "text": [
            "\n",
            "\n",
            "\n",
            "chunk:   0%|                                                                                                         | 0/1324 [00:00<?, ?it/s, now=None]\u001b[A\u001b[A\u001b[A\n",
            "\n",
            "\n",
            "chunk:  66%|█████████████████████████████████████████████████████████████▍                               | 875/1324 [00:00<00:00, 8748.05it/s, now=None]\u001b[A\u001b[A\u001b[A\n",
            "\n",
            "\n",
            "                                                                                                                                                        \u001b[A\u001b[A\u001b[A"
          ]
        },
        {
          "name": "stdout",
          "output_type": "stream",
          "text": [
            "MoviePy - Done.\n",
            "MoviePy - Writing audio in temp_audio.wav\n"
          ]
        },
        {
          "name": "stderr",
          "output_type": "stream",
          "text": [
            "\n",
            "\n",
            "\n",
            "chunk:   0%|                                                                                                         | 0/1324 [00:00<?, ?it/s, now=None]\u001b[A\u001b[A\u001b[A\n",
            "\n",
            "\n",
            "chunk:  67%|█████████████████████████████████████████████████████████████▉                               | 881/1324 [00:00<00:00, 8808.94it/s, now=None]\u001b[A\u001b[A\u001b[A\n",
            "\n",
            "\n",
            "                                                                                                                                                        \u001b[A\u001b[A\u001b[A"
          ]
        },
        {
          "name": "stdout",
          "output_type": "stream",
          "text": [
            "MoviePy - Done.\n",
            "MoviePy - Writing audio in temp_audio.wav\n"
          ]
        },
        {
          "name": "stderr",
          "output_type": "stream",
          "text": [
            "\n",
            "\n",
            "\n",
            "chunk:   0%|                                                                                                         | 0/1324 [00:00<?, ?it/s, now=None]\u001b[A\u001b[A\u001b[A\n",
            "\n",
            "\n",
            "chunk:  64%|███████████████████████████████████████████████████████████▏                                 | 843/1324 [00:00<00:00, 8429.14it/s, now=None]\u001b[A\u001b[A\u001b[A\n",
            "\n",
            "\n",
            "                                                                                                                                                        \u001b[A\u001b[A\u001b[A"
          ]
        },
        {
          "name": "stdout",
          "output_type": "stream",
          "text": [
            "MoviePy - Done.\n",
            "MoviePy - Writing audio in temp_audio.wav\n"
          ]
        },
        {
          "name": "stderr",
          "output_type": "stream",
          "text": [
            "\n",
            "\n",
            "\n",
            "chunk:   0%|                                                                                                         | 0/1324 [00:00<?, ?it/s, now=None]\u001b[A\u001b[A\u001b[A\n",
            "\n",
            "\n",
            "chunk:  62%|█████████████████████████████████████████████████████████▋                                   | 821/1324 [00:00<00:00, 8207.15it/s, now=None]\u001b[A\u001b[A\u001b[A\n",
            "\n",
            "\n",
            "                                                                                                                                                        \u001b[A\u001b[A\u001b[A"
          ]
        },
        {
          "name": "stdout",
          "output_type": "stream",
          "text": [
            "MoviePy - Done.\n",
            "MoviePy - Writing audio in temp_audio.wav\n"
          ]
        },
        {
          "name": "stderr",
          "output_type": "stream",
          "text": [
            "\n",
            "\n",
            "\n",
            "chunk:   0%|                                                                                                         | 0/1324 [00:00<?, ?it/s, now=None]\u001b[A\u001b[A\u001b[A\n",
            "\n",
            "\n",
            "chunk:  69%|████████████████████████████████████████████████████████████████▍                            | 918/1324 [00:00<00:00, 9035.44it/s, now=None]\u001b[A\u001b[A\u001b[A\n",
            "\n",
            "\n",
            "                                                                                                                                                        \u001b[A\u001b[A\u001b[A"
          ]
        },
        {
          "name": "stdout",
          "output_type": "stream",
          "text": [
            "MoviePy - Done.\n",
            "MoviePy - Writing audio in temp_audio.wav\n"
          ]
        },
        {
          "name": "stderr",
          "output_type": "stream",
          "text": [
            "\n",
            "\n",
            "\n",
            "chunk:   0%|                                                                                                         | 0/1324 [00:00<?, ?it/s, now=None]\u001b[A\u001b[A\u001b[A\n",
            "\n",
            "\n",
            "chunk:  65%|████████████████████████████████████████████████████████████▉                                | 867/1324 [00:00<00:00, 8624.24it/s, now=None]\u001b[A\u001b[A\u001b[A\n",
            "\n",
            "\n",
            "                                                                                                                                                        \u001b[A\u001b[A\u001b[A"
          ]
        },
        {
          "name": "stdout",
          "output_type": "stream",
          "text": [
            "MoviePy - Done.\n",
            "MoviePy - Writing audio in temp_audio.wav\n"
          ]
        },
        {
          "name": "stderr",
          "output_type": "stream",
          "text": [
            "\n",
            "\n",
            "\n",
            "chunk:   0%|                                                                                                         | 0/1324 [00:00<?, ?it/s, now=None]\u001b[A\u001b[A\u001b[A\n",
            "\n",
            "\n",
            "chunk:  39%|███████████████████████████████████▊                                                         | 510/1324 [00:00<00:00, 5042.50it/s, now=None]\u001b[A\u001b[A\u001b[A\n",
            "\n",
            "\n",
            "                                                                                                                                                        \u001b[A\u001b[A\u001b[A"
          ]
        },
        {
          "name": "stdout",
          "output_type": "stream",
          "text": [
            "MoviePy - Done.\n",
            "MoviePy - Writing audio in temp_audio.wav\n"
          ]
        },
        {
          "name": "stderr",
          "output_type": "stream",
          "text": [
            "\n",
            "\n",
            "\n",
            "chunk:   0%|                                                                                                         | 0/1324 [00:00<?, ?it/s, now=None]\u001b[A\u001b[A\u001b[A\n",
            "\n",
            "\n",
            "chunk:  42%|███████████████████████████████████████▎                                                     | 560/1324 [00:00<00:00, 5597.92it/s, now=None]\u001b[A\u001b[A\u001b[A\n",
            "\n",
            "\n",
            "chunk:  93%|█████████████████████████████████████████████████████████████████████████████████████       | 1225/1324 [00:00<00:00, 6216.67it/s, now=None]\u001b[A\u001b[A\u001b[A\n",
            "\n",
            "\n",
            "                                                                                                                                                        \u001b[A\u001b[A\u001b[A"
          ]
        },
        {
          "name": "stdout",
          "output_type": "stream",
          "text": [
            "MoviePy - Done.\n",
            "MoviePy - Writing audio in temp_audio.wav\n"
          ]
        },
        {
          "name": "stderr",
          "output_type": "stream",
          "text": [
            "\n",
            "\n",
            "\n",
            "chunk:   0%|                                                                                                         | 0/1324 [00:00<?, ?it/s, now=None]\u001b[A\u001b[A\u001b[A\n",
            "\n",
            "\n",
            "chunk:  63%|██████████████████████████████████████████████████████████▎                                  | 830/1324 [00:00<00:00, 8299.00it/s, now=None]\u001b[A\u001b[A\u001b[A\n",
            "\n",
            "\n",
            "                                                                                                                                                        \u001b[A\u001b[A\u001b[A"
          ]
        },
        {
          "name": "stdout",
          "output_type": "stream",
          "text": [
            "MoviePy - Done.\n",
            "MoviePy - Writing audio in temp_audio.wav\n"
          ]
        },
        {
          "name": "stderr",
          "output_type": "stream",
          "text": [
            "\n",
            "\n",
            "\n",
            "chunk:   0%|                                                                                                         | 0/1324 [00:00<?, ?it/s, now=None]\u001b[A\u001b[A\u001b[A\n",
            "\n",
            "\n",
            "chunk:  67%|██████████████████████████████████████████████████████████████                               | 884/1324 [00:00<00:00, 8837.61it/s, now=None]\u001b[A\u001b[A\u001b[A\n",
            "\n",
            "\n",
            "                                                                                                                                                        \u001b[A\u001b[A\u001b[A"
          ]
        },
        {
          "name": "stdout",
          "output_type": "stream",
          "text": [
            "MoviePy - Done.\n",
            "MoviePy - Writing audio in temp_audio.wav\n"
          ]
        },
        {
          "name": "stderr",
          "output_type": "stream",
          "text": [
            "\n",
            "\n",
            "\n",
            "chunk:   0%|                                                                                                         | 0/1324 [00:00<?, ?it/s, now=None]\u001b[A\u001b[A\u001b[A\n",
            "\n",
            "\n",
            "chunk:  62%|█████████████████████████████████████████████████████████▍                                   | 818/1324 [00:00<00:00, 8172.76it/s, now=None]\u001b[A\u001b[A\u001b[A\n",
            "\n",
            "\n",
            "                                                                                                                                                        \u001b[A\u001b[A\u001b[A"
          ]
        },
        {
          "name": "stdout",
          "output_type": "stream",
          "text": [
            "MoviePy - Done.\n",
            "MoviePy - Writing audio in temp_audio.wav\n"
          ]
        },
        {
          "name": "stderr",
          "output_type": "stream",
          "text": [
            "\n",
            "\n",
            "\n",
            "chunk:   0%|                                                                                                         | 0/1324 [00:00<?, ?it/s, now=None]\u001b[A\u001b[A\u001b[A\n",
            "\n",
            "\n",
            "chunk:  62%|█████████████████████████████████████████████████████████▎                                   | 816/1324 [00:00<00:00, 8103.46it/s, now=None]\u001b[A\u001b[A\u001b[A\n",
            "\n",
            "\n",
            "                                                                                                                                                        \u001b[A\u001b[A\u001b[A"
          ]
        },
        {
          "name": "stdout",
          "output_type": "stream",
          "text": [
            "MoviePy - Done.\n",
            "MoviePy - Writing audio in temp_audio.wav\n"
          ]
        },
        {
          "name": "stderr",
          "output_type": "stream",
          "text": [
            "\n",
            "\n",
            "\n",
            "chunk:   0%|                                                                                                         | 0/1324 [00:00<?, ?it/s, now=None]\u001b[A\u001b[A\u001b[A\n",
            "\n",
            "\n",
            "chunk:  39%|███████████████████████████████████▊                                                         | 510/1324 [00:00<00:00, 5024.20it/s, now=None]\u001b[A\u001b[A\u001b[A\n",
            "\n",
            "\n",
            "chunk:  77%|██████████████████████████████████████████████████████████████████████▍                     | 1013/1324 [00:00<00:00, 4698.21it/s, now=None]\u001b[A\u001b[A\u001b[A\n",
            "\n",
            "\n",
            "                                                                                                                                                        \u001b[A\u001b[A\u001b[A"
          ]
        },
        {
          "name": "stdout",
          "output_type": "stream",
          "text": [
            "MoviePy - Done.\n",
            "MoviePy - Writing audio in temp_audio.wav\n"
          ]
        },
        {
          "name": "stderr",
          "output_type": "stream",
          "text": [
            "\n",
            "\n",
            "\n",
            "chunk:   0%|                                                                                                         | 0/1324 [00:00<?, ?it/s, now=None]\u001b[A\u001b[A\u001b[A\n",
            "\n",
            "\n",
            "chunk:  60%|████████████████████████████████████████████████████████                                     | 798/1324 [00:00<00:00, 7978.77it/s, now=None]\u001b[A\u001b[A\u001b[A\n",
            "\n",
            "\n",
            "                                                                                                                                                        \u001b[A\u001b[A\u001b[A"
          ]
        },
        {
          "name": "stdout",
          "output_type": "stream",
          "text": [
            "MoviePy - Done.\n",
            "MoviePy - Writing audio in temp_audio.wav\n"
          ]
        },
        {
          "name": "stderr",
          "output_type": "stream",
          "text": [
            "\n",
            "\n",
            "\n",
            "chunk:   0%|                                                                                                         | 0/1324 [00:00<?, ?it/s, now=None]\u001b[A\u001b[A\u001b[A\n",
            "\n",
            "\n",
            "chunk:  62%|█████████████████████████████████████████████████████████▎                                   | 816/1324 [00:00<00:00, 8067.74it/s, now=None]\u001b[A\u001b[A\u001b[A\n",
            "\n",
            "\n",
            "                                                                                                                                                        \u001b[A\u001b[A\u001b[A"
          ]
        },
        {
          "name": "stdout",
          "output_type": "stream",
          "text": [
            "MoviePy - Done.\n",
            "MoviePy - Writing audio in temp_audio.wav\n"
          ]
        },
        {
          "name": "stderr",
          "output_type": "stream",
          "text": [
            "\n",
            "\n",
            "\n",
            "chunk:   0%|                                                                                                         | 0/1324 [00:00<?, ?it/s, now=None]\u001b[A\u001b[A\u001b[A\n",
            "\n",
            "\n",
            "chunk:  58%|█████████████████████████████████████████████████████▋                                       | 765/1324 [00:00<00:00, 7502.53it/s, now=None]\u001b[A\u001b[A\u001b[A\n",
            "\n",
            "\n",
            "                                                                                                                                                        \u001b[A\u001b[A\u001b[A"
          ]
        },
        {
          "name": "stdout",
          "output_type": "stream",
          "text": [
            "MoviePy - Done.\n",
            "MoviePy - Writing audio in temp_audio.wav\n"
          ]
        },
        {
          "name": "stderr",
          "output_type": "stream",
          "text": [
            "\n",
            "\n",
            "\n",
            "chunk:   0%|                                                                                                         | 0/1324 [00:00<?, ?it/s, now=None]\u001b[A\u001b[A\u001b[A\n",
            "\n",
            "\n",
            "chunk:  52%|███████████████████████████████████████████████▉                                             | 683/1324 [00:00<00:00, 6828.87it/s, now=None]\u001b[A\u001b[A\u001b[A\n",
            "\n",
            "\n",
            "                                                                                                                                                        \u001b[A\u001b[A\u001b[A"
          ]
        },
        {
          "name": "stdout",
          "output_type": "stream",
          "text": [
            "MoviePy - Done.\n",
            "MoviePy - Writing audio in temp_audio.wav\n"
          ]
        },
        {
          "name": "stderr",
          "output_type": "stream",
          "text": [
            "\n",
            "\n",
            "\n",
            "chunk:   0%|                                                                                                         | 0/1324 [00:00<?, ?it/s, now=None]\u001b[A\u001b[A\u001b[A\n",
            "\n",
            "\n",
            "chunk:  65%|████████████████████████████████████████████████████████████▉                                | 867/1324 [00:00<00:00, 8599.99it/s, now=None]\u001b[A\u001b[A\u001b[A\n",
            "\n",
            "\n",
            "                                                                                                                                                        \u001b[A\u001b[A\u001b[A"
          ]
        },
        {
          "name": "stdout",
          "output_type": "stream",
          "text": [
            "MoviePy - Done.\n",
            "MoviePy - Writing audio in temp_audio.wav\n"
          ]
        },
        {
          "name": "stderr",
          "output_type": "stream",
          "text": [
            "\n",
            "\n",
            "\n",
            "chunk:   0%|                                                                                                         | 0/1324 [00:00<?, ?it/s, now=None]\u001b[A\u001b[A\u001b[A\n",
            "\n",
            "\n",
            "chunk:  60%|███████████████████████████████████████████████████████▌                                     | 791/1324 [00:00<00:00, 7907.35it/s, now=None]\u001b[A\u001b[A\u001b[A\n",
            "\n",
            "\n",
            "                                                                                                                                                        \u001b[A\u001b[A\u001b[A"
          ]
        },
        {
          "name": "stdout",
          "output_type": "stream",
          "text": [
            "MoviePy - Done.\n",
            "MoviePy - Writing audio in temp_audio.wav\n"
          ]
        },
        {
          "name": "stderr",
          "output_type": "stream",
          "text": [
            "\n",
            "\n",
            "\n",
            "chunk:   0%|                                                                                                         | 0/1324 [00:00<?, ?it/s, now=None]\u001b[A\u001b[A\u001b[A\n",
            "\n",
            "\n",
            "chunk:  59%|██████████████████████████████████████████████████████▌                                      | 777/1324 [00:00<00:00, 7765.60it/s, now=None]\u001b[A\u001b[A\u001b[A\n",
            "\n",
            "\n",
            "                                                                                                                                                        \u001b[A\u001b[A\u001b[A"
          ]
        },
        {
          "name": "stdout",
          "output_type": "stream",
          "text": [
            "MoviePy - Done.\n",
            "MoviePy - Writing audio in temp_audio.wav\n"
          ]
        },
        {
          "name": "stderr",
          "output_type": "stream",
          "text": [
            "\n",
            "\n",
            "\n",
            "chunk:   0%|                                                                                                         | 0/1324 [00:00<?, ?it/s, now=None]\u001b[A\u001b[A\u001b[A\n",
            "\n",
            "\n",
            "chunk:  58%|█████████████████████████████████████████████████████▋                                       | 765/1324 [00:00<00:00, 7583.20it/s, now=None]\u001b[A\u001b[A\u001b[A\n",
            "\n",
            "\n",
            "                                                                                                                                                        \u001b[A\u001b[A\u001b[A"
          ]
        },
        {
          "name": "stdout",
          "output_type": "stream",
          "text": [
            "MoviePy - Done.\n",
            "MoviePy - Writing audio in temp_audio.wav\n"
          ]
        },
        {
          "name": "stderr",
          "output_type": "stream",
          "text": [
            "\n",
            "\n",
            "\n",
            "chunk:   0%|                                                                                                         | 0/1324 [00:00<?, ?it/s, now=None]\u001b[A\u001b[A\u001b[A\n",
            "\n",
            "\n",
            "chunk:  55%|███████████████████████████████████████████████████▌                                         | 734/1324 [00:00<00:00, 7336.51it/s, now=None]\u001b[A\u001b[A\u001b[A\n",
            "\n",
            "\n",
            "                                                                                                                                                        \u001b[A\u001b[A\u001b[A"
          ]
        },
        {
          "name": "stdout",
          "output_type": "stream",
          "text": [
            "MoviePy - Done.\n",
            "MoviePy - Writing audio in temp_audio.wav\n"
          ]
        },
        {
          "name": "stderr",
          "output_type": "stream",
          "text": [
            "\n",
            "\n",
            "\n",
            "chunk:   0%|                                                                                                         | 0/1324 [00:00<?, ?it/s, now=None]\u001b[A\u001b[A\u001b[A\n",
            "\n",
            "\n",
            "chunk:  66%|█████████████████████████████████████████████████████████████▍                               | 875/1324 [00:00<00:00, 8743.65it/s, now=None]\u001b[A\u001b[A\u001b[A\n",
            "\n",
            "\n",
            "                                                                                                                                                        \u001b[A\u001b[A\u001b[A"
          ]
        },
        {
          "name": "stdout",
          "output_type": "stream",
          "text": [
            "MoviePy - Done.\n",
            "MoviePy - Writing audio in temp_audio.wav\n"
          ]
        },
        {
          "name": "stderr",
          "output_type": "stream",
          "text": [
            "\n",
            "\n",
            "\n",
            "chunk:   0%|                                                                                                         | 0/1324 [00:00<?, ?it/s, now=None]\u001b[A\u001b[A\u001b[A\n",
            "\n",
            "\n",
            "chunk:  63%|██████████████████████████████████████████████████████████▉                                  | 839/1324 [00:00<00:00, 8387.75it/s, now=None]\u001b[A\u001b[A\u001b[A\n",
            "\n",
            "\n",
            "                                                                                                                                                        \u001b[A\u001b[A\u001b[A"
          ]
        },
        {
          "name": "stdout",
          "output_type": "stream",
          "text": [
            "MoviePy - Done.\n",
            "MoviePy - Writing audio in temp_audio.wav\n"
          ]
        },
        {
          "name": "stderr",
          "output_type": "stream",
          "text": [
            "\n",
            "\n",
            "\n",
            "chunk:   0%|                                                                                                         | 0/1324 [00:00<?, ?it/s, now=None]\u001b[A\u001b[A\u001b[A\n",
            "\n",
            "\n",
            "chunk:  58%|█████████████████████████████████████████████████████▋                                       | 765/1324 [00:00<00:00, 7563.72it/s, now=None]\u001b[A\u001b[A\u001b[A\n",
            "\n",
            "\n",
            "                                                                                                                                                        \u001b[A\u001b[A\u001b[A"
          ]
        },
        {
          "name": "stdout",
          "output_type": "stream",
          "text": [
            "MoviePy - Done.\n",
            "MoviePy - Writing audio in temp_audio.wav\n"
          ]
        },
        {
          "name": "stderr",
          "output_type": "stream",
          "text": [
            "\n",
            "\n",
            "\n",
            "chunk:   0%|                                                                                                         | 0/1324 [00:00<?, ?it/s, now=None]\u001b[A\u001b[A\u001b[A\n",
            "\n",
            "\n",
            "chunk:  50%|██████████████████████████████████████████████▌                                              | 663/1324 [00:00<00:00, 6510.96it/s, now=None]\u001b[A\u001b[A\u001b[A\n",
            "\n",
            "\n",
            "                                                                                                                                                        \u001b[A\u001b[A\u001b[A"
          ]
        },
        {
          "name": "stdout",
          "output_type": "stream",
          "text": [
            "MoviePy - Done.\n",
            "MoviePy - Writing audio in temp_audio.wav\n"
          ]
        },
        {
          "name": "stderr",
          "output_type": "stream",
          "text": [
            "\n",
            "\n",
            "\n",
            "chunk:   0%|                                                                                                         | 0/1324 [00:00<?, ?it/s, now=None]\u001b[A\u001b[A\u001b[A\n",
            "\n",
            "\n",
            "chunk:  56%|███████████████████████████████████████████████████▊                                         | 737/1324 [00:00<00:00, 7365.18it/s, now=None]\u001b[A\u001b[A\u001b[A\n",
            "\n",
            "\n",
            "                                                                                                                                                        \u001b[A\u001b[A\u001b[A"
          ]
        },
        {
          "name": "stdout",
          "output_type": "stream",
          "text": [
            "MoviePy - Done.\n",
            "MoviePy - Writing audio in temp_audio.wav\n"
          ]
        },
        {
          "name": "stderr",
          "output_type": "stream",
          "text": [
            "\n",
            "\n",
            "\n",
            "chunk:   0%|                                                                                                          | 0/562 [00:00<?, ?it/s, now=None]\u001b[A\u001b[A\u001b[A\n",
            "\n",
            "\n",
            "                                                                                                                                                        \u001b[A\u001b[A\u001b[A"
          ]
        },
        {
          "name": "stdout",
          "output_type": "stream",
          "text": [
            "MoviePy - Done.\n",
            "MoviePy - Writing audio in temp_audio.wav\n"
          ]
        },
        {
          "name": "stderr",
          "output_type": "stream",
          "text": [
            "\n",
            "\n",
            "\n",
            "chunk:   0%|                                                                                                         | 0/1324 [00:00<?, ?it/s, now=None]\u001b[A\u001b[A\u001b[A\n",
            "\n",
            "\n",
            "chunk:  69%|████████████████████████████████████████████████████████████████▍                            | 918/1324 [00:00<00:00, 9035.38it/s, now=None]\u001b[A\u001b[A\u001b[A\n",
            "\n",
            "\n",
            "                                                                                                                                                        \u001b[A\u001b[A\u001b[A"
          ]
        },
        {
          "name": "stdout",
          "output_type": "stream",
          "text": [
            "MoviePy - Done.\n",
            "MoviePy - Writing audio in temp_audio.wav\n"
          ]
        },
        {
          "name": "stderr",
          "output_type": "stream",
          "text": [
            "\n",
            "\n",
            "\n",
            "chunk:   0%|                                                                                                         | 0/1324 [00:00<?, ?it/s, now=None]\u001b[A\u001b[A\u001b[A\n",
            "\n",
            "\n",
            "chunk:  57%|████████████████████████████████████████████████████▊                                        | 752/1324 [00:00<00:00, 7513.86it/s, now=None]\u001b[A\u001b[A\u001b[A\n",
            "\n",
            "\n",
            "                                                                                                                                                        \u001b[A\u001b[A\u001b[A"
          ]
        },
        {
          "name": "stdout",
          "output_type": "stream",
          "text": [
            "MoviePy - Done.\n",
            "MoviePy - Writing audio in temp_audio.wav\n"
          ]
        },
        {
          "name": "stderr",
          "output_type": "stream",
          "text": [
            "\n",
            "\n",
            "\n",
            "chunk:   0%|                                                                                                         | 0/1324 [00:00<?, ?it/s, now=None]\u001b[A\u001b[A\u001b[A\n",
            "\n",
            "\n",
            "chunk:  62%|█████████████████████████████████████████████████████████▎                                   | 816/1324 [00:00<00:00, 8056.59it/s, now=None]\u001b[A\u001b[A\u001b[A\n",
            "\n",
            "\n",
            "                                                                                                                                                        \u001b[A\u001b[A\u001b[A"
          ]
        },
        {
          "name": "stdout",
          "output_type": "stream",
          "text": [
            "MoviePy - Done.\n",
            "MoviePy - Writing audio in temp_audio.wav\n"
          ]
        },
        {
          "name": "stderr",
          "output_type": "stream",
          "text": [
            "\n",
            "\n",
            "\n",
            "chunk:   0%|                                                                                                         | 0/1324 [00:00<?, ?it/s, now=None]\u001b[A\u001b[A\u001b[A\n",
            "\n",
            "\n",
            "chunk:  70%|████████████████████████████████████████████████████████████████▉                            | 925/1324 [00:00<00:00, 9247.94it/s, now=None]\u001b[A\u001b[A\u001b[A\n",
            "\n",
            "\n",
            "                                                                                                                                                        \u001b[A\u001b[A\u001b[A"
          ]
        },
        {
          "name": "stdout",
          "output_type": "stream",
          "text": [
            "MoviePy - Done.\n",
            "MoviePy - Writing audio in temp_audio.wav\n"
          ]
        },
        {
          "name": "stderr",
          "output_type": "stream",
          "text": [
            "\n",
            "\n",
            "\n",
            "chunk:   0%|                                                                                                         | 0/1324 [00:00<?, ?it/s, now=None]\u001b[A\u001b[A\u001b[A\n",
            "\n",
            "\n",
            "chunk:  54%|██████████████████████████████████████████████████▏                                          | 714/1324 [00:00<00:00, 7012.21it/s, now=None]\u001b[A\u001b[A\u001b[A\n",
            "\n",
            "\n",
            "                                                                                                                                                        \u001b[A\u001b[A\u001b[A"
          ]
        },
        {
          "name": "stdout",
          "output_type": "stream",
          "text": [
            "MoviePy - Done.\n",
            "MoviePy - Writing audio in temp_audio.wav\n"
          ]
        },
        {
          "name": "stderr",
          "output_type": "stream",
          "text": [
            "\n",
            "\n",
            "\n",
            "chunk:   0%|                                                                                                         | 0/1324 [00:00<?, ?it/s, now=None]\u001b[A\u001b[A\u001b[A\n",
            "\n",
            "\n",
            "chunk:  64%|███████████████████████████████████████████████████████████▊                                 | 851/1324 [00:00<00:00, 8503.97it/s, now=None]\u001b[A\u001b[A\u001b[A\n",
            "\n",
            "\n",
            "                                                                                                                                                        \u001b[A\u001b[A\u001b[A"
          ]
        },
        {
          "name": "stdout",
          "output_type": "stream",
          "text": [
            "MoviePy - Done.\n",
            "MoviePy - Writing audio in temp_audio.wav\n"
          ]
        },
        {
          "name": "stderr",
          "output_type": "stream",
          "text": [
            "\n",
            "\n",
            "\n",
            "chunk:   0%|                                                                                                         | 0/1324 [00:00<?, ?it/s, now=None]\u001b[A\u001b[A\u001b[A\n",
            "\n",
            "\n",
            "chunk:  56%|███████████████████████████████████████████████████▊                                         | 737/1324 [00:00<00:00, 7364.69it/s, now=None]\u001b[A\u001b[A\u001b[A\n",
            "\n",
            "\n",
            "                                                                                                                                                        \u001b[A\u001b[A\u001b[A"
          ]
        },
        {
          "name": "stdout",
          "output_type": "stream",
          "text": [
            "MoviePy - Done.\n",
            "MoviePy - Writing audio in temp_audio.wav\n"
          ]
        },
        {
          "name": "stderr",
          "output_type": "stream",
          "text": [
            "\n",
            "\n",
            "\n",
            "chunk:   0%|                                                                                                         | 0/1324 [00:00<?, ?it/s, now=None]\u001b[A\u001b[A\u001b[A\n",
            "\n",
            "\n",
            "chunk:  61%|████████████████████████████████████████████████████████▎                                    | 802/1324 [00:00<00:00, 8019.64it/s, now=None]\u001b[A\u001b[A\u001b[A\n",
            "\n",
            "\n",
            "                                                                                                                                                        \u001b[A\u001b[A\u001b[A"
          ]
        },
        {
          "name": "stdout",
          "output_type": "stream",
          "text": [
            "MoviePy - Done.\n",
            "MoviePy - Writing audio in temp_audio.wav\n"
          ]
        },
        {
          "name": "stderr",
          "output_type": "stream",
          "text": [
            "\n",
            "\n",
            "\n",
            "chunk:   0%|                                                                                                         | 0/1324 [00:00<?, ?it/s, now=None]\u001b[A\u001b[A\u001b[A\n",
            "\n",
            "\n",
            "chunk:  60%|███████████████████████████████████████████████████████▉                                     | 797/1324 [00:00<00:00, 7966.10it/s, now=None]\u001b[A\u001b[A\u001b[A\n",
            "\n",
            "\n",
            "                                                                                                                                                        \u001b[A\u001b[A\u001b[A"
          ]
        },
        {
          "name": "stdout",
          "output_type": "stream",
          "text": [
            "MoviePy - Done.\n",
            "MoviePy - Writing audio in temp_audio.wav\n"
          ]
        },
        {
          "name": "stderr",
          "output_type": "stream",
          "text": [
            "\n",
            "\n",
            "\n",
            "chunk:   0%|                                                                                                         | 0/1324 [00:00<?, ?it/s, now=None]\u001b[A\u001b[A\u001b[A\n",
            "\n",
            "\n",
            "chunk:  60%|███████████████████████████████████████████████████████▋                                     | 792/1324 [00:00<00:00, 7915.21it/s, now=None]\u001b[A\u001b[A\u001b[A\n",
            "\n",
            "\n",
            "                                                                                                                                                        \u001b[A\u001b[A\u001b[A"
          ]
        },
        {
          "name": "stdout",
          "output_type": "stream",
          "text": [
            "MoviePy - Done.\n",
            "MoviePy - Writing audio in temp_audio.wav\n"
          ]
        },
        {
          "name": "stderr",
          "output_type": "stream",
          "text": [
            "\n",
            "\n",
            "\n",
            "chunk:   0%|                                                                                                         | 0/1324 [00:00<?, ?it/s, now=None]\u001b[A\u001b[A\u001b[A\n",
            "\n",
            "\n",
            "chunk:  60%|████████████████████████████████████████████████████████                                     | 798/1324 [00:00<00:00, 7977.80it/s, now=None]\u001b[A\u001b[A\u001b[A\n",
            "\n",
            "\n",
            "                                                                                                                                                        \u001b[A\u001b[A\u001b[A"
          ]
        },
        {
          "name": "stdout",
          "output_type": "stream",
          "text": [
            "MoviePy - Done.\n",
            "MoviePy - Writing audio in temp_audio.wav\n"
          ]
        },
        {
          "name": "stderr",
          "output_type": "stream",
          "text": [
            "\n",
            "\n",
            "\n",
            "chunk:   0%|                                                                                                         | 0/1324 [00:00<?, ?it/s, now=None]\u001b[A\u001b[A\u001b[A\n",
            "\n",
            "\n",
            "chunk:  62%|█████████████████████████████████████████████████████████▍                                   | 817/1324 [00:00<00:00, 8166.54it/s, now=None]\u001b[A\u001b[A\u001b[A\n",
            "\n",
            "\n",
            "                                                                                                                                                        \u001b[A\u001b[A\u001b[A"
          ]
        },
        {
          "name": "stdout",
          "output_type": "stream",
          "text": [
            "MoviePy - Done.\n",
            "MoviePy - Writing audio in temp_audio.wav\n"
          ]
        },
        {
          "name": "stderr",
          "output_type": "stream",
          "text": [
            "\n",
            "\n",
            "\n",
            "chunk:   0%|                                                                                                         | 0/1324 [00:00<?, ?it/s, now=None]\u001b[A\u001b[A\u001b[A\n",
            "\n",
            "\n",
            "chunk:  64%|███████████████████████████████████████████████████████████▊                                 | 852/1324 [00:00<00:00, 8513.57it/s, now=None]\u001b[A\u001b[A\u001b[A\n",
            "\n",
            "\n",
            "                                                                                                                                                        \u001b[A\u001b[A\u001b[A"
          ]
        },
        {
          "name": "stdout",
          "output_type": "stream",
          "text": [
            "MoviePy - Done.\n",
            "MoviePy - Writing audio in temp_audio.wav\n"
          ]
        },
        {
          "name": "stderr",
          "output_type": "stream",
          "text": [
            "\n",
            "\n",
            "\n",
            "chunk:   0%|                                                                                                         | 0/1324 [00:00<?, ?it/s, now=None]\u001b[A\u001b[A\u001b[A\n",
            "\n",
            "\n",
            "chunk:  56%|███████████████████████████████████████████████████▋                                         | 736/1324 [00:00<00:00, 7357.53it/s, now=None]\u001b[A\u001b[A\u001b[A\n",
            "\n",
            "\n",
            "                                                                                                                                                        \u001b[A\u001b[A\u001b[A"
          ]
        },
        {
          "name": "stdout",
          "output_type": "stream",
          "text": [
            "MoviePy - Done.\n",
            "MoviePy - Writing audio in temp_audio.wav\n"
          ]
        },
        {
          "name": "stderr",
          "output_type": "stream",
          "text": [
            "\n",
            "\n",
            "\n",
            "chunk:   0%|                                                                                                         | 0/1324 [00:00<?, ?it/s, now=None]\u001b[A\u001b[A\u001b[A\n",
            "\n",
            "\n",
            "chunk:  69%|███████████████████████████████████████████████████████████████▋                             | 907/1324 [00:00<00:00, 9063.63it/s, now=None]\u001b[A\u001b[A\u001b[A\n",
            "\n",
            "\n",
            "                                                                                                                                                        \u001b[A\u001b[A\u001b[A"
          ]
        },
        {
          "name": "stdout",
          "output_type": "stream",
          "text": [
            "MoviePy - Done.\n",
            "MoviePy - Writing audio in temp_audio.wav\n"
          ]
        },
        {
          "name": "stderr",
          "output_type": "stream",
          "text": [
            "\n",
            "\n",
            "\n",
            "chunk:   0%|                                                                                                         | 0/1324 [00:00<?, ?it/s, now=None]\u001b[A\u001b[A\u001b[A\n",
            "\n",
            "\n",
            "chunk:  64%|███████████████████████████████████████████████████████████▌                                 | 848/1324 [00:00<00:00, 8477.58it/s, now=None]\u001b[A\u001b[A\u001b[A\n",
            "\n",
            "\n",
            "                                                                                                                                                        \u001b[A\u001b[A\u001b[A"
          ]
        },
        {
          "name": "stdout",
          "output_type": "stream",
          "text": [
            "MoviePy - Done.\n",
            "MoviePy - Writing audio in temp_audio.wav\n"
          ]
        },
        {
          "name": "stderr",
          "output_type": "stream",
          "text": [
            "\n",
            "\n",
            "\n",
            "chunk:   0%|                                                                                                         | 0/1324 [00:00<?, ?it/s, now=None]\u001b[A\u001b[A\u001b[A\n",
            "\n",
            "\n",
            "chunk:  58%|█████████████████████████████████████████████████████▋                                       | 765/1324 [00:00<00:00, 7630.81it/s, now=None]\u001b[A\u001b[A\u001b[A\n",
            "\n",
            "\n",
            "                                                                                                                                                        \u001b[A\u001b[A\u001b[A"
          ]
        },
        {
          "name": "stdout",
          "output_type": "stream",
          "text": [
            "MoviePy - Done.\n",
            "MoviePy - Writing audio in temp_audio.wav\n"
          ]
        },
        {
          "name": "stderr",
          "output_type": "stream",
          "text": [
            "\n",
            "\n",
            "\n",
            "chunk:   0%|                                                                                                         | 0/1324 [00:00<?, ?it/s, now=None]\u001b[A\u001b[A\u001b[A\n",
            "\n",
            "\n",
            "chunk:  60%|████████████████████████████████████████████████████████▎                                    | 801/1324 [00:00<00:00, 8008.48it/s, now=None]\u001b[A\u001b[A\u001b[A\n",
            "\n",
            "\n",
            "                                                                                                                                                        \u001b[A\u001b[A\u001b[A"
          ]
        },
        {
          "name": "stdout",
          "output_type": "stream",
          "text": [
            "MoviePy - Done.\n",
            "MoviePy - Writing audio in temp_audio.wav\n"
          ]
        },
        {
          "name": "stderr",
          "output_type": "stream",
          "text": [
            "\n",
            "\n",
            "\n",
            "chunk:   0%|                                                                                                         | 0/1324 [00:00<?, ?it/s, now=None]\u001b[A\u001b[A\u001b[A\n",
            "\n",
            "\n",
            "chunk:  65%|████████████████████████████████████████████████████████████▉                                | 867/1324 [00:00<00:00, 8620.31it/s, now=None]\u001b[A\u001b[A\u001b[A\n",
            "\n",
            "\n",
            "                                                                                                                                                        \u001b[A\u001b[A\u001b[A"
          ]
        },
        {
          "name": "stdout",
          "output_type": "stream",
          "text": [
            "MoviePy - Done.\n",
            "MoviePy - Writing audio in temp_audio.wav\n"
          ]
        },
        {
          "name": "stderr",
          "output_type": "stream",
          "text": [
            "\n",
            "\n",
            "\n",
            "chunk:   0%|                                                                                                         | 0/1324 [00:00<?, ?it/s, now=None]\u001b[A\u001b[A\u001b[A\n",
            "\n",
            "\n",
            "chunk:  55%|██████████████████████████████████████████████████▊                                          | 723/1324 [00:00<00:00, 7224.51it/s, now=None]\u001b[A\u001b[A\u001b[A\n",
            "\n",
            "\n",
            "                                                                                                                                                        \u001b[A\u001b[A\u001b[A"
          ]
        },
        {
          "name": "stdout",
          "output_type": "stream",
          "text": [
            "MoviePy - Done.\n",
            "MoviePy - Writing audio in temp_audio.wav\n"
          ]
        },
        {
          "name": "stderr",
          "output_type": "stream",
          "text": [
            "\n",
            "\n",
            "\n",
            "chunk:   0%|                                                                                                         | 0/1324 [00:00<?, ?it/s, now=None]\u001b[A\u001b[A\u001b[A\n",
            "\n",
            "\n",
            "chunk:  63%|██████████████████████████████████████████████████████████▌                                  | 833/1324 [00:00<00:00, 8323.32it/s, now=None]\u001b[A\u001b[A\u001b[A\n",
            "\n",
            "\n",
            "                                                                                                                                                        \u001b[A\u001b[A\u001b[A"
          ]
        },
        {
          "name": "stdout",
          "output_type": "stream",
          "text": [
            "MoviePy - Done.\n",
            "MoviePy - Writing audio in temp_audio.wav\n"
          ]
        },
        {
          "name": "stderr",
          "output_type": "stream",
          "text": [
            "\n",
            "\n",
            "\n",
            "chunk:   0%|                                                                                                         | 0/1324 [00:00<?, ?it/s, now=None]\u001b[A\u001b[A\u001b[A\n",
            "\n",
            "\n",
            "chunk:  62%|█████████████████████████████████████████████████████████▌                                   | 820/1324 [00:00<00:00, 8194.46it/s, now=None]\u001b[A\u001b[A\u001b[A\n",
            "\n",
            "\n",
            "                                                                                                                                                        \u001b[A\u001b[A\u001b[A"
          ]
        },
        {
          "name": "stdout",
          "output_type": "stream",
          "text": [
            "MoviePy - Done.\n",
            "MoviePy - Writing audio in temp_audio.wav\n"
          ]
        },
        {
          "name": "stderr",
          "output_type": "stream",
          "text": [
            "\n",
            "\n",
            "\n",
            "chunk:   0%|                                                                                                         | 0/1324 [00:00<?, ?it/s, now=None]\u001b[A\u001b[A\u001b[A\n",
            "\n",
            "\n",
            "chunk:  69%|████████████████████████████████████████████████████████████████▍                            | 918/1324 [00:00<00:00, 9104.10it/s, now=None]\u001b[A\u001b[A\u001b[A\n",
            "\n",
            "\n",
            "                                                                                                                                                        \u001b[A\u001b[A\u001b[A"
          ]
        },
        {
          "name": "stdout",
          "output_type": "stream",
          "text": [
            "MoviePy - Done.\n",
            "MoviePy - Writing audio in temp_audio.wav\n"
          ]
        },
        {
          "name": "stderr",
          "output_type": "stream",
          "text": [
            "\n",
            "\n",
            "\n",
            "chunk:   0%|                                                                                                         | 0/1324 [00:00<?, ?it/s, now=None]\u001b[A\u001b[A\u001b[A\n",
            "\n",
            "\n",
            "chunk:  68%|███████████████████████████████████████████████████████████████                              | 897/1324 [00:00<00:00, 8963.60it/s, now=None]\u001b[A\u001b[A\u001b[A\n",
            "\n",
            "\n",
            "                                                                                                                                                        \u001b[A\u001b[A\u001b[A"
          ]
        },
        {
          "name": "stdout",
          "output_type": "stream",
          "text": [
            "MoviePy - Done.\n",
            "MoviePy - Writing audio in temp_audio.wav\n"
          ]
        },
        {
          "name": "stderr",
          "output_type": "stream",
          "text": [
            "\n",
            "\n",
            "\n",
            "chunk:   0%|                                                                                                         | 0/1324 [00:00<?, ?it/s, now=None]\u001b[A\u001b[A\u001b[A\n",
            "\n",
            "\n",
            "chunk:  65%|████████████████████████████████████████████████████████████▉                                | 867/1324 [00:00<00:00, 8540.18it/s, now=None]\u001b[A\u001b[A\u001b[A\n",
            "\n",
            "\n",
            "                                                                                                                                                        \u001b[A\u001b[A\u001b[A"
          ]
        },
        {
          "name": "stdout",
          "output_type": "stream",
          "text": [
            "MoviePy - Done.\n",
            "MoviePy - Writing audio in temp_audio.wav\n"
          ]
        },
        {
          "name": "stderr",
          "output_type": "stream",
          "text": [
            "\n",
            "\n",
            "\n",
            "chunk:   0%|                                                                                                         | 0/1324 [00:00<?, ?it/s, now=None]\u001b[A\u001b[A\u001b[A\n",
            "\n",
            "\n",
            "chunk:  54%|██████████████████████████████████████████████████▏                                          | 714/1324 [00:00<00:00, 6982.67it/s, now=None]\u001b[A\u001b[A\u001b[A\n",
            "\n",
            "\n",
            "                                                                                                                                                        \u001b[A\u001b[A\u001b[A"
          ]
        },
        {
          "name": "stdout",
          "output_type": "stream",
          "text": [
            "MoviePy - Done.\n",
            "MoviePy - Writing audio in temp_audio.wav\n"
          ]
        },
        {
          "name": "stderr",
          "output_type": "stream",
          "text": [
            "\n",
            "\n",
            "\n",
            "chunk:   0%|                                                                                                         | 0/1324 [00:00<?, ?it/s, now=None]\u001b[A\u001b[A\u001b[A\n",
            "\n",
            "\n",
            "chunk:  70%|█████████████████████████████████████████████████████████████████                            | 927/1324 [00:00<00:00, 9261.64it/s, now=None]\u001b[A\u001b[A\u001b[A\n",
            "\n",
            "\n",
            "                                                                                                                                                        \u001b[A\u001b[A\u001b[A"
          ]
        },
        {
          "name": "stdout",
          "output_type": "stream",
          "text": [
            "MoviePy - Done.\n",
            "MoviePy - Writing audio in temp_audio.wav\n"
          ]
        },
        {
          "name": "stderr",
          "output_type": "stream",
          "text": [
            "\n",
            "\n",
            "\n",
            "chunk:   0%|                                                                                                         | 0/1324 [00:00<?, ?it/s, now=None]\u001b[A\u001b[A\u001b[A\n",
            "\n",
            "\n",
            "chunk:  58%|█████████████████████████████████████████████████████▋                                       | 765/1324 [00:00<00:00, 7578.94it/s, now=None]\u001b[A\u001b[A\u001b[A\n",
            "\n",
            "\n",
            "                                                                                                                                                        \u001b[A\u001b[A\u001b[A"
          ]
        },
        {
          "name": "stdout",
          "output_type": "stream",
          "text": [
            "MoviePy - Done.\n",
            "MoviePy - Writing audio in temp_audio.wav\n"
          ]
        },
        {
          "name": "stderr",
          "output_type": "stream",
          "text": [
            "\n",
            "\n",
            "\n",
            "chunk:   0%|                                                                                                         | 0/1324 [00:00<?, ?it/s, now=None]\u001b[A\u001b[A\u001b[A\n",
            "\n",
            "\n",
            "chunk:  69%|████████████████████████████████████████████████████████████████▍                            | 918/1324 [00:00<00:00, 9062.87it/s, now=None]\u001b[A\u001b[A\u001b[A\n",
            "\n",
            "\n",
            "                                                                                                                                                        \u001b[A\u001b[A\u001b[A"
          ]
        },
        {
          "name": "stdout",
          "output_type": "stream",
          "text": [
            "MoviePy - Done.\n",
            "MoviePy - Writing audio in temp_audio.wav\n"
          ]
        },
        {
          "name": "stderr",
          "output_type": "stream",
          "text": [
            "\n",
            "\n",
            "\n",
            "chunk:   0%|                                                                                                         | 0/1324 [00:00<?, ?it/s, now=None]\u001b[A\u001b[A\u001b[A\n",
            "\n",
            "\n",
            "chunk:  69%|████████████████████████████████████████████████████████████████▍                            | 917/1324 [00:00<00:00, 9169.37it/s, now=None]\u001b[A\u001b[A\u001b[A\n",
            "\n",
            "\n",
            "                                                                                                                                                        \u001b[A\u001b[A\u001b[A"
          ]
        },
        {
          "name": "stdout",
          "output_type": "stream",
          "text": [
            "MoviePy - Done.\n",
            "MoviePy - Writing audio in temp_audio.wav\n"
          ]
        },
        {
          "name": "stderr",
          "output_type": "stream",
          "text": [
            "\n",
            "\n",
            "\n",
            "chunk:   0%|                                                                                                         | 0/1324 [00:00<?, ?it/s, now=None]\u001b[A\u001b[A\u001b[A\n",
            "\n",
            "\n",
            "chunk:  62%|█████████████████████████████████████████████████████████▎                                   | 816/1324 [00:00<00:00, 8092.40it/s, now=None]\u001b[A\u001b[A\u001b[A\n",
            "\n",
            "\n",
            "                                                                                                                                                        \u001b[A\u001b[A\u001b[A"
          ]
        },
        {
          "name": "stdout",
          "output_type": "stream",
          "text": [
            "MoviePy - Done.\n",
            "MoviePy - Writing audio in temp_audio.wav\n"
          ]
        },
        {
          "name": "stderr",
          "output_type": "stream",
          "text": [
            "\n",
            "\n",
            "\n",
            "chunk:   0%|                                                                                                         | 0/1324 [00:00<?, ?it/s, now=None]\u001b[A\u001b[A\u001b[A\n",
            "\n",
            "\n",
            "chunk:  69%|████████████████████████████████████████████████████████████████▎                            | 916/1324 [00:00<00:00, 9157.50it/s, now=None]\u001b[A\u001b[A\u001b[A\n",
            "\n",
            "\n",
            "                                                                                                                                                        \u001b[A\u001b[A\u001b[A"
          ]
        },
        {
          "name": "stdout",
          "output_type": "stream",
          "text": [
            "MoviePy - Done.\n",
            "MoviePy - Writing audio in temp_audio.wav\n"
          ]
        },
        {
          "name": "stderr",
          "output_type": "stream",
          "text": [
            "\n",
            "\n",
            "\n",
            "chunk:   0%|                                                                                                         | 0/1324 [00:00<?, ?it/s, now=None]\u001b[A\u001b[A\u001b[A\n",
            "\n",
            "\n",
            "chunk:  67%|██████████████████████████████████████████████████████████████▏                              | 886/1324 [00:00<00:00, 8853.84it/s, now=None]\u001b[A\u001b[A\u001b[A\n",
            "\n",
            "\n",
            "                                                                                                                                                        \u001b[A\u001b[A\u001b[A"
          ]
        },
        {
          "name": "stdout",
          "output_type": "stream",
          "text": [
            "MoviePy - Done.\n",
            "MoviePy - Writing audio in temp_audio.wav\n"
          ]
        },
        {
          "name": "stderr",
          "output_type": "stream",
          "text": [
            "\n",
            "\n",
            "\n",
            "chunk:   0%|                                                                                                         | 0/1324 [00:00<?, ?it/s, now=None]\u001b[A\u001b[A\u001b[A\n",
            "\n",
            "\n",
            "chunk:  55%|██████████████████████████████████████████████████▉                                          | 725/1324 [00:00<00:00, 7247.07it/s, now=None]\u001b[A\u001b[A\u001b[A\n",
            "\n",
            "\n",
            "                                                                                                                                                        \u001b[A\u001b[A\u001b[A"
          ]
        },
        {
          "name": "stdout",
          "output_type": "stream",
          "text": [
            "MoviePy - Done.\n",
            "MoviePy - Writing audio in temp_audio.wav\n"
          ]
        },
        {
          "name": "stderr",
          "output_type": "stream",
          "text": [
            "\n",
            "\n",
            "\n",
            "chunk:   0%|                                                                                                         | 0/1324 [00:00<?, ?it/s, now=None]\u001b[A\u001b[A\u001b[A\n",
            "\n",
            "\n",
            "chunk:  62%|██████████████████████████████████████████████████████████                                   | 826/1324 [00:00<00:00, 8258.26it/s, now=None]\u001b[A\u001b[A\u001b[A\n",
            "\n",
            "\n",
            "                                                                                                                                                        \u001b[A\u001b[A\u001b[A"
          ]
        },
        {
          "name": "stdout",
          "output_type": "stream",
          "text": [
            "MoviePy - Done.\n",
            "MoviePy - Writing audio in temp_audio.wav\n"
          ]
        },
        {
          "name": "stderr",
          "output_type": "stream",
          "text": [
            "\n",
            "\n",
            "\n",
            "chunk:   0%|                                                                                                         | 0/1324 [00:00<?, ?it/s, now=None]\u001b[A\u001b[A\u001b[A\n",
            "\n",
            "\n",
            "chunk:  65%|████████████████████████████████████████████████████████████▉                                | 867/1324 [00:00<00:00, 8668.48it/s, now=None]\u001b[A\u001b[A\u001b[A\n",
            "\n",
            "\n",
            "                                                                                                                                                        \u001b[A\u001b[A\u001b[A"
          ]
        },
        {
          "name": "stdout",
          "output_type": "stream",
          "text": [
            "MoviePy - Done.\n",
            "MoviePy - Writing audio in temp_audio.wav\n"
          ]
        },
        {
          "name": "stderr",
          "output_type": "stream",
          "text": [
            "\n",
            "\n",
            "\n",
            "chunk:   0%|                                                                                                         | 0/1324 [00:00<?, ?it/s, now=None]\u001b[A\u001b[A\u001b[A\n",
            "\n",
            "\n",
            "chunk:  69%|████████████████████████████████████████████████████████████████▍                            | 918/1324 [00:00<00:00, 9074.49it/s, now=None]\u001b[A\u001b[A\u001b[A\n",
            "\n",
            "\n",
            "                                                                                                                                                        \u001b[A\u001b[A\u001b[A"
          ]
        },
        {
          "name": "stdout",
          "output_type": "stream",
          "text": [
            "MoviePy - Done.\n",
            "MoviePy - Writing audio in temp_audio.wav\n"
          ]
        },
        {
          "name": "stderr",
          "output_type": "stream",
          "text": [
            "\n",
            "\n",
            "\n",
            "chunk:   0%|                                                                                                         | 0/1324 [00:00<?, ?it/s, now=None]\u001b[A\u001b[A\u001b[A\n",
            "\n",
            "\n",
            "chunk:  64%|███████████████████████████████████████████████████████████▋                                 | 850/1324 [00:00<00:00, 8495.98it/s, now=None]\u001b[A\u001b[A\u001b[A\n",
            "\n",
            "\n",
            "                                                                                                                                                        \u001b[A\u001b[A\u001b[A"
          ]
        },
        {
          "name": "stdout",
          "output_type": "stream",
          "text": [
            "MoviePy - Done.\n",
            "MoviePy - Writing audio in temp_audio.wav\n"
          ]
        },
        {
          "name": "stderr",
          "output_type": "stream",
          "text": [
            "\n",
            "\n",
            "\n",
            "chunk:   0%|                                                                                                         | 0/1324 [00:00<?, ?it/s, now=None]\u001b[A\u001b[A\u001b[A\n",
            "\n",
            "\n",
            "chunk:  65%|████████████████████████████████████████████████████████████▉                                | 867/1324 [00:00<00:00, 8540.42it/s, now=None]\u001b[A\u001b[A\u001b[A\n",
            "\n",
            "\n",
            "                                                                                                                                                        \u001b[A\u001b[A\u001b[A"
          ]
        },
        {
          "name": "stdout",
          "output_type": "stream",
          "text": [
            "MoviePy - Done.\n",
            "MoviePy - Writing audio in temp_audio.wav\n"
          ]
        },
        {
          "name": "stderr",
          "output_type": "stream",
          "text": [
            "\n",
            "\n",
            "\n",
            "chunk:   0%|                                                                                                         | 0/1324 [00:00<?, ?it/s, now=None]\u001b[A\u001b[A\u001b[A\n",
            "\n",
            "\n",
            "chunk:  65%|████████████████████████████████████████████████████████████                                 | 855/1324 [00:00<00:00, 8547.50it/s, now=None]\u001b[A\u001b[A\u001b[A\n",
            "\n",
            "\n",
            "                                                                                                                                                        \u001b[A\u001b[A\u001b[A"
          ]
        },
        {
          "name": "stdout",
          "output_type": "stream",
          "text": [
            "MoviePy - Done.\n",
            "MoviePy - Writing audio in temp_audio.wav\n"
          ]
        },
        {
          "name": "stderr",
          "output_type": "stream",
          "text": [
            "\n",
            "\n",
            "\n",
            "chunk:   0%|                                                                                                         | 0/1324 [00:00<?, ?it/s, now=None]\u001b[A\u001b[A\u001b[A\n",
            "\n",
            "\n",
            "chunk:  64%|███████████████████████████████████████████████████████████▏                                 | 843/1324 [00:00<00:00, 8425.89it/s, now=None]\u001b[A\u001b[A\u001b[A\n",
            "\n",
            "\n",
            "                                                                                                                                                        \u001b[A\u001b[A\u001b[A"
          ]
        },
        {
          "name": "stdout",
          "output_type": "stream",
          "text": [
            "MoviePy - Done.\n",
            "MoviePy - Writing audio in temp_audio.wav\n"
          ]
        },
        {
          "name": "stderr",
          "output_type": "stream",
          "text": [
            "\n",
            "\n",
            "\n",
            "chunk:   0%|                                                                                                         | 0/1324 [00:00<?, ?it/s, now=None]\u001b[A\u001b[A\u001b[A\n",
            "\n",
            "\n",
            "chunk:  62%|█████████████████████████████████████████████████████████▎                                   | 816/1324 [00:00<00:00, 8024.20it/s, now=None]\u001b[A\u001b[A\u001b[A\n",
            "\n",
            "\n",
            "                                                                                                                                                        \u001b[A\u001b[A\u001b[A"
          ]
        },
        {
          "name": "stdout",
          "output_type": "stream",
          "text": [
            "MoviePy - Done.\n",
            "MoviePy - Writing audio in temp_audio.wav\n"
          ]
        },
        {
          "name": "stderr",
          "output_type": "stream",
          "text": [
            "\n",
            "\n",
            "\n",
            "chunk:   0%|                                                                                                         | 0/1324 [00:00<?, ?it/s, now=None]\u001b[A\u001b[A\u001b[A\n",
            "\n",
            "\n",
            "chunk:  52%|████████████████████████████████████████████████▎                                            | 687/1324 [00:00<00:00, 6864.21it/s, now=None]\u001b[A\u001b[A\u001b[A\n",
            "\n",
            "\n",
            "                                                                                                                                                        \u001b[A\u001b[A\u001b[A"
          ]
        },
        {
          "name": "stdout",
          "output_type": "stream",
          "text": [
            "MoviePy - Done.\n",
            "MoviePy - Writing audio in temp_audio.wav\n"
          ]
        },
        {
          "name": "stderr",
          "output_type": "stream",
          "text": [
            "\n",
            "\n",
            "\n",
            "chunk:   0%|                                                                                                         | 0/1324 [00:00<?, ?it/s, now=None]\u001b[A\u001b[A\u001b[A\n",
            "\n",
            "\n",
            "chunk:  65%|████████████████████████████████████████████████████████████▎                                | 859/1324 [00:00<00:00, 8587.20it/s, now=None]\u001b[A\u001b[A\u001b[A\n",
            "\n",
            "\n",
            "                                                                                                                                                        \u001b[A\u001b[A\u001b[A"
          ]
        },
        {
          "name": "stdout",
          "output_type": "stream",
          "text": [
            "MoviePy - Done.\n",
            "MoviePy - Writing audio in temp_audio.wav\n"
          ]
        },
        {
          "name": "stderr",
          "output_type": "stream",
          "text": [
            "\n",
            "\n",
            "\n",
            "chunk:   0%|                                                                                                         | 0/1324 [00:00<?, ?it/s, now=None]\u001b[A\u001b[A\u001b[A\n",
            "\n",
            "\n",
            "chunk:  62%|█████████████████████████████████████████████████████████▎                                   | 816/1324 [00:00<00:00, 8047.55it/s, now=None]\u001b[A\u001b[A\u001b[A\n",
            "\n",
            "\n",
            "                                                                                                                                                        \u001b[A\u001b[A\u001b[A"
          ]
        },
        {
          "name": "stdout",
          "output_type": "stream",
          "text": [
            "MoviePy - Done.\n",
            "MoviePy - Writing audio in temp_audio.wav\n"
          ]
        },
        {
          "name": "stderr",
          "output_type": "stream",
          "text": [
            "\n",
            "\n",
            "\n",
            "chunk:   0%|                                                                                                         | 0/1324 [00:00<?, ?it/s, now=None]\u001b[A\u001b[A\u001b[A\n",
            "\n",
            "\n",
            "chunk:  58%|██████████████████████████████████████████████████████                                       | 769/1324 [00:00<00:00, 7684.84it/s, now=None]\u001b[A\u001b[A\u001b[A\n",
            "\n",
            "\n",
            "                                                                                                                                                        \u001b[A\u001b[A\u001b[A"
          ]
        },
        {
          "name": "stdout",
          "output_type": "stream",
          "text": [
            "MoviePy - Done.\n",
            "MoviePy - Writing audio in temp_audio.wav\n"
          ]
        },
        {
          "name": "stderr",
          "output_type": "stream",
          "text": [
            "\n",
            "\n",
            "\n",
            "chunk:   0%|                                                                                                         | 0/1324 [00:00<?, ?it/s, now=None]\u001b[A\u001b[A\u001b[A\n",
            "\n",
            "\n",
            "chunk:  62%|██████████████████████████████████████████████████████████                                   | 827/1324 [00:00<00:00, 8267.15it/s, now=None]\u001b[A\u001b[A\u001b[A\n",
            "\n",
            "\n",
            "                                                                                                                                                        \u001b[A\u001b[A\u001b[A"
          ]
        },
        {
          "name": "stdout",
          "output_type": "stream",
          "text": [
            "MoviePy - Done.\n",
            "MoviePy - Writing audio in temp_audio.wav\n"
          ]
        },
        {
          "name": "stderr",
          "output_type": "stream",
          "text": [
            "\n",
            "\n",
            "\n",
            "chunk:   0%|                                                                                                         | 0/1324 [00:00<?, ?it/s, now=None]\u001b[A\u001b[A\u001b[A\n",
            "\n",
            "\n",
            "chunk:  65%|████████████████████████████████████████████████████████████▊                                | 865/1324 [00:00<00:00, 8646.65it/s, now=None]\u001b[A\u001b[A\u001b[A\n",
            "\n",
            "\n",
            "                                                                                                                                                        \u001b[A\u001b[A\u001b[A"
          ]
        },
        {
          "name": "stdout",
          "output_type": "stream",
          "text": [
            "MoviePy - Done.\n",
            "MoviePy - Writing audio in temp_audio.wav\n"
          ]
        },
        {
          "name": "stderr",
          "output_type": "stream",
          "text": [
            "\n",
            "\n",
            "\n",
            "chunk:   0%|                                                                                                         | 0/1324 [00:00<?, ?it/s, now=None]\u001b[A\u001b[A\u001b[A\n",
            "\n",
            "\n",
            "chunk:  68%|███████████████████████████████████████████████████████████████▍                             | 904/1324 [00:00<00:00, 9037.96it/s, now=None]\u001b[A\u001b[A\u001b[A\n",
            "\n",
            "\n",
            "                                                                                                                                                        \u001b[A\u001b[A\u001b[A"
          ]
        },
        {
          "name": "stdout",
          "output_type": "stream",
          "text": [
            "MoviePy - Done.\n",
            "MoviePy - Writing audio in temp_audio.wav\n"
          ]
        },
        {
          "name": "stderr",
          "output_type": "stream",
          "text": [
            "\n",
            "\n",
            "\n",
            "chunk:   0%|                                                                                                          | 0/333 [00:00<?, ?it/s, now=None]\u001b[A\u001b[A\u001b[A\n",
            "\n",
            "\n",
            "                                                                                                                                                        \u001b[A\u001b[A\u001b[A"
          ]
        },
        {
          "name": "stdout",
          "output_type": "stream",
          "text": [
            "MoviePy - Done.\n",
            "MoviePy - Writing audio in temp_audio.wav\n"
          ]
        },
        {
          "name": "stderr",
          "output_type": "stream",
          "text": [
            "\n",
            "\n",
            "\n",
            "chunk:   0%|                                                                                                         | 0/1324 [00:00<?, ?it/s, now=None]\u001b[A\u001b[A\u001b[A\n",
            "\n",
            "\n",
            "chunk:  67%|██████████████████████████████████████████████████████████████▏                              | 886/1324 [00:00<00:00, 8855.28it/s, now=None]\u001b[A\u001b[A\u001b[A\n",
            "\n",
            "\n",
            "                                                                                                                                                        \u001b[A\u001b[A\u001b[A"
          ]
        },
        {
          "name": "stdout",
          "output_type": "stream",
          "text": [
            "MoviePy - Done.\n",
            "MoviePy - Writing audio in temp_audio.wav\n"
          ]
        },
        {
          "name": "stderr",
          "output_type": "stream",
          "text": [
            "\n",
            "\n",
            "\n",
            "chunk:   0%|                                                                                                         | 0/1324 [00:00<?, ?it/s, now=None]\u001b[A\u001b[A\u001b[A\n",
            "\n",
            "\n",
            "chunk:  62%|█████████████████████████████████████████████████████████▎                                   | 816/1324 [00:00<00:00, 8135.59it/s, now=None]\u001b[A\u001b[A\u001b[A\n",
            "\n",
            "\n",
            "                                                                                                                                                        \u001b[A\u001b[A\u001b[A"
          ]
        },
        {
          "name": "stdout",
          "output_type": "stream",
          "text": [
            "MoviePy - Done.\n",
            "MoviePy - Writing audio in temp_audio.wav\n"
          ]
        },
        {
          "name": "stderr",
          "output_type": "stream",
          "text": [
            "\n",
            "\n",
            "\n",
            "chunk:   0%|                                                                                                         | 0/1324 [00:00<?, ?it/s, now=None]\u001b[A\u001b[A\u001b[A\n",
            "\n",
            "\n",
            "chunk:  65%|████████████████████████████████████████████████████████████▉                                | 867/1324 [00:00<00:00, 8598.83it/s, now=None]\u001b[A\u001b[A\u001b[A\n",
            "\n",
            "\n",
            "                                                                                                                                                        \u001b[A\u001b[A\u001b[A"
          ]
        },
        {
          "name": "stdout",
          "output_type": "stream",
          "text": [
            "MoviePy - Done.\n",
            "MoviePy - Writing audio in temp_audio.wav\n"
          ]
        },
        {
          "name": "stderr",
          "output_type": "stream",
          "text": [
            "\n",
            "\n",
            "\n",
            "chunk:   0%|                                                                                                         | 0/1324 [00:00<?, ?it/s, now=None]\u001b[A\u001b[A\u001b[A\n",
            "\n",
            "\n",
            "chunk:  54%|██████████████████████████████████████████████████▏                                          | 714/1324 [00:00<00:00, 7130.54it/s, now=None]\u001b[A\u001b[A\u001b[A\n",
            "\n",
            "\n",
            "                                                                                                                                                        \u001b[A\u001b[A\u001b[A"
          ]
        },
        {
          "name": "stdout",
          "output_type": "stream",
          "text": [
            "MoviePy - Done.\n",
            "MoviePy - Writing audio in temp_audio.wav\n"
          ]
        },
        {
          "name": "stderr",
          "output_type": "stream",
          "text": [
            "\n",
            "\n",
            "\n",
            "chunk:   0%|                                                                                                         | 0/1324 [00:00<?, ?it/s, now=None]\u001b[A\u001b[A\u001b[A\n",
            "\n",
            "\n",
            "chunk:  63%|██████████████████████████████████████████████████████████▌                                  | 833/1324 [00:00<00:00, 8321.08it/s, now=None]\u001b[A\u001b[A\u001b[A\n",
            "\n",
            "\n",
            "                                                                                                                                                        \u001b[A\u001b[A\u001b[A"
          ]
        },
        {
          "name": "stdout",
          "output_type": "stream",
          "text": [
            "MoviePy - Done.\n",
            "MoviePy - Writing audio in temp_audio.wav\n"
          ]
        },
        {
          "name": "stderr",
          "output_type": "stream",
          "text": [
            "\n",
            "\n",
            "\n",
            "chunk:   0%|                                                                                                         | 0/1324 [00:00<?, ?it/s, now=None]\u001b[A\u001b[A\u001b[A\n",
            "\n",
            "\n",
            "chunk:  62%|█████████████████████████████████████████████████████████▎                                   | 816/1324 [00:00<00:00, 8151.42it/s, now=None]\u001b[A\u001b[A\u001b[A\n",
            "\n",
            "\n",
            "                                                                                                                                                        \u001b[A\u001b[A\u001b[A"
          ]
        },
        {
          "name": "stdout",
          "output_type": "stream",
          "text": [
            "MoviePy - Done.\n",
            "MoviePy - Writing audio in temp_audio.wav\n"
          ]
        },
        {
          "name": "stderr",
          "output_type": "stream",
          "text": [
            "\n",
            "\n",
            "\n",
            "chunk:   0%|                                                                                                         | 0/1324 [00:00<?, ?it/s, now=None]\u001b[A\u001b[A\u001b[A\n",
            "\n",
            "\n",
            "chunk:  33%|██████████████████████████████▋                                                              | 437/1324 [00:00<00:00, 4366.88it/s, now=None]\u001b[A\u001b[A\u001b[A\n",
            "\n",
            "\n",
            "chunk:  75%|██████████████████████████████████████████████████████████████████████▏                      | 999/1324 [00:00<00:00, 5098.28it/s, now=None]\u001b[A\u001b[A\u001b[A\n",
            "\n",
            "\n",
            "                                                                                                                                                        \u001b[A\u001b[A\u001b[A"
          ]
        },
        {
          "name": "stdout",
          "output_type": "stream",
          "text": [
            "MoviePy - Done.\n",
            "MoviePy - Writing audio in temp_audio.wav\n"
          ]
        },
        {
          "name": "stderr",
          "output_type": "stream",
          "text": [
            "\n",
            "\n",
            "\n",
            "chunk:   0%|                                                                                                         | 0/1324 [00:00<?, ?it/s, now=None]\u001b[A\u001b[A\u001b[A\n",
            "\n",
            "\n",
            "chunk:  60%|███████████████████████████████████████████████████████▋                                     | 792/1324 [00:00<00:00, 7918.84it/s, now=None]\u001b[A\u001b[A\u001b[A\n",
            "\n",
            "\n",
            "                                                                                                                                                        \u001b[A\u001b[A\u001b[A"
          ]
        },
        {
          "name": "stdout",
          "output_type": "stream",
          "text": [
            "MoviePy - Done.\n",
            "MoviePy - Writing audio in temp_audio.wav\n"
          ]
        },
        {
          "name": "stderr",
          "output_type": "stream",
          "text": [
            "\n",
            "\n",
            "\n",
            "chunk:   0%|                                                                                                         | 0/1324 [00:00<?, ?it/s, now=None]\u001b[A\u001b[A\u001b[A\n",
            "\n",
            "\n",
            "chunk:  48%|████████████████████████████████████████████▊                                                | 638/1324 [00:00<00:00, 6376.08it/s, now=None]\u001b[A\u001b[A\u001b[A\n",
            "\n",
            "\n",
            "                                                                                                                                                        \u001b[A\u001b[A\u001b[A"
          ]
        },
        {
          "name": "stdout",
          "output_type": "stream",
          "text": [
            "MoviePy - Done.\n",
            "MoviePy - Writing audio in temp_audio.wav\n"
          ]
        },
        {
          "name": "stderr",
          "output_type": "stream",
          "text": [
            "\n",
            "\n",
            "\n",
            "chunk:   0%|                                                                                                         | 0/1324 [00:00<?, ?it/s, now=None]\u001b[A\u001b[A\u001b[A\n",
            "\n",
            "\n",
            "chunk:  69%|████████████████████████████████████████████████████████████████                             | 912/1324 [00:00<00:00, 9113.49it/s, now=None]\u001b[A\u001b[A\u001b[A\n",
            "\n",
            "\n",
            "                                                                                                                                                        \u001b[A\u001b[A\u001b[A"
          ]
        },
        {
          "name": "stdout",
          "output_type": "stream",
          "text": [
            "MoviePy - Done.\n",
            "MoviePy - Writing audio in temp_audio.wav\n"
          ]
        },
        {
          "name": "stderr",
          "output_type": "stream",
          "text": [
            "\n",
            "\n",
            "\n",
            "chunk:   0%|                                                                                                         | 0/1324 [00:00<?, ?it/s, now=None]\u001b[A\u001b[A\u001b[A\n",
            "\n",
            "\n",
            "chunk:  65%|████████████████████████████████████████████████████████████▉                                | 867/1324 [00:00<00:00, 8564.82it/s, now=None]\u001b[A\u001b[A\u001b[A\n",
            "\n",
            "\n",
            "                                                                                                                                                        \u001b[A\u001b[A\u001b[A"
          ]
        },
        {
          "name": "stdout",
          "output_type": "stream",
          "text": [
            "MoviePy - Done.\n",
            "MoviePy - Writing audio in temp_audio.wav\n"
          ]
        },
        {
          "name": "stderr",
          "output_type": "stream",
          "text": [
            "\n",
            "\n",
            "\n",
            "chunk:   0%|                                                                                                         | 0/1324 [00:00<?, ?it/s, now=None]\u001b[A\u001b[A\u001b[A\n",
            "\n",
            "\n",
            "chunk:  67%|██████████████████████████████████████████████████████████████▋                              | 892/1324 [00:00<00:00, 8914.67it/s, now=None]\u001b[A\u001b[A\u001b[A\n",
            "\n",
            "\n",
            "                                                                                                                                                        \u001b[A\u001b[A\u001b[A"
          ]
        },
        {
          "name": "stdout",
          "output_type": "stream",
          "text": [
            "MoviePy - Done.\n",
            "MoviePy - Writing audio in temp_audio.wav\n"
          ]
        },
        {
          "name": "stderr",
          "output_type": "stream",
          "text": [
            "\n",
            "\n",
            "\n",
            "chunk:   0%|                                                                                                         | 0/1324 [00:00<?, ?it/s, now=None]\u001b[A\u001b[A\u001b[A\n",
            "\n",
            "\n",
            "chunk:  65%|████████████████████████████████████████████████████████████▎                                | 859/1324 [00:00<00:00, 8581.62it/s, now=None]\u001b[A\u001b[A\u001b[A\n",
            "\n",
            "\n",
            "                                                                                                                                                        \u001b[A\u001b[A\u001b[A"
          ]
        },
        {
          "name": "stdout",
          "output_type": "stream",
          "text": [
            "MoviePy - Done.\n",
            "MoviePy - Writing audio in temp_audio.wav\n"
          ]
        },
        {
          "name": "stderr",
          "output_type": "stream",
          "text": [
            "\n",
            "\n",
            "\n",
            "chunk:   0%|                                                                                                         | 0/1324 [00:00<?, ?it/s, now=None]\u001b[A\u001b[A\u001b[A\n",
            "\n",
            "\n",
            "chunk:  66%|█████████████████████████████████████████████████████████████                                | 869/1324 [00:00<00:00, 8687.01it/s, now=None]\u001b[A\u001b[A\u001b[A\n",
            "\n",
            "\n",
            "                                                                                                                                                        \u001b[A\u001b[A\u001b[A"
          ]
        },
        {
          "name": "stdout",
          "output_type": "stream",
          "text": [
            "MoviePy - Done.\n",
            "MoviePy - Writing audio in temp_audio.wav\n"
          ]
        },
        {
          "name": "stderr",
          "output_type": "stream",
          "text": [
            "\n",
            "\n",
            "\n",
            "chunk:   0%|                                                                                                         | 0/1324 [00:00<?, ?it/s, now=None]\u001b[A\u001b[A\u001b[A\n",
            "\n",
            "\n",
            "chunk:  61%|████████████████████████████████████████████████████████▍                                    | 804/1324 [00:00<00:00, 8036.27it/s, now=None]\u001b[A\u001b[A\u001b[A\n",
            "\n",
            "\n",
            "                                                                                                                                                        \u001b[A\u001b[A\u001b[A"
          ]
        },
        {
          "name": "stdout",
          "output_type": "stream",
          "text": [
            "MoviePy - Done.\n",
            "MoviePy - Writing audio in temp_audio.wav\n"
          ]
        },
        {
          "name": "stderr",
          "output_type": "stream",
          "text": [
            "\n",
            "\n",
            "\n",
            "chunk:   0%|                                                                                                         | 0/1324 [00:00<?, ?it/s, now=None]\u001b[A\u001b[A\u001b[A\n",
            "\n",
            "\n",
            "chunk:  70%|█████████████████████████████████████████████████████████████████▍                           | 931/1324 [00:00<00:00, 9304.95it/s, now=None]\u001b[A\u001b[A\u001b[A\n",
            "\n",
            "\n",
            "                                                                                                                                                        \u001b[A\u001b[A\u001b[A"
          ]
        },
        {
          "name": "stdout",
          "output_type": "stream",
          "text": [
            "MoviePy - Done.\n",
            "MoviePy - Writing audio in temp_audio.wav\n"
          ]
        },
        {
          "name": "stderr",
          "output_type": "stream",
          "text": [
            "\n",
            "\n",
            "\n",
            "chunk:   0%|                                                                                                         | 0/1324 [00:00<?, ?it/s, now=None]\u001b[A\u001b[A\u001b[A\n",
            "\n",
            "\n",
            "chunk:  71%|██████████████████████████████████████████████████████████████████▎                          | 944/1324 [00:00<00:00, 9433.55it/s, now=None]\u001b[A\u001b[A\u001b[A\n",
            "\n",
            "\n",
            "                                                                                                                                                        \u001b[A\u001b[A\u001b[A"
          ]
        },
        {
          "name": "stdout",
          "output_type": "stream",
          "text": [
            "MoviePy - Done.\n",
            "MoviePy - Writing audio in temp_audio.wav\n"
          ]
        },
        {
          "name": "stderr",
          "output_type": "stream",
          "text": [
            "\n",
            "\n",
            "\n",
            "chunk:   0%|                                                                                                         | 0/1324 [00:00<?, ?it/s, now=None]\u001b[A\u001b[A\u001b[A\n",
            "\n",
            "\n",
            "chunk:  66%|█████████████████████████████████████████████████████████████▋                               | 879/1324 [00:00<00:00, 8788.14it/s, now=None]\u001b[A\u001b[A\u001b[A\n",
            "\n",
            "\n",
            "                                                                                                                                                        \u001b[A\u001b[A\u001b[A"
          ]
        },
        {
          "name": "stdout",
          "output_type": "stream",
          "text": [
            "MoviePy - Done.\n",
            "MoviePy - Writing audio in temp_audio.wav\n"
          ]
        },
        {
          "name": "stderr",
          "output_type": "stream",
          "text": [
            "\n",
            "\n",
            "\n",
            "chunk:   0%|                                                                                                         | 0/1324 [00:00<?, ?it/s, now=None]\u001b[A\u001b[A\u001b[A\n",
            "\n",
            "\n",
            "chunk:  62%|██████████████████████████████████████████████████████████                                   | 827/1324 [00:00<00:00, 8268.71it/s, now=None]\u001b[A\u001b[A\u001b[A\n",
            "\n",
            "\n",
            "                                                                                                                                                        \u001b[A\u001b[A\u001b[A"
          ]
        },
        {
          "name": "stdout",
          "output_type": "stream",
          "text": [
            "MoviePy - Done.\n",
            "MoviePy - Writing audio in temp_audio.wav\n"
          ]
        },
        {
          "name": "stderr",
          "output_type": "stream",
          "text": [
            "\n",
            "\n",
            "\n",
            "chunk:   0%|                                                                                                         | 0/1324 [00:00<?, ?it/s, now=None]\u001b[A\u001b[A\u001b[A\n",
            "\n",
            "\n",
            "chunk:  65%|████████████████████████████████████████████████████████████▏                                | 856/1324 [00:00<00:00, 8555.46it/s, now=None]\u001b[A\u001b[A\u001b[A\n",
            "\n",
            "\n",
            "                                                                                                                                                        \u001b[A\u001b[A\u001b[A"
          ]
        },
        {
          "name": "stdout",
          "output_type": "stream",
          "text": [
            "MoviePy - Done.\n",
            "MoviePy - Writing audio in temp_audio.wav\n"
          ]
        },
        {
          "name": "stderr",
          "output_type": "stream",
          "text": [
            "\n",
            "\n",
            "\n",
            "chunk:   0%|                                                                                                         | 0/1324 [00:00<?, ?it/s, now=None]\u001b[A\u001b[A\u001b[A\n",
            "\n",
            "\n",
            "chunk:  65%|████████████████████████████████████████████████████████████▉                                | 867/1324 [00:00<00:00, 8601.76it/s, now=None]\u001b[A\u001b[A\u001b[A\n",
            "\n",
            "\n",
            "                                                                                                                                                        \u001b[A\u001b[A\u001b[A"
          ]
        },
        {
          "name": "stdout",
          "output_type": "stream",
          "text": [
            "MoviePy - Done.\n",
            "MoviePy - Writing audio in temp_audio.wav\n"
          ]
        },
        {
          "name": "stderr",
          "output_type": "stream",
          "text": [
            "\n",
            "\n",
            "\n",
            "chunk:   0%|                                                                                                         | 0/1324 [00:00<?, ?it/s, now=None]\u001b[A\u001b[A\u001b[A\n",
            "\n",
            "\n",
            "chunk:  62%|█████████████████████████████████████████████████████████▎                                   | 816/1324 [00:00<00:00, 8003.01it/s, now=None]\u001b[A\u001b[A\u001b[A\n",
            "\n",
            "\n",
            "                                                                                                                                                        \u001b[A\u001b[A\u001b[A"
          ]
        },
        {
          "name": "stdout",
          "output_type": "stream",
          "text": [
            "MoviePy - Done.\n",
            "MoviePy - Writing audio in temp_audio.wav\n"
          ]
        },
        {
          "name": "stderr",
          "output_type": "stream",
          "text": [
            "\n",
            "\n",
            "\n",
            "chunk:   0%|                                                                                                         | 0/1324 [00:00<?, ?it/s, now=None]\u001b[A\u001b[A\u001b[A\n",
            "\n",
            "\n",
            "chunk:  41%|█████████████████████████████████████▊                                                       | 539/1324 [00:00<00:00, 5386.95it/s, now=None]\u001b[A\u001b[A\u001b[A\n",
            "\n",
            "\n",
            "chunk:  87%|████████████████████████████████████████████████████████████████████████████████            | 1153/1324 [00:00<00:00, 5829.75it/s, now=None]\u001b[A\u001b[A\u001b[A\n",
            "\n",
            "\n",
            "                                                                                                                                                        \u001b[A\u001b[A\u001b[A"
          ]
        },
        {
          "name": "stdout",
          "output_type": "stream",
          "text": [
            "MoviePy - Done.\n",
            "MoviePy - Writing audio in temp_audio.wav\n"
          ]
        },
        {
          "name": "stderr",
          "output_type": "stream",
          "text": [
            "\n",
            "\n",
            "\n",
            "chunk:   0%|                                                                                                         | 0/1324 [00:00<?, ?it/s, now=None]\u001b[A\u001b[A\u001b[A\n",
            "\n",
            "\n",
            "chunk:  68%|███████████████████████████████████████████████████████████████                              | 897/1324 [00:00<00:00, 8963.92it/s, now=None]\u001b[A\u001b[A\u001b[A\n",
            "\n",
            "\n",
            "                                                                                                                                                        \u001b[A\u001b[A\u001b[A"
          ]
        },
        {
          "name": "stdout",
          "output_type": "stream",
          "text": [
            "MoviePy - Done.\n",
            "MoviePy - Writing audio in temp_audio.wav\n"
          ]
        },
        {
          "name": "stderr",
          "output_type": "stream",
          "text": [
            "\n",
            "\n",
            "\n",
            "chunk:   0%|                                                                                                         | 0/1324 [00:00<?, ?it/s, now=None]\u001b[A\u001b[A\u001b[A\n",
            "\n",
            "\n",
            "chunk:  56%|████████████████████████████████████████████████████                                         | 741/1324 [00:00<00:00, 7409.62it/s, now=None]\u001b[A\u001b[A\u001b[A\n",
            "\n",
            "\n",
            "                                                                                                                                                        \u001b[A\u001b[A\u001b[A"
          ]
        },
        {
          "name": "stdout",
          "output_type": "stream",
          "text": [
            "MoviePy - Done.\n",
            "MoviePy - Writing audio in temp_audio.wav\n"
          ]
        },
        {
          "name": "stderr",
          "output_type": "stream",
          "text": [
            "\n",
            "\n",
            "\n",
            "chunk:   0%|                                                                                                         | 0/1324 [00:00<?, ?it/s, now=None]\u001b[A\u001b[A\u001b[A\n",
            "\n",
            "\n",
            "chunk:  71%|██████████████████████████████████████████████████████████████████                           | 940/1324 [00:00<00:00, 9399.00it/s, now=None]\u001b[A\u001b[A\u001b[A\n",
            "\n",
            "\n",
            "                                                                                                                                                        \u001b[A\u001b[A\u001b[A"
          ]
        },
        {
          "name": "stdout",
          "output_type": "stream",
          "text": [
            "MoviePy - Done.\n",
            "MoviePy - Writing audio in temp_audio.wav\n"
          ]
        },
        {
          "name": "stderr",
          "output_type": "stream",
          "text": [
            "\n",
            "\n",
            "\n",
            "chunk:   0%|                                                                                                         | 0/1324 [00:00<?, ?it/s, now=None]\u001b[A\u001b[A\u001b[A\n",
            "\n",
            "\n",
            "chunk:  66%|█████████████████████████████████████████████████████████████                                | 870/1324 [00:00<00:00, 8694.49it/s, now=None]\u001b[A\u001b[A\u001b[A\n",
            "\n",
            "\n",
            "                                                                                                                                                        \u001b[A\u001b[A\u001b[A"
          ]
        },
        {
          "name": "stdout",
          "output_type": "stream",
          "text": [
            "MoviePy - Done.\n",
            "MoviePy - Writing audio in temp_audio.wav\n"
          ]
        },
        {
          "name": "stderr",
          "output_type": "stream",
          "text": [
            "\n",
            "\n",
            "\n",
            "chunk:   0%|                                                                                                         | 0/1324 [00:00<?, ?it/s, now=None]\u001b[A\u001b[A\u001b[A\n",
            "\n",
            "\n",
            "chunk:  60%|███████████████████████████████████████████████████████▋                                     | 793/1324 [00:00<00:00, 7929.42it/s, now=None]\u001b[A\u001b[A\u001b[A\n",
            "\n",
            "\n",
            "                                                                                                                                                        \u001b[A\u001b[A\u001b[A"
          ]
        },
        {
          "name": "stdout",
          "output_type": "stream",
          "text": [
            "MoviePy - Done.\n",
            "MoviePy - Writing audio in temp_audio.wav\n"
          ]
        },
        {
          "name": "stderr",
          "output_type": "stream",
          "text": [
            "\n",
            "\n",
            "\n",
            "chunk:   0%|                                                                                                         | 0/1324 [00:00<?, ?it/s, now=None]\u001b[A\u001b[A\u001b[A\n",
            "\n",
            "\n",
            "chunk:  58%|█████████████████████████████████████████████████████▋                                       | 765/1324 [00:00<00:00, 7622.62it/s, now=None]\u001b[A\u001b[A\u001b[A\n",
            "\n",
            "\n",
            "                                                                                                                                                        \u001b[A\u001b[A\u001b[A"
          ]
        },
        {
          "name": "stdout",
          "output_type": "stream",
          "text": [
            "MoviePy - Done.\n",
            "MoviePy - Writing audio in temp_audio.wav\n"
          ]
        },
        {
          "name": "stderr",
          "output_type": "stream",
          "text": [
            "\n",
            "\n",
            "\n",
            "chunk:   0%|                                                                                                         | 0/1324 [00:00<?, ?it/s, now=None]\u001b[A\u001b[A\u001b[A\n",
            "\n",
            "\n",
            "chunk:  68%|███████████████████████████████████████████████████████████████▋                             | 906/1324 [00:00<00:00, 9059.86it/s, now=None]\u001b[A\u001b[A\u001b[A\n",
            "\n",
            "\n",
            "                                                                                                                                                        \u001b[A\u001b[A\u001b[A"
          ]
        },
        {
          "name": "stdout",
          "output_type": "stream",
          "text": [
            "MoviePy - Done.\n",
            "MoviePy - Writing audio in temp_audio.wav\n"
          ]
        },
        {
          "name": "stderr",
          "output_type": "stream",
          "text": [
            "\n",
            "\n",
            "\n",
            "chunk:   0%|                                                                                                         | 0/1324 [00:00<?, ?it/s, now=None]\u001b[A\u001b[A\u001b[A\n",
            "\n",
            "\n",
            "chunk:  65%|████████████████████████████████████████████████████████████▌                                | 862/1324 [00:00<00:00, 8619.33it/s, now=None]\u001b[A\u001b[A\u001b[A\n",
            "\n",
            "\n",
            "                                                                                                                                                        \u001b[A\u001b[A\u001b[A"
          ]
        },
        {
          "name": "stdout",
          "output_type": "stream",
          "text": [
            "MoviePy - Done.\n",
            "MoviePy - Writing audio in temp_audio.wav\n"
          ]
        },
        {
          "name": "stderr",
          "output_type": "stream",
          "text": [
            "\n",
            "\n",
            "\n",
            "chunk:   0%|                                                                                                         | 0/1324 [00:00<?, ?it/s, now=None]\u001b[A\u001b[A\u001b[A\n",
            "\n",
            "\n",
            "chunk:  62%|█████████████████████████████████████████████████████████▎                                   | 816/1324 [00:00<00:00, 8039.26it/s, now=None]\u001b[A\u001b[A\u001b[A\n",
            "\n",
            "\n",
            "                                                                                                                                                        \u001b[A\u001b[A\u001b[A"
          ]
        },
        {
          "name": "stdout",
          "output_type": "stream",
          "text": [
            "MoviePy - Done.\n",
            "MoviePy - Writing audio in temp_audio.wav\n"
          ]
        },
        {
          "name": "stderr",
          "output_type": "stream",
          "text": [
            "\n",
            "\n",
            "\n",
            "chunk:   0%|                                                                                                         | 0/1324 [00:00<?, ?it/s, now=None]\u001b[A\u001b[A\u001b[A\n",
            "\n",
            "\n",
            "chunk:  69%|████████████████████████████████████████████████████████████████▍                            | 918/1324 [00:00<00:00, 9065.41it/s, now=None]\u001b[A\u001b[A\u001b[A\n",
            "\n",
            "\n",
            "                                                                                                                                                        \u001b[A\u001b[A\u001b[A"
          ]
        },
        {
          "name": "stdout",
          "output_type": "stream",
          "text": [
            "MoviePy - Done.\n",
            "MoviePy - Writing audio in temp_audio.wav\n"
          ]
        },
        {
          "name": "stderr",
          "output_type": "stream",
          "text": [
            "\n",
            "\n",
            "\n",
            "chunk:   0%|                                                                                                         | 0/1324 [00:00<?, ?it/s, now=None]\u001b[A\u001b[A\u001b[A\n",
            "\n",
            "\n",
            "chunk:  58%|█████████████████████████████████████████████████████▋                                       | 765/1324 [00:00<00:00, 7592.89it/s, now=None]\u001b[A\u001b[A\u001b[A\n",
            "\n",
            "\n",
            "                                                                                                                                                        \u001b[A\u001b[A\u001b[A"
          ]
        },
        {
          "name": "stdout",
          "output_type": "stream",
          "text": [
            "MoviePy - Done.\n",
            "MoviePy - Writing audio in temp_audio.wav\n"
          ]
        },
        {
          "name": "stderr",
          "output_type": "stream",
          "text": [
            "\n",
            "\n",
            "\n",
            "chunk:   0%|                                                                                                         | 0/1324 [00:00<?, ?it/s, now=None]\u001b[A\u001b[A\u001b[A\n",
            "\n",
            "\n",
            "chunk:  65%|████████████████████████████████████████████████████████████▉                                | 867/1324 [00:00<00:00, 8501.01it/s, now=None]\u001b[A\u001b[A\u001b[A\n",
            "\n",
            "\n",
            "                                                                                                                                                        \u001b[A\u001b[A\u001b[A"
          ]
        },
        {
          "name": "stdout",
          "output_type": "stream",
          "text": [
            "MoviePy - Done.\n",
            "MoviePy - Writing audio in temp_audio.wav\n"
          ]
        },
        {
          "name": "stderr",
          "output_type": "stream",
          "text": [
            "\n",
            "\n",
            "\n",
            "chunk:   0%|                                                                                                         | 0/1324 [00:00<?, ?it/s, now=None]\u001b[A\u001b[A\u001b[A\n",
            "\n",
            "\n",
            "chunk:  62%|█████████████████████████████████████████████████████████▎                                   | 816/1324 [00:00<00:00, 8144.76it/s, now=None]\u001b[A\u001b[A\u001b[A\n",
            "\n",
            "\n",
            "                                                                                                                                                        \u001b[A\u001b[A\u001b[A"
          ]
        },
        {
          "name": "stdout",
          "output_type": "stream",
          "text": [
            "MoviePy - Done.\n",
            "MoviePy - Writing audio in temp_audio.wav\n"
          ]
        },
        {
          "name": "stderr",
          "output_type": "stream",
          "text": [
            "\n",
            "\n",
            "\n",
            "chunk:   0%|                                                                                                         | 0/1324 [00:00<?, ?it/s, now=None]\u001b[A\u001b[A\u001b[A\n",
            "\n",
            "\n",
            "chunk:  69%|███████████████████████████████████████████████████████████████▋                             | 907/1324 [00:00<00:00, 9064.69it/s, now=None]\u001b[A\u001b[A\u001b[A\n",
            "\n",
            "\n",
            "                                                                                                                                                        \u001b[A\u001b[A\u001b[A"
          ]
        },
        {
          "name": "stdout",
          "output_type": "stream",
          "text": [
            "MoviePy - Done.\n",
            "MoviePy - Writing audio in temp_audio.wav\n"
          ]
        },
        {
          "name": "stderr",
          "output_type": "stream",
          "text": [
            "\n",
            "\n",
            "\n",
            "chunk:   0%|                                                                                                         | 0/1324 [00:00<?, ?it/s, now=None]\u001b[A\u001b[A\u001b[A\n",
            "\n",
            "\n",
            "chunk:  58%|█████████████████████████████████████████████████████▋                                       | 765/1324 [00:00<00:00, 7619.63it/s, now=None]\u001b[A\u001b[A\u001b[A\n",
            "\n",
            "\n",
            "                                                                                                                                                        \u001b[A\u001b[A\u001b[A"
          ]
        },
        {
          "name": "stdout",
          "output_type": "stream",
          "text": [
            "MoviePy - Done.\n",
            "MoviePy - Writing audio in temp_audio.wav\n"
          ]
        },
        {
          "name": "stderr",
          "output_type": "stream",
          "text": [
            "\n",
            "\n",
            "\n",
            "chunk:   0%|                                                                                                         | 0/1324 [00:00<?, ?it/s, now=None]\u001b[A\u001b[A\u001b[A\n",
            "\n",
            "\n",
            "chunk:  65%|████████████████████████████████████████████████████████████▉                                | 867/1324 [00:00<00:00, 8619.60it/s, now=None]\u001b[A\u001b[A\u001b[A\n",
            "\n",
            "\n",
            "                                                                                                                                                        \u001b[A\u001b[A\u001b[A"
          ]
        },
        {
          "name": "stdout",
          "output_type": "stream",
          "text": [
            "MoviePy - Done.\n",
            "MoviePy - Writing audio in temp_audio.wav\n"
          ]
        },
        {
          "name": "stderr",
          "output_type": "stream",
          "text": [
            "\n",
            "\n",
            "\n",
            "chunk:   0%|                                                                                                         | 0/1324 [00:00<?, ?it/s, now=None]\u001b[A\u001b[A\u001b[A\n",
            "\n",
            "\n",
            "chunk:  55%|███████████████████████████████████████████████████▎                                         | 731/1324 [00:00<00:00, 7305.25it/s, now=None]\u001b[A\u001b[A\u001b[A\n",
            "\n",
            "\n",
            "                                                                                                                                                        \u001b[A\u001b[A\u001b[A"
          ]
        },
        {
          "name": "stdout",
          "output_type": "stream",
          "text": [
            "MoviePy - Done.\n",
            "MoviePy - Writing audio in temp_audio.wav\n"
          ]
        },
        {
          "name": "stderr",
          "output_type": "stream",
          "text": [
            "\n",
            "\n",
            "\n",
            "chunk:   0%|                                                                                                         | 0/1324 [00:00<?, ?it/s, now=None]\u001b[A\u001b[A\u001b[A\n",
            "\n",
            "\n",
            "chunk:  65%|████████████████████████████████████████████████████████████▉                                | 867/1324 [00:00<00:00, 8565.53it/s, now=None]\u001b[A\u001b[A\u001b[A\n",
            "\n",
            "\n",
            "                                                                                                                                                        \u001b[A\u001b[A\u001b[A"
          ]
        },
        {
          "name": "stdout",
          "output_type": "stream",
          "text": [
            "MoviePy - Done.\n",
            "MoviePy - Writing audio in temp_audio.wav\n"
          ]
        },
        {
          "name": "stderr",
          "output_type": "stream",
          "text": [
            "\n",
            "\n",
            "\n",
            "chunk:   0%|                                                                                                         | 0/1324 [00:00<?, ?it/s, now=None]\u001b[A\u001b[A\u001b[A\n",
            "\n",
            "\n",
            "chunk:  65%|████████████████████████████████████████████████████████████▉                                | 867/1324 [00:00<00:00, 8569.85it/s, now=None]\u001b[A\u001b[A\u001b[A\n",
            "\n",
            "\n",
            "                                                                                                                                                        \u001b[A\u001b[A\u001b[A"
          ]
        },
        {
          "name": "stdout",
          "output_type": "stream",
          "text": [
            "MoviePy - Done.\n",
            "MoviePy - Writing audio in temp_audio.wav\n"
          ]
        },
        {
          "name": "stderr",
          "output_type": "stream",
          "text": [
            "\n",
            "\n",
            "\n",
            "chunk:   0%|                                                                                                         | 0/1324 [00:00<?, ?it/s, now=None]\u001b[A\u001b[A\u001b[A\n",
            "\n",
            "\n",
            "chunk:  56%|███████████████████████████████████████████████████▉                                         | 740/1324 [00:00<00:00, 7396.41it/s, now=None]\u001b[A\u001b[A\u001b[A\n",
            "\n",
            "\n",
            "                                                                                                                                                        \u001b[A\u001b[A\u001b[A"
          ]
        },
        {
          "name": "stdout",
          "output_type": "stream",
          "text": [
            "MoviePy - Done.\n",
            "MoviePy - Writing audio in temp_audio.wav\n"
          ]
        },
        {
          "name": "stderr",
          "output_type": "stream",
          "text": [
            "\n",
            "\n",
            "\n",
            "chunk:   0%|                                                                                                         | 0/1324 [00:00<?, ?it/s, now=None]\u001b[A\u001b[A\u001b[A\n",
            "\n",
            "\n",
            "chunk:  62%|█████████████████████████████████████████████████████████▎                                   | 816/1324 [00:00<00:00, 8040.92it/s, now=None]\u001b[A\u001b[A\u001b[A\n",
            "\n",
            "\n",
            "                                                                                                                                                        \u001b[A\u001b[A\u001b[A"
          ]
        },
        {
          "name": "stdout",
          "output_type": "stream",
          "text": [
            "MoviePy - Done.\n",
            "MoviePy - Writing audio in temp_audio.wav\n"
          ]
        },
        {
          "name": "stderr",
          "output_type": "stream",
          "text": [
            "\n",
            "\n",
            "\n",
            "chunk:   0%|                                                                                                         | 0/1324 [00:00<?, ?it/s, now=None]\u001b[A\u001b[A\u001b[A\n",
            "\n",
            "\n",
            "chunk:  62%|█████████████████████████████████████████████████████████▎                                   | 816/1324 [00:00<00:00, 8031.07it/s, now=None]\u001b[A\u001b[A\u001b[A\n",
            "\n",
            "\n",
            "                                                                                                                                                        \u001b[A\u001b[A\u001b[A"
          ]
        },
        {
          "name": "stdout",
          "output_type": "stream",
          "text": [
            "MoviePy - Done.\n",
            "MoviePy - Writing audio in temp_audio.wav\n"
          ]
        },
        {
          "name": "stderr",
          "output_type": "stream",
          "text": [
            "\n",
            "\n",
            "\n",
            "chunk:   0%|                                                                                                         | 0/1324 [00:00<?, ?it/s, now=None]\u001b[A\u001b[A\u001b[A\n",
            "\n",
            "\n",
            "chunk:  60%|███████████████████████████████████████████████████████▊                                     | 794/1324 [00:00<00:00, 7939.76it/s, now=None]\u001b[A\u001b[A\u001b[A\n",
            "\n",
            "\n",
            "                                                                                                                                                        \u001b[A\u001b[A\u001b[A"
          ]
        },
        {
          "name": "stdout",
          "output_type": "stream",
          "text": [
            "MoviePy - Done.\n",
            "MoviePy - Writing audio in temp_audio.wav\n"
          ]
        },
        {
          "name": "stderr",
          "output_type": "stream",
          "text": [
            "\n",
            "\n",
            "\n",
            "chunk:   0%|                                                                                                         | 0/1324 [00:00<?, ?it/s, now=None]\u001b[A\u001b[A\u001b[A\n",
            "\n",
            "\n",
            "chunk:  58%|█████████████████████████████████████████████████████▋                                       | 765/1324 [00:00<00:00, 7494.95it/s, now=None]\u001b[A\u001b[A\u001b[A\n",
            "\n",
            "\n",
            "                                                                                                                                                        \u001b[A\u001b[A\u001b[A"
          ]
        },
        {
          "name": "stdout",
          "output_type": "stream",
          "text": [
            "MoviePy - Done.\n",
            "MoviePy - Writing audio in temp_audio.wav\n"
          ]
        },
        {
          "name": "stderr",
          "output_type": "stream",
          "text": [
            "\n",
            "\n",
            "\n",
            "chunk:   0%|                                                                                                         | 0/1324 [00:00<?, ?it/s, now=None]\u001b[A\u001b[A\u001b[A\n",
            "\n",
            "\n",
            "chunk:  62%|█████████████████████████████████████████████████████████▎                                   | 816/1324 [00:00<00:00, 8041.18it/s, now=None]\u001b[A\u001b[A\u001b[A\n",
            "\n",
            "\n",
            "                                                                                                                                                        \u001b[A\u001b[A\u001b[A"
          ]
        },
        {
          "name": "stdout",
          "output_type": "stream",
          "text": [
            "MoviePy - Done.\n",
            "MoviePy - Writing audio in temp_audio.wav\n"
          ]
        },
        {
          "name": "stderr",
          "output_type": "stream",
          "text": [
            "\n",
            "\n",
            "\n",
            "chunk:   0%|                                                                                                         | 0/1324 [00:00<?, ?it/s, now=None]\u001b[A\u001b[A\u001b[A\n",
            "\n",
            "\n",
            "chunk:  65%|████████████████████████████████████████████████████████████▉                                | 867/1324 [00:00<00:00, 8666.37it/s, now=None]\u001b[A\u001b[A\u001b[A\n",
            "\n",
            "\n",
            "                                                                                                                                                        \u001b[A\u001b[A\u001b[A"
          ]
        },
        {
          "name": "stdout",
          "output_type": "stream",
          "text": [
            "MoviePy - Done.\n",
            "MoviePy - Writing audio in temp_audio.wav\n"
          ]
        },
        {
          "name": "stderr",
          "output_type": "stream",
          "text": [
            "\n",
            "\n",
            "\n",
            "chunk:   0%|                                                                                                         | 0/1324 [00:00<?, ?it/s, now=None]\u001b[A\u001b[A\u001b[A\n",
            "\n",
            "\n",
            "chunk:  60%|███████████████████████████████████████████████████████▉                                     | 797/1324 [00:00<00:00, 7965.45it/s, now=None]\u001b[A\u001b[A\u001b[A\n",
            "\n",
            "\n",
            "                                                                                                                                                        \u001b[A\u001b[A\u001b[A"
          ]
        },
        {
          "name": "stdout",
          "output_type": "stream",
          "text": [
            "MoviePy - Done.\n",
            "MoviePy - Writing audio in temp_audio.wav\n"
          ]
        },
        {
          "name": "stderr",
          "output_type": "stream",
          "text": [
            "\n",
            "\n",
            "\n",
            "chunk:   0%|                                                                                                         | 0/1324 [00:00<?, ?it/s, now=None]\u001b[A\u001b[A\u001b[A\n",
            "\n",
            "\n",
            "chunk:  61%|████████████████████████████████████████████████████████▉                                    | 810/1324 [00:00<00:00, 8093.50it/s, now=None]\u001b[A\u001b[A\u001b[A\n",
            "\n",
            "\n",
            "                                                                                                                                                        \u001b[A\u001b[A\u001b[A"
          ]
        },
        {
          "name": "stdout",
          "output_type": "stream",
          "text": [
            "MoviePy - Done.\n",
            "MoviePy - Writing audio in temp_audio.wav\n"
          ]
        },
        {
          "name": "stderr",
          "output_type": "stream",
          "text": [
            "\n",
            "\n",
            "\n",
            "chunk:   0%|                                                                                                         | 0/1324 [00:00<?, ?it/s, now=None]\u001b[A\u001b[A\u001b[A\n",
            "\n",
            "\n",
            "chunk:  65%|████████████████████████████████████████████████████████████▋                                | 864/1324 [00:00<00:00, 8639.20it/s, now=None]\u001b[A\u001b[A\u001b[A\n",
            "\n",
            "\n",
            "                                                                                                                                                        \u001b[A\u001b[A\u001b[A"
          ]
        },
        {
          "name": "stdout",
          "output_type": "stream",
          "text": [
            "MoviePy - Done.\n",
            "MoviePy - Writing audio in temp_audio.wav\n"
          ]
        },
        {
          "name": "stderr",
          "output_type": "stream",
          "text": [
            "\n",
            "\n",
            "\n",
            "chunk:   0%|                                                                                                         | 0/1324 [00:00<?, ?it/s, now=None]\u001b[A\u001b[A\u001b[A\n",
            "\n",
            "\n",
            "chunk:  65%|████████████████████████████████████████████████████████████▉                                | 867/1324 [00:00<00:00, 8645.23it/s, now=None]\u001b[A\u001b[A\u001b[A\n",
            "\n",
            "\n",
            "                                                                                                                                                        \u001b[A\u001b[A\u001b[A"
          ]
        },
        {
          "name": "stdout",
          "output_type": "stream",
          "text": [
            "MoviePy - Done.\n",
            "MoviePy - Writing audio in temp_audio.wav\n"
          ]
        },
        {
          "name": "stderr",
          "output_type": "stream",
          "text": [
            "\n",
            "\n",
            "\n",
            "chunk:   0%|                                                                                                         | 0/1324 [00:00<?, ?it/s, now=None]\u001b[A\u001b[A\u001b[A\n",
            "\n",
            "\n",
            "chunk:  60%|███████████████████████████████████████████████████████▍                                     | 789/1324 [00:00<00:00, 7884.09it/s, now=None]\u001b[A\u001b[A\u001b[A\n",
            "\n",
            "\n",
            "                                                                                                                                                        \u001b[A\u001b[A\u001b[A"
          ]
        },
        {
          "name": "stdout",
          "output_type": "stream",
          "text": [
            "MoviePy - Done.\n",
            "MoviePy - Writing audio in temp_audio.wav\n"
          ]
        },
        {
          "name": "stderr",
          "output_type": "stream",
          "text": [
            "\n",
            "\n",
            "\n",
            "chunk:   0%|                                                                                                         | 0/1324 [00:00<?, ?it/s, now=None]\u001b[A\u001b[A\u001b[A\n",
            "\n",
            "\n",
            "chunk:  68%|███████████████████████████████████████████████████████████████▎                             | 902/1324 [00:00<00:00, 9018.68it/s, now=None]\u001b[A\u001b[A\u001b[A\n",
            "\n",
            "\n",
            "                                                                                                                                                        \u001b[A\u001b[A\u001b[A"
          ]
        },
        {
          "name": "stdout",
          "output_type": "stream",
          "text": [
            "MoviePy - Done.\n",
            "MoviePy - Writing audio in temp_audio.wav\n"
          ]
        },
        {
          "name": "stderr",
          "output_type": "stream",
          "text": [
            "\n",
            "\n",
            "\n",
            "chunk:   0%|                                                                                                         | 0/1324 [00:00<?, ?it/s, now=None]\u001b[A\u001b[A\u001b[A\n",
            "\n",
            "\n",
            "chunk:  65%|████████████████████████████████████████████████████████████▉                                | 867/1324 [00:00<00:00, 8662.64it/s, now=None]\u001b[A\u001b[A\u001b[A\n",
            "\n",
            "\n",
            "                                                                                                                                                        \u001b[A\u001b[A\u001b[A"
          ]
        },
        {
          "name": "stdout",
          "output_type": "stream",
          "text": [
            "MoviePy - Done.\n",
            "MoviePy - Writing audio in temp_audio.wav\n"
          ]
        },
        {
          "name": "stderr",
          "output_type": "stream",
          "text": [
            "\n",
            "\n",
            "\n",
            "chunk:   0%|                                                                                                         | 0/1324 [00:00<?, ?it/s, now=None]\u001b[A\u001b[A\u001b[A\n",
            "\n",
            "\n",
            "chunk:  62%|█████████████████████████████████████████████████████████▏                                   | 815/1324 [00:00<00:00, 8143.91it/s, now=None]\u001b[A\u001b[A\u001b[A\n",
            "\n",
            "\n",
            "                                                                                                                                                        \u001b[A\u001b[A\u001b[A"
          ]
        },
        {
          "name": "stdout",
          "output_type": "stream",
          "text": [
            "MoviePy - Done.\n",
            "MoviePy - Writing audio in temp_audio.wav\n"
          ]
        },
        {
          "name": "stderr",
          "output_type": "stream",
          "text": [
            "\n",
            "\n",
            "\n",
            "chunk:   0%|                                                                                                         | 0/1324 [00:00<?, ?it/s, now=None]\u001b[A\u001b[A\u001b[A\n",
            "\n",
            "\n",
            "chunk:  67%|██████████████████████████████████████████████████████████████▎                              | 887/1324 [00:00<00:00, 8864.11it/s, now=None]\u001b[A\u001b[A\u001b[A\n",
            "\n",
            "\n",
            "                                                                                                                                                        \u001b[A\u001b[A\u001b[A"
          ]
        },
        {
          "name": "stdout",
          "output_type": "stream",
          "text": [
            "MoviePy - Done.\n",
            "MoviePy - Writing audio in temp_audio.wav\n"
          ]
        },
        {
          "name": "stderr",
          "output_type": "stream",
          "text": [
            "\n",
            "\n",
            "\n",
            "chunk:   0%|                                                                                                         | 0/1324 [00:00<?, ?it/s, now=None]\u001b[A\u001b[A\u001b[A\n",
            "\n",
            "\n",
            "chunk:  67%|██████████████████████████████████████████████████████████████                               | 884/1324 [00:00<00:00, 8838.79it/s, now=None]\u001b[A\u001b[A\u001b[A\n",
            "\n",
            "\n",
            "                                                                                                                                                        \u001b[A\u001b[A\u001b[A"
          ]
        },
        {
          "name": "stdout",
          "output_type": "stream",
          "text": [
            "MoviePy - Done.\n",
            "MoviePy - Writing audio in temp_audio.wav\n"
          ]
        },
        {
          "name": "stderr",
          "output_type": "stream",
          "text": [
            "\n",
            "\n",
            "\n",
            "chunk:   0%|                                                                                                         | 0/1324 [00:00<?, ?it/s, now=None]\u001b[A\u001b[A\u001b[A\n",
            "\n",
            "\n",
            "chunk:  67%|█████████████████████████████████████████████████████████████▉                               | 882/1324 [00:00<00:00, 8817.93it/s, now=None]\u001b[A\u001b[A\u001b[A\n",
            "\n",
            "\n",
            "                                                                                                                                                        \u001b[A\u001b[A\u001b[A"
          ]
        },
        {
          "name": "stdout",
          "output_type": "stream",
          "text": [
            "MoviePy - Done.\n",
            "MoviePy - Writing audio in temp_audio.wav\n"
          ]
        },
        {
          "name": "stderr",
          "output_type": "stream",
          "text": [
            "\n",
            "\n",
            "\n",
            "chunk:   0%|                                                                                                         | 0/1324 [00:00<?, ?it/s, now=None]\u001b[A\u001b[A\u001b[A\n",
            "\n",
            "\n",
            "chunk:  68%|███████████████████████████████████████████████████████████████▎                             | 901/1324 [00:00<00:00, 9005.78it/s, now=None]\u001b[A\u001b[A\u001b[A\n",
            "\n",
            "\n",
            "                                                                                                                                                        \u001b[A\u001b[A\u001b[A"
          ]
        },
        {
          "name": "stdout",
          "output_type": "stream",
          "text": [
            "MoviePy - Done.\n",
            "MoviePy - Writing audio in temp_audio.wav\n"
          ]
        },
        {
          "name": "stderr",
          "output_type": "stream",
          "text": [
            "\n",
            "\n",
            "\n",
            "chunk:   0%|                                                                                                         | 0/1324 [00:00<?, ?it/s, now=None]\u001b[A\u001b[A\u001b[A\n",
            "\n",
            "\n",
            "chunk:  58%|██████████████████████████████████████████████████████▎                                      | 774/1324 [00:00<00:00, 7736.85it/s, now=None]\u001b[A\u001b[A\u001b[A\n",
            "\n",
            "\n",
            "                                                                                                                                                        \u001b[A\u001b[A\u001b[A"
          ]
        },
        {
          "name": "stdout",
          "output_type": "stream",
          "text": [
            "MoviePy - Done.\n",
            "MoviePy - Writing audio in temp_audio.wav\n"
          ]
        },
        {
          "name": "stderr",
          "output_type": "stream",
          "text": [
            "\n",
            "\n",
            "\n",
            "chunk:   0%|                                                                                                         | 0/1324 [00:00<?, ?it/s, now=None]\u001b[A\u001b[A\u001b[A\n",
            "\n",
            "\n",
            "chunk:  62%|█████████████████████████████████████████████████████████▋                                   | 822/1324 [00:00<00:00, 8217.17it/s, now=None]\u001b[A\u001b[A\u001b[A\n",
            "\n",
            "\n",
            "                                                                                                                                                        \u001b[A\u001b[A\u001b[A"
          ]
        },
        {
          "name": "stdout",
          "output_type": "stream",
          "text": [
            "MoviePy - Done.\n",
            "MoviePy - Writing audio in temp_audio.wav\n"
          ]
        },
        {
          "name": "stderr",
          "output_type": "stream",
          "text": [
            "\n",
            "\n",
            "\n",
            "chunk:   0%|                                                                                                         | 0/1324 [00:00<?, ?it/s, now=None]\u001b[A\u001b[A\u001b[A\n",
            "\n",
            "\n",
            "chunk:  65%|███████████████████████████████████████████████████████████▉                                 | 854/1324 [00:00<00:00, 8534.09it/s, now=None]\u001b[A\u001b[A\u001b[A\n",
            "\n",
            "\n",
            "                                                                                                                                                        \u001b[A\u001b[A\u001b[A"
          ]
        },
        {
          "name": "stdout",
          "output_type": "stream",
          "text": [
            "MoviePy - Done.\n",
            "MoviePy - Writing audio in temp_audio.wav\n"
          ]
        },
        {
          "name": "stderr",
          "output_type": "stream",
          "text": [
            "\n",
            "\n",
            "\n",
            "chunk:   0%|                                                                                                         | 0/1324 [00:00<?, ?it/s, now=None]\u001b[A\u001b[A\u001b[A\n",
            "\n",
            "\n",
            "chunk:  50%|██████████████████████████████████████████████▌                                              | 663/1324 [00:00<00:00, 6425.71it/s, now=None]\u001b[A\u001b[A\u001b[A\n",
            "\n",
            "\n",
            "                                                                                                                                                        \u001b[A\u001b[A\u001b[A"
          ]
        },
        {
          "name": "stdout",
          "output_type": "stream",
          "text": [
            "MoviePy - Done.\n",
            "MoviePy - Writing audio in temp_audio.wav\n"
          ]
        },
        {
          "name": "stderr",
          "output_type": "stream",
          "text": [
            "\n",
            "\n",
            "\n",
            "chunk:   0%|                                                                                                         | 0/1324 [00:00<?, ?it/s, now=None]\u001b[A\u001b[A\u001b[A\n",
            "\n",
            "\n",
            "chunk:  65%|████████████████████████████████████████████████████████████▏                                | 857/1324 [00:00<00:00, 8563.98it/s, now=None]\u001b[A\u001b[A\u001b[A\n",
            "\n",
            "\n",
            "                                                                                                                                                        \u001b[A\u001b[A\u001b[A"
          ]
        },
        {
          "name": "stdout",
          "output_type": "stream",
          "text": [
            "MoviePy - Done.\n",
            "MoviePy - Writing audio in temp_audio.wav\n"
          ]
        },
        {
          "name": "stderr",
          "output_type": "stream",
          "text": [
            "\n",
            "\n",
            "\n",
            "chunk:   0%|                                                                                                         | 0/1324 [00:00<?, ?it/s, now=None]\u001b[A\u001b[A\u001b[A\n",
            "\n",
            "\n",
            "chunk:  64%|███████████████████████████████████████████████████████████▍                                 | 847/1324 [00:00<00:00, 8466.35it/s, now=None]\u001b[A\u001b[A\u001b[A\n",
            "\n",
            "\n",
            "                                                                                                                                                        \u001b[A\u001b[A\u001b[A"
          ]
        },
        {
          "name": "stdout",
          "output_type": "stream",
          "text": [
            "MoviePy - Done.\n",
            "MoviePy - Writing audio in temp_audio.wav\n"
          ]
        },
        {
          "name": "stderr",
          "output_type": "stream",
          "text": [
            "\n",
            "\n",
            "\n",
            "chunk:   0%|                                                                                                         | 0/1324 [00:00<?, ?it/s, now=None]\u001b[A\u001b[A\u001b[A\n",
            "\n",
            "\n",
            "chunk:  56%|███████████████████████████████████████████████████▊                                         | 738/1324 [00:00<00:00, 7377.97it/s, now=None]\u001b[A\u001b[A\u001b[A\n",
            "\n",
            "\n",
            "                                                                                                                                                        \u001b[A\u001b[A\u001b[A"
          ]
        },
        {
          "name": "stdout",
          "output_type": "stream",
          "text": [
            "MoviePy - Done.\n",
            "MoviePy - Writing audio in temp_audio.wav\n"
          ]
        },
        {
          "name": "stderr",
          "output_type": "stream",
          "text": [
            "\n",
            "\n",
            "\n",
            "chunk:   0%|                                                                                                         | 0/1324 [00:00<?, ?it/s, now=None]\u001b[A\u001b[A\u001b[A\n",
            "\n",
            "\n",
            "chunk:  58%|█████████████████████████████████████████████████████▋                                       | 765/1324 [00:00<00:00, 7642.59it/s, now=None]\u001b[A\u001b[A\u001b[A\n",
            "\n",
            "\n",
            "                                                                                                                                                        \u001b[A\u001b[A\u001b[A"
          ]
        },
        {
          "name": "stdout",
          "output_type": "stream",
          "text": [
            "MoviePy - Done.\n",
            "MoviePy - Writing audio in temp_audio.wav\n"
          ]
        },
        {
          "name": "stderr",
          "output_type": "stream",
          "text": [
            "\n",
            "\n",
            "\n",
            "chunk:   0%|                                                                                                         | 0/1324 [00:00<?, ?it/s, now=None]\u001b[A\u001b[A\u001b[A\n",
            "\n",
            "\n",
            "chunk:  60%|███████████████████████████████████████████████████████▍                                     | 789/1324 [00:00<00:00, 7886.57it/s, now=None]\u001b[A\u001b[A\u001b[A\n",
            "\n",
            "\n",
            "                                                                                                                                                        \u001b[A\u001b[A\u001b[A"
          ]
        },
        {
          "name": "stdout",
          "output_type": "stream",
          "text": [
            "MoviePy - Done.\n",
            "MoviePy - Writing audio in temp_audio.wav\n"
          ]
        },
        {
          "name": "stderr",
          "output_type": "stream",
          "text": [
            "\n",
            "\n",
            "\n",
            "chunk:   0%|                                                                                                         | 0/1324 [00:00<?, ?it/s, now=None]\u001b[A\u001b[A\u001b[A\n",
            "\n",
            "\n",
            "chunk:  65%|████████████████████████████████████████████████████████████▉                                | 867/1324 [00:00<00:00, 8656.12it/s, now=None]\u001b[A\u001b[A\u001b[A\n",
            "\n",
            "\n",
            "                                                                                                                                                        \u001b[A\u001b[A\u001b[A"
          ]
        },
        {
          "name": "stdout",
          "output_type": "stream",
          "text": [
            "MoviePy - Done.\n",
            "MoviePy - Writing audio in temp_audio.wav\n"
          ]
        },
        {
          "name": "stderr",
          "output_type": "stream",
          "text": [
            "\n",
            "\n",
            "\n",
            "chunk:   0%|                                                                                                         | 0/1324 [00:00<?, ?it/s, now=None]\u001b[A\u001b[A\u001b[A\n",
            "\n",
            "\n",
            "chunk:  65%|████████████████████████████████████████████████████████████▍                                | 861/1324 [00:00<00:00, 8604.82it/s, now=None]\u001b[A\u001b[A\u001b[A\n",
            "\n",
            "\n",
            "                                                                                                                                                        \u001b[A\u001b[A\u001b[A"
          ]
        },
        {
          "name": "stdout",
          "output_type": "stream",
          "text": [
            "MoviePy - Done.\n",
            "MoviePy - Writing audio in temp_audio.wav\n"
          ]
        },
        {
          "name": "stderr",
          "output_type": "stream",
          "text": [
            "\n",
            "\n",
            "\n",
            "chunk:   0%|                                                                                                         | 0/1324 [00:00<?, ?it/s, now=None]\u001b[A\u001b[A\u001b[A\n",
            "\n",
            "\n",
            "chunk:  57%|█████████████████████████████████████████████████████▎                                       | 759/1324 [00:00<00:00, 7586.55it/s, now=None]\u001b[A\u001b[A\u001b[A\n",
            "\n",
            "\n",
            "                                                                                                                                                        \u001b[A\u001b[A\u001b[A"
          ]
        },
        {
          "name": "stdout",
          "output_type": "stream",
          "text": [
            "MoviePy - Done.\n",
            "MoviePy - Writing audio in temp_audio.wav\n"
          ]
        },
        {
          "name": "stderr",
          "output_type": "stream",
          "text": [
            "\n",
            "\n",
            "\n",
            "chunk:   0%|                                                                                                         | 0/1324 [00:00<?, ?it/s, now=None]\u001b[A\u001b[A\u001b[A\n",
            "\n",
            "\n",
            "chunk:  66%|█████████████████████████████████████████████████████████████▋                               | 878/1324 [00:00<00:00, 8778.23it/s, now=None]\u001b[A\u001b[A\u001b[A\n",
            "\n",
            "\n",
            "                                                                                                                                                        \u001b[A\u001b[A\u001b[A"
          ]
        },
        {
          "name": "stdout",
          "output_type": "stream",
          "text": [
            "MoviePy - Done.\n",
            "MoviePy - Writing audio in temp_audio.wav\n"
          ]
        },
        {
          "name": "stderr",
          "output_type": "stream",
          "text": [
            "\n",
            "\n",
            "\n",
            "chunk:   0%|                                                                                                         | 0/1324 [00:00<?, ?it/s, now=None]\u001b[A\u001b[A\u001b[A\n",
            "\n",
            "\n",
            "chunk:  58%|█████████████████████████████████████████████████████▋                                       | 765/1324 [00:00<00:00, 7476.22it/s, now=None]\u001b[A\u001b[A\u001b[A\n",
            "\n",
            "\n",
            "                                                                                                                                                        \u001b[A\u001b[A\u001b[A"
          ]
        },
        {
          "name": "stdout",
          "output_type": "stream",
          "text": [
            "MoviePy - Done.\n",
            "MoviePy - Writing audio in temp_audio.wav\n"
          ]
        },
        {
          "name": "stderr",
          "output_type": "stream",
          "text": [
            "\n",
            "\n",
            "\n",
            "chunk:   0%|                                                                                                         | 0/1324 [00:00<?, ?it/s, now=None]\u001b[A\u001b[A\u001b[A\n",
            "\n",
            "\n",
            "chunk:  58%|█████████████████████████████████████████████████████▋                                       | 765/1324 [00:00<00:00, 7572.23it/s, now=None]\u001b[A\u001b[A\u001b[A\n",
            "\n",
            "\n",
            "                                                                                                                                                        \u001b[A\u001b[A\u001b[A"
          ]
        },
        {
          "name": "stdout",
          "output_type": "stream",
          "text": [
            "MoviePy - Done.\n",
            "MoviePy - Writing audio in temp_audio.wav\n"
          ]
        },
        {
          "name": "stderr",
          "output_type": "stream",
          "text": [
            "\n",
            "\n",
            "\n",
            "chunk:   0%|                                                                                                         | 0/1324 [00:00<?, ?it/s, now=None]\u001b[A\u001b[A\u001b[A\n",
            "\n",
            "\n",
            "chunk:  59%|██████████████████████████████████████████████████████▌                                      | 777/1324 [00:00<00:00, 7767.95it/s, now=None]\u001b[A\u001b[A\u001b[A\n",
            "\n",
            "\n",
            "                                                                                                                                                        \u001b[A\u001b[A\u001b[A"
          ]
        },
        {
          "name": "stdout",
          "output_type": "stream",
          "text": [
            "MoviePy - Done.\n",
            "MoviePy - Writing audio in temp_audio.wav\n"
          ]
        },
        {
          "name": "stderr",
          "output_type": "stream",
          "text": [
            "\n",
            "\n",
            "\n",
            "chunk:   0%|                                                                                                         | 0/1324 [00:00<?, ?it/s, now=None]\u001b[A\u001b[A\u001b[A\n",
            "\n",
            "\n",
            "chunk:  64%|███████████████████████████████████████████████████████████▍                                 | 846/1324 [00:00<00:00, 8454.46it/s, now=None]\u001b[A\u001b[A\u001b[A\n",
            "\n",
            "\n",
            "                                                                                                                                                        \u001b[A\u001b[A\u001b[A"
          ]
        },
        {
          "name": "stdout",
          "output_type": "stream",
          "text": [
            "MoviePy - Done.\n",
            "MoviePy - Writing audio in temp_audio.wav\n"
          ]
        },
        {
          "name": "stderr",
          "output_type": "stream",
          "text": [
            "\n",
            "\n",
            "\n",
            "chunk:   0%|                                                                                                         | 0/1324 [00:00<?, ?it/s, now=None]\u001b[A\u001b[A\u001b[A\n",
            "\n",
            "\n",
            "chunk:  69%|████████████████████████████████████████████████████████████████                             | 912/1324 [00:00<00:00, 9115.47it/s, now=None]\u001b[A\u001b[A\u001b[A\n",
            "\n",
            "\n",
            "                                                                                                                                                        \u001b[A\u001b[A\u001b[A"
          ]
        },
        {
          "name": "stdout",
          "output_type": "stream",
          "text": [
            "MoviePy - Done.\n",
            "MoviePy - Writing audio in temp_audio.wav\n"
          ]
        },
        {
          "name": "stderr",
          "output_type": "stream",
          "text": [
            "\n",
            "\n",
            "\n",
            "chunk:   0%|                                                                                                         | 0/1324 [00:00<?, ?it/s, now=None]\u001b[A\u001b[A\u001b[A\n",
            "\n",
            "\n",
            "chunk:  54%|██████████████████████████████████████████████████▏                                          | 714/1324 [00:00<00:00, 7137.28it/s, now=None]\u001b[A\u001b[A\u001b[A\n",
            "\n",
            "\n",
            "                                                                                                                                                        \u001b[A\u001b[A\u001b[A"
          ]
        },
        {
          "name": "stdout",
          "output_type": "stream",
          "text": [
            "MoviePy - Done.\n",
            "MoviePy - Writing audio in temp_audio.wav\n"
          ]
        },
        {
          "name": "stderr",
          "output_type": "stream",
          "text": [
            "\n",
            "\n",
            "\n",
            "chunk:   0%|                                                                                                         | 0/1324 [00:00<?, ?it/s, now=None]\u001b[A\u001b[A\u001b[A\n",
            "\n",
            "\n",
            "chunk:  67%|██████████████████████████████████████████████████████████████▎                              | 887/1324 [00:00<00:00, 8867.77it/s, now=None]\u001b[A\u001b[A\u001b[A\n",
            "\n",
            "\n",
            "                                                                                                                                                        \u001b[A\u001b[A\u001b[A"
          ]
        },
        {
          "name": "stdout",
          "output_type": "stream",
          "text": [
            "MoviePy - Done.\n",
            "MoviePy - Writing audio in temp_audio.wav\n"
          ]
        },
        {
          "name": "stderr",
          "output_type": "stream",
          "text": [
            "\n",
            "\n",
            "\n",
            "chunk:   0%|                                                                                                         | 0/1324 [00:00<?, ?it/s, now=None]\u001b[A\u001b[A\u001b[A\n",
            "\n",
            "\n",
            "chunk:  65%|████████████████████████████████████████████████████████████▉                                | 867/1324 [00:00<00:00, 8657.19it/s, now=None]\u001b[A\u001b[A\u001b[A\n",
            "\n",
            "\n",
            "                                                                                                                                                        \u001b[A\u001b[A\u001b[A"
          ]
        },
        {
          "name": "stdout",
          "output_type": "stream",
          "text": [
            "MoviePy - Done.\n",
            "MoviePy - Writing audio in temp_audio.wav\n"
          ]
        },
        {
          "name": "stderr",
          "output_type": "stream",
          "text": [
            "\n",
            "\n",
            "\n",
            "chunk:   0%|                                                                                                         | 0/1324 [00:00<?, ?it/s, now=None]\u001b[A\u001b[A\u001b[A\n",
            "\n",
            "\n",
            "chunk:  63%|██████████████████████████████████████████████████████████▏                                  | 829/1324 [00:00<00:00, 8287.70it/s, now=None]\u001b[A\u001b[A\u001b[A\n",
            "\n",
            "\n",
            "                                                                                                                                                        \u001b[A\u001b[A\u001b[A"
          ]
        },
        {
          "name": "stdout",
          "output_type": "stream",
          "text": [
            "MoviePy - Done.\n",
            "MoviePy - Writing audio in temp_audio.wav\n"
          ]
        },
        {
          "name": "stderr",
          "output_type": "stream",
          "text": [
            "\n",
            "\n",
            "\n",
            "chunk:   0%|                                                                                                         | 0/1324 [00:00<?, ?it/s, now=None]\u001b[A\u001b[A\u001b[A\n",
            "\n",
            "\n",
            "chunk:  65%|████████████████████████████████████████████████████████████▉                                | 867/1324 [00:00<00:00, 8608.82it/s, now=None]\u001b[A\u001b[A\u001b[A\n",
            "\n",
            "\n",
            "                                                                                                                                                        \u001b[A\u001b[A\u001b[A"
          ]
        },
        {
          "name": "stdout",
          "output_type": "stream",
          "text": [
            "MoviePy - Done.\n",
            "MoviePy - Writing audio in temp_audio.wav\n"
          ]
        },
        {
          "name": "stderr",
          "output_type": "stream",
          "text": [
            "\n",
            "\n",
            "\n",
            "chunk:   0%|                                                                                                         | 0/1324 [00:00<?, ?it/s, now=None]\u001b[A\u001b[A\u001b[A\n",
            "\n",
            "\n",
            "chunk:  62%|█████████████████████████████████████████████████████████▎                                   | 816/1324 [00:00<00:00, 8093.82it/s, now=None]\u001b[A\u001b[A\u001b[A\n",
            "\n",
            "\n",
            "                                                                                                                                                        \u001b[A\u001b[A\u001b[A"
          ]
        },
        {
          "name": "stdout",
          "output_type": "stream",
          "text": [
            "MoviePy - Done.\n",
            "MoviePy - Writing audio in temp_audio.wav\n"
          ]
        },
        {
          "name": "stderr",
          "output_type": "stream",
          "text": [
            "\n",
            "\n",
            "\n",
            "chunk:   0%|                                                                                                         | 0/1324 [00:00<?, ?it/s, now=None]\u001b[A\u001b[A\u001b[A\n",
            "\n",
            "\n",
            "chunk:  55%|██████████████████████████████████████████████████▊                                          | 723/1324 [00:00<00:00, 7228.94it/s, now=None]\u001b[A\u001b[A\u001b[A\n",
            "\n",
            "\n",
            "                                                                                                                                                        \u001b[A\u001b[A\u001b[A"
          ]
        },
        {
          "name": "stdout",
          "output_type": "stream",
          "text": [
            "MoviePy - Done.\n",
            "MoviePy - Writing audio in temp_audio.wav\n"
          ]
        },
        {
          "name": "stderr",
          "output_type": "stream",
          "text": [
            "\n",
            "\n",
            "\n",
            "chunk:   0%|                                                                                                         | 0/1324 [00:00<?, ?it/s, now=None]\u001b[A\u001b[A\u001b[A\n",
            "\n",
            "\n",
            "chunk:  63%|██████████████████████████████████████████████████████████▉                                  | 839/1324 [00:00<00:00, 8388.45it/s, now=None]\u001b[A\u001b[A\u001b[A\n",
            "\n",
            "\n",
            "                                                                                                                                                        \u001b[A\u001b[A\u001b[A"
          ]
        },
        {
          "name": "stdout",
          "output_type": "stream",
          "text": [
            "MoviePy - Done.\n",
            "MoviePy - Writing audio in temp_audio.wav\n"
          ]
        },
        {
          "name": "stderr",
          "output_type": "stream",
          "text": [
            "\n",
            "\n",
            "\n",
            "chunk:   0%|                                                                                                         | 0/1324 [00:00<?, ?it/s, now=None]\u001b[A\u001b[A\u001b[A\n",
            "\n",
            "\n",
            "chunk:  69%|███████████████████████████████████████████████████████████████▉                             | 910/1324 [00:00<00:00, 9093.48it/s, now=None]\u001b[A\u001b[A\u001b[A\n",
            "\n",
            "\n",
            "                                                                                                                                                        \u001b[A\u001b[A\u001b[A"
          ]
        },
        {
          "name": "stdout",
          "output_type": "stream",
          "text": [
            "MoviePy - Done.\n",
            "MoviePy - Writing audio in temp_audio.wav\n"
          ]
        },
        {
          "name": "stderr",
          "output_type": "stream",
          "text": [
            "\n",
            "\n",
            "\n",
            "chunk:   0%|                                                                                                         | 0/1324 [00:00<?, ?it/s, now=None]\u001b[A\u001b[A\u001b[A\n",
            "\n",
            "\n",
            "chunk:  63%|██████████████████████████████████████████████████████████▌                                  | 834/1324 [00:00<00:00, 8336.25it/s, now=None]\u001b[A\u001b[A\u001b[A\n",
            "\n",
            "\n",
            "                                                                                                                                                        \u001b[A\u001b[A\u001b[A"
          ]
        },
        {
          "name": "stdout",
          "output_type": "stream",
          "text": [
            "MoviePy - Done.\n",
            "MoviePy - Writing audio in temp_audio.wav\n"
          ]
        },
        {
          "name": "stderr",
          "output_type": "stream",
          "text": [
            "\n",
            "\n",
            "\n",
            "chunk:   0%|                                                                                                         | 0/1324 [00:00<?, ?it/s, now=None]\u001b[A\u001b[A\u001b[A\n",
            "\n",
            "\n",
            "chunk:  58%|█████████████████████████████████████████████████████▋                                       | 765/1324 [00:00<00:00, 7627.35it/s, now=None]\u001b[A\u001b[A\u001b[A\n",
            "\n",
            "\n",
            "                                                                                                                                                        \u001b[A\u001b[A\u001b[A"
          ]
        },
        {
          "name": "stdout",
          "output_type": "stream",
          "text": [
            "MoviePy - Done.\n",
            "MoviePy - Writing audio in temp_audio.wav\n"
          ]
        },
        {
          "name": "stderr",
          "output_type": "stream",
          "text": [
            "\n",
            "\n",
            "\n",
            "chunk:   0%|                                                                                                         | 0/1172 [00:00<?, ?it/s, now=None]\u001b[A\u001b[A\u001b[A\n",
            "\n",
            "\n",
            "chunk:  74%|████████████████████████████████████████████████████████████████████▊                        | 867/1172 [00:00<00:00, 8669.28it/s, now=None]\u001b[A\u001b[A\u001b[A\n",
            "\n",
            "\n",
            "                                                                                                                                                        \u001b[A\u001b[A\u001b[A"
          ]
        },
        {
          "name": "stdout",
          "output_type": "stream",
          "text": [
            "MoviePy - Done.\n",
            "MoviePy - Writing audio in temp_audio.wav\n"
          ]
        },
        {
          "name": "stderr",
          "output_type": "stream",
          "text": [
            "\n",
            "\n",
            "\n",
            "chunk:   0%|                                                                                                         | 0/1324 [00:00<?, ?it/s, now=None]\u001b[A\u001b[A\u001b[A\n",
            "\n",
            "\n",
            "chunk:  62%|██████████████████████████████████████████████████████████                                   | 827/1324 [00:00<00:00, 8265.75it/s, now=None]\u001b[A\u001b[A\u001b[A\n",
            "\n",
            "\n",
            "                                                                                                                                                        \u001b[A\u001b[A\u001b[A"
          ]
        },
        {
          "name": "stdout",
          "output_type": "stream",
          "text": [
            "MoviePy - Done.\n",
            "MoviePy - Writing audio in temp_audio.wav\n"
          ]
        },
        {
          "name": "stderr",
          "output_type": "stream",
          "text": [
            "\n",
            "\n",
            "\n",
            "chunk:   0%|                                                                                                          | 0/353 [00:00<?, ?it/s, now=None]\u001b[A\u001b[A\u001b[A\n",
            "\n",
            "\n",
            "                                                                                                                                                        \u001b[A\u001b[A\u001b[A"
          ]
        },
        {
          "name": "stdout",
          "output_type": "stream",
          "text": [
            "MoviePy - Done.\n",
            "MoviePy - Writing audio in temp_audio.wav\n"
          ]
        },
        {
          "name": "stderr",
          "output_type": "stream",
          "text": [
            "\n",
            "\n",
            "\n",
            "chunk:   0%|                                                                                                         | 0/1324 [00:00<?, ?it/s, now=None]\u001b[A\u001b[A\u001b[A\n",
            "\n",
            "\n",
            "chunk:  64%|███████████████████████████████████████████████████████████▏                                 | 843/1324 [00:00<00:00, 8425.49it/s, now=None]\u001b[A\u001b[A\u001b[A\n",
            "\n",
            "\n",
            "                                                                                                                                                        \u001b[A\u001b[A\u001b[A"
          ]
        },
        {
          "name": "stdout",
          "output_type": "stream",
          "text": [
            "MoviePy - Done.\n",
            "MoviePy - Writing audio in temp_audio.wav\n"
          ]
        },
        {
          "name": "stderr",
          "output_type": "stream",
          "text": [
            "\n",
            "\n",
            "\n",
            "chunk:   0%|                                                                                                         | 0/1324 [00:00<?, ?it/s, now=None]\u001b[A\u001b[A\u001b[A\n",
            "\n",
            "\n",
            "chunk:  63%|██████████████████████████████████████████████████████████▊                                  | 837/1324 [00:00<00:00, 8367.12it/s, now=None]\u001b[A\u001b[A\u001b[A\n",
            "\n",
            "\n",
            "                                                                                                                                                        \u001b[A\u001b[A\u001b[A"
          ]
        },
        {
          "name": "stdout",
          "output_type": "stream",
          "text": [
            "MoviePy - Done.\n",
            "MoviePy - Writing audio in temp_audio.wav\n"
          ]
        },
        {
          "name": "stderr",
          "output_type": "stream",
          "text": [
            "\n",
            "\n",
            "\n",
            "chunk:   0%|                                                                                                         | 0/1052 [00:00<?, ?it/s, now=None]\u001b[A\u001b[A\u001b[A\n",
            "\n",
            "\n",
            "chunk:  73%|███████████████████████████████████████████████████████████████████▋                         | 765/1052 [00:00<00:00, 7626.13it/s, now=None]\u001b[A\u001b[A\u001b[A\n",
            "\n",
            "\n",
            "                                                                                                                                                        \u001b[A\u001b[A\u001b[A"
          ]
        },
        {
          "name": "stdout",
          "output_type": "stream",
          "text": [
            "MoviePy - Done.\n",
            "MoviePy - Writing audio in temp_audio.wav\n"
          ]
        },
        {
          "name": "stderr",
          "output_type": "stream",
          "text": [
            "\n",
            "\n",
            "\n",
            "chunk:   0%|                                                                                                         | 0/1324 [00:00<?, ?it/s, now=None]\u001b[A\u001b[A\u001b[A\n",
            "\n",
            "\n",
            "chunk:  70%|█████████████████████████████████████████████████████████████████                            | 926/1324 [00:00<00:00, 9256.21it/s, now=None]\u001b[A\u001b[A\u001b[A\n",
            "\n",
            "\n",
            "                                                                                                                                                        \u001b[A\u001b[A\u001b[A"
          ]
        },
        {
          "name": "stdout",
          "output_type": "stream",
          "text": [
            "MoviePy - Done.\n",
            "MoviePy - Writing audio in temp_audio.wav\n"
          ]
        },
        {
          "name": "stderr",
          "output_type": "stream",
          "text": [
            "\n",
            "\n",
            "\n",
            "chunk:   0%|                                                                                                         | 0/1324 [00:00<?, ?it/s, now=None]\u001b[A\u001b[A\u001b[A\n",
            "\n",
            "\n",
            "chunk:  62%|█████████████████████████████████████████████████████████▊                                   | 823/1324 [00:00<00:00, 8225.40it/s, now=None]\u001b[A\u001b[A\u001b[A\n",
            "\n",
            "\n",
            "                                                                                                                                                        \u001b[A\u001b[A\u001b[A"
          ]
        },
        {
          "name": "stdout",
          "output_type": "stream",
          "text": [
            "MoviePy - Done.\n",
            "MoviePy - Writing audio in temp_audio.wav\n"
          ]
        },
        {
          "name": "stderr",
          "output_type": "stream",
          "text": [
            "\n",
            "\n",
            "\n",
            "chunk:   0%|                                                                                                          | 0/886 [00:00<?, ?it/s, now=None]\u001b[A\u001b[A\u001b[A\n",
            "\n",
            "\n",
            "chunk:  79%|██████████████████████████████████████████████████████████████████████████▍                   | 702/886 [00:00<00:00, 7019.35it/s, now=None]\u001b[A\u001b[A\u001b[A\n",
            "\n",
            "\n",
            "                                                                                                                                                        \u001b[A\u001b[A\u001b[A"
          ]
        },
        {
          "name": "stdout",
          "output_type": "stream",
          "text": [
            "MoviePy - Done.\n",
            "MoviePy - Writing audio in temp_audio.wav\n"
          ]
        },
        {
          "name": "stderr",
          "output_type": "stream",
          "text": [
            "\n",
            "\n",
            "\n",
            "chunk:   0%|                                                                                                         | 0/1324 [00:00<?, ?it/s, now=None]\u001b[A\u001b[A\u001b[A\n",
            "\n",
            "\n",
            "chunk:  62%|█████████████████████████████████████████████████████████▎                                   | 816/1324 [00:00<00:00, 8048.54it/s, now=None]\u001b[A\u001b[A\u001b[A\n",
            "\n",
            "\n",
            "                                                                                                                                                        \u001b[A\u001b[A\u001b[A"
          ]
        },
        {
          "name": "stdout",
          "output_type": "stream",
          "text": [
            "MoviePy - Done.\n",
            "MoviePy - Writing audio in temp_audio.wav\n"
          ]
        },
        {
          "name": "stderr",
          "output_type": "stream",
          "text": [
            "\n",
            "\n",
            "\n",
            "chunk:   0%|                                                                                                         | 0/1324 [00:00<?, ?it/s, now=None]\u001b[A\u001b[A\u001b[A\n",
            "\n",
            "\n",
            "chunk:  58%|██████████████████████████████████████████████████████▎                                      | 774/1324 [00:00<00:00, 7735.64it/s, now=None]\u001b[A\u001b[A\u001b[A\n",
            "\n",
            "\n",
            "                                                                                                                                                        \u001b[A\u001b[A\u001b[A"
          ]
        },
        {
          "name": "stdout",
          "output_type": "stream",
          "text": [
            "MoviePy - Done.\n",
            "MoviePy - Writing audio in temp_audio.wav\n"
          ]
        },
        {
          "name": "stderr",
          "output_type": "stream",
          "text": [
            "\n",
            "\n",
            "\n",
            "chunk:   0%|                                                                                                         | 0/1324 [00:00<?, ?it/s, now=None]\u001b[A\u001b[A\u001b[A\n",
            "\n",
            "\n",
            "chunk:  69%|████████████████████████████████████████████████████████████████▎                            | 915/1324 [00:00<00:00, 9146.17it/s, now=None]\u001b[A\u001b[A\u001b[A\n",
            "\n",
            "\n",
            "                                                                                                                                                        \u001b[A\u001b[A\u001b[A"
          ]
        },
        {
          "name": "stdout",
          "output_type": "stream",
          "text": [
            "MoviePy - Done.\n",
            "MoviePy - Writing audio in temp_audio.wav\n"
          ]
        },
        {
          "name": "stderr",
          "output_type": "stream",
          "text": [
            "\n",
            "\n",
            "\n",
            "chunk:   0%|                                                                                                         | 0/1324 [00:00<?, ?it/s, now=None]\u001b[A\u001b[A\u001b[A\n",
            "\n",
            "\n",
            "chunk:  67%|█████████████████████████████████████████████████████████████▉                               | 882/1324 [00:00<00:00, 8817.84it/s, now=None]\u001b[A\u001b[A\u001b[A\n",
            "\n",
            "\n",
            "                                                                                                                                                        \u001b[A\u001b[A\u001b[A"
          ]
        },
        {
          "name": "stdout",
          "output_type": "stream",
          "text": [
            "MoviePy - Done.\n",
            "MoviePy - Writing audio in temp_audio.wav\n"
          ]
        },
        {
          "name": "stderr",
          "output_type": "stream",
          "text": [
            "\n",
            "\n",
            "\n",
            "chunk:   0%|                                                                                                         | 0/1324 [00:00<?, ?it/s, now=None]\u001b[A\u001b[A\u001b[A\n",
            "\n",
            "\n",
            "chunk:  65%|████████████████████████████████████████████████████████████▉                                | 867/1324 [00:00<00:00, 8638.41it/s, now=None]\u001b[A\u001b[A\u001b[A\n",
            "\n",
            "\n",
            "                                                                                                                                                        \u001b[A\u001b[A\u001b[A"
          ]
        },
        {
          "name": "stdout",
          "output_type": "stream",
          "text": [
            "MoviePy - Done.\n",
            "MoviePy - Writing audio in temp_audio.wav\n"
          ]
        },
        {
          "name": "stderr",
          "output_type": "stream",
          "text": [
            "\n",
            "\n",
            "\n",
            "chunk:   0%|                                                                                                         | 0/1324 [00:00<?, ?it/s, now=None]\u001b[A\u001b[A\u001b[A\n",
            "\n",
            "\n",
            "chunk:  68%|██████████████████████████████████████████████████████████████▊                              | 895/1324 [00:00<00:00, 8947.79it/s, now=None]\u001b[A\u001b[A\u001b[A\n",
            "\n",
            "\n",
            "                                                                                                                                                        \u001b[A\u001b[A\u001b[A"
          ]
        },
        {
          "name": "stdout",
          "output_type": "stream",
          "text": [
            "MoviePy - Done.\n",
            "MoviePy - Writing audio in temp_audio.wav\n"
          ]
        },
        {
          "name": "stderr",
          "output_type": "stream",
          "text": [
            "\n",
            "\n",
            "\n",
            "chunk:   0%|                                                                                                          | 0/957 [00:00<?, ?it/s, now=None]\u001b[A\u001b[A\u001b[A\n",
            "\n",
            "\n",
            "chunk:  94%|████████████████████████████████████████████████████████████████████████████████████████▏     | 898/957 [00:00<00:00, 8974.27it/s, now=None]\u001b[A\u001b[A\u001b[A\n",
            "\n",
            "\n",
            "                                                                                                                                                        \u001b[A\u001b[A\u001b[A"
          ]
        },
        {
          "name": "stdout",
          "output_type": "stream",
          "text": [
            "MoviePy - Done.\n",
            "MoviePy - Writing audio in temp_audio.wav\n"
          ]
        },
        {
          "name": "stderr",
          "output_type": "stream",
          "text": [
            "\n",
            "\n",
            "\n",
            "chunk:   0%|                                                                                                         | 0/1324 [00:00<?, ?it/s, now=None]\u001b[A\u001b[A\u001b[A\n",
            "\n",
            "\n",
            "chunk:  66%|█████████████████████████████████████████████████████████████                                | 869/1324 [00:00<00:00, 8686.11it/s, now=None]\u001b[A\u001b[A\u001b[A\n",
            "\n",
            "\n",
            "                                                                                                                                                        \u001b[A\u001b[A\u001b[A"
          ]
        },
        {
          "name": "stdout",
          "output_type": "stream",
          "text": [
            "MoviePy - Done.\n",
            "MoviePy - Writing audio in temp_audio.wav\n"
          ]
        },
        {
          "name": "stderr",
          "output_type": "stream",
          "text": [
            "\n",
            "\n",
            "\n",
            "chunk:   0%|                                                                                                         | 0/1298 [00:00<?, ?it/s, now=None]\u001b[A\u001b[A\u001b[A\n",
            "\n",
            "\n",
            "chunk:  72%|███████████████████████████████████████████████████████████████████                          | 936/1298 [00:00<00:00, 9357.33it/s, now=None]\u001b[A\u001b[A\u001b[A\n",
            "\n",
            "\n",
            "                                                                                                                                                        \u001b[A\u001b[A\u001b[A"
          ]
        },
        {
          "name": "stdout",
          "output_type": "stream",
          "text": [
            "MoviePy - Done.\n",
            "MoviePy - Writing audio in temp_audio.wav\n"
          ]
        },
        {
          "name": "stderr",
          "output_type": "stream",
          "text": [
            "\n",
            "\n",
            "\n",
            "chunk:   0%|                                                                                                         | 0/1324 [00:00<?, ?it/s, now=None]\u001b[A\u001b[A\u001b[A\n",
            "\n",
            "\n",
            "chunk:  69%|████████████████████████████████████████████████████████████████▍                            | 918/1324 [00:00<00:00, 9124.90it/s, now=None]\u001b[A\u001b[A\u001b[A\n",
            "\n",
            "\n",
            "                                                                                                                                                        \u001b[A\u001b[A\u001b[A"
          ]
        },
        {
          "name": "stdout",
          "output_type": "stream",
          "text": [
            "MoviePy - Done.\n",
            "MoviePy - Writing audio in temp_audio.wav\n"
          ]
        },
        {
          "name": "stderr",
          "output_type": "stream",
          "text": [
            "\n",
            "\n",
            "\n",
            "chunk:   0%|                                                                                                         | 0/1324 [00:00<?, ?it/s, now=None]\u001b[A\u001b[A\u001b[A\n",
            "\n",
            "\n",
            "chunk:  69%|████████████████████████████████████████████████████████████████▍                            | 918/1324 [00:00<00:00, 9032.05it/s, now=None]\u001b[A\u001b[A\u001b[A\n",
            "\n",
            "\n",
            "                                                                                                                                                        \u001b[A\u001b[A\u001b[A"
          ]
        },
        {
          "name": "stdout",
          "output_type": "stream",
          "text": [
            "MoviePy - Done.\n",
            "MoviePy - Writing audio in temp_audio.wav\n"
          ]
        },
        {
          "name": "stderr",
          "output_type": "stream",
          "text": [
            "\n",
            "\n",
            "\n",
            "chunk:   0%|                                                                                                         | 0/1324 [00:00<?, ?it/s, now=None]\u001b[A\u001b[A\u001b[A\n",
            "\n",
            "\n",
            "chunk:  66%|█████████████████████████████████████████████████████████████▎                               | 872/1324 [00:00<00:00, 8717.22it/s, now=None]\u001b[A\u001b[A\u001b[A\n",
            "\n",
            "\n",
            "                                                                                                                                                        \u001b[A\u001b[A\u001b[A"
          ]
        },
        {
          "name": "stdout",
          "output_type": "stream",
          "text": [
            "MoviePy - Done.\n",
            "MoviePy - Writing audio in temp_audio.wav\n"
          ]
        },
        {
          "name": "stderr",
          "output_type": "stream",
          "text": [
            "\n",
            "\n",
            "\n",
            "chunk:   0%|                                                                                                         | 0/1308 [00:00<?, ?it/s, now=None]\u001b[A\u001b[A\u001b[A\n",
            "\n",
            "\n",
            "chunk:  70%|█████████████████████████████████████████████████████████████████▎                           | 918/1308 [00:00<00:00, 9175.31it/s, now=None]\u001b[A\u001b[A\u001b[A\n",
            "\n",
            "\n",
            "                                                                                                                                                        \u001b[A\u001b[A\u001b[A"
          ]
        },
        {
          "name": "stdout",
          "output_type": "stream",
          "text": [
            "MoviePy - Done.\n",
            "MoviePy - Writing audio in temp_audio.wav\n"
          ]
        },
        {
          "name": "stderr",
          "output_type": "stream",
          "text": [
            "\n",
            "\n",
            "\n",
            "chunk:   0%|                                                                                                         | 0/1324 [00:00<?, ?it/s, now=None]\u001b[A\u001b[A\u001b[A\n",
            "\n",
            "\n",
            "chunk:  69%|████████████████████████████████████████████████████████████████▍                            | 918/1324 [00:00<00:00, 9111.26it/s, now=None]\u001b[A\u001b[A\u001b[A\n",
            "\n",
            "\n",
            "                                                                                                                                                        \u001b[A\u001b[A\u001b[A"
          ]
        },
        {
          "name": "stdout",
          "output_type": "stream",
          "text": [
            "MoviePy - Done.\n",
            "MoviePy - Writing audio in temp_audio.wav\n"
          ]
        },
        {
          "name": "stderr",
          "output_type": "stream",
          "text": [
            "\n",
            "\n",
            "\n",
            "chunk:   0%|                                                                                                         | 0/1324 [00:00<?, ?it/s, now=None]\u001b[A\u001b[A\u001b[A\n",
            "\n",
            "\n",
            "chunk:  65%|████████████████████████████████████████████████████████████▍                                | 860/1324 [00:00<00:00, 8599.82it/s, now=None]\u001b[A\u001b[A\u001b[A\n",
            "\n",
            "\n",
            "                                                                                                                                                        \u001b[A\u001b[A\u001b[A"
          ]
        },
        {
          "name": "stdout",
          "output_type": "stream",
          "text": [
            "MoviePy - Done.\n",
            "MoviePy - Writing audio in temp_audio.wav\n"
          ]
        },
        {
          "name": "stderr",
          "output_type": "stream",
          "text": [
            "\n",
            "\n",
            "\n",
            "chunk:   0%|                                                                                                         | 0/1324 [00:00<?, ?it/s, now=None]\u001b[A\u001b[A\u001b[A\n",
            "\n",
            "\n",
            "chunk:  69%|████████████████████████████████████████████████████████████████▍                            | 918/1324 [00:00<00:00, 9171.96it/s, now=None]\u001b[A\u001b[A\u001b[A\n",
            "\n",
            "\n",
            "                                                                                                                                                        \u001b[A\u001b[A\u001b[A"
          ]
        },
        {
          "name": "stdout",
          "output_type": "stream",
          "text": [
            "MoviePy - Done.\n",
            "MoviePy - Writing audio in temp_audio.wav\n"
          ]
        },
        {
          "name": "stderr",
          "output_type": "stream",
          "text": [
            "\n",
            "\n",
            "\n",
            "chunk:   0%|                                                                                                          | 0/854 [00:00<?, ?it/s, now=None]\u001b[A\u001b[A\u001b[A\n",
            "\n",
            "\n",
            "chunk:  96%|█████████████████████████████████████████████████████████████████████████████████████████▊    | 816/854 [00:00<00:00, 8078.90it/s, now=None]\u001b[A\u001b[A\u001b[A\n",
            "\n",
            "\n",
            "                                                                                                                                                        \u001b[A\u001b[A\u001b[A"
          ]
        },
        {
          "name": "stdout",
          "output_type": "stream",
          "text": [
            "MoviePy - Done.\n",
            "MoviePy - Writing audio in temp_audio.wav\n"
          ]
        },
        {
          "name": "stderr",
          "output_type": "stream",
          "text": [
            "\n",
            "\n",
            "\n",
            "chunk:   0%|                                                                                                         | 0/1324 [00:00<?, ?it/s, now=None]\u001b[A\u001b[A\u001b[A\n",
            "\n",
            "\n",
            "chunk:  65%|████████████████████████████████████████████████████████████▌                                | 862/1324 [00:00<00:00, 8615.26it/s, now=None]\u001b[A\u001b[A\u001b[A\n",
            "\n",
            "\n",
            "                                                                                                                                                        \u001b[A\u001b[A\u001b[A"
          ]
        },
        {
          "name": "stdout",
          "output_type": "stream",
          "text": [
            "MoviePy - Done.\n",
            "MoviePy - Writing audio in temp_audio.wav\n"
          ]
        },
        {
          "name": "stderr",
          "output_type": "stream",
          "text": [
            "\n",
            "\n",
            "\n",
            "chunk:   0%|                                                                                                         | 0/1324 [00:00<?, ?it/s, now=None]\u001b[A\u001b[A\u001b[A\n",
            "\n",
            "\n",
            "chunk:  64%|███████████████████████████████████████████████████████████                                  | 841/1324 [00:00<00:00, 8408.34it/s, now=None]\u001b[A\u001b[A\u001b[A\n",
            "\n",
            "\n",
            "                                                                                                                                                        \u001b[A\u001b[A\u001b[A"
          ]
        },
        {
          "name": "stdout",
          "output_type": "stream",
          "text": [
            "MoviePy - Done.\n",
            "MoviePy - Writing audio in temp_audio.wav\n"
          ]
        },
        {
          "name": "stderr",
          "output_type": "stream",
          "text": [
            "\n",
            "\n",
            "\n",
            "chunk:   0%|                                                                                                         | 0/1324 [00:00<?, ?it/s, now=None]\u001b[A\u001b[A\u001b[A\n",
            "\n",
            "\n",
            "chunk:  58%|█████████████████████████████████████████████████████▊                                       | 766/1324 [00:00<00:00, 7655.12it/s, now=None]\u001b[A\u001b[A\u001b[A\n",
            "\n",
            "\n",
            "                                                                                                                                                        \u001b[A\u001b[A\u001b[A"
          ]
        },
        {
          "name": "stdout",
          "output_type": "stream",
          "text": [
            "MoviePy - Done.\n",
            "MoviePy - Writing audio in temp_audio.wav\n"
          ]
        },
        {
          "name": "stderr",
          "output_type": "stream",
          "text": [
            "\n",
            "\n",
            "\n",
            "chunk:   0%|                                                                                                         | 0/1324 [00:00<?, ?it/s, now=None]\u001b[A\u001b[A\u001b[A\n",
            "\n",
            "\n",
            "chunk:  61%|████████████████████████████████████████████████████████▉                                    | 810/1324 [00:00<00:00, 8096.26it/s, now=None]\u001b[A\u001b[A\u001b[A\n",
            "\n",
            "\n",
            "                                                                                                                                                        \u001b[A\u001b[A\u001b[A"
          ]
        },
        {
          "name": "stdout",
          "output_type": "stream",
          "text": [
            "MoviePy - Done.\n",
            "MoviePy - Writing audio in temp_audio.wav\n"
          ]
        },
        {
          "name": "stderr",
          "output_type": "stream",
          "text": [
            "\n",
            "\n",
            "\n",
            "chunk:   0%|                                                                                                         | 0/1324 [00:00<?, ?it/s, now=None]\u001b[A\u001b[A\u001b[A\n",
            "\n",
            "\n",
            "chunk:  65%|████████████████████████████████████████████████████████████▊                                | 865/1324 [00:00<00:00, 8648.07it/s, now=None]\u001b[A\u001b[A\u001b[A\n",
            "\n",
            "\n",
            "                                                                                                                                                        \u001b[A\u001b[A\u001b[A"
          ]
        },
        {
          "name": "stdout",
          "output_type": "stream",
          "text": [
            "MoviePy - Done.\n",
            "MoviePy - Writing audio in temp_audio.wav\n"
          ]
        },
        {
          "name": "stderr",
          "output_type": "stream",
          "text": [
            "\n",
            "\n",
            "\n",
            "chunk:   0%|                                                                                                         | 0/1324 [00:00<?, ?it/s, now=None]\u001b[A\u001b[A\u001b[A\n",
            "\n",
            "\n",
            "chunk:  64%|███████████████████████████████████████████████████████████▎                                 | 845/1324 [00:00<00:00, 8448.36it/s, now=None]\u001b[A\u001b[A\u001b[A\n",
            "\n",
            "\n",
            "                                                                                                                                                        \u001b[A\u001b[A\u001b[A"
          ]
        },
        {
          "name": "stdout",
          "output_type": "stream",
          "text": [
            "MoviePy - Done.\n",
            "MoviePy - Writing audio in temp_audio.wav\n"
          ]
        },
        {
          "name": "stderr",
          "output_type": "stream",
          "text": [
            "\n",
            "\n",
            "\n",
            "chunk:   0%|                                                                                                         | 0/1324 [00:00<?, ?it/s, now=None]\u001b[A\u001b[A\u001b[A\n",
            "\n",
            "\n",
            "chunk:  45%|█████████████████████████████████████████▌                                                   | 591/1324 [00:00<00:00, 5908.71it/s, now=None]\u001b[A\u001b[A\u001b[A\n",
            "\n",
            "\n",
            "chunk:  89%|██████████████████████████████████████████████████████████████████████████████████▏         | 1182/1324 [00:00<00:00, 4306.20it/s, now=None]\u001b[A\u001b[A\u001b[A\n",
            "\n",
            "\n",
            "                                                                                                                                                        \u001b[A\u001b[A\u001b[A"
          ]
        },
        {
          "name": "stdout",
          "output_type": "stream",
          "text": [
            "MoviePy - Done.\n",
            "MoviePy - Writing audio in temp_audio.wav\n"
          ]
        },
        {
          "name": "stderr",
          "output_type": "stream",
          "text": [
            "\n",
            "\n",
            "\n",
            "chunk:   0%|                                                                                                         | 0/1324 [00:00<?, ?it/s, now=None]\u001b[A\u001b[A\u001b[A\n",
            "\n",
            "\n",
            "chunk:  62%|██████████████████████████████████████████████████████████                                   | 827/1324 [00:00<00:00, 8267.07it/s, now=None]\u001b[A\u001b[A\u001b[A\n",
            "\n",
            "\n",
            "                                                                                                                                                        \u001b[A\u001b[A\u001b[A"
          ]
        },
        {
          "name": "stdout",
          "output_type": "stream",
          "text": [
            "MoviePy - Done.\n",
            "MoviePy - Writing audio in temp_audio.wav\n"
          ]
        },
        {
          "name": "stderr",
          "output_type": "stream",
          "text": [
            "\n",
            "\n",
            "\n",
            "chunk:   0%|                                                                                                         | 0/1324 [00:00<?, ?it/s, now=None]\u001b[A\u001b[A\u001b[A\n",
            "\n",
            "\n",
            "chunk:  46%|██████████████████████████████████████████▉                                                  | 612/1324 [00:00<00:00, 6044.04it/s, now=None]\u001b[A\u001b[A\u001b[A\n",
            "\n",
            "\n",
            "chunk:  96%|████████████████████████████████████████████████████████████████████████████████████████▌   | 1275/1324 [00:00<00:00, 6365.69it/s, now=None]\u001b[A\u001b[A\u001b[A\n",
            "\n",
            "\n",
            "                                                                                                                                                        \u001b[A\u001b[A\u001b[A"
          ]
        },
        {
          "name": "stdout",
          "output_type": "stream",
          "text": [
            "MoviePy - Done.\n",
            "MoviePy - Writing audio in temp_audio.wav\n"
          ]
        },
        {
          "name": "stderr",
          "output_type": "stream",
          "text": [
            "\n",
            "\n",
            "\n",
            "chunk:   0%|                                                                                                         | 0/1324 [00:00<?, ?it/s, now=None]\u001b[A\u001b[A\u001b[A\n",
            "\n",
            "\n",
            "chunk:  55%|███████████████████████████████████████████████████▎                                         | 730/1324 [00:00<00:00, 7296.39it/s, now=None]\u001b[A\u001b[A\u001b[A\n",
            "\n",
            "\n",
            "                                                                                                                                                        \u001b[A\u001b[A\u001b[A"
          ]
        },
        {
          "name": "stdout",
          "output_type": "stream",
          "text": [
            "MoviePy - Done.\n",
            "MoviePy - Writing audio in temp_audio.wav\n"
          ]
        },
        {
          "name": "stderr",
          "output_type": "stream",
          "text": [
            "\n",
            "\n",
            "\n",
            "chunk:   0%|                                                                                                         | 0/1324 [00:00<?, ?it/s, now=None]\u001b[A\u001b[A\u001b[A\n",
            "\n",
            "\n",
            "chunk:  65%|████████████████████████████████████████████████████████████▎                                | 859/1324 [00:00<00:00, 8584.46it/s, now=None]\u001b[A\u001b[A\u001b[A\n",
            "\n",
            "\n",
            "                                                                                                                                                        \u001b[A\u001b[A\u001b[A"
          ]
        },
        {
          "name": "stdout",
          "output_type": "stream",
          "text": [
            "MoviePy - Done.\n",
            "MoviePy - Writing audio in temp_audio.wav\n"
          ]
        },
        {
          "name": "stderr",
          "output_type": "stream",
          "text": [
            "\n",
            "\n",
            "\n",
            "chunk:   0%|                                                                                                         | 0/1324 [00:00<?, ?it/s, now=None]\u001b[A\u001b[A\u001b[A\n",
            "\n",
            "\n",
            "chunk:  66%|█████████████████████████████████████████████████████████████▊                               | 880/1324 [00:00<00:00, 8794.60it/s, now=None]\u001b[A\u001b[A\u001b[A\n",
            "\n",
            "\n",
            "                                                                                                                                                        \u001b[A\u001b[A\u001b[A"
          ]
        },
        {
          "name": "stdout",
          "output_type": "stream",
          "text": [
            "MoviePy - Done.\n",
            "MoviePy - Writing audio in temp_audio.wav\n"
          ]
        },
        {
          "name": "stderr",
          "output_type": "stream",
          "text": [
            "\n",
            "\n",
            "\n",
            "chunk:   0%|                                                                                                         | 0/1324 [00:00<?, ?it/s, now=None]\u001b[A\u001b[A\u001b[A\n",
            "\n",
            "\n",
            "chunk:  58%|█████████████████████████████████████████████████████▋                                       | 764/1324 [00:00<00:00, 7636.44it/s, now=None]\u001b[A\u001b[A\u001b[A\n",
            "\n",
            "\n",
            "                                                                                                                                                        \u001b[A\u001b[A\u001b[A"
          ]
        },
        {
          "name": "stdout",
          "output_type": "stream",
          "text": [
            "MoviePy - Done.\n",
            "MoviePy - Writing audio in temp_audio.wav\n"
          ]
        },
        {
          "name": "stderr",
          "output_type": "stream",
          "text": [
            "\n",
            "\n",
            "\n",
            "chunk:   0%|                                                                                                         | 0/1324 [00:00<?, ?it/s, now=None]\u001b[A\u001b[A\u001b[A\n",
            "\n",
            "\n",
            "chunk:  65%|████████████████████████████████████████████████████████████▍                                | 860/1324 [00:00<00:00, 8591.20it/s, now=None]\u001b[A\u001b[A\u001b[A\n",
            "\n",
            "\n",
            "                                                                                                                                                        \u001b[A\u001b[A\u001b[A"
          ]
        },
        {
          "name": "stdout",
          "output_type": "stream",
          "text": [
            "MoviePy - Done.\n",
            "MoviePy - Writing audio in temp_audio.wav\n"
          ]
        },
        {
          "name": "stderr",
          "output_type": "stream",
          "text": [
            "\n",
            "\n",
            "\n",
            "chunk:   0%|                                                                                                         | 0/1324 [00:00<?, ?it/s, now=None]\u001b[A\u001b[A\u001b[A\n",
            "\n",
            "\n",
            "chunk:  60%|███████████████████████████████████████████████████████▊                                     | 794/1324 [00:00<00:00, 7936.03it/s, now=None]\u001b[A\u001b[A\u001b[A\n",
            "\n",
            "\n",
            "                                                                                                                                                        \u001b[A\u001b[A\u001b[A"
          ]
        },
        {
          "name": "stdout",
          "output_type": "stream",
          "text": [
            "MoviePy - Done.\n",
            "MoviePy - Writing audio in temp_audio.wav\n"
          ]
        },
        {
          "name": "stderr",
          "output_type": "stream",
          "text": [
            "\n",
            "\n",
            "\n",
            "chunk:   0%|                                                                                                         | 0/1324 [00:00<?, ?it/s, now=None]\u001b[A\u001b[A\u001b[A\n",
            "\n",
            "\n",
            "chunk:  65%|████████████████████████████████████████████████████████████▍                                | 861/1324 [00:00<00:00, 8608.45it/s, now=None]\u001b[A\u001b[A\u001b[A\n",
            "\n",
            "\n",
            "                                                                                                                                                        \u001b[A\u001b[A\u001b[A"
          ]
        },
        {
          "name": "stdout",
          "output_type": "stream",
          "text": [
            "MoviePy - Done.\n",
            "MoviePy - Writing audio in temp_audio.wav\n"
          ]
        },
        {
          "name": "stderr",
          "output_type": "stream",
          "text": [
            "\n",
            "\n",
            "\n",
            "chunk:   0%|                                                                                                         | 0/1324 [00:00<?, ?it/s, now=None]\u001b[A\u001b[A\u001b[A\n",
            "\n",
            "\n",
            "chunk:  65%|████████████████████████████████████████████████████████████▉                                | 867/1324 [00:00<00:00, 8514.07it/s, now=None]\u001b[A\u001b[A\u001b[A\n",
            "\n",
            "\n",
            "                                                                                                                                                        \u001b[A\u001b[A\u001b[A"
          ]
        },
        {
          "name": "stdout",
          "output_type": "stream",
          "text": [
            "MoviePy - Done.\n",
            "MoviePy - Writing audio in temp_audio.wav\n"
          ]
        },
        {
          "name": "stderr",
          "output_type": "stream",
          "text": [
            "\n",
            "\n",
            "\n",
            "chunk:   0%|                                                                                                         | 0/1324 [00:00<?, ?it/s, now=None]\u001b[A\u001b[A\u001b[A\n",
            "\n",
            "\n",
            "chunk:  56%|███████████████████████████████████████████████████▉                                         | 739/1324 [00:00<00:00, 7386.66it/s, now=None]\u001b[A\u001b[A\u001b[A\n",
            "\n",
            "\n",
            "                                                                                                                                                        \u001b[A\u001b[A\u001b[A"
          ]
        },
        {
          "name": "stdout",
          "output_type": "stream",
          "text": [
            "MoviePy - Done.\n",
            "MoviePy - Writing audio in temp_audio.wav\n"
          ]
        },
        {
          "name": "stderr",
          "output_type": "stream",
          "text": [
            "\n",
            "\n",
            "\n",
            "chunk:   0%|                                                                                                         | 0/1324 [00:00<?, ?it/s, now=None]\u001b[A\u001b[A\u001b[A\n",
            "\n",
            "\n",
            "chunk:  67%|█████████████████████████████████████████████████████████████▉                               | 881/1324 [00:00<00:00, 8808.48it/s, now=None]\u001b[A\u001b[A\u001b[A\n",
            "\n",
            "\n",
            "                                                                                                                                                        \u001b[A\u001b[A\u001b[A"
          ]
        },
        {
          "name": "stdout",
          "output_type": "stream",
          "text": [
            "MoviePy - Done.\n",
            "MoviePy - Writing audio in temp_audio.wav\n"
          ]
        },
        {
          "name": "stderr",
          "output_type": "stream",
          "text": [
            "\n",
            "\n",
            "\n",
            "chunk:   0%|                                                                                                         | 0/1324 [00:00<?, ?it/s, now=None]\u001b[A\u001b[A\u001b[A\n",
            "\n",
            "\n",
            "chunk:  54%|██████████████████████████████████████████████████▏                                          | 714/1324 [00:00<00:00, 7024.86it/s, now=None]\u001b[A\u001b[A\u001b[A\n",
            "\n",
            "\n",
            "                                                                                                                                                        \u001b[A\u001b[A\u001b[A"
          ]
        },
        {
          "name": "stdout",
          "output_type": "stream",
          "text": [
            "MoviePy - Done.\n",
            "MoviePy - Writing audio in temp_audio.wav\n"
          ]
        },
        {
          "name": "stderr",
          "output_type": "stream",
          "text": [
            "\n",
            "\n",
            "\n",
            "chunk:   0%|                                                                                                         | 0/1324 [00:00<?, ?it/s, now=None]\u001b[A\u001b[A\u001b[A\n",
            "\n",
            "\n",
            "chunk:  67%|█████████████████████████████████████████████████████████████▉                               | 882/1324 [00:00<00:00, 8814.57it/s, now=None]\u001b[A\u001b[A\u001b[A\n",
            "\n",
            "\n",
            "                                                                                                                                                        \u001b[A\u001b[A\u001b[A"
          ]
        },
        {
          "name": "stdout",
          "output_type": "stream",
          "text": [
            "MoviePy - Done.\n",
            "MoviePy - Writing audio in temp_audio.wav\n"
          ]
        },
        {
          "name": "stderr",
          "output_type": "stream",
          "text": [
            "\n",
            "\n",
            "\n",
            "chunk:   0%|                                                                                                         | 0/1324 [00:00<?, ?it/s, now=None]\u001b[A\u001b[A\u001b[A\n",
            "\n",
            "\n",
            "chunk:  62%|█████████████████████████████████████████████████████████▎                                   | 816/1324 [00:00<00:00, 8078.95it/s, now=None]\u001b[A\u001b[A\u001b[A\n",
            "\n",
            "\n",
            "                                                                                                                                                        \u001b[A\u001b[A\u001b[A"
          ]
        },
        {
          "name": "stdout",
          "output_type": "stream",
          "text": [
            "MoviePy - Done.\n",
            "MoviePy - Writing audio in temp_audio.wav\n"
          ]
        },
        {
          "name": "stderr",
          "output_type": "stream",
          "text": [
            "\n",
            "\n",
            "\n",
            "chunk:   0%|                                                                                                         | 0/1324 [00:00<?, ?it/s, now=None]\u001b[A\u001b[A\u001b[A\n",
            "\n",
            "\n",
            "chunk:  65%|████████████████████████████████████████████████████████████▌                                | 862/1324 [00:00<00:00, 8616.64it/s, now=None]\u001b[A\u001b[A\u001b[A\n",
            "\n",
            "\n",
            "                                                                                                                                                        \u001b[A\u001b[A\u001b[A"
          ]
        },
        {
          "name": "stdout",
          "output_type": "stream",
          "text": [
            "MoviePy - Done.\n",
            "MoviePy - Writing audio in temp_audio.wav\n"
          ]
        },
        {
          "name": "stderr",
          "output_type": "stream",
          "text": [
            "\n",
            "\n",
            "\n",
            "chunk:   0%|                                                                                                         | 0/1324 [00:00<?, ?it/s, now=None]\u001b[A\u001b[A\u001b[A\n",
            "\n",
            "\n",
            "chunk:  57%|█████████████████████████████████████████████████████▎                                       | 759/1324 [00:00<00:00, 7589.55it/s, now=None]\u001b[A\u001b[A\u001b[A\n",
            "\n",
            "\n",
            "                                                                                                                                                        \u001b[A\u001b[A\u001b[A"
          ]
        },
        {
          "name": "stdout",
          "output_type": "stream",
          "text": [
            "MoviePy - Done.\n",
            "MoviePy - Writing audio in temp_audio.wav\n"
          ]
        },
        {
          "name": "stderr",
          "output_type": "stream",
          "text": [
            "\n",
            "\n",
            "\n",
            "chunk:   0%|                                                                                                         | 0/1324 [00:00<?, ?it/s, now=None]\u001b[A\u001b[A\u001b[A\n",
            "\n",
            "\n",
            "chunk:  56%|███████████████████████████████████████████████████▊                                         | 737/1324 [00:00<00:00, 7368.00it/s, now=None]\u001b[A\u001b[A\u001b[A\n",
            "\n",
            "\n",
            "                                                                                                                                                        \u001b[A\u001b[A\u001b[A"
          ]
        },
        {
          "name": "stdout",
          "output_type": "stream",
          "text": [
            "MoviePy - Done.\n",
            "MoviePy - Writing audio in temp_audio.wav\n"
          ]
        },
        {
          "name": "stderr",
          "output_type": "stream",
          "text": [
            "\n",
            "\n",
            "\n",
            "chunk:   0%|                                                                                                         | 0/1324 [00:00<?, ?it/s, now=None]\u001b[A\u001b[A\u001b[A\n",
            "\n",
            "\n",
            "chunk:  62%|█████████████████████████████████████████████████████████▎                                   | 816/1324 [00:00<00:00, 8025.95it/s, now=None]\u001b[A\u001b[A\u001b[A\n",
            "\n",
            "\n",
            "                                                                                                                                                        \u001b[A\u001b[A\u001b[A"
          ]
        },
        {
          "name": "stdout",
          "output_type": "stream",
          "text": [
            "MoviePy - Done.\n",
            "MoviePy - Writing audio in temp_audio.wav\n"
          ]
        },
        {
          "name": "stderr",
          "output_type": "stream",
          "text": [
            "\n",
            "\n",
            "\n",
            "chunk:   0%|                                                                                                         | 0/1324 [00:00<?, ?it/s, now=None]\u001b[A\u001b[A\u001b[A\n",
            "\n",
            "\n",
            "chunk:  63%|██████████████████████████████████████████████████████████▌                                  | 833/1324 [00:00<00:00, 8326.04it/s, now=None]\u001b[A\u001b[A\u001b[A\n",
            "\n",
            "\n",
            "                                                                                                                                                        \u001b[A\u001b[A\u001b[A"
          ]
        },
        {
          "name": "stdout",
          "output_type": "stream",
          "text": [
            "MoviePy - Done.\n",
            "MoviePy - Writing audio in temp_audio.wav\n"
          ]
        },
        {
          "name": "stderr",
          "output_type": "stream",
          "text": [
            "\n",
            "\n",
            "\n",
            "chunk:   0%|                                                                                                         | 0/1324 [00:00<?, ?it/s, now=None]\u001b[A\u001b[A\u001b[A\n",
            "\n",
            "\n",
            "chunk:  63%|██████████████████████████████████████████████████████████▏                                  | 828/1324 [00:00<00:00, 8279.47it/s, now=None]\u001b[A\u001b[A\u001b[A\n",
            "\n",
            "\n",
            "                                                                                                                                                        \u001b[A\u001b[A\u001b[A"
          ]
        },
        {
          "name": "stdout",
          "output_type": "stream",
          "text": [
            "MoviePy - Done.\n",
            "MoviePy - Writing audio in temp_audio.wav\n"
          ]
        },
        {
          "name": "stderr",
          "output_type": "stream",
          "text": [
            "\n",
            "\n",
            "\n",
            "chunk:   0%|                                                                                                         | 0/1324 [00:00<?, ?it/s, now=None]\u001b[A\u001b[A\u001b[A\n",
            "\n",
            "\n",
            "chunk:  64%|███████████████████████████████████████████████████████████▏                                 | 842/1324 [00:00<00:00, 8415.85it/s, now=None]\u001b[A\u001b[A\u001b[A\n",
            "\n",
            "\n",
            "                                                                                                                                                        \u001b[A\u001b[A\u001b[A"
          ]
        },
        {
          "name": "stdout",
          "output_type": "stream",
          "text": [
            "MoviePy - Done.\n",
            "MoviePy - Writing audio in temp_audio.wav\n"
          ]
        },
        {
          "name": "stderr",
          "output_type": "stream",
          "text": [
            "\n",
            "\n",
            "\n",
            "chunk:   0%|                                                                                                         | 0/1324 [00:00<?, ?it/s, now=None]\u001b[A\u001b[A\u001b[A\n",
            "\n",
            "\n",
            "chunk:  58%|█████████████████████████████████████████████████████▋                                       | 765/1324 [00:00<00:00, 7585.71it/s, now=None]\u001b[A\u001b[A\u001b[A\n",
            "\n",
            "\n",
            "                                                                                                                                                        \u001b[A\u001b[A\u001b[A"
          ]
        },
        {
          "name": "stdout",
          "output_type": "stream",
          "text": [
            "MoviePy - Done.\n",
            "MoviePy - Writing audio in temp_audio.wav\n"
          ]
        },
        {
          "name": "stderr",
          "output_type": "stream",
          "text": [
            "\n",
            "\n",
            "\n",
            "chunk:   0%|                                                                                                         | 0/1324 [00:00<?, ?it/s, now=None]\u001b[A\u001b[A\u001b[A\n",
            "\n",
            "\n",
            "chunk:  66%|█████████████████████████████████████████████████████████████▏                               | 871/1324 [00:00<00:00, 8706.11it/s, now=None]\u001b[A\u001b[A\u001b[A\n",
            "\n",
            "\n",
            "                                                                                                                                                        \u001b[A\u001b[A\u001b[A"
          ]
        },
        {
          "name": "stdout",
          "output_type": "stream",
          "text": [
            "MoviePy - Done.\n",
            "MoviePy - Writing audio in temp_audio.wav\n"
          ]
        },
        {
          "name": "stderr",
          "output_type": "stream",
          "text": [
            "\n",
            "\n",
            "\n",
            "chunk:   0%|                                                                                                         | 0/1324 [00:00<?, ?it/s, now=None]\u001b[A\u001b[A\u001b[A\n",
            "\n",
            "\n",
            "chunk:  69%|████████████████████████████████████████████████████████████████▍                            | 918/1324 [00:00<00:00, 9123.63it/s, now=None]\u001b[A\u001b[A\u001b[A\n",
            "\n",
            "\n",
            "                                                                                                                                                        \u001b[A\u001b[A\u001b[A"
          ]
        },
        {
          "name": "stdout",
          "output_type": "stream",
          "text": [
            "MoviePy - Done.\n",
            "MoviePy - Writing audio in temp_audio.wav\n"
          ]
        },
        {
          "name": "stderr",
          "output_type": "stream",
          "text": [
            "\n",
            "\n",
            "\n",
            "chunk:   0%|                                                                                                         | 0/1324 [00:00<?, ?it/s, now=None]\u001b[A\u001b[A\u001b[A\n",
            "\n",
            "\n",
            "chunk:  65%|████████████████████████████████████████████████████████████▉                                | 867/1324 [00:00<00:00, 8651.09it/s, now=None]\u001b[A\u001b[A\u001b[A\n",
            "\n",
            "\n",
            "                                                                                                                                                        \u001b[A\u001b[A\u001b[A"
          ]
        },
        {
          "name": "stdout",
          "output_type": "stream",
          "text": [
            "MoviePy - Done.\n",
            "MoviePy - Writing audio in temp_audio.wav\n"
          ]
        },
        {
          "name": "stderr",
          "output_type": "stream",
          "text": [
            "\n",
            "\n",
            "\n",
            "chunk:   0%|                                                                                                         | 0/1324 [00:00<?, ?it/s, now=None]\u001b[A\u001b[A\u001b[A\n",
            "\n",
            "\n",
            "chunk:  72%|███████████████████████████████████████████████████████████████████▎                         | 958/1324 [00:00<00:00, 9574.94it/s, now=None]\u001b[A\u001b[A\u001b[A\n",
            "\n",
            "\n",
            "                                                                                                                                                        \u001b[A\u001b[A\u001b[A"
          ]
        },
        {
          "name": "stdout",
          "output_type": "stream",
          "text": [
            "MoviePy - Done.\n",
            "MoviePy - Writing audio in temp_audio.wav\n"
          ]
        },
        {
          "name": "stderr",
          "output_type": "stream",
          "text": [
            "\n",
            "\n",
            "\n",
            "chunk:   0%|                                                                                                         | 0/1324 [00:00<?, ?it/s, now=None]\u001b[A\u001b[A\u001b[A\n",
            "\n",
            "\n",
            "chunk:  65%|████████████████████████████████████████████████████████████▉                                | 867/1324 [00:00<00:00, 8640.65it/s, now=None]\u001b[A\u001b[A\u001b[A\n",
            "\n",
            "\n",
            "                                                                                                                                                        \u001b[A\u001b[A\u001b[A"
          ]
        },
        {
          "name": "stdout",
          "output_type": "stream",
          "text": [
            "MoviePy - Done.\n",
            "MoviePy - Writing audio in temp_audio.wav\n"
          ]
        },
        {
          "name": "stderr",
          "output_type": "stream",
          "text": [
            "\n",
            "\n",
            "\n",
            "chunk:   0%|                                                                                                         | 0/1324 [00:00<?, ?it/s, now=None]\u001b[A\u001b[A\u001b[A\n",
            "\n",
            "\n",
            "chunk:  62%|█████████████████████████████████████████████████████████▊                                   | 823/1324 [00:00<00:00, 8225.22it/s, now=None]\u001b[A\u001b[A\u001b[A\n",
            "\n",
            "\n",
            "                                                                                                                                                        \u001b[A\u001b[A\u001b[A"
          ]
        },
        {
          "name": "stdout",
          "output_type": "stream",
          "text": [
            "MoviePy - Done.\n",
            "MoviePy - Writing audio in temp_audio.wav\n"
          ]
        },
        {
          "name": "stderr",
          "output_type": "stream",
          "text": [
            "\n",
            "\n",
            "\n",
            "chunk:   0%|                                                                                                         | 0/1324 [00:00<?, ?it/s, now=None]\u001b[A\u001b[A\u001b[A\n",
            "\n",
            "\n",
            "chunk:  65%|████████████████████████████████████████████████████████████▉                                | 867/1324 [00:00<00:00, 8633.64it/s, now=None]\u001b[A\u001b[A\u001b[A\n",
            "\n",
            "\n",
            "                                                                                                                                                        \u001b[A\u001b[A\u001b[A"
          ]
        },
        {
          "name": "stdout",
          "output_type": "stream",
          "text": [
            "MoviePy - Done.\n",
            "MoviePy - Writing audio in temp_audio.wav\n"
          ]
        },
        {
          "name": "stderr",
          "output_type": "stream",
          "text": [
            "\n",
            "\n",
            "\n",
            "chunk:   0%|                                                                                                         | 0/1324 [00:00<?, ?it/s, now=None]\u001b[A\u001b[A\u001b[A\n",
            "\n",
            "\n",
            "chunk:  63%|███████████████████████████████████████████████████████████                                  | 840/1324 [00:00<00:00, 8394.22it/s, now=None]\u001b[A\u001b[A\u001b[A\n",
            "\n",
            "\n",
            "                                                                                                                                                        \u001b[A\u001b[A\u001b[A"
          ]
        },
        {
          "name": "stdout",
          "output_type": "stream",
          "text": [
            "MoviePy - Done.\n",
            "MoviePy - Writing audio in temp_audio.wav\n"
          ]
        },
        {
          "name": "stderr",
          "output_type": "stream",
          "text": [
            "\n",
            "\n",
            "\n",
            "chunk:   0%|                                                                                                         | 0/1324 [00:00<?, ?it/s, now=None]\u001b[A\u001b[A\u001b[A\n",
            "\n",
            "\n",
            "chunk:  70%|████████████████████████████████████████████████████████████████▊                            | 922/1324 [00:00<00:00, 9214.36it/s, now=None]\u001b[A\u001b[A\u001b[A\n",
            "\n",
            "\n",
            "                                                                                                                                                        \u001b[A\u001b[A\u001b[A"
          ]
        },
        {
          "name": "stdout",
          "output_type": "stream",
          "text": [
            "MoviePy - Done.\n",
            "MoviePy - Writing audio in temp_audio.wav\n"
          ]
        },
        {
          "name": "stderr",
          "output_type": "stream",
          "text": [
            "\n",
            "\n",
            "\n",
            "chunk:   0%|                                                                                                         | 0/1324 [00:00<?, ?it/s, now=None]\u001b[A\u001b[A\u001b[A\n",
            "\n",
            "\n",
            "chunk:  35%|████████████████████████████████▋                                                            | 466/1324 [00:00<00:00, 4655.12it/s, now=None]\u001b[A\u001b[A\u001b[A\n",
            "\n",
            "\n",
            "chunk:  91%|████████████████████████████████████████████████████████████████████████████████████        | 1210/1324 [00:00<00:00, 6291.28it/s, now=None]\u001b[A\u001b[A\u001b[A\n",
            "\n",
            "\n",
            "                                                                                                                                                        \u001b[A\u001b[A\u001b[A"
          ]
        },
        {
          "name": "stdout",
          "output_type": "stream",
          "text": [
            "MoviePy - Done.\n",
            "MoviePy - Writing audio in temp_audio.wav\n"
          ]
        },
        {
          "name": "stderr",
          "output_type": "stream",
          "text": [
            "\n",
            "\n",
            "\n",
            "chunk:   0%|                                                                                                         | 0/1324 [00:00<?, ?it/s, now=None]\u001b[A\u001b[A\u001b[A\n",
            "\n",
            "\n",
            "chunk:  64%|███████████████████████████████████████████████████████████▋                                 | 850/1324 [00:00<00:00, 8496.46it/s, now=None]\u001b[A\u001b[A\u001b[A\n",
            "\n",
            "\n",
            "                                                                                                                                                        \u001b[A\u001b[A\u001b[A"
          ]
        },
        {
          "name": "stdout",
          "output_type": "stream",
          "text": [
            "MoviePy - Done.\n",
            "MoviePy - Writing audio in temp_audio.wav\n"
          ]
        },
        {
          "name": "stderr",
          "output_type": "stream",
          "text": [
            "\n",
            "\n",
            "\n",
            "chunk:   0%|                                                                                                         | 0/1324 [00:00<?, ?it/s, now=None]\u001b[A\u001b[A\u001b[A\n",
            "\n",
            "\n",
            "chunk:  70%|█████████████████████████████████████████████████████████████████▍                           | 932/1324 [00:00<00:00, 9313.06it/s, now=None]\u001b[A\u001b[A\u001b[A\n",
            "\n",
            "\n",
            "                                                                                                                                                        \u001b[A\u001b[A\u001b[A"
          ]
        },
        {
          "name": "stdout",
          "output_type": "stream",
          "text": [
            "MoviePy - Done.\n",
            "MoviePy - Writing audio in temp_audio.wav\n"
          ]
        },
        {
          "name": "stderr",
          "output_type": "stream",
          "text": [
            "\n",
            "\n",
            "\n",
            "chunk:   0%|                                                                                                         | 0/1324 [00:00<?, ?it/s, now=None]\u001b[A\u001b[A\u001b[A\n",
            "\n",
            "\n",
            "chunk:  24%|██████████████████████                                                                       | 314/1324 [00:00<00:00, 3126.01it/s, now=None]\u001b[A\u001b[A\u001b[A\n",
            "\n",
            "\n",
            "chunk:  47%|████████████████████████████████████████████                                                 | 627/1324 [00:00<00:00, 1249.10it/s, now=None]\u001b[A\u001b[A\u001b[A\n",
            "\n",
            "\n",
            "chunk:  69%|████████████████████████████████████████████████████████████████▍                            | 918/1324 [00:00<00:00, 1650.51it/s, now=None]\u001b[A\u001b[A\u001b[A\n",
            "\n",
            "\n",
            "chunk:  89%|██████████████████████████████████████████████████████████████████████████████████▏         | 1183/1324 [00:00<00:00, 1904.63it/s, now=None]\u001b[A\u001b[A\u001b[A\n",
            "\n",
            "\n",
            "                                                                                                                                                        \u001b[A\u001b[A\u001b[A"
          ]
        },
        {
          "name": "stdout",
          "output_type": "stream",
          "text": [
            "MoviePy - Done.\n",
            "MoviePy - Writing audio in temp_audio.wav\n"
          ]
        },
        {
          "name": "stderr",
          "output_type": "stream",
          "text": [
            "\n",
            "\n",
            "\n",
            "chunk:   0%|                                                                                                         | 0/1324 [00:00<?, ?it/s, now=None]\u001b[A\u001b[A\u001b[A\n",
            "\n",
            "\n",
            "chunk:  23%|█████████████████████▍                                                                       | 306/1324 [00:00<00:00, 3050.67it/s, now=None]\u001b[A\u001b[A\u001b[A\n",
            "\n",
            "\n",
            "chunk:  46%|██████████████████████████████████████████▉                                                  | 612/1324 [00:00<00:00, 2759.78it/s, now=None]\u001b[A\u001b[A\u001b[A\n",
            "\n",
            "\n",
            "chunk:  81%|██████████████████████████████████████████████████████████████████████████▍                 | 1071/1324 [00:00<00:00, 3187.44it/s, now=None]\u001b[A\u001b[A\u001b[A\n",
            "\n",
            "\n",
            "                                                                                                                                                        \u001b[A\u001b[A\u001b[A"
          ]
        },
        {
          "name": "stdout",
          "output_type": "stream",
          "text": [
            "MoviePy - Done.\n",
            "MoviePy - Writing audio in temp_audio.wav\n"
          ]
        },
        {
          "name": "stderr",
          "output_type": "stream",
          "text": [
            "\n",
            "\n",
            "\n",
            "chunk:   0%|                                                                                                         | 0/1324 [00:00<?, ?it/s, now=None]\u001b[A\u001b[A\u001b[A\n",
            "\n",
            "\n",
            "chunk:  46%|██████████████████████████████████████████▉                                                  | 612/1324 [00:00<00:00, 6110.22it/s, now=None]\u001b[A\u001b[A\u001b[A\n",
            "\n",
            "\n",
            "chunk:  99%|███████████████████████████████████████████████████████████████████████████████████████████▎| 1315/1324 [00:00<00:00, 6648.13it/s, now=None]\u001b[A\u001b[A\u001b[A\n",
            "\n",
            "\n",
            "                                                                                                                                                        \u001b[A\u001b[A\u001b[A"
          ]
        },
        {
          "name": "stdout",
          "output_type": "stream",
          "text": [
            "MoviePy - Done.\n",
            "MoviePy - Writing audio in temp_audio.wav\n"
          ]
        },
        {
          "name": "stderr",
          "output_type": "stream",
          "text": [
            "\n",
            "\n",
            "\n",
            "chunk:   0%|                                                                                                         | 0/1324 [00:00<?, ?it/s, now=None]\u001b[A\u001b[A\u001b[A\n",
            "\n",
            "\n",
            "chunk:  42%|███████████████████████████████████████▍                                                     | 561/1324 [00:00<00:00, 5463.67it/s, now=None]\u001b[A\u001b[A\u001b[A\n",
            "\n",
            "\n",
            "chunk:  84%|████████████████████████████████████████████████████████████████████████████▉               | 1108/1324 [00:00<00:00, 5180.26it/s, now=None]\u001b[A\u001b[A\u001b[A\n",
            "\n",
            "\n",
            "                                                                                                                                                        \u001b[A\u001b[A\u001b[A"
          ]
        },
        {
          "name": "stdout",
          "output_type": "stream",
          "text": [
            "MoviePy - Done.\n",
            "MoviePy - Writing audio in temp_audio.wav\n"
          ]
        },
        {
          "name": "stderr",
          "output_type": "stream",
          "text": [
            "\n",
            "\n",
            "\n",
            "chunk:   0%|                                                                                                         | 0/1324 [00:00<?, ?it/s, now=None]\u001b[A\u001b[A\u001b[A\n",
            "\n",
            "\n",
            "chunk:  12%|██████████▋                                                                                  | 153/1324 [00:00<00:00, 1432.77it/s, now=None]\u001b[A\u001b[A\u001b[A\n",
            "\n",
            "\n",
            "chunk:  39%|███████████████████████████████████▊                                                         | 510/1324 [00:00<00:00, 2297.44it/s, now=None]\u001b[A\u001b[A\u001b[A\n",
            "\n",
            "\n",
            "chunk:  56%|███████████████████████████████████████████████████▋                                         | 735/1324 [00:00<00:00, 1611.27it/s, now=None]\u001b[A\u001b[A\u001b[A\n",
            "\n",
            "\n",
            "chunk:  69%|████████████████████████████████████████████████████████████████▌                             | 909/1324 [00:00<00:00, 797.72it/s, now=None]\u001b[A\u001b[A\u001b[A\n",
            "\n",
            "\n",
            "chunk:  78%|████████████████████████████████████████████████████████████████████████▎                    | 1029/1324 [00:01<00:00, 805.66it/s, now=None]\u001b[A\u001b[A\u001b[A\n",
            "\n",
            "\n",
            "                                                                                                                                                        \u001b[A\u001b[A\u001b[A"
          ]
        },
        {
          "name": "stdout",
          "output_type": "stream",
          "text": [
            "MoviePy - Done.\n",
            "MoviePy - Writing audio in temp_audio.wav\n"
          ]
        },
        {
          "name": "stderr",
          "output_type": "stream",
          "text": [
            "\n",
            "\n",
            "\n",
            "chunk:   0%|                                                                                                         | 0/1324 [00:00<?, ?it/s, now=None]\u001b[A\u001b[A\u001b[A\n",
            "\n",
            "\n",
            "chunk:  35%|████████████████████████████████▏                                                            | 459/1324 [00:00<00:00, 3272.49it/s, now=None]\u001b[A\u001b[A\u001b[A\n",
            "\n",
            "\n",
            "chunk:  59%|███████████████████████████████████████████████████████▎                                     | 787/1324 [00:00<00:00, 2496.44it/s, now=None]\u001b[A\u001b[A\u001b[A\n",
            "\n",
            "\n",
            "chunk:  79%|████████████████████████████████████████████████████████████████████████▎                   | 1041/1324 [00:00<00:00, 1486.64it/s, now=None]\u001b[A\u001b[A\u001b[A\n",
            "\n",
            "\n",
            "chunk:  92%|████████████████████████████████████████████████████████████████████████████████████▋       | 1219/1324 [00:00<00:00, 1398.61it/s, now=None]\u001b[A\u001b[A\u001b[A\n",
            "\n",
            "\n",
            "                                                                                                                                                        \u001b[A\u001b[A\u001b[A"
          ]
        },
        {
          "name": "stdout",
          "output_type": "stream",
          "text": [
            "MoviePy - Done.\n",
            "MoviePy - Writing audio in temp_audio.wav\n"
          ]
        },
        {
          "name": "stderr",
          "output_type": "stream",
          "text": [
            "\n",
            "\n",
            "\n",
            "chunk:   0%|                                                                                                         | 0/1324 [00:00<?, ?it/s, now=None]\u001b[A\u001b[A\u001b[A\n",
            "\n",
            "\n",
            "chunk:  12%|██████████▋                                                                                  | 153/1324 [00:00<00:00, 1525.00it/s, now=None]\u001b[A\u001b[A\u001b[A\n",
            "\n",
            "\n",
            "chunk:  27%|█████████████████████████▎                                                                    | 357/1324 [00:00<00:01, 888.23it/s, now=None]\u001b[A\u001b[A\u001b[A\n",
            "\n",
            "\n",
            "chunk:  46%|██████████████████████████████████████████▉                                                  | 612/1324 [00:00<00:00, 1160.44it/s, now=None]\u001b[A\u001b[A\u001b[A\n",
            "\n",
            "\n",
            "chunk:  56%|████████████████████████████████████████████████████                                         | 742/1324 [00:00<00:00, 1015.04it/s, now=None]\u001b[A\u001b[A\u001b[A\n",
            "\n",
            "\n",
            "chunk:  65%|█████████████████████████████████████████████████████████████▌                                | 867/1324 [00:00<00:00, 972.57it/s, now=None]\u001b[A\u001b[A\u001b[A\n",
            "\n",
            "\n",
            "chunk:  77%|██████████████████████████████████████████████████████████████████████▉                     | 1020/1324 [00:00<00:00, 1078.64it/s, now=None]\u001b[A\u001b[A\u001b[A\n",
            "\n",
            "\n",
            "chunk:  96%|████████████████████████████████████████████████████████████████████████████████████████▌   | 1275/1324 [00:01<00:00, 1329.64it/s, now=None]\u001b[A\u001b[A\u001b[A\n",
            "\n",
            "\n",
            "                                                                                                                                                        \u001b[A\u001b[A\u001b[A"
          ]
        },
        {
          "name": "stdout",
          "output_type": "stream",
          "text": [
            "MoviePy - Done.\n",
            "MoviePy - Writing audio in temp_audio.wav\n"
          ]
        },
        {
          "name": "stderr",
          "output_type": "stream",
          "text": [
            "\n",
            "\n",
            "\n",
            "chunk:   0%|                                                                                                         | 0/1324 [00:00<?, ?it/s, now=None]\u001b[A\u001b[A\u001b[A\n",
            "\n",
            "\n",
            "chunk:  30%|███████████████████████████▌                                                                 | 392/1324 [00:00<00:00, 3917.94it/s, now=None]\u001b[A\u001b[A\u001b[A\n",
            "\n",
            "\n",
            "chunk:  59%|███████████████████████████████████████████████████████                                      | 784/1324 [00:00<00:00, 3420.23it/s, now=None]\u001b[A\u001b[A\u001b[A\n",
            "\n",
            "\n",
            "chunk:  87%|████████████████████████████████████████████████████████████████████████████████▏           | 1154/1324 [00:00<00:00, 3537.97it/s, now=None]\u001b[A\u001b[A\u001b[A\n",
            "\n",
            "\n",
            "                                                                                                                                                        \u001b[A\u001b[A\u001b[A"
          ]
        },
        {
          "name": "stdout",
          "output_type": "stream",
          "text": [
            "MoviePy - Done.\n",
            "MoviePy - Writing audio in temp_audio.wav\n"
          ]
        },
        {
          "name": "stderr",
          "output_type": "stream",
          "text": [
            "\n",
            "\n",
            "\n",
            "chunk:   0%|                                                                                                         | 0/1324 [00:00<?, ?it/s, now=None]\u001b[A\u001b[A\u001b[A\n",
            "\n",
            "\n",
            "chunk:   2%|██▎                                                                                            | 33/1324 [00:00<00:03, 329.91it/s, now=None]\u001b[A\u001b[A\u001b[A\n",
            "\n",
            "\n",
            "chunk:  15%|██████████████▎                                                                              | 204/1324 [00:00<00:01, 1116.59it/s, now=None]\u001b[A\u001b[A\u001b[A\n",
            "\n",
            "\n",
            "chunk:  53%|█████████████████████████████████████████████████▌                                           | 706/1324 [00:00<00:00, 2876.26it/s, now=None]\u001b[A\u001b[A\u001b[A\n",
            "\n",
            "\n",
            "                                                                                                                                                        \u001b[A\u001b[A\u001b[A"
          ]
        },
        {
          "name": "stdout",
          "output_type": "stream",
          "text": [
            "MoviePy - Done.\n",
            "MoviePy - Writing audio in temp_audio.wav\n"
          ]
        },
        {
          "name": "stderr",
          "output_type": "stream",
          "text": [
            "\n",
            "\n",
            "\n",
            "chunk:   0%|                                                                                                         | 0/1324 [00:00<?, ?it/s, now=None]\u001b[A\u001b[A\u001b[A\n",
            "\n",
            "\n",
            "chunk:  44%|█████████████████████████████████████████▏                                                   | 587/1324 [00:00<00:00, 5868.90it/s, now=None]\u001b[A\u001b[A\u001b[A\n",
            "\n",
            "\n",
            "chunk:  89%|█████████████████████████████████████████████████████████████████████████████████▌          | 1174/1324 [00:00<00:00, 5575.49it/s, now=None]\u001b[A\u001b[A\u001b[A\n",
            "\n",
            "\n",
            "                                                                                                                                                        \u001b[A\u001b[A\u001b[A"
          ]
        },
        {
          "name": "stdout",
          "output_type": "stream",
          "text": [
            "MoviePy - Done.\n",
            "MoviePy - Writing audio in temp_audio.wav\n"
          ]
        },
        {
          "name": "stderr",
          "output_type": "stream",
          "text": [
            "\n",
            "\n",
            "\n",
            "chunk:   0%|                                                                                                         | 0/1324 [00:00<?, ?it/s, now=None]\u001b[A\u001b[A\u001b[A\n",
            "\n",
            "\n",
            "chunk:  22%|████████████████████▊                                                                        | 296/1324 [00:00<00:00, 2959.52it/s, now=None]\u001b[A\u001b[A\u001b[A\n",
            "\n",
            "\n",
            "chunk:  51%|███████████████████████████████████████████████▍                                             | 676/1324 [00:00<00:00, 3452.13it/s, now=None]\u001b[A\u001b[A\u001b[A\n",
            "\n",
            "\n",
            "chunk:  79%|█████████████████████████████████████████████████████████████████████████                   | 1052/1324 [00:00<00:00, 3591.11it/s, now=None]\u001b[A\u001b[A\u001b[A\n",
            "\n",
            "\n",
            "                                                                                                                                                        \u001b[A\u001b[A\u001b[A"
          ]
        },
        {
          "name": "stdout",
          "output_type": "stream",
          "text": [
            "MoviePy - Done.\n",
            "MoviePy - Writing audio in temp_audio.wav\n"
          ]
        },
        {
          "name": "stderr",
          "output_type": "stream",
          "text": [
            "\n",
            "\n",
            "\n",
            "chunk:   0%|                                                                                                         | 0/1324 [00:00<?, ?it/s, now=None]\u001b[A\u001b[A\u001b[A\n",
            "\n",
            "\n",
            "chunk:  65%|████████████████████████████████████████████████████████████▉                                | 867/1324 [00:00<00:00, 8582.59it/s, now=None]\u001b[A\u001b[A\u001b[A\n",
            "\n",
            "\n",
            "                                                                                                                                                        \u001b[A\u001b[A\u001b[A"
          ]
        },
        {
          "name": "stdout",
          "output_type": "stream",
          "text": [
            "MoviePy - Done.\n",
            "MoviePy - Writing audio in temp_audio.wav\n"
          ]
        },
        {
          "name": "stderr",
          "output_type": "stream",
          "text": [
            "\n",
            "\n",
            "\n",
            "chunk:   0%|                                                                                                         | 0/1324 [00:00<?, ?it/s, now=None]\u001b[A\u001b[A\u001b[A\n",
            "\n",
            "\n",
            "chunk:  67%|██████████████████████████████████████████████████████████████▌                              | 890/1324 [00:00<00:00, 8893.71it/s, now=None]\u001b[A\u001b[A\u001b[A\n",
            "\n",
            "\n",
            "                                                                                                                                                        \u001b[A\u001b[A\u001b[A"
          ]
        },
        {
          "name": "stdout",
          "output_type": "stream",
          "text": [
            "MoviePy - Done.\n",
            "MoviePy - Writing audio in temp_audio.wav\n"
          ]
        },
        {
          "name": "stderr",
          "output_type": "stream",
          "text": [
            "\n",
            "\n",
            "\n",
            "chunk:   0%|                                                                                                         | 0/1324 [00:00<?, ?it/s, now=None]\u001b[A\u001b[A\u001b[A\n",
            "\n",
            "\n",
            "chunk:  69%|███████████████████████████████████████████████████████████████▊                             | 909/1324 [00:00<00:00, 9088.10it/s, now=None]\u001b[A\u001b[A\u001b[A\n",
            "\n",
            "\n",
            "                                                                                                                                                        \u001b[A\u001b[A\u001b[A"
          ]
        },
        {
          "name": "stdout",
          "output_type": "stream",
          "text": [
            "MoviePy - Done.\n",
            "MoviePy - Writing audio in temp_audio.wav\n"
          ]
        },
        {
          "name": "stderr",
          "output_type": "stream",
          "text": [
            "\n",
            "\n",
            "\n",
            "chunk:   0%|                                                                                                         | 0/1324 [00:00<?, ?it/s, now=None]\u001b[A\u001b[A\u001b[A\n",
            "\n",
            "\n",
            "chunk:  67%|██████████████████████████████████████████████████████████████                               | 883/1324 [00:00<00:00, 8828.24it/s, now=None]\u001b[A\u001b[A\u001b[A\n",
            "\n",
            "\n",
            "                                                                                                                                                        \u001b[A\u001b[A\u001b[A"
          ]
        },
        {
          "name": "stdout",
          "output_type": "stream",
          "text": [
            "MoviePy - Done.\n",
            "MoviePy - Writing audio in temp_audio.wav\n"
          ]
        },
        {
          "name": "stderr",
          "output_type": "stream",
          "text": [
            "\n",
            "\n",
            "\n",
            "chunk:   0%|                                                                                                         | 0/1324 [00:00<?, ?it/s, now=None]\u001b[A\u001b[A\u001b[A\n",
            "\n",
            "\n",
            "chunk:  62%|█████████████████████████████████████████████████████████▎                                   | 816/1324 [00:00<00:00, 8125.18it/s, now=None]\u001b[A\u001b[A\u001b[A\n",
            "\n",
            "\n",
            "                                                                                                                                                        \u001b[A\u001b[A\u001b[A"
          ]
        },
        {
          "name": "stdout",
          "output_type": "stream",
          "text": [
            "MoviePy - Done.\n",
            "MoviePy - Writing audio in temp_audio.wav\n"
          ]
        },
        {
          "name": "stderr",
          "output_type": "stream",
          "text": [
            "\n",
            "\n",
            "\n",
            "chunk:   0%|                                                                                                         | 0/1324 [00:00<?, ?it/s, now=None]\u001b[A\u001b[A\u001b[A\n",
            "\n",
            "\n",
            "chunk:  65%|████████████████████████████████████████████████████████████▉                                | 867/1324 [00:00<00:00, 8652.58it/s, now=None]\u001b[A\u001b[A\u001b[A\n",
            "\n",
            "\n",
            "                                                                                                                                                        \u001b[A\u001b[A\u001b[A"
          ]
        },
        {
          "name": "stdout",
          "output_type": "stream",
          "text": [
            "MoviePy - Done.\n",
            "MoviePy - Writing audio in temp_audio.wav\n"
          ]
        },
        {
          "name": "stderr",
          "output_type": "stream",
          "text": [
            "\n",
            "\n",
            "\n",
            "chunk:   0%|                                                                                                         | 0/1324 [00:00<?, ?it/s, now=None]\u001b[A\u001b[A\u001b[A\n",
            "\n",
            "\n",
            "chunk:  69%|████████████████████████████████████████████████████████████████▍                            | 918/1324 [00:00<00:00, 9166.04it/s, now=None]\u001b[A\u001b[A\u001b[A\n",
            "\n",
            "\n",
            "                                                                                                                                                        \u001b[A\u001b[A\u001b[A"
          ]
        },
        {
          "name": "stdout",
          "output_type": "stream",
          "text": [
            "MoviePy - Done.\n",
            "MoviePy - Writing audio in temp_audio.wav\n"
          ]
        },
        {
          "name": "stderr",
          "output_type": "stream",
          "text": [
            "\n",
            "\n",
            "\n",
            "chunk:   0%|                                                                                                         | 0/1324 [00:00<?, ?it/s, now=None]\u001b[A\u001b[A\u001b[A\n",
            "\n",
            "\n",
            "chunk:  54%|██████████████████████████████████████████████████▏                                          | 714/1324 [00:00<00:00, 7014.12it/s, now=None]\u001b[A\u001b[A\u001b[A\n",
            "\n",
            "\n",
            "                                                                                                                                                        \u001b[A\u001b[A\u001b[A"
          ]
        },
        {
          "name": "stdout",
          "output_type": "stream",
          "text": [
            "MoviePy - Done.\n",
            "MoviePy - Writing audio in temp_audio.wav\n"
          ]
        },
        {
          "name": "stderr",
          "output_type": "stream",
          "text": [
            "\n",
            "\n",
            "\n",
            "chunk:   0%|                                                                                                         | 0/1324 [00:00<?, ?it/s, now=None]\u001b[A\u001b[A\u001b[A\n",
            "\n",
            "\n",
            "chunk:  62%|█████████████████████████████████████████████████████████▎                                   | 816/1324 [00:00<00:00, 8145.77it/s, now=None]\u001b[A\u001b[A\u001b[A\n",
            "\n",
            "\n",
            "                                                                                                                                                        \u001b[A\u001b[A\u001b[A"
          ]
        },
        {
          "name": "stdout",
          "output_type": "stream",
          "text": [
            "MoviePy - Done.\n",
            "MoviePy - Writing audio in temp_audio.wav\n"
          ]
        },
        {
          "name": "stderr",
          "output_type": "stream",
          "text": [
            "\n",
            "\n",
            "\n",
            "chunk:   0%|                                                                                                         | 0/1324 [00:00<?, ?it/s, now=None]\u001b[A\u001b[A\u001b[A\n",
            "\n",
            "\n",
            "chunk:  58%|██████████████████████████████████████████████████████                                       | 769/1324 [00:00<00:00, 7687.57it/s, now=None]\u001b[A\u001b[A\u001b[A\n",
            "\n",
            "\n",
            "                                                                                                                                                        \u001b[A\u001b[A\u001b[A"
          ]
        },
        {
          "name": "stdout",
          "output_type": "stream",
          "text": [
            "MoviePy - Done.\n",
            "MoviePy - Writing audio in temp_audio.wav\n"
          ]
        },
        {
          "name": "stderr",
          "output_type": "stream",
          "text": [
            "\n",
            "\n",
            "\n",
            "chunk:   0%|                                                                                                         | 0/1324 [00:00<?, ?it/s, now=None]\u001b[A\u001b[A\u001b[A\n",
            "\n",
            "\n",
            "chunk:  59%|██████████████████████████████████████████████████████▍                                      | 775/1324 [00:00<00:00, 7743.71it/s, now=None]\u001b[A\u001b[A\u001b[A\n",
            "\n",
            "\n",
            "                                                                                                                                                        \u001b[A\u001b[A\u001b[A"
          ]
        },
        {
          "name": "stdout",
          "output_type": "stream",
          "text": [
            "MoviePy - Done.\n",
            "MoviePy - Writing audio in temp_audio.wav\n"
          ]
        },
        {
          "name": "stderr",
          "output_type": "stream",
          "text": [
            "\n",
            "\n",
            "\n",
            "chunk:   0%|                                                                                                          | 0/893 [00:00<?, ?it/s, now=None]\u001b[A\u001b[A\u001b[A\n",
            "\n",
            "\n",
            "chunk:  97%|███████████████████████████████████████████████████████████████████████████████████████████▎  | 867/893 [00:00<00:00, 8602.49it/s, now=None]\u001b[A\u001b[A\u001b[A\n",
            "\n",
            "\n",
            "                                                                                                                                                        \u001b[A\u001b[A\u001b[A"
          ]
        },
        {
          "name": "stdout",
          "output_type": "stream",
          "text": [
            "MoviePy - Done.\n",
            "MoviePy - Writing audio in temp_audio.wav\n"
          ]
        },
        {
          "name": "stderr",
          "output_type": "stream",
          "text": [
            "\n",
            "\n",
            "\n",
            "chunk:   0%|                                                                                                         | 0/1324 [00:00<?, ?it/s, now=None]\u001b[A\u001b[A\u001b[A\n",
            "\n",
            "\n",
            "chunk:  69%|████████████████████████████████████████████████████████████████▍                            | 918/1324 [00:00<00:00, 9113.46it/s, now=None]\u001b[A\u001b[A\u001b[A\n",
            "\n",
            "\n",
            "                                                                                                                                                        \u001b[A\u001b[A\u001b[A"
          ]
        },
        {
          "name": "stdout",
          "output_type": "stream",
          "text": [
            "MoviePy - Done.\n",
            "MoviePy - Writing audio in temp_audio.wav\n"
          ]
        },
        {
          "name": "stderr",
          "output_type": "stream",
          "text": [
            "\n",
            "\n",
            "\n",
            "chunk:   0%|                                                                                                         | 0/1324 [00:00<?, ?it/s, now=None]\u001b[A\u001b[A\u001b[A\n",
            "\n",
            "\n",
            "chunk:  62%|█████████████████████████████████████████████████████████▎                                   | 816/1324 [00:00<00:00, 7984.81it/s, now=None]\u001b[A\u001b[A\u001b[A\n",
            "\n",
            "\n",
            "                                                                                                                                                        \u001b[A\u001b[A\u001b[A"
          ]
        },
        {
          "name": "stdout",
          "output_type": "stream",
          "text": [
            "MoviePy - Done.\n",
            "MoviePy - Writing audio in temp_audio.wav\n"
          ]
        },
        {
          "name": "stderr",
          "output_type": "stream",
          "text": [
            "\n",
            "\n",
            "\n",
            "chunk:   0%|                                                                                                         | 0/1324 [00:00<?, ?it/s, now=None]\u001b[A\u001b[A\u001b[A\n",
            "\n",
            "\n",
            "chunk:  62%|█████████████████████████████████████████████████████████▎                                   | 816/1324 [00:00<00:00, 8018.76it/s, now=None]\u001b[A\u001b[A\u001b[A\n",
            "\n",
            "\n",
            "                                                                                                                                                        \u001b[A\u001b[A\u001b[A"
          ]
        },
        {
          "name": "stdout",
          "output_type": "stream",
          "text": [
            "MoviePy - Done.\n",
            "MoviePy - Writing audio in temp_audio.wav\n"
          ]
        },
        {
          "name": "stderr",
          "output_type": "stream",
          "text": [
            "\n",
            "\n",
            "\n",
            "chunk:   0%|                                                                                                         | 0/1324 [00:00<?, ?it/s, now=None]\u001b[A\u001b[A\u001b[A\n",
            "\n",
            "\n",
            "chunk:  66%|█████████████████████████████████████████████████████████████                                | 870/1324 [00:00<00:00, 8694.89it/s, now=None]\u001b[A\u001b[A\u001b[A\n",
            "\n",
            "\n",
            "                                                                                                                                                        \u001b[A\u001b[A\u001b[A"
          ]
        },
        {
          "name": "stdout",
          "output_type": "stream",
          "text": [
            "MoviePy - Done.\n",
            "MoviePy - Writing audio in temp_audio.wav\n"
          ]
        },
        {
          "name": "stderr",
          "output_type": "stream",
          "text": [
            "\n",
            "\n",
            "\n",
            "chunk:   0%|                                                                                                         | 0/1324 [00:00<?, ?it/s, now=None]\u001b[A\u001b[A\u001b[A\n",
            "\n",
            "\n",
            "chunk:  57%|█████████████████████████████████████████████████████                                        | 755/1324 [00:00<00:00, 7547.18it/s, now=None]\u001b[A\u001b[A\u001b[A\n",
            "\n",
            "\n",
            "                                                                                                                                                        \u001b[A\u001b[A\u001b[A"
          ]
        },
        {
          "name": "stdout",
          "output_type": "stream",
          "text": [
            "MoviePy - Done.\n",
            "MoviePy - Writing audio in temp_audio.wav\n"
          ]
        },
        {
          "name": "stderr",
          "output_type": "stream",
          "text": [
            "\n",
            "\n",
            "\n",
            "chunk:   0%|                                                                                                         | 0/1324 [00:00<?, ?it/s, now=None]\u001b[A\u001b[A\u001b[A\n",
            "\n",
            "\n",
            "chunk:  69%|████████████████████████████████████████████████████████████████▍                            | 918/1324 [00:00<00:00, 9143.08it/s, now=None]\u001b[A\u001b[A\u001b[A\n",
            "\n",
            "\n",
            "                                                                                                                                                        \u001b[A\u001b[A\u001b[A"
          ]
        },
        {
          "name": "stdout",
          "output_type": "stream",
          "text": [
            "MoviePy - Done.\n",
            "MoviePy - Writing audio in temp_audio.wav\n"
          ]
        },
        {
          "name": "stderr",
          "output_type": "stream",
          "text": [
            "\n",
            "\n",
            "\n",
            "chunk:   0%|                                                                                                         | 0/1324 [00:00<?, ?it/s, now=None]\u001b[A\u001b[A\u001b[A\n",
            "\n",
            "\n",
            "chunk:  57%|████████████████████████████████████████████████████▉                                        | 753/1324 [00:00<00:00, 7528.27it/s, now=None]\u001b[A\u001b[A\u001b[A\n",
            "\n",
            "\n",
            "                                                                                                                                                        \u001b[A\u001b[A\u001b[A"
          ]
        },
        {
          "name": "stdout",
          "output_type": "stream",
          "text": [
            "MoviePy - Done.\n",
            "MoviePy - Writing audio in temp_audio.wav\n"
          ]
        },
        {
          "name": "stderr",
          "output_type": "stream",
          "text": [
            "\n",
            "\n",
            "\n",
            "chunk:   0%|                                                                                                         | 0/1324 [00:00<?, ?it/s, now=None]\u001b[A\u001b[A\u001b[A\n",
            "\n",
            "\n",
            "chunk:  60%|████████████████████████████████████████████████████████▎                                    | 801/1324 [00:00<00:00, 8006.53it/s, now=None]\u001b[A\u001b[A\u001b[A\n",
            "\n",
            "\n",
            "                                                                                                                                                        \u001b[A\u001b[A\u001b[A"
          ]
        },
        {
          "name": "stdout",
          "output_type": "stream",
          "text": [
            "MoviePy - Done.\n",
            "MoviePy - Writing audio in temp_audio.wav\n"
          ]
        },
        {
          "name": "stderr",
          "output_type": "stream",
          "text": [
            "\n",
            "\n",
            "\n",
            "chunk:   0%|                                                                                                         | 0/1324 [00:00<?, ?it/s, now=None]\u001b[A\u001b[A\u001b[A\n",
            "\n",
            "\n",
            "chunk:  69%|████████████████████████████████████████████████████████████████▍                            | 918/1324 [00:00<00:00, 9076.33it/s, now=None]\u001b[A\u001b[A\u001b[A\n",
            "\n",
            "\n",
            "                                                                                                                                                        \u001b[A\u001b[A\u001b[A"
          ]
        },
        {
          "name": "stdout",
          "output_type": "stream",
          "text": [
            "MoviePy - Done.\n",
            "MoviePy - Writing audio in temp_audio.wav\n"
          ]
        },
        {
          "name": "stderr",
          "output_type": "stream",
          "text": [
            "\n",
            "\n",
            "\n",
            "chunk:   0%|                                                                                                         | 0/1324 [00:00<?, ?it/s, now=None]\u001b[A\u001b[A\u001b[A\n",
            "\n",
            "\n",
            "chunk:  65%|████████████████████████████████████████████████████████████▉                                | 867/1324 [00:00<00:00, 8529.37it/s, now=None]\u001b[A\u001b[A\u001b[A\n",
            "\n",
            "\n",
            "                                                                                                                                                        \u001b[A\u001b[A\u001b[A"
          ]
        },
        {
          "name": "stdout",
          "output_type": "stream",
          "text": [
            "MoviePy - Done.\n",
            "MoviePy - Writing audio in temp_audio.wav\n"
          ]
        },
        {
          "name": "stderr",
          "output_type": "stream",
          "text": [
            "\n",
            "\n",
            "\n",
            "chunk:   0%|                                                                                                         | 0/1324 [00:00<?, ?it/s, now=None]\u001b[A\u001b[A\u001b[A\n",
            "\n",
            "\n",
            "chunk:  71%|█████████████████████████████████████████████████████████████████▊                           | 937/1324 [00:00<00:00, 9369.74it/s, now=None]\u001b[A\u001b[A\u001b[A\n",
            "\n",
            "\n",
            "                                                                                                                                                        \u001b[A\u001b[A\u001b[A"
          ]
        },
        {
          "name": "stdout",
          "output_type": "stream",
          "text": [
            "MoviePy - Done.\n",
            "MoviePy - Writing audio in temp_audio.wav\n"
          ]
        },
        {
          "name": "stderr",
          "output_type": "stream",
          "text": [
            "\n",
            "\n",
            "\n",
            "chunk:   0%|                                                                                                          | 0/968 [00:00<?, ?it/s, now=None]\u001b[A\u001b[A\u001b[A\n",
            "\n",
            "\n",
            "chunk:  84%|███████████████████████████████████████████████████████████████████████████████▏              | 816/968 [00:00<00:00, 8105.78it/s, now=None]\u001b[A\u001b[A\u001b[A\n",
            "\n",
            "\n",
            "                                                                                                                                                        \u001b[A\u001b[A\u001b[A"
          ]
        },
        {
          "name": "stdout",
          "output_type": "stream",
          "text": [
            "MoviePy - Done.\n",
            "MoviePy - Writing audio in temp_audio.wav\n"
          ]
        },
        {
          "name": "stderr",
          "output_type": "stream",
          "text": [
            "\n",
            "\n",
            "\n",
            "chunk:   0%|                                                                                                          | 0/809 [00:00<?, ?it/s, now=None]\u001b[A\u001b[A\u001b[A\n",
            "\n",
            "\n",
            "chunk:  95%|████████████████████████████████████████████████████████████████████████████████████████▉     | 765/809 [00:00<00:00, 6895.34it/s, now=None]\u001b[A\u001b[A\u001b[A\n",
            "\n",
            "\n",
            "                                                                                                                                                        \u001b[A\u001b[A\u001b[A"
          ]
        },
        {
          "name": "stdout",
          "output_type": "stream",
          "text": [
            "MoviePy - Done.\n",
            "MoviePy - Writing audio in temp_audio.wav\n"
          ]
        },
        {
          "name": "stderr",
          "output_type": "stream",
          "text": [
            "\n",
            "\n",
            "\n",
            "chunk:   0%|                                                                                                         | 0/1324 [00:00<?, ?it/s, now=None]\u001b[A\u001b[A\u001b[A\n",
            "\n",
            "\n",
            "chunk:  71%|██████████████████████████████████████████████████████████████████                           | 940/1324 [00:00<00:00, 9399.40it/s, now=None]\u001b[A\u001b[A\u001b[A\n",
            "\n",
            "\n",
            "                                                                                                                                                        \u001b[A\u001b[A\u001b[A"
          ]
        },
        {
          "name": "stdout",
          "output_type": "stream",
          "text": [
            "MoviePy - Done.\n",
            "MoviePy - Writing audio in temp_audio.wav\n"
          ]
        },
        {
          "name": "stderr",
          "output_type": "stream",
          "text": [
            "\n",
            "\n",
            "\n",
            "chunk:   0%|                                                                                                          | 0/341 [00:00<?, ?it/s, now=None]\u001b[A\u001b[A\u001b[A\n",
            "\n",
            "\n",
            "                                                                                                                                                        \u001b[A\u001b[A\u001b[A"
          ]
        },
        {
          "name": "stdout",
          "output_type": "stream",
          "text": [
            "MoviePy - Done.\n",
            "An unexpected error occurred:\n",
            "'NoneType' object has no attribute 'subclip'\n",
            "MoviePy - Writing audio in temp_audio.wav\n"
          ]
        },
        {
          "name": "stderr",
          "output_type": "stream",
          "text": [
            "\n",
            "\n",
            "\n",
            "chunk:   0%|                                                                                                         | 0/1324 [00:00<?, ?it/s, now=None]\u001b[A\u001b[A\u001b[A\n",
            "\n",
            "\n",
            "chunk:  65%|████████████████████████████████████████████████████████████▎                                | 858/1324 [00:00<00:00, 8578.31it/s, now=None]\u001b[A\u001b[A\u001b[A\n",
            "\n",
            "\n",
            "                                                                                                                                                        \u001b[A\u001b[A\u001b[A"
          ]
        },
        {
          "name": "stdout",
          "output_type": "stream",
          "text": [
            "MoviePy - Done.\n",
            "MoviePy - Writing audio in temp_audio.wav\n"
          ]
        },
        {
          "name": "stderr",
          "output_type": "stream",
          "text": [
            "\n",
            "\n",
            "\n",
            "chunk:   0%|                                                                                                          | 0/859 [00:00<?, ?it/s, now=None]\u001b[A\u001b[A\u001b[A\n",
            "\n",
            "\n",
            "chunk:  96%|██████████████████████████████████████████████████████████████████████████████████████████▍   | 826/859 [00:00<00:00, 8258.37it/s, now=None]\u001b[A\u001b[A\u001b[A\n",
            "\n",
            "\n",
            "                                                                                                                                                        \u001b[A\u001b[A\u001b[A"
          ]
        },
        {
          "name": "stdout",
          "output_type": "stream",
          "text": [
            "MoviePy - Done.\n"
          ]
        }
      ],
      "source": [
        "DATA_DIR = './data'\n",
        "device = 'cuda' if torch.cuda.is_available() else 'cpu'\n",
        "encoder, feature_extractor = instantiate_giga_am('models/giga_am/', device)\n",
        "embeddings_gigaam = []\n",
        "\n",
        "for data_subdir in tqdm.tqdm(os.listdir(DATA_DIR)):\n",
        "    fullpath = os.path.join(DATA_DIR, data_subdir)\n",
        "\n",
        "    if not os.path.isdir(fullpath):\n",
        "        continue\n",
        "\n",
        "    video_files = [f for f in os.listdir(fullpath) if f.lower().endswith('.mp4')]\n",
        "    logging.info(f\"Found {len(video_files)} video(s) in directory '{data_subdir}'.\")\n",
        "\n",
        "    for video_file in video_files:\n",
        "        file_path = os.path.join(fullpath, video_file)\n",
        "        output = process_gigaam(file_path, encoder, feature_extractor, device)\n",
        "\n",
        "        if output is not None:\n",
        "            logging.info(f\"Successfully processed video: {video_file}\")\n",
        "            embeddings_gigaam.append((video_file, extract_category_id(data_subdir), output))\n",
        "        else:\n",
        "            logging.warning(f\"Failed to process video: {video_file}\")\n",
        "\n",
        "gigaam_df = EmbeddingStorage(\n",
        "    filenames=list(map(lambda x: x[0], embeddings_gigaam)),\n",
        "    labels=list(map(lambda x: x[1], embeddings_gigaam)),\n",
        "    embeddings=list(map(lambda x: x[2], embeddings_gigaam)),\n",
        ")\n",
        "gigaam_df.save_to_file('data/embeddings/videomae.npz')\n",
        "\n",
        "# gigaam_df = pd.DataFrame(data=embeddings_gigaam, columns=['videoname', 'label', 'emb'])\n",
        "# gigaam_df.to_csv('data/embeddings/gigaam.csv', index=False)"
      ]
    },
    {
      "cell_type": "markdown",
      "id": "02bb0ec3-c303-470b-b04c-7c9ab1be96b8",
      "metadata": {
        "jp-MarkdownHeadingCollapsed": true,
        "id": "02bb0ec3-c303-470b-b04c-7c9ab1be96b8"
      },
      "source": [
        "#### Raw notes on GigaAM-RNNT"
      ]
    },
    {
      "cell_type": "code",
      "execution_count": null,
      "id": "4c172372-3850-4d42-9847-242436e9d962",
      "metadata": {
        "id": "4c172372-3850-4d42-9847-242436e9d962",
        "outputId": "2b632d33-180f-4f5f-856c-446832f08126"
      },
      "outputs": [
        {
          "name": "stderr",
          "output_type": "stream",
          "text": [
            "[NeMo W 2024-09-26 14:23:18 nemo_logging:349] /home/eduard/Рабочий стол/video-tagging/video-tag/lib/python3.10/site-packages/megatron/core/tensor_parallel/layers.py:254: FutureWarning: `torch.cuda.amp.custom_fwd(args...)` is deprecated. Please use `torch.amp.custom_fwd(args..., device_type='cuda')` instead.\n",
            "      def forward(\n",
            "    \n",
            "[NeMo W 2024-09-26 14:23:18 nemo_logging:349] /home/eduard/Рабочий стол/video-tagging/video-tag/lib/python3.10/site-packages/megatron/core/tensor_parallel/layers.py:265: FutureWarning: `torch.cuda.amp.custom_bwd(args...)` is deprecated. Please use `torch.amp.custom_bwd(args..., device_type='cuda')` instead.\n",
            "      def backward(ctx, grad_output):\n",
            "    \n",
            "[NeMo W 2024-09-26 14:23:18 nemo_logging:349] /home/eduard/Рабочий стол/video-tagging/video-tag/lib/python3.10/site-packages/megatron/core/tensor_parallel/layers.py:325: FutureWarning: `torch.cuda.amp.custom_fwd(args...)` is deprecated. Please use `torch.amp.custom_fwd(args..., device_type='cuda')` instead.\n",
            "      def forward(\n",
            "    \n",
            "[NeMo W 2024-09-26 14:23:18 nemo_logging:349] /home/eduard/Рабочий стол/video-tagging/video-tag/lib/python3.10/site-packages/megatron/core/tensor_parallel/layers.py:360: FutureWarning: `torch.cuda.amp.custom_bwd(args...)` is deprecated. Please use `torch.amp.custom_bwd(args..., device_type='cuda')` instead.\n",
            "      def backward(ctx, grad_output):\n",
            "    \n"
          ]
        }
      ],
      "source": [
        "from nemo.collections.asr.models import EncDecRNNTBPEModel\n",
        "from nemo.collections.asr.modules.audio_preprocessing import (\n",
        "    AudioToMelSpectrogramPreprocessor as NeMoAudioToMelSpectrogramPreprocessor,\n",
        ")\n",
        "from nemo.collections.asr.parts.preprocessing.features import (\n",
        "    FilterbankFeaturesTA as NeMoFilterbankFeaturesTA,\n",
        ")"
      ]
    },
    {
      "cell_type": "markdown",
      "id": "95f29bba-ce04-4648-9b94-8ee18ab02761",
      "metadata": {
        "id": "95f29bba-ce04-4648-9b94-8ee18ab02761"
      },
      "source": [
        "Download config, weights, tokenizer"
      ]
    },
    {
      "cell_type": "code",
      "execution_count": null,
      "id": "e4ba5ac2-c036-4440-acfe-117e1505fd49",
      "metadata": {
        "id": "e4ba5ac2-c036-4440-acfe-117e1505fd49"
      },
      "outputs": [],
      "source": [
        "# !wget https://n-ws-q0bez.s3pd12.sbercloud.ru/b-ws-q0bez-jpv/GigaAM/rnnt_model_weights.ckpt\n",
        "# !wget https://n-ws-q0bez.s3pd12.sbercloud.ru/b-ws-q0bez-jpv/GigaAM/rnnt_model_config.yaml\n",
        "# !wget https://n-ws-q0bez.s3pd12.sbercloud.ru/b-ws-q0bez-jpv/GigaAM/example.wav\n",
        "# !wget https://n-ws-q0bez.s3pd12.sbercloud.ru/b-ws-q0bez-jpv/GigaAM/long_example.wav\n",
        "# !wget https://n-ws-q0bez.s3pd12.sbercloud.ru/b-ws-q0bez-jpv/GigaAM/tokenizer_all_sets.tar\n",
        "# !tar -xf tokenizer_all_sets.tar && rm tokenizer_all_sets.tar"
      ]
    },
    {
      "cell_type": "markdown",
      "id": "d0ca9afa-3cb6-4a7d-81dc-0b5ca7a25883",
      "metadata": {
        "id": "d0ca9afa-3cb6-4a7d-81dc-0b5ca7a25883"
      },
      "source": [
        "Modules for feature Extraction"
      ]
    },
    {
      "cell_type": "code",
      "execution_count": null,
      "id": "429d0897-4317-4089-be02-26494c11e59a",
      "metadata": {
        "id": "429d0897-4317-4089-be02-26494c11e59a"
      },
      "outputs": [],
      "source": [
        "class FilterbankFeaturesTA(NeMoFilterbankFeaturesTA):\n",
        "    def __init__(self, mel_scale: str = \"htk\", wkwargs=None, **kwargs):\n",
        "        if \"window_size\" in kwargs:\n",
        "            del kwargs[\"window_size\"]\n",
        "        if \"window_stride\" in kwargs:\n",
        "            del kwargs[\"window_stride\"]\n",
        "\n",
        "        super().__init__(**kwargs)\n",
        "\n",
        "        self._mel_spec_extractor: torchaudio.transforms.MelSpectrogram = (\n",
        "            torchaudio.transforms.MelSpectrogram(\n",
        "                sample_rate=self._sample_rate,\n",
        "                win_length=self.win_length,\n",
        "                hop_length=self.hop_length,\n",
        "                n_mels=kwargs[\"nfilt\"],\n",
        "                window_fn=self.torch_windows[kwargs[\"window\"]],\n",
        "                mel_scale=mel_scale,\n",
        "                norm=kwargs[\"mel_norm\"],\n",
        "                n_fft=kwargs[\"n_fft\"],\n",
        "                f_max=kwargs.get(\"highfreq\", None),\n",
        "                f_min=kwargs.get(\"lowfreq\", 0),\n",
        "                wkwargs=wkwargs,\n",
        "            )\n",
        "        )\n",
        "\n",
        "\n",
        "class AudioToMelSpectrogramPreprocessor(NeMoAudioToMelSpectrogramPreprocessor):\n",
        "    def __init__(self, mel_scale: str = \"htk\", **kwargs):\n",
        "        super().__init__(**kwargs)\n",
        "        kwargs[\"nfilt\"] = kwargs[\"features\"]\n",
        "        del kwargs[\"features\"]\n",
        "        self.featurizer = (\n",
        "            FilterbankFeaturesTA(  # Deprecated arguments; kept for config compatibility\n",
        "                mel_scale=mel_scale,\n",
        "                **kwargs,\n",
        "            )\n",
        "        )"
      ]
    },
    {
      "cell_type": "markdown",
      "id": "9366a83e-0e88-446b-bcf2-a872f941298d",
      "metadata": {
        "id": "9366a83e-0e88-446b-bcf2-a872f941298d"
      },
      "source": [
        "Inference example"
      ]
    },
    {
      "cell_type": "code",
      "execution_count": null,
      "id": "b361e9e5-0600-4364-8bd2-8ddf68ed14ba",
      "metadata": {
        "id": "b361e9e5-0600-4364-8bd2-8ddf68ed14ba",
        "outputId": "617e3fc5-d9a6-4668-c68c-7a950696baa4"
      },
      "outputs": [
        {
          "name": "stdout",
          "output_type": "stream",
          "text": [
            "[NeMo I 2024-09-26 14:40:59 mixins:172] Tokenizer SentencePieceTokenizer initialized with 512 tokens\n"
          ]
        },
        {
          "name": "stderr",
          "output_type": "stream",
          "text": [
            "[NeMo W 2024-09-26 14:40:59 audio_to_text_dataset:830] Could not load dataset as `manifest_filepath` was None. Provided config : {'shuffle': False, 'manifest_filepath': None}\n"
          ]
        },
        {
          "name": "stdout",
          "output_type": "stream",
          "text": [
            "[NeMo I 2024-09-26 14:40:59 features:289] PADDING: 0\n",
            "[NeMo I 2024-09-26 14:41:00 rnnt_models:217] Using RNNT Loss : warprnnt_numba\n",
            "    Loss warprnnt_numba_kwargs: {'fastemit_lambda': 0.0, 'clamp': -1.0}\n"
          ]
        },
        {
          "name": "stderr",
          "output_type": "stream",
          "text": [
            "[NeMo W 2024-09-26 14:41:00 nemo_logging:349] /tmp/ipykernel_206253/913905516.py:4: FutureWarning: You are using `torch.load` with `weights_only=False` (the current default value), which uses the default pickle module implicitly. It is possible to construct malicious pickle data which will execute arbitrary code during unpickling (See https://github.com/pytorch/pytorch/blob/main/SECURITY.md#untrusted-models for more details). In a future release, the default value for `weights_only` will be flipped to `True`. This limits the functions that could be executed during unpickling. Arbitrary objects will no longer be allowed to be loaded via this mode unless they are explicitly allowlisted by the user via `torch.serialization.add_safe_globals`. We recommend you start setting `weights_only=True` for any use case where you don't have full control of the loaded file. Please open an issue on GitHub for any issues related to this experimental feature.\n",
            "      ckpt = torch.load(\"./models/giga_am/rnnt_model_weights.ckpt\", map_location=\"cpu\")\n",
            "    \n"
          ]
        }
      ],
      "source": [
        "device = \"cuda\" if torch.cuda.is_available() else \"cpu\"\n",
        "\n",
        "model = EncDecRNNTBPEModel.from_config_file(\"./models/giga_am/rnnt_model_config.yaml\")\n",
        "ckpt = torch.load(\"./models/giga_am/rnnt_model_weights.ckpt\", map_location=\"cpu\")\n",
        "model.load_state_dict(ckpt, strict=False)\n",
        "model.eval()\n",
        "model = model.to(device)"
      ]
    },
    {
      "cell_type": "code",
      "execution_count": null,
      "id": "1e9af033-0291-4487-918b-5f6f5a92d6aa",
      "metadata": {
        "id": "1e9af033-0291-4487-918b-5f6f5a92d6aa"
      },
      "outputs": [],
      "source": [
        "with torch.no_grad():\n",
        "    outp = model.transcribe([\"./example.wav\"])[0]\n",
        "    print(outp)\n",
        "\n",
        "with torch.no_grad():\n",
        "    outp = model.transcribe([\"./long_example.wav\"])[0]\n",
        "    print(outp)\n",
        "\n",
        "with torch.no_grad():\n",
        "    outp = model.transcribe([\"./temp_audio.wav\"])[0]\n",
        "    print(outp)\n",
        "\n",
        "file_path_1 = 'example.wav'\n",
        "audio, sr = librosa.load(file_path_1, sr=None, mono=False)\n",
        "print(audio.shape)\n",
        "\n",
        "file_path_2 = 'long_example.wav'\n",
        "audio, sr = librosa.load(file_path_2, sr=None, mono=False)\n",
        "print(audio.shape)\n",
        "\n",
        "file_path_3 = 'temp_audio.wav'\n",
        "audio, sr = librosa.load(file_path_3, sr=None, mono=False)\n",
        "print(audio.shape)"
      ]
    },
    {
      "cell_type": "markdown",
      "id": "9e1da606-4e0a-410e-9db7-07c23cd13f61",
      "metadata": {
        "jp-MarkdownHeadingCollapsed": true,
        "id": "9e1da606-4e0a-410e-9db7-07c23cd13f61"
      },
      "source": [
        "#### Inference Whisper-V3"
      ]
    },
    {
      "cell_type": "code",
      "execution_count": null,
      "id": "4943f722-da0f-4e19-b8db-27a09b1f3065",
      "metadata": {
        "id": "4943f722-da0f-4e19-b8db-27a09b1f3065"
      },
      "outputs": [],
      "source": [
        "def instantiate_whisper(device: str = 'cuda', torch_dtype = torch.float16):\n",
        "    model = AutoModelForSpeechSeq2Seq.from_pretrained(\n",
        "        \"models/whisper_model\", torch_dtype=torch_dtype, low_cpu_mem_usage=True, use_safetensors=True\n",
        "    ).to(device)\n",
        "    processor = AutoProcessor.from_pretrained(\"models/whisper_processor\")\n",
        "\n",
        "    model.eval()\n",
        "\n",
        "    pipe = pipeline(\n",
        "        \"automatic-speech-recognition\",\n",
        "        model=model,\n",
        "        tokenizer=processor.tokenizer,\n",
        "        feature_extractor=processor.feature_extractor,\n",
        "        torch_dtype=torch_dtype,\n",
        "        device=device,\n",
        "        chunk_length_s=30,\n",
        "        stride_length_s=5\n",
        "    )\n",
        "\n",
        "    return model, processor, pipe\n",
        "\n",
        "\n",
        "def process_whisper(\n",
        "    video_path: str,\n",
        "    model,\n",
        "    processor,\n",
        "    asr_pipe,\n",
        "    device = 'cuda',\n",
        "    torch_dtype = torch.float16,\n",
        "    audio_duration: int = 60,\n",
        "    audio_sampling_rate: int = 16000\n",
        ") -> torch.Tensor:\n",
        "    try:\n",
        "        inp_sample = {\"path\": video_path}\n",
        "        test_sample = speech_file_to_array_fn(inp_sample, audio_duration, audio_sampling_rate)\n",
        "\n",
        "        if test_sample is None:\n",
        "            return None, None\n",
        "\n",
        "        inputs = processor(test_sample['speech'], sampling_rate=audio_sampling_rate, return_tensors=\"pt\")\n",
        "        input_features = inputs.input_features.type(torch_dtype).to(device)\n",
        "\n",
        "        with torch.no_grad():\n",
        "            encoder_outputs = model.model.encoder(input_features)\n",
        "\n",
        "        output = encoder_outputs.last_hidden_state.mean(dim=1).squeeze().cpu()\n",
        "\n",
        "        sample = {'raw': test_sample['speech'], 'sampling_rate': audio_sampling_rate}\n",
        "        decoded_speech = asr_pipe(sample)\n",
        "\n",
        "        return output, decoded_speech['text']\n",
        "\n",
        "    except Exception as e:\n",
        "        logging.error(f\"Unexpected error: {e}\")\n",
        "        print(\"An unexpected error occurred:\")\n",
        "        print(e)"
      ]
    },
    {
      "cell_type": "code",
      "execution_count": null,
      "id": "8f19f636-130a-43bf-9864-86387603c696",
      "metadata": {
        "id": "8f19f636-130a-43bf-9864-86387603c696",
        "outputId": "f07b6a23-9f8b-43aa-946a-b7d9550df3d0"
      },
      "outputs": [
        {
          "name": "stdout",
          "output_type": "stream",
          "text": [
            "MoviePy - Writing audio in temp_audio.wav\n"
          ]
        },
        {
          "name": "stderr",
          "output_type": "stream",
          "text": [
            "\n",
            "chunk:   0%|                                                                                                         | 0/1324 [00:00<?, ?it/s, now=None]\u001b[A\n",
            "chunk:  66%|█████████████████████████████████████████████████████████████▋                               | 879/1324 [00:00<00:00, 8785.17it/s, now=None]\u001b[A\n",
            "                                                                                                                                                        \u001b[A"
          ]
        },
        {
          "name": "stdout",
          "output_type": "stream",
          "text": [
            "MoviePy - Done.\n",
            "MoviePy - Writing audio in temp_audio.wav\n"
          ]
        },
        {
          "name": "stderr",
          "output_type": "stream",
          "text": [
            "\n",
            "chunk:   0%|                                                                                                          | 0/968 [00:00<?, ?it/s, now=None]\u001b[A\n",
            "chunk:  95%|█████████████████████████████████████████████████████████████████████████████████████████▎    | 920/968 [00:00<00:00, 9193.41it/s, now=None]\u001b[A\n",
            "                                                                                                                                                        \u001b[A"
          ]
        },
        {
          "name": "stdout",
          "output_type": "stream",
          "text": [
            "MoviePy - Done.\n",
            "MoviePy - Writing audio in temp_audio.wav\n"
          ]
        },
        {
          "name": "stderr",
          "output_type": "stream",
          "text": [
            "\n",
            "chunk:   0%|                                                                                                          | 0/809 [00:00<?, ?it/s, now=None]\u001b[A\n",
            "                                                                                                                                                        \u001b[A"
          ]
        },
        {
          "name": "stdout",
          "output_type": "stream",
          "text": [
            "MoviePy - Done.\n",
            "MoviePy - Writing audio in temp_audio.wav\n"
          ]
        },
        {
          "name": "stderr",
          "output_type": "stream",
          "text": [
            "\n",
            "chunk:   0%|                                                                                                         | 0/1324 [00:00<?, ?it/s, now=None]\u001b[A\n",
            "chunk:  73%|████████████████████████████████████████████████████████████████████                         | 969/1324 [00:00<00:00, 9586.40it/s, now=None]\u001b[A\n",
            "                                                                                                                                                        \u001b[A"
          ]
        },
        {
          "name": "stdout",
          "output_type": "stream",
          "text": [
            "MoviePy - Done.\n",
            "MoviePy - Writing audio in temp_audio.wav\n"
          ]
        },
        {
          "name": "stderr",
          "output_type": "stream",
          "text": [
            "\n",
            "chunk:   0%|                                                                                                          | 0/341 [00:00<?, ?it/s, now=None]\u001b[A\n",
            "                                                                                                                                                        \u001b[A"
          ]
        },
        {
          "name": "stdout",
          "output_type": "stream",
          "text": [
            "MoviePy - Done.\n",
            "MoviePy - Writing audio in temp_audio.wav\n"
          ]
        },
        {
          "name": "stderr",
          "output_type": "stream",
          "text": [
            "\n",
            "chunk:   0%|                                                                                                         | 0/1324 [00:00<?, ?it/s, now=None]\u001b[A\n",
            "chunk:  69%|████████████████████████████████████████████████████████████████▍                            | 918/1324 [00:00<00:00, 9106.82it/s, now=None]\u001b[A\n",
            "                                                                                                                                                        \u001b[A"
          ]
        },
        {
          "name": "stdout",
          "output_type": "stream",
          "text": [
            "MoviePy - Done.\n",
            "MoviePy - Writing audio in temp_audio.wav\n"
          ]
        },
        {
          "name": "stderr",
          "output_type": "stream",
          "text": [
            "\n",
            "chunk:   0%|                                                                                                          | 0/859 [00:00<?, ?it/s, now=None]\u001b[A\n",
            "                                                                                                                                                        \u001b[A"
          ]
        },
        {
          "name": "stdout",
          "output_type": "stream",
          "text": [
            "MoviePy - Done.\n"
          ]
        }
      ],
      "source": [
        "DATA_DIR = './data'\n",
        "device = 'cuda' if torch.cuda.is_available() else 'cpu'\n",
        "torch_dtype = torch.float16 if torch.cuda.is_available() else torch.float32\n",
        "\n",
        "model, processor, asr_pipe = instantiate_whisper(device, torch_dtype)\n",
        "embeddings_whisper = []\n",
        "\n",
        "for data_subdir in tqdm.tqdm(os.listdir(DATA_DIR)):\n",
        "    fullpath = os.path.join(DATA_DIR, data_subdir)\n",
        "\n",
        "    if not os.path.isdir(fullpath):\n",
        "        continue\n",
        "\n",
        "    video_files = [f for f in os.listdir(fullpath) if f.lower().endswith('.mp4')]\n",
        "    logging.info(f\"Found {len(video_files)} video(s) in directory '{data_subdir}'.\")\n",
        "\n",
        "    for video_file in video_files:\n",
        "        file_path = os.path.join(fullpath, video_file)\n",
        "        output, recov_text = process_whisper(file_path, model, processor, asr_pipe, device, torch_dtype)\n",
        "\n",
        "        if output is not None:\n",
        "            logging.info(f\"Successfully processed video: {video_file}\")\n",
        "            embeddings_whisper.append((video_file, extract_category_id(data_subdir), output.numpy(), recov_text))\n",
        "        else:\n",
        "            logging.warning(f\"Failed to process video: {video_file}\")\n",
        "\n",
        "whisper_df = EmbeddingStorage(\n",
        "    filenames=list(map(lambda x: x[0], embeddings_whisper)),\n",
        "    labels=list(map(lambda x: x[1], embeddings_whisper)),\n",
        "    embeddings=list(map(lambda x: x[2], embeddings_whisper)),\n",
        ")\n",
        "whisper_df.save_to_file('data/embeddings/whisper.npz')\n",
        "\n",
        "whisper_text_df = EmbeddingStorage(\n",
        "    filenames=list(map(lambda x: x[0], embeddings_whisper)),\n",
        "    labels=list(map(lambda x: x[1], embeddings_whisper)),\n",
        "    embeddings=list(map(lambda x: x[3], embeddings_whisper)),\n",
        ")\n",
        "whisper_text_df.save_to_file('data/embeddings/whisper_text.npz')\n",
        "\n",
        "# whisper_df = pd.DataFrame(data=embeddings_whisper, columns=['videoname', 'label', 'emb', 'text'])\n",
        "# whisper_df.to_csv('data/embeddings/whisper.csv', index=False)"
      ]
    },
    {
      "cell_type": "markdown",
      "id": "3114300c-3443-4f06-9022-40cdcdb1b377",
      "metadata": {
        "jp-MarkdownHeadingCollapsed": true,
        "id": "3114300c-3443-4f06-9022-40cdcdb1b377"
      },
      "source": [
        "## Quality metrics"
      ]
    },
    {
      "cell_type": "code",
      "execution_count": null,
      "id": "2eb38a84-07cb-45d8-b473-cfed7118b61e",
      "metadata": {
        "id": "2eb38a84-07cb-45d8-b473-cfed7118b61e"
      },
      "outputs": [],
      "source": [
        "def top_k_accuracy(target: np.ndarray, preds: np.ndarray, k: int = 10) -> float:\n",
        "    numer = 0\n",
        "    denom = target.size\n",
        "\n",
        "    for label, labels_set in zip(target, preds):\n",
        "        if label in labels_set[:k]:\n",
        "            numer += 1\n",
        "\n",
        "    return numer * 1.0 / denom\n",
        "\n",
        "def string_to_numpy(tensor_string):\n",
        "    tensor_string = tensor_string.replace('tensor(', '').rstrip(')')\n",
        "    tensor_data = ast.literal_eval(tensor_string)\n",
        "    tensor = torch.tensor(tensor_data)\n",
        "\n",
        "    return tensor\n",
        "\n",
        "def string_to_numpy(tensor_string):\n",
        "    tensor_string = tensor_string.replace('tensor(', '').rstrip(')')\n",
        "    tensor_data = ast.literal_eval(tensor_string)\n",
        "    tensor_numpied = torch.tensor(tensor_data).numpy()\n",
        "\n",
        "    return tensor_numpied\n",
        "\n",
        "\n",
        "label_data = [\n",
        "    (0, 'Авто-мото'),\n",
        "    (1, 'Аниме'),\n",
        "    (2, 'Аудиокниги'),\n",
        "    (3, 'Бизнес'),\n",
        "    (4, 'Видеоигры'),\n",
        "    (5, 'Интервью'),\n",
        "    (6, 'Искусство'),\n",
        "    (7, 'Кино'),\n",
        "    (8, 'Красота'),\n",
        "    (9, 'Кулинария'),\n",
        "    (10, 'Лайфхаки'),\n",
        "    (11, 'Музыка'),\n",
        "    (12, 'Мультфильмы'),\n",
        "    (13, 'Новости'),\n",
        "    (14, 'Обучение'),\n",
        "    (15, 'Охота и рыбалка'),\n",
        "    (16, 'Политика'),\n",
        "    (17, 'Психология'),\n",
        "    (18, 'Путешествия'),\n",
        "    (19, 'Сериалы'),\n",
        "    (20, 'Спорт'),\n",
        "    (22, 'Юмор'),\n",
        "    (25, 'Лайфстайл'),\n",
        "    (26, 'Недвижимость'),\n",
        "    (27, 'Здоровье'),\n",
        "    (28, 'Природа'),\n",
        "    (29, 'Дизайн'),\n",
        "    (30, 'Техника и оборудование'),\n",
        "    (31, 'Бизнес и предпринимательство'),\n",
        "    (32, 'Культура'),\n",
        "    (33, 'Религия'),\n",
        "    (34, 'Строительство и ремонт'),\n",
        "    (35, 'Сад и огород'),\n",
        "    (36, 'Еда'),\n",
        "    (37, 'Развлечения'),\n",
        "    (38, 'Эзотерика'),\n",
        "    (39, 'Наука'),\n",
        "    (40, 'Аудио'),\n",
        "    (41, 'Технологии и интернет'),\n",
        "    (42, 'Телепередачи'),\n",
        "    (43, 'Детям'),\n",
        "    (44, 'Хобби'),\n",
        "    (45, 'Разное'),\n",
        "    (46, 'Животные'),\n",
        "    (47, 'Новости и СМИ'),\n",
        "    (48, 'Фильмы'),\n",
        "    (49, 'Блогеры')\n",
        "]\n",
        "label_df = pd.DataFrame(label_data, columns=['tag_id', 'tag'])"
      ]
    },
    {
      "cell_type": "markdown",
      "id": "78c46905-c5e7-4816-bbed-7b058044ea42",
      "metadata": {
        "id": "78c46905-c5e7-4816-bbed-7b058044ea42"
      },
      "source": [
        "## X-CLIP"
      ]
    },
    {
      "cell_type": "markdown",
      "id": "b4fccd24-5243-48a0-923f-bd863a40cfe7",
      "metadata": {
        "jp-MarkdownHeadingCollapsed": true,
        "id": "b4fccd24-5243-48a0-923f-bd863a40cfe7"
      },
      "source": [
        "### No context"
      ]
    },
    {
      "cell_type": "code",
      "execution_count": null,
      "id": "ea9bcb58-799a-401a-94c7-27765a51dcbb",
      "metadata": {
        "id": "ea9bcb58-799a-401a-94c7-27765a51dcbb"
      },
      "outputs": [],
      "source": [
        "tag_id_to_index"
      ]
    },
    {
      "cell_type": "code",
      "execution_count": null,
      "id": "ca394c4b-de27-4b9b-8d08-232c3c970c49",
      "metadata": {
        "id": "ca394c4b-de27-4b9b-8d08-232c3c970c49"
      },
      "outputs": [],
      "source": [
        "clip_df = pd.read_csv('data/embeddings/x-clip-v2.csv')\n",
        "tag_id_to_index = dict(zip(label_df.tag_id, label_df.index))"
      ]
    },
    {
      "cell_type": "markdown",
      "id": "2a82fc2b-1cbc-49d5-a65c-2ec9fea79aa3",
      "metadata": {
        "id": "2a82fc2b-1cbc-49d5-a65c-2ec9fea79aa3"
      },
      "source": [
        "Accuracy of first window"
      ]
    },
    {
      "cell_type": "code",
      "execution_count": null,
      "id": "923c4954-968f-4c61-bd95-fdbe0840c206",
      "metadata": {
        "id": "923c4954-968f-4c61-bd95-fdbe0840c206",
        "outputId": "91fa3189-3317-49aa-99bc-5b81939c939e"
      },
      "outputs": [
        {
          "name": "stdout",
          "output_type": "stream",
          "text": [
            "Top 1 accuracy: 8.16831683168317\n",
            "Top 5 accuracy: 19.554455445544555\n",
            "Top 10 accuracy: 32.17821782178218\n"
          ]
        }
      ],
      "source": [
        "clip_id_label = clip_df.label.apply(lambda x: tag_id_to_index[x]).values\n",
        "top_n_predictions = np.vstack(clip_df.probs.apply(lambda x: np.argsort(string_to_numpy(x))[0, :][::-1]))\n",
        "\n",
        "print('Top 1 accuracy:', top_k_accuracy(clip_id_label, top_n_predictions, 1) * 100)\n",
        "print('Top 5 accuracy:', top_k_accuracy(clip_id_label, top_n_predictions, 5) * 100)\n",
        "print('Top 10 accuracy:', top_k_accuracy(clip_id_label, top_n_predictions, 10) * 100)"
      ]
    },
    {
      "cell_type": "markdown",
      "id": "85028f12-1bd4-4f88-9255-025f3390ccf6",
      "metadata": {
        "id": "85028f12-1bd4-4f88-9255-025f3390ccf6"
      },
      "source": [
        "Accuracy of second window"
      ]
    },
    {
      "cell_type": "code",
      "execution_count": null,
      "id": "ce3c969f-7afa-4068-aefd-d63e29631d49",
      "metadata": {
        "id": "ce3c969f-7afa-4068-aefd-d63e29631d49",
        "outputId": "e579b91b-5ea8-4b97-a741-2d29c574c297"
      },
      "outputs": [
        {
          "name": "stdout",
          "output_type": "stream",
          "text": [
            "Top 1 accuracy: 9.158415841584159\n",
            "Top 5 accuracy: 20.049504950495052\n",
            "Top 10 accuracy: 31.18811881188119\n"
          ]
        }
      ],
      "source": [
        "clip_id_label = clip_df.label.apply(lambda x: tag_id_to_index[x]).values\n",
        "top_n_predictions = np.vstack(clip_df.probs.apply(lambda x: np.argsort(string_to_numpy(x))[1, :][::-1]))\n",
        "\n",
        "print('Top 1 accuracy:', top_k_accuracy(clip_id_label, top_n_predictions, 1) * 100)\n",
        "print('Top 5 accuracy:', top_k_accuracy(clip_id_label, top_n_predictions, 5) * 100)\n",
        "print('Top 10 accuracy:', top_k_accuracy(clip_id_label, top_n_predictions, 10) * 100)"
      ]
    },
    {
      "cell_type": "markdown",
      "id": "749a5bf8-8a11-4f28-906a-e9fad0c71e58",
      "metadata": {
        "id": "749a5bf8-8a11-4f28-906a-e9fad0c71e58"
      },
      "source": [
        "Accuracy of third window"
      ]
    },
    {
      "cell_type": "code",
      "execution_count": null,
      "id": "9d0a0079-0ee2-4b66-92fe-89ef9261a50d",
      "metadata": {
        "id": "9d0a0079-0ee2-4b66-92fe-89ef9261a50d",
        "outputId": "2586b997-a52a-43d4-e876-48fd6100b878"
      },
      "outputs": [
        {
          "name": "stdout",
          "output_type": "stream",
          "text": [
            "Top 1 accuracy: 5.445544554455446\n",
            "Top 5 accuracy: 20.049504950495052\n",
            "Top 10 accuracy: 30.198019801980198\n"
          ]
        }
      ],
      "source": [
        "clip_id_label = clip_df.label.apply(lambda x: tag_id_to_index[x]).values\n",
        "top_n_predictions = np.vstack(clip_df.probs.apply(lambda x: np.argsort(string_to_numpy(x))[2, :][::-1]))\n",
        "\n",
        "print('Top 1 accuracy:', top_k_accuracy(clip_id_label, top_n_predictions, 1) * 100)\n",
        "print('Top 5 accuracy:', top_k_accuracy(clip_id_label, top_n_predictions, 5) * 100)\n",
        "print('Top 10 accuracy:', top_k_accuracy(clip_id_label, top_n_predictions, 10) * 100)"
      ]
    },
    {
      "cell_type": "markdown",
      "id": "5de9b781-207b-48c6-9fac-af44bd49005e",
      "metadata": {
        "id": "5de9b781-207b-48c6-9fac-af44bd49005e"
      },
      "source": [
        "Accuracy of average window"
      ]
    },
    {
      "cell_type": "code",
      "execution_count": null,
      "id": "e3dd260e-732c-4b61-87b4-dfc53e977140",
      "metadata": {
        "id": "e3dd260e-732c-4b61-87b4-dfc53e977140",
        "outputId": "92a70df4-b0cc-455a-a6ae-42d9d1d31f18"
      },
      "outputs": [
        {
          "name": "stdout",
          "output_type": "stream",
          "text": [
            "Top 1 accuracy: 3.9603960396039604\n",
            "Top 5 accuracy: 6.9306930693069315\n",
            "Top 10 accuracy: 10.891089108910892\n"
          ]
        }
      ],
      "source": [
        "clip_id_label = clip_df.label.apply(lambda x: tag_id_to_index[x]).values\n",
        "top_n_predictions = np.vstack(clip_df.probs.apply(lambda x: np.argsort(string_to_numpy(x)).mean(axis=0)[::-1]))\n",
        "\n",
        "print('Top 1 accuracy:', top_k_accuracy(clip_id_label, top_n_predictions, 1) * 100)\n",
        "print('Top 5 accuracy:', top_k_accuracy(clip_id_label, top_n_predictions, 5) * 100)\n",
        "print('Top 10 accuracy:', top_k_accuracy(clip_id_label, top_n_predictions, 10) * 100)"
      ]
    },
    {
      "cell_type": "markdown",
      "id": "0005ad0b-cacc-429e-9a84-cf4f043ede33",
      "metadata": {
        "jp-MarkdownHeadingCollapsed": true,
        "id": "0005ad0b-cacc-429e-9a84-cf4f043ede33"
      },
      "source": [
        "### ~~Whisper huggingface context~~"
      ]
    },
    {
      "cell_type": "markdown",
      "id": "ef05617f-9cc4-4707-ab26-13f9c476a82e",
      "metadata": {
        "id": "ef05617f-9cc4-4707-ab26-13f9c476a82e"
      },
      "source": [
        "We need to increase the maximum text size from 77 to 1024\n",
        "\n",
        "So, we have to make some tricks"
      ]
    },
    {
      "cell_type": "code",
      "execution_count": null,
      "id": "0dc61d32-a65b-41e7-81ae-6bcea8d57b6b",
      "metadata": {
        "id": "0dc61d32-a65b-41e7-81ae-6bcea8d57b6b"
      },
      "outputs": [],
      "source": [
        "POSITION_EMB_SIZE = 1024\n",
        "\n",
        "\n",
        "model, processor, window_size = instantiate_model(model_name, device)\n",
        "model.text_model.config.max_position_embeddings = POSITION_EMB_SIZE\n",
        "\n",
        "old_embedding = model.text_model.embeddings.position_embedding\n",
        "embedding_dim = old_embedding.weight.shape[1]\n",
        "new_embedding = nn.Embedding(POSITION_EMB_SIZE, embedding_dim).to(device)\n",
        "\n",
        "# Initialize the new embeddings with the old embeddings\n",
        "num_tokens_to_copy = min(old_embedding.weight.shape[0], POSITION_EMB_SIZE)\n",
        "new_embedding.weight.data[:num_tokens_to_copy, :] = old_embedding.weight.data[:num_tokens_to_copy, :]\n",
        "\n",
        "# Replace the model's position embeddings with the new embeddings\n",
        "model.text_model.embeddings.position_embedding = new_embedding\n",
        "\n",
        "processor.tokenizer.model_max_length = POSITION_EMB_SIZE"
      ]
    },
    {
      "cell_type": "code",
      "execution_count": null,
      "id": "05c7f4f6-f4e6-49fa-babf-b6b2fd98e5a2",
      "metadata": {
        "colab": {
          "referenced_widgets": [
            "e3720e559178493b8fdb9f3ad6394719"
          ]
        },
        "id": "05c7f4f6-f4e6-49fa-babf-b6b2fd98e5a2",
        "outputId": "52a9fc6f-9367-455b-bc7e-88fda4eae558"
      },
      "outputs": [
        {
          "data": {
            "application/vnd.jupyter.widget-view+json": {
              "model_id": "e3720e559178493b8fdb9f3ad6394719",
              "version_major": 2,
              "version_minor": 0
            },
            "text/plain": [
              "  0%|          | 0/48 [00:00<?, ?it/s]"
            ]
          },
          "metadata": {},
          "output_type": "display_data"
        },
        {
          "name": "stdout",
          "output_type": "stream",
          "text": [
            "True torch.Size([47, 398]) torch.Size([3, 32, 3, 224, 224])\n",
            "An unexpected error occurred:\n",
            "The size of tensor a (398) must match the size of tensor b (77) at non-singleton dimension 1\n"
          ]
        },
        {
          "ename": "RuntimeError",
          "evalue": "The size of tensor a (398) must match the size of tensor b (77) at non-singleton dimension 1",
          "output_type": "error",
          "traceback": [
            "\u001b[0;31m---------------------------------------------------------------------------\u001b[0m",
            "\u001b[0;31mRuntimeError\u001b[0m                              Traceback (most recent call last)",
            "Cell \u001b[0;32mIn[80], line 68\u001b[0m\n\u001b[1;32m     66\u001b[0m \u001b[38;5;28;01mfor\u001b[39;00m video_file \u001b[38;5;129;01min\u001b[39;00m video_files:\n\u001b[1;32m     67\u001b[0m     file_path \u001b[38;5;241m=\u001b[39m os\u001b[38;5;241m.\u001b[39mpath\u001b[38;5;241m.\u001b[39mjoin(fullpath, video_file)\n\u001b[0;32m---> 68\u001b[0m     output \u001b[38;5;241m=\u001b[39m \u001b[43mprocess_video\u001b[49m\u001b[43m(\u001b[49m\n\u001b[1;32m     69\u001b[0m \u001b[43m        \u001b[49m\u001b[43mfile_path\u001b[49m\u001b[43m,\u001b[49m\n\u001b[1;32m     70\u001b[0m \u001b[43m        \u001b[49m\u001b[43mprocessor\u001b[49m\u001b[43m,\u001b[49m\n\u001b[1;32m     71\u001b[0m \u001b[43m        \u001b[49m\u001b[43mmodel\u001b[49m\u001b[43m,\u001b[49m\n\u001b[1;32m     72\u001b[0m \u001b[43m        \u001b[49m\u001b[43mdevice\u001b[49m\u001b[43m,\u001b[49m\n\u001b[1;32m     73\u001b[0m \u001b[43m        \u001b[49m\u001b[43mdesired_frames\u001b[49m\u001b[38;5;241;43m=\u001b[39;49m\u001b[38;5;241;43m96\u001b[39;49m\u001b[43m,\u001b[49m\n\u001b[1;32m     74\u001b[0m \u001b[43m        \u001b[49m\u001b[43mwindow_size\u001b[49m\u001b[38;5;241;43m=\u001b[39;49m\u001b[43mwindow_size\u001b[49m\u001b[43m,\u001b[49m\n\u001b[1;32m     75\u001b[0m \u001b[43m        \u001b[49m\u001b[43mxclip_text_prompt\u001b[49m\u001b[38;5;241;43m=\u001b[39;49m\u001b[43mget_xclip_prompt_with_audio_context\u001b[49m\u001b[43m(\u001b[49m\u001b[43mwhisper_df\u001b[49m\u001b[43m,\u001b[49m\u001b[43m \u001b[49m\u001b[43mvideo_file\u001b[49m\u001b[43m)\u001b[49m\n\u001b[1;32m     76\u001b[0m \u001b[43m    \u001b[49m\u001b[43m)\u001b[49m\n\u001b[1;32m     78\u001b[0m     \u001b[38;5;28;01mif\u001b[39;00m output \u001b[38;5;129;01mis\u001b[39;00m \u001b[38;5;129;01mnot\u001b[39;00m \u001b[38;5;28;01mNone\u001b[39;00m:\n\u001b[1;32m     79\u001b[0m         logging\u001b[38;5;241m.\u001b[39minfo(\u001b[38;5;124mf\u001b[39m\u001b[38;5;124m\"\u001b[39m\u001b[38;5;124mSuccessfully processed video: \u001b[39m\u001b[38;5;132;01m{\u001b[39;00mvideo_file\u001b[38;5;132;01m}\u001b[39;00m\u001b[38;5;124m\"\u001b[39m)\n",
            "Cell \u001b[0;32mIn[79], line 127\u001b[0m, in \u001b[0;36mprocess_video\u001b[0;34m(video_path, image_processor, model, device, desired_frames, window_size, xclip_text_prompt)\u001b[0m\n\u001b[1;32m    125\u001b[0m \u001b[38;5;28mprint\u001b[39m(\u001b[38;5;124m\"\u001b[39m\u001b[38;5;124mAn unexpected error occurred:\u001b[39m\u001b[38;5;124m\"\u001b[39m)\n\u001b[1;32m    126\u001b[0m \u001b[38;5;28mprint\u001b[39m(e)\n\u001b[0;32m--> 127\u001b[0m \u001b[38;5;28;01mraise\u001b[39;00m e\n",
            "Cell \u001b[0;32mIn[79], line 105\u001b[0m, in \u001b[0;36mprocess_video\u001b[0;34m(video_path, image_processor, model, device, desired_frames, window_size, xclip_text_prompt)\u001b[0m\n\u001b[1;32m    103\u001b[0m \u001b[38;5;66;03m# Forward pass\u001b[39;00m\n\u001b[1;32m    104\u001b[0m \u001b[38;5;28;01mwith\u001b[39;00m torch\u001b[38;5;241m.\u001b[39mno_grad():\n\u001b[0;32m--> 105\u001b[0m     outputs \u001b[38;5;241m=\u001b[39m \u001b[43mmodel\u001b[49m\u001b[43m(\u001b[49m\u001b[38;5;241;43m*\u001b[39;49m\u001b[38;5;241;43m*\u001b[39;49m\u001b[43minputs\u001b[49m\u001b[43m)\u001b[49m\n\u001b[1;32m    107\u001b[0m \u001b[38;5;66;03m# Extract desired output\u001b[39;00m\n\u001b[1;32m    108\u001b[0m \u001b[38;5;28;01mif\u001b[39;00m \u001b[38;5;28mhasattr\u001b[39m(outputs, \u001b[38;5;124m'\u001b[39m\u001b[38;5;124mpooler_output\u001b[39m\u001b[38;5;124m'\u001b[39m):\n",
            "File \u001b[0;32m~/Рабочий стол/video-tagging/video-tag/lib/python3.10/site-packages/torch/nn/modules/module.py:1553\u001b[0m, in \u001b[0;36mModule._wrapped_call_impl\u001b[0;34m(self, *args, **kwargs)\u001b[0m\n\u001b[1;32m   1551\u001b[0m     \u001b[38;5;28;01mreturn\u001b[39;00m \u001b[38;5;28mself\u001b[39m\u001b[38;5;241m.\u001b[39m_compiled_call_impl(\u001b[38;5;241m*\u001b[39margs, \u001b[38;5;241m*\u001b[39m\u001b[38;5;241m*\u001b[39mkwargs)  \u001b[38;5;66;03m# type: ignore[misc]\u001b[39;00m\n\u001b[1;32m   1552\u001b[0m \u001b[38;5;28;01melse\u001b[39;00m:\n\u001b[0;32m-> 1553\u001b[0m     \u001b[38;5;28;01mreturn\u001b[39;00m \u001b[38;5;28;43mself\u001b[39;49m\u001b[38;5;241;43m.\u001b[39;49m\u001b[43m_call_impl\u001b[49m\u001b[43m(\u001b[49m\u001b[38;5;241;43m*\u001b[39;49m\u001b[43margs\u001b[49m\u001b[43m,\u001b[49m\u001b[43m \u001b[49m\u001b[38;5;241;43m*\u001b[39;49m\u001b[38;5;241;43m*\u001b[39;49m\u001b[43mkwargs\u001b[49m\u001b[43m)\u001b[49m\n",
            "File \u001b[0;32m~/Рабочий стол/video-tagging/video-tag/lib/python3.10/site-packages/torch/nn/modules/module.py:1562\u001b[0m, in \u001b[0;36mModule._call_impl\u001b[0;34m(self, *args, **kwargs)\u001b[0m\n\u001b[1;32m   1557\u001b[0m \u001b[38;5;66;03m# If we don't have any hooks, we want to skip the rest of the logic in\u001b[39;00m\n\u001b[1;32m   1558\u001b[0m \u001b[38;5;66;03m# this function, and just call forward.\u001b[39;00m\n\u001b[1;32m   1559\u001b[0m \u001b[38;5;28;01mif\u001b[39;00m \u001b[38;5;129;01mnot\u001b[39;00m (\u001b[38;5;28mself\u001b[39m\u001b[38;5;241m.\u001b[39m_backward_hooks \u001b[38;5;129;01mor\u001b[39;00m \u001b[38;5;28mself\u001b[39m\u001b[38;5;241m.\u001b[39m_backward_pre_hooks \u001b[38;5;129;01mor\u001b[39;00m \u001b[38;5;28mself\u001b[39m\u001b[38;5;241m.\u001b[39m_forward_hooks \u001b[38;5;129;01mor\u001b[39;00m \u001b[38;5;28mself\u001b[39m\u001b[38;5;241m.\u001b[39m_forward_pre_hooks\n\u001b[1;32m   1560\u001b[0m         \u001b[38;5;129;01mor\u001b[39;00m _global_backward_pre_hooks \u001b[38;5;129;01mor\u001b[39;00m _global_backward_hooks\n\u001b[1;32m   1561\u001b[0m         \u001b[38;5;129;01mor\u001b[39;00m _global_forward_hooks \u001b[38;5;129;01mor\u001b[39;00m _global_forward_pre_hooks):\n\u001b[0;32m-> 1562\u001b[0m     \u001b[38;5;28;01mreturn\u001b[39;00m \u001b[43mforward_call\u001b[49m\u001b[43m(\u001b[49m\u001b[38;5;241;43m*\u001b[39;49m\u001b[43margs\u001b[49m\u001b[43m,\u001b[49m\u001b[43m \u001b[49m\u001b[38;5;241;43m*\u001b[39;49m\u001b[38;5;241;43m*\u001b[39;49m\u001b[43mkwargs\u001b[49m\u001b[43m)\u001b[49m\n\u001b[1;32m   1564\u001b[0m \u001b[38;5;28;01mtry\u001b[39;00m:\n\u001b[1;32m   1565\u001b[0m     result \u001b[38;5;241m=\u001b[39m \u001b[38;5;28;01mNone\u001b[39;00m\n",
            "File \u001b[0;32m~/Рабочий стол/video-tagging/video-tag/lib/python3.10/site-packages/transformers/models/x_clip/modeling_x_clip.py:1580\u001b[0m, in \u001b[0;36mXCLIPModel.forward\u001b[0;34m(self, input_ids, pixel_values, attention_mask, position_ids, return_loss, output_attentions, output_hidden_states, return_dict)\u001b[0m\n\u001b[1;32m   1577\u001b[0m img_features \u001b[38;5;241m=\u001b[39m img_features\u001b[38;5;241m.\u001b[39mview(batch_size, num_frames, \u001b[38;5;241m-\u001b[39m\u001b[38;5;241m1\u001b[39m, video_embeds\u001b[38;5;241m.\u001b[39mshape[\u001b[38;5;241m-\u001b[39m\u001b[38;5;241m1\u001b[39m])\n\u001b[1;32m   1578\u001b[0m img_features \u001b[38;5;241m=\u001b[39m img_features\u001b[38;5;241m.\u001b[39mmean(dim\u001b[38;5;241m=\u001b[39m\u001b[38;5;241m1\u001b[39m, keepdim\u001b[38;5;241m=\u001b[39m\u001b[38;5;28;01mFalse\u001b[39;00m)\n\u001b[0;32m-> 1580\u001b[0m text_outputs \u001b[38;5;241m=\u001b[39m \u001b[38;5;28;43mself\u001b[39;49m\u001b[38;5;241;43m.\u001b[39;49m\u001b[43mtext_model\u001b[49m\u001b[43m(\u001b[49m\n\u001b[1;32m   1581\u001b[0m \u001b[43m    \u001b[49m\u001b[43minput_ids\u001b[49m\u001b[38;5;241;43m=\u001b[39;49m\u001b[43minput_ids\u001b[49m\u001b[43m,\u001b[49m\n\u001b[1;32m   1582\u001b[0m \u001b[43m    \u001b[49m\u001b[43mattention_mask\u001b[49m\u001b[38;5;241;43m=\u001b[39;49m\u001b[43mattention_mask\u001b[49m\u001b[43m,\u001b[49m\n\u001b[1;32m   1583\u001b[0m \u001b[43m    \u001b[49m\u001b[43mposition_ids\u001b[49m\u001b[38;5;241;43m=\u001b[39;49m\u001b[43mposition_ids\u001b[49m\u001b[43m,\u001b[49m\n\u001b[1;32m   1584\u001b[0m \u001b[43m    \u001b[49m\u001b[43moutput_attentions\u001b[49m\u001b[38;5;241;43m=\u001b[39;49m\u001b[43moutput_attentions\u001b[49m\u001b[43m,\u001b[49m\n\u001b[1;32m   1585\u001b[0m \u001b[43m    \u001b[49m\u001b[43moutput_hidden_states\u001b[49m\u001b[38;5;241;43m=\u001b[39;49m\u001b[43moutput_hidden_states\u001b[49m\u001b[43m,\u001b[49m\n\u001b[1;32m   1586\u001b[0m \u001b[43m    \u001b[49m\u001b[43mreturn_dict\u001b[49m\u001b[38;5;241;43m=\u001b[39;49m\u001b[43mreturn_dict\u001b[49m\u001b[43m,\u001b[49m\n\u001b[1;32m   1587\u001b[0m \u001b[43m\u001b[49m\u001b[43m)\u001b[49m\n\u001b[1;32m   1589\u001b[0m text_embeds \u001b[38;5;241m=\u001b[39m text_outputs[\u001b[38;5;241m1\u001b[39m]\n\u001b[1;32m   1590\u001b[0m text_embeds \u001b[38;5;241m=\u001b[39m \u001b[38;5;28mself\u001b[39m\u001b[38;5;241m.\u001b[39mtext_projection(text_embeds)\n",
            "File \u001b[0;32m~/Рабочий стол/video-tagging/video-tag/lib/python3.10/site-packages/torch/nn/modules/module.py:1553\u001b[0m, in \u001b[0;36mModule._wrapped_call_impl\u001b[0;34m(self, *args, **kwargs)\u001b[0m\n\u001b[1;32m   1551\u001b[0m     \u001b[38;5;28;01mreturn\u001b[39;00m \u001b[38;5;28mself\u001b[39m\u001b[38;5;241m.\u001b[39m_compiled_call_impl(\u001b[38;5;241m*\u001b[39margs, \u001b[38;5;241m*\u001b[39m\u001b[38;5;241m*\u001b[39mkwargs)  \u001b[38;5;66;03m# type: ignore[misc]\u001b[39;00m\n\u001b[1;32m   1552\u001b[0m \u001b[38;5;28;01melse\u001b[39;00m:\n\u001b[0;32m-> 1553\u001b[0m     \u001b[38;5;28;01mreturn\u001b[39;00m \u001b[38;5;28;43mself\u001b[39;49m\u001b[38;5;241;43m.\u001b[39;49m\u001b[43m_call_impl\u001b[49m\u001b[43m(\u001b[49m\u001b[38;5;241;43m*\u001b[39;49m\u001b[43margs\u001b[49m\u001b[43m,\u001b[49m\u001b[43m \u001b[49m\u001b[38;5;241;43m*\u001b[39;49m\u001b[38;5;241;43m*\u001b[39;49m\u001b[43mkwargs\u001b[49m\u001b[43m)\u001b[49m\n",
            "File \u001b[0;32m~/Рабочий стол/video-tagging/video-tag/lib/python3.10/site-packages/torch/nn/modules/module.py:1562\u001b[0m, in \u001b[0;36mModule._call_impl\u001b[0;34m(self, *args, **kwargs)\u001b[0m\n\u001b[1;32m   1557\u001b[0m \u001b[38;5;66;03m# If we don't have any hooks, we want to skip the rest of the logic in\u001b[39;00m\n\u001b[1;32m   1558\u001b[0m \u001b[38;5;66;03m# this function, and just call forward.\u001b[39;00m\n\u001b[1;32m   1559\u001b[0m \u001b[38;5;28;01mif\u001b[39;00m \u001b[38;5;129;01mnot\u001b[39;00m (\u001b[38;5;28mself\u001b[39m\u001b[38;5;241m.\u001b[39m_backward_hooks \u001b[38;5;129;01mor\u001b[39;00m \u001b[38;5;28mself\u001b[39m\u001b[38;5;241m.\u001b[39m_backward_pre_hooks \u001b[38;5;129;01mor\u001b[39;00m \u001b[38;5;28mself\u001b[39m\u001b[38;5;241m.\u001b[39m_forward_hooks \u001b[38;5;129;01mor\u001b[39;00m \u001b[38;5;28mself\u001b[39m\u001b[38;5;241m.\u001b[39m_forward_pre_hooks\n\u001b[1;32m   1560\u001b[0m         \u001b[38;5;129;01mor\u001b[39;00m _global_backward_pre_hooks \u001b[38;5;129;01mor\u001b[39;00m _global_backward_hooks\n\u001b[1;32m   1561\u001b[0m         \u001b[38;5;129;01mor\u001b[39;00m _global_forward_hooks \u001b[38;5;129;01mor\u001b[39;00m _global_forward_pre_hooks):\n\u001b[0;32m-> 1562\u001b[0m     \u001b[38;5;28;01mreturn\u001b[39;00m \u001b[43mforward_call\u001b[49m\u001b[43m(\u001b[49m\u001b[38;5;241;43m*\u001b[39;49m\u001b[43margs\u001b[49m\u001b[43m,\u001b[49m\u001b[43m \u001b[49m\u001b[38;5;241;43m*\u001b[39;49m\u001b[38;5;241;43m*\u001b[39;49m\u001b[43mkwargs\u001b[49m\u001b[43m)\u001b[49m\n\u001b[1;32m   1564\u001b[0m \u001b[38;5;28;01mtry\u001b[39;00m:\n\u001b[1;32m   1565\u001b[0m     result \u001b[38;5;241m=\u001b[39m \u001b[38;5;28;01mNone\u001b[39;00m\n",
            "File \u001b[0;32m~/Рабочий стол/video-tagging/video-tag/lib/python3.10/site-packages/transformers/models/x_clip/modeling_x_clip.py:746\u001b[0m, in \u001b[0;36mXCLIPTextTransformer.forward\u001b[0;34m(self, input_ids, attention_mask, position_ids, output_attentions, output_hidden_states, return_dict)\u001b[0m\n\u001b[1;32m    743\u001b[0m input_shape \u001b[38;5;241m=\u001b[39m input_ids\u001b[38;5;241m.\u001b[39msize()\n\u001b[1;32m    744\u001b[0m input_ids \u001b[38;5;241m=\u001b[39m input_ids\u001b[38;5;241m.\u001b[39mview(\u001b[38;5;241m-\u001b[39m\u001b[38;5;241m1\u001b[39m, input_shape[\u001b[38;5;241m-\u001b[39m\u001b[38;5;241m1\u001b[39m])\n\u001b[0;32m--> 746\u001b[0m hidden_states \u001b[38;5;241m=\u001b[39m \u001b[38;5;28;43mself\u001b[39;49m\u001b[38;5;241;43m.\u001b[39;49m\u001b[43membeddings\u001b[49m\u001b[43m(\u001b[49m\u001b[43minput_ids\u001b[49m\u001b[38;5;241;43m=\u001b[39;49m\u001b[43minput_ids\u001b[49m\u001b[43m,\u001b[49m\u001b[43m \u001b[49m\u001b[43mposition_ids\u001b[49m\u001b[38;5;241;43m=\u001b[39;49m\u001b[43mposition_ids\u001b[49m\u001b[43m)\u001b[49m\n\u001b[1;32m    748\u001b[0m \u001b[38;5;66;03m# X_CLIP's text model uses causal mask, prepare it here.\u001b[39;00m\n\u001b[1;32m    749\u001b[0m \u001b[38;5;66;03m# https://github.com/openai/CLIP/blob/cfcffb90e69f37bf2ff1e988237a0fbe41f33c04/clip/model.py#L324\u001b[39;00m\n\u001b[1;32m    750\u001b[0m causal_attention_mask \u001b[38;5;241m=\u001b[39m _create_4d_causal_attention_mask(\n\u001b[1;32m    751\u001b[0m     input_shape, hidden_states\u001b[38;5;241m.\u001b[39mdtype, device\u001b[38;5;241m=\u001b[39mhidden_states\u001b[38;5;241m.\u001b[39mdevice\n\u001b[1;32m    752\u001b[0m )\n",
            "File \u001b[0;32m~/Рабочий стол/video-tagging/video-tag/lib/python3.10/site-packages/torch/nn/modules/module.py:1553\u001b[0m, in \u001b[0;36mModule._wrapped_call_impl\u001b[0;34m(self, *args, **kwargs)\u001b[0m\n\u001b[1;32m   1551\u001b[0m     \u001b[38;5;28;01mreturn\u001b[39;00m \u001b[38;5;28mself\u001b[39m\u001b[38;5;241m.\u001b[39m_compiled_call_impl(\u001b[38;5;241m*\u001b[39margs, \u001b[38;5;241m*\u001b[39m\u001b[38;5;241m*\u001b[39mkwargs)  \u001b[38;5;66;03m# type: ignore[misc]\u001b[39;00m\n\u001b[1;32m   1552\u001b[0m \u001b[38;5;28;01melse\u001b[39;00m:\n\u001b[0;32m-> 1553\u001b[0m     \u001b[38;5;28;01mreturn\u001b[39;00m \u001b[38;5;28;43mself\u001b[39;49m\u001b[38;5;241;43m.\u001b[39;49m\u001b[43m_call_impl\u001b[49m\u001b[43m(\u001b[49m\u001b[38;5;241;43m*\u001b[39;49m\u001b[43margs\u001b[49m\u001b[43m,\u001b[49m\u001b[43m \u001b[49m\u001b[38;5;241;43m*\u001b[39;49m\u001b[38;5;241;43m*\u001b[39;49m\u001b[43mkwargs\u001b[49m\u001b[43m)\u001b[49m\n",
            "File \u001b[0;32m~/Рабочий стол/video-tagging/video-tag/lib/python3.10/site-packages/torch/nn/modules/module.py:1562\u001b[0m, in \u001b[0;36mModule._call_impl\u001b[0;34m(self, *args, **kwargs)\u001b[0m\n\u001b[1;32m   1557\u001b[0m \u001b[38;5;66;03m# If we don't have any hooks, we want to skip the rest of the logic in\u001b[39;00m\n\u001b[1;32m   1558\u001b[0m \u001b[38;5;66;03m# this function, and just call forward.\u001b[39;00m\n\u001b[1;32m   1559\u001b[0m \u001b[38;5;28;01mif\u001b[39;00m \u001b[38;5;129;01mnot\u001b[39;00m (\u001b[38;5;28mself\u001b[39m\u001b[38;5;241m.\u001b[39m_backward_hooks \u001b[38;5;129;01mor\u001b[39;00m \u001b[38;5;28mself\u001b[39m\u001b[38;5;241m.\u001b[39m_backward_pre_hooks \u001b[38;5;129;01mor\u001b[39;00m \u001b[38;5;28mself\u001b[39m\u001b[38;5;241m.\u001b[39m_forward_hooks \u001b[38;5;129;01mor\u001b[39;00m \u001b[38;5;28mself\u001b[39m\u001b[38;5;241m.\u001b[39m_forward_pre_hooks\n\u001b[1;32m   1560\u001b[0m         \u001b[38;5;129;01mor\u001b[39;00m _global_backward_pre_hooks \u001b[38;5;129;01mor\u001b[39;00m _global_backward_hooks\n\u001b[1;32m   1561\u001b[0m         \u001b[38;5;129;01mor\u001b[39;00m _global_forward_hooks \u001b[38;5;129;01mor\u001b[39;00m _global_forward_pre_hooks):\n\u001b[0;32m-> 1562\u001b[0m     \u001b[38;5;28;01mreturn\u001b[39;00m \u001b[43mforward_call\u001b[49m\u001b[43m(\u001b[49m\u001b[38;5;241;43m*\u001b[39;49m\u001b[43margs\u001b[49m\u001b[43m,\u001b[49m\u001b[43m \u001b[49m\u001b[38;5;241;43m*\u001b[39;49m\u001b[38;5;241;43m*\u001b[39;49m\u001b[43mkwargs\u001b[49m\u001b[43m)\u001b[49m\n\u001b[1;32m   1564\u001b[0m \u001b[38;5;28;01mtry\u001b[39;00m:\n\u001b[1;32m   1565\u001b[0m     result \u001b[38;5;241m=\u001b[39m \u001b[38;5;28;01mNone\u001b[39;00m\n",
            "File \u001b[0;32m~/Рабочий стол/video-tagging/video-tag/lib/python3.10/site-packages/transformers/models/x_clip/modeling_x_clip.py:165\u001b[0m, in \u001b[0;36mXCLIPTextEmbeddings.forward\u001b[0;34m(self, input_ids, position_ids, inputs_embeds)\u001b[0m\n\u001b[1;32m    162\u001b[0m     inputs_embeds \u001b[38;5;241m=\u001b[39m \u001b[38;5;28mself\u001b[39m\u001b[38;5;241m.\u001b[39mtoken_embedding(input_ids)\n\u001b[1;32m    164\u001b[0m position_embeddings \u001b[38;5;241m=\u001b[39m \u001b[38;5;28mself\u001b[39m\u001b[38;5;241m.\u001b[39mposition_embedding(position_ids)\n\u001b[0;32m--> 165\u001b[0m embeddings \u001b[38;5;241m=\u001b[39m \u001b[43minputs_embeds\u001b[49m\u001b[43m \u001b[49m\u001b[38;5;241;43m+\u001b[39;49m\u001b[43m \u001b[49m\u001b[43mposition_embeddings\u001b[49m\n\u001b[1;32m    167\u001b[0m \u001b[38;5;28;01mreturn\u001b[39;00m embeddings\n",
            "\u001b[0;31mRuntimeError\u001b[0m: The size of tensor a (398) must match the size of tensor b (77) at non-singleton dimension 1"
          ]
        }
      ],
      "source": [
        "def extract_category_id(ctgry: str) -> int:\n",
        "    return int(float(ctgry[:3]))\n",
        "\n",
        "\n",
        "def extract_text_by_video_name(whisper_df: pd.DataFrame, videoname: str):\n",
        "    if videoname not in whisper_df.videoname.values:\n",
        "        print(f\"Такого видео не существует: {videoname}\")\n",
        "        return None\n",
        "\n",
        "    text = whisper_df[whisper_df.videoname == videoname]['text']\n",
        "\n",
        "    if text is None or text is np.nan or text is pd.NA:\n",
        "        return None\n",
        "    else:\n",
        "        return text.values[0]\n",
        "\n",
        "\n",
        "def get_xclip_prompt_with_audio_context(whisper_df: pd.DataFrame, videoname: str):\n",
        "    text = extract_text_by_video_name(whisper_df, videoname)\n",
        "\n",
        "    if text is None:\n",
        "        return RUS_TEXT_PROMPT\n",
        "    else:\n",
        "        return [f\"Видео субтитры: '{text}'. \" + x for x in RUS_TEXT_PROMPT]\n",
        "\n",
        "\n",
        "def postprocess_model_and_processor(model, processor, device):\n",
        "    POSITION_EMB_SIZE = 1024\n",
        "\n",
        "    model, processor, window_size = instantiate_model(model_name, device)\n",
        "    model.text_model.config.max_position_embeddings = POSITION_EMB_SIZE\n",
        "\n",
        "    old_embedding = model.text_model.embeddings.position_embedding\n",
        "    embedding_dim = old_embedding.weight.shape[1]\n",
        "    new_embedding = nn.Embedding(POSITION_EMB_SIZE, embedding_dim).to(device)\n",
        "\n",
        "    # Initialize the new embeddings with the old embeddings\n",
        "    num_tokens_to_copy = min(old_embedding.weight.shape[0], POSITION_EMB_SIZE)\n",
        "    new_embedding.weight.data[:num_tokens_to_copy, :] = old_embedding.weight.data[:num_tokens_to_copy, :]\n",
        "\n",
        "    # Replace the model's position embeddings with the new embeddings\n",
        "    model.text_model.embeddings.position_embedding = new_embedding\n",
        "    processor.tokenizer.model_max_length = POSITION_EMB_SIZE\n",
        "\n",
        "    return model, processor\n",
        "\n",
        "\n",
        "DATA_DIR = './data'\n",
        "model_name = 'x-clip'\n",
        "device = 'cuda' if torch.cuda.is_available() else 'cpu'\n",
        "model, processor, window_size = instantiate_model(model_name, device)\n",
        "model, processor = postprocess_model_and_processor(model, processor, device)\n",
        "embeddings_xclip = []\n",
        "\n",
        "whisper_df = pd.read_csv('data/embeddings/whisper.csv')\n",
        "\n",
        "for data_subdir in tqdm.tqdm(os.listdir(DATA_DIR)):\n",
        "    fullpath = os.path.join(DATA_DIR, data_subdir)\n",
        "\n",
        "    if not os.path.isdir(fullpath):\n",
        "        continue\n",
        "\n",
        "    video_files = [f for f in os.listdir(fullpath) if f.lower().endswith('.mp4')]\n",
        "    logging.info(f\"Found {len(video_files)} video(s) in directory '{data_subdir}'.\")\n",
        "\n",
        "    for video_file in video_files:\n",
        "        file_path = os.path.join(fullpath, video_file)\n",
        "        output = process_video(\n",
        "            file_path,\n",
        "            processor,\n",
        "            model,\n",
        "            device,\n",
        "            desired_frames=96,\n",
        "            window_size=window_size,\n",
        "            xclip_text_prompt=get_xclip_prompt_with_audio_context(whisper_df, video_file)\n",
        "        )\n",
        "\n",
        "        if output is not None:\n",
        "            logging.info(f\"Successfully processed video: {video_file}\")\n",
        "            embeddings_xclip.append((video_file, extract_category_id(data_subdir), output[0], output[1]))\n",
        "        else:\n",
        "            logging.warning(f\"Failed to process video: {video_file}\")\n",
        "\n",
        "xclip_df = pd.DataFrame(data=embeddings_xclip, columns=['videoname', 'label', 'emb', 'probs'])\n",
        "xclip_df.to_csv('data/embeddings/x-clip-whisper.csv', index=False)"
      ]
    },
    {
      "cell_type": "code",
      "execution_count": null,
      "id": "5ef5bb0e-d91c-4bef-b127-67429831f2a6",
      "metadata": {
        "id": "5ef5bb0e-d91c-4bef-b127-67429831f2a6",
        "outputId": "9fdcc248-c493-4dce-cf61-d72f0cb42355"
      },
      "outputs": [
        {
          "name": "stdout",
          "output_type": "stream",
          "text": [
            "True torch.Size([47, 398]) torch.Size([3, 32, 3, 224, 224])\n",
            "An unexpected error occurred:\n",
            "The size of tensor a (398) must match the size of tensor b (77) at non-singleton dimension 1\n"
          ]
        },
        {
          "ename": "RuntimeError",
          "evalue": "The size of tensor a (398) must match the size of tensor b (77) at non-singleton dimension 1",
          "output_type": "error",
          "traceback": [
            "\u001b[0;31m---------------------------------------------------------------------------\u001b[0m",
            "\u001b[0;31mRuntimeError\u001b[0m                              Traceback (most recent call last)",
            "Cell \u001b[0;32mIn[74], line 4\u001b[0m\n\u001b[1;32m      1\u001b[0m new_text_prompt \u001b[38;5;241m=\u001b[39m get_xclip_prompt_with_audio_context(whisper_df, \u001b[38;5;124m\"\u001b[39m\u001b[38;5;124m2d102489e381cb2dc28395d3a76771b1.mp4\u001b[39m\u001b[38;5;124m\"\u001b[39m)\n\u001b[1;32m      2\u001b[0m video_path \u001b[38;5;241m=\u001b[39m \u001b[38;5;124m\"\u001b[39m\u001b[38;5;124m./data/48.0_films/2d102489e381cb2dc28395d3a76771b1.mp4\u001b[39m\u001b[38;5;124m\"\u001b[39m\n\u001b[0;32m----> 4\u001b[0m \u001b[43mprocess_video\u001b[49m\u001b[43m(\u001b[49m\n\u001b[1;32m      5\u001b[0m \u001b[43m    \u001b[49m\u001b[43mvideo_path\u001b[49m\u001b[43m,\u001b[49m\n\u001b[1;32m      6\u001b[0m \u001b[43m    \u001b[49m\u001b[43mprocessor\u001b[49m\u001b[43m,\u001b[49m\n\u001b[1;32m      7\u001b[0m \u001b[43m    \u001b[49m\u001b[43mmodel\u001b[49m\u001b[43m,\u001b[49m\n\u001b[1;32m      8\u001b[0m \u001b[43m    \u001b[49m\u001b[43mdevice\u001b[49m\u001b[43m,\u001b[49m\n\u001b[1;32m      9\u001b[0m \u001b[43m    \u001b[49m\u001b[43mxclip_text_prompt\u001b[49m\u001b[38;5;241;43m=\u001b[39;49m\u001b[43mnew_text_prompt\u001b[49m\n\u001b[1;32m     10\u001b[0m \u001b[43m)\u001b[49m\n",
            "Cell \u001b[0;32mIn[73], line 126\u001b[0m, in \u001b[0;36mprocess_video\u001b[0;34m(video_path, image_processor, model, device, desired_frames, window_size, xclip_text_prompt)\u001b[0m\n\u001b[1;32m    124\u001b[0m \u001b[38;5;28mprint\u001b[39m(\u001b[38;5;124m\"\u001b[39m\u001b[38;5;124mAn unexpected error occurred:\u001b[39m\u001b[38;5;124m\"\u001b[39m)\n\u001b[1;32m    125\u001b[0m \u001b[38;5;28mprint\u001b[39m(e)\n\u001b[0;32m--> 126\u001b[0m \u001b[38;5;28;01mraise\u001b[39;00m e\n",
            "Cell \u001b[0;32mIn[73], line 104\u001b[0m, in \u001b[0;36mprocess_video\u001b[0;34m(video_path, image_processor, model, device, desired_frames, window_size, xclip_text_prompt)\u001b[0m\n\u001b[1;32m    102\u001b[0m \u001b[38;5;66;03m# Forward pass\u001b[39;00m\n\u001b[1;32m    103\u001b[0m \u001b[38;5;28;01mwith\u001b[39;00m torch\u001b[38;5;241m.\u001b[39mno_grad():\n\u001b[0;32m--> 104\u001b[0m     outputs \u001b[38;5;241m=\u001b[39m \u001b[43mmodel\u001b[49m\u001b[43m(\u001b[49m\u001b[38;5;241;43m*\u001b[39;49m\u001b[38;5;241;43m*\u001b[39;49m\u001b[43minputs\u001b[49m\u001b[43m)\u001b[49m\n\u001b[1;32m    106\u001b[0m \u001b[38;5;66;03m# Extract desired output\u001b[39;00m\n\u001b[1;32m    107\u001b[0m \u001b[38;5;28;01mif\u001b[39;00m \u001b[38;5;28mhasattr\u001b[39m(outputs, \u001b[38;5;124m'\u001b[39m\u001b[38;5;124mpooler_output\u001b[39m\u001b[38;5;124m'\u001b[39m):\n",
            "File \u001b[0;32m~/Рабочий стол/video-tagging/video-tag/lib/python3.10/site-packages/torch/nn/modules/module.py:1553\u001b[0m, in \u001b[0;36mModule._wrapped_call_impl\u001b[0;34m(self, *args, **kwargs)\u001b[0m\n\u001b[1;32m   1551\u001b[0m     \u001b[38;5;28;01mreturn\u001b[39;00m \u001b[38;5;28mself\u001b[39m\u001b[38;5;241m.\u001b[39m_compiled_call_impl(\u001b[38;5;241m*\u001b[39margs, \u001b[38;5;241m*\u001b[39m\u001b[38;5;241m*\u001b[39mkwargs)  \u001b[38;5;66;03m# type: ignore[misc]\u001b[39;00m\n\u001b[1;32m   1552\u001b[0m \u001b[38;5;28;01melse\u001b[39;00m:\n\u001b[0;32m-> 1553\u001b[0m     \u001b[38;5;28;01mreturn\u001b[39;00m \u001b[38;5;28;43mself\u001b[39;49m\u001b[38;5;241;43m.\u001b[39;49m\u001b[43m_call_impl\u001b[49m\u001b[43m(\u001b[49m\u001b[38;5;241;43m*\u001b[39;49m\u001b[43margs\u001b[49m\u001b[43m,\u001b[49m\u001b[43m \u001b[49m\u001b[38;5;241;43m*\u001b[39;49m\u001b[38;5;241;43m*\u001b[39;49m\u001b[43mkwargs\u001b[49m\u001b[43m)\u001b[49m\n",
            "File \u001b[0;32m~/Рабочий стол/video-tagging/video-tag/lib/python3.10/site-packages/torch/nn/modules/module.py:1562\u001b[0m, in \u001b[0;36mModule._call_impl\u001b[0;34m(self, *args, **kwargs)\u001b[0m\n\u001b[1;32m   1557\u001b[0m \u001b[38;5;66;03m# If we don't have any hooks, we want to skip the rest of the logic in\u001b[39;00m\n\u001b[1;32m   1558\u001b[0m \u001b[38;5;66;03m# this function, and just call forward.\u001b[39;00m\n\u001b[1;32m   1559\u001b[0m \u001b[38;5;28;01mif\u001b[39;00m \u001b[38;5;129;01mnot\u001b[39;00m (\u001b[38;5;28mself\u001b[39m\u001b[38;5;241m.\u001b[39m_backward_hooks \u001b[38;5;129;01mor\u001b[39;00m \u001b[38;5;28mself\u001b[39m\u001b[38;5;241m.\u001b[39m_backward_pre_hooks \u001b[38;5;129;01mor\u001b[39;00m \u001b[38;5;28mself\u001b[39m\u001b[38;5;241m.\u001b[39m_forward_hooks \u001b[38;5;129;01mor\u001b[39;00m \u001b[38;5;28mself\u001b[39m\u001b[38;5;241m.\u001b[39m_forward_pre_hooks\n\u001b[1;32m   1560\u001b[0m         \u001b[38;5;129;01mor\u001b[39;00m _global_backward_pre_hooks \u001b[38;5;129;01mor\u001b[39;00m _global_backward_hooks\n\u001b[1;32m   1561\u001b[0m         \u001b[38;5;129;01mor\u001b[39;00m _global_forward_hooks \u001b[38;5;129;01mor\u001b[39;00m _global_forward_pre_hooks):\n\u001b[0;32m-> 1562\u001b[0m     \u001b[38;5;28;01mreturn\u001b[39;00m \u001b[43mforward_call\u001b[49m\u001b[43m(\u001b[49m\u001b[38;5;241;43m*\u001b[39;49m\u001b[43margs\u001b[49m\u001b[43m,\u001b[49m\u001b[43m \u001b[49m\u001b[38;5;241;43m*\u001b[39;49m\u001b[38;5;241;43m*\u001b[39;49m\u001b[43mkwargs\u001b[49m\u001b[43m)\u001b[49m\n\u001b[1;32m   1564\u001b[0m \u001b[38;5;28;01mtry\u001b[39;00m:\n\u001b[1;32m   1565\u001b[0m     result \u001b[38;5;241m=\u001b[39m \u001b[38;5;28;01mNone\u001b[39;00m\n",
            "File \u001b[0;32m~/Рабочий стол/video-tagging/video-tag/lib/python3.10/site-packages/transformers/models/x_clip/modeling_x_clip.py:1580\u001b[0m, in \u001b[0;36mXCLIPModel.forward\u001b[0;34m(self, input_ids, pixel_values, attention_mask, position_ids, return_loss, output_attentions, output_hidden_states, return_dict)\u001b[0m\n\u001b[1;32m   1577\u001b[0m img_features \u001b[38;5;241m=\u001b[39m img_features\u001b[38;5;241m.\u001b[39mview(batch_size, num_frames, \u001b[38;5;241m-\u001b[39m\u001b[38;5;241m1\u001b[39m, video_embeds\u001b[38;5;241m.\u001b[39mshape[\u001b[38;5;241m-\u001b[39m\u001b[38;5;241m1\u001b[39m])\n\u001b[1;32m   1578\u001b[0m img_features \u001b[38;5;241m=\u001b[39m img_features\u001b[38;5;241m.\u001b[39mmean(dim\u001b[38;5;241m=\u001b[39m\u001b[38;5;241m1\u001b[39m, keepdim\u001b[38;5;241m=\u001b[39m\u001b[38;5;28;01mFalse\u001b[39;00m)\n\u001b[0;32m-> 1580\u001b[0m text_outputs \u001b[38;5;241m=\u001b[39m \u001b[38;5;28;43mself\u001b[39;49m\u001b[38;5;241;43m.\u001b[39;49m\u001b[43mtext_model\u001b[49m\u001b[43m(\u001b[49m\n\u001b[1;32m   1581\u001b[0m \u001b[43m    \u001b[49m\u001b[43minput_ids\u001b[49m\u001b[38;5;241;43m=\u001b[39;49m\u001b[43minput_ids\u001b[49m\u001b[43m,\u001b[49m\n\u001b[1;32m   1582\u001b[0m \u001b[43m    \u001b[49m\u001b[43mattention_mask\u001b[49m\u001b[38;5;241;43m=\u001b[39;49m\u001b[43mattention_mask\u001b[49m\u001b[43m,\u001b[49m\n\u001b[1;32m   1583\u001b[0m \u001b[43m    \u001b[49m\u001b[43mposition_ids\u001b[49m\u001b[38;5;241;43m=\u001b[39;49m\u001b[43mposition_ids\u001b[49m\u001b[43m,\u001b[49m\n\u001b[1;32m   1584\u001b[0m \u001b[43m    \u001b[49m\u001b[43moutput_attentions\u001b[49m\u001b[38;5;241;43m=\u001b[39;49m\u001b[43moutput_attentions\u001b[49m\u001b[43m,\u001b[49m\n\u001b[1;32m   1585\u001b[0m \u001b[43m    \u001b[49m\u001b[43moutput_hidden_states\u001b[49m\u001b[38;5;241;43m=\u001b[39;49m\u001b[43moutput_hidden_states\u001b[49m\u001b[43m,\u001b[49m\n\u001b[1;32m   1586\u001b[0m \u001b[43m    \u001b[49m\u001b[43mreturn_dict\u001b[49m\u001b[38;5;241;43m=\u001b[39;49m\u001b[43mreturn_dict\u001b[49m\u001b[43m,\u001b[49m\n\u001b[1;32m   1587\u001b[0m \u001b[43m\u001b[49m\u001b[43m)\u001b[49m\n\u001b[1;32m   1589\u001b[0m text_embeds \u001b[38;5;241m=\u001b[39m text_outputs[\u001b[38;5;241m1\u001b[39m]\n\u001b[1;32m   1590\u001b[0m text_embeds \u001b[38;5;241m=\u001b[39m \u001b[38;5;28mself\u001b[39m\u001b[38;5;241m.\u001b[39mtext_projection(text_embeds)\n",
            "File \u001b[0;32m~/Рабочий стол/video-tagging/video-tag/lib/python3.10/site-packages/torch/nn/modules/module.py:1553\u001b[0m, in \u001b[0;36mModule._wrapped_call_impl\u001b[0;34m(self, *args, **kwargs)\u001b[0m\n\u001b[1;32m   1551\u001b[0m     \u001b[38;5;28;01mreturn\u001b[39;00m \u001b[38;5;28mself\u001b[39m\u001b[38;5;241m.\u001b[39m_compiled_call_impl(\u001b[38;5;241m*\u001b[39margs, \u001b[38;5;241m*\u001b[39m\u001b[38;5;241m*\u001b[39mkwargs)  \u001b[38;5;66;03m# type: ignore[misc]\u001b[39;00m\n\u001b[1;32m   1552\u001b[0m \u001b[38;5;28;01melse\u001b[39;00m:\n\u001b[0;32m-> 1553\u001b[0m     \u001b[38;5;28;01mreturn\u001b[39;00m \u001b[38;5;28;43mself\u001b[39;49m\u001b[38;5;241;43m.\u001b[39;49m\u001b[43m_call_impl\u001b[49m\u001b[43m(\u001b[49m\u001b[38;5;241;43m*\u001b[39;49m\u001b[43margs\u001b[49m\u001b[43m,\u001b[49m\u001b[43m \u001b[49m\u001b[38;5;241;43m*\u001b[39;49m\u001b[38;5;241;43m*\u001b[39;49m\u001b[43mkwargs\u001b[49m\u001b[43m)\u001b[49m\n",
            "File \u001b[0;32m~/Рабочий стол/video-tagging/video-tag/lib/python3.10/site-packages/torch/nn/modules/module.py:1562\u001b[0m, in \u001b[0;36mModule._call_impl\u001b[0;34m(self, *args, **kwargs)\u001b[0m\n\u001b[1;32m   1557\u001b[0m \u001b[38;5;66;03m# If we don't have any hooks, we want to skip the rest of the logic in\u001b[39;00m\n\u001b[1;32m   1558\u001b[0m \u001b[38;5;66;03m# this function, and just call forward.\u001b[39;00m\n\u001b[1;32m   1559\u001b[0m \u001b[38;5;28;01mif\u001b[39;00m \u001b[38;5;129;01mnot\u001b[39;00m (\u001b[38;5;28mself\u001b[39m\u001b[38;5;241m.\u001b[39m_backward_hooks \u001b[38;5;129;01mor\u001b[39;00m \u001b[38;5;28mself\u001b[39m\u001b[38;5;241m.\u001b[39m_backward_pre_hooks \u001b[38;5;129;01mor\u001b[39;00m \u001b[38;5;28mself\u001b[39m\u001b[38;5;241m.\u001b[39m_forward_hooks \u001b[38;5;129;01mor\u001b[39;00m \u001b[38;5;28mself\u001b[39m\u001b[38;5;241m.\u001b[39m_forward_pre_hooks\n\u001b[1;32m   1560\u001b[0m         \u001b[38;5;129;01mor\u001b[39;00m _global_backward_pre_hooks \u001b[38;5;129;01mor\u001b[39;00m _global_backward_hooks\n\u001b[1;32m   1561\u001b[0m         \u001b[38;5;129;01mor\u001b[39;00m _global_forward_hooks \u001b[38;5;129;01mor\u001b[39;00m _global_forward_pre_hooks):\n\u001b[0;32m-> 1562\u001b[0m     \u001b[38;5;28;01mreturn\u001b[39;00m \u001b[43mforward_call\u001b[49m\u001b[43m(\u001b[49m\u001b[38;5;241;43m*\u001b[39;49m\u001b[43margs\u001b[49m\u001b[43m,\u001b[49m\u001b[43m \u001b[49m\u001b[38;5;241;43m*\u001b[39;49m\u001b[38;5;241;43m*\u001b[39;49m\u001b[43mkwargs\u001b[49m\u001b[43m)\u001b[49m\n\u001b[1;32m   1564\u001b[0m \u001b[38;5;28;01mtry\u001b[39;00m:\n\u001b[1;32m   1565\u001b[0m     result \u001b[38;5;241m=\u001b[39m \u001b[38;5;28;01mNone\u001b[39;00m\n",
            "File \u001b[0;32m~/Рабочий стол/video-tagging/video-tag/lib/python3.10/site-packages/transformers/models/x_clip/modeling_x_clip.py:746\u001b[0m, in \u001b[0;36mXCLIPTextTransformer.forward\u001b[0;34m(self, input_ids, attention_mask, position_ids, output_attentions, output_hidden_states, return_dict)\u001b[0m\n\u001b[1;32m    743\u001b[0m input_shape \u001b[38;5;241m=\u001b[39m input_ids\u001b[38;5;241m.\u001b[39msize()\n\u001b[1;32m    744\u001b[0m input_ids \u001b[38;5;241m=\u001b[39m input_ids\u001b[38;5;241m.\u001b[39mview(\u001b[38;5;241m-\u001b[39m\u001b[38;5;241m1\u001b[39m, input_shape[\u001b[38;5;241m-\u001b[39m\u001b[38;5;241m1\u001b[39m])\n\u001b[0;32m--> 746\u001b[0m hidden_states \u001b[38;5;241m=\u001b[39m \u001b[38;5;28;43mself\u001b[39;49m\u001b[38;5;241;43m.\u001b[39;49m\u001b[43membeddings\u001b[49m\u001b[43m(\u001b[49m\u001b[43minput_ids\u001b[49m\u001b[38;5;241;43m=\u001b[39;49m\u001b[43minput_ids\u001b[49m\u001b[43m,\u001b[49m\u001b[43m \u001b[49m\u001b[43mposition_ids\u001b[49m\u001b[38;5;241;43m=\u001b[39;49m\u001b[43mposition_ids\u001b[49m\u001b[43m)\u001b[49m\n\u001b[1;32m    748\u001b[0m \u001b[38;5;66;03m# X_CLIP's text model uses causal mask, prepare it here.\u001b[39;00m\n\u001b[1;32m    749\u001b[0m \u001b[38;5;66;03m# https://github.com/openai/CLIP/blob/cfcffb90e69f37bf2ff1e988237a0fbe41f33c04/clip/model.py#L324\u001b[39;00m\n\u001b[1;32m    750\u001b[0m causal_attention_mask \u001b[38;5;241m=\u001b[39m _create_4d_causal_attention_mask(\n\u001b[1;32m    751\u001b[0m     input_shape, hidden_states\u001b[38;5;241m.\u001b[39mdtype, device\u001b[38;5;241m=\u001b[39mhidden_states\u001b[38;5;241m.\u001b[39mdevice\n\u001b[1;32m    752\u001b[0m )\n",
            "File \u001b[0;32m~/Рабочий стол/video-tagging/video-tag/lib/python3.10/site-packages/torch/nn/modules/module.py:1553\u001b[0m, in \u001b[0;36mModule._wrapped_call_impl\u001b[0;34m(self, *args, **kwargs)\u001b[0m\n\u001b[1;32m   1551\u001b[0m     \u001b[38;5;28;01mreturn\u001b[39;00m \u001b[38;5;28mself\u001b[39m\u001b[38;5;241m.\u001b[39m_compiled_call_impl(\u001b[38;5;241m*\u001b[39margs, \u001b[38;5;241m*\u001b[39m\u001b[38;5;241m*\u001b[39mkwargs)  \u001b[38;5;66;03m# type: ignore[misc]\u001b[39;00m\n\u001b[1;32m   1552\u001b[0m \u001b[38;5;28;01melse\u001b[39;00m:\n\u001b[0;32m-> 1553\u001b[0m     \u001b[38;5;28;01mreturn\u001b[39;00m \u001b[38;5;28;43mself\u001b[39;49m\u001b[38;5;241;43m.\u001b[39;49m\u001b[43m_call_impl\u001b[49m\u001b[43m(\u001b[49m\u001b[38;5;241;43m*\u001b[39;49m\u001b[43margs\u001b[49m\u001b[43m,\u001b[49m\u001b[43m \u001b[49m\u001b[38;5;241;43m*\u001b[39;49m\u001b[38;5;241;43m*\u001b[39;49m\u001b[43mkwargs\u001b[49m\u001b[43m)\u001b[49m\n",
            "File \u001b[0;32m~/Рабочий стол/video-tagging/video-tag/lib/python3.10/site-packages/torch/nn/modules/module.py:1562\u001b[0m, in \u001b[0;36mModule._call_impl\u001b[0;34m(self, *args, **kwargs)\u001b[0m\n\u001b[1;32m   1557\u001b[0m \u001b[38;5;66;03m# If we don't have any hooks, we want to skip the rest of the logic in\u001b[39;00m\n\u001b[1;32m   1558\u001b[0m \u001b[38;5;66;03m# this function, and just call forward.\u001b[39;00m\n\u001b[1;32m   1559\u001b[0m \u001b[38;5;28;01mif\u001b[39;00m \u001b[38;5;129;01mnot\u001b[39;00m (\u001b[38;5;28mself\u001b[39m\u001b[38;5;241m.\u001b[39m_backward_hooks \u001b[38;5;129;01mor\u001b[39;00m \u001b[38;5;28mself\u001b[39m\u001b[38;5;241m.\u001b[39m_backward_pre_hooks \u001b[38;5;129;01mor\u001b[39;00m \u001b[38;5;28mself\u001b[39m\u001b[38;5;241m.\u001b[39m_forward_hooks \u001b[38;5;129;01mor\u001b[39;00m \u001b[38;5;28mself\u001b[39m\u001b[38;5;241m.\u001b[39m_forward_pre_hooks\n\u001b[1;32m   1560\u001b[0m         \u001b[38;5;129;01mor\u001b[39;00m _global_backward_pre_hooks \u001b[38;5;129;01mor\u001b[39;00m _global_backward_hooks\n\u001b[1;32m   1561\u001b[0m         \u001b[38;5;129;01mor\u001b[39;00m _global_forward_hooks \u001b[38;5;129;01mor\u001b[39;00m _global_forward_pre_hooks):\n\u001b[0;32m-> 1562\u001b[0m     \u001b[38;5;28;01mreturn\u001b[39;00m \u001b[43mforward_call\u001b[49m\u001b[43m(\u001b[49m\u001b[38;5;241;43m*\u001b[39;49m\u001b[43margs\u001b[49m\u001b[43m,\u001b[49m\u001b[43m \u001b[49m\u001b[38;5;241;43m*\u001b[39;49m\u001b[38;5;241;43m*\u001b[39;49m\u001b[43mkwargs\u001b[49m\u001b[43m)\u001b[49m\n\u001b[1;32m   1564\u001b[0m \u001b[38;5;28;01mtry\u001b[39;00m:\n\u001b[1;32m   1565\u001b[0m     result \u001b[38;5;241m=\u001b[39m \u001b[38;5;28;01mNone\u001b[39;00m\n",
            "File \u001b[0;32m~/Рабочий стол/video-tagging/video-tag/lib/python3.10/site-packages/transformers/models/x_clip/modeling_x_clip.py:165\u001b[0m, in \u001b[0;36mXCLIPTextEmbeddings.forward\u001b[0;34m(self, input_ids, position_ids, inputs_embeds)\u001b[0m\n\u001b[1;32m    162\u001b[0m     inputs_embeds \u001b[38;5;241m=\u001b[39m \u001b[38;5;28mself\u001b[39m\u001b[38;5;241m.\u001b[39mtoken_embedding(input_ids)\n\u001b[1;32m    164\u001b[0m position_embeddings \u001b[38;5;241m=\u001b[39m \u001b[38;5;28mself\u001b[39m\u001b[38;5;241m.\u001b[39mposition_embedding(position_ids)\n\u001b[0;32m--> 165\u001b[0m embeddings \u001b[38;5;241m=\u001b[39m \u001b[43minputs_embeds\u001b[49m\u001b[43m \u001b[49m\u001b[38;5;241;43m+\u001b[39;49m\u001b[43m \u001b[49m\u001b[43mposition_embeddings\u001b[49m\n\u001b[1;32m    167\u001b[0m \u001b[38;5;28;01mreturn\u001b[39;00m embeddings\n",
            "\u001b[0;31mRuntimeError\u001b[0m: The size of tensor a (398) must match the size of tensor b (77) at non-singleton dimension 1"
          ]
        }
      ],
      "source": [
        "new_text_prompt = get_xclip_prompt_with_audio_context(whisper_df, \"2d102489e381cb2dc28395d3a76771b1.mp4\")\n",
        "video_path = \"./data/48.0_films/2d102489e381cb2dc28395d3a76771b1.mp4\"\n",
        "\n",
        "process_video(\n",
        "    video_path,\n",
        "    processor,\n",
        "    model,\n",
        "    device,\n",
        "    xclip_text_prompt=new_text_prompt\n",
        ")"
      ]
    },
    {
      "cell_type": "markdown",
      "id": "7889bd9c-2c15-4d65-814c-311d6cc59037",
      "metadata": {
        "id": "7889bd9c-2c15-4d65-814c-311d6cc59037"
      },
      "source": [
        "### ~~Whisper API context~~"
      ]
    },
    {
      "cell_type": "code",
      "execution_count": null,
      "id": "ba61846c-a6a7-43df-b5f5-be02978386ec",
      "metadata": {
        "id": "ba61846c-a6a7-43df-b5f5-be02978386ec"
      },
      "outputs": [],
      "source": []
    },
    {
      "cell_type": "markdown",
      "id": "dbf099bf-71e6-4e54-a9d6-4bcaa5b158f4",
      "metadata": {
        "id": "dbf099bf-71e6-4e54-a9d6-4bcaa5b158f4"
      },
      "source": [
        "## CCA"
      ]
    },
    {
      "cell_type": "code",
      "execution_count": null,
      "id": "2d8fd276-7ae8-48b4-bf90-c55ae62b1f9c",
      "metadata": {
        "id": "2d8fd276-7ae8-48b4-bf90-c55ae62b1f9c"
      },
      "outputs": [],
      "source": [
        "import numpy as np\n",
        "from sklearn.cross_decomposition import PLSRegression\n",
        "from sklearn.preprocessing import StandardScaler, LabelBinarizer\n",
        "from sklearn.model_selection import train_test_split, StratifiedKFold\n",
        "from sklearn.metrics import accuracy_score, classification_report, confusion_matrix"
      ]
    },
    {
      "cell_type": "code",
      "execution_count": null,
      "id": "a39767eb-d453-478f-a5a4-571ac9352a5a",
      "metadata": {
        "id": "a39767eb-d453-478f-a5a4-571ac9352a5a",
        "outputId": "657f98f4-e4ed-4cca-94b1-c4ec95fe1f83"
      },
      "outputs": [
        {
          "ename": "IndentationError",
          "evalue": "unexpected indent (<unknown>, line 2)",
          "output_type": "error",
          "traceback": [
            "Traceback \u001b[0;36m(most recent call last)\u001b[0m:\n",
            "\u001b[0m  File \u001b[1;32m~/Рабочий стол/video-tagging/video-tag/lib/python3.10/site-packages/IPython/core/interactiveshell.py:3577\u001b[0m in \u001b[1;35mrun_code\u001b[0m\n    exec(code_obj, self.user_global_ns, self.user_ns)\u001b[0m\n",
            "\u001b[0m  Cell \u001b[1;32mIn[85], line 5\u001b[0m\n    whisper_df_emb = np.vstack(whisper_df.emb.apply(lambda x: string_to_numpy(x)))\u001b[0m\n",
            "\u001b[0m  File \u001b[1;32m~/Рабочий стол/video-tagging/video-tag/lib/python3.10/site-packages/pandas/core/series.py:4924\u001b[0m in \u001b[1;35mapply\u001b[0m\n    ).apply()\u001b[0m\n",
            "\u001b[0m  File \u001b[1;32m~/Рабочий стол/video-tagging/video-tag/lib/python3.10/site-packages/pandas/core/apply.py:1427\u001b[0m in \u001b[1;35mapply\u001b[0m\n    return self.apply_standard()\u001b[0m\n",
            "\u001b[0m  File \u001b[1;32m~/Рабочий стол/video-tagging/video-tag/lib/python3.10/site-packages/pandas/core/apply.py:1507\u001b[0m in \u001b[1;35mapply_standard\u001b[0m\n    mapped = obj._map_values(\u001b[0m\n",
            "\u001b[0m  File \u001b[1;32m~/Рабочий стол/video-tagging/video-tag/lib/python3.10/site-packages/pandas/core/base.py:921\u001b[0m in \u001b[1;35m_map_values\u001b[0m\n    return algorithms.map_array(arr, mapper, na_action=na_action, convert=convert)\u001b[0m\n",
            "\u001b[0m  File \u001b[1;32m~/Рабочий стол/video-tagging/video-tag/lib/python3.10/site-packages/pandas/core/algorithms.py:1743\u001b[0m in \u001b[1;35mmap_array\u001b[0m\n    return lib.map_infer(values, mapper, convert=convert)\u001b[0m\n",
            "\u001b[0m  File \u001b[1;32mlib.pyx:2972\u001b[0m in \u001b[1;35mpandas._libs.lib.map_infer\u001b[0m\n",
            "\u001b[0m  Cell \u001b[1;32mIn[85], line 5\u001b[0m in \u001b[1;35m<lambda>\u001b[0m\n    whisper_df_emb = np.vstack(whisper_df.emb.apply(lambda x: string_to_numpy(x)))\u001b[0m\n",
            "\u001b[0m  Cell \u001b[1;32mIn[17], line 20\u001b[0m in \u001b[1;35mstring_to_numpy\u001b[0m\n    tensor_data = ast.literal_eval(tensor_string)\u001b[0m\n",
            "\u001b[0m  File \u001b[1;32m/usr/lib/python3.10/ast.py:64\u001b[0m in \u001b[1;35mliteral_eval\u001b[0m\n    node_or_string = parse(node_or_string.lstrip(\" \\t\"), mode='eval')\u001b[0m\n",
            "\u001b[0;36m  File \u001b[0;32m/usr/lib/python3.10/ast.py:50\u001b[0;36m in \u001b[0;35mparse\u001b[0;36m\n\u001b[0;31m    return compile(source, filename, mode, flags,\u001b[0;36m\n",
            "\u001b[0;36m  File \u001b[0;32m<unknown>:2\u001b[0;36m\u001b[0m\n\u001b[0;31m    dtype=torch.float16\u001b[0m\n\u001b[0m    ^\u001b[0m\n\u001b[0;31mIndentationError\u001b[0m\u001b[0;31m:\u001b[0m unexpected indent\n"
          ]
        }
      ],
      "source": [
        "whisper_df = pd.read_csv('data/embeddings/whisper.csv')\n",
        "whisper_df.dropna(inplace=True)\n",
        "\n",
        "# whisper_df['label_new'] = whisper_df.label.apply(lambda x: tag_id_to_index[x])\n",
        "whisper_df_emb = np.vstack(whisper_df.emb.apply(lambda x: string_to_numpy(x)))\n",
        "whisper_df_emb"
      ]
    },
    {
      "cell_type": "code",
      "execution_count": null,
      "id": "62272c61-4131-47f3-86f1-2075d6a27f97",
      "metadata": {
        "id": "62272c61-4131-47f3-86f1-2075d6a27f97",
        "outputId": "1157a924-5f0b-4604-e26b-ef28643e6668"
      },
      "outputs": [
        {
          "data": {
            "text/plain": [
              "'[[0.37479353 0.42868598 0.68305662 ... 0.79010835 0.98197353 0.10749206]\\n [0.84141261 0.48978955 0.05141087 ... 0.53338855 0.74019714 0.22805642]\\n [0.30034419 0.19453843 0.44306205 ... 0.48031917 0.76141112 0.89792329]]'"
            ]
          },
          "execution_count": 100,
          "metadata": {},
          "output_type": "execute_result"
        }
      ],
      "source": [
        "df = pd.DataFrame()\n",
        "df['a'] = np.arange(10)\n",
        "df['b'] = [np.random.rand(3, 1024) for _ in range(10)]\n",
        "df.to_csv('temp.csv', index=False)\n",
        "\n",
        "df_2 = pd.read_csv('temp.csv')\n",
        "df_2['b'][0]"
      ]
    },
    {
      "cell_type": "code",
      "execution_count": null,
      "id": "cecfa34b-a42c-4d47-a6bf-da20460e0293",
      "metadata": {
        "id": "cecfa34b-a42c-4d47-a6bf-da20460e0293"
      },
      "outputs": [],
      "source": [
        "whisper_df = pd.read_csv('data/embeddings/whisper.csv')\n",
        "whisper_df.dropna(inplace=True)\n",
        "whisper_df['label_new'] = whisper_df.label.apply(lambda x: tag_id_to_index[x])\n",
        "whisper_df_emb = np.random.rand(whisper_df.shape[0], 1024)\n",
        "# np.vstack(whisper_df.emb.apply(lambda x: string_to_numpy(x))))"
      ]
    },
    {
      "cell_type": "code",
      "execution_count": null,
      "id": "f03e2b28-e385-40d2-bec2-56ca1828c0d7",
      "metadata": {
        "id": "f03e2b28-e385-40d2-bec2-56ca1828c0d7"
      },
      "outputs": [],
      "source": []
    },
    {
      "cell_type": "markdown",
      "id": "fabb515d-2784-43a5-8094-5ff450c43df0",
      "metadata": {
        "jp-MarkdownHeadingCollapsed": true,
        "id": "fabb515d-2784-43a5-8094-5ff450c43df0"
      },
      "source": [
        "## 1-NN (with metric learning?)"
      ]
    },
    {
      "cell_type": "code",
      "execution_count": null,
      "id": "b85ebfa0-301d-49e7-bf87-03dd3b9d72a9",
      "metadata": {
        "id": "b85ebfa0-301d-49e7-bf87-03dd3b9d72a9"
      },
      "outputs": [],
      "source": []
    },
    {
      "cell_type": "markdown",
      "id": "6e17bfb7-2ddf-4a4d-aafb-85862cd01054",
      "metadata": {
        "jp-MarkdownHeadingCollapsed": true,
        "id": "6e17bfb7-2ddf-4a4d-aafb-85862cd01054"
      },
      "source": [
        "## MLP"
      ]
    },
    {
      "cell_type": "code",
      "execution_count": null,
      "id": "7ab6af74-4e2d-49ae-977b-aa6d52bd7a2d",
      "metadata": {
        "id": "7ab6af74-4e2d-49ae-977b-aa6d52bd7a2d"
      },
      "outputs": [],
      "source": []
    },
    {
      "cell_type": "markdown",
      "id": "f68223dc-bf46-4471-9f4c-892d626ca75a",
      "metadata": {
        "jp-MarkdownHeadingCollapsed": true,
        "id": "f68223dc-bf46-4471-9f4c-892d626ca75a"
      },
      "source": [
        "## Gradient boosting"
      ]
    },
    {
      "cell_type": "code",
      "execution_count": null,
      "id": "93370802-060b-483b-98a9-01e9e4b09792",
      "metadata": {
        "id": "93370802-060b-483b-98a9-01e9e4b09792"
      },
      "outputs": [],
      "source": []
    }
  ],
  "metadata": {
    "kernelspec": {
      "display_name": "Python (video-tag)",
      "language": "python",
      "name": "video-tag"
    },
    "language_info": {
      "codemirror_mode": {
        "name": "ipython",
        "version": 3
      },
      "file_extension": ".py",
      "mimetype": "text/x-python",
      "name": "python",
      "nbconvert_exporter": "python",
      "pygments_lexer": "ipython3",
      "version": "3.10.12"
    },
    "colab": {
      "provenance": []
    }
  },
  "nbformat": 4,
  "nbformat_minor": 5
}